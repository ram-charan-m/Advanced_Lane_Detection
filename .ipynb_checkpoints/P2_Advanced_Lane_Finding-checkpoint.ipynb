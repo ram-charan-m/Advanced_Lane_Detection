{
 "cells": [
  {
   "cell_type": "markdown",
   "metadata": {},
   "source": [
    "## Import Packages"
   ]
  },
  {
   "cell_type": "code",
   "execution_count": 1,
   "metadata": {},
   "outputs": [],
   "source": [
    "import numpy as np\n",
    "import cv2\n",
    "import matplotlib.pyplot as plt\n",
    "import matplotlib.image as mpimg\n",
    "import glob\n",
    "import os\n",
    "%matplotlib inline"
   ]
  },
  {
   "cell_type": "markdown",
   "metadata": {},
   "source": [
    "## Misc"
   ]
  },
  {
   "cell_type": "code",
   "execution_count": 102,
   "metadata": {},
   "outputs": [],
   "source": [
    "# # Creating Frame Images from Project Video \n",
    "# # Read the video from specified path \n",
    "# cam = cv2.VideoCapture(\"project_video.mp4\") \n",
    "  \n",
    "# try:       \n",
    "#     # creating a folder named data \n",
    "#     if not os.path.exists('Video Frame Images'): \n",
    "#         os.makedirs('Video Frame Images') \n",
    "  \n",
    "# # if not created then raise error \n",
    "# except OSError: \n",
    "#     print ('Error: Creating directory of data') \n",
    "  \n",
    "# # frame \n",
    "# currentframe = 0\n",
    "  \n",
    "# while(True): \n",
    "      \n",
    "#     # reading from frame \n",
    "#     ret,frame = cam.read() \n",
    "  \n",
    "#     if ret: \n",
    "#         # if video is still left continue creating images \n",
    "#         name = './Video Frame Images/frame' + str(currentframe) + '.jpg'\n",
    "#         print ('Creating...' + name) \n",
    "  \n",
    "#         # writing the extracted images \n",
    "#         cv2.imwrite(name, frame) \n",
    "  \n",
    "#         # increasing counter so that it will \n",
    "#         # show how many frames are created \n",
    "#         currentframe += 1\n",
    "#     else: \n",
    "#         break\n",
    "\n",
    "\n",
    "# Straight lane images\n",
    "strt = []\n",
    "for image in glob.glob('test_images/straight_lines*.jpg'):\n",
    "    strt.append(cv2.imread(image))\n",
    "    \n",
    "# plt.imshow(cv2.imread('Video Frame Images/frame1050.jpg'))"
   ]
  },
  {
   "cell_type": "markdown",
   "metadata": {},
   "source": [
    "## Camera Calibration"
   ]
  },
  {
   "cell_type": "code",
   "execution_count": 3,
   "metadata": {},
   "outputs": [],
   "source": [
    "# Process: read in images and create imagepoints and objectpoints using which we can compute distortion coefficients and\n",
    "# tranformation matrix with the help of calibrateCamera OpenCV function and undistort image using OpenCV undistort function\n",
    "# calib_imgs = []\n",
    "objpts = []\n",
    "imgpts = []\n",
    "# img_cor = []\n",
    "objp = np.zeros((9*6, 3), np.float32)\n",
    "objp[:,:2] = np.mgrid[0:9,0:6].T.reshape(-1,2)\n",
    "\n",
    "for file in glob.glob('camera_cal/calibration*.jpg'):\n",
    "#     calib_imgs.append(cv2.imread(file))\n",
    "    img = cv2.imread(file)\n",
    "    gray = cv2.cvtColor(img,cv2.COLOR_BGR2GRAY)\n",
    "    ret, corners = cv2.findChessboardCorners(gray, (9, 6), None)\n",
    "    if ret == True:\n",
    "        imgpts.append(corners)\n",
    "        objpts.append(objp)        \n",
    "#         img_cor.append(cv2.drawChessboardCorners(img, (9, 6), corners, ret))\n",
    "        \n",
    "ret, mtx, dist, rvecs, tvecs = cv2.calibrateCamera(objpts, imgpts, gray.shape[::-1], None, None)\n",
    "\n",
    "# Test Images\n",
    "test = []\n",
    "for image in glob.glob('test_images/test*.jpg'):\n",
    "    test.append(cv2.imread(image))\n",
    "\n",
    "ctest = []\n",
    "for image in test:\n",
    "    ctest.append((image))\n",
    "\n",
    "# r_img = ctest[3][:,:,2]\n",
    "# s_img = (cv2.cvtColor(ctest[3],cv2.COLOR_RGB2HLS))[:,:,2]"
   ]
  },
  {
   "cell_type": "code",
   "execution_count": 8,
   "metadata": {},
   "outputs": [],
   "source": [
    "# def find_lane_pixels(binary_warped):\n",
    "\n",
    "#     histogram = np.sum(binary_warped[binary_warped.shape[0]//2:,:], axis=0)\n",
    "#     out_img = np.dstack((binary_warped*255, binary_warped*255, binary_warped*255))\n",
    "#     midpoint = np.int(histogram.shape[0]//2)\n",
    "#     leftx_base = np.argmax((histogram[:midpoint]))\n",
    "#     print(leftx_base)\n",
    "#     rightx_base = np.argmax((histogram[midpoint:])) + midpoint\n",
    "#     print(rightx_base)\n",
    "\n",
    "#     # HYPERPARAMETERS\n",
    "#     nwindows = 4\n",
    "#     margin = 100\n",
    "#     minpix = 100\n",
    "\n",
    "#     window_height = np.int(binary_warped.shape[0]//nwindows)\n",
    "#     nonzero = binary_warped.nonzero() # indices at which binar_warped has nonzero elements\n",
    "#     nonzeroy = np.array(nonzero[0]) # indices of nonzero elements of \n",
    "#     # rows of binary_warped \n",
    "#     nonzerox = np.array(nonzero[1]) # indices of nonzero elements of colums\n",
    "#     # of binary_warped\n",
    "#     leftx_current = leftx_base\n",
    "#     rightx_current = rightx_base\n",
    "\n",
    "#     #Empty lists to receive left and right lane pixel indices\n",
    "#     left_lane_inds = []\n",
    "#     right_lane_inds = []\n",
    "\n",
    "#     left_flag = 1\n",
    "#     right_flag = 1\n",
    "\n",
    "#     # Step through the left windows one by one\n",
    "#     for window in range(nwindows):\n",
    "\n",
    "#         if left_flag == 0:\n",
    "#             break\n",
    "\n",
    "#         win_y_low = binary_warped.shape[0] - (window+1)*window_height \n",
    "#         win_y_high = binary_warped.shape[0] - window*window_height\n",
    "#         win_xleft_low = leftx_current - (margin) \n",
    "#         win_xleft_high = leftx_current + (margin)  \n",
    "\n",
    "# #         cv2.rectangle(out_img,(win_xleft_low,win_y_low),(win_xleft_high,win_y_high),(0,255,0), 7) \n",
    "\n",
    "#         good_left_inds = ((nonzeroy >= win_y_low) & (nonzeroy < win_y_high) & (nonzerox >= win_xleft_low) &  (nonzerox < win_xleft_high)).nonzero()[0]\n",
    "\n",
    "#         left_lane_inds.append(good_left_inds)\n",
    "\n",
    "#         if len(good_left_inds) > minpix:\n",
    "#             leftx_current = np.int(np.mean(nonzerox[good_left_inds]))\n",
    "#         # Flag reset for high curvature lane ie lane out of frame    \n",
    "#         if len(good_left_inds) == 0:\n",
    "#             left_flag = 0\n",
    "\n",
    "#     for window in range(nwindows):\n",
    "#         if right_flag == 0:\n",
    "#             break\n",
    "\n",
    "#         win_y_low = binary_warped.shape[0] - (window+1)*window_height\n",
    "#         win_y_high = binary_warped.shape[0] - window*window_height\n",
    "#         win_xright_low = rightx_current - (margin) \n",
    "#         win_xright_high = rightx_current + (margin) \n",
    "\n",
    "# #         cv2.rectangle(out_img,(win_xright_low,win_y_low), (win_xright_high,win_y_high),(0,255,0), 7) \n",
    "\n",
    "#         good_right_inds = ((nonzeroy >= win_y_low) & (nonzeroy < win_y_high) & (nonzerox >= win_xright_low) &  (nonzerox < win_xright_high)).nonzero()[0]\n",
    "\n",
    "#         right_lane_inds.append(good_right_inds)\n",
    "\n",
    "#         if len(good_right_inds) > minpix:\n",
    "#             rightx_current = np.int(np.mean(nonzerox[good_right_inds]))\n",
    "#         # Flag reset for large curvature lane ie lane out of frame\n",
    "#         if len(good_right_inds) == 0:\n",
    "#             right_flag = 0   \n",
    "\n",
    "#     # Concatenate the arrays of indices (previously was a list of lists of pixels)\n",
    "#     try:\n",
    "#         left_lane_inds = np.concatenate(left_lane_inds)\n",
    "#         right_lane_inds = np.concatenate(right_lane_inds)\n",
    "#     except ValueError:\n",
    "#         pass\n",
    "\n",
    "#     leftx = nonzerox[left_lane_inds]\n",
    "#     lefty = nonzeroy[left_lane_inds] \n",
    "#     rightx = nonzerox[right_lane_inds]\n",
    "#     righty = nonzeroy[right_lane_inds]\n",
    "\n",
    "#     return leftx, lefty, rightx, righty, out_img\n",
    "\n",
    "# def fit_polynomial(binary_warped):\n",
    "#     # Find our lane pixels first\n",
    "#     leftx, lefty, rightx, righty, out_img = find_lane_pixels(binary_warped)\n",
    "\n",
    "#     ### TO-DO: Fit a second order polynomial to each using `np.polyfit` ###\n",
    "#     left_fit = np.polyfit(lefty,leftx,2)\n",
    "#     right_fit = np.polyfit(righty,rightx,2)\n",
    "\n",
    "#     # Generate x and y values for plotting\n",
    "#     ploty = np.linspace(0, binary_warped.shape[0]-1, binary_warped.shape[0] )\n",
    "#     try:\n",
    "#         left_fitx = left_fit[0]*ploty**2 + left_fit[1]*ploty + left_fit[2]\n",
    "#         right_fitx = right_fit[0]*ploty**2 + right_fit[1]*ploty + right_fit[2]\n",
    "#         fit_flag = 0\n",
    "#     except TypeError:\n",
    "#         # Avoids an error if `left` and `right_fit` are still none or incorrect\n",
    "#         print('The function failed to fit a line!')\n",
    "#         fit_flag = 1\n",
    "#         left_fitx = 1*ploty**2 + 1*ploty\n",
    "#         right_fitx = 1*ploty**2 + 1*ploty\n",
    "\n",
    "# #         ## Visualization ##\n",
    "# #     # Create an image to draw on and an image to show the selection window\n",
    "# #     window_img = np.zeros_like(out_img)\n",
    "# #     # Color in left and right line pixels\n",
    "# #     out_img[lefty, leftx] = [255, 0, 0]\n",
    "# #     out_img[righty, rightx] = [0, 0, 255]\n",
    "    \n",
    "# #     # Generate a polygon to illustrate the search window area\n",
    "# #     # And recast the x and y points into usable format for cv2.fillPoly()    \n",
    "# #     left_line = np.array([np.transpose(np.vstack([left_fitx, ploty]))])\n",
    "# #     right_line = np.array([np.flipud(np.transpose(np.vstack([right_fitx, \n",
    "# #                               ploty])))])\n",
    "# #     lane_line_pts = np.hstack((left_line, right_line))\n",
    "    \n",
    "# #     # Draw the lane onto the warped blank image\n",
    "# #     cv2.fillPoly(window_img, np.int_([lane_line_pts]), (0,255, 0))\n",
    "# #     result = cv2.addWeighted(out_img, 1, window_img, 0.3, 0)\n",
    "\n",
    "#     return left_fitx, right_fitx, ploty, leftx, lefty, rightx, righty\n",
    "\n",
    "# left_fitx, right_fitx, ploty, leftx, lefty, rightx, righty = fit_polynomial(persp_trans(sthresh(calibrator(cv2.imread('Video Frame Images/frame580.jpg')))))\n",
    "\n",
    "#     ## Visualization ##\n",
    "# # Create an image to draw on and an image to show the selection window\n",
    "# window_img = np.zeros_like(ctest[3])\n",
    "# # Generate a polygon to illustrate the lane\n",
    "# # And recast the x and y points into usable format for cv2.fillPoly()    \n",
    "# left_line = np.array([np.transpose(np.vstack([left_fitx, ploty]))])\n",
    "# right_line = np.array([np.flipud(np.transpose(np.vstack([right_fitx, \n",
    "#                           ploty])))])\n",
    "# lane_line_pts = np.hstack((left_line, right_line))\n",
    "\n",
    "# # Draw the lane onto the warped blank image\n",
    "# cv2.fillPoly(window_img, np.int_([lane_line_pts]), (0,255, 0))\n",
    "# # Color lane line pixels\n",
    "# # window_img[lefty, leftx] = [255, 0, 0]\n",
    "# # window_img[righty, rightx] = [0, 0, 255]\n",
    "\n",
    "\n",
    "# result = cv2.addWeighted(ctest[3], 1, inv_persp_trans(window_img), 0.3, 0)\n",
    "# plt.imshow(result)\n",
    "\n",
    "# # plt.imshow(fit_polynomial(persp_trans(sthresh(calibrator(ctest[3])))))\n",
    "\n",
    "# #         ## Visualization ##\n",
    "# #     # Create an image to draw on and an image to show the selection window\n",
    "# #     out_img = np.dstack((img, img, img))*255\n",
    "# #     window_img = np.zeros_like(out_img)\n",
    "# #     # Color in left and right line pixels\n",
    "# #     out_img[lefty, leftx] = [255, 0, 0]\n",
    "# #     out_img[righty, rightx] = [0, 0, 255]\n",
    "    \n",
    "# #     # Generate a polygon to illustrate the search window area\n",
    "# #     # And recast the x and y points into usable format for cv2.fillPoly()    \n",
    "# #     left_line = np.array([np.transpose(np.vstack([left_fitx, ploty]))])\n",
    "# #     right_line = np.array([np.flipud(np.transpose(np.vstack([right_fitx, \n",
    "# #                               ploty])))])\n",
    "# #     lane_line_pts = np.hstack((left_line, right_line))\n",
    "    \n",
    "# #     # Draw the lane onto the warped blank image\n",
    "# #     cv2.fillPoly(window_img, np.int_([lane_line_pts]), (0,255, 0))\n",
    "# #     result = cv2.addWeighted(out_img, 1, window_img, 0.3, 0)\n",
    "        "
   ]
  },
  {
   "cell_type": "markdown",
   "metadata": {},
   "source": [
    "## Function Defnitions"
   ]
  },
  {
   "cell_type": "code",
   "execution_count": 40,
   "metadata": {},
   "outputs": [],
   "source": [
    "# Camera Calibrator\n",
    "def calibrator(img):\n",
    "    dist = np.array([[-0.24688507,-0.02373155,-0.00109831,0.00035107,-0.00259868]])\n",
    "    mtx = np.array([[1.15777818e+03, 0.00000000e+00, 6.67113857e+02],[0.00000000e+00, 1.15282217e+03, 3.86124583e+02],[0.00000000e+00,0.00000000e+00,1.00000000e+00]])\n",
    "    return cv2.undistort(img, mtx, dist, None, mtx)\n",
    "\n",
    "#==============================================================================================================================\n",
    "# Color and Gradient Threshold Function\n",
    "def sthresh(im):\n",
    "    xthresh = [30,80] # fine\n",
    "    ythresh = [0,100] # not useful\n",
    "    mthresh = [20,100] # not useful\n",
    "    dthresh = [0.3,1.3] # fine\n",
    "    rcthresh = [220,255] # fine\n",
    "    scthresh = [110,255] # fine\n",
    "    \n",
    "    r_img = im[:,:,2]\n",
    "    s_img = (cv2.cvtColor(im,cv2.COLOR_RGB2HLS))[:,:,2]\n",
    "    \n",
    "    gray = cv2.cvtColor(im,cv2.COLOR_BGR2GRAY)\n",
    "    \n",
    "    sobelx = cv2.Sobel(gray, cv2.CV_64F, 1, 0, ksize = 19)\n",
    "    sobely = cv2.Sobel(gray, cv2.CV_64F, 0, 1, ksize = 19)\n",
    "    abs_sobelx = (sobelx**2)**(0.5)\n",
    "    abs_sobely = (sobely**2)**(0.5)\n",
    "    dir_sobel = np.arctan2(abs_sobely,abs_sobelx)\n",
    "    abs_sobel = np.sqrt(sobelx**2 + sobely**2)\n",
    "    \n",
    "    scaled_sobel = np.uint8(255*abs_sobel/np.max(abs_sobel))\n",
    "    scaled_sobelx = np.uint8(255*abs_sobelx/np.max(abs_sobelx))\n",
    "    scaled_sobely = np.uint8(255*abs_sobely/np.max(abs_sobely))\n",
    "    \n",
    "    sxbin = np.zeros_like(scaled_sobel)\n",
    "    sybin = np.zeros_like(scaled_sobel)\n",
    "    dsbin = np.zeros_like(scaled_sobel)\n",
    "    msbin = np.zeros_like(scaled_sobel)\n",
    "    combin1 = np.zeros_like(scaled_sobel)\n",
    "    combin2 = np.zeros_like(scaled_sobel)\n",
    "    combin3 = np.zeros_like(scaled_sobel)\n",
    "    combin4 = np.zeros_like(scaled_sobel)\n",
    "    rbin = np.zeros_like(r_img)\n",
    "    sbin = np.zeros_like(s_img)    \n",
    "    \n",
    "    sxbin[(scaled_sobelx > xthresh[0]) & (scaled_sobelx < xthresh[1])] = 1 # peforms poorly only in lighter(whiter) roads\n",
    "    sybin[(scaled_sobely > ythresh[0]) & (scaled_sobely < ythresh[1])] = 1 # sybin is not very useful compared to sxbin\n",
    "    msbin[(scaled_sobel > mthresh[0]) & (scaled_sobel < mthresh[1])] = 1 # adds junk from ysobel\n",
    "    dsbin[(dir_sobel > dthresh[0]) & (dir_sobel < dthresh[1])] = 1 # lot of junk with lanes\n",
    "    rbin[(r_img >= rcthresh[0]) & (r_img <= rcthresh[1])] = 1 # best except shadows\n",
    "    sbin[(s_img >= scthresh[0]) & (s_img <= scthresh[1])] = 1 # decent every condition\n",
    "    \n",
    "    # Good combos\n",
    "    combin1[(((sbin==1) & (rbin==1)) | (sxbin==1))  & (dsbin==1)] = 1\n",
    "    combin2[(((sbin==1) | (rbin==1)) | (sxbin==1))] = 1\n",
    "    combin3[(sbin==1) | (rbin==1)] = 1\n",
    "    combin4[((sbin==1) & (rbin==1)) | ((sxbin==1) & (sybin==1))] = 1\n",
    "    \n",
    "    return combin4\n",
    "# # PLOT calibrated img vs threshold binary image\n",
    "# f, (ax1, ax2) = plt.subplots(1, 2, figsize=(24, 9))\n",
    "# f.tight_layout()\n",
    "# ax1.imshow(ctest[5])\n",
    "# ax1.set_title('Original Image', fontsize=50)\n",
    "# ax2.imshow(sthresh(ctest[5]))\n",
    "# ax2.set_title('Undistorted Image', fontsize=50)\n",
    "# plt.subplots_adjust(left=0., right=1, top=0.9, bottom=0.)\n",
    "\n",
    "# #============================================================================================================================\n",
    "# Perspective and Inverse Perspective Transform functions\n",
    "\n",
    "def inv_persp_trans(img):\n",
    "    img_size = (img.shape[1],img.shape[0])\n",
    "    src = np.float32([ [200,720], [1050,720], [678,447], [600,447]])\n",
    "    dst = np.float32([ [300,720], [900,720], [900,0], [300,0]])\n",
    "    M = cv2.getPerspectiveTransform(dst, src)\n",
    "    warp = cv2.warpPerspective(img, M, img_size, flags=cv2.INTER_LINEAR)\n",
    "    return warp\n",
    "\n",
    "def persp_trans(img):\n",
    "    img_size = (img.shape[1],img.shape[0])\n",
    "    src = np.float32([ [200,720], [1050,720], [678,447], [600,447]])\n",
    "    dst = np.float32([ [300,720], [900,720], [900,0], [300,0]])\n",
    "    M = cv2.getPerspectiveTransform(src,dst)\n",
    "    warp = cv2.warpPerspective(img, M, img_size, flags=cv2.INTER_LINEAR)\n",
    "    return warp\n",
    "\n",
    "def region_of_interest(img):\n",
    "    #defining a blank mask to start with - whole image is zeros\n",
    "    mask = np.zeros_like(img) \n",
    "    \n",
    "    v1 = [100,img.shape[0]]\n",
    "    v2 = [img.shape[1]-50,img.shape[0]]\n",
    "    v3 = [img.shape[1]-50,0]\n",
    "    v4 = [100,0]\n",
    "    vertices=np.array([(v1,v2,v3,v4)])\n",
    "    \n",
    "    #defining a 3 channel or 1 channel color to fill the mask with depending on the input image - simply fills the color channel\n",
    "    # image is in; if its a full channel, then the original image, gray, then just gray, etc\n",
    "    if len(img.shape) > 2:\n",
    "        channel_count = img.shape[2]  # i.e. 3 or 4 depending on your image\n",
    "        ignore_mask_color = (255,) * channel_count\n",
    "    else:\n",
    "        ignore_mask_color = 255\n",
    "        \n",
    "    #filling pixels inside the polygon defined by \"vertices\" with the fill color    \n",
    "    cv2.fillPoly(mask, vertices, ignore_mask_color) # - vertices order is important to form the desired polygon shape\n",
    "    # creates the channel in expressed polygon with others as zero\n",
    "    \n",
    "    # need an automated method to detect vertices of interest\n",
    "    \n",
    "    #returning the image only where mask pixels are nonzero\n",
    "    masked_image = cv2.bitwise_and(img, mask) #gives masked img as bitwise func adds img elements in nonzero,i.e., in polygon \n",
    "    return masked_image\n",
    "\n",
    "# # PLOT calibrated img vs threshold binary image\n",
    "# f, (ax1, ax2) = plt.subplots(1, 2, figsize=(24, 9))\n",
    "# f.tight_layout()\n",
    "# ax1.imshow(persp_trans(sthresh(ctest[5])))\n",
    "# ax1.set_title('Warped Image', fontsize=50)\n",
    "# ax2.imshow(sthresh(ctest[5]))\n",
    "# ax2.set_title('Thresholded Image', fontsize=50)\n",
    "# plt.subplots_adjust(left=0., right=1, top=0.9, bottom=0.)\n",
    "\n",
    "#====================================================================================================================\n",
    "# Video frame test images\n",
    "test1 = persp_trans(sthresh(frame_test[0]))\n",
    "test2 = persp_trans(sthresh(frame_test[1]))# test image for function validation\n",
    "#====================================================================================================================\n",
    "\n",
    "# Find Lane Lines initially functions\n",
    "def find_lane_pixels(binary_warped):\n",
    "\n",
    "    histogram = np.sum(binary_warped[binary_warped.shape[0]//2:,:], axis=0)\n",
    "    out_img = np.dstack((binary_warped*255, binary_warped*255, binary_warped*255))\n",
    "    midpoint = np.int(histogram.shape[0]//2)\n",
    "    leftx_base = np.argmax(histogram[:midpoint])\n",
    "    rightx_base = np.argmax(histogram[midpoint:]) + midpoint\n",
    "\n",
    "    # HYPERPARAMETERS\n",
    "    nwindows = 4\n",
    "    margin = 100\n",
    "    minpix = 100\n",
    "\n",
    "    window_height = np.int(binary_warped.shape[0]//nwindows)\n",
    "    nonzero = binary_warped.nonzero() # indices at which binar_warped has nonzero elements\n",
    "    nonzeroy = np.array(nonzero[0]) # indices of nonzero elements of \n",
    "    # rows of binary_warped \n",
    "    nonzerox = np.array(nonzero[1]) # indices of nonzero elements of colums\n",
    "    # of binary_warped\n",
    "    leftx_current = leftx_base\n",
    "    rightx_current = rightx_base\n",
    "\n",
    "    #Empty lists to receive left and right lane pixel indices\n",
    "    left_lane_inds = []\n",
    "    right_lane_inds = []\n",
    "\n",
    "    left_flag = 1\n",
    "    right_flag = 1\n",
    "\n",
    "    # Step through the left windows one by one\n",
    "    for window in range(nwindows):\n",
    "\n",
    "#         if left_flag == 0:\n",
    "#             break\n",
    "\n",
    "        win_y_low = binary_warped.shape[0] - (window+1)*window_height \n",
    "        win_y_high = binary_warped.shape[0] - window*window_height\n",
    "        win_xleft_low = leftx_current - (margin) \n",
    "        win_xleft_high = leftx_current + (margin)  \n",
    "\n",
    "        cv2.rectangle(out_img,(win_xleft_low,win_y_low),(win_xleft_high,win_y_high),(0,255,0), 7) \n",
    "\n",
    "        good_left_inds = ((nonzeroy >= win_y_low) & (nonzeroy < win_y_high) & (nonzerox >= win_xleft_low) &  (nonzerox < win_xleft_high)).nonzero()[0]\n",
    "\n",
    "        left_lane_inds.append(good_left_inds)\n",
    "\n",
    "        if len(good_left_inds) > minpix:\n",
    "            leftx_current = np.int(np.mean(nonzerox[good_left_inds]))\n",
    "        # Flag reset for high curvature lane ie lane out of frame    \n",
    "        if len(good_left_inds) == 0:\n",
    "            left_flag = 0\n",
    "\n",
    "    for window in range(nwindows):\n",
    "#         if right_flag == 0:\n",
    "#             break\n",
    "\n",
    "        win_y_low = binary_warped.shape[0] - (window+1)*window_height\n",
    "        win_y_high = binary_warped.shape[0] - window*window_height\n",
    "        win_xright_low = rightx_current - (margin) \n",
    "        win_xright_high = rightx_current + (margin) \n",
    "\n",
    "        cv2.rectangle(out_img,(win_xright_low,win_y_low), (win_xright_high,win_y_high),(0,255,0), 7) \n",
    "\n",
    "        good_right_inds = ((nonzeroy >= win_y_low) & (nonzeroy < win_y_high) & (nonzerox >= win_xright_low) &  (nonzerox < win_xright_high)).nonzero()[0]\n",
    "\n",
    "        right_lane_inds.append(good_right_inds)\n",
    "\n",
    "        if len(good_right_inds) > minpix:\n",
    "            rightx_current = np.int(np.mean(nonzerox[good_right_inds]))\n",
    "        # Flag reset for large curvature lane ie lane out of frame\n",
    "        if len(good_right_inds) == 0:\n",
    "            right_flag = 0   \n",
    "\n",
    "    # Concatenate the arrays of indices (previously was a list of lists of pixels)\n",
    "    try:\n",
    "        left_lane_inds = np.concatenate(left_lane_inds)\n",
    "        right_lane_inds = np.concatenate(right_lane_inds)\n",
    "    except ValueError:\n",
    "        pass\n",
    "\n",
    "    leftx = nonzerox[left_lane_inds]\n",
    "    lefty = nonzeroy[left_lane_inds] \n",
    "    rightx = nonzerox[right_lane_inds]\n",
    "    righty = nonzeroy[right_lane_inds]\n",
    "\n",
    "    return leftx, lefty, rightx, righty\n",
    "\n",
    "def fit_polynomial(binary_warped):\n",
    "    fit_flag = 0\n",
    "    # Find our lane pixels first\n",
    "    leftx, lefty, rightx, righty = find_lane_pixels(binary_warped)\n",
    "\n",
    "    ### TO-DO: Fit a second order polynomial to each using `np.polyfit` ###\n",
    "    left_fit = np.polyfit(lefty,leftx,2)\n",
    "    right_fit = np.polyfit(righty,rightx,2)\n",
    "\n",
    "    # Generate x and y values for plotting\n",
    "    ploty = np.linspace(0, binary_warped.shape[0]-1, binary_warped.shape[0] )\n",
    "    try:\n",
    "        left_fitx = left_fit[0]*ploty**2 + left_fit[1]*ploty + left_fit[2]\n",
    "        right_fitx = right_fit[0]*ploty**2 + right_fit[1]*ploty + right_fit[2]\n",
    "        fit_flag = 0\n",
    "    except TypeError:\n",
    "        # Avoids an error if `left` and `right_fit` are still none or incorrect\n",
    "        print('The function failed to fit a line!')\n",
    "        fit_flag = 1\n",
    "        left_fitx = 1*ploty**2 + 1*ploty\n",
    "        right_fitx = 1*ploty**2 + 1*ploty\n",
    "\n",
    "#     ## Visualization ##\n",
    "#     # Colors in the left and right lane regions\n",
    "#     out_img[lefty, leftx] = [255, 0, 0]\n",
    "#     out_img[righty, rightx] = [0, 0, 255]\n",
    "\n",
    "#     # Plots the left and right polynomials on the lane lines\n",
    "#     plt.plot(left_fitx,ploty, color='white')\n",
    "#     plt.plot(right_fitx,ploty, color='white')\n",
    "\n",
    "    return left_fit, right_fit, ploty, fit_flag\n",
    "#============================================================================================================================\n",
    "\n",
    "# After first frame lane line detection\n",
    "def fit_poly(img_shape, leftx, lefty, rightx, righty):\n",
    "    fit_flag = 0\n",
    "    ### TO-DO: Fit a second order polynomial to each with np.polyfit() ###\n",
    "    left_fit = np.polyfit(lefty, leftx, 2)\n",
    "    right_fit = np.polyfit(righty, rightx, 2)\n",
    "    # Generate x and y values for plotting\n",
    "    ploty = np.linspace(0, img_shape[0]-1, img_shape[0])\n",
    "    ### TO-DO: Calc both polynomials using ploty, left_fit and right_fit ###\n",
    "    try:\n",
    "        left_fitx = left_fit[0]*ploty**2 + left_fit[1]*ploty + left_fit[2] \n",
    "        right_fitx = right_fit[0]*ploty**2 + right_fit[1]*ploty + right_fit[2] \n",
    "        fit_flag = 0\n",
    "    except TypeError:\n",
    "    # Avoids an error if `left` and `right_fit` are still none or incorrect\n",
    "        print('The function failed to fit a line!')\n",
    "        fit_flag = 1\n",
    "        left_fitx = 1*ploty**2 + 1*ploty\n",
    "        right_fitx = 1*ploty**2 + 1*ploty\n",
    "    \n",
    "    \n",
    "    return left_fit, right_fit, ploty, fit_flag\n",
    "\n",
    "def targeted_lane_search(img, left_fit, right_fit):\n",
    "#     left_fit, right_fit, ploty = fit_polynomial(img) # First frame fit coefficients\n",
    "\n",
    "# #     For testing\n",
    "#     left_fit = np.array([ -1.82904696e-05, 7.34004683e-02, 1.53926681e+02])\n",
    "#     right_fit = np.array([  1.39554306e-04, -1.62273165e-01, 1.15337075e+03])\n",
    "    margin = 100\n",
    "    nonzero = img.nonzero()\n",
    "    nonzeroy = np.array(nonzero[0])\n",
    "    nonzerox = np.array(nonzero[1])\n",
    "    \n",
    "    left_lane_inds = ((nonzerox >= left_fit[0]*nonzeroy**2 + left_fit[1]*nonzeroy \\\n",
    "                    + left_fit[2] - margin) & (nonzerox <= left_fit[0]*nonzeroy**2 \\\n",
    "                    + left_fit[1]*nonzeroy + left_fit[2] + margin))\n",
    "    \n",
    "    right_lane_inds = ((nonzerox >= right_fit[0]*nonzeroy**2 + right_fit[1]*nonzeroy \\\n",
    "                    + right_fit[2] - margin) & (nonzerox <= right_fit[0]*nonzeroy**2 \\\n",
    "                    + right_fit[1]*nonzeroy + right_fit[2] + margin))\n",
    "\n",
    "    leftx = nonzerox[left_lane_inds]\n",
    "    lefty = nonzeroy[left_lane_inds] \n",
    "    rightx = nonzerox[right_lane_inds]\n",
    "    righty = nonzeroy[right_lane_inds]\n",
    "\n",
    "    left_fit, right_fit, ploty, fit_flag = fit_poly(img.shape, leftx, lefty, rightx, righty)\n",
    "    \n",
    "#     xm_per_pix = 3.7/900# meters per pixel in x\n",
    "#     ym_per_pix = 30/720# meters per pixel in y\n",
    "    \n",
    "#     left_fit_cr = np.polyfit(ym_per_pix*lefty, xm_per_pix*leftx, 2)\n",
    "#     right_fit_cr = np.polyfit(ym_per_pix*righty, xm_per_pix*rightx, 2)    \n",
    "   \n",
    "#     ## Visualization ##\n",
    "#     # Create an image to draw on and an image to show the selection window\n",
    "#     out_img = np.dstack((img, img, img))*255\n",
    "#     window_img = np.zeros_like(out_img)\n",
    "#     # Color in left and right line pixels\n",
    "#     out_img[nonzeroy[left_lane_inds], nonzerox[left_lane_inds]] = [255, 0, 0]\n",
    "#     out_img[nonzeroy[right_lane_inds], nonzerox[right_lane_inds]] = [0, 0, 255]\n",
    "\n",
    "#     # Generate a polygon to illustrate the search window area\n",
    "#     # And recast the x and y points into usable format for cv2.fillPoly()    \n",
    "#     left_line_window1 = np.array([np.transpose(np.vstack([left_fitx - margin, ploty]))])\n",
    "#     left_line_window2 = np.array([np.flipud(np.transpose(np.vstack([left_fitx + margin, \n",
    "#                               ploty])))])\n",
    "#     left_line_pts = np.hstack((left_line_window1, left_line_window2))\n",
    "#     right_line_window1 = np.array([np.transpose(np.vstack([right_fitx - margin, ploty]))])\n",
    "#     right_line_window2 = np.array([np.flipud(np.transpose(np.vstack([right_fitx + margin, \n",
    "#                               ploty])))])\n",
    "#     right_line_pts = np.hstack((right_line_window1, right_line_window2))\n",
    "    \n",
    "#     # Draw the lane onto the warped blank image\n",
    "#     cv2.fillPoly(window_img, np.int_([left_line_pts]), (0,255, 0))\n",
    "#     cv2.fillPoly(window_img, np.int_([right_line_pts]), (0,255, 0))\n",
    "#     result = cv2.addWeighted(out_img, 1, window_img, 0.3, 0)\n",
    "    \n",
    "    # Plot the polynomial lines onto the image\n",
    "#     plt.plot(left_fitx, ploty, color='yellow')\n",
    "#     plt.plot(right_fitx, ploty, color='yellow')\n",
    "    # End visualization steps ##\n",
    "    \n",
    "    return left_fit, right_fit, ploty, fit_flag\n",
    "#============================================================================================================================\n",
    "# Curvature and vehicle lane position Function\n",
    "\n",
    "def curvature(lfit, rfit, ploty):\n",
    "\n",
    "    xm = 3.7/900# meters per pixel in x\n",
    "    ym = 30/720# meters per pixel in y\n",
    "\n",
    "    y_eval_m = np.max(ploty)*ym\n",
    "\n",
    "    #converting fit coefficients from pixels to meters\n",
    "    left_fit_cr = [lfit[0]*((xm)/(ym**2)), lfit[1]*((xm)/ym), lfit[2]]\n",
    "    right_fit_cr = [rfit[0]*((xm)/(ym**2)), rfit[1]*((xm)/ym), rfit[2]]\n",
    "\n",
    "    left_curverad = (( 1+ ((( 2*left_fit_cr[0]*y_eval_m) + left_fit_cr[1])**2))**(1.5)) / np.absolute(2*left_fit_cr[0])  ## Implement the calculation of the left line here\n",
    "    right_curverad = (( 1+ ((( 2*right_fit_cr[0]*y_eval_m) + right_fit_cr[1])**2))**(1.5)) / np.absolute(2*right_fit_cr[0])  ## Implement the calculation of the right line here\n",
    "    \n",
    "    veh_xpos = (1280/2)*xm\n",
    "    ylane_high = 720\n",
    "    xleft = (lfit[0]*(ylane_high**2) + lfit[1]*(ylane_high) + lfit[2])*xm\n",
    "    xright = (rfit[0]*(ylane_high**2) + rfit[1]*(ylane_high) + rfit[2])*xm\n",
    "    lane_mid = xleft + ((xright - xleft)/2)\n",
    "    veh_ln_pos = veh_xpos - lane_mid # in meters\n",
    "    \n",
    "    return left_curverad, right_curverad, veh_ln_pos, xleft, xright\n",
    "#=============================================================================================================================="
   ]
  },
  {
   "cell_type": "markdown",
   "metadata": {},
   "source": [
    "## LANE DETECTION\n"
   ]
  },
  {
   "cell_type": "code",
   "execution_count": 13,
   "metadata": {},
   "outputs": [],
   "source": [
    "from moviepy.editor import VideoFileClip\n",
    "from IPython.display import HTML"
   ]
  },
  {
   "cell_type": "code",
   "execution_count": 97,
   "metadata": {},
   "outputs": [],
   "source": [
    "# Define a class to receive the characteristics of each line detection\n",
    "        \n",
    "class left_lane():\n",
    "    # was the line detected in the last iteration\n",
    "    detected = False  \n",
    "    #polynomial coefficients for the most recent fit\n",
    "    current_fit_coeff = []\n",
    "    #radius of curvature of the line in some units\n",
    "    radius_of_curvature = None \n",
    "    #x values for detected line pixels\n",
    "    allx = None\n",
    "    # lane start x location in meters\n",
    "    xcoord = None\n",
    "    def reset():\n",
    "        # was the line detected in the last iteration\n",
    "        left_lane.detected = False  \n",
    "        #polynomial coefficients for the most recent fit\n",
    "        left_lane.current_fit_coeff = []\n",
    "        #radius of curvature of the line in some units\n",
    "        left_lane.radius_of_curvature = None \n",
    "        #x values for detected line pixels\n",
    "        left_lane.allx = None\n",
    "        # lane start x location in meters\n",
    "        left_lane.xcoord = None\n",
    "        \n",
    "    \n",
    "class right_lane():\n",
    "    # was the line detected in the last iteration\n",
    "    detected = False  \n",
    "    #polynomial coefficients for the most recent fit\n",
    "    current_fit_coeff = []\n",
    "    #radius of curvature of the line in some units\n",
    "    radius_of_curvature = None \n",
    "    #x values for detected line pixels\n",
    "    allx = None\n",
    "    # lane start x location in meters\n",
    "    xcoord = None\n",
    "    def reset():\n",
    "        # was the line detected in the last iteration\n",
    "        right_lane.detected = False  \n",
    "        #polynomial coefficients for the most recent fit\n",
    "        right_lane.current_fit_coeff = []\n",
    "        #radius of curvature of the line in some units\n",
    "        right_lane.radius_of_curvature = None \n",
    "        #x values for detected line pixels\n",
    "        right_lane.allx = None\n",
    "        # lane start x location in meters\n",
    "        right_lane.xcoord = None\n",
    "\n",
    "class Sanity():\n",
    "    sanity_flag = None # 0 is good, 1 is bad\n",
    "    def reset():\n",
    "        Sanity.sanity_flag = None\n",
    "        \n",
    "def lane_detector(img):         \n",
    "    \n",
    "    # step1: apply camera calibration to current frame\n",
    "    calibrated_img = calibrator(img)    \n",
    "    \n",
    "    # step2: apply thresholds and convert image to binary\n",
    "    thresh_bin_img = sthresh(calibrated_img)  \n",
    "    \n",
    "    # step3: perspective transform and masking unwanted borders\n",
    "    persp_bin_img = persp_trans(thresh_bin_img)\n",
    "    persp_bin_img = region_of_interest(persp_bin_img)       \n",
    "    \n",
    "    # Option A:\n",
    "    # if left and right lines == (empty) OR (not empty & unacceptable based on sanity checks) - initial lane line detection\n",
    "    # will return y coords and left and right fit coefficents\n",
    "    if (((left_lane.detected == False) & (right_lane.detected == False)) | (Sanity.sanity_flag == 1)):\n",
    "        left_lane.current_fit_coeff, right_lane.current_fit_coeff, ploty, fit_flag = fit_polynomial(persp_bin_img)\n",
    "        print('Sliding window being executed...')\n",
    "        # setting fit attributes of lane class objects to fit coefficients calculated\n",
    "        \n",
    "        #step6: lane curvature and vehicle position within the lane calculation\n",
    "        left_lane.radius_of_curvature, right_lane.radius_of_curvature, veh_ln_pos,left_lane.xcoord,right_lane.xcoord  = curvature(left_lane.current_fit_coeff, right_lane.current_fit_coeff, ploty)           \n",
    "        \n",
    "        # Line detection check\n",
    "        if fit_flag == 0:\n",
    "            left_lane.detected = True\n",
    "            right_lane.detected = True\n",
    "        if fit_flag == 1:\n",
    "            left_lane.detected = False\n",
    "            right_lane.detected = False\n",
    "            \n",
    "#         print((left_lane.radius_of_curvature - right_lane.radius_of_curvature))\n",
    "#         print(left_lane.current_fit_coeff[0]-right_lane.current_fit_coeff[0])\n",
    "#         print(left_lane.current_fit_coeff[1]-right_lane.current_fit_coeff[1])\n",
    "#         print(left_lane.radius_of_curvature)\n",
    "#         print(right_lane.radius_of_curvature)\n",
    "#         print(left_lane.xcoord - right_lane.xcoord)        \n",
    "        \n",
    "        #Sanity check        \n",
    "        if ( ((left_lane.radius_of_curvature - right_lane.radius_of_curvature) <= 1200) & \\\n",
    "             ((left_lane.radius_of_curvature - right_lane.radius_of_curvature) >= -1200) & \\\n",
    "             ((left_lane.current_fit_coeff[0]-right_lane.current_fit_coeff[0]) <= 1) & \\\n",
    "             ((left_lane.current_fit_coeff[0]-right_lane.current_fit_coeff[0]) >= -1) & \\\n",
    "             ((left_lane.current_fit_coeff[1]-right_lane.current_fit_coeff[1]) <= 1) & \\\n",
    "             ((left_lane.current_fit_coeff[1]-right_lane.current_fit_coeff[1]) >= -1) & \\\n",
    "             (left_lane.radius_of_curvature <= 1200) & (right_lane.radius_of_curvature <= 1200) & \\\n",
    "             ((left_lane.xcoord - right_lane.xcoord) <= 4) & ((left_lane.xcoord - right_lane.xcoord) >= -4) ):\n",
    "            Sanity.sanity_flag = 0\n",
    "        else:\n",
    "            Sanity.sanity_flag = 1       \n",
    "    \n",
    "        print('Sanity flag=', Sanity.sanity_flag)\n",
    "        print('Are lanes detected?',left_lane.detected,right_lane.detected)\n",
    "    # Option B: \n",
    "    # if left and right lines == (not empty) & (accepetable based on sanity checks) - Targeted lane detection\n",
    "    # use returned y coords and left and right fit coefficents for a targeted search \n",
    "    elif ((((left_lane.detected == True) & (right_lane.detected == True)) & (Sanity.sanity_flag == 0))):\n",
    "        left_lane.current_fit_coeff, right_lane.current_fit_coeff, ploty, fit_flag = targeted_lane_search(persp_bin_img, left_lane.current_fit_coeff, right_lane.current_fit_coeff)\n",
    "        print('Targeted Search being executed...')\n",
    "        # Line detection check\n",
    "        if fit_flag == 0:\n",
    "            left_lane.detected = True\n",
    "            right_lane.detected = True\n",
    "        if fit_flag == 1:\n",
    "            left_lane.detected = False\n",
    "            right_lane.detected = False\n",
    "\n",
    "        #Sanity check        \n",
    "        if ( ((left_lane.radius_of_curvature - right_lane.radius_of_curvature) <= 1200) & \\\n",
    "             ((left_lane.radius_of_curvature - right_lane.radius_of_curvature) >= -1200) & \\\n",
    "             ((left_lane.current_fit_coeff[0]-right_lane.current_fit_coeff[0]) <= 1) & \\\n",
    "             ((left_lane.current_fit_coeff[0]-right_lane.current_fit_coeff[0]) >= -1) & \\\n",
    "             ((left_lane.current_fit_coeff[1]-right_lane.current_fit_coeff[1]) <= 1) & \\\n",
    "             ((left_lane.current_fit_coeff[1]-right_lane.current_fit_coeff[1]) >= -1) & \\\n",
    "             (left_lane.radius_of_curvature <= 1200) & (right_lane.radius_of_curvature <= 1200) & \\\n",
    "             ((left_lane.xcoord - right_lane.xcoord) <= 4) & ((left_lane.xcoord - right_lane.xcoord) >= -4) ):\n",
    "            Sanity.sanity_flag = 0\n",
    "        else:\n",
    "            Sanity.sanity_flag = 1\n",
    "            \n",
    "        #step6: lane curvature and vehicle position within the lane calculation\n",
    "        left_lane.radius_of_curvature, right_lane.radius_of_curvature, veh_ln_pos,left_lane.xcoord,right_lane.xcoord  = curvature(left_lane.current_fit_coeff, right_lane.current_fit_coeff, ploty)           \n",
    "          \n",
    "            \n",
    "    #step7: Return frame with lane shaded, displaying lane curvature and vehicle postion within the lane\n",
    "    left_lane.allx = left_lane.current_fit_coeff[0]*(ploty**2) + left_lane.current_fit_coeff[1]*ploty + left_lane.current_fit_coeff[2]\n",
    "    right_lane.allx = right_lane.current_fit_coeff[0]*(ploty**2) + right_lane.current_fit_coeff[1]*ploty + right_lane.current_fit_coeff[2]\n",
    "    left_lane.ally = ploty\n",
    "    right_lane.ally = ploty\n",
    "    \n",
    "        ## Visualization ##\n",
    "    # Create an image to draw on and an image to show the selection window\n",
    "    window_img = np.zeros_like(img)\n",
    "    # Generate a polygon to illustrate the lane\n",
    "    # And recast the x and y points into usable format for cv2.fillPoly()    \n",
    "    left_line = np.array([np.transpose(np.vstack([left_lane.allx, left_lane.ally]))])\n",
    "    right_line = np.array([np.flipud(np.transpose(np.vstack([right_lane.allx, right_lane.ally])))])\n",
    "    lane_line_pts = np.hstack((left_line, right_line))\n",
    "\n",
    "    # Draw the lane onto the warped blank image\n",
    "    cv2.fillPoly(window_img, np.int_([lane_line_pts]), (0,255, 0))\n",
    "    result = cv2.addWeighted(img, 1, inv_persp_trans(window_img), 0.3, 0)\n",
    "    return result   "
   ]
  },
  {
   "cell_type": "code",
   "execution_count": 76,
   "metadata": {},
   "outputs": [
    {
     "name": "stdout",
     "output_type": "stream",
     "text": [
      "Sliding window being executed...\n",
      "948.960623617\n",
      "1701.13649603\n",
      "Sanity flag= 1\n",
      "Are lanes detected? True True\n",
      "1\n"
     ]
    },
    {
     "data": {
      "image/png": "[encoded data removed]",
      "text/plain": [
       "<matplotlib.figure.Figure at 0x7f3e89792ef0>"
      ]
     },
     "metadata": {
      "needs_background": "light"
     },
     "output_type": "display_data"
    }
   ],
   "source": [
    "plt.imshow(lane_detector(cv2.imread('Video Frame Images/frame570.jpg')))"
   ]
  },
  {
   "cell_type": "code",
   "execution_count": 37,
   "metadata": {},
   "outputs": [],
   "source": [
    "# prblem frames\n",
    "# 595 - curving towards wrong direction"
   ]
  },
  {
   "cell_type": "code",
   "execution_count": 38,
   "metadata": {
    "scrolled": true
   },
   "outputs": [
    {
     "name": "stdout",
     "output_type": "stream",
     "text": [
      "Sliding window being executed...\n",
      "Sanity flag= 1\n",
      "Are lanes detected? True True\n",
      "[MoviePy] >>>> Building video Project_Output_Videos/project_video_subclip_check2.mp4\n",
      "[MoviePy] Writing video Project_Output_Videos/project_video_subclip_check2.mp4\n"
     ]
    },
    {
     "name": "stderr",
     "output_type": "stream",
     "text": [
      "\n",
      "  0%|          | 0/126 [00:00<?, ?it/s]\u001b[A\n",
      "  1%|          | 1/126 [00:00<00:31,  3.95it/s]"
     ]
    },
    {
     "name": "stdout",
     "output_type": "stream",
     "text": [
      "Sliding window being executed...\n",
      "Sanity flag= 1\n",
      "Are lanes detected? True True\n"
     ]
    },
    {
     "name": "stderr",
     "output_type": "stream",
     "text": [
      "\u001b[A\n",
      "  2%|▏         | 2/126 [00:00<00:32,  3.79it/s]"
     ]
    },
    {
     "name": "stdout",
     "output_type": "stream",
     "text": [
      "Sliding window being executed...\n",
      "Sanity flag= 1\n",
      "Are lanes detected? True True\n"
     ]
    },
    {
     "name": "stderr",
     "output_type": "stream",
     "text": [
      "\u001b[A\n",
      "  2%|▏         | 3/126 [00:00<00:32,  3.77it/s]"
     ]
    },
    {
     "name": "stdout",
     "output_type": "stream",
     "text": [
      "Sliding window being executed...\n",
      "Sanity flag= 1\n",
      "Are lanes detected? True True\n"
     ]
    },
    {
     "name": "stderr",
     "output_type": "stream",
     "text": [
      "\u001b[A\n",
      "  3%|▎         | 4/126 [00:01<00:32,  3.73it/s]"
     ]
    },
    {
     "name": "stdout",
     "output_type": "stream",
     "text": [
      "Sliding window being executed...\n",
      "Sanity flag= 1\n",
      "Are lanes detected? True True\n"
     ]
    },
    {
     "name": "stderr",
     "output_type": "stream",
     "text": [
      "\u001b[A\n",
      "  4%|▍         | 5/126 [00:01<00:32,  3.73it/s]"
     ]
    },
    {
     "name": "stdout",
     "output_type": "stream",
     "text": [
      "Sliding window being executed...\n",
      "Sanity flag= 1\n",
      "Are lanes detected? True True\n"
     ]
    },
    {
     "name": "stderr",
     "output_type": "stream",
     "text": [
      "\u001b[A\n",
      "  5%|▍         | 6/126 [00:01<00:32,  3.66it/s]"
     ]
    },
    {
     "name": "stdout",
     "output_type": "stream",
     "text": [
      "Sliding window being executed...\n",
      "Sanity flag= 1\n",
      "Are lanes detected? True True\n"
     ]
    },
    {
     "name": "stderr",
     "output_type": "stream",
     "text": [
      "\u001b[A\n",
      "  6%|▌         | 7/126 [00:01<00:32,  3.70it/s]"
     ]
    },
    {
     "name": "stdout",
     "output_type": "stream",
     "text": [
      "Sliding window being executed...\n",
      "Sanity flag= 1\n",
      "Are lanes detected? True True\n"
     ]
    },
    {
     "name": "stderr",
     "output_type": "stream",
     "text": [
      "\u001b[A\n",
      "  6%|▋         | 8/126 [00:02<00:32,  3.66it/s]"
     ]
    },
    {
     "name": "stdout",
     "output_type": "stream",
     "text": [
      "Sliding window being executed...\n",
      "Sanity flag= 1\n",
      "Are lanes detected? True True\n"
     ]
    },
    {
     "name": "stderr",
     "output_type": "stream",
     "text": [
      "\u001b[A\n",
      "  7%|▋         | 9/126 [00:02<00:31,  3.70it/s]"
     ]
    },
    {
     "name": "stdout",
     "output_type": "stream",
     "text": [
      "Sliding window being executed...\n",
      "Sanity flag= 1\n",
      "Are lanes detected? True True\n"
     ]
    },
    {
     "name": "stderr",
     "output_type": "stream",
     "text": [
      "\u001b[A\n",
      "  8%|▊         | 10/126 [00:02<00:32,  3.61it/s]"
     ]
    },
    {
     "name": "stdout",
     "output_type": "stream",
     "text": [
      "Sliding window being executed...\n",
      "Sanity flag= 1\n",
      "Are lanes detected? True True\n"
     ]
    },
    {
     "name": "stderr",
     "output_type": "stream",
     "text": [
      "\u001b[A\n",
      "  9%|▊         | 11/126 [00:03<00:31,  3.65it/s]"
     ]
    },
    {
     "name": "stdout",
     "output_type": "stream",
     "text": [
      "Sliding window being executed...\n",
      "Sanity flag= 1\n",
      "Are lanes detected? True True\n"
     ]
    },
    {
     "name": "stderr",
     "output_type": "stream",
     "text": [
      "\u001b[A\n",
      " 10%|▉         | 12/126 [00:03<00:31,  3.62it/s]"
     ]
    },
    {
     "name": "stdout",
     "output_type": "stream",
     "text": [
      "Sliding window being executed...\n",
      "Sanity flag= 1\n",
      "Are lanes detected? True True\n"
     ]
    },
    {
     "name": "stderr",
     "output_type": "stream",
     "text": [
      "\u001b[A\n",
      " 10%|█         | 13/126 [00:03<00:30,  3.66it/s]"
     ]
    },
    {
     "name": "stdout",
     "output_type": "stream",
     "text": [
      "Sliding window being executed...\n",
      "Sanity flag= 1\n",
      "Are lanes detected? True True\n"
     ]
    },
    {
     "name": "stderr",
     "output_type": "stream",
     "text": [
      "\u001b[A\n",
      " 11%|█         | 14/126 [00:03<00:30,  3.63it/s]"
     ]
    },
    {
     "name": "stdout",
     "output_type": "stream",
     "text": [
      "Sliding window being executed...\n",
      "Sanity flag= 1\n",
      "Are lanes detected? True True\n"
     ]
    },
    {
     "name": "stderr",
     "output_type": "stream",
     "text": [
      "\u001b[A\n",
      " 12%|█▏        | 15/126 [00:04<00:30,  3.68it/s]"
     ]
    },
    {
     "name": "stdout",
     "output_type": "stream",
     "text": [
      "Sliding window being executed...\n",
      "Sanity flag= 1\n",
      "Are lanes detected? True True\n"
     ]
    },
    {
     "name": "stderr",
     "output_type": "stream",
     "text": [
      "\u001b[A\n",
      " 13%|█▎        | 16/126 [00:04<00:30,  3.63it/s]"
     ]
    },
    {
     "name": "stdout",
     "output_type": "stream",
     "text": [
      "Sliding window being executed...\n",
      "Sanity flag= 1\n",
      "Are lanes detected? True True\n"
     ]
    },
    {
     "name": "stderr",
     "output_type": "stream",
     "text": [
      "\u001b[A\n",
      " 13%|█▎        | 17/126 [00:04<00:29,  3.65it/s]"
     ]
    },
    {
     "name": "stdout",
     "output_type": "stream",
     "text": [
      "Sliding window being executed...\n",
      "Sanity flag= 1\n",
      "Are lanes detected? True True\n"
     ]
    },
    {
     "name": "stderr",
     "output_type": "stream",
     "text": [
      "\u001b[A\n",
      " 14%|█▍        | 18/126 [00:04<00:29,  3.62it/s]"
     ]
    },
    {
     "name": "stdout",
     "output_type": "stream",
     "text": [
      "Sliding window being executed...\n",
      "Sanity flag= 1\n",
      "Are lanes detected? True True\n"
     ]
    },
    {
     "name": "stderr",
     "output_type": "stream",
     "text": [
      "\u001b[A\n",
      " 15%|█▌        | 19/126 [00:05<00:29,  3.67it/s]"
     ]
    },
    {
     "name": "stdout",
     "output_type": "stream",
     "text": [
      "Sliding window being executed...\n",
      "Sanity flag= 1\n",
      "Are lanes detected? True True\n"
     ]
    },
    {
     "name": "stderr",
     "output_type": "stream",
     "text": [
      "\u001b[A\n",
      " 16%|█▌        | 20/126 [00:05<00:29,  3.64it/s]"
     ]
    },
    {
     "name": "stdout",
     "output_type": "stream",
     "text": [
      "Sliding window being executed...\n",
      "Sanity flag= 1\n",
      "Are lanes detected? True True\n"
     ]
    },
    {
     "name": "stderr",
     "output_type": "stream",
     "text": [
      "\u001b[A\n",
      " 17%|█▋        | 21/126 [00:05<00:28,  3.67it/s]"
     ]
    },
    {
     "name": "stdout",
     "output_type": "stream",
     "text": [
      "Sliding window being executed...\n",
      "Sanity flag= 1\n",
      "Are lanes detected? True True\n"
     ]
    },
    {
     "name": "stderr",
     "output_type": "stream",
     "text": [
      "\u001b[A\n",
      " 17%|█▋        | 22/126 [00:06<00:28,  3.64it/s]"
     ]
    },
    {
     "name": "stdout",
     "output_type": "stream",
     "text": [
      "Sliding window being executed...\n",
      "Sanity flag= 1\n",
      "Are lanes detected? True True\n"
     ]
    },
    {
     "name": "stderr",
     "output_type": "stream",
     "text": [
      "\u001b[A\n",
      " 18%|█▊        | 23/126 [00:06<00:27,  3.70it/s]"
     ]
    },
    {
     "name": "stdout",
     "output_type": "stream",
     "text": [
      "Sliding window being executed...\n",
      "Sanity flag= 0\n",
      "Are lanes detected? True True\n"
     ]
    },
    {
     "name": "stderr",
     "output_type": "stream",
     "text": [
      "\u001b[A\n",
      " 19%|█▉        | 24/126 [00:06<00:27,  3.66it/s]"
     ]
    },
    {
     "name": "stdout",
     "output_type": "stream",
     "text": [
      "Sliding window being executed...\n",
      "Sanity flag= 0\n",
      "Are lanes detected? True True\n"
     ]
    },
    {
     "name": "stderr",
     "output_type": "stream",
     "text": [
      "\u001b[A\n",
      " 20%|█▉        | 25/126 [00:06<00:27,  3.68it/s]"
     ]
    },
    {
     "name": "stdout",
     "output_type": "stream",
     "text": [
      "Sliding window being executed...\n",
      "Sanity flag= 0\n",
      "Are lanes detected? True True\n"
     ]
    },
    {
     "name": "stderr",
     "output_type": "stream",
     "text": [
      "\u001b[A\n",
      " 21%|██        | 26/126 [00:07<00:27,  3.63it/s]"
     ]
    },
    {
     "name": "stdout",
     "output_type": "stream",
     "text": [
      "Sliding window being executed...\n",
      "Sanity flag= 0\n",
      "Are lanes detected? True True\n"
     ]
    },
    {
     "name": "stderr",
     "output_type": "stream",
     "text": [
      "\u001b[A\n",
      " 21%|██▏       | 27/126 [00:07<00:27,  3.66it/s]"
     ]
    },
    {
     "name": "stdout",
     "output_type": "stream",
     "text": [
      "Sliding window being executed...\n",
      "Sanity flag= 0\n",
      "Are lanes detected? True True\n"
     ]
    },
    {
     "name": "stderr",
     "output_type": "stream",
     "text": [
      "\u001b[A\n",
      " 22%|██▏       | 28/126 [00:07<00:26,  3.63it/s]"
     ]
    },
    {
     "name": "stdout",
     "output_type": "stream",
     "text": [
      "Sliding window being executed...\n",
      "Sanity flag= 0\n",
      "Are lanes detected? True True\n"
     ]
    },
    {
     "name": "stderr",
     "output_type": "stream",
     "text": [
      "\u001b[A\n",
      " 23%|██▎       | 29/126 [00:07<00:26,  3.68it/s]"
     ]
    },
    {
     "name": "stdout",
     "output_type": "stream",
     "text": [
      "Sliding window being executed...\n",
      "Sanity flag= 1\n",
      "Are lanes detected? True True\n"
     ]
    },
    {
     "name": "stderr",
     "output_type": "stream",
     "text": [
      "\u001b[A\n",
      " 24%|██▍       | 30/126 [00:08<00:26,  3.63it/s]"
     ]
    },
    {
     "name": "stdout",
     "output_type": "stream",
     "text": [
      "Sliding window being executed...\n",
      "Sanity flag= 1\n",
      "Are lanes detected? True True\n"
     ]
    },
    {
     "name": "stderr",
     "output_type": "stream",
     "text": [
      "\u001b[A\n",
      " 25%|██▍       | 31/126 [00:08<00:25,  3.68it/s]"
     ]
    },
    {
     "name": "stdout",
     "output_type": "stream",
     "text": [
      "Sliding window being executed...\n",
      "Sanity flag= 1\n",
      "Are lanes detected? True True\n"
     ]
    },
    {
     "name": "stderr",
     "output_type": "stream",
     "text": [
      "\u001b[A\n",
      " 25%|██▌       | 32/126 [00:08<00:25,  3.66it/s]"
     ]
    },
    {
     "name": "stdout",
     "output_type": "stream",
     "text": [
      "Sliding window being executed...\n",
      "Sanity flag= 1\n",
      "Are lanes detected? True True\n"
     ]
    },
    {
     "name": "stderr",
     "output_type": "stream",
     "text": [
      "\u001b[A\n",
      " 26%|██▌       | 33/126 [00:09<00:24,  3.73it/s]"
     ]
    },
    {
     "name": "stdout",
     "output_type": "stream",
     "text": [
      "Sliding window being executed...\n",
      "Sanity flag= 0\n",
      "Are lanes detected? True True\n"
     ]
    },
    {
     "name": "stderr",
     "output_type": "stream",
     "text": [
      "\u001b[A\n",
      " 27%|██▋       | 34/126 [00:09<00:24,  3.70it/s]"
     ]
    },
    {
     "name": "stdout",
     "output_type": "stream",
     "text": [
      "Sliding window being executed...\n",
      "Sanity flag= 0\n",
      "Are lanes detected? True True\n"
     ]
    },
    {
     "name": "stderr",
     "output_type": "stream",
     "text": [
      "\u001b[A\n",
      " 28%|██▊       | 35/126 [00:09<00:24,  3.76it/s]"
     ]
    },
    {
     "name": "stdout",
     "output_type": "stream",
     "text": [
      "Sliding window being executed...\n",
      "Sanity flag= 0\n",
      "Are lanes detected? True True\n"
     ]
    },
    {
     "name": "stderr",
     "output_type": "stream",
     "text": [
      "\u001b[A\n",
      " 29%|██▊       | 36/126 [00:09<00:24,  3.75it/s]"
     ]
    },
    {
     "name": "stdout",
     "output_type": "stream",
     "text": [
      "Sliding window being executed...\n",
      "Sanity flag= 0\n",
      "Are lanes detected? True True\n"
     ]
    },
    {
     "name": "stderr",
     "output_type": "stream",
     "text": [
      "\u001b[A\n",
      " 29%|██▉       | 37/126 [00:10<00:23,  3.74it/s]"
     ]
    },
    {
     "name": "stdout",
     "output_type": "stream",
     "text": [
      "Sliding window being executed...\n",
      "Sanity flag= 0\n",
      "Are lanes detected? True True\n"
     ]
    },
    {
     "name": "stderr",
     "output_type": "stream",
     "text": [
      "\u001b[A\n",
      " 30%|███       | 38/126 [00:10<00:23,  3.71it/s]"
     ]
    },
    {
     "name": "stdout",
     "output_type": "stream",
     "text": [
      "Sliding window being executed...\n",
      "Sanity flag= 0\n",
      "Are lanes detected? True True\n"
     ]
    },
    {
     "name": "stderr",
     "output_type": "stream",
     "text": [
      "\u001b[A\n",
      " 31%|███       | 39/126 [00:10<00:23,  3.70it/s]"
     ]
    },
    {
     "name": "stdout",
     "output_type": "stream",
     "text": [
      "Sliding window being executed...\n",
      "Sanity flag= 1\n",
      "Are lanes detected? True True\n"
     ]
    },
    {
     "name": "stderr",
     "output_type": "stream",
     "text": [
      "\u001b[A\n",
      " 32%|███▏      | 40/126 [00:10<00:23,  3.69it/s]"
     ]
    },
    {
     "name": "stdout",
     "output_type": "stream",
     "text": [
      "Sliding window being executed...\n",
      "Sanity flag= 0\n",
      "Are lanes detected? True True\n"
     ]
    },
    {
     "name": "stderr",
     "output_type": "stream",
     "text": [
      "\u001b[A\n",
      " 33%|███▎      | 41/126 [00:11<00:22,  3.71it/s]"
     ]
    },
    {
     "name": "stdout",
     "output_type": "stream",
     "text": [
      "Sliding window being executed...\n",
      "Sanity flag= 1\n",
      "Are lanes detected? True True\n"
     ]
    },
    {
     "name": "stderr",
     "output_type": "stream",
     "text": [
      "\u001b[A\n",
      " 33%|███▎      | 42/126 [00:11<00:22,  3.73it/s]"
     ]
    },
    {
     "name": "stdout",
     "output_type": "stream",
     "text": [
      "Sliding window being executed...\n",
      "Sanity flag= 1\n",
      "Are lanes detected? True True\n"
     ]
    },
    {
     "name": "stderr",
     "output_type": "stream",
     "text": [
      "\u001b[A\n",
      " 34%|███▍      | 43/126 [00:12<00:30,  2.75it/s]"
     ]
    },
    {
     "name": "stdout",
     "output_type": "stream",
     "text": [
      "Sliding window being executed...\n",
      "Sanity flag= 1\n",
      "Are lanes detected? True True\n"
     ]
    },
    {
     "name": "stderr",
     "output_type": "stream",
     "text": [
      "\u001b[A\n",
      " 35%|███▍      | 44/126 [00:12<00:29,  2.81it/s]"
     ]
    },
    {
     "name": "stdout",
     "output_type": "stream",
     "text": [
      "Sliding window being executed...\n",
      "Sanity flag= 1\n",
      "Are lanes detected? True True\n"
     ]
    },
    {
     "name": "stderr",
     "output_type": "stream",
     "text": [
      "\u001b[A\n",
      " 36%|███▌      | 45/126 [00:12<00:28,  2.81it/s]"
     ]
    },
    {
     "name": "stdout",
     "output_type": "stream",
     "text": [
      "Sliding window being executed...\n",
      "Sanity flag= 1\n",
      "Are lanes detected? True True\n"
     ]
    },
    {
     "name": "stderr",
     "output_type": "stream",
     "text": [
      "\u001b[A\n",
      " 37%|███▋      | 46/126 [00:13<00:28,  2.82it/s]"
     ]
    },
    {
     "name": "stdout",
     "output_type": "stream",
     "text": [
      "Sliding window being executed...\n",
      "Sanity flag= 1\n",
      "Are lanes detected? True True\n"
     ]
    },
    {
     "name": "stderr",
     "output_type": "stream",
     "text": [
      "\u001b[A\n",
      " 37%|███▋      | 47/126 [00:13<00:28,  2.79it/s]"
     ]
    },
    {
     "name": "stdout",
     "output_type": "stream",
     "text": [
      "Sliding window being executed...\n",
      "Sanity flag= 1\n",
      "Are lanes detected? True True\n"
     ]
    },
    {
     "name": "stderr",
     "output_type": "stream",
     "text": [
      "\u001b[A\n",
      " 38%|███▊      | 48/126 [00:13<00:28,  2.78it/s]"
     ]
    },
    {
     "name": "stdout",
     "output_type": "stream",
     "text": [
      "Sliding window being executed...\n",
      "Sanity flag= 1\n",
      "Are lanes detected? True True\n"
     ]
    },
    {
     "name": "stderr",
     "output_type": "stream",
     "text": [
      "\u001b[A\n",
      " 39%|███▉      | 49/126 [00:14<00:30,  2.54it/s]"
     ]
    },
    {
     "name": "stdout",
     "output_type": "stream",
     "text": [
      "Sliding window being executed...\n",
      "Sanity flag= 1\n",
      "Are lanes detected? True True\n"
     ]
    },
    {
     "name": "stderr",
     "output_type": "stream",
     "text": [
      "\u001b[A\n",
      " 40%|███▉      | 50/126 [00:14<00:29,  2.56it/s]"
     ]
    },
    {
     "name": "stdout",
     "output_type": "stream",
     "text": [
      "Sliding window being executed...\n",
      "Sanity flag= 1\n",
      "Are lanes detected? True True\n"
     ]
    },
    {
     "name": "stderr",
     "output_type": "stream",
     "text": [
      "\u001b[A\n",
      " 40%|████      | 51/126 [00:15<00:28,  2.62it/s]"
     ]
    },
    {
     "name": "stdout",
     "output_type": "stream",
     "text": [
      "Sliding window being executed...\n",
      "Sanity flag= 1\n",
      "Are lanes detected? True True\n"
     ]
    },
    {
     "name": "stderr",
     "output_type": "stream",
     "text": [
      "\u001b[A\n",
      " 41%|████▏     | 52/126 [00:15<00:27,  2.69it/s]"
     ]
    },
    {
     "name": "stdout",
     "output_type": "stream",
     "text": [
      "Sliding window being executed...\n",
      "Sanity flag= 0\n",
      "Are lanes detected? True True\n"
     ]
    },
    {
     "name": "stderr",
     "output_type": "stream",
     "text": [
      "\u001b[A\n",
      " 42%|████▏     | 53/126 [00:15<00:27,  2.64it/s]"
     ]
    },
    {
     "name": "stdout",
     "output_type": "stream",
     "text": [
      "Sliding window being executed...\n",
      "Sanity flag= 1\n",
      "Are lanes detected? True True\n"
     ]
    },
    {
     "name": "stderr",
     "output_type": "stream",
     "text": [
      "\u001b[A\n",
      " 43%|████▎     | 54/126 [00:16<00:26,  2.68it/s]"
     ]
    },
    {
     "name": "stdout",
     "output_type": "stream",
     "text": [
      "Sliding window being executed...\n",
      "Sanity flag= 1\n",
      "Are lanes detected? True True\n"
     ]
    },
    {
     "name": "stderr",
     "output_type": "stream",
     "text": [
      "\u001b[A\n",
      " 44%|████▎     | 55/126 [00:16<00:26,  2.68it/s]"
     ]
    },
    {
     "name": "stdout",
     "output_type": "stream",
     "text": [
      "Sliding window being executed...\n",
      "Sanity flag= 1\n",
      "Are lanes detected? True True\n"
     ]
    },
    {
     "name": "stderr",
     "output_type": "stream",
     "text": [
      "\u001b[A\n",
      " 44%|████▍     | 56/126 [00:16<00:25,  2.71it/s]"
     ]
    },
    {
     "name": "stdout",
     "output_type": "stream",
     "text": [
      "Sliding window being executed...\n",
      "Sanity flag= 1\n",
      "Are lanes detected? True True\n"
     ]
    },
    {
     "name": "stderr",
     "output_type": "stream",
     "text": [
      "\u001b[A\n",
      " 45%|████▌     | 57/126 [00:17<00:25,  2.73it/s]"
     ]
    },
    {
     "name": "stdout",
     "output_type": "stream",
     "text": [
      "Sliding window being executed...\n",
      "Sanity flag= 1\n",
      "Are lanes detected? True True\n"
     ]
    },
    {
     "name": "stderr",
     "output_type": "stream",
     "text": [
      "\u001b[A\n",
      " 46%|████▌     | 58/126 [00:17<00:24,  2.77it/s]"
     ]
    },
    {
     "name": "stdout",
     "output_type": "stream",
     "text": [
      "Sliding window being executed...\n",
      "Sanity flag= 1\n",
      "Are lanes detected? True True\n"
     ]
    },
    {
     "name": "stderr",
     "output_type": "stream",
     "text": [
      "\u001b[A\n",
      " 47%|████▋     | 59/126 [00:17<00:24,  2.76it/s]"
     ]
    },
    {
     "name": "stdout",
     "output_type": "stream",
     "text": [
      "Sliding window being executed...\n",
      "Sanity flag= 1\n",
      "Are lanes detected? True True\n"
     ]
    },
    {
     "name": "stderr",
     "output_type": "stream",
     "text": [
      "\u001b[A\n",
      " 48%|████▊     | 60/126 [00:18<00:23,  2.75it/s]"
     ]
    },
    {
     "name": "stdout",
     "output_type": "stream",
     "text": [
      "Sliding window being executed...\n",
      "Sanity flag= 1\n",
      "Are lanes detected? True True\n"
     ]
    },
    {
     "name": "stderr",
     "output_type": "stream",
     "text": [
      "\u001b[A\n",
      " 48%|████▊     | 61/126 [00:18<00:24,  2.69it/s]"
     ]
    },
    {
     "name": "stdout",
     "output_type": "stream",
     "text": [
      "Sliding window being executed...\n",
      "Sanity flag= 1\n",
      "Are lanes detected? True True\n"
     ]
    },
    {
     "name": "stderr",
     "output_type": "stream",
     "text": [
      "\u001b[A\n",
      " 49%|████▉     | 62/126 [00:19<00:23,  2.75it/s]"
     ]
    },
    {
     "name": "stdout",
     "output_type": "stream",
     "text": [
      "Sliding window being executed...\n",
      "Sanity flag= 1\n",
      "Are lanes detected? True True\n"
     ]
    },
    {
     "name": "stderr",
     "output_type": "stream",
     "text": [
      "\u001b[A\n",
      " 50%|█████     | 63/126 [00:19<00:23,  2.67it/s]"
     ]
    },
    {
     "name": "stdout",
     "output_type": "stream",
     "text": [
      "Sliding window being executed...\n",
      "Sanity flag= 1\n",
      "Are lanes detected? True True\n"
     ]
    },
    {
     "name": "stderr",
     "output_type": "stream",
     "text": [
      "\u001b[A\n",
      " 51%|█████     | 64/126 [00:19<00:22,  2.73it/s]"
     ]
    },
    {
     "name": "stdout",
     "output_type": "stream",
     "text": [
      "Sliding window being executed...\n",
      "Sanity flag= 0\n",
      "Are lanes detected? True True\n"
     ]
    },
    {
     "name": "stderr",
     "output_type": "stream",
     "text": [
      "\u001b[A\n",
      " 52%|█████▏    | 65/126 [00:20<00:22,  2.66it/s]"
     ]
    },
    {
     "name": "stdout",
     "output_type": "stream",
     "text": [
      "Sliding window being executed...\n",
      "Sanity flag= 1\n",
      "Are lanes detected? True True\n"
     ]
    },
    {
     "name": "stderr",
     "output_type": "stream",
     "text": [
      "\u001b[A\n",
      " 52%|█████▏    | 66/126 [00:20<00:22,  2.72it/s]"
     ]
    },
    {
     "name": "stdout",
     "output_type": "stream",
     "text": [
      "Sliding window being executed...\n",
      "Sanity flag= 1\n",
      "Are lanes detected? True True\n"
     ]
    },
    {
     "name": "stderr",
     "output_type": "stream",
     "text": [
      "\u001b[A\n",
      " 53%|█████▎    | 67/126 [00:20<00:22,  2.64it/s]"
     ]
    },
    {
     "name": "stdout",
     "output_type": "stream",
     "text": [
      "Sliding window being executed...\n",
      "Sanity flag= 1\n",
      "Are lanes detected? True True\n"
     ]
    },
    {
     "name": "stderr",
     "output_type": "stream",
     "text": [
      "\u001b[A\n",
      " 54%|█████▍    | 68/126 [00:21<00:21,  2.73it/s]"
     ]
    },
    {
     "name": "stdout",
     "output_type": "stream",
     "text": [
      "Sliding window being executed...\n",
      "Sanity flag= 1\n",
      "Are lanes detected? True True\n"
     ]
    },
    {
     "name": "stderr",
     "output_type": "stream",
     "text": [
      "\u001b[A\n",
      " 55%|█████▍    | 69/126 [00:21<00:21,  2.66it/s]"
     ]
    },
    {
     "name": "stdout",
     "output_type": "stream",
     "text": [
      "Sliding window being executed...\n",
      "Sanity flag= 0\n",
      "Are lanes detected? True True\n"
     ]
    },
    {
     "name": "stderr",
     "output_type": "stream",
     "text": [
      "\u001b[A\n",
      " 56%|█████▌    | 70/126 [00:21<00:20,  2.73it/s]"
     ]
    },
    {
     "name": "stdout",
     "output_type": "stream",
     "text": [
      "Sliding window being executed...\n",
      "Sanity flag= 1\n",
      "Are lanes detected? True True\n"
     ]
    },
    {
     "name": "stderr",
     "output_type": "stream",
     "text": [
      "\u001b[A\n",
      " 56%|█████▋    | 71/126 [00:22<00:20,  2.65it/s]"
     ]
    },
    {
     "name": "stdout",
     "output_type": "stream",
     "text": [
      "Sliding window being executed...\n",
      "Sanity flag= 1\n",
      "Are lanes detected? True True\n"
     ]
    },
    {
     "name": "stderr",
     "output_type": "stream",
     "text": [
      "\u001b[A\n",
      " 57%|█████▋    | 72/126 [00:22<00:19,  2.71it/s]"
     ]
    },
    {
     "name": "stdout",
     "output_type": "stream",
     "text": [
      "Sliding window being executed...\n",
      "Sanity flag= 1\n",
      "Are lanes detected? True True\n"
     ]
    },
    {
     "name": "stderr",
     "output_type": "stream",
     "text": [
      "\u001b[A\n",
      " 58%|█████▊    | 73/126 [00:23<00:20,  2.65it/s]"
     ]
    },
    {
     "name": "stdout",
     "output_type": "stream",
     "text": [
      "Sliding window being executed...\n",
      "Sanity flag= 1\n",
      "Are lanes detected? True True\n"
     ]
    },
    {
     "name": "stderr",
     "output_type": "stream",
     "text": [
      "\u001b[A\n",
      " 59%|█████▊    | 74/126 [00:23<00:19,  2.69it/s]"
     ]
    },
    {
     "name": "stdout",
     "output_type": "stream",
     "text": [
      "Sliding window being executed...\n",
      "Sanity flag= 1\n",
      "Are lanes detected? True True\n"
     ]
    },
    {
     "name": "stderr",
     "output_type": "stream",
     "text": [
      "\u001b[A\n",
      " 60%|█████▉    | 75/126 [00:23<00:19,  2.66it/s]"
     ]
    },
    {
     "name": "stdout",
     "output_type": "stream",
     "text": [
      "Sliding window being executed...\n",
      "Sanity flag= 1\n",
      "Are lanes detected? True True\n"
     ]
    },
    {
     "name": "stderr",
     "output_type": "stream",
     "text": [
      "\u001b[A\n",
      " 60%|██████    | 76/126 [00:24<00:18,  2.73it/s]"
     ]
    },
    {
     "name": "stdout",
     "output_type": "stream",
     "text": [
      "Sliding window being executed...\n",
      "Sanity flag= 1\n",
      "Are lanes detected? True True\n"
     ]
    },
    {
     "name": "stderr",
     "output_type": "stream",
     "text": [
      "\u001b[A\n",
      " 61%|██████    | 77/126 [00:24<00:18,  2.67it/s]"
     ]
    },
    {
     "name": "stdout",
     "output_type": "stream",
     "text": [
      "Sliding window being executed...\n",
      "Sanity flag= 1\n",
      "Are lanes detected? True True\n"
     ]
    },
    {
     "name": "stderr",
     "output_type": "stream",
     "text": [
      "\u001b[A\n",
      " 62%|██████▏   | 78/126 [00:24<00:17,  2.72it/s]"
     ]
    },
    {
     "name": "stdout",
     "output_type": "stream",
     "text": [
      "Sliding window being executed...\n",
      "Sanity flag= 1\n",
      "Are lanes detected? True True\n"
     ]
    },
    {
     "name": "stderr",
     "output_type": "stream",
     "text": [
      "\u001b[A\n",
      " 63%|██████▎   | 79/126 [00:25<00:17,  2.71it/s]"
     ]
    },
    {
     "name": "stdout",
     "output_type": "stream",
     "text": [
      "Sliding window being executed...\n",
      "Sanity flag= 1\n",
      "Are lanes detected? True True\n"
     ]
    },
    {
     "name": "stderr",
     "output_type": "stream",
     "text": [
      "\u001b[A\n",
      " 63%|██████▎   | 80/126 [00:25<00:17,  2.70it/s]"
     ]
    },
    {
     "name": "stdout",
     "output_type": "stream",
     "text": [
      "Sliding window being executed...\n",
      "Sanity flag= 0\n",
      "Are lanes detected? True True\n"
     ]
    },
    {
     "name": "stderr",
     "output_type": "stream",
     "text": [
      "\u001b[A\n",
      " 64%|██████▍   | 81/126 [00:26<00:16,  2.71it/s]"
     ]
    },
    {
     "name": "stdout",
     "output_type": "stream",
     "text": [
      "Sliding window being executed...\n",
      "Sanity flag= 1\n",
      "Are lanes detected? True True\n"
     ]
    },
    {
     "name": "stderr",
     "output_type": "stream",
     "text": [
      "\u001b[A\n",
      " 65%|██████▌   | 82/126 [00:26<00:16,  2.72it/s]"
     ]
    },
    {
     "name": "stdout",
     "output_type": "stream",
     "text": [
      "Sliding window being executed...\n",
      "Sanity flag= 1\n",
      "Are lanes detected? True True\n"
     ]
    },
    {
     "name": "stderr",
     "output_type": "stream",
     "text": [
      "\u001b[A\n",
      " 66%|██████▌   | 83/126 [00:26<00:16,  2.62it/s]"
     ]
    },
    {
     "name": "stdout",
     "output_type": "stream",
     "text": [
      "Sliding window being executed...\n",
      "Sanity flag= 1\n",
      "Are lanes detected? True True\n"
     ]
    },
    {
     "name": "stderr",
     "output_type": "stream",
     "text": [
      "\u001b[A\n",
      " 67%|██████▋   | 84/126 [00:27<00:15,  2.63it/s]"
     ]
    },
    {
     "name": "stdout",
     "output_type": "stream",
     "text": [
      "Sliding window being executed...\n",
      "Sanity flag= 1\n",
      "Are lanes detected? True True\n"
     ]
    },
    {
     "name": "stderr",
     "output_type": "stream",
     "text": [
      "\u001b[A\n",
      " 67%|██████▋   | 85/126 [00:27<00:15,  2.70it/s]"
     ]
    },
    {
     "name": "stdout",
     "output_type": "stream",
     "text": [
      "Sliding window being executed...\n",
      "Sanity flag= 1\n",
      "Are lanes detected? True True\n"
     ]
    },
    {
     "name": "stderr",
     "output_type": "stream",
     "text": [
      "\u001b[A\n",
      " 68%|██████▊   | 86/126 [00:27<00:14,  2.68it/s]"
     ]
    },
    {
     "name": "stdout",
     "output_type": "stream",
     "text": [
      "Sliding window being executed...\n",
      "Sanity flag= 1\n",
      "Are lanes detected? True True\n"
     ]
    },
    {
     "name": "stderr",
     "output_type": "stream",
     "text": [
      "\u001b[A\n",
      " 69%|██████▉   | 87/126 [00:28<00:14,  2.68it/s]"
     ]
    },
    {
     "name": "stdout",
     "output_type": "stream",
     "text": [
      "Sliding window being executed...\n",
      "Sanity flag= 1\n",
      "Are lanes detected? True True\n"
     ]
    },
    {
     "name": "stderr",
     "output_type": "stream",
     "text": [
      "\u001b[A\n",
      " 70%|██████▉   | 88/126 [00:28<00:14,  2.69it/s]"
     ]
    },
    {
     "name": "stdout",
     "output_type": "stream",
     "text": [
      "Sliding window being executed...\n",
      "Sanity flag= 1\n",
      "Are lanes detected? True True\n"
     ]
    },
    {
     "name": "stderr",
     "output_type": "stream",
     "text": [
      "\u001b[A\n",
      " 71%|███████   | 89/126 [00:29<00:13,  2.72it/s]"
     ]
    },
    {
     "name": "stdout",
     "output_type": "stream",
     "text": [
      "Sliding window being executed...\n",
      "Sanity flag= 1\n",
      "Are lanes detected? True True\n"
     ]
    },
    {
     "name": "stderr",
     "output_type": "stream",
     "text": [
      "\u001b[A\n",
      " 71%|███████▏  | 90/126 [00:29<00:13,  2.73it/s]"
     ]
    },
    {
     "name": "stdout",
     "output_type": "stream",
     "text": [
      "Sliding window being executed...\n",
      "Sanity flag= 1\n",
      "Are lanes detected? True True\n"
     ]
    },
    {
     "name": "stderr",
     "output_type": "stream",
     "text": [
      "\u001b[A\n",
      " 72%|███████▏  | 91/126 [00:29<00:12,  2.71it/s]"
     ]
    },
    {
     "name": "stdout",
     "output_type": "stream",
     "text": [
      "Sliding window being executed...\n",
      "Sanity flag= 1\n",
      "Are lanes detected? True True\n"
     ]
    },
    {
     "name": "stderr",
     "output_type": "stream",
     "text": [
      "\u001b[A\n",
      " 73%|███████▎  | 92/126 [00:30<00:12,  2.76it/s]"
     ]
    },
    {
     "name": "stdout",
     "output_type": "stream",
     "text": [
      "Sliding window being executed...\n",
      "Sanity flag= 1\n",
      "Are lanes detected? True True\n"
     ]
    },
    {
     "name": "stderr",
     "output_type": "stream",
     "text": [
      "\u001b[A\n",
      " 74%|███████▍  | 93/126 [00:30<00:11,  2.76it/s]"
     ]
    },
    {
     "name": "stdout",
     "output_type": "stream",
     "text": [
      "Sliding window being executed...\n",
      "Sanity flag= 1\n",
      "Are lanes detected? True True\n"
     ]
    },
    {
     "name": "stderr",
     "output_type": "stream",
     "text": [
      "\u001b[A\n",
      " 75%|███████▍  | 94/126 [00:30<00:11,  2.76it/s]"
     ]
    },
    {
     "name": "stdout",
     "output_type": "stream",
     "text": [
      "Sliding window being executed...\n",
      "Sanity flag= 1\n",
      "Are lanes detected? True True\n"
     ]
    },
    {
     "name": "stderr",
     "output_type": "stream",
     "text": [
      "\u001b[A\n",
      " 75%|███████▌  | 95/126 [00:31<00:11,  2.75it/s]"
     ]
    },
    {
     "name": "stdout",
     "output_type": "stream",
     "text": [
      "Sliding window being executed...\n",
      "Sanity flag= 1\n",
      "Are lanes detected? True True\n"
     ]
    },
    {
     "name": "stderr",
     "output_type": "stream",
     "text": [
      "\u001b[A\n",
      " 76%|███████▌  | 96/126 [00:31<00:10,  2.75it/s]"
     ]
    },
    {
     "name": "stdout",
     "output_type": "stream",
     "text": [
      "Sliding window being executed...\n",
      "Sanity flag= 1\n",
      "Are lanes detected? True True\n"
     ]
    },
    {
     "name": "stderr",
     "output_type": "stream",
     "text": [
      "\u001b[A\n",
      " 77%|███████▋  | 97/126 [00:31<00:10,  2.73it/s]"
     ]
    },
    {
     "name": "stdout",
     "output_type": "stream",
     "text": [
      "Sliding window being executed...\n",
      "Sanity flag= 0\n",
      "Are lanes detected? True True\n"
     ]
    },
    {
     "name": "stderr",
     "output_type": "stream",
     "text": [
      "\u001b[A\n",
      " 78%|███████▊  | 98/126 [00:32<00:10,  2.72it/s]"
     ]
    },
    {
     "name": "stdout",
     "output_type": "stream",
     "text": [
      "Sliding window being executed...\n",
      "Sanity flag= 0\n",
      "Are lanes detected? True True\n"
     ]
    },
    {
     "name": "stderr",
     "output_type": "stream",
     "text": [
      "\u001b[A\n",
      " 79%|███████▊  | 99/126 [00:32<00:09,  2.71it/s]"
     ]
    },
    {
     "name": "stdout",
     "output_type": "stream",
     "text": [
      "Sliding window being executed...\n",
      "Sanity flag= 0\n",
      "Are lanes detected? True True\n"
     ]
    },
    {
     "name": "stderr",
     "output_type": "stream",
     "text": [
      "\u001b[A\n",
      " 79%|███████▉  | 100/126 [00:33<00:09,  2.72it/s]"
     ]
    },
    {
     "name": "stdout",
     "output_type": "stream",
     "text": [
      "Sliding window being executed...\n",
      "Sanity flag= 0\n",
      "Are lanes detected? True True\n"
     ]
    },
    {
     "name": "stderr",
     "output_type": "stream",
     "text": [
      "\u001b[A\n",
      " 80%|████████  | 101/126 [00:33<00:09,  2.70it/s]"
     ]
    },
    {
     "name": "stdout",
     "output_type": "stream",
     "text": [
      "Sliding window being executed...\n",
      "Sanity flag= 0\n",
      "Are lanes detected? True True\n"
     ]
    },
    {
     "name": "stderr",
     "output_type": "stream",
     "text": [
      "\u001b[A\n",
      " 81%|████████  | 102/126 [00:33<00:08,  2.71it/s]"
     ]
    },
    {
     "name": "stdout",
     "output_type": "stream",
     "text": [
      "Sliding window being executed...\n",
      "Sanity flag= 1\n",
      "Are lanes detected? True True\n"
     ]
    },
    {
     "name": "stderr",
     "output_type": "stream",
     "text": [
      "\u001b[A\n",
      " 82%|████████▏ | 103/126 [00:34<00:08,  2.66it/s]"
     ]
    },
    {
     "name": "stdout",
     "output_type": "stream",
     "text": [
      "Sliding window being executed...\n",
      "Sanity flag= 0\n",
      "Are lanes detected? True True\n"
     ]
    },
    {
     "name": "stderr",
     "output_type": "stream",
     "text": [
      "\u001b[A\n",
      " 83%|████████▎ | 104/126 [00:34<00:09,  2.34it/s]"
     ]
    },
    {
     "name": "stdout",
     "output_type": "stream",
     "text": [
      "Sliding window being executed...\n",
      "Sanity flag= 0\n",
      "Are lanes detected? True True\n"
     ]
    },
    {
     "name": "stderr",
     "output_type": "stream",
     "text": [
      "\u001b[A\n",
      " 83%|████████▎ | 105/126 [00:35<00:08,  2.42it/s]"
     ]
    },
    {
     "name": "stdout",
     "output_type": "stream",
     "text": [
      "Sliding window being executed...\n",
      "Sanity flag= 0\n",
      "Are lanes detected? True True\n"
     ]
    },
    {
     "name": "stderr",
     "output_type": "stream",
     "text": [
      "\u001b[A\n",
      " 84%|████████▍ | 106/126 [00:35<00:08,  2.48it/s]"
     ]
    },
    {
     "name": "stdout",
     "output_type": "stream",
     "text": [
      "Sliding window being executed...\n",
      "Sanity flag= 0\n",
      "Are lanes detected? True True\n"
     ]
    },
    {
     "name": "stderr",
     "output_type": "stream",
     "text": [
      "\u001b[A\n",
      " 85%|████████▍ | 107/126 [00:35<00:07,  2.53it/s]"
     ]
    },
    {
     "name": "stdout",
     "output_type": "stream",
     "text": [
      "Sliding window being executed...\n",
      "Sanity flag= 1\n",
      "Are lanes detected? True True\n"
     ]
    },
    {
     "name": "stderr",
     "output_type": "stream",
     "text": [
      "\u001b[A\n",
      " 86%|████████▌ | 108/126 [00:36<00:07,  2.57it/s]"
     ]
    },
    {
     "name": "stdout",
     "output_type": "stream",
     "text": [
      "Sliding window being executed...\n",
      "Sanity flag= 0\n",
      "Are lanes detected? True True\n"
     ]
    },
    {
     "name": "stderr",
     "output_type": "stream",
     "text": [
      "\u001b[A\n",
      " 87%|████████▋ | 109/126 [00:36<00:06,  2.58it/s]"
     ]
    },
    {
     "name": "stdout",
     "output_type": "stream",
     "text": [
      "Sliding window being executed...\n",
      "Sanity flag= 0\n",
      "Are lanes detected? True True\n"
     ]
    },
    {
     "name": "stderr",
     "output_type": "stream",
     "text": [
      "\u001b[A\n",
      " 87%|████████▋ | 110/126 [00:37<00:05,  2.68it/s]"
     ]
    },
    {
     "name": "stdout",
     "output_type": "stream",
     "text": [
      "Sliding window being executed...\n",
      "Sanity flag= 0\n",
      "Are lanes detected? True True\n"
     ]
    },
    {
     "name": "stderr",
     "output_type": "stream",
     "text": [
      "\u001b[A\n",
      " 88%|████████▊ | 111/126 [00:37<00:05,  2.64it/s]"
     ]
    },
    {
     "name": "stdout",
     "output_type": "stream",
     "text": [
      "Sliding window being executed...\n",
      "Sanity flag= 0\n",
      "Are lanes detected? True True\n"
     ]
    },
    {
     "name": "stderr",
     "output_type": "stream",
     "text": [
      "\u001b[A\n",
      " 89%|████████▉ | 112/126 [00:37<00:05,  2.71it/s]"
     ]
    },
    {
     "name": "stdout",
     "output_type": "stream",
     "text": [
      "Sliding window being executed...\n",
      "Sanity flag= 0\n",
      "Are lanes detected? True True\n"
     ]
    },
    {
     "name": "stderr",
     "output_type": "stream",
     "text": [
      "\u001b[A\n",
      " 90%|████████▉ | 113/126 [00:38<00:05,  2.56it/s]"
     ]
    },
    {
     "name": "stdout",
     "output_type": "stream",
     "text": [
      "Sliding window being executed...\n",
      "Sanity flag= 0\n",
      "Are lanes detected? True True\n"
     ]
    },
    {
     "name": "stderr",
     "output_type": "stream",
     "text": [
      "\u001b[A\n",
      " 90%|█████████ | 114/126 [00:38<00:04,  2.50it/s]"
     ]
    },
    {
     "name": "stdout",
     "output_type": "stream",
     "text": [
      "Sliding window being executed...\n",
      "Sanity flag= 0\n",
      "Are lanes detected? True True\n"
     ]
    },
    {
     "name": "stderr",
     "output_type": "stream",
     "text": [
      "\u001b[A\n",
      " 91%|█████████▏| 115/126 [00:38<00:04,  2.61it/s]"
     ]
    },
    {
     "name": "stdout",
     "output_type": "stream",
     "text": [
      "Sliding window being executed...\n",
      "Sanity flag= 0\n",
      "Are lanes detected? True True\n"
     ]
    },
    {
     "name": "stderr",
     "output_type": "stream",
     "text": [
      "\u001b[A\n",
      " 92%|█████████▏| 116/126 [00:39<00:03,  2.58it/s]"
     ]
    },
    {
     "name": "stdout",
     "output_type": "stream",
     "text": [
      "Sliding window being executed...\n",
      "Sanity flag= 0\n",
      "Are lanes detected? True True\n"
     ]
    },
    {
     "name": "stderr",
     "output_type": "stream",
     "text": [
      "\u001b[A\n",
      " 93%|█████████▎| 117/126 [00:39<00:03,  2.66it/s]"
     ]
    },
    {
     "name": "stdout",
     "output_type": "stream",
     "text": [
      "Sliding window being executed...\n",
      "Sanity flag= 0\n",
      "Are lanes detected? True True\n"
     ]
    },
    {
     "name": "stderr",
     "output_type": "stream",
     "text": [
      "\u001b[A\n",
      " 94%|█████████▎| 118/126 [00:40<00:03,  2.62it/s]"
     ]
    },
    {
     "name": "stdout",
     "output_type": "stream",
     "text": [
      "Sliding window being executed...\n",
      "Sanity flag= 0\n",
      "Are lanes detected? True True\n"
     ]
    },
    {
     "name": "stderr",
     "output_type": "stream",
     "text": [
      "\u001b[A\n",
      " 94%|█████████▍| 119/126 [00:40<00:02,  2.59it/s]"
     ]
    },
    {
     "name": "stdout",
     "output_type": "stream",
     "text": [
      "Sliding window being executed...\n",
      "Sanity flag= 0\n",
      "Are lanes detected? True True\n"
     ]
    },
    {
     "name": "stderr",
     "output_type": "stream",
     "text": [
      "\u001b[A\n",
      " 95%|█████████▌| 120/126 [00:40<00:02,  2.69it/s]"
     ]
    },
    {
     "name": "stdout",
     "output_type": "stream",
     "text": [
      "Sliding window being executed...\n",
      "Sanity flag= 0\n",
      "Are lanes detected? True True\n"
     ]
    },
    {
     "name": "stderr",
     "output_type": "stream",
     "text": [
      "\u001b[A\n",
      " 96%|█████████▌| 121/126 [00:41<00:01,  2.60it/s]"
     ]
    },
    {
     "name": "stdout",
     "output_type": "stream",
     "text": [
      "Sliding window being executed...\n",
      "Sanity flag= 0\n",
      "Are lanes detected? True True\n"
     ]
    },
    {
     "name": "stderr",
     "output_type": "stream",
     "text": [
      "\u001b[A\n",
      " 97%|█████████▋| 122/126 [00:41<00:01,  2.68it/s]"
     ]
    },
    {
     "name": "stdout",
     "output_type": "stream",
     "text": [
      "Sliding window being executed...\n",
      "Sanity flag= 0\n",
      "Are lanes detected? True True\n"
     ]
    },
    {
     "name": "stderr",
     "output_type": "stream",
     "text": [
      "\u001b[A\n",
      " 98%|█████████▊| 123/126 [00:41<00:01,  2.61it/s]"
     ]
    },
    {
     "name": "stdout",
     "output_type": "stream",
     "text": [
      "Sliding window being executed...\n",
      "Sanity flag= 0\n",
      "Are lanes detected? True True\n"
     ]
    },
    {
     "name": "stderr",
     "output_type": "stream",
     "text": [
      "\u001b[A\n",
      " 98%|█████████▊| 124/126 [00:42<00:00,  2.57it/s]"
     ]
    },
    {
     "name": "stdout",
     "output_type": "stream",
     "text": [
      "Sliding window being executed...\n",
      "Sanity flag= 0\n",
      "Are lanes detected? True True\n"
     ]
    },
    {
     "name": "stderr",
     "output_type": "stream",
     "text": [
      "\u001b[A\n",
      " 99%|█████████▉| 125/126 [00:42<00:00,  2.62it/s]"
     ]
    },
    {
     "name": "stdout",
     "output_type": "stream",
     "text": [
      "Sliding window being executed...\n",
      "Sanity flag= 0\n",
      "Are lanes detected? True True\n"
     ]
    },
    {
     "name": "stderr",
     "output_type": "stream",
     "text": [
      "\u001b[A\n",
      "\u001b[A"
     ]
    },
    {
     "name": "stdout",
     "output_type": "stream",
     "text": [
      "[MoviePy] Done.\n",
      "[MoviePy] >>>> Video ready: Project_Output_Videos/project_video_subclip_check2.mp4 \n",
      "\n",
      "CPU times: user 25.5 s, sys: 5.36 s, total: 30.9 s\n",
      "Wall time: 46.4 s\n"
     ]
    }
   ],
   "source": [
    "project_output = 'Project_Output_Videos/project_video_subclip_check2.mp4'\n",
    "## To speed up the testing process you may want to try your pipeline on a shorter subclip of the video\n",
    "## To do so add .subclip(start_second,end_second) to the end of the line below\n",
    "## Where start_second and end_second are integer values representing the start and end of the subclip\n",
    "## You may also uncomment the following line for a subclip of the first 5 seconds\n",
    "##clip1 = VideoFileClip(\"test_videos/solidWhiteRight.mp4\").subclip(0,5)\n",
    "clip1 = VideoFileClip(\"project_video.mp4\").subclip(20,25)\n",
    "white_clip = clip1.fl_image(lane_detector) #NOTE: this function expects color images!!\n",
    "%time white_clip.write_videofile(project_output, audio=False)"
   ]
  },
  {
   "cell_type": "code",
   "execution_count": 39,
   "metadata": {
    "scrolled": true
   },
   "outputs": [
    {
     "data": {
      "text/html": [
       "\n",
       "<video width=\"960\" height=\"540\" controls>\n",
       "  <source src=\"Project_Output_Videos/project_video_subclip_check2.mp4\">\n",
       "</video>\n"
      ],
      "text/plain": [
       "<IPython.core.display.HTML object>"
      ]
     },
     "execution_count": 39,
     "metadata": {},
     "output_type": "execute_result"
    }
   ],
   "source": [
    "HTML(\"\"\"\n",
    "<video width=\"960\" height=\"540\" controls>\n",
    "  <source src=\"{0}\">\n",
    "</video>\n",
    "\"\"\".format(project_output))"
   ]
  },
  {
   "cell_type": "markdown",
   "metadata": {},
   "source": [
    "## Challenge Video"
   ]
  },
  {
   "cell_type": "code",
   "execution_count": 64,
   "metadata": {},
   "outputs": [
    {
     "name": "stdout",
     "output_type": "stream",
     "text": [
      "Sliding window being executed...\n",
      "1135.80366115\n",
      "161.632512186\n",
      "Sanity flag= 1\n",
      "Are lanes detected? True True\n",
      "[MoviePy] >>>> Building video Project_Output_Videos/challenge_video.mp4\n",
      "[MoviePy] Writing video Project_Output_Videos/challenge_video.mp4\n"
     ]
    },
    {
     "name": "stderr",
     "output_type": "stream",
     "text": [
      "\n",
      "  0%|          | 0/485 [00:00<?, ?it/s]\u001b[A\n",
      "  0%|          | 1/485 [00:00<02:08,  3.77it/s]"
     ]
    },
    {
     "name": "stdout",
     "output_type": "stream",
     "text": [
      "Sliding window being executed...\n",
      "1135.80366115\n",
      "161.632512186\n",
      "Sanity flag= 1\n",
      "Are lanes detected? True True\n"
     ]
    },
    {
     "name": "stderr",
     "output_type": "stream",
     "text": [
      "\u001b[A\n",
      "  0%|          | 2/485 [00:00<02:10,  3.69it/s]"
     ]
    },
    {
     "name": "stdout",
     "output_type": "stream",
     "text": [
      "Sliding window being executed...\n",
      "537.076127317\n",
      "152.99373074\n",
      "Sanity flag= 1\n",
      "Are lanes detected? True True\n"
     ]
    },
    {
     "name": "stderr",
     "output_type": "stream",
     "text": [
      "\u001b[A\n",
      "  1%|          | 3/485 [00:00<02:11,  3.66it/s]"
     ]
    },
    {
     "name": "stdout",
     "output_type": "stream",
     "text": [
      "Sliding window being executed...\n",
      "354.196042595\n",
      "150.791768253\n",
      "Sanity flag= 1\n",
      "Are lanes detected? True True\n"
     ]
    },
    {
     "name": "stderr",
     "output_type": "stream",
     "text": [
      "\u001b[A\n",
      "  1%|          | 4/485 [00:01<02:10,  3.68it/s]"
     ]
    },
    {
     "name": "stdout",
     "output_type": "stream",
     "text": [
      "Sliding window being executed...\n",
      "239.820008037\n",
      "154.58186367\n",
      "Sanity flag= 1\n",
      "Are lanes detected? True True\n"
     ]
    },
    {
     "name": "stderr",
     "output_type": "stream",
     "text": [
      "\u001b[A\n",
      "  1%|          | 5/485 [00:01<02:09,  3.69it/s]"
     ]
    },
    {
     "name": "stdout",
     "output_type": "stream",
     "text": [
      "Sliding window being executed...\n",
      "367.905722638\n",
      "152.2364208\n",
      "Sanity flag= 1\n",
      "Are lanes detected? True True\n"
     ]
    },
    {
     "name": "stderr",
     "output_type": "stream",
     "text": [
      "\u001b[A\n",
      "  1%|          | 6/485 [00:01<02:09,  3.69it/s]"
     ]
    },
    {
     "name": "stdout",
     "output_type": "stream",
     "text": [
      "Sliding window being executed...\n",
      "260.001174284\n",
      "151.86706801\n",
      "Sanity flag= 1\n",
      "Are lanes detected? True True\n"
     ]
    },
    {
     "name": "stderr",
     "output_type": "stream",
     "text": [
      "\u001b[A\n",
      "  1%|▏         | 7/485 [00:01<02:09,  3.70it/s]"
     ]
    },
    {
     "name": "stdout",
     "output_type": "stream",
     "text": [
      "Sliding window being executed...\n",
      "299.515453044\n",
      "151.6376301\n",
      "Sanity flag= 1\n",
      "Are lanes detected? True True\n"
     ]
    },
    {
     "name": "stderr",
     "output_type": "stream",
     "text": [
      "\u001b[A\n",
      "  2%|▏         | 8/485 [00:02<02:08,  3.71it/s]"
     ]
    },
    {
     "name": "stdout",
     "output_type": "stream",
     "text": [
      "Sliding window being executed...\n",
      "317.758163678\n",
      "149.744957959\n",
      "Sanity flag= 1\n",
      "Are lanes detected? True True\n"
     ]
    },
    {
     "name": "stderr",
     "output_type": "stream",
     "text": [
      "\u001b[A\n",
      "  2%|▏         | 9/485 [00:02<02:08,  3.70it/s]"
     ]
    },
    {
     "name": "stdout",
     "output_type": "stream",
     "text": [
      "Sliding window being executed...\n",
      "323.483809399\n",
      "146.538008981\n",
      "Sanity flag= 1\n",
      "Are lanes detected? True True\n"
     ]
    },
    {
     "name": "stderr",
     "output_type": "stream",
     "text": [
      "\u001b[A\n",
      "  2%|▏         | 10/485 [00:02<02:06,  3.74it/s]"
     ]
    },
    {
     "name": "stdout",
     "output_type": "stream",
     "text": [
      "Sliding window being executed...\n",
      "326.26883517\n",
      "151.412412252\n",
      "Sanity flag= 1\n",
      "Are lanes detected? True True\n"
     ]
    },
    {
     "name": "stderr",
     "output_type": "stream",
     "text": [
      "\u001b[A\n",
      "  2%|▏         | 11/485 [00:02<02:06,  3.76it/s]"
     ]
    },
    {
     "name": "stdout",
     "output_type": "stream",
     "text": [
      "Sliding window being executed...\n",
      "354.481915554\n",
      "151.826718983\n",
      "Sanity flag= 1\n",
      "Are lanes detected? True True\n"
     ]
    },
    {
     "name": "stderr",
     "output_type": "stream",
     "text": [
      "\u001b[A\n",
      "  2%|▏         | 12/485 [00:03<02:05,  3.78it/s]"
     ]
    },
    {
     "name": "stdout",
     "output_type": "stream",
     "text": [
      "Sliding window being executed...\n",
      "510.205893903\n",
      "156.970168783\n",
      "Sanity flag= 1\n",
      "Are lanes detected? True True\n"
     ]
    },
    {
     "name": "stderr",
     "output_type": "stream",
     "text": [
      "\u001b[A\n",
      "  3%|▎         | 13/485 [00:03<02:05,  3.77it/s]"
     ]
    },
    {
     "name": "stdout",
     "output_type": "stream",
     "text": [
      "Sliding window being executed...\n",
      "502.834795139\n",
      "173.710362559\n",
      "Sanity flag= 1\n",
      "Are lanes detected? True True\n"
     ]
    },
    {
     "name": "stderr",
     "output_type": "stream",
     "text": [
      "\u001b[A\n",
      "  3%|▎         | 14/485 [00:03<02:04,  3.77it/s]"
     ]
    },
    {
     "name": "stdout",
     "output_type": "stream",
     "text": [
      "Sliding window being executed...\n",
      "81.7940845696\n",
      "174.503579404\n",
      "Sanity flag= 1\n",
      "Are lanes detected? True True\n"
     ]
    },
    {
     "name": "stderr",
     "output_type": "stream",
     "text": [
      "\u001b[A\n",
      "  3%|▎         | 15/485 [00:04<02:04,  3.76it/s]"
     ]
    },
    {
     "name": "stdout",
     "output_type": "stream",
     "text": [
      "Sliding window being executed...\n",
      "55.3935158584\n",
      "173.490159534\n",
      "Sanity flag= 1\n",
      "Are lanes detected? True True\n"
     ]
    },
    {
     "name": "stderr",
     "output_type": "stream",
     "text": [
      "\u001b[A\n",
      "  3%|▎         | 16/485 [00:04<02:04,  3.77it/s]"
     ]
    },
    {
     "name": "stdout",
     "output_type": "stream",
     "text": [
      "Sliding window being executed...\n",
      "54.2457300502\n",
      "173.772917207\n",
      "Sanity flag= 1\n",
      "Are lanes detected? True True\n"
     ]
    },
    {
     "name": "stderr",
     "output_type": "stream",
     "text": [
      "\u001b[A\n",
      "  4%|▎         | 17/485 [00:04<02:05,  3.74it/s]"
     ]
    },
    {
     "name": "stdout",
     "output_type": "stream",
     "text": [
      "Sliding window being executed...\n",
      "53.9449004536\n",
      "180.388633894\n",
      "Sanity flag= 1\n",
      "Are lanes detected? True True\n"
     ]
    },
    {
     "name": "stderr",
     "output_type": "stream",
     "text": [
      "\u001b[A\n",
      "  4%|▎         | 18/485 [00:04<02:05,  3.72it/s]"
     ]
    },
    {
     "name": "stdout",
     "output_type": "stream",
     "text": [
      "Sliding window being executed...\n",
      "270.44355065\n",
      "171.088153464\n",
      "Sanity flag= 1\n",
      "Are lanes detected? True True\n"
     ]
    },
    {
     "name": "stderr",
     "output_type": "stream",
     "text": [
      "\u001b[A\n",
      "  4%|▍         | 19/485 [00:05<02:04,  3.74it/s]"
     ]
    },
    {
     "name": "stdout",
     "output_type": "stream",
     "text": [
      "Sliding window being executed...\n",
      "91.960740122\n",
      "188.666710939\n",
      "Sanity flag= 1\n",
      "Are lanes detected? True True\n"
     ]
    },
    {
     "name": "stderr",
     "output_type": "stream",
     "text": [
      "\u001b[A\n",
      "  4%|▍         | 20/485 [00:05<02:04,  3.74it/s]"
     ]
    },
    {
     "name": "stdout",
     "output_type": "stream",
     "text": [
      "Sliding window being executed...\n",
      "297.087789412\n",
      "168.728873272\n",
      "Sanity flag= 1\n",
      "Are lanes detected? True True\n"
     ]
    },
    {
     "name": "stderr",
     "output_type": "stream",
     "text": [
      "\u001b[A\n",
      "  4%|▍         | 21/485 [00:05<02:04,  3.74it/s]"
     ]
    },
    {
     "name": "stdout",
     "output_type": "stream",
     "text": [
      "Sliding window being executed...\n",
      "53.4412960109\n",
      "177.482427389\n",
      "Sanity flag= 1\n",
      "Are lanes detected? True True\n"
     ]
    },
    {
     "name": "stderr",
     "output_type": "stream",
     "text": [
      "\u001b[A\n",
      "  5%|▍         | 22/485 [00:05<02:03,  3.73it/s]"
     ]
    },
    {
     "name": "stdout",
     "output_type": "stream",
     "text": [
      "Sliding window being executed...\n",
      "48.3311084265\n",
      "175.575238096\n",
      "Sanity flag= 1\n",
      "Are lanes detected? True True\n"
     ]
    },
    {
     "name": "stderr",
     "output_type": "stream",
     "text": [
      "\u001b[A\n",
      "  5%|▍         | 23/485 [00:06<02:03,  3.74it/s]"
     ]
    },
    {
     "name": "stdout",
     "output_type": "stream",
     "text": [
      "Sliding window being executed...\n",
      "52.2747124847\n",
      "193.876430813\n",
      "Sanity flag= 1\n",
      "Are lanes detected? True True\n"
     ]
    },
    {
     "name": "stderr",
     "output_type": "stream",
     "text": [
      "\u001b[A\n",
      "  5%|▍         | 24/485 [00:06<02:02,  3.77it/s]"
     ]
    },
    {
     "name": "stdout",
     "output_type": "stream",
     "text": [
      "Sliding window being executed...\n",
      "59.2807553473\n",
      "178.285712279\n",
      "Sanity flag= 1\n",
      "Are lanes detected? True True\n"
     ]
    },
    {
     "name": "stderr",
     "output_type": "stream",
     "text": [
      "\u001b[A\n",
      "  5%|▌         | 25/485 [00:06<02:02,  3.76it/s]"
     ]
    },
    {
     "name": "stdout",
     "output_type": "stream",
     "text": [
      "Sliding window being executed...\n",
      "103.076202851\n",
      "183.643397456\n",
      "Sanity flag= 1\n",
      "Are lanes detected? True True\n"
     ]
    },
    {
     "name": "stderr",
     "output_type": "stream",
     "text": [
      "\u001b[A\n",
      "  5%|▌         | 26/485 [00:06<02:03,  3.73it/s]"
     ]
    },
    {
     "name": "stdout",
     "output_type": "stream",
     "text": [
      "Sliding window being executed...\n",
      "606.674107006\n",
      "188.716694566\n",
      "Sanity flag= 1\n",
      "Are lanes detected? True True\n"
     ]
    },
    {
     "name": "stderr",
     "output_type": "stream",
     "text": [
      "\u001b[A\n",
      "  6%|▌         | 27/485 [00:07<02:03,  3.70it/s]"
     ]
    },
    {
     "name": "stdout",
     "output_type": "stream",
     "text": [
      "Sliding window being executed...\n",
      "335.736266776\n",
      "232.896324582\n",
      "Sanity flag= 1\n",
      "Are lanes detected? True True\n"
     ]
    },
    {
     "name": "stderr",
     "output_type": "stream",
     "text": [
      "\u001b[A\n",
      "  6%|▌         | 28/485 [00:07<02:03,  3.71it/s]"
     ]
    },
    {
     "name": "stdout",
     "output_type": "stream",
     "text": [
      "Sliding window being executed...\n",
      "251.952957754\n",
      "181.354117441\n",
      "Sanity flag= 1\n",
      "Are lanes detected? True True\n"
     ]
    },
    {
     "name": "stderr",
     "output_type": "stream",
     "text": [
      "\u001b[A\n",
      "  6%|▌         | 29/485 [00:07<02:03,  3.70it/s]"
     ]
    },
    {
     "name": "stdout",
     "output_type": "stream",
     "text": [
      "Sliding window being executed...\n",
      "256.254915444\n",
      "216.976274017\n",
      "Sanity flag= 1\n",
      "Are lanes detected? True True\n"
     ]
    },
    {
     "name": "stderr",
     "output_type": "stream",
     "text": [
      "\u001b[A\n",
      "  6%|▌         | 30/485 [00:08<02:04,  3.66it/s]"
     ]
    },
    {
     "name": "stdout",
     "output_type": "stream",
     "text": [
      "Sliding window being executed...\n",
      "258.423357596\n",
      "199.878581987\n",
      "Sanity flag= 1\n",
      "Are lanes detected? True True\n"
     ]
    },
    {
     "name": "stderr",
     "output_type": "stream",
     "text": [
      "\u001b[A\n",
      "  6%|▋         | 31/485 [00:08<02:04,  3.65it/s]"
     ]
    },
    {
     "name": "stdout",
     "output_type": "stream",
     "text": [
      "Sliding window being executed...\n",
      "259.755842214\n",
      "292.852290104\n",
      "Sanity flag= 0\n",
      "Are lanes detected? True True\n"
     ]
    },
    {
     "name": "stderr",
     "output_type": "stream",
     "text": [
      "\u001b[A\n",
      "  7%|▋         | 32/485 [00:08<02:03,  3.66it/s]"
     ]
    },
    {
     "name": "stdout",
     "output_type": "stream",
     "text": [
      "Sliding window being executed...\n",
      "80.7731588803\n",
      "531.844165317\n",
      "Sanity flag= 1\n",
      "Are lanes detected? True True\n"
     ]
    },
    {
     "name": "stderr",
     "output_type": "stream",
     "text": [
      "\u001b[A\n",
      "  7%|▋         | 33/485 [00:08<02:03,  3.65it/s]"
     ]
    },
    {
     "name": "stdout",
     "output_type": "stream",
     "text": [
      "Sliding window being executed...\n",
      "162.980572942\n",
      "349.576762869\n",
      "Sanity flag= 0\n",
      "Are lanes detected? True True\n"
     ]
    },
    {
     "name": "stderr",
     "output_type": "stream",
     "text": [
      "\u001b[A\n",
      "  7%|▋         | 34/485 [00:09<02:04,  3.62it/s]"
     ]
    },
    {
     "name": "stdout",
     "output_type": "stream",
     "text": [
      "Sliding window being executed...\n",
      "101.749831137\n",
      "544.276593522\n",
      "Sanity flag= 1\n",
      "Are lanes detected? True True\n"
     ]
    },
    {
     "name": "stderr",
     "output_type": "stream",
     "text": [
      "\u001b[A\n",
      "  7%|▋         | 35/485 [00:09<02:04,  3.61it/s]"
     ]
    },
    {
     "name": "stdout",
     "output_type": "stream",
     "text": [
      "Sliding window being executed...\n",
      "117.109169699\n",
      "946.259436318\n",
      "Sanity flag= 1\n",
      "Are lanes detected? True True\n"
     ]
    },
    {
     "name": "stderr",
     "output_type": "stream",
     "text": [
      "\u001b[A\n",
      "  7%|▋         | 36/485 [00:09<02:03,  3.63it/s]"
     ]
    },
    {
     "name": "stdout",
     "output_type": "stream",
     "text": [
      "Sliding window being executed...\n",
      "480.910054656\n",
      "208.682923874\n",
      "Sanity flag= 1\n",
      "Are lanes detected? True True\n"
     ]
    },
    {
     "name": "stderr",
     "output_type": "stream",
     "text": [
      "\u001b[A\n",
      "  8%|▊         | 37/485 [00:09<02:02,  3.64it/s]"
     ]
    },
    {
     "name": "stdout",
     "output_type": "stream",
     "text": [
      "Sliding window being executed...\n",
      "357.703752367\n",
      "140.947828286\n",
      "Sanity flag= 1\n",
      "Are lanes detected? True True\n"
     ]
    },
    {
     "name": "stderr",
     "output_type": "stream",
     "text": [
      "\u001b[A\n",
      "  8%|▊         | 38/485 [00:10<02:02,  3.64it/s]"
     ]
    },
    {
     "name": "stdout",
     "output_type": "stream",
     "text": [
      "Sliding window being executed...\n",
      "389.713976236\n",
      "128.734474867\n",
      "Sanity flag= 1\n",
      "Are lanes detected? True True\n"
     ]
    },
    {
     "name": "stderr",
     "output_type": "stream",
     "text": [
      "\u001b[A\n",
      "  8%|▊         | 39/485 [00:10<02:02,  3.65it/s]"
     ]
    },
    {
     "name": "stdout",
     "output_type": "stream",
     "text": [
      "Sliding window being executed...\n",
      "696.875171536\n",
      "115.672861832\n",
      "Sanity flag= 1\n",
      "Are lanes detected? True True\n"
     ]
    },
    {
     "name": "stderr",
     "output_type": "stream",
     "text": [
      "\u001b[A\n",
      "  8%|▊         | 40/485 [00:10<02:02,  3.64it/s]"
     ]
    },
    {
     "name": "stdout",
     "output_type": "stream",
     "text": [
      "Sliding window being executed...\n",
      "438.374021132\n",
      "176.382640047\n",
      "Sanity flag= 1\n",
      "Are lanes detected? True True\n"
     ]
    },
    {
     "name": "stderr",
     "output_type": "stream",
     "text": [
      "\u001b[A\n",
      "  8%|▊         | 41/485 [00:11<02:03,  3.59it/s]"
     ]
    },
    {
     "name": "stdout",
     "output_type": "stream",
     "text": [
      "Sliding window being executed...\n",
      "399.09961999\n",
      "411.693118092\n",
      "Sanity flag= 0\n",
      "Are lanes detected? True True\n"
     ]
    },
    {
     "name": "stderr",
     "output_type": "stream",
     "text": [
      "\u001b[A\n",
      "  9%|▊         | 42/485 [00:11<02:02,  3.63it/s]"
     ]
    },
    {
     "name": "stdout",
     "output_type": "stream",
     "text": [
      "Sliding window being executed...\n",
      "269.842449562\n",
      "597.945459988\n",
      "Sanity flag= 0\n",
      "Are lanes detected? True True\n"
     ]
    },
    {
     "name": "stderr",
     "output_type": "stream",
     "text": [
      "\u001b[A\n",
      "  9%|▉         | 43/485 [00:12<03:27,  2.13it/s]"
     ]
    },
    {
     "name": "stdout",
     "output_type": "stream",
     "text": [
      "Sliding window being executed...\n",
      "441.617945903\n",
      "97.659691436\n",
      "Sanity flag= 1\n",
      "Are lanes detected? True True\n"
     ]
    },
    {
     "name": "stderr",
     "output_type": "stream",
     "text": [
      "\u001b[A\n",
      "  9%|▉         | 44/485 [00:12<03:11,  2.31it/s]"
     ]
    },
    {
     "name": "stdout",
     "output_type": "stream",
     "text": [
      "Sliding window being executed...\n",
      "4049.71046018\n",
      "114.501135451\n",
      "Sanity flag= 1\n",
      "Are lanes detected? True True\n"
     ]
    },
    {
     "name": "stderr",
     "output_type": "stream",
     "text": [
      "\u001b[A\n",
      "  9%|▉         | 45/485 [00:12<02:56,  2.49it/s]"
     ]
    },
    {
     "name": "stdout",
     "output_type": "stream",
     "text": [
      "Sliding window being executed...\n",
      "420.846727393\n",
      "117.003272643\n",
      "Sanity flag= 1\n",
      "Are lanes detected? True True\n"
     ]
    },
    {
     "name": "stderr",
     "output_type": "stream",
     "text": [
      "\u001b[A\n",
      "  9%|▉         | 46/485 [00:13<02:52,  2.55it/s]"
     ]
    },
    {
     "name": "stdout",
     "output_type": "stream",
     "text": [
      "Sliding window being executed...\n",
      "473.885461444\n",
      "140.75524192\n",
      "Sanity flag= 1\n",
      "Are lanes detected? True True\n"
     ]
    },
    {
     "name": "stderr",
     "output_type": "stream",
     "text": [
      "\u001b[A\n",
      " 10%|▉         | 47/485 [00:13<02:44,  2.66it/s]"
     ]
    },
    {
     "name": "stdout",
     "output_type": "stream",
     "text": [
      "Sliding window being executed...\n",
      "309.287967999\n",
      "147.693597707\n",
      "Sanity flag= 1\n",
      "Are lanes detected? True True\n"
     ]
    },
    {
     "name": "stderr",
     "output_type": "stream",
     "text": [
      "\u001b[A\n",
      " 10%|▉         | 48/485 [00:14<02:39,  2.74it/s]"
     ]
    },
    {
     "name": "stdout",
     "output_type": "stream",
     "text": [
      "Sliding window being executed...\n",
      "246.048828247\n",
      "549.553598217\n",
      "Sanity flag= 1\n",
      "Are lanes detected? True True\n"
     ]
    },
    {
     "name": "stderr",
     "output_type": "stream",
     "text": [
      "\u001b[A\n",
      " 10%|█         | 49/485 [00:14<02:43,  2.66it/s]"
     ]
    },
    {
     "name": "stdout",
     "output_type": "stream",
     "text": [
      "Sliding window being executed...\n",
      "172.294093984\n",
      "12680.004644\n",
      "Sanity flag= 1\n",
      "Are lanes detected? True True\n"
     ]
    },
    {
     "name": "stderr",
     "output_type": "stream",
     "text": [
      "\u001b[A\n",
      " 10%|█         | 50/485 [00:14<02:40,  2.71it/s]"
     ]
    },
    {
     "name": "stdout",
     "output_type": "stream",
     "text": [
      "Sliding window being executed...\n",
      "153.75844849\n",
      "415.444776246\n",
      "Sanity flag= 1\n",
      "Are lanes detected? True True\n"
     ]
    },
    {
     "name": "stderr",
     "output_type": "stream",
     "text": [
      "\u001b[A\n",
      " 11%|█         | 51/485 [00:15<02:35,  2.80it/s]"
     ]
    },
    {
     "name": "stdout",
     "output_type": "stream",
     "text": [
      "Sliding window being executed...\n",
      "431.134411606\n",
      "134.094409339\n",
      "Sanity flag= 1\n",
      "Are lanes detected? True True\n"
     ]
    },
    {
     "name": "stderr",
     "output_type": "stream",
     "text": [
      "\u001b[A\n",
      " 11%|█         | 52/485 [00:15<02:30,  2.87it/s]"
     ]
    },
    {
     "name": "stdout",
     "output_type": "stream",
     "text": [
      "Sliding window being executed...\n",
      "383.425188305\n",
      "122.670790484\n",
      "Sanity flag= 1\n",
      "Are lanes detected? True True\n"
     ]
    },
    {
     "name": "stderr",
     "output_type": "stream",
     "text": [
      "\u001b[A\n",
      " 11%|█         | 53/485 [00:15<02:39,  2.71it/s]"
     ]
    },
    {
     "name": "stdout",
     "output_type": "stream",
     "text": [
      "Sliding window being executed...\n",
      "111.429149954\n",
      "128.299967366\n",
      "Sanity flag= 0\n",
      "Are lanes detected? True True\n"
     ]
    },
    {
     "name": "stderr",
     "output_type": "stream",
     "text": [
      "\u001b[A\n",
      " 11%|█         | 54/485 [00:16<02:37,  2.74it/s]"
     ]
    },
    {
     "name": "stdout",
     "output_type": "stream",
     "text": [
      "Sliding window being executed...\n",
      "92.3105951344\n",
      "118.662210892\n",
      "Sanity flag= 0\n",
      "Are lanes detected? True True\n"
     ]
    },
    {
     "name": "stderr",
     "output_type": "stream",
     "text": [
      "\u001b[A\n",
      " 11%|█▏        | 55/485 [00:16<02:34,  2.79it/s]"
     ]
    },
    {
     "name": "stdout",
     "output_type": "stream",
     "text": [
      "Sliding window being executed...\n",
      "85.3421126527\n",
      "122.499878336\n",
      "Sanity flag= 0\n",
      "Are lanes detected? True True\n"
     ]
    },
    {
     "name": "stderr",
     "output_type": "stream",
     "text": [
      "\u001b[A\n",
      " 12%|█▏        | 56/485 [00:16<02:29,  2.87it/s]"
     ]
    },
    {
     "name": "stdout",
     "output_type": "stream",
     "text": [
      "Sliding window being executed...\n",
      "87.6020801771\n",
      "124.474687258\n",
      "Sanity flag= 1\n",
      "Are lanes detected? True True\n"
     ]
    },
    {
     "name": "stderr",
     "output_type": "stream",
     "text": [
      "\u001b[A\n",
      " 12%|█▏        | 57/485 [00:17<02:36,  2.74it/s]"
     ]
    },
    {
     "name": "stdout",
     "output_type": "stream",
     "text": [
      "Sliding window being executed...\n",
      "75.6697568073\n",
      "134.249468072\n",
      "Sanity flag= 1\n",
      "Are lanes detected? True True\n"
     ]
    },
    {
     "name": "stderr",
     "output_type": "stream",
     "text": [
      "\u001b[A\n",
      " 12%|█▏        | 58/485 [00:17<02:32,  2.81it/s]"
     ]
    },
    {
     "name": "stdout",
     "output_type": "stream",
     "text": [
      "Sliding window being executed...\n",
      "110.381696751\n",
      "2598.67013854\n",
      "Sanity flag= 1\n",
      "Are lanes detected? True True\n"
     ]
    },
    {
     "name": "stderr",
     "output_type": "stream",
     "text": [
      "\u001b[A\n",
      " 12%|█▏        | 59/485 [00:17<02:29,  2.85it/s]"
     ]
    },
    {
     "name": "stdout",
     "output_type": "stream",
     "text": [
      "Sliding window being executed...\n",
      "220.04842744\n",
      "539.238246398\n",
      "Sanity flag= 0\n",
      "Are lanes detected? True True\n"
     ]
    },
    {
     "name": "stderr",
     "output_type": "stream",
     "text": [
      "\u001b[A\n",
      " 12%|█▏        | 60/485 [00:18<02:36,  2.72it/s]"
     ]
    },
    {
     "name": "stdout",
     "output_type": "stream",
     "text": [
      "Sliding window being executed...\n",
      "219.580012032\n",
      "1386.94810795\n",
      "Sanity flag= 1\n",
      "Are lanes detected? True True\n"
     ]
    },
    {
     "name": "stderr",
     "output_type": "stream",
     "text": [
      "\u001b[A\n",
      " 13%|█▎        | 61/485 [00:18<02:33,  2.77it/s]"
     ]
    },
    {
     "name": "stdout",
     "output_type": "stream",
     "text": [
      "Sliding window being executed...\n",
      "409.361951856\n",
      "140.043068686\n",
      "Sanity flag= 1\n",
      "Are lanes detected? True True\n"
     ]
    },
    {
     "name": "stderr",
     "output_type": "stream",
     "text": [
      "\u001b[A\n",
      " 13%|█▎        | 62/485 [00:19<02:30,  2.81it/s]"
     ]
    },
    {
     "name": "stdout",
     "output_type": "stream",
     "text": [
      "Sliding window being executed...\n",
      "187.253464409\n",
      "128.642914451\n",
      "Sanity flag= 1\n",
      "Are lanes detected? True True\n"
     ]
    },
    {
     "name": "stderr",
     "output_type": "stream",
     "text": [
      "\u001b[A\n",
      " 13%|█▎        | 63/485 [00:19<02:36,  2.69it/s]"
     ]
    },
    {
     "name": "stdout",
     "output_type": "stream",
     "text": [
      "Sliding window being executed...\n",
      "191.395081147\n",
      "114.311472259\n",
      "Sanity flag= 0\n",
      "Are lanes detected? True True\n"
     ]
    },
    {
     "name": "stderr",
     "output_type": "stream",
     "text": [
      "\u001b[A\n",
      " 13%|█▎        | 64/485 [00:19<02:34,  2.72it/s]"
     ]
    },
    {
     "name": "stdout",
     "output_type": "stream",
     "text": [
      "Sliding window being executed...\n",
      "72.60803692\n",
      "441.856572112\n",
      "Sanity flag= 1\n",
      "Are lanes detected? True True\n"
     ]
    },
    {
     "name": "stderr",
     "output_type": "stream",
     "text": [
      "\u001b[A\n",
      " 13%|█▎        | 65/485 [00:20<02:29,  2.81it/s]"
     ]
    },
    {
     "name": "stdout",
     "output_type": "stream",
     "text": [
      "Sliding window being executed...\n",
      "50.1564796726\n",
      "94.4283730833\n",
      "Sanity flag= 1\n",
      "Are lanes detected? True True\n"
     ]
    },
    {
     "name": "stderr",
     "output_type": "stream",
     "text": [
      "\u001b[A\n",
      " 14%|█▎        | 66/485 [00:20<02:25,  2.88it/s]"
     ]
    },
    {
     "name": "stdout",
     "output_type": "stream",
     "text": [
      "Sliding window being executed...\n",
      "39.0837558722\n",
      "115.595646038\n",
      "Sanity flag= 1\n",
      "Are lanes detected? True True\n"
     ]
    },
    {
     "name": "stderr",
     "output_type": "stream",
     "text": [
      "\u001b[A\n",
      " 14%|█▍        | 67/485 [00:20<02:32,  2.75it/s]"
     ]
    },
    {
     "name": "stdout",
     "output_type": "stream",
     "text": [
      "Sliding window being executed...\n",
      "31.3047724547\n",
      "85.2855245215\n",
      "Sanity flag= 1\n",
      "Are lanes detected? True True\n"
     ]
    },
    {
     "name": "stderr",
     "output_type": "stream",
     "text": [
      "\u001b[A\n",
      " 14%|█▍        | 68/485 [00:21<02:28,  2.81it/s]"
     ]
    },
    {
     "name": "stdout",
     "output_type": "stream",
     "text": [
      "Sliding window being executed...\n",
      "885.822649644\n",
      "84.1055125281\n",
      "Sanity flag= 1\n",
      "Are lanes detected? True True\n"
     ]
    },
    {
     "name": "stderr",
     "output_type": "stream",
     "text": [
      "\u001b[A\n",
      " 14%|█▍        | 69/485 [00:21<02:26,  2.85it/s]"
     ]
    },
    {
     "name": "stdout",
     "output_type": "stream",
     "text": [
      "Sliding window being executed...\n",
      "170.406661067\n",
      "74.9323813143\n",
      "Sanity flag= 1\n",
      "Are lanes detected? True True\n"
     ]
    },
    {
     "name": "stderr",
     "output_type": "stream",
     "text": [
      "\u001b[A\n",
      " 14%|█▍        | 70/485 [00:21<02:30,  2.76it/s]"
     ]
    },
    {
     "name": "stdout",
     "output_type": "stream",
     "text": [
      "Sliding window being executed...\n",
      "29.7936487408\n",
      "101.074471709\n",
      "Sanity flag= 1\n",
      "Are lanes detected? True True\n"
     ]
    },
    {
     "name": "stderr",
     "output_type": "stream",
     "text": [
      "\u001b[A\n",
      " 15%|█▍        | 71/485 [00:22<02:26,  2.82it/s]"
     ]
    },
    {
     "name": "stdout",
     "output_type": "stream",
     "text": [
      "Sliding window being executed...\n",
      "109.139505238\n",
      "53.3666652477\n",
      "Sanity flag= 1\n",
      "Are lanes detected? True True\n"
     ]
    },
    {
     "name": "stderr",
     "output_type": "stream",
     "text": [
      "\u001b[A\n",
      " 15%|█▍        | 72/485 [00:22<02:24,  2.86it/s]"
     ]
    },
    {
     "name": "stdout",
     "output_type": "stream",
     "text": [
      "Sliding window being executed...\n",
      "91.2179500003\n",
      "39.6139615526\n",
      "Sanity flag= 1\n",
      "Are lanes detected? True True\n"
     ]
    },
    {
     "name": "stderr",
     "output_type": "stream",
     "text": [
      "\u001b[A\n",
      " 15%|█▌        | 73/485 [00:23<02:31,  2.72it/s]"
     ]
    },
    {
     "name": "stdout",
     "output_type": "stream",
     "text": [
      "Sliding window being executed...\n",
      "82.9526507811\n",
      "1435.64191276\n",
      "Sanity flag= 1\n",
      "Are lanes detected? True True\n"
     ]
    },
    {
     "name": "stderr",
     "output_type": "stream",
     "text": [
      "\u001b[A\n",
      " 15%|█▌        | 74/485 [00:23<02:25,  2.82it/s]"
     ]
    },
    {
     "name": "stdout",
     "output_type": "stream",
     "text": [
      "Sliding window being executed...\n",
      "92.8618555435\n",
      "590.354694223\n",
      "Sanity flag= 1\n",
      "Are lanes detected? True True\n"
     ]
    },
    {
     "name": "stderr",
     "output_type": "stream",
     "text": [
      "\u001b[A\n",
      " 15%|█▌        | 75/485 [00:23<02:28,  2.75it/s]"
     ]
    },
    {
     "name": "stdout",
     "output_type": "stream",
     "text": [
      "Sliding window being executed...\n",
      "106.304719823\n",
      "187.173089822\n",
      "Sanity flag= 0\n",
      "Are lanes detected? True True\n"
     ]
    },
    {
     "name": "stderr",
     "output_type": "stream",
     "text": [
      "\u001b[A\n",
      " 16%|█▌        | 76/485 [00:24<02:24,  2.83it/s]"
     ]
    },
    {
     "name": "stdout",
     "output_type": "stream",
     "text": [
      "Sliding window being executed...\n",
      "92.9050388144\n",
      "413.763101607\n",
      "Sanity flag= 1\n",
      "Are lanes detected? True True\n"
     ]
    },
    {
     "name": "stderr",
     "output_type": "stream",
     "text": [
      "\u001b[A\n",
      " 16%|█▌        | 77/485 [00:24<02:21,  2.88it/s]"
     ]
    },
    {
     "name": "stdout",
     "output_type": "stream",
     "text": [
      "Sliding window being executed...\n",
      "93.5810477712\n",
      "135.989946648\n",
      "Sanity flag= 0\n",
      "Are lanes detected? True True\n"
     ]
    },
    {
     "name": "stderr",
     "output_type": "stream",
     "text": [
      "\u001b[A\n",
      " 16%|█▌        | 78/485 [00:24<02:28,  2.74it/s]"
     ]
    },
    {
     "name": "stdout",
     "output_type": "stream",
     "text": [
      "Sliding window being executed...\n",
      "80.7163413261\n",
      "144.15620127\n",
      "Sanity flag= 0\n",
      "Are lanes detected? True True\n"
     ]
    },
    {
     "name": "stderr",
     "output_type": "stream",
     "text": [
      "\u001b[A\n",
      " 16%|█▋        | 79/485 [00:25<02:24,  2.80it/s]"
     ]
    },
    {
     "name": "stdout",
     "output_type": "stream",
     "text": [
      "Sliding window being executed...\n",
      "159.39337945\n",
      "175.181131604\n",
      "Sanity flag= 1\n",
      "Are lanes detected? True True\n"
     ]
    },
    {
     "name": "stderr",
     "output_type": "stream",
     "text": [
      "\u001b[A\n",
      " 16%|█▋        | 80/485 [00:25<02:22,  2.85it/s]"
     ]
    },
    {
     "name": "stdout",
     "output_type": "stream",
     "text": [
      "Sliding window being executed...\n",
      "71.8459985615\n",
      "208.298201281\n",
      "Sanity flag= 1\n",
      "Are lanes detected? True True\n"
     ]
    },
    {
     "name": "stderr",
     "output_type": "stream",
     "text": [
      "\u001b[A\n",
      " 17%|█▋        | 81/485 [00:25<02:28,  2.73it/s]"
     ]
    },
    {
     "name": "stdout",
     "output_type": "stream",
     "text": [
      "Sliding window being executed...\n",
      "101.415014898\n",
      "167.709985391\n",
      "Sanity flag= 0\n",
      "Are lanes detected? True True\n"
     ]
    },
    {
     "name": "stderr",
     "output_type": "stream",
     "text": [
      "\u001b[A\n",
      " 17%|█▋        | 82/485 [00:26<02:24,  2.80it/s]"
     ]
    },
    {
     "name": "stdout",
     "output_type": "stream",
     "text": [
      "Sliding window being executed...\n",
      "124.100502355\n",
      "151.660733485\n",
      "Sanity flag= 0\n",
      "Are lanes detected? True True\n"
     ]
    },
    {
     "name": "stderr",
     "output_type": "stream",
     "text": [
      "\u001b[A\n",
      " 17%|█▋        | 83/485 [00:26<02:22,  2.82it/s]"
     ]
    },
    {
     "name": "stdout",
     "output_type": "stream",
     "text": [
      "Sliding window being executed...\n",
      "1081.96025894\n",
      "830.942363205\n",
      "Sanity flag= 1\n",
      "Are lanes detected? True True\n"
     ]
    },
    {
     "name": "stderr",
     "output_type": "stream",
     "text": [
      "\u001b[A\n",
      " 17%|█▋        | 84/485 [00:26<02:28,  2.71it/s]"
     ]
    },
    {
     "name": "stdout",
     "output_type": "stream",
     "text": [
      "Sliding window being executed...\n",
      "60.7525008123\n",
      "28.3619507621\n",
      "Sanity flag= 1\n",
      "Are lanes detected? True True\n"
     ]
    },
    {
     "name": "stderr",
     "output_type": "stream",
     "text": [
      "\u001b[A\n",
      " 18%|█▊        | 85/485 [00:27<02:24,  2.77it/s]"
     ]
    },
    {
     "name": "stdout",
     "output_type": "stream",
     "text": [
      "Sliding window being executed...\n",
      "46.09348375\n",
      "30.3766437897\n",
      "Sanity flag= 1\n",
      "Are lanes detected? True True\n"
     ]
    },
    {
     "name": "stderr",
     "output_type": "stream",
     "text": [
      "\u001b[A\n",
      " 18%|█▊        | 86/485 [00:27<02:21,  2.82it/s]"
     ]
    },
    {
     "name": "stdout",
     "output_type": "stream",
     "text": [
      "Sliding window being executed...\n",
      "109.202015482\n",
      "33.0989103913\n",
      "Sanity flag= 1\n",
      "Are lanes detected? True True\n"
     ]
    },
    {
     "name": "stderr",
     "output_type": "stream",
     "text": [
      "\u001b[A\n",
      " 18%|█▊        | 87/485 [00:28<02:23,  2.78it/s]"
     ]
    },
    {
     "name": "stdout",
     "output_type": "stream",
     "text": [
      "Sliding window being executed...\n",
      "97.7366308742\n",
      "81.236562359\n",
      "Sanity flag= 0\n",
      "Are lanes detected? True True\n"
     ]
    },
    {
     "name": "stderr",
     "output_type": "stream",
     "text": [
      "\u001b[A\n",
      " 18%|█▊        | 88/485 [00:28<02:24,  2.74it/s]"
     ]
    },
    {
     "name": "stdout",
     "output_type": "stream",
     "text": [
      "Sliding window being executed...\n",
      "112.839103179\n",
      "1083.70994282\n",
      "Sanity flag= 1\n",
      "Are lanes detected? True True\n"
     ]
    },
    {
     "name": "stderr",
     "output_type": "stream",
     "text": [
      "\u001b[A\n",
      " 18%|█▊        | 89/485 [00:28<02:21,  2.80it/s]"
     ]
    },
    {
     "name": "stdout",
     "output_type": "stream",
     "text": [
      "Sliding window being executed...\n",
      "73.1459379256\n",
      "862.342905735\n",
      "Sanity flag= 1\n",
      "Are lanes detected? True True\n"
     ]
    },
    {
     "name": "stderr",
     "output_type": "stream",
     "text": [
      "\u001b[A\n",
      " 19%|█▊        | 90/485 [00:29<02:19,  2.84it/s]"
     ]
    },
    {
     "name": "stdout",
     "output_type": "stream",
     "text": [
      "Sliding window being executed...\n",
      "118.724778773\n",
      "96.5416921451\n",
      "Sanity flag= 1\n",
      "Are lanes detected? True True\n"
     ]
    },
    {
     "name": "stderr",
     "output_type": "stream",
     "text": [
      "\u001b[A\n",
      " 19%|█▉        | 91/485 [00:29<02:24,  2.73it/s]"
     ]
    },
    {
     "name": "stdout",
     "output_type": "stream",
     "text": [
      "Sliding window being executed...\n",
      "71.6813469326\n",
      "898.774181319\n",
      "Sanity flag= 1\n",
      "Are lanes detected? True True\n"
     ]
    },
    {
     "name": "stderr",
     "output_type": "stream",
     "text": [
      "\u001b[A\n",
      " 19%|█▉        | 92/485 [00:29<02:20,  2.80it/s]"
     ]
    },
    {
     "name": "stdout",
     "output_type": "stream",
     "text": [
      "Sliding window being executed...\n",
      "948.984253125\n",
      "473.01489017\n",
      "Sanity flag= 0\n",
      "Are lanes detected? True True\n"
     ]
    },
    {
     "name": "stderr",
     "output_type": "stream",
     "text": [
      "\u001b[A\n",
      " 19%|█▉        | 93/485 [00:30<02:17,  2.85it/s]"
     ]
    },
    {
     "name": "stdout",
     "output_type": "stream",
     "text": [
      "Sliding window being executed...\n",
      "528.006453612\n",
      "447.582901466\n",
      "Sanity flag= 0\n",
      "Are lanes detected? True True\n"
     ]
    },
    {
     "name": "stderr",
     "output_type": "stream",
     "text": [
      "\u001b[A\n",
      " 19%|█▉        | 94/485 [00:30<02:21,  2.77it/s]"
     ]
    },
    {
     "name": "stdout",
     "output_type": "stream",
     "text": [
      "Sliding window being executed...\n",
      "560.881718381\n",
      "453.791650352\n",
      "Sanity flag= 0\n",
      "Are lanes detected? True True\n"
     ]
    },
    {
     "name": "stderr",
     "output_type": "stream",
     "text": [
      "\u001b[A\n",
      " 20%|█▉        | 95/485 [00:30<02:17,  2.84it/s]"
     ]
    },
    {
     "name": "stdout",
     "output_type": "stream",
     "text": [
      "Sliding window being executed...\n",
      "1281.79489748\n",
      "401.192291232\n",
      "Sanity flag= 1\n",
      "Are lanes detected? True True\n"
     ]
    },
    {
     "name": "stderr",
     "output_type": "stream",
     "text": [
      "\u001b[A\n",
      " 20%|█▉        | 96/485 [00:31<02:20,  2.77it/s]"
     ]
    },
    {
     "name": "stdout",
     "output_type": "stream",
     "text": [
      "Sliding window being executed...\n",
      "286.516362256\n",
      "373.194151695\n",
      "Sanity flag= 1\n",
      "Are lanes detected? True True\n"
     ]
    },
    {
     "name": "stderr",
     "output_type": "stream",
     "text": [
      "\u001b[A\n",
      " 20%|██        | 97/485 [00:31<02:38,  2.45it/s]"
     ]
    },
    {
     "name": "stdout",
     "output_type": "stream",
     "text": [
      "Sliding window being executed...\n",
      "8598.3762308\n",
      "204.02767395\n",
      "Sanity flag= 1\n",
      "Are lanes detected? True True\n"
     ]
    },
    {
     "name": "stderr",
     "output_type": "stream",
     "text": [
      "\u001b[A\n",
      " 20%|██        | 98/485 [00:32<02:56,  2.20it/s]"
     ]
    },
    {
     "name": "stdout",
     "output_type": "stream",
     "text": [
      "Sliding window being executed...\n",
      "2925.74243568\n",
      "378.328304704\n",
      "Sanity flag= 1\n",
      "Are lanes detected? True True\n"
     ]
    },
    {
     "name": "stderr",
     "output_type": "stream",
     "text": [
      "\u001b[A\n",
      " 20%|██        | 99/485 [00:32<02:40,  2.40it/s]"
     ]
    },
    {
     "name": "stdout",
     "output_type": "stream",
     "text": [
      "Sliding window being executed...\n",
      "563.880083542\n",
      "445.493587367\n",
      "Sanity flag= 0\n",
      "Are lanes detected? True True\n"
     ]
    },
    {
     "name": "stderr",
     "output_type": "stream",
     "text": [
      "\u001b[A\n",
      " 21%|██        | 100/485 [00:33<02:33,  2.50it/s]"
     ]
    },
    {
     "name": "stdout",
     "output_type": "stream",
     "text": [
      "Sliding window being executed...\n",
      "694.291509679\n",
      "690.510056239\n",
      "Sanity flag= 0\n",
      "Are lanes detected? True True\n"
     ]
    },
    {
     "name": "stderr",
     "output_type": "stream",
     "text": [
      "\u001b[A\n",
      " 21%|██        | 101/485 [00:33<02:28,  2.59it/s]"
     ]
    },
    {
     "name": "stdout",
     "output_type": "stream",
     "text": [
      "Sliding window being executed...\n",
      "263.237559656\n",
      "353.201963454\n",
      "Sanity flag= 1\n",
      "Are lanes detected? True True\n"
     ]
    },
    {
     "name": "stderr",
     "output_type": "stream",
     "text": [
      "\u001b[A\n",
      " 21%|██        | 102/485 [00:33<02:25,  2.64it/s]"
     ]
    },
    {
     "name": "stdout",
     "output_type": "stream",
     "text": [
      "Sliding window being executed...\n",
      "104.895087645\n",
      "914.147796415\n",
      "Sanity flag= 1\n",
      "Are lanes detected? True True\n"
     ]
    },
    {
     "name": "stderr",
     "output_type": "stream",
     "text": [
      "\u001b[A\n",
      " 21%|██        | 103/485 [00:34<02:26,  2.61it/s]"
     ]
    },
    {
     "name": "stdout",
     "output_type": "stream",
     "text": [
      "Sliding window being executed...\n",
      "536.857932618\n",
      "325.631470984\n",
      "Sanity flag= 1\n",
      "Are lanes detected? True True\n"
     ]
    },
    {
     "name": "stderr",
     "output_type": "stream",
     "text": [
      "\u001b[A\n",
      " 21%|██▏       | 104/485 [00:34<02:20,  2.72it/s]"
     ]
    },
    {
     "name": "stdout",
     "output_type": "stream",
     "text": [
      "Sliding window being executed...\n",
      "138.262400132\n",
      "228.174392661\n",
      "Sanity flag= 1\n",
      "Are lanes detected? True True\n"
     ]
    },
    {
     "name": "stderr",
     "output_type": "stream",
     "text": [
      "\u001b[A\n",
      " 22%|██▏       | 105/485 [00:34<02:22,  2.66it/s]"
     ]
    },
    {
     "name": "stdout",
     "output_type": "stream",
     "text": [
      "Sliding window being executed...\n",
      "67.4633622572\n",
      "21205.2320556\n",
      "Sanity flag= 1\n",
      "Are lanes detected? True True\n"
     ]
    },
    {
     "name": "stderr",
     "output_type": "stream",
     "text": [
      "\u001b[A\n",
      " 22%|██▏       | 106/485 [00:35<02:17,  2.75it/s]"
     ]
    },
    {
     "name": "stdout",
     "output_type": "stream",
     "text": [
      "Sliding window being executed...\n",
      "378.137173016\n",
      "400.412918272\n",
      "Sanity flag= 1\n",
      "Are lanes detected? True True\n"
     ]
    },
    {
     "name": "stderr",
     "output_type": "stream",
     "text": [
      "\u001b[A\n",
      " 22%|██▏       | 107/485 [00:35<02:18,  2.73it/s]"
     ]
    },
    {
     "name": "stdout",
     "output_type": "stream",
     "text": [
      "Sliding window being executed...\n",
      "467.939934636\n",
      "1472.8719469\n",
      "Sanity flag= 1\n",
      "Are lanes detected? True True\n"
     ]
    },
    {
     "name": "stderr",
     "output_type": "stream",
     "text": [
      "\u001b[A\n",
      " 22%|██▏       | 108/485 [00:35<02:17,  2.74it/s]"
     ]
    },
    {
     "name": "stdout",
     "output_type": "stream",
     "text": [
      "Sliding window being executed...\n",
      "428.853391812\n",
      "210.673453411\n",
      "Sanity flag= 1\n",
      "Are lanes detected? True True\n"
     ]
    },
    {
     "name": "stderr",
     "output_type": "stream",
     "text": [
      "\u001b[A\n",
      " 22%|██▏       | 109/485 [00:36<02:16,  2.75it/s]"
     ]
    },
    {
     "name": "stdout",
     "output_type": "stream",
     "text": [
      "Sliding window being executed...\n",
      "321.131807639\n",
      "221.114901645\n",
      "Sanity flag= 1\n",
      "Are lanes detected? True True\n"
     ]
    },
    {
     "name": "stderr",
     "output_type": "stream",
     "text": [
      "\u001b[A\n",
      " 23%|██▎       | 110/485 [00:36<02:18,  2.72it/s]"
     ]
    },
    {
     "name": "stdout",
     "output_type": "stream",
     "text": [
      "Sliding window being executed...\n",
      "184.172054534\n",
      "281.114310159\n",
      "Sanity flag= 1\n",
      "Are lanes detected? True True\n"
     ]
    },
    {
     "name": "stderr",
     "output_type": "stream",
     "text": [
      "\u001b[A\n",
      " 23%|██▎       | 111/485 [00:37<02:14,  2.78it/s]"
     ]
    },
    {
     "name": "stdout",
     "output_type": "stream",
     "text": [
      "Sliding window being executed...\n",
      "191.041240063\n",
      "386.966390755\n",
      "Sanity flag= 1\n",
      "Are lanes detected? True True\n"
     ]
    },
    {
     "name": "stderr",
     "output_type": "stream",
     "text": [
      "\u001b[A\n",
      " 23%|██▎       | 112/485 [00:37<02:15,  2.76it/s]"
     ]
    },
    {
     "name": "stdout",
     "output_type": "stream",
     "text": [
      "Sliding window being executed...\n",
      "155.589611526\n",
      "324.911154651\n",
      "Sanity flag= 1\n",
      "Are lanes detected? True True\n"
     ]
    },
    {
     "name": "stderr",
     "output_type": "stream",
     "text": [
      "\u001b[A\n",
      " 23%|██▎       | 113/485 [00:37<02:13,  2.78it/s]"
     ]
    },
    {
     "name": "stdout",
     "output_type": "stream",
     "text": [
      "Sliding window being executed...\n",
      "30.4384974121\n",
      "455.563366231\n",
      "Sanity flag= 1\n",
      "Are lanes detected? True True\n"
     ]
    },
    {
     "name": "stderr",
     "output_type": "stream",
     "text": [
      "\u001b[A\n",
      " 24%|██▎       | 114/485 [00:38<02:13,  2.77it/s]"
     ]
    },
    {
     "name": "stdout",
     "output_type": "stream",
     "text": [
      "Sliding window being executed...\n",
      "108.798688011\n",
      "353.235085561\n",
      "Sanity flag= 1\n",
      "Are lanes detected? True True\n"
     ]
    },
    {
     "name": "stderr",
     "output_type": "stream",
     "text": [
      "\u001b[A\n",
      " 24%|██▎       | 115/485 [00:38<02:13,  2.77it/s]"
     ]
    },
    {
     "name": "stdout",
     "output_type": "stream",
     "text": [
      "Sliding window being executed...\n",
      "98.5320817858\n",
      "355.870785002\n",
      "Sanity flag= 1\n",
      "Are lanes detected? True True\n"
     ]
    },
    {
     "name": "stderr",
     "output_type": "stream",
     "text": [
      "\u001b[A\n",
      " 24%|██▍       | 116/485 [00:38<02:11,  2.81it/s]"
     ]
    },
    {
     "name": "stdout",
     "output_type": "stream",
     "text": [
      "Sliding window being executed...\n",
      "43.7896914411\n",
      "338.00665117\n",
      "Sanity flag= 1\n",
      "Are lanes detected? True True\n"
     ]
    },
    {
     "name": "stderr",
     "output_type": "stream",
     "text": [
      "\u001b[A\n",
      " 24%|██▍       | 117/485 [00:39<02:13,  2.77it/s]"
     ]
    },
    {
     "name": "stdout",
     "output_type": "stream",
     "text": [
      "Sliding window being executed...\n",
      "100.08323627\n",
      "414.665971574\n",
      "Sanity flag= 1\n",
      "Are lanes detected? True True\n"
     ]
    },
    {
     "name": "stderr",
     "output_type": "stream",
     "text": [
      "\u001b[A\n",
      " 24%|██▍       | 118/485 [00:39<02:11,  2.80it/s]"
     ]
    },
    {
     "name": "stdout",
     "output_type": "stream",
     "text": [
      "Sliding window being executed...\n",
      "69.4027469063\n",
      "706.523502673\n",
      "Sanity flag= 1\n",
      "Are lanes detected? True True\n"
     ]
    },
    {
     "name": "stderr",
     "output_type": "stream",
     "text": [
      "\u001b[A\n",
      " 25%|██▍       | 119/485 [00:39<02:10,  2.81it/s]"
     ]
    },
    {
     "name": "stdout",
     "output_type": "stream",
     "text": [
      "Sliding window being executed...\n",
      "46.4467872275\n",
      "1086.92180431\n",
      "Sanity flag= 1\n",
      "Are lanes detected? True True\n"
     ]
    },
    {
     "name": "stderr",
     "output_type": "stream",
     "text": [
      "\u001b[A\n",
      " 25%|██▍       | 120/485 [00:40<02:09,  2.82it/s]"
     ]
    },
    {
     "name": "stdout",
     "output_type": "stream",
     "text": [
      "Sliding window being executed...\n",
      "54.2805263042\n",
      "1240.19152424\n",
      "Sanity flag= 1\n",
      "Are lanes detected? True True\n"
     ]
    },
    {
     "name": "stderr",
     "output_type": "stream",
     "text": [
      "\u001b[A\n",
      " 25%|██▍       | 121/485 [00:40<02:08,  2.83it/s]"
     ]
    },
    {
     "name": "stdout",
     "output_type": "stream",
     "text": [
      "Sliding window being executed...\n",
      "45.9895631895\n",
      "662.956482432\n",
      "Sanity flag= 1\n",
      "Are lanes detected? True True\n"
     ]
    },
    {
     "name": "stderr",
     "output_type": "stream",
     "text": [
      "\u001b[A\n",
      " 25%|██▌       | 122/485 [00:40<02:08,  2.83it/s]"
     ]
    },
    {
     "name": "stdout",
     "output_type": "stream",
     "text": [
      "Sliding window being executed...\n",
      "48.4909057555\n",
      "600.464995839\n",
      "Sanity flag= 1\n",
      "Are lanes detected? True True\n"
     ]
    },
    {
     "name": "stderr",
     "output_type": "stream",
     "text": [
      "\u001b[A\n",
      " 25%|██▌       | 123/485 [00:41<02:07,  2.83it/s]"
     ]
    },
    {
     "name": "stdout",
     "output_type": "stream",
     "text": [
      "Sliding window being executed...\n",
      "47.6430880919\n",
      "416.559035554\n",
      "Sanity flag= 1\n",
      "Are lanes detected? True True\n"
     ]
    },
    {
     "name": "stderr",
     "output_type": "stream",
     "text": [
      "\u001b[A\n",
      " 26%|██▌       | 124/485 [00:41<02:06,  2.85it/s]"
     ]
    },
    {
     "name": "stdout",
     "output_type": "stream",
     "text": [
      "Sliding window being executed...\n",
      "1851.56828579\n",
      "388.511778488\n",
      "Sanity flag= 1\n",
      "Are lanes detected? True True\n"
     ]
    },
    {
     "name": "stderr",
     "output_type": "stream",
     "text": [
      "\u001b[A\n",
      " 26%|██▌       | 125/485 [00:41<02:07,  2.83it/s]"
     ]
    },
    {
     "name": "stdout",
     "output_type": "stream",
     "text": [
      "Sliding window being executed...\n",
      "792.395667535\n",
      "443.033527741\n",
      "Sanity flag= 0\n",
      "Are lanes detected? True True\n"
     ]
    },
    {
     "name": "stderr",
     "output_type": "stream",
     "text": [
      "\u001b[A\n",
      " 26%|██▌       | 126/485 [00:42<02:07,  2.83it/s]"
     ]
    },
    {
     "name": "stdout",
     "output_type": "stream",
     "text": [
      "Sliding window being executed...\n",
      "82.6876566096\n",
      "753.72540895\n",
      "Sanity flag= 1\n",
      "Are lanes detected? True True\n"
     ]
    },
    {
     "name": "stderr",
     "output_type": "stream",
     "text": [
      "\u001b[A\n",
      " 26%|██▌       | 127/485 [00:42<02:06,  2.82it/s]"
     ]
    },
    {
     "name": "stdout",
     "output_type": "stream",
     "text": [
      "Sliding window being executed...\n",
      "46.321777765\n",
      "374.902978502\n",
      "Sanity flag= 1\n",
      "Are lanes detected? True True\n"
     ]
    },
    {
     "name": "stderr",
     "output_type": "stream",
     "text": [
      "\u001b[A\n",
      " 26%|██▋       | 128/485 [00:43<02:07,  2.80it/s]"
     ]
    },
    {
     "name": "stdout",
     "output_type": "stream",
     "text": [
      "Sliding window being executed...\n",
      "199.899854262\n",
      "436.982350758\n",
      "Sanity flag= 1\n",
      "Are lanes detected? True True\n"
     ]
    },
    {
     "name": "stderr",
     "output_type": "stream",
     "text": [
      "\u001b[A\n",
      " 27%|██▋       | 129/485 [00:43<02:06,  2.81it/s]"
     ]
    },
    {
     "name": "stdout",
     "output_type": "stream",
     "text": [
      "Sliding window being executed...\n",
      "594.404846279\n",
      "533.047776886\n",
      "Sanity flag= 0\n",
      "Are lanes detected? True True\n"
     ]
    },
    {
     "name": "stderr",
     "output_type": "stream",
     "text": [
      "\u001b[A\n",
      " 27%|██▋       | 130/485 [00:43<02:08,  2.76it/s]"
     ]
    },
    {
     "name": "stdout",
     "output_type": "stream",
     "text": [
      "Sliding window being executed...\n",
      "1501.31628737\n",
      "1340.26348476\n",
      "Sanity flag= 1\n",
      "Are lanes detected? True True\n"
     ]
    },
    {
     "name": "stderr",
     "output_type": "stream",
     "text": [
      "\u001b[A\n",
      " 27%|██▋       | 131/485 [00:44<02:05,  2.81it/s]"
     ]
    },
    {
     "name": "stdout",
     "output_type": "stream",
     "text": [
      "Sliding window being executed...\n",
      "187.006149334\n",
      "278.513709724\n",
      "Sanity flag= 1\n",
      "Are lanes detected? True True\n"
     ]
    },
    {
     "name": "stderr",
     "output_type": "stream",
     "text": [
      "\u001b[A\n",
      " 27%|██▋       | 132/485 [00:44<02:08,  2.74it/s]"
     ]
    },
    {
     "name": "stdout",
     "output_type": "stream",
     "text": [
      "Sliding window being executed...\n",
      "131.548976709\n",
      "381.404747252\n",
      "Sanity flag= 1\n",
      "Are lanes detected? True True\n"
     ]
    },
    {
     "name": "stderr",
     "output_type": "stream",
     "text": [
      "\u001b[A\n",
      " 27%|██▋       | 133/485 [00:44<02:05,  2.82it/s]"
     ]
    },
    {
     "name": "stdout",
     "output_type": "stream",
     "text": [
      "Sliding window being executed...\n",
      "149.1050794\n",
      "1756.93952031\n",
      "Sanity flag= 1\n",
      "Are lanes detected? True True\n"
     ]
    },
    {
     "name": "stderr",
     "output_type": "stream",
     "text": [
      "\u001b[A\n",
      " 28%|██▊       | 134/485 [00:45<02:03,  2.83it/s]"
     ]
    },
    {
     "name": "stdout",
     "output_type": "stream",
     "text": [
      "Sliding window being executed...\n",
      "106.077184923\n",
      "812.864039823\n",
      "Sanity flag= 1\n",
      "Are lanes detected? True True\n"
     ]
    },
    {
     "name": "stderr",
     "output_type": "stream",
     "text": [
      "\u001b[A\n",
      " 28%|██▊       | 135/485 [00:45<02:03,  2.84it/s]"
     ]
    },
    {
     "name": "stdout",
     "output_type": "stream",
     "text": [
      "Sliding window being executed...\n",
      "125.755794665\n",
      "5631.40687619\n",
      "Sanity flag= 1\n",
      "Are lanes detected? True True\n"
     ]
    },
    {
     "name": "stderr",
     "output_type": "stream",
     "text": [
      "\u001b[A\n",
      " 28%|██▊       | 136/485 [00:45<02:05,  2.79it/s]"
     ]
    },
    {
     "name": "stdout",
     "output_type": "stream",
     "text": [
      "Sliding window being executed...\n",
      "135.461584504\n",
      "1114.21264901\n",
      "Sanity flag= 1\n",
      "Are lanes detected? True True\n"
     ]
    },
    {
     "name": "stderr",
     "output_type": "stream",
     "text": [
      "\u001b[A\n",
      " 28%|██▊       | 137/485 [00:46<02:01,  2.86it/s]"
     ]
    },
    {
     "name": "stdout",
     "output_type": "stream",
     "text": [
      "Sliding window being executed...\n",
      "121.457106558\n",
      "3121.36674283\n",
      "Sanity flag= 1\n",
      "Are lanes detected? True True\n"
     ]
    },
    {
     "name": "stderr",
     "output_type": "stream",
     "text": [
      "\u001b[A\n",
      " 28%|██▊       | 138/485 [00:46<02:01,  2.87it/s]"
     ]
    },
    {
     "name": "stdout",
     "output_type": "stream",
     "text": [
      "Sliding window being executed...\n",
      "127.784236941\n",
      "422.419224532\n",
      "Sanity flag= 0\n",
      "Are lanes detected? True True\n"
     ]
    },
    {
     "name": "stderr",
     "output_type": "stream",
     "text": [
      "\u001b[A\n",
      " 29%|██▊       | 139/485 [00:46<02:03,  2.81it/s]"
     ]
    },
    {
     "name": "stdout",
     "output_type": "stream",
     "text": [
      "Sliding window being executed...\n",
      "155.993058955\n",
      "555.457137327\n",
      "Sanity flag= 0\n",
      "Are lanes detected? True True\n"
     ]
    },
    {
     "name": "stderr",
     "output_type": "stream",
     "text": [
      "\u001b[A\n",
      " 29%|██▉       | 140/485 [00:47<01:59,  2.88it/s]"
     ]
    },
    {
     "name": "stdout",
     "output_type": "stream",
     "text": [
      "Sliding window being executed...\n",
      "225.615669782\n",
      "306.447445214\n",
      "Sanity flag= 0\n",
      "Are lanes detected? True True\n"
     ]
    },
    {
     "name": "stderr",
     "output_type": "stream",
     "text": [
      "\u001b[A\n",
      " 29%|██▉       | 141/485 [00:47<02:01,  2.83it/s]"
     ]
    },
    {
     "name": "stdout",
     "output_type": "stream",
     "text": [
      "Sliding window being executed...\n",
      "429.412840239\n",
      "523.825990636\n",
      "Sanity flag= 0\n",
      "Are lanes detected? True True\n"
     ]
    },
    {
     "name": "stderr",
     "output_type": "stream",
     "text": [
      "\u001b[A\n",
      " 29%|██▉       | 142/485 [00:48<02:02,  2.80it/s]"
     ]
    },
    {
     "name": "stdout",
     "output_type": "stream",
     "text": [
      "Sliding window being executed...\n",
      "675.987860263\n",
      "558.067285646\n",
      "Sanity flag= 0\n",
      "Are lanes detected? True True\n"
     ]
    },
    {
     "name": "stderr",
     "output_type": "stream",
     "text": [
      "\u001b[A\n",
      " 29%|██▉       | 143/485 [00:48<02:01,  2.81it/s]"
     ]
    },
    {
     "name": "stdout",
     "output_type": "stream",
     "text": [
      "Sliding window being executed...\n",
      "443.196956569\n",
      "240.346586249\n",
      "Sanity flag= 1\n",
      "Are lanes detected? True True\n"
     ]
    },
    {
     "name": "stderr",
     "output_type": "stream",
     "text": [
      "\u001b[A\n",
      " 30%|██▉       | 144/485 [00:48<02:01,  2.81it/s]"
     ]
    },
    {
     "name": "stdout",
     "output_type": "stream",
     "text": [
      "Sliding window being executed...\n",
      "2442.28963961\n",
      "183.024057894\n",
      "Sanity flag= 1\n",
      "Are lanes detected? True True\n"
     ]
    },
    {
     "name": "stderr",
     "output_type": "stream",
     "text": [
      "\u001b[A\n",
      " 30%|██▉       | 145/485 [00:49<02:01,  2.80it/s]"
     ]
    },
    {
     "name": "stdout",
     "output_type": "stream",
     "text": [
      "Sliding window being executed...\n",
      "109.464055761\n",
      "228.594407133\n",
      "Sanity flag= 1\n",
      "Are lanes detected? True True\n"
     ]
    },
    {
     "name": "stderr",
     "output_type": "stream",
     "text": [
      "\u001b[A\n",
      " 30%|███       | 146/485 [00:49<02:01,  2.79it/s]"
     ]
    },
    {
     "name": "stdout",
     "output_type": "stream",
     "text": [
      "Sliding window being executed...\n",
      "523.739332767\n",
      "300.683780946\n",
      "Sanity flag= 1\n",
      "Are lanes detected? True True\n"
     ]
    },
    {
     "name": "stderr",
     "output_type": "stream",
     "text": [
      "\u001b[A\n",
      " 30%|███       | 147/485 [00:49<02:02,  2.77it/s]"
     ]
    },
    {
     "name": "stdout",
     "output_type": "stream",
     "text": [
      "Sliding window being executed...\n",
      "227.287412845\n",
      "518.039173593\n",
      "Sanity flag= 0\n",
      "Are lanes detected? True True\n"
     ]
    },
    {
     "name": "stderr",
     "output_type": "stream",
     "text": [
      "\u001b[A\n",
      " 31%|███       | 148/485 [00:50<02:02,  2.74it/s]"
     ]
    },
    {
     "name": "stdout",
     "output_type": "stream",
     "text": [
      "Sliding window being executed...\n",
      "860.201270412\n",
      "430.196116081\n",
      "Sanity flag= 0\n",
      "Are lanes detected? True True\n"
     ]
    },
    {
     "name": "stderr",
     "output_type": "stream",
     "text": [
      "\u001b[A\n",
      " 31%|███       | 149/485 [00:50<02:03,  2.73it/s]"
     ]
    },
    {
     "name": "stdout",
     "output_type": "stream",
     "text": [
      "Sliding window being executed...\n",
      "907.035013131\n",
      "327.762739059\n",
      "Sanity flag= 0\n",
      "Are lanes detected? True True\n"
     ]
    },
    {
     "name": "stderr",
     "output_type": "stream",
     "text": [
      "\u001b[A\n",
      " 31%|███       | 150/485 [00:50<02:03,  2.71it/s]"
     ]
    },
    {
     "name": "stdout",
     "output_type": "stream",
     "text": [
      "Sliding window being executed...\n",
      "811.593738439\n",
      "6936.52578757\n",
      "Sanity flag= 1\n",
      "Are lanes detected? True True\n"
     ]
    },
    {
     "name": "stderr",
     "output_type": "stream",
     "text": [
      "\u001b[A\n",
      " 31%|███       | 151/485 [00:51<02:03,  2.72it/s]"
     ]
    },
    {
     "name": "stdout",
     "output_type": "stream",
     "text": [
      "Sliding window being executed...\n",
      "514.570142301\n",
      "2629.24034733\n",
      "Sanity flag= 1\n",
      "Are lanes detected? True True\n"
     ]
    },
    {
     "name": "stderr",
     "output_type": "stream",
     "text": [
      "\u001b[A\n",
      " 31%|███▏      | 152/485 [00:51<02:24,  2.30it/s]"
     ]
    },
    {
     "name": "stdout",
     "output_type": "stream",
     "text": [
      "Sliding window being executed...\n",
      "485.462153625\n",
      "2618.68478829\n",
      "Sanity flag= 1\n",
      "Are lanes detected? True True\n"
     ]
    },
    {
     "name": "stderr",
     "output_type": "stream",
     "text": [
      "\u001b[A\n",
      " 32%|███▏      | 153/485 [00:52<02:41,  2.06it/s]"
     ]
    },
    {
     "name": "stdout",
     "output_type": "stream",
     "text": [
      "Sliding window being executed...\n",
      "1039.70159559\n",
      "683.6580693\n",
      "Sanity flag= 1\n",
      "Are lanes detected? True True\n"
     ]
    },
    {
     "name": "stderr",
     "output_type": "stream",
     "text": [
      "\u001b[A\n",
      " 32%|███▏      | 154/485 [00:52<02:29,  2.22it/s]"
     ]
    },
    {
     "name": "stdout",
     "output_type": "stream",
     "text": [
      "Sliding window being executed...\n",
      "1263.50866288\n",
      "1178.64556195\n",
      "Sanity flag= 1\n",
      "Are lanes detected? True True\n"
     ]
    },
    {
     "name": "stderr",
     "output_type": "stream",
     "text": [
      "\u001b[A\n",
      " 32%|███▏      | 155/485 [00:53<02:20,  2.34it/s]"
     ]
    },
    {
     "name": "stdout",
     "output_type": "stream",
     "text": [
      "Sliding window being executed...\n",
      "370.274641575\n",
      "614.684283597\n",
      "Sanity flag= 1\n",
      "Are lanes detected? True True\n"
     ]
    },
    {
     "name": "stderr",
     "output_type": "stream",
     "text": [
      "\u001b[A\n",
      " 32%|███▏      | 156/485 [00:53<02:15,  2.42it/s]"
     ]
    },
    {
     "name": "stdout",
     "output_type": "stream",
     "text": [
      "Sliding window being executed...\n",
      "184.115459888\n",
      "469.792527753\n",
      "Sanity flag= 1\n",
      "Are lanes detected? True True\n"
     ]
    },
    {
     "name": "stderr",
     "output_type": "stream",
     "text": [
      "\u001b[A\n",
      " 32%|███▏      | 157/485 [00:53<02:11,  2.49it/s]"
     ]
    },
    {
     "name": "stdout",
     "output_type": "stream",
     "text": [
      "Sliding window being executed...\n",
      "493.250675506\n",
      "410.384934169\n",
      "Sanity flag= 1\n",
      "Are lanes detected? True True\n"
     ]
    },
    {
     "name": "stderr",
     "output_type": "stream",
     "text": [
      "\u001b[A\n",
      " 33%|███▎      | 158/485 [00:54<02:08,  2.55it/s]"
     ]
    },
    {
     "name": "stdout",
     "output_type": "stream",
     "text": [
      "Sliding window being executed...\n",
      "341.368053689\n",
      "209.785186766\n",
      "Sanity flag= 1\n",
      "Are lanes detected? True True\n"
     ]
    },
    {
     "name": "stderr",
     "output_type": "stream",
     "text": [
      "\u001b[A\n",
      " 33%|███▎      | 159/485 [00:54<02:05,  2.59it/s]"
     ]
    },
    {
     "name": "stdout",
     "output_type": "stream",
     "text": [
      "Sliding window being executed...\n",
      "252.616216886\n",
      "531.408382019\n",
      "Sanity flag= 1\n",
      "Are lanes detected? True True\n"
     ]
    },
    {
     "name": "stderr",
     "output_type": "stream",
     "text": [
      "\u001b[A\n",
      " 33%|███▎      | 160/485 [00:55<02:07,  2.54it/s]"
     ]
    },
    {
     "name": "stdout",
     "output_type": "stream",
     "text": [
      "Sliding window being executed...\n",
      "205.610477834\n",
      "184.779327743\n",
      "Sanity flag= 0\n",
      "Are lanes detected? True True\n"
     ]
    },
    {
     "name": "stderr",
     "output_type": "stream",
     "text": [
      "\u001b[A\n",
      " 33%|███▎      | 161/485 [00:55<02:04,  2.61it/s]"
     ]
    },
    {
     "name": "stdout",
     "output_type": "stream",
     "text": [
      "Sliding window being executed...\n",
      "407.325437587\n",
      "354.707860911\n",
      "Sanity flag= 1\n",
      "Are lanes detected? True True\n"
     ]
    },
    {
     "name": "stderr",
     "output_type": "stream",
     "text": [
      "\u001b[A\n",
      " 33%|███▎      | 162/485 [00:55<02:01,  2.65it/s]"
     ]
    },
    {
     "name": "stdout",
     "output_type": "stream",
     "text": [
      "Sliding window being executed...\n",
      "527.941126893\n",
      "270.557237077\n",
      "Sanity flag= 0\n",
      "Are lanes detected? True True\n"
     ]
    },
    {
     "name": "stderr",
     "output_type": "stream",
     "text": [
      "\u001b[A\n",
      " 34%|███▎      | 163/485 [00:56<02:02,  2.62it/s]"
     ]
    },
    {
     "name": "stdout",
     "output_type": "stream",
     "text": [
      "Sliding window being executed...\n",
      "239.230723792\n",
      "223.238699418\n",
      "Sanity flag= 0\n",
      "Are lanes detected? True True\n"
     ]
    },
    {
     "name": "stderr",
     "output_type": "stream",
     "text": [
      "\u001b[A\n",
      " 34%|███▍      | 164/485 [00:56<02:02,  2.63it/s]"
     ]
    },
    {
     "name": "stdout",
     "output_type": "stream",
     "text": [
      "Sliding window being executed...\n",
      "320.913804985\n",
      "240.086324888\n",
      "Sanity flag= 0\n",
      "Are lanes detected? True True\n"
     ]
    },
    {
     "name": "stderr",
     "output_type": "stream",
     "text": [
      "\u001b[A\n",
      " 34%|███▍      | 165/485 [00:57<02:00,  2.65it/s]"
     ]
    },
    {
     "name": "stdout",
     "output_type": "stream",
     "text": [
      "Sliding window being executed...\n",
      "335.912713381\n",
      "239.863677683\n",
      "Sanity flag= 0\n",
      "Are lanes detected? True True\n"
     ]
    },
    {
     "name": "stderr",
     "output_type": "stream",
     "text": [
      "\u001b[A\n",
      " 34%|███▍      | 166/485 [00:57<01:59,  2.66it/s]"
     ]
    },
    {
     "name": "stdout",
     "output_type": "stream",
     "text": [
      "Sliding window being executed...\n",
      "347.836373472\n",
      "209.865996577\n",
      "Sanity flag= 0\n",
      "Are lanes detected? True True\n"
     ]
    },
    {
     "name": "stderr",
     "output_type": "stream",
     "text": [
      "\u001b[A\n",
      " 34%|███▍      | 167/485 [00:57<01:58,  2.68it/s]"
     ]
    },
    {
     "name": "stdout",
     "output_type": "stream",
     "text": [
      "Sliding window being executed...\n",
      "1325.61436618\n",
      "201.988116927\n",
      "Sanity flag= 1\n",
      "Are lanes detected? True True\n"
     ]
    },
    {
     "name": "stderr",
     "output_type": "stream",
     "text": [
      "\u001b[A\n",
      " 35%|███▍      | 168/485 [00:58<01:58,  2.67it/s]"
     ]
    },
    {
     "name": "stdout",
     "output_type": "stream",
     "text": [
      "Sliding window being executed...\n",
      "831.625020252\n",
      "256.106560296\n",
      "Sanity flag= 0\n",
      "Are lanes detected? True True\n"
     ]
    },
    {
     "name": "stderr",
     "output_type": "stream",
     "text": [
      "\u001b[A\n",
      " 35%|███▍      | 169/485 [00:58<01:58,  2.68it/s]"
     ]
    },
    {
     "name": "stdout",
     "output_type": "stream",
     "text": [
      "Sliding window being executed...\n",
      "86743.7119017\n",
      "249.480861628\n",
      "Sanity flag= 1\n",
      "Are lanes detected? True True\n"
     ]
    },
    {
     "name": "stderr",
     "output_type": "stream",
     "text": [
      "\u001b[A\n",
      " 35%|███▌      | 170/485 [00:58<01:59,  2.65it/s]"
     ]
    },
    {
     "name": "stdout",
     "output_type": "stream",
     "text": [
      "Sliding window being executed...\n",
      "2724.52260427\n",
      "7011.6831324\n",
      "Sanity flag= 1\n",
      "Are lanes detected? True True\n"
     ]
    },
    {
     "name": "stderr",
     "output_type": "stream",
     "text": [
      "\u001b[A\n",
      " 35%|███▌      | 171/485 [00:59<01:57,  2.68it/s]"
     ]
    },
    {
     "name": "stdout",
     "output_type": "stream",
     "text": [
      "Sliding window being executed...\n",
      "597.532325208\n",
      "291.244602807\n",
      "Sanity flag= 1\n",
      "Are lanes detected? True True\n"
     ]
    },
    {
     "name": "stderr",
     "output_type": "stream",
     "text": [
      "\u001b[A\n",
      " 35%|███▌      | 172/485 [00:59<01:56,  2.69it/s]"
     ]
    },
    {
     "name": "stdout",
     "output_type": "stream",
     "text": [
      "Sliding window being executed...\n",
      "456.495653636\n",
      "297.214052909\n",
      "Sanity flag= 0\n",
      "Are lanes detected? True True\n"
     ]
    },
    {
     "name": "stderr",
     "output_type": "stream",
     "text": [
      "\u001b[A\n",
      " 36%|███▌      | 173/485 [00:59<01:56,  2.69it/s]"
     ]
    },
    {
     "name": "stdout",
     "output_type": "stream",
     "text": [
      "Sliding window being executed...\n",
      "1271.31341638\n",
      "213.390351355\n",
      "Sanity flag= 1\n",
      "Are lanes detected? True True\n"
     ]
    },
    {
     "name": "stderr",
     "output_type": "stream",
     "text": [
      "\u001b[A\n",
      " 36%|███▌      | 174/485 [01:00<01:55,  2.69it/s]"
     ]
    },
    {
     "name": "stdout",
     "output_type": "stream",
     "text": [
      "Sliding window being executed...\n",
      "133.748299308\n",
      "191.508507227\n",
      "Sanity flag= 1\n",
      "Are lanes detected? True True\n"
     ]
    },
    {
     "name": "stderr",
     "output_type": "stream",
     "text": [
      "\u001b[A\n",
      " 36%|███▌      | 175/485 [01:00<01:55,  2.68it/s]"
     ]
    },
    {
     "name": "stdout",
     "output_type": "stream",
     "text": [
      "Sliding window being executed...\n",
      "189.60972685\n",
      "270.828486252\n",
      "Sanity flag= 1\n",
      "Are lanes detected? True True\n"
     ]
    },
    {
     "name": "stderr",
     "output_type": "stream",
     "text": [
      "\u001b[A\n",
      " 36%|███▋      | 176/485 [01:01<01:54,  2.69it/s]"
     ]
    },
    {
     "name": "stdout",
     "output_type": "stream",
     "text": [
      "Sliding window being executed...\n",
      "176.909835508\n",
      "265.86172284\n",
      "Sanity flag= 0\n",
      "Are lanes detected? True True\n"
     ]
    },
    {
     "name": "stderr",
     "output_type": "stream",
     "text": [
      "\u001b[A\n",
      " 36%|███▋      | 177/485 [01:01<01:54,  2.68it/s]"
     ]
    },
    {
     "name": "stdout",
     "output_type": "stream",
     "text": [
      "Sliding window being executed...\n",
      "276.432508785\n",
      "160.012961444\n",
      "Sanity flag= 0\n",
      "Are lanes detected? True True\n"
     ]
    },
    {
     "name": "stderr",
     "output_type": "stream",
     "text": [
      "\u001b[A\n",
      " 37%|███▋      | 178/485 [01:01<01:54,  2.67it/s]"
     ]
    },
    {
     "name": "stdout",
     "output_type": "stream",
     "text": [
      "Sliding window being executed...\n",
      "299.642156448\n",
      "270.155580922\n",
      "Sanity flag= 1\n",
      "Are lanes detected? True True\n"
     ]
    },
    {
     "name": "stderr",
     "output_type": "stream",
     "text": [
      "\u001b[A\n",
      " 37%|███▋      | 179/485 [01:02<01:55,  2.64it/s]"
     ]
    },
    {
     "name": "stdout",
     "output_type": "stream",
     "text": [
      "Sliding window being executed...\n",
      "179.290786092\n",
      "377.155557199\n",
      "Sanity flag= 1\n",
      "Are lanes detected? True True\n"
     ]
    },
    {
     "name": "stderr",
     "output_type": "stream",
     "text": [
      "\u001b[A\n",
      " 37%|███▋      | 180/485 [01:02<01:55,  2.65it/s]"
     ]
    },
    {
     "name": "stdout",
     "output_type": "stream",
     "text": [
      "Sliding window being executed...\n",
      "186.682215454\n",
      "8935.36839483\n",
      "Sanity flag= 1\n",
      "Are lanes detected? True True\n"
     ]
    },
    {
     "name": "stderr",
     "output_type": "stream",
     "text": [
      "\u001b[A\n",
      " 37%|███▋      | 181/485 [01:02<01:54,  2.66it/s]"
     ]
    },
    {
     "name": "stdout",
     "output_type": "stream",
     "text": [
      "Sliding window being executed...\n",
      "3783.34633566\n",
      "795.257184392\n",
      "Sanity flag= 1\n",
      "Are lanes detected? True True\n"
     ]
    },
    {
     "name": "stderr",
     "output_type": "stream",
     "text": [
      "\u001b[A\n",
      " 38%|███▊      | 182/485 [01:03<01:52,  2.69it/s]"
     ]
    },
    {
     "name": "stdout",
     "output_type": "stream",
     "text": [
      "Sliding window being executed...\n",
      "370.914755257\n",
      "225.231792112\n",
      "Sanity flag= 1\n",
      "Are lanes detected? True True\n"
     ]
    },
    {
     "name": "stderr",
     "output_type": "stream",
     "text": [
      "\u001b[A\n",
      " 38%|███▊      | 183/485 [01:03<01:51,  2.70it/s]"
     ]
    },
    {
     "name": "stdout",
     "output_type": "stream",
     "text": [
      "Sliding window being executed...\n",
      "363.082086266\n",
      "194.906421781\n",
      "Sanity flag= 1\n",
      "Are lanes detected? True True\n"
     ]
    },
    {
     "name": "stderr",
     "output_type": "stream",
     "text": [
      "\u001b[A\n",
      " 38%|███▊      | 184/485 [01:04<01:52,  2.68it/s]"
     ]
    },
    {
     "name": "stdout",
     "output_type": "stream",
     "text": [
      "Sliding window being executed...\n",
      "209.734180795\n",
      "148.804106184\n",
      "Sanity flag= 1\n",
      "Are lanes detected? True True\n"
     ]
    },
    {
     "name": "stderr",
     "output_type": "stream",
     "text": [
      "\u001b[A\n",
      " 38%|███▊      | 185/485 [01:04<01:51,  2.68it/s]"
     ]
    },
    {
     "name": "stdout",
     "output_type": "stream",
     "text": [
      "Sliding window being executed...\n",
      "149.262172168\n",
      "2873.39839122\n",
      "Sanity flag= 1\n",
      "Are lanes detected? True True\n"
     ]
    },
    {
     "name": "stderr",
     "output_type": "stream",
     "text": [
      "\u001b[A\n",
      " 38%|███▊      | 186/485 [01:04<01:51,  2.69it/s]"
     ]
    },
    {
     "name": "stdout",
     "output_type": "stream",
     "text": [
      "Sliding window being executed...\n",
      "145.966648946\n",
      "347.291360776\n",
      "Sanity flag= 1\n",
      "Are lanes detected? True True\n"
     ]
    },
    {
     "name": "stderr",
     "output_type": "stream",
     "text": [
      "\u001b[A\n",
      " 39%|███▊      | 187/485 [01:05<01:50,  2.71it/s]"
     ]
    },
    {
     "name": "stdout",
     "output_type": "stream",
     "text": [
      "Sliding window being executed...\n",
      "128.078264367\n",
      "325.891412705\n",
      "Sanity flag= 1\n",
      "Are lanes detected? True True\n"
     ]
    },
    {
     "name": "stderr",
     "output_type": "stream",
     "text": [
      "\u001b[A\n",
      " 39%|███▉      | 188/485 [01:05<01:48,  2.74it/s]"
     ]
    },
    {
     "name": "stdout",
     "output_type": "stream",
     "text": [
      "Sliding window being executed...\n",
      "47602.5642312\n",
      "155.531526466\n",
      "Sanity flag= 1\n",
      "Are lanes detected? True True\n"
     ]
    },
    {
     "name": "stderr",
     "output_type": "stream",
     "text": [
      "\u001b[A\n",
      " 39%|███▉      | 189/485 [01:05<01:47,  2.76it/s]"
     ]
    },
    {
     "name": "stdout",
     "output_type": "stream",
     "text": [
      "Sliding window being executed...\n",
      "134.169652168\n",
      "134.169652168\n",
      "Sanity flag= 0\n",
      "Are lanes detected? True True\n"
     ]
    },
    {
     "name": "stderr",
     "output_type": "stream",
     "text": [
      "\u001b[A\n",
      " 39%|███▉      | 190/485 [01:06<01:46,  2.77it/s]"
     ]
    },
    {
     "name": "stdout",
     "output_type": "stream",
     "text": [
      "Sliding window being executed...\n",
      "97.7492246594\n",
      "250.239122825\n",
      "Sanity flag= 1\n",
      "Are lanes detected? True True\n"
     ]
    },
    {
     "name": "stderr",
     "output_type": "stream",
     "text": [
      "\u001b[A\n",
      " 39%|███▉      | 191/485 [01:06<01:45,  2.79it/s]"
     ]
    },
    {
     "name": "stdout",
     "output_type": "stream",
     "text": [
      "Sliding window being executed...\n",
      "127.590371948\n",
      "948.615463358\n",
      "Sanity flag= 1\n",
      "Are lanes detected? True True\n"
     ]
    },
    {
     "name": "stderr",
     "output_type": "stream",
     "text": [
      "\u001b[A\n",
      " 40%|███▉      | 192/485 [01:06<01:45,  2.78it/s]"
     ]
    },
    {
     "name": "stdout",
     "output_type": "stream",
     "text": [
      "Sliding window being executed...\n",
      "115.337149689\n",
      "99.0867571798\n",
      "Sanity flag= 0\n",
      "Are lanes detected? True True\n"
     ]
    },
    {
     "name": "stderr",
     "output_type": "stream",
     "text": [
      "\u001b[A\n",
      " 40%|███▉      | 193/485 [01:07<01:47,  2.71it/s]"
     ]
    },
    {
     "name": "stdout",
     "output_type": "stream",
     "text": [
      "Sliding window being executed...\n",
      "121.106523948\n",
      "218.613641848\n",
      "Sanity flag= 0\n",
      "Are lanes detected? True True\n"
     ]
    },
    {
     "name": "stderr",
     "output_type": "stream",
     "text": [
      "\u001b[A\n",
      " 40%|████      | 194/485 [01:07<01:45,  2.75it/s]"
     ]
    },
    {
     "name": "stdout",
     "output_type": "stream",
     "text": [
      "Sliding window being executed...\n",
      "222.023502583\n",
      "222.278582689\n",
      "Sanity flag= 0\n",
      "Are lanes detected? True True\n"
     ]
    },
    {
     "name": "stderr",
     "output_type": "stream",
     "text": [
      "\u001b[A\n",
      " 40%|████      | 195/485 [01:08<01:44,  2.76it/s]"
     ]
    },
    {
     "name": "stdout",
     "output_type": "stream",
     "text": [
      "Sliding window being executed...\n",
      "397.429167678\n",
      "432.089114204\n",
      "Sanity flag= 0\n",
      "Are lanes detected? True True\n"
     ]
    },
    {
     "name": "stderr",
     "output_type": "stream",
     "text": [
      "\u001b[A\n",
      " 40%|████      | 196/485 [01:08<01:44,  2.76it/s]"
     ]
    },
    {
     "name": "stdout",
     "output_type": "stream",
     "text": [
      "Sliding window being executed...\n",
      "241.041713785\n",
      "92.2249757871\n",
      "Sanity flag= 1\n",
      "Are lanes detected? True True\n"
     ]
    },
    {
     "name": "stderr",
     "output_type": "stream",
     "text": [
      "\u001b[A\n",
      " 41%|████      | 197/485 [01:08<01:44,  2.76it/s]"
     ]
    },
    {
     "name": "stdout",
     "output_type": "stream",
     "text": [
      "Sliding window being executed...\n",
      "2440.4006505\n",
      "396.880923565\n",
      "Sanity flag= 1\n",
      "Are lanes detected? True True\n"
     ]
    },
    {
     "name": "stderr",
     "output_type": "stream",
     "text": [
      "\u001b[A\n",
      " 41%|████      | 198/485 [01:09<01:44,  2.74it/s]"
     ]
    },
    {
     "name": "stdout",
     "output_type": "stream",
     "text": [
      "Sliding window being executed...\n",
      "2578.48941814\n",
      "288.059913342\n",
      "Sanity flag= 1\n",
      "Are lanes detected? True True\n"
     ]
    },
    {
     "name": "stderr",
     "output_type": "stream",
     "text": [
      "\u001b[A\n",
      " 41%|████      | 199/485 [01:09<01:44,  2.74it/s]"
     ]
    },
    {
     "name": "stdout",
     "output_type": "stream",
     "text": [
      "Sliding window being executed...\n",
      "140.068744769\n",
      "329.366762693\n",
      "Sanity flag= 0\n",
      "Are lanes detected? True True\n"
     ]
    },
    {
     "name": "stderr",
     "output_type": "stream",
     "text": [
      "\u001b[A\n",
      " 41%|████      | 200/485 [01:09<01:43,  2.75it/s]"
     ]
    },
    {
     "name": "stdout",
     "output_type": "stream",
     "text": [
      "Sliding window being executed...\n",
      "736.478677623\n",
      "1069.82883245\n",
      "Sanity flag= 0\n",
      "Are lanes detected? True True\n"
     ]
    },
    {
     "name": "stderr",
     "output_type": "stream",
     "text": [
      "\u001b[A\n",
      " 41%|████▏     | 201/485 [01:10<01:43,  2.76it/s]"
     ]
    },
    {
     "name": "stdout",
     "output_type": "stream",
     "text": [
      "Sliding window being executed...\n",
      "1340.42078368\n",
      "284.291231417\n",
      "Sanity flag= 1\n",
      "Are lanes detected? True True\n"
     ]
    },
    {
     "name": "stderr",
     "output_type": "stream",
     "text": [
      "\u001b[A\n",
      " 42%|████▏     | 202/485 [01:10<01:42,  2.76it/s]"
     ]
    },
    {
     "name": "stdout",
     "output_type": "stream",
     "text": [
      "Sliding window being executed...\n",
      "187.902450868\n",
      "150.185790282\n",
      "Sanity flag= 0\n",
      "Are lanes detected? True True\n"
     ]
    },
    {
     "name": "stderr",
     "output_type": "stream",
     "text": [
      "\u001b[A\n",
      " 42%|████▏     | 203/485 [01:10<01:41,  2.78it/s]"
     ]
    },
    {
     "name": "stdout",
     "output_type": "stream",
     "text": [
      "Sliding window being executed...\n",
      "556.252333556\n",
      "168.060305642\n",
      "Sanity flag= 1\n",
      "Are lanes detected? True True\n"
     ]
    },
    {
     "name": "stderr",
     "output_type": "stream",
     "text": [
      "\u001b[A\n",
      " 42%|████▏     | 204/485 [01:11<01:41,  2.76it/s]"
     ]
    },
    {
     "name": "stdout",
     "output_type": "stream",
     "text": [
      "Sliding window being executed...\n",
      "136.303515988\n",
      "55.5021773573\n",
      "Sanity flag= 1\n",
      "Are lanes detected? True True\n"
     ]
    },
    {
     "name": "stderr",
     "output_type": "stream",
     "text": [
      "\u001b[A\n",
      " 42%|████▏     | 205/485 [01:11<02:01,  2.30it/s]"
     ]
    },
    {
     "name": "stdout",
     "output_type": "stream",
     "text": [
      "Sliding window being executed...\n",
      "119.269201704\n",
      "403.239276692\n",
      "Sanity flag= 0\n",
      "Are lanes detected? True True\n"
     ]
    },
    {
     "name": "stderr",
     "output_type": "stream",
     "text": [
      "\u001b[A\n",
      " 42%|████▏     | 206/485 [01:12<02:15,  2.06it/s]"
     ]
    },
    {
     "name": "stdout",
     "output_type": "stream",
     "text": [
      "Sliding window being executed...\n",
      "875.832143032\n",
      "266.645119751\n",
      "Sanity flag= 0\n",
      "Are lanes detected? True True\n"
     ]
    },
    {
     "name": "stderr",
     "output_type": "stream",
     "text": [
      "\u001b[A\n",
      " 43%|████▎     | 207/485 [01:12<02:10,  2.14it/s]"
     ]
    },
    {
     "name": "stdout",
     "output_type": "stream",
     "text": [
      "Sliding window being executed...\n",
      "670.442985088\n",
      "234.740609815\n",
      "Sanity flag= 1\n",
      "Are lanes detected? True True\n"
     ]
    },
    {
     "name": "stderr",
     "output_type": "stream",
     "text": [
      "\u001b[A\n",
      " 43%|████▎     | 208/485 [01:13<01:58,  2.34it/s]"
     ]
    },
    {
     "name": "stdout",
     "output_type": "stream",
     "text": [
      "Sliding window being executed...\n",
      "120.402282381\n",
      "201.929201067\n",
      "Sanity flag= 1\n",
      "Are lanes detected? True True\n"
     ]
    },
    {
     "name": "stderr",
     "output_type": "stream",
     "text": [
      "\u001b[A\n",
      " 43%|████▎     | 209/485 [01:13<01:56,  2.37it/s]"
     ]
    },
    {
     "name": "stdout",
     "output_type": "stream",
     "text": [
      "Sliding window being executed...\n",
      "154.4497231\n",
      "201.715488142\n",
      "Sanity flag= 1\n",
      "Are lanes detected? True True\n"
     ]
    },
    {
     "name": "stderr",
     "output_type": "stream",
     "text": [
      "\u001b[A\n",
      " 43%|████▎     | 210/485 [01:14<01:48,  2.53it/s]"
     ]
    },
    {
     "name": "stdout",
     "output_type": "stream",
     "text": [
      "Sliding window being executed...\n",
      "212.71754326\n",
      "531.638708608\n",
      "Sanity flag= 0\n",
      "Are lanes detected? True True\n"
     ]
    },
    {
     "name": "stderr",
     "output_type": "stream",
     "text": [
      "\u001b[A\n",
      " 44%|████▎     | 211/485 [01:14<01:45,  2.60it/s]"
     ]
    },
    {
     "name": "stdout",
     "output_type": "stream",
     "text": [
      "Sliding window being executed...\n",
      "159.853005206\n",
      "204.163231822\n",
      "Sanity flag= 1\n",
      "Are lanes detected? True True\n"
     ]
    },
    {
     "name": "stderr",
     "output_type": "stream",
     "text": [
      "\u001b[A\n",
      " 44%|████▎     | 212/485 [01:14<01:44,  2.62it/s]"
     ]
    },
    {
     "name": "stdout",
     "output_type": "stream",
     "text": [
      "Sliding window being executed...\n",
      "177.187582649\n",
      "256.394578136\n",
      "Sanity flag= 1\n",
      "Are lanes detected? True True\n"
     ]
    },
    {
     "name": "stderr",
     "output_type": "stream",
     "text": [
      "\u001b[A\n",
      " 44%|████▍     | 213/485 [01:15<01:39,  2.73it/s]"
     ]
    },
    {
     "name": "stdout",
     "output_type": "stream",
     "text": [
      "Sliding window being executed...\n",
      "228.947557741\n",
      "216.887302075\n",
      "Sanity flag= 1\n",
      "Are lanes detected? True True\n"
     ]
    },
    {
     "name": "stderr",
     "output_type": "stream",
     "text": [
      "\u001b[A\n",
      " 44%|████▍     | 214/485 [01:15<01:42,  2.66it/s]"
     ]
    },
    {
     "name": "stdout",
     "output_type": "stream",
     "text": [
      "Sliding window being executed...\n",
      "185.725686104\n",
      "184.176362841\n",
      "Sanity flag= 0\n",
      "Are lanes detected? True True\n"
     ]
    },
    {
     "name": "stderr",
     "output_type": "stream",
     "text": [
      "\u001b[A\n",
      " 44%|████▍     | 215/485 [01:15<01:37,  2.78it/s]"
     ]
    },
    {
     "name": "stdout",
     "output_type": "stream",
     "text": [
      "Sliding window being executed...\n",
      "289.373738798\n",
      "163.399329771\n",
      "Sanity flag= 1\n",
      "Are lanes detected? True True\n"
     ]
    },
    {
     "name": "stderr",
     "output_type": "stream",
     "text": [
      "\u001b[A\n",
      " 45%|████▍     | 216/485 [01:16<01:37,  2.75it/s]"
     ]
    },
    {
     "name": "stdout",
     "output_type": "stream",
     "text": [
      "Sliding window being executed...\n",
      "149.112807744\n",
      "38.6580849344\n",
      "Sanity flag= 1\n",
      "Are lanes detected? True True\n"
     ]
    },
    {
     "name": "stderr",
     "output_type": "stream",
     "text": [
      "\u001b[A\n",
      " 45%|████▍     | 217/485 [01:16<01:37,  2.76it/s]"
     ]
    },
    {
     "name": "stdout",
     "output_type": "stream",
     "text": [
      "Sliding window being executed...\n",
      "168.445656314\n",
      "37.4214346906\n",
      "Sanity flag= 1\n",
      "Are lanes detected? True True\n"
     ]
    },
    {
     "name": "stderr",
     "output_type": "stream",
     "text": [
      "\u001b[A\n",
      " 45%|████▍     | 218/485 [01:16<01:36,  2.76it/s]"
     ]
    },
    {
     "name": "stdout",
     "output_type": "stream",
     "text": [
      "Sliding window being executed...\n",
      "159.61292081\n",
      "49.8277042374\n",
      "Sanity flag= 1\n",
      "Are lanes detected? True True\n"
     ]
    },
    {
     "name": "stderr",
     "output_type": "stream",
     "text": [
      "\u001b[A\n",
      " 45%|████▌     | 219/485 [01:17<01:38,  2.70it/s]"
     ]
    },
    {
     "name": "stdout",
     "output_type": "stream",
     "text": [
      "Sliding window being executed...\n",
      "366.883570505\n",
      "67.6255989534\n",
      "Sanity flag= 1\n",
      "Are lanes detected? True True\n"
     ]
    },
    {
     "name": "stderr",
     "output_type": "stream",
     "text": [
      "\u001b[A\n",
      " 45%|████▌     | 220/485 [01:17<01:33,  2.82it/s]"
     ]
    },
    {
     "name": "stdout",
     "output_type": "stream",
     "text": [
      "Sliding window being executed...\n",
      "150.292904459\n",
      "48.5472233056\n",
      "Sanity flag= 1\n",
      "Are lanes detected? True True\n"
     ]
    },
    {
     "name": "stderr",
     "output_type": "stream",
     "text": [
      "\u001b[A\n",
      " 46%|████▌     | 221/485 [01:18<01:35,  2.76it/s]"
     ]
    },
    {
     "name": "stdout",
     "output_type": "stream",
     "text": [
      "Sliding window being executed...\n",
      "175.351239705\n",
      "49.4324943721\n",
      "Sanity flag= 1\n",
      "Are lanes detected? True True\n"
     ]
    },
    {
     "name": "stderr",
     "output_type": "stream",
     "text": [
      "\u001b[A\n",
      " 46%|████▌     | 222/485 [01:18<01:31,  2.87it/s]"
     ]
    },
    {
     "name": "stdout",
     "output_type": "stream",
     "text": [
      "Sliding window being executed...\n",
      "143.771229192\n",
      "56.1452242039\n",
      "Sanity flag= 1\n",
      "Are lanes detected? True True\n"
     ]
    },
    {
     "name": "stderr",
     "output_type": "stream",
     "text": [
      "\u001b[A\n",
      " 46%|████▌     | 223/485 [01:18<01:34,  2.77it/s]"
     ]
    },
    {
     "name": "stdout",
     "output_type": "stream",
     "text": [
      "Sliding window being executed...\n",
      "141.048419306\n",
      "124.225832084\n",
      "Sanity flag= 0\n",
      "Are lanes detected? True True\n"
     ]
    },
    {
     "name": "stderr",
     "output_type": "stream",
     "text": [
      "\u001b[A\n",
      " 46%|████▌     | 224/485 [01:19<01:34,  2.75it/s]"
     ]
    },
    {
     "name": "stdout",
     "output_type": "stream",
     "text": [
      "Sliding window being executed...\n",
      "161.581057889\n",
      "84.2501745699\n",
      "Sanity flag= 1\n",
      "Are lanes detected? True True\n"
     ]
    },
    {
     "name": "stderr",
     "output_type": "stream",
     "text": [
      "\u001b[A\n",
      " 46%|████▋     | 225/485 [01:19<01:33,  2.79it/s]"
     ]
    },
    {
     "name": "stdout",
     "output_type": "stream",
     "text": [
      "Sliding window being executed...\n",
      "6163.54534459\n",
      "100.398056334\n",
      "Sanity flag= 1\n",
      "Are lanes detected? True True\n"
     ]
    },
    {
     "name": "stderr",
     "output_type": "stream",
     "text": [
      "\u001b[A\n",
      " 47%|████▋     | 226/485 [01:19<01:33,  2.78it/s]"
     ]
    },
    {
     "name": "stdout",
     "output_type": "stream",
     "text": [
      "Sliding window being executed...\n",
      "2688.39998787\n",
      "101.028695617\n",
      "Sanity flag= 1\n",
      "Are lanes detected? True True\n"
     ]
    },
    {
     "name": "stderr",
     "output_type": "stream",
     "text": [
      "\u001b[A\n",
      " 47%|████▋     | 227/485 [01:20<01:33,  2.76it/s]"
     ]
    },
    {
     "name": "stdout",
     "output_type": "stream",
     "text": [
      "Sliding window being executed...\n",
      "2030.5729104\n",
      "168.054897708\n",
      "Sanity flag= 1\n",
      "Are lanes detected? True True\n"
     ]
    },
    {
     "name": "stderr",
     "output_type": "stream",
     "text": [
      "\u001b[A\n",
      " 47%|████▋     | 228/485 [01:20<01:30,  2.85it/s]"
     ]
    },
    {
     "name": "stdout",
     "output_type": "stream",
     "text": [
      "Sliding window being executed...\n",
      "519.204106016\n",
      "1325.05044604\n",
      "Sanity flag= 1\n",
      "Are lanes detected? True True\n"
     ]
    },
    {
     "name": "stderr",
     "output_type": "stream",
     "text": [
      "\u001b[A\n",
      " 47%|████▋     | 229/485 [01:20<01:31,  2.80it/s]"
     ]
    },
    {
     "name": "stdout",
     "output_type": "stream",
     "text": [
      "Sliding window being executed...\n",
      "512.376710488\n",
      "278.660600677\n",
      "Sanity flag= 1\n",
      "Are lanes detected? True True\n"
     ]
    },
    {
     "name": "stderr",
     "output_type": "stream",
     "text": [
      "\u001b[A\n",
      " 47%|████▋     | 230/485 [01:21<01:31,  2.79it/s]"
     ]
    },
    {
     "name": "stdout",
     "output_type": "stream",
     "text": [
      "Sliding window being executed...\n",
      "2156.01022385\n",
      "667.59711178\n",
      "Sanity flag= 1\n",
      "Are lanes detected? True True\n"
     ]
    },
    {
     "name": "stderr",
     "output_type": "stream",
     "text": [
      "\u001b[A\n",
      " 48%|████▊     | 231/485 [01:21<01:30,  2.80it/s]"
     ]
    },
    {
     "name": "stdout",
     "output_type": "stream",
     "text": [
      "Sliding window being executed...\n",
      "584.357661136\n",
      "44.7330111408\n",
      "Sanity flag= 1\n",
      "Are lanes detected? True True\n"
     ]
    },
    {
     "name": "stderr",
     "output_type": "stream",
     "text": [
      "\u001b[A\n",
      " 48%|████▊     | 232/485 [01:21<01:29,  2.83it/s]"
     ]
    },
    {
     "name": "stdout",
     "output_type": "stream",
     "text": [
      "Sliding window being executed...\n",
      "253.383861477\n",
      "48.8970735959\n",
      "Sanity flag= 1\n",
      "Are lanes detected? True True\n"
     ]
    },
    {
     "name": "stderr",
     "output_type": "stream",
     "text": [
      "\u001b[A\n",
      " 48%|████▊     | 233/485 [01:22<01:29,  2.80it/s]"
     ]
    },
    {
     "name": "stdout",
     "output_type": "stream",
     "text": [
      "Sliding window being executed...\n",
      "1256.52901549\n",
      "50.5936007146\n",
      "Sanity flag= 1\n",
      "Are lanes detected? True True\n"
     ]
    },
    {
     "name": "stderr",
     "output_type": "stream",
     "text": [
      "\u001b[A\n",
      " 48%|████▊     | 234/485 [01:22<01:31,  2.75it/s]"
     ]
    },
    {
     "name": "stdout",
     "output_type": "stream",
     "text": [
      "Sliding window being executed...\n",
      "257.877063604\n",
      "65.8970425421\n",
      "Sanity flag= 1\n",
      "Are lanes detected? True True\n"
     ]
    },
    {
     "name": "stderr",
     "output_type": "stream",
     "text": [
      "\u001b[A\n",
      " 48%|████▊     | 235/485 [01:23<01:30,  2.75it/s]"
     ]
    },
    {
     "name": "stdout",
     "output_type": "stream",
     "text": [
      "Sliding window being executed...\n",
      "90.2214364575\n",
      "57.1994642466\n",
      "Sanity flag= 1\n",
      "Are lanes detected? True True\n"
     ]
    },
    {
     "name": "stderr",
     "output_type": "stream",
     "text": [
      "\u001b[A\n",
      " 49%|████▊     | 236/485 [01:23<01:30,  2.75it/s]"
     ]
    },
    {
     "name": "stdout",
     "output_type": "stream",
     "text": [
      "Sliding window being executed...\n",
      "87.0068974716\n",
      "69.6328707384\n",
      "Sanity flag= 0\n",
      "Are lanes detected? True True\n"
     ]
    },
    {
     "name": "stderr",
     "output_type": "stream",
     "text": [
      "\u001b[A\n",
      " 49%|████▉     | 237/485 [01:23<01:30,  2.74it/s]"
     ]
    },
    {
     "name": "stdout",
     "output_type": "stream",
     "text": [
      "Sliding window being executed...\n",
      "3393.37239238\n",
      "92.5084219917\n",
      "Sanity flag= 1\n",
      "Are lanes detected? True True\n"
     ]
    },
    {
     "name": "stderr",
     "output_type": "stream",
     "text": [
      "\u001b[A\n",
      " 49%|████▉     | 238/485 [01:24<01:32,  2.67it/s]"
     ]
    },
    {
     "name": "stdout",
     "output_type": "stream",
     "text": [
      "Sliding window being executed...\n",
      "1359.45136209\n",
      "201.43018338\n",
      "Sanity flag= 1\n",
      "Are lanes detected? True True\n"
     ]
    },
    {
     "name": "stderr",
     "output_type": "stream",
     "text": [
      "\u001b[A\n",
      " 49%|████▉     | 239/485 [01:24<01:28,  2.77it/s]"
     ]
    },
    {
     "name": "stdout",
     "output_type": "stream",
     "text": [
      "Sliding window being executed...\n",
      "281.145827061\n",
      "1199.99297733\n",
      "Sanity flag= 0\n",
      "Are lanes detected? True True\n"
     ]
    },
    {
     "name": "stderr",
     "output_type": "stream",
     "text": [
      "\u001b[A\n",
      " 49%|████▉     | 240/485 [01:24<01:29,  2.75it/s]"
     ]
    },
    {
     "name": "stdout",
     "output_type": "stream",
     "text": [
      "Sliding window being executed...\n",
      "116.624744851\n",
      "1252.83150569\n",
      "Sanity flag= 1\n",
      "Are lanes detected? True True\n"
     ]
    },
    {
     "name": "stderr",
     "output_type": "stream",
     "text": [
      "\u001b[A\n",
      " 50%|████▉     | 241/485 [01:25<01:28,  2.77it/s]"
     ]
    },
    {
     "name": "stdout",
     "output_type": "stream",
     "text": [
      "Sliding window being executed...\n",
      "587.778003275\n",
      "3657.35925046\n",
      "Sanity flag= 1\n",
      "Are lanes detected? True True\n"
     ]
    },
    {
     "name": "stderr",
     "output_type": "stream",
     "text": [
      "\u001b[A\n",
      " 50%|████▉     | 242/485 [01:25<01:27,  2.79it/s]"
     ]
    },
    {
     "name": "stdout",
     "output_type": "stream",
     "text": [
      "Sliding window being executed...\n",
      "201.137844771\n",
      "127.564687793\n",
      "Sanity flag= 1\n",
      "Are lanes detected? True True\n"
     ]
    },
    {
     "name": "stderr",
     "output_type": "stream",
     "text": [
      "\u001b[A\n",
      " 50%|█████     | 243/485 [01:25<01:27,  2.77it/s]"
     ]
    },
    {
     "name": "stdout",
     "output_type": "stream",
     "text": [
      "Sliding window being executed...\n",
      "154.584076196\n",
      "724.500652782\n",
      "Sanity flag= 0\n",
      "Are lanes detected? True True\n"
     ]
    },
    {
     "name": "stderr",
     "output_type": "stream",
     "text": [
      "\u001b[A\n",
      " 50%|█████     | 244/485 [01:26<01:26,  2.80it/s]"
     ]
    },
    {
     "name": "stdout",
     "output_type": "stream",
     "text": [
      "Sliding window being executed...\n",
      "164.824944331\n",
      "219.513515379\n",
      "Sanity flag= 1\n",
      "Are lanes detected? True True\n"
     ]
    },
    {
     "name": "stderr",
     "output_type": "stream",
     "text": [
      "\u001b[A\n",
      " 51%|█████     | 245/485 [01:26<01:27,  2.74it/s]"
     ]
    },
    {
     "name": "stdout",
     "output_type": "stream",
     "text": [
      "Sliding window being executed...\n",
      "167.979618978\n",
      "105.658427666\n",
      "Sanity flag= 1\n",
      "Are lanes detected? True True\n"
     ]
    },
    {
     "name": "stderr",
     "output_type": "stream",
     "text": [
      "\u001b[A\n",
      " 51%|█████     | 246/485 [01:27<01:27,  2.74it/s]"
     ]
    },
    {
     "name": "stdout",
     "output_type": "stream",
     "text": [
      "Sliding window being executed...\n",
      "184.131159746\n",
      "263.492555657\n",
      "Sanity flag= 1\n",
      "Are lanes detected? True True\n"
     ]
    },
    {
     "name": "stderr",
     "output_type": "stream",
     "text": [
      "\u001b[A\n",
      " 51%|█████     | 247/485 [01:27<01:25,  2.77it/s]"
     ]
    },
    {
     "name": "stdout",
     "output_type": "stream",
     "text": [
      "Sliding window being executed...\n",
      "152.415413278\n",
      "206.578625855\n",
      "Sanity flag= 1\n",
      "Are lanes detected? True True\n"
     ]
    },
    {
     "name": "stderr",
     "output_type": "stream",
     "text": [
      "\u001b[A\n",
      " 51%|█████     | 248/485 [01:27<01:24,  2.79it/s]"
     ]
    },
    {
     "name": "stdout",
     "output_type": "stream",
     "text": [
      "Sliding window being executed...\n",
      "262.341804506\n",
      "154.169921435\n",
      "Sanity flag= 1\n",
      "Are lanes detected? True True\n"
     ]
    },
    {
     "name": "stderr",
     "output_type": "stream",
     "text": [
      "\u001b[A\n",
      " 51%|█████▏    | 249/485 [01:28<01:24,  2.81it/s]"
     ]
    },
    {
     "name": "stdout",
     "output_type": "stream",
     "text": [
      "Sliding window being executed...\n",
      "334.956076083\n",
      "205.432154579\n",
      "Sanity flag= 1\n",
      "Are lanes detected? True True\n"
     ]
    },
    {
     "name": "stderr",
     "output_type": "stream",
     "text": [
      "\u001b[A\n",
      " 52%|█████▏    | 250/485 [01:28<01:24,  2.78it/s]"
     ]
    },
    {
     "name": "stdout",
     "output_type": "stream",
     "text": [
      "Sliding window being executed...\n",
      "403.848812981\n",
      "247.894507196\n",
      "Sanity flag= 1\n",
      "Are lanes detected? True True\n"
     ]
    },
    {
     "name": "stderr",
     "output_type": "stream",
     "text": [
      "\u001b[A\n",
      " 52%|█████▏    | 251/485 [01:28<01:23,  2.79it/s]"
     ]
    },
    {
     "name": "stdout",
     "output_type": "stream",
     "text": [
      "Sliding window being executed...\n",
      "549.090041521\n",
      "375.269361875\n",
      "Sanity flag= 0\n",
      "Are lanes detected? True True\n"
     ]
    },
    {
     "name": "stderr",
     "output_type": "stream",
     "text": [
      "\u001b[A\n",
      " 52%|█████▏    | 252/485 [01:29<01:26,  2.69it/s]"
     ]
    },
    {
     "name": "stdout",
     "output_type": "stream",
     "text": [
      "Sliding window being executed...\n",
      "207.657332561\n",
      "233.649900351\n",
      "Sanity flag= 1\n",
      "Are lanes detected? True True\n"
     ]
    },
    {
     "name": "stderr",
     "output_type": "stream",
     "text": [
      "\u001b[A\n",
      " 52%|█████▏    | 253/485 [01:29<01:23,  2.76it/s]"
     ]
    },
    {
     "name": "stdout",
     "output_type": "stream",
     "text": [
      "Sliding window being executed...\n",
      "302.868987422\n",
      "814.15321586\n",
      "Sanity flag= 0\n",
      "Are lanes detected? True True\n"
     ]
    },
    {
     "name": "stderr",
     "output_type": "stream",
     "text": [
      "\u001b[A\n",
      " 52%|█████▏    | 254/485 [01:29<01:24,  2.72it/s]"
     ]
    },
    {
     "name": "stdout",
     "output_type": "stream",
     "text": [
      "Sliding window being executed...\n",
      "196.962871309\n",
      "622.420941993\n",
      "Sanity flag= 0\n",
      "Are lanes detected? True True\n"
     ]
    },
    {
     "name": "stderr",
     "output_type": "stream",
     "text": [
      "\u001b[A\n",
      " 53%|█████▎    | 255/485 [01:30<01:22,  2.78it/s]"
     ]
    },
    {
     "name": "stdout",
     "output_type": "stream",
     "text": [
      "Sliding window being executed...\n",
      "263.198256204\n",
      "265.638962168\n",
      "Sanity flag= 1\n",
      "Are lanes detected? True True\n"
     ]
    },
    {
     "name": "stderr",
     "output_type": "stream",
     "text": [
      "\u001b[A\n",
      " 53%|█████▎    | 256/485 [01:30<01:20,  2.84it/s]"
     ]
    },
    {
     "name": "stdout",
     "output_type": "stream",
     "text": [
      "Sliding window being executed...\n",
      "203.41676875\n",
      "295.800178126\n",
      "Sanity flag= 1\n",
      "Are lanes detected? True True\n"
     ]
    },
    {
     "name": "stderr",
     "output_type": "stream",
     "text": [
      "\u001b[A\n",
      " 53%|█████▎    | 257/485 [01:31<01:23,  2.72it/s]"
     ]
    },
    {
     "name": "stdout",
     "output_type": "stream",
     "text": [
      "Sliding window being executed...\n",
      "101.052663359\n",
      "71.1172911793\n",
      "Sanity flag= 1\n",
      "Are lanes detected? True True\n"
     ]
    },
    {
     "name": "stderr",
     "output_type": "stream",
     "text": [
      "\u001b[A\n",
      " 53%|█████▎    | 258/485 [01:31<01:22,  2.77it/s]"
     ]
    },
    {
     "name": "stdout",
     "output_type": "stream",
     "text": [
      "Sliding window being executed...\n",
      "196.254036984\n",
      "41.7219639465\n",
      "Sanity flag= 1\n",
      "Are lanes detected? True True\n"
     ]
    },
    {
     "name": "stderr",
     "output_type": "stream",
     "text": [
      "\u001b[A\n",
      " 53%|█████▎    | 259/485 [01:31<01:37,  2.33it/s]"
     ]
    },
    {
     "name": "stdout",
     "output_type": "stream",
     "text": [
      "Sliding window being executed...\n",
      "229.409805285\n",
      "43.5051386064\n",
      "Sanity flag= 1\n",
      "Are lanes detected? True True\n"
     ]
    },
    {
     "name": "stderr",
     "output_type": "stream",
     "text": [
      "\u001b[A\n",
      " 54%|█████▎    | 260/485 [01:32<01:48,  2.08it/s]"
     ]
    },
    {
     "name": "stdout",
     "output_type": "stream",
     "text": [
      "Sliding window being executed...\n",
      "229.200328159\n",
      "47.3239406176\n",
      "Sanity flag= 1\n",
      "Are lanes detected? True True\n"
     ]
    },
    {
     "name": "stderr",
     "output_type": "stream",
     "text": [
      "\u001b[A\n",
      " 54%|█████▍    | 261/485 [01:33<01:49,  2.05it/s]"
     ]
    },
    {
     "name": "stdout",
     "output_type": "stream",
     "text": [
      "Sliding window being executed...\n",
      "219.273379758\n",
      "822.128140586\n",
      "Sanity flag= 0\n",
      "Are lanes detected? True True\n"
     ]
    },
    {
     "name": "stderr",
     "output_type": "stream",
     "text": [
      "\u001b[A\n",
      " 54%|█████▍    | 262/485 [01:33<01:41,  2.19it/s]"
     ]
    },
    {
     "name": "stdout",
     "output_type": "stream",
     "text": [
      "Sliding window being executed...\n",
      "228.257851326\n",
      "408.830663473\n",
      "Sanity flag= 0\n",
      "Are lanes detected? True True\n"
     ]
    },
    {
     "name": "stderr",
     "output_type": "stream",
     "text": [
      "\u001b[A\n",
      " 54%|█████▍    | 263/485 [01:33<01:33,  2.38it/s]"
     ]
    },
    {
     "name": "stdout",
     "output_type": "stream",
     "text": [
      "Sliding window being executed...\n",
      "278.469046961\n",
      "411.500828156\n",
      "Sanity flag= 0\n",
      "Are lanes detected? True True\n"
     ]
    },
    {
     "name": "stderr",
     "output_type": "stream",
     "text": [
      "\u001b[A\n",
      " 54%|█████▍    | 264/485 [01:34<01:27,  2.53it/s]"
     ]
    },
    {
     "name": "stdout",
     "output_type": "stream",
     "text": [
      "Sliding window being executed...\n",
      "322.330519024\n",
      "188.86796129\n",
      "Sanity flag= 0\n",
      "Are lanes detected? True True\n"
     ]
    },
    {
     "name": "stderr",
     "output_type": "stream",
     "text": [
      "\u001b[A\n",
      " 55%|█████▍    | 265/485 [01:34<01:26,  2.55it/s]"
     ]
    },
    {
     "name": "stdout",
     "output_type": "stream",
     "text": [
      "Sliding window being executed...\n",
      "370.051079891\n",
      "176.296735662\n",
      "Sanity flag= 1\n",
      "Are lanes detected? True True\n"
     ]
    },
    {
     "name": "stderr",
     "output_type": "stream",
     "text": [
      "\u001b[A\n",
      " 55%|█████▍    | 266/485 [01:34<01:23,  2.62it/s]"
     ]
    },
    {
     "name": "stdout",
     "output_type": "stream",
     "text": [
      "Sliding window being executed...\n",
      "2350.03857629\n",
      "107.8547143\n",
      "Sanity flag= 1\n",
      "Are lanes detected? True True\n"
     ]
    },
    {
     "name": "stderr",
     "output_type": "stream",
     "text": [
      "\u001b[A\n",
      " 55%|█████▌    | 267/485 [01:35<01:23,  2.61it/s]"
     ]
    },
    {
     "name": "stdout",
     "output_type": "stream",
     "text": [
      "Sliding window being executed...\n",
      "4565.96590459\n",
      "772.878323804\n",
      "Sanity flag= 1\n",
      "Are lanes detected? True True\n"
     ]
    },
    {
     "name": "stderr",
     "output_type": "stream",
     "text": [
      "\u001b[A\n",
      " 55%|█████▌    | 268/485 [01:35<01:20,  2.69it/s]"
     ]
    },
    {
     "name": "stdout",
     "output_type": "stream",
     "text": [
      "Sliding window being executed...\n",
      "232.124185334\n",
      "1941.33383737\n",
      "Sanity flag= 1\n",
      "Are lanes detected? True True\n"
     ]
    },
    {
     "name": "stderr",
     "output_type": "stream",
     "text": [
      "\u001b[A\n",
      " 55%|█████▌    | 269/485 [01:35<01:18,  2.75it/s]"
     ]
    },
    {
     "name": "stdout",
     "output_type": "stream",
     "text": [
      "Sliding window being executed...\n",
      "180.875401993\n",
      "924.554312639\n",
      "Sanity flag= 0\n",
      "Are lanes detected? True True\n"
     ]
    },
    {
     "name": "stderr",
     "output_type": "stream",
     "text": [
      "\u001b[A\n",
      " 56%|█████▌    | 270/485 [01:36<01:20,  2.67it/s]"
     ]
    },
    {
     "name": "stdout",
     "output_type": "stream",
     "text": [
      "Sliding window being executed...\n",
      "195.542489583\n",
      "196.434141299\n",
      "Sanity flag= 0\n",
      "Are lanes detected? True True\n"
     ]
    },
    {
     "name": "stderr",
     "output_type": "stream",
     "text": [
      "\u001b[A\n",
      " 56%|█████▌    | 271/485 [01:36<01:16,  2.78it/s]"
     ]
    },
    {
     "name": "stdout",
     "output_type": "stream",
     "text": [
      "Sliding window being executed...\n",
      "360.597679682\n",
      "1422.9587582\n",
      "Sanity flag= 1\n",
      "Are lanes detected? True True\n"
     ]
    },
    {
     "name": "stderr",
     "output_type": "stream",
     "text": [
      "\u001b[A\n",
      " 56%|█████▌    | 272/485 [01:37<01:16,  2.78it/s]"
     ]
    },
    {
     "name": "stdout",
     "output_type": "stream",
     "text": [
      "Sliding window being executed...\n",
      "393.682712949\n",
      "1254.67073232\n",
      "Sanity flag= 1\n",
      "Are lanes detected? True True\n"
     ]
    },
    {
     "name": "stderr",
     "output_type": "stream",
     "text": [
      "\u001b[A\n",
      " 56%|█████▋    | 273/485 [01:37<01:15,  2.79it/s]"
     ]
    },
    {
     "name": "stdout",
     "output_type": "stream",
     "text": [
      "Sliding window being executed...\n",
      "1679.47828228\n",
      "515.570053255\n",
      "Sanity flag= 1\n",
      "Are lanes detected? True True\n"
     ]
    },
    {
     "name": "stderr",
     "output_type": "stream",
     "text": [
      "\u001b[A\n",
      " 56%|█████▋    | 274/485 [01:37<01:16,  2.76it/s]"
     ]
    },
    {
     "name": "stdout",
     "output_type": "stream",
     "text": [
      "Sliding window being executed...\n",
      "331.613108905\n",
      "628.153026623\n",
      "Sanity flag= 0\n",
      "Are lanes detected? True True\n"
     ]
    },
    {
     "name": "stderr",
     "output_type": "stream",
     "text": [
      "\u001b[A\n",
      " 57%|█████▋    | 275/485 [01:38<01:17,  2.71it/s]"
     ]
    },
    {
     "name": "stdout",
     "output_type": "stream",
     "text": [
      "Sliding window being executed...\n",
      "355.665563378\n",
      "1624.99407142\n",
      "Sanity flag= 1\n",
      "Are lanes detected? True True\n"
     ]
    },
    {
     "name": "stderr",
     "output_type": "stream",
     "text": [
      "\u001b[A\n",
      " 57%|█████▋    | 276/485 [01:38<01:16,  2.73it/s]"
     ]
    },
    {
     "name": "stdout",
     "output_type": "stream",
     "text": [
      "Sliding window being executed...\n",
      "210.778708689\n",
      "60.7461368308\n",
      "Sanity flag= 1\n",
      "Are lanes detected? True True\n"
     ]
    },
    {
     "name": "stderr",
     "output_type": "stream",
     "text": [
      "\u001b[A\n",
      " 57%|█████▋    | 277/485 [01:38<01:15,  2.75it/s]"
     ]
    },
    {
     "name": "stdout",
     "output_type": "stream",
     "text": [
      "Sliding window being executed...\n",
      "221.617221953\n",
      "246.942846204\n",
      "Sanity flag= 0\n",
      "Are lanes detected? True True\n"
     ]
    },
    {
     "name": "stderr",
     "output_type": "stream",
     "text": [
      "\u001b[A\n",
      " 57%|█████▋    | 278/485 [01:39<01:14,  2.76it/s]"
     ]
    },
    {
     "name": "stdout",
     "output_type": "stream",
     "text": [
      "Sliding window being executed...\n",
      "331.4233195\n",
      "221.480646761\n",
      "Sanity flag= 0\n",
      "Are lanes detected? True True\n"
     ]
    },
    {
     "name": "stderr",
     "output_type": "stream",
     "text": [
      "\u001b[A\n",
      " 58%|█████▊    | 279/485 [01:39<01:12,  2.82it/s]"
     ]
    },
    {
     "name": "stdout",
     "output_type": "stream",
     "text": [
      "Sliding window being executed...\n",
      "395.689890658\n",
      "405.363649995\n",
      "Sanity flag= 0\n",
      "Are lanes detected? True True\n"
     ]
    },
    {
     "name": "stderr",
     "output_type": "stream",
     "text": [
      "\u001b[A\n",
      " 58%|█████▊    | 280/485 [01:39<01:12,  2.83it/s]"
     ]
    },
    {
     "name": "stdout",
     "output_type": "stream",
     "text": [
      "Sliding window being executed...\n",
      "313.021165628\n",
      "895.044200232\n",
      "Sanity flag= 0\n",
      "Are lanes detected? True True\n"
     ]
    },
    {
     "name": "stderr",
     "output_type": "stream",
     "text": [
      "\u001b[A\n",
      " 58%|█████▊    | 281/485 [01:40<01:12,  2.81it/s]"
     ]
    },
    {
     "name": "stdout",
     "output_type": "stream",
     "text": [
      "Sliding window being executed...\n",
      "413.655175728\n",
      "1523.51693091\n",
      "Sanity flag= 1\n",
      "Are lanes detected? True True\n"
     ]
    },
    {
     "name": "stderr",
     "output_type": "stream",
     "text": [
      "\u001b[A\n",
      " 58%|█████▊    | 282/485 [01:40<01:11,  2.83it/s]"
     ]
    },
    {
     "name": "stdout",
     "output_type": "stream",
     "text": [
      "Sliding window being executed...\n",
      "660.58478153\n",
      "264.921837689\n",
      "Sanity flag= 0\n",
      "Are lanes detected? True True\n"
     ]
    },
    {
     "name": "stderr",
     "output_type": "stream",
     "text": [
      "\u001b[A\n",
      " 58%|█████▊    | 283/485 [01:41<01:13,  2.74it/s]"
     ]
    },
    {
     "name": "stdout",
     "output_type": "stream",
     "text": [
      "Sliding window being executed...\n",
      "909.359825189\n",
      "252.98216169\n",
      "Sanity flag= 0\n",
      "Are lanes detected? True True\n"
     ]
    },
    {
     "name": "stderr",
     "output_type": "stream",
     "text": [
      "\u001b[A\n",
      " 59%|█████▊    | 284/485 [01:41<01:14,  2.72it/s]"
     ]
    },
    {
     "name": "stdout",
     "output_type": "stream",
     "text": [
      "Sliding window being executed...\n",
      "1918.51972583\n",
      "246.36258545\n",
      "Sanity flag= 1\n",
      "Are lanes detected? True True\n"
     ]
    },
    {
     "name": "stderr",
     "output_type": "stream",
     "text": [
      "\u001b[A\n",
      " 59%|█████▉    | 285/485 [01:41<01:11,  2.80it/s]"
     ]
    },
    {
     "name": "stdout",
     "output_type": "stream",
     "text": [
      "Sliding window being executed...\n",
      "893.094408069\n",
      "195.732404502\n",
      "Sanity flag= 0\n",
      "Are lanes detected? True True\n"
     ]
    },
    {
     "name": "stderr",
     "output_type": "stream",
     "text": [
      "\u001b[A\n",
      " 59%|█████▉    | 286/485 [01:42<01:09,  2.85it/s]"
     ]
    },
    {
     "name": "stdout",
     "output_type": "stream",
     "text": [
      "Sliding window being executed...\n",
      "1074.18941095\n",
      "208.167235706\n",
      "Sanity flag= 0\n",
      "Are lanes detected? True True\n"
     ]
    },
    {
     "name": "stderr",
     "output_type": "stream",
     "text": [
      "\u001b[A\n",
      " 59%|█████▉    | 287/485 [01:42<01:12,  2.73it/s]"
     ]
    },
    {
     "name": "stdout",
     "output_type": "stream",
     "text": [
      "Sliding window being executed...\n",
      "200.170121452\n",
      "275.654311569\n",
      "Sanity flag= 0\n",
      "Are lanes detected? True True\n"
     ]
    },
    {
     "name": "stderr",
     "output_type": "stream",
     "text": [
      "\u001b[A\n",
      " 59%|█████▉    | 288/485 [01:42<01:10,  2.80it/s]"
     ]
    },
    {
     "name": "stdout",
     "output_type": "stream",
     "text": [
      "Sliding window being executed...\n",
      "183.265260936\n",
      "375.071680224\n",
      "Sanity flag= 0\n",
      "Are lanes detected? True True\n"
     ]
    },
    {
     "name": "stderr",
     "output_type": "stream",
     "text": [
      "\u001b[A\n",
      " 60%|█████▉    | 289/485 [01:43<01:08,  2.85it/s]"
     ]
    },
    {
     "name": "stdout",
     "output_type": "stream",
     "text": [
      "Sliding window being executed...\n",
      "204.202557668\n",
      "500.314889688\n",
      "Sanity flag= 0\n",
      "Are lanes detected? True True\n"
     ]
    },
    {
     "name": "stderr",
     "output_type": "stream",
     "text": [
      "\u001b[A\n",
      " 60%|█████▉    | 290/485 [01:43<01:09,  2.81it/s]"
     ]
    },
    {
     "name": "stdout",
     "output_type": "stream",
     "text": [
      "Sliding window being executed...\n",
      "2297.53333329\n",
      "409.231210128\n",
      "Sanity flag= 1\n",
      "Are lanes detected? True True\n"
     ]
    },
    {
     "name": "stderr",
     "output_type": "stream",
     "text": [
      "\u001b[A\n",
      " 60%|██████    | 291/485 [01:43<01:08,  2.82it/s]"
     ]
    },
    {
     "name": "stdout",
     "output_type": "stream",
     "text": [
      "Sliding window being executed...\n",
      "119.375375187\n",
      "468.017454521\n",
      "Sanity flag= 0\n",
      "Are lanes detected? True True\n"
     ]
    },
    {
     "name": "stderr",
     "output_type": "stream",
     "text": [
      "\u001b[A\n",
      " 60%|██████    | 292/485 [01:44<01:08,  2.84it/s]"
     ]
    },
    {
     "name": "stdout",
     "output_type": "stream",
     "text": [
      "Sliding window being executed...\n",
      "144.821168304\n",
      "442.416611262\n",
      "Sanity flag= 0\n",
      "Are lanes detected? True True\n"
     ]
    },
    {
     "name": "stderr",
     "output_type": "stream",
     "text": [
      "\u001b[A\n",
      " 60%|██████    | 293/485 [01:44<01:07,  2.85it/s]"
     ]
    },
    {
     "name": "stdout",
     "output_type": "stream",
     "text": [
      "Sliding window being executed...\n",
      "171.679363207\n",
      "305.950741959\n",
      "Sanity flag= 1\n",
      "Are lanes detected? True True\n"
     ]
    },
    {
     "name": "stderr",
     "output_type": "stream",
     "text": [
      "\u001b[A\n",
      " 61%|██████    | 294/485 [01:44<01:05,  2.89it/s]"
     ]
    },
    {
     "name": "stdout",
     "output_type": "stream",
     "text": [
      "Sliding window being executed...\n",
      "148.134604049\n",
      "934.07320159\n",
      "Sanity flag= 0\n",
      "Are lanes detected? True True\n"
     ]
    },
    {
     "name": "stderr",
     "output_type": "stream",
     "text": [
      "\u001b[A\n",
      " 61%|██████    | 295/485 [01:45<01:03,  2.97it/s]"
     ]
    },
    {
     "name": "stdout",
     "output_type": "stream",
     "text": [
      "Sliding window being executed...\n",
      "237.675981271\n",
      "955.781438986\n",
      "Sanity flag= 0\n",
      "Are lanes detected? True True\n"
     ]
    },
    {
     "name": "stderr",
     "output_type": "stream",
     "text": [
      "\u001b[A\n",
      " 61%|██████    | 296/485 [01:45<01:02,  3.03it/s]"
     ]
    },
    {
     "name": "stdout",
     "output_type": "stream",
     "text": [
      "Sliding window being executed...\n",
      "249.459077375\n",
      "371.925795934\n",
      "Sanity flag= 0\n",
      "Are lanes detected? True True\n"
     ]
    },
    {
     "name": "stderr",
     "output_type": "stream",
     "text": [
      "\u001b[A\n",
      " 61%|██████    | 297/485 [01:45<01:04,  2.92it/s]"
     ]
    },
    {
     "name": "stdout",
     "output_type": "stream",
     "text": [
      "Sliding window being executed...\n",
      "99.1026844213\n",
      "672.305221531\n",
      "Sanity flag= 1\n",
      "Are lanes detected? True True\n"
     ]
    },
    {
     "name": "stderr",
     "output_type": "stream",
     "text": [
      "\u001b[A\n",
      " 61%|██████▏   | 298/485 [01:46<01:04,  2.89it/s]"
     ]
    },
    {
     "name": "stdout",
     "output_type": "stream",
     "text": [
      "Sliding window being executed...\n",
      "164.8910239\n",
      "746.200465461\n",
      "Sanity flag= 1\n",
      "Are lanes detected? True True\n"
     ]
    },
    {
     "name": "stderr",
     "output_type": "stream",
     "text": [
      "\u001b[A\n",
      " 62%|██████▏   | 299/485 [01:46<01:05,  2.86it/s]"
     ]
    },
    {
     "name": "stdout",
     "output_type": "stream",
     "text": [
      "Sliding window being executed...\n",
      "176.410378347\n",
      "743.725736315\n",
      "Sanity flag= 0\n",
      "Are lanes detected? True True\n"
     ]
    },
    {
     "name": "stderr",
     "output_type": "stream",
     "text": [
      "\u001b[A\n",
      " 62%|██████▏   | 300/485 [01:46<01:05,  2.83it/s]"
     ]
    },
    {
     "name": "stdout",
     "output_type": "stream",
     "text": [
      "Sliding window being executed...\n",
      "171.599911815\n",
      "358.408764453\n",
      "Sanity flag= 0\n",
      "Are lanes detected? True True\n"
     ]
    },
    {
     "name": "stderr",
     "output_type": "stream",
     "text": [
      "\u001b[A\n",
      " 62%|██████▏   | 301/485 [01:47<01:04,  2.86it/s]"
     ]
    },
    {
     "name": "stdout",
     "output_type": "stream",
     "text": [
      "Sliding window being executed...\n",
      "150.598742194\n",
      "444.160756759\n",
      "Sanity flag= 1\n",
      "Are lanes detected? True True\n"
     ]
    },
    {
     "name": "stderr",
     "output_type": "stream",
     "text": [
      "\u001b[A\n",
      " 62%|██████▏   | 302/485 [01:47<01:03,  2.87it/s]"
     ]
    },
    {
     "name": "stdout",
     "output_type": "stream",
     "text": [
      "Sliding window being executed...\n",
      "167.8982343\n",
      "215.617402682\n",
      "Sanity flag= 1\n",
      "Are lanes detected? True True\n"
     ]
    },
    {
     "name": "stderr",
     "output_type": "stream",
     "text": [
      "\u001b[A\n",
      " 62%|██████▏   | 303/485 [01:48<01:05,  2.78it/s]"
     ]
    },
    {
     "name": "stdout",
     "output_type": "stream",
     "text": [
      "Sliding window being executed...\n",
      "150.387048796\n",
      "295.329623403\n",
      "Sanity flag= 1\n",
      "Are lanes detected? True True\n"
     ]
    },
    {
     "name": "stderr",
     "output_type": "stream",
     "text": [
      "\u001b[A\n",
      " 63%|██████▎   | 304/485 [01:48<01:03,  2.84it/s]"
     ]
    },
    {
     "name": "stdout",
     "output_type": "stream",
     "text": [
      "Sliding window being executed...\n",
      "261.419718502\n",
      "264.548607211\n",
      "Sanity flag= 0\n",
      "Are lanes detected? True True\n"
     ]
    },
    {
     "name": "stderr",
     "output_type": "stream",
     "text": [
      "\u001b[A\n",
      " 63%|██████▎   | 305/485 [01:48<01:02,  2.90it/s]"
     ]
    },
    {
     "name": "stdout",
     "output_type": "stream",
     "text": [
      "Sliding window being executed...\n",
      "147.166105462\n",
      "503.522088242\n",
      "Sanity flag= 1\n",
      "Are lanes detected? True True\n"
     ]
    },
    {
     "name": "stderr",
     "output_type": "stream",
     "text": [
      "\u001b[A\n",
      " 63%|██████▎   | 306/485 [01:49<01:02,  2.85it/s]"
     ]
    },
    {
     "name": "stdout",
     "output_type": "stream",
     "text": [
      "Sliding window being executed...\n",
      "307.240491859\n",
      "400.77876713\n",
      "Sanity flag= 0\n",
      "Are lanes detected? True True\n"
     ]
    },
    {
     "name": "stderr",
     "output_type": "stream",
     "text": [
      "\u001b[A\n",
      " 63%|██████▎   | 307/485 [01:49<01:02,  2.87it/s]"
     ]
    },
    {
     "name": "stdout",
     "output_type": "stream",
     "text": [
      "Sliding window being executed...\n",
      "109.679623626\n",
      "253.442062086\n",
      "Sanity flag= 1\n",
      "Are lanes detected? True True\n"
     ]
    },
    {
     "name": "stderr",
     "output_type": "stream",
     "text": [
      "\u001b[A\n",
      " 64%|██████▎   | 308/485 [01:49<01:01,  2.87it/s]"
     ]
    },
    {
     "name": "stdout",
     "output_type": "stream",
     "text": [
      "Sliding window being executed...\n",
      "335.670648889\n",
      "273.031616141\n",
      "Sanity flag= 0\n",
      "Are lanes detected? True True\n"
     ]
    },
    {
     "name": "stderr",
     "output_type": "stream",
     "text": [
      "\u001b[A\n",
      " 64%|██████▎   | 309/485 [01:50<01:01,  2.87it/s]"
     ]
    },
    {
     "name": "stdout",
     "output_type": "stream",
     "text": [
      "Sliding window being executed...\n",
      "194.443311965\n",
      "290.572438379\n",
      "Sanity flag= 0\n",
      "Are lanes detected? True True\n"
     ]
    },
    {
     "name": "stderr",
     "output_type": "stream",
     "text": [
      "\u001b[A\n",
      " 64%|██████▍   | 310/485 [01:50<01:01,  2.85it/s]"
     ]
    },
    {
     "name": "stdout",
     "output_type": "stream",
     "text": [
      "Sliding window being executed...\n",
      "101.99287481\n",
      "364.776510227\n",
      "Sanity flag= 1\n",
      "Are lanes detected? True True\n"
     ]
    },
    {
     "name": "stderr",
     "output_type": "stream",
     "text": [
      "\u001b[A\n",
      " 64%|██████▍   | 311/485 [01:50<01:01,  2.81it/s]"
     ]
    },
    {
     "name": "stdout",
     "output_type": "stream",
     "text": [
      "Sliding window being executed...\n",
      "108.388828123\n",
      "505.568458542\n",
      "Sanity flag= 1\n",
      "Are lanes detected? True True\n"
     ]
    },
    {
     "name": "stderr",
     "output_type": "stream",
     "text": [
      "\u001b[A\n",
      " 64%|██████▍   | 312/485 [01:51<01:00,  2.88it/s]"
     ]
    },
    {
     "name": "stdout",
     "output_type": "stream",
     "text": [
      "Sliding window being executed...\n",
      "67.6924734574\n",
      "475.824122408\n",
      "Sanity flag= 1\n",
      "Are lanes detected? True True\n"
     ]
    },
    {
     "name": "stderr",
     "output_type": "stream",
     "text": [
      "\u001b[A\n",
      " 65%|██████▍   | 313/485 [01:51<01:01,  2.78it/s]"
     ]
    },
    {
     "name": "stdout",
     "output_type": "stream",
     "text": [
      "Sliding window being executed...\n",
      "78.1884983806\n",
      "85155.5012162\n",
      "Sanity flag= 1\n",
      "Are lanes detected? True True\n"
     ]
    },
    {
     "name": "stderr",
     "output_type": "stream",
     "text": [
      "\u001b[A\n",
      " 65%|██████▍   | 314/485 [01:52<01:13,  2.33it/s]"
     ]
    },
    {
     "name": "stdout",
     "output_type": "stream",
     "text": [
      "Sliding window being executed...\n",
      "233.164337196\n",
      "1833.54462791\n",
      "Sanity flag= 1\n",
      "Are lanes detected? True True\n"
     ]
    },
    {
     "name": "stderr",
     "output_type": "stream",
     "text": [
      "\u001b[A\n",
      " 65%|██████▍   | 315/485 [01:52<01:21,  2.09it/s]"
     ]
    },
    {
     "name": "stdout",
     "output_type": "stream",
     "text": [
      "Sliding window being executed...\n",
      "171.260873025\n",
      "2192.24360392\n",
      "Sanity flag= 1\n",
      "Are lanes detected? True True\n"
     ]
    },
    {
     "name": "stderr",
     "output_type": "stream",
     "text": [
      "\u001b[A\n",
      " 65%|██████▌   | 316/485 [01:53<01:25,  1.97it/s]"
     ]
    },
    {
     "name": "stdout",
     "output_type": "stream",
     "text": [
      "Sliding window being executed...\n",
      "198.980945318\n",
      "405.67126612\n",
      "Sanity flag= 0\n",
      "Are lanes detected? True True\n"
     ]
    },
    {
     "name": "stderr",
     "output_type": "stream",
     "text": [
      "\u001b[A\n",
      " 65%|██████▌   | 317/485 [01:53<01:16,  2.19it/s]"
     ]
    },
    {
     "name": "stdout",
     "output_type": "stream",
     "text": [
      "Sliding window being executed...\n",
      "107.128329845\n",
      "335.684257408\n",
      "Sanity flag= 1\n",
      "Are lanes detected? True True\n"
     ]
    },
    {
     "name": "stderr",
     "output_type": "stream",
     "text": [
      "\u001b[A\n",
      " 66%|██████▌   | 318/485 [01:53<01:10,  2.37it/s]"
     ]
    },
    {
     "name": "stdout",
     "output_type": "stream",
     "text": [
      "Sliding window being executed...\n",
      "110.418466541\n",
      "317.530332348\n",
      "Sanity flag= 1\n",
      "Are lanes detected? True True\n"
     ]
    },
    {
     "name": "stderr",
     "output_type": "stream",
     "text": [
      "\u001b[A\n",
      " 66%|██████▌   | 319/485 [01:54<01:08,  2.41it/s]"
     ]
    },
    {
     "name": "stdout",
     "output_type": "stream",
     "text": [
      "Sliding window being executed...\n",
      "110.352507388\n",
      "395.25928082\n",
      "Sanity flag= 1\n",
      "Are lanes detected? True True\n"
     ]
    },
    {
     "name": "stderr",
     "output_type": "stream",
     "text": [
      "\u001b[A\n",
      " 66%|██████▌   | 320/485 [01:54<01:04,  2.57it/s]"
     ]
    },
    {
     "name": "stdout",
     "output_type": "stream",
     "text": [
      "Sliding window being executed...\n",
      "114.999009091\n",
      "745.550108171\n",
      "Sanity flag= 0\n",
      "Are lanes detected? True True\n"
     ]
    },
    {
     "name": "stderr",
     "output_type": "stream",
     "text": [
      "\u001b[A\n",
      " 66%|██████▌   | 321/485 [01:55<01:01,  2.68it/s]"
     ]
    },
    {
     "name": "stdout",
     "output_type": "stream",
     "text": [
      "Sliding window being executed...\n",
      "318.207865377\n",
      "684.432058918\n",
      "Sanity flag= 0\n",
      "Are lanes detected? True True\n"
     ]
    },
    {
     "name": "stderr",
     "output_type": "stream",
     "text": [
      "\u001b[A\n",
      " 66%|██████▋   | 322/485 [01:55<01:02,  2.62it/s]"
     ]
    },
    {
     "name": "stdout",
     "output_type": "stream",
     "text": [
      "Sliding window being executed...\n",
      "2420.95922084\n",
      "1013.01860629\n",
      "Sanity flag= 1\n",
      "Are lanes detected? True True\n"
     ]
    },
    {
     "name": "stderr",
     "output_type": "stream",
     "text": [
      "\u001b[A\n",
      " 67%|██████▋   | 323/485 [01:55<00:59,  2.70it/s]"
     ]
    },
    {
     "name": "stdout",
     "output_type": "stream",
     "text": [
      "Sliding window being executed...\n",
      "12808.8740899\n",
      "1017.88894959\n",
      "Sanity flag= 1\n",
      "Are lanes detected? True True\n"
     ]
    },
    {
     "name": "stderr",
     "output_type": "stream",
     "text": [
      "\u001b[A\n",
      " 67%|██████▋   | 324/485 [01:56<00:58,  2.77it/s]"
     ]
    },
    {
     "name": "stdout",
     "output_type": "stream",
     "text": [
      "Sliding window being executed...\n",
      "133.759873526\n",
      "506.110119592\n",
      "Sanity flag= 0\n",
      "Are lanes detected? True True\n"
     ]
    },
    {
     "name": "stderr",
     "output_type": "stream",
     "text": [
      "\u001b[A\n",
      " 67%|██████▋   | 325/485 [01:56<00:59,  2.69it/s]"
     ]
    },
    {
     "name": "stdout",
     "output_type": "stream",
     "text": [
      "Sliding window being executed...\n",
      "121.917168942\n",
      "259.186937473\n",
      "Sanity flag= 1\n",
      "Are lanes detected? True True\n"
     ]
    },
    {
     "name": "stderr",
     "output_type": "stream",
     "text": [
      "\u001b[A\n",
      " 67%|██████▋   | 326/485 [01:56<00:57,  2.75it/s]"
     ]
    },
    {
     "name": "stdout",
     "output_type": "stream",
     "text": [
      "Sliding window being executed...\n",
      "129.736564742\n",
      "143.575861262\n",
      "Sanity flag= 1\n",
      "Are lanes detected? True True\n"
     ]
    },
    {
     "name": "stderr",
     "output_type": "stream",
     "text": [
      "\u001b[A\n",
      " 67%|██████▋   | 327/485 [01:57<00:56,  2.82it/s]"
     ]
    },
    {
     "name": "stdout",
     "output_type": "stream",
     "text": [
      "Sliding window being executed...\n",
      "145.150956312\n",
      "146.551383899\n",
      "Sanity flag= 1\n",
      "Are lanes detected? True True\n"
     ]
    },
    {
     "name": "stderr",
     "output_type": "stream",
     "text": [
      "\u001b[A\n",
      " 68%|██████▊   | 328/485 [01:57<00:55,  2.80it/s]"
     ]
    },
    {
     "name": "stdout",
     "output_type": "stream",
     "text": [
      "Sliding window being executed...\n",
      "161.268258707\n",
      "130.116090729\n",
      "Sanity flag= 1\n",
      "Are lanes detected? True True\n"
     ]
    },
    {
     "name": "stderr",
     "output_type": "stream",
     "text": [
      "\u001b[A\n",
      " 68%|██████▊   | 329/485 [01:57<00:56,  2.75it/s]"
     ]
    },
    {
     "name": "stdout",
     "output_type": "stream",
     "text": [
      "Sliding window being executed...\n",
      "204.518939774\n",
      "139.112854477\n",
      "Sanity flag= 0\n",
      "Are lanes detected? True True\n"
     ]
    },
    {
     "name": "stderr",
     "output_type": "stream",
     "text": [
      "\u001b[A\n",
      " 68%|██████▊   | 330/485 [01:58<00:55,  2.80it/s]"
     ]
    },
    {
     "name": "stdout",
     "output_type": "stream",
     "text": [
      "Sliding window being executed...\n",
      "196.356007408\n",
      "129.770007087\n",
      "Sanity flag= 1\n",
      "Are lanes detected? True True\n"
     ]
    },
    {
     "name": "stderr",
     "output_type": "stream",
     "text": [
      "\u001b[A\n",
      " 68%|██████▊   | 331/485 [01:58<00:53,  2.86it/s]"
     ]
    },
    {
     "name": "stdout",
     "output_type": "stream",
     "text": [
      "Sliding window being executed...\n",
      "263.301966501\n",
      "396.921785215\n",
      "Sanity flag= 0\n",
      "Are lanes detected? True True\n"
     ]
    },
    {
     "name": "stderr",
     "output_type": "stream",
     "text": [
      "\u001b[A\n",
      " 68%|██████▊   | 332/485 [01:58<00:54,  2.79it/s]"
     ]
    },
    {
     "name": "stdout",
     "output_type": "stream",
     "text": [
      "Sliding window being executed...\n",
      "232.159400348\n",
      "483.107558114\n",
      "Sanity flag= 0\n",
      "Are lanes detected? True True\n"
     ]
    },
    {
     "name": "stderr",
     "output_type": "stream",
     "text": [
      "\u001b[A\n",
      " 69%|██████▊   | 333/485 [01:59<00:54,  2.81it/s]"
     ]
    },
    {
     "name": "stdout",
     "output_type": "stream",
     "text": [
      "Sliding window being executed...\n",
      "283.225746083\n",
      "686.982897592\n",
      "Sanity flag= 0\n",
      "Are lanes detected? True True\n"
     ]
    },
    {
     "name": "stderr",
     "output_type": "stream",
     "text": [
      "\u001b[A\n",
      " 69%|██████▉   | 334/485 [01:59<00:53,  2.83it/s]"
     ]
    },
    {
     "name": "stdout",
     "output_type": "stream",
     "text": [
      "Sliding window being executed...\n",
      "280.820714217\n",
      "869.532156918\n",
      "Sanity flag= 0\n",
      "Are lanes detected? True True\n"
     ]
    },
    {
     "name": "stderr",
     "output_type": "stream",
     "text": [
      "\u001b[A\n",
      " 69%|██████▉   | 335/485 [02:00<00:54,  2.75it/s]"
     ]
    },
    {
     "name": "stdout",
     "output_type": "stream",
     "text": [
      "Sliding window being executed...\n",
      "274.610687645\n",
      "1710.72896477\n",
      "Sanity flag= 1\n",
      "Are lanes detected? True True\n"
     ]
    },
    {
     "name": "stderr",
     "output_type": "stream",
     "text": [
      "\u001b[A\n",
      " 69%|██████▉   | 336/485 [02:00<00:52,  2.85it/s]"
     ]
    },
    {
     "name": "stdout",
     "output_type": "stream",
     "text": [
      "Sliding window being executed...\n",
      "290.588512446\n",
      "1006.37831589\n",
      "Sanity flag= 0\n",
      "Are lanes detected? True True\n"
     ]
    },
    {
     "name": "stderr",
     "output_type": "stream",
     "text": [
      "\u001b[A\n",
      " 69%|██████▉   | 337/485 [02:00<00:52,  2.83it/s]"
     ]
    },
    {
     "name": "stdout",
     "output_type": "stream",
     "text": [
      "Sliding window being executed...\n",
      "289.654531682\n",
      "1055.8915121\n",
      "Sanity flag= 0\n",
      "Are lanes detected? True True\n"
     ]
    },
    {
     "name": "stderr",
     "output_type": "stream",
     "text": [
      "\u001b[A\n",
      " 70%|██████▉   | 338/485 [02:01<00:52,  2.81it/s]"
     ]
    },
    {
     "name": "stdout",
     "output_type": "stream",
     "text": [
      "Sliding window being executed...\n",
      "268.215553413\n",
      "781.923694506\n",
      "Sanity flag= 0\n",
      "Are lanes detected? True True\n"
     ]
    },
    {
     "name": "stderr",
     "output_type": "stream",
     "text": [
      "\u001b[A\n",
      " 70%|██████▉   | 339/485 [02:01<00:52,  2.80it/s]"
     ]
    },
    {
     "name": "stdout",
     "output_type": "stream",
     "text": [
      "Sliding window being executed...\n",
      "264.734134084\n",
      "1284.34866894\n",
      "Sanity flag= 1\n",
      "Are lanes detected? True True\n"
     ]
    },
    {
     "name": "stderr",
     "output_type": "stream",
     "text": [
      "\u001b[A\n",
      " 70%|███████   | 340/485 [02:01<00:51,  2.79it/s]"
     ]
    },
    {
     "name": "stdout",
     "output_type": "stream",
     "text": [
      "Sliding window being executed...\n",
      "240.992475497\n",
      "1382.38104773\n",
      "Sanity flag= 1\n",
      "Are lanes detected? True True\n"
     ]
    },
    {
     "name": "stderr",
     "output_type": "stream",
     "text": [
      "\u001b[A\n",
      " 70%|███████   | 341/485 [02:02<00:51,  2.77it/s]"
     ]
    },
    {
     "name": "stdout",
     "output_type": "stream",
     "text": [
      "Sliding window being executed...\n",
      "330.498306098\n",
      "703.632038768\n",
      "Sanity flag= 0\n",
      "Are lanes detected? True True\n"
     ]
    },
    {
     "name": "stderr",
     "output_type": "stream",
     "text": [
      "\u001b[A\n",
      " 71%|███████   | 342/485 [02:02<00:50,  2.85it/s]"
     ]
    },
    {
     "name": "stdout",
     "output_type": "stream",
     "text": [
      "Sliding window being executed...\n",
      "232.413022846\n",
      "620.66125169\n",
      "Sanity flag= 0\n",
      "Are lanes detected? True True\n"
     ]
    },
    {
     "name": "stderr",
     "output_type": "stream",
     "text": [
      "\u001b[A\n",
      " 71%|███████   | 343/485 [02:02<00:52,  2.72it/s]"
     ]
    },
    {
     "name": "stdout",
     "output_type": "stream",
     "text": [
      "Sliding window being executed...\n",
      "132.509797766\n",
      "103584.820503\n",
      "Sanity flag= 1\n",
      "Are lanes detected? True True\n"
     ]
    },
    {
     "name": "stderr",
     "output_type": "stream",
     "text": [
      "\u001b[A\n",
      " 71%|███████   | 344/485 [02:03<00:50,  2.82it/s]"
     ]
    },
    {
     "name": "stdout",
     "output_type": "stream",
     "text": [
      "Sliding window being executed...\n",
      "161.880033579\n",
      "526.694611814\n",
      "Sanity flag= 0\n",
      "Are lanes detected? True True\n"
     ]
    },
    {
     "name": "stderr",
     "output_type": "stream",
     "text": [
      "\u001b[A\n",
      " 71%|███████   | 345/485 [02:03<00:50,  2.80it/s]"
     ]
    },
    {
     "name": "stdout",
     "output_type": "stream",
     "text": [
      "Sliding window being executed...\n",
      "2527.67762099\n",
      "2149.63735393\n",
      "Sanity flag= 1\n",
      "Are lanes detected? True True\n"
     ]
    },
    {
     "name": "stderr",
     "output_type": "stream",
     "text": [
      "\u001b[A\n",
      " 71%|███████▏  | 346/485 [02:03<00:49,  2.82it/s]"
     ]
    },
    {
     "name": "stdout",
     "output_type": "stream",
     "text": [
      "Sliding window being executed...\n",
      "595.506354298\n",
      "316.301373688\n",
      "Sanity flag= 0\n",
      "Are lanes detected? True True\n"
     ]
    },
    {
     "name": "stderr",
     "output_type": "stream",
     "text": [
      "\u001b[A\n",
      " 72%|███████▏  | 347/485 [02:04<00:49,  2.79it/s]"
     ]
    },
    {
     "name": "stdout",
     "output_type": "stream",
     "text": [
      "Sliding window being executed...\n",
      "171.037038429\n",
      "483.781421675\n",
      "Sanity flag= 0\n",
      "Are lanes detected? True True\n"
     ]
    },
    {
     "name": "stderr",
     "output_type": "stream",
     "text": [
      "\u001b[A\n",
      " 72%|███████▏  | 348/485 [02:04<00:47,  2.86it/s]"
     ]
    },
    {
     "name": "stdout",
     "output_type": "stream",
     "text": [
      "Sliding window being executed...\n",
      "118.98866088\n",
      "548.924846561\n",
      "Sanity flag= 0\n",
      "Are lanes detected? True True\n"
     ]
    },
    {
     "name": "stderr",
     "output_type": "stream",
     "text": [
      "\u001b[A\n",
      " 72%|███████▏  | 349/485 [02:05<00:48,  2.80it/s]"
     ]
    },
    {
     "name": "stdout",
     "output_type": "stream",
     "text": [
      "Sliding window being executed...\n",
      "157.84145917\n",
      "20455.9061741\n",
      "Sanity flag= 1\n",
      "Are lanes detected? True True\n"
     ]
    },
    {
     "name": "stderr",
     "output_type": "stream",
     "text": [
      "\u001b[A\n",
      " 72%|███████▏  | 350/485 [02:05<00:48,  2.76it/s]"
     ]
    },
    {
     "name": "stdout",
     "output_type": "stream",
     "text": [
      "Sliding window being executed...\n",
      "122.517659861\n",
      "2261.85454577\n",
      "Sanity flag= 1\n",
      "Are lanes detected? True True\n"
     ]
    },
    {
     "name": "stderr",
     "output_type": "stream",
     "text": [
      "\u001b[A\n",
      " 72%|███████▏  | 351/485 [02:05<00:47,  2.84it/s]"
     ]
    },
    {
     "name": "stdout",
     "output_type": "stream",
     "text": [
      "Sliding window being executed...\n",
      "145.578168855\n",
      "690.008512245\n",
      "Sanity flag= 0\n",
      "Are lanes detected? True True\n"
     ]
    },
    {
     "name": "stderr",
     "output_type": "stream",
     "text": [
      "\u001b[A\n",
      " 73%|███████▎  | 352/485 [02:06<00:48,  2.73it/s]"
     ]
    },
    {
     "name": "stdout",
     "output_type": "stream",
     "text": [
      "Sliding window being executed...\n",
      "132.276684036\n",
      "517.898325712\n",
      "Sanity flag= 0\n",
      "Are lanes detected? True True\n"
     ]
    },
    {
     "name": "stderr",
     "output_type": "stream",
     "text": [
      "\u001b[A\n",
      " 73%|███████▎  | 353/485 [02:06<00:47,  2.78it/s]"
     ]
    },
    {
     "name": "stdout",
     "output_type": "stream",
     "text": [
      "Sliding window being executed...\n",
      "154.291730399\n",
      "518.058846792\n",
      "Sanity flag= 0\n",
      "Are lanes detected? True True\n"
     ]
    },
    {
     "name": "stderr",
     "output_type": "stream",
     "text": [
      "\u001b[A\n",
      " 73%|███████▎  | 354/485 [02:06<00:46,  2.85it/s]"
     ]
    },
    {
     "name": "stdout",
     "output_type": "stream",
     "text": [
      "Sliding window being executed...\n",
      "131.736913824\n",
      "590.697444595\n",
      "Sanity flag= 0\n",
      "Are lanes detected? True True\n"
     ]
    },
    {
     "name": "stderr",
     "output_type": "stream",
     "text": [
      "\u001b[A\n",
      " 73%|███████▎  | 355/485 [02:07<00:46,  2.77it/s]"
     ]
    },
    {
     "name": "stdout",
     "output_type": "stream",
     "text": [
      "Sliding window being executed...\n",
      "216.624899416\n",
      "818.971780298\n",
      "Sanity flag= 0\n",
      "Are lanes detected? True True\n"
     ]
    },
    {
     "name": "stderr",
     "output_type": "stream",
     "text": [
      "\u001b[A\n",
      " 73%|███████▎  | 356/485 [02:07<00:47,  2.74it/s]"
     ]
    },
    {
     "name": "stdout",
     "output_type": "stream",
     "text": [
      "Sliding window being executed...\n",
      "146.112484789\n",
      "572.854246825\n",
      "Sanity flag= 0\n",
      "Are lanes detected? True True\n"
     ]
    },
    {
     "name": "stderr",
     "output_type": "stream",
     "text": [
      "\u001b[A\n",
      " 74%|███████▎  | 357/485 [02:07<00:47,  2.72it/s]"
     ]
    },
    {
     "name": "stdout",
     "output_type": "stream",
     "text": [
      "Sliding window being executed...\n",
      "265.721010303\n",
      "865.816680259\n",
      "Sanity flag= 0\n",
      "Are lanes detected? True True\n"
     ]
    },
    {
     "name": "stderr",
     "output_type": "stream",
     "text": [
      "\u001b[A\n",
      " 74%|███████▍  | 358/485 [02:08<00:45,  2.81it/s]"
     ]
    },
    {
     "name": "stdout",
     "output_type": "stream",
     "text": [
      "Sliding window being executed...\n",
      "182.162294457\n",
      "379.69265783\n",
      "Sanity flag= 0\n",
      "Are lanes detected? True True\n"
     ]
    },
    {
     "name": "stderr",
     "output_type": "stream",
     "text": [
      "\u001b[A\n",
      " 74%|███████▍  | 359/485 [02:08<00:45,  2.79it/s]"
     ]
    },
    {
     "name": "stdout",
     "output_type": "stream",
     "text": [
      "Sliding window being executed...\n",
      "181.917377414\n",
      "408.060075216\n",
      "Sanity flag= 0\n",
      "Are lanes detected? True True\n"
     ]
    },
    {
     "name": "stderr",
     "output_type": "stream",
     "text": [
      "\u001b[A\n",
      " 74%|███████▍  | 360/485 [02:09<00:46,  2.71it/s]"
     ]
    },
    {
     "name": "stdout",
     "output_type": "stream",
     "text": [
      "Sliding window being executed...\n",
      "117.533710414\n",
      "413.268922079\n",
      "Sanity flag= 1\n",
      "Are lanes detected? True True\n"
     ]
    },
    {
     "name": "stderr",
     "output_type": "stream",
     "text": [
      "\u001b[A\n",
      " 74%|███████▍  | 361/485 [02:09<00:44,  2.77it/s]"
     ]
    },
    {
     "name": "stdout",
     "output_type": "stream",
     "text": [
      "Sliding window being executed...\n",
      "136.01413622\n",
      "655.92155327\n",
      "Sanity flag= 0\n",
      "Are lanes detected? True True\n"
     ]
    },
    {
     "name": "stderr",
     "output_type": "stream",
     "text": [
      "\u001b[A\n",
      " 75%|███████▍  | 362/485 [02:09<00:43,  2.83it/s]"
     ]
    },
    {
     "name": "stdout",
     "output_type": "stream",
     "text": [
      "Sliding window being executed...\n",
      "114.734497011\n",
      "497.365356189\n",
      "Sanity flag= 1\n",
      "Are lanes detected? True True\n"
     ]
    },
    {
     "name": "stderr",
     "output_type": "stream",
     "text": [
      "\u001b[A\n",
      " 75%|███████▍  | 363/485 [02:10<00:44,  2.77it/s]"
     ]
    },
    {
     "name": "stdout",
     "output_type": "stream",
     "text": [
      "Sliding window being executed...\n",
      "138.492795673\n",
      "1493.73256024\n",
      "Sanity flag= 1\n",
      "Are lanes detected? True True\n"
     ]
    },
    {
     "name": "stderr",
     "output_type": "stream",
     "text": [
      "\u001b[A\n",
      " 75%|███████▌  | 364/485 [02:10<00:42,  2.86it/s]"
     ]
    },
    {
     "name": "stdout",
     "output_type": "stream",
     "text": [
      "Sliding window being executed...\n",
      "131.63116315\n",
      "501.023448584\n",
      "Sanity flag= 0\n",
      "Are lanes detected? True True\n"
     ]
    },
    {
     "name": "stderr",
     "output_type": "stream",
     "text": [
      "\u001b[A\n",
      " 75%|███████▌  | 365/485 [02:10<00:43,  2.78it/s]"
     ]
    },
    {
     "name": "stdout",
     "output_type": "stream",
     "text": [
      "Sliding window being executed...\n",
      "130.366736441\n",
      "523.46109468\n",
      "Sanity flag= 0\n",
      "Are lanes detected? True True\n"
     ]
    },
    {
     "name": "stderr",
     "output_type": "stream",
     "text": [
      "\u001b[A\n",
      " 75%|███████▌  | 366/485 [02:11<00:42,  2.83it/s]"
     ]
    },
    {
     "name": "stdout",
     "output_type": "stream",
     "text": [
      "Sliding window being executed...\n",
      "154.294582507\n",
      "608.839610669\n",
      "Sanity flag= 0\n",
      "Are lanes detected? True True\n"
     ]
    },
    {
     "name": "stderr",
     "output_type": "stream",
     "text": [
      "\u001b[A\n",
      " 76%|███████▌  | 367/485 [02:11<00:40,  2.88it/s]"
     ]
    },
    {
     "name": "stdout",
     "output_type": "stream",
     "text": [
      "Sliding window being executed...\n",
      "187.618213438\n",
      "775.928438619\n",
      "Sanity flag= 0\n",
      "Are lanes detected? True True\n"
     ]
    },
    {
     "name": "stderr",
     "output_type": "stream",
     "text": [
      "\u001b[A\n",
      " 76%|███████▌  | 368/485 [02:11<00:41,  2.82it/s]"
     ]
    },
    {
     "name": "stdout",
     "output_type": "stream",
     "text": [
      "Sliding window being executed...\n",
      "215.127387728\n",
      "787.814522177\n",
      "Sanity flag= 0\n",
      "Are lanes detected? True True\n"
     ]
    },
    {
     "name": "stderr",
     "output_type": "stream",
     "text": [
      "\u001b[A\n",
      " 76%|███████▌  | 369/485 [02:12<00:41,  2.82it/s]"
     ]
    },
    {
     "name": "stdout",
     "output_type": "stream",
     "text": [
      "Sliding window being executed...\n",
      "250.933239988\n",
      "1171.85147591\n",
      "Sanity flag= 0\n",
      "Are lanes detected? True True\n"
     ]
    },
    {
     "name": "stderr",
     "output_type": "stream",
     "text": [
      "\u001b[A\n",
      " 76%|███████▋  | 370/485 [02:12<00:41,  2.78it/s]"
     ]
    },
    {
     "name": "stdout",
     "output_type": "stream",
     "text": [
      "Sliding window being executed...\n",
      "5647.35266841\n",
      "673.206219512\n",
      "Sanity flag= 1\n",
      "Are lanes detected? True True\n"
     ]
    },
    {
     "name": "stderr",
     "output_type": "stream",
     "text": [
      "\u001b[A\n",
      " 76%|███████▋  | 371/485 [02:12<00:40,  2.81it/s]"
     ]
    },
    {
     "name": "stdout",
     "output_type": "stream",
     "text": [
      "Sliding window being executed...\n",
      "3338.85922588\n",
      "1220.53226874\n",
      "Sanity flag= 1\n",
      "Are lanes detected? True True\n"
     ]
    },
    {
     "name": "stderr",
     "output_type": "stream",
     "text": [
      "\u001b[A\n",
      " 77%|███████▋  | 372/485 [02:13<00:39,  2.85it/s]"
     ]
    },
    {
     "name": "stdout",
     "output_type": "stream",
     "text": [
      "Sliding window being executed...\n",
      "3351.76958495\n",
      "877.364930628\n",
      "Sanity flag= 1\n",
      "Are lanes detected? True True\n"
     ]
    },
    {
     "name": "stderr",
     "output_type": "stream",
     "text": [
      "\u001b[A\n",
      " 77%|███████▋  | 373/485 [02:13<00:40,  2.74it/s]"
     ]
    },
    {
     "name": "stdout",
     "output_type": "stream",
     "text": [
      "Sliding window being executed...\n",
      "2282.88471545\n",
      "502.985355874\n",
      "Sanity flag= 1\n",
      "Are lanes detected? True True\n"
     ]
    },
    {
     "name": "stderr",
     "output_type": "stream",
     "text": [
      "\u001b[A\n",
      " 77%|███████▋  | 374/485 [02:13<00:39,  2.83it/s]"
     ]
    },
    {
     "name": "stdout",
     "output_type": "stream",
     "text": [
      "Sliding window being executed...\n",
      "3874.88814279\n",
      "482.337555664\n",
      "Sanity flag= 1\n",
      "Are lanes detected? True True\n"
     ]
    },
    {
     "name": "stderr",
     "output_type": "stream",
     "text": [
      "\u001b[A\n",
      " 77%|███████▋  | 375/485 [02:14<00:39,  2.80it/s]"
     ]
    },
    {
     "name": "stdout",
     "output_type": "stream",
     "text": [
      "Sliding window being executed...\n",
      "3301.69504929\n",
      "367.990625338\n",
      "Sanity flag= 1\n",
      "Are lanes detected? True True\n"
     ]
    },
    {
     "name": "stderr",
     "output_type": "stream",
     "text": [
      "\u001b[A\n",
      " 78%|███████▊  | 376/485 [02:14<00:39,  2.75it/s]"
     ]
    },
    {
     "name": "stdout",
     "output_type": "stream",
     "text": [
      "Sliding window being executed...\n",
      "2618.85009454\n",
      "409.762060048\n",
      "Sanity flag= 1\n",
      "Are lanes detected? True True\n"
     ]
    },
    {
     "name": "stderr",
     "output_type": "stream",
     "text": [
      "\u001b[A\n",
      " 78%|███████▊  | 377/485 [02:15<00:38,  2.80it/s]"
     ]
    },
    {
     "name": "stdout",
     "output_type": "stream",
     "text": [
      "Sliding window being executed...\n",
      "2646.79011422\n",
      "386.725186203\n",
      "Sanity flag= 1\n",
      "Are lanes detected? True True\n"
     ]
    },
    {
     "name": "stderr",
     "output_type": "stream",
     "text": [
      "\u001b[A\n",
      " 78%|███████▊  | 378/485 [02:15<00:37,  2.84it/s]"
     ]
    },
    {
     "name": "stdout",
     "output_type": "stream",
     "text": [
      "Sliding window being executed...\n",
      "562.710203384\n",
      "562.710203384\n",
      "Sanity flag= 0\n",
      "Are lanes detected? True True\n"
     ]
    },
    {
     "name": "stderr",
     "output_type": "stream",
     "text": [
      "\u001b[A\n",
      " 78%|███████▊  | 379/485 [02:15<00:37,  2.81it/s]"
     ]
    },
    {
     "name": "stdout",
     "output_type": "stream",
     "text": [
      "Sliding window being executed...\n",
      "434.991865566\n",
      "434.991865566\n",
      "Sanity flag= 0\n",
      "Are lanes detected? True True\n"
     ]
    },
    {
     "name": "stderr",
     "output_type": "stream",
     "text": [
      "\u001b[A\n",
      " 78%|███████▊  | 380/485 [02:16<00:37,  2.82it/s]"
     ]
    },
    {
     "name": "stdout",
     "output_type": "stream",
     "text": [
      "Sliding window being executed...\n",
      "892.12931757\n",
      "540.192638215\n",
      "Sanity flag= 0\n",
      "Are lanes detected? True True\n"
     ]
    },
    {
     "name": "stderr",
     "output_type": "stream",
     "text": [
      "\u001b[A\n",
      " 79%|███████▊  | 381/485 [02:16<00:36,  2.84it/s]"
     ]
    },
    {
     "name": "stdout",
     "output_type": "stream",
     "text": [
      "Sliding window being executed...\n",
      "487.436092657\n",
      "38622.9035718\n",
      "Sanity flag= 1\n",
      "Are lanes detected? True True\n"
     ]
    },
    {
     "name": "stderr",
     "output_type": "stream",
     "text": [
      "\u001b[A\n",
      " 79%|███████▉  | 382/485 [02:16<00:36,  2.85it/s]"
     ]
    },
    {
     "name": "stdout",
     "output_type": "stream",
     "text": [
      "Sliding window being executed...\n",
      "368.362319525\n",
      "368.362319525\n",
      "Sanity flag= 0\n",
      "Are lanes detected? True True\n"
     ]
    },
    {
     "name": "stderr",
     "output_type": "stream",
     "text": [
      "\u001b[A\n",
      " 79%|███████▉  | 383/485 [02:17<00:36,  2.78it/s]"
     ]
    },
    {
     "name": "stdout",
     "output_type": "stream",
     "text": [
      "Sliding window being executed...\n",
      "391.262811866\n",
      "391.262811866\n",
      "Sanity flag= 0\n",
      "Are lanes detected? True True\n"
     ]
    },
    {
     "name": "stderr",
     "output_type": "stream",
     "text": [
      "\u001b[A\n",
      " 79%|███████▉  | 384/485 [02:17<00:35,  2.85it/s]"
     ]
    },
    {
     "name": "stdout",
     "output_type": "stream",
     "text": [
      "Sliding window being executed...\n",
      "346.895961738\n",
      "4583.73209829\n",
      "Sanity flag= 1\n",
      "Are lanes detected? True True\n"
     ]
    },
    {
     "name": "stderr",
     "output_type": "stream",
     "text": [
      "\u001b[A\n",
      " 79%|███████▉  | 385/485 [02:17<00:34,  2.90it/s]"
     ]
    },
    {
     "name": "stdout",
     "output_type": "stream",
     "text": [
      "Sliding window being executed...\n",
      "510.132196937\n",
      "510.132196937\n",
      "Sanity flag= 0\n",
      "Are lanes detected? True True\n"
     ]
    },
    {
     "name": "stderr",
     "output_type": "stream",
     "text": [
      "\u001b[A\n",
      " 80%|███████▉  | 386/485 [02:18<00:34,  2.86it/s]"
     ]
    },
    {
     "name": "stdout",
     "output_type": "stream",
     "text": [
      "Sliding window being executed...\n",
      "1235.31298476\n",
      "474.755788132\n",
      "Sanity flag= 1\n",
      "Are lanes detected? True True\n"
     ]
    },
    {
     "name": "stderr",
     "output_type": "stream",
     "text": [
      "\u001b[A\n",
      " 80%|███████▉  | 387/485 [02:18<00:34,  2.84it/s]"
     ]
    },
    {
     "name": "stdout",
     "output_type": "stream",
     "text": [
      "Sliding window being executed...\n",
      "8158.7073025\n",
      "406.381417144\n",
      "Sanity flag= 1\n",
      "Are lanes detected? True True\n"
     ]
    },
    {
     "name": "stderr",
     "output_type": "stream",
     "text": [
      "\u001b[A\n",
      " 80%|████████  | 388/485 [02:18<00:34,  2.81it/s]"
     ]
    },
    {
     "name": "stdout",
     "output_type": "stream",
     "text": [
      "Sliding window being executed...\n",
      "763.16519966\n",
      "588.8532374\n",
      "Sanity flag= 0\n",
      "Are lanes detected? True True\n"
     ]
    },
    {
     "name": "stderr",
     "output_type": "stream",
     "text": [
      "\u001b[A\n",
      " 80%|████████  | 389/485 [02:19<00:34,  2.82it/s]"
     ]
    },
    {
     "name": "stdout",
     "output_type": "stream",
     "text": [
      "Sliding window being executed...\n",
      "529.213764962\n",
      "976.114731348\n",
      "Sanity flag= 0\n",
      "Are lanes detected? True True\n"
     ]
    },
    {
     "name": "stderr",
     "output_type": "stream",
     "text": [
      "\u001b[A\n",
      " 80%|████████  | 390/485 [02:19<00:34,  2.76it/s]"
     ]
    },
    {
     "name": "stdout",
     "output_type": "stream",
     "text": [
      "Sliding window being executed...\n",
      "459.487056389\n",
      "4712.07045487\n",
      "Sanity flag= 1\n",
      "Are lanes detected? True True\n"
     ]
    },
    {
     "name": "stderr",
     "output_type": "stream",
     "text": [
      "\u001b[A\n",
      " 81%|████████  | 391/485 [02:20<00:33,  2.84it/s]"
     ]
    },
    {
     "name": "stdout",
     "output_type": "stream",
     "text": [
      "Sliding window being executed...\n",
      "481.91207081\n",
      "2476.57900876\n",
      "Sanity flag= 1\n",
      "Are lanes detected? True True\n"
     ]
    },
    {
     "name": "stderr",
     "output_type": "stream",
     "text": [
      "\u001b[A\n",
      " 81%|████████  | 392/485 [02:20<00:31,  2.91it/s]"
     ]
    },
    {
     "name": "stdout",
     "output_type": "stream",
     "text": [
      "Sliding window being executed...\n",
      "685.882858273\n",
      "966.06329208\n",
      "Sanity flag= 0\n",
      "Are lanes detected? True True\n"
     ]
    },
    {
     "name": "stderr",
     "output_type": "stream",
     "text": [
      "\u001b[A\n",
      " 81%|████████  | 393/485 [02:20<00:32,  2.79it/s]"
     ]
    },
    {
     "name": "stdout",
     "output_type": "stream",
     "text": [
      "Sliding window being executed...\n",
      "1434.19654109\n",
      "763.253008407\n",
      "Sanity flag= 1\n",
      "Are lanes detected? True True\n"
     ]
    },
    {
     "name": "stderr",
     "output_type": "stream",
     "text": [
      "\u001b[A\n",
      " 81%|████████  | 394/485 [02:21<00:32,  2.81it/s]"
     ]
    },
    {
     "name": "stdout",
     "output_type": "stream",
     "text": [
      "Sliding window being executed...\n",
      "517.872726355\n",
      "4281.19385647\n",
      "Sanity flag= 1\n",
      "Are lanes detected? True True\n"
     ]
    },
    {
     "name": "stderr",
     "output_type": "stream",
     "text": [
      "\u001b[A\n",
      " 81%|████████▏ | 395/485 [02:21<00:31,  2.88it/s]"
     ]
    },
    {
     "name": "stdout",
     "output_type": "stream",
     "text": [
      "Sliding window being executed...\n",
      "988.805972824\n",
      "581.656273338\n",
      "Sanity flag= 0\n",
      "Are lanes detected? True True\n"
     ]
    },
    {
     "name": "stderr",
     "output_type": "stream",
     "text": [
      "\u001b[A\n",
      " 82%|████████▏ | 396/485 [02:21<00:30,  2.94it/s]"
     ]
    },
    {
     "name": "stdout",
     "output_type": "stream",
     "text": [
      "Sliding window being executed...\n",
      "616.429875334\n",
      "945.285238599\n",
      "Sanity flag= 0\n",
      "Are lanes detected? True True\n"
     ]
    },
    {
     "name": "stderr",
     "output_type": "stream",
     "text": [
      "\u001b[A\n",
      " 82%|████████▏ | 397/485 [02:22<00:31,  2.78it/s]"
     ]
    },
    {
     "name": "stdout",
     "output_type": "stream",
     "text": [
      "Sliding window being executed...\n",
      "1067.39796246\n",
      "433.857941115\n",
      "Sanity flag= 0\n",
      "Are lanes detected? True True\n"
     ]
    },
    {
     "name": "stderr",
     "output_type": "stream",
     "text": [
      "\u001b[A\n",
      " 82%|████████▏ | 398/485 [02:22<00:30,  2.82it/s]"
     ]
    },
    {
     "name": "stdout",
     "output_type": "stream",
     "text": [
      "Sliding window being executed...\n",
      "8587.66910361\n",
      "273.154461865\n",
      "Sanity flag= 1\n",
      "Are lanes detected? True True\n"
     ]
    },
    {
     "name": "stderr",
     "output_type": "stream",
     "text": [
      "\u001b[A\n",
      " 82%|████████▏ | 399/485 [02:22<00:29,  2.89it/s]"
     ]
    },
    {
     "name": "stdout",
     "output_type": "stream",
     "text": [
      "Sliding window being executed...\n",
      "684.624246429\n",
      "467.708528126\n",
      "Sanity flag= 0\n",
      "Are lanes detected? True True\n"
     ]
    },
    {
     "name": "stderr",
     "output_type": "stream",
     "text": [
      "\u001b[A\n",
      " 82%|████████▏ | 400/485 [02:23<00:28,  2.95it/s]"
     ]
    },
    {
     "name": "stdout",
     "output_type": "stream",
     "text": [
      "Sliding window being executed...\n",
      "626.896367647\n",
      "719.055494531\n",
      "Sanity flag= 0\n",
      "Are lanes detected? True True\n"
     ]
    },
    {
     "name": "stderr",
     "output_type": "stream",
     "text": [
      "\u001b[A\n",
      " 83%|████████▎ | 401/485 [02:23<00:29,  2.84it/s]"
     ]
    },
    {
     "name": "stdout",
     "output_type": "stream",
     "text": [
      "Sliding window being executed...\n",
      "570.17501063\n",
      "504.634906606\n",
      "Sanity flag= 0\n",
      "Are lanes detected? True True\n"
     ]
    },
    {
     "name": "stderr",
     "output_type": "stream",
     "text": [
      "\u001b[A\n",
      " 83%|████████▎ | 402/485 [02:23<00:28,  2.92it/s]"
     ]
    },
    {
     "name": "stdout",
     "output_type": "stream",
     "text": [
      "Sliding window being executed...\n",
      "1007.33250436\n",
      "1140.63523725\n",
      "Sanity flag= 0\n",
      "Are lanes detected? True True\n"
     ]
    },
    {
     "name": "stderr",
     "output_type": "stream",
     "text": [
      "\u001b[A\n",
      " 83%|████████▎ | 403/485 [02:24<00:29,  2.81it/s]"
     ]
    },
    {
     "name": "stdout",
     "output_type": "stream",
     "text": [
      "Sliding window being executed...\n",
      "24754.7262304\n",
      "1388.96393375\n",
      "Sanity flag= 1\n",
      "Are lanes detected? True True\n"
     ]
    },
    {
     "name": "stderr",
     "output_type": "stream",
     "text": [
      "\u001b[A\n",
      " 83%|████████▎ | 404/485 [02:24<00:30,  2.64it/s]"
     ]
    },
    {
     "name": "stdout",
     "output_type": "stream",
     "text": [
      "Sliding window being executed...\n",
      "3652.21974087\n",
      "1402.02300395\n",
      "Sanity flag= 1\n",
      "Are lanes detected? True True\n"
     ]
    },
    {
     "name": "stderr",
     "output_type": "stream",
     "text": [
      "\u001b[A\n",
      " 84%|████████▎ | 405/485 [02:25<00:35,  2.25it/s]"
     ]
    },
    {
     "name": "stdout",
     "output_type": "stream",
     "text": [
      "Sliding window being executed...\n",
      "500.065043531\n",
      "7025.06566629\n",
      "Sanity flag= 1\n",
      "Are lanes detected? True True\n"
     ]
    },
    {
     "name": "stderr",
     "output_type": "stream",
     "text": [
      "\u001b[A\n",
      " 84%|████████▎ | 406/485 [02:25<00:38,  2.04it/s]"
     ]
    },
    {
     "name": "stdout",
     "output_type": "stream",
     "text": [
      "Sliding window being executed...\n",
      "990.652195251\n",
      "64636.3649846\n",
      "Sanity flag= 1\n",
      "Are lanes detected? True True\n"
     ]
    },
    {
     "name": "stderr",
     "output_type": "stream",
     "text": [
      "\u001b[A\n",
      " 84%|████████▍ | 407/485 [02:26<00:41,  1.89it/s]"
     ]
    },
    {
     "name": "stdout",
     "output_type": "stream",
     "text": [
      "Sliding window being executed...\n",
      "10155.6602939\n",
      "14594.2360951\n",
      "Sanity flag= 1\n",
      "Are lanes detected? True True\n"
     ]
    },
    {
     "name": "stderr",
     "output_type": "stream",
     "text": [
      "\u001b[A\n",
      " 84%|████████▍ | 408/485 [02:26<00:37,  2.04it/s]"
     ]
    },
    {
     "name": "stdout",
     "output_type": "stream",
     "text": [
      "Sliding window being executed...\n",
      "4619.81856084\n",
      "1069.38403945\n",
      "Sanity flag= 1\n",
      "Are lanes detected? True True\n"
     ]
    },
    {
     "name": "stderr",
     "output_type": "stream",
     "text": [
      "\u001b[A\n",
      " 84%|████████▍ | 409/485 [02:27<00:34,  2.18it/s]"
     ]
    },
    {
     "name": "stdout",
     "output_type": "stream",
     "text": [
      "Sliding window being executed...\n",
      "2298.07455878\n",
      "949.348424585\n",
      "Sanity flag= 1\n",
      "Are lanes detected? True True\n"
     ]
    },
    {
     "name": "stderr",
     "output_type": "stream",
     "text": [
      "\u001b[A\n",
      " 85%|████████▍ | 410/485 [02:27<00:31,  2.38it/s]"
     ]
    },
    {
     "name": "stdout",
     "output_type": "stream",
     "text": [
      "Sliding window being executed...\n",
      "873.87134869\n",
      "616.019036005\n",
      "Sanity flag= 0\n",
      "Are lanes detected? True True\n"
     ]
    },
    {
     "name": "stderr",
     "output_type": "stream",
     "text": [
      "\u001b[A\n",
      " 85%|████████▍ | 411/485 [02:27<00:29,  2.54it/s]"
     ]
    },
    {
     "name": "stdout",
     "output_type": "stream",
     "text": [
      "Sliding window being executed...\n",
      "473.410098032\n",
      "60257.8183847\n",
      "Sanity flag= 1\n",
      "Are lanes detected? True True\n"
     ]
    },
    {
     "name": "stderr",
     "output_type": "stream",
     "text": [
      "\u001b[A\n",
      " 85%|████████▍ | 412/485 [02:28<00:28,  2.57it/s]"
     ]
    },
    {
     "name": "stdout",
     "output_type": "stream",
     "text": [
      "Sliding window being executed...\n",
      "402.850403315\n",
      "1274.22613513\n",
      "Sanity flag= 1\n",
      "Are lanes detected? True True\n"
     ]
    },
    {
     "name": "stderr",
     "output_type": "stream",
     "text": [
      "\u001b[A\n",
      " 85%|████████▌ | 413/485 [02:28<00:27,  2.58it/s]"
     ]
    },
    {
     "name": "stdout",
     "output_type": "stream",
     "text": [
      "Sliding window being executed...\n",
      "362.394333738\n",
      "1305.50882033\n",
      "Sanity flag= 1\n",
      "Are lanes detected? True True\n"
     ]
    },
    {
     "name": "stderr",
     "output_type": "stream",
     "text": [
      "\u001b[A\n",
      " 85%|████████▌ | 414/485 [02:29<00:26,  2.67it/s]"
     ]
    },
    {
     "name": "stdout",
     "output_type": "stream",
     "text": [
      "Sliding window being executed...\n",
      "431.917634855\n",
      "1994.32562582\n",
      "Sanity flag= 1\n",
      "Are lanes detected? True True\n"
     ]
    },
    {
     "name": "stderr",
     "output_type": "stream",
     "text": [
      "\u001b[A\n",
      " 86%|████████▌ | 415/485 [02:29<00:25,  2.76it/s]"
     ]
    },
    {
     "name": "stdout",
     "output_type": "stream",
     "text": [
      "Sliding window being executed...\n",
      "2305.97999393\n",
      "801.743058048\n",
      "Sanity flag= 1\n",
      "Are lanes detected? True True\n"
     ]
    },
    {
     "name": "stderr",
     "output_type": "stream",
     "text": [
      "\u001b[A\n",
      " 86%|████████▌ | 416/485 [02:29<00:25,  2.70it/s]"
     ]
    },
    {
     "name": "stdout",
     "output_type": "stream",
     "text": [
      "Sliding window being executed...\n",
      "5544.47859394\n",
      "2026.99773855\n",
      "Sanity flag= 1\n",
      "Are lanes detected? True True\n"
     ]
    },
    {
     "name": "stderr",
     "output_type": "stream",
     "text": [
      "\u001b[A\n",
      " 86%|████████▌ | 417/485 [02:30<00:24,  2.77it/s]"
     ]
    },
    {
     "name": "stdout",
     "output_type": "stream",
     "text": [
      "Sliding window being executed...\n",
      "1331.71383793\n",
      "945.056278538\n",
      "Sanity flag= 1\n",
      "Are lanes detected? True True\n"
     ]
    },
    {
     "name": "stderr",
     "output_type": "stream",
     "text": [
      "\u001b[A\n",
      " 86%|████████▌ | 418/485 [02:30<00:23,  2.83it/s]"
     ]
    },
    {
     "name": "stdout",
     "output_type": "stream",
     "text": [
      "Sliding window being executed...\n",
      "1644.54136873\n",
      "848.713158659\n",
      "Sanity flag= 1\n",
      "Are lanes detected? True True\n"
     ]
    },
    {
     "name": "stderr",
     "output_type": "stream",
     "text": [
      "\u001b[A\n",
      " 86%|████████▋ | 419/485 [02:30<00:23,  2.80it/s]"
     ]
    },
    {
     "name": "stdout",
     "output_type": "stream",
     "text": [
      "Sliding window being executed...\n",
      "1830.88486807\n",
      "427.96156456\n",
      "Sanity flag= 1\n",
      "Are lanes detected? True True\n"
     ]
    },
    {
     "name": "stderr",
     "output_type": "stream",
     "text": [
      "\u001b[A\n",
      " 87%|████████▋ | 420/485 [02:31<00:23,  2.80it/s]"
     ]
    },
    {
     "name": "stdout",
     "output_type": "stream",
     "text": [
      "Sliding window being executed...\n",
      "174.282781976\n",
      "494.072604628\n",
      "Sanity flag= 0\n",
      "Are lanes detected? True True\n"
     ]
    },
    {
     "name": "stderr",
     "output_type": "stream",
     "text": [
      "\u001b[A\n",
      " 87%|████████▋ | 421/485 [02:31<00:22,  2.82it/s]"
     ]
    },
    {
     "name": "stdout",
     "output_type": "stream",
     "text": [
      "Sliding window being executed...\n",
      "1061.86639241\n",
      "1115.33146089\n",
      "Sanity flag= 0\n",
      "Are lanes detected? True True\n"
     ]
    },
    {
     "name": "stderr",
     "output_type": "stream",
     "text": [
      "\u001b[A\n",
      " 87%|████████▋ | 422/485 [02:31<00:22,  2.82it/s]"
     ]
    },
    {
     "name": "stdout",
     "output_type": "stream",
     "text": [
      "Sliding window being executed...\n",
      "468.45414815\n",
      "2336.47660953\n",
      "Sanity flag= 1\n",
      "Are lanes detected? True True\n"
     ]
    },
    {
     "name": "stderr",
     "output_type": "stream",
     "text": [
      "\u001b[A\n",
      " 87%|████████▋ | 423/485 [02:32<00:22,  2.81it/s]"
     ]
    },
    {
     "name": "stdout",
     "output_type": "stream",
     "text": [
      "Sliding window being executed...\n",
      "415.530816984\n",
      "3268.23562094\n",
      "Sanity flag= 1\n",
      "Are lanes detected? True True\n"
     ]
    },
    {
     "name": "stderr",
     "output_type": "stream",
     "text": [
      "\u001b[A\n",
      " 87%|████████▋ | 424/485 [02:32<00:22,  2.77it/s]"
     ]
    },
    {
     "name": "stdout",
     "output_type": "stream",
     "text": [
      "Sliding window being executed...\n",
      "413.038368374\n",
      "3857.46807234\n",
      "Sanity flag= 1\n",
      "Are lanes detected? True True\n"
     ]
    },
    {
     "name": "stderr",
     "output_type": "stream",
     "text": [
      "\u001b[A\n",
      " 88%|████████▊ | 425/485 [02:32<00:21,  2.82it/s]"
     ]
    },
    {
     "name": "stdout",
     "output_type": "stream",
     "text": [
      "Sliding window being executed...\n",
      "369.653853166\n",
      "930.760901172\n",
      "Sanity flag= 0\n",
      "Are lanes detected? True True\n"
     ]
    },
    {
     "name": "stderr",
     "output_type": "stream",
     "text": [
      "\u001b[A\n",
      " 88%|████████▊ | 426/485 [02:33<00:20,  2.87it/s]"
     ]
    },
    {
     "name": "stdout",
     "output_type": "stream",
     "text": [
      "Sliding window being executed...\n",
      "352.653137561\n",
      "1242.07477183\n",
      "Sanity flag= 1\n",
      "Are lanes detected? True True\n"
     ]
    },
    {
     "name": "stderr",
     "output_type": "stream",
     "text": [
      "\u001b[A\n",
      " 88%|████████▊ | 427/485 [02:33<00:20,  2.77it/s]"
     ]
    },
    {
     "name": "stdout",
     "output_type": "stream",
     "text": [
      "Sliding window being executed...\n",
      "532.160351396\n",
      "306.250157103\n",
      "Sanity flag= 0\n",
      "Are lanes detected? True True\n"
     ]
    },
    {
     "name": "stderr",
     "output_type": "stream",
     "text": [
      "\u001b[A\n",
      " 88%|████████▊ | 428/485 [02:33<00:20,  2.84it/s]"
     ]
    },
    {
     "name": "stdout",
     "output_type": "stream",
     "text": [
      "Sliding window being executed...\n",
      "1091.23357269\n",
      "429.858728583\n",
      "Sanity flag= 0\n",
      "Are lanes detected? True True\n"
     ]
    },
    {
     "name": "stderr",
     "output_type": "stream",
     "text": [
      "\u001b[A\n",
      " 88%|████████▊ | 429/485 [02:34<00:19,  2.86it/s]"
     ]
    },
    {
     "name": "stdout",
     "output_type": "stream",
     "text": [
      "Sliding window being executed...\n",
      "912.000738696\n",
      "357.737637131\n",
      "Sanity flag= 0\n",
      "Are lanes detected? True True\n"
     ]
    },
    {
     "name": "stderr",
     "output_type": "stream",
     "text": [
      "\u001b[A\n",
      " 89%|████████▊ | 430/485 [02:34<00:19,  2.76it/s]"
     ]
    },
    {
     "name": "stdout",
     "output_type": "stream",
     "text": [
      "Sliding window being executed...\n",
      "370.739503782\n",
      "530.522297166\n",
      "Sanity flag= 0\n",
      "Are lanes detected? True True\n"
     ]
    },
    {
     "name": "stderr",
     "output_type": "stream",
     "text": [
      "\u001b[A\n",
      " 89%|████████▉ | 431/485 [02:35<00:19,  2.78it/s]"
     ]
    },
    {
     "name": "stdout",
     "output_type": "stream",
     "text": [
      "Sliding window being executed...\n",
      "625.103765966\n",
      "865.50890632\n",
      "Sanity flag= 0\n",
      "Are lanes detected? True True\n"
     ]
    },
    {
     "name": "stderr",
     "output_type": "stream",
     "text": [
      "\u001b[A\n",
      " 89%|████████▉ | 432/485 [02:35<00:18,  2.83it/s]"
     ]
    },
    {
     "name": "stdout",
     "output_type": "stream",
     "text": [
      "Sliding window being executed...\n",
      "1141.93322057\n",
      "1624.31967626\n",
      "Sanity flag= 1\n",
      "Are lanes detected? True True\n"
     ]
    },
    {
     "name": "stderr",
     "output_type": "stream",
     "text": [
      "\u001b[A\n",
      " 89%|████████▉ | 433/485 [02:35<00:19,  2.71it/s]"
     ]
    },
    {
     "name": "stdout",
     "output_type": "stream",
     "text": [
      "Sliding window being executed...\n",
      "1096.58421235\n",
      "22188.0576128\n",
      "Sanity flag= 1\n",
      "Are lanes detected? True True\n"
     ]
    },
    {
     "name": "stderr",
     "output_type": "stream",
     "text": [
      "\u001b[A\n",
      " 89%|████████▉ | 434/485 [02:36<00:18,  2.75it/s]"
     ]
    },
    {
     "name": "stdout",
     "output_type": "stream",
     "text": [
      "Sliding window being executed...\n",
      "644.528121912\n",
      "6647.42865073\n",
      "Sanity flag= 1\n",
      "Are lanes detected? True True\n"
     ]
    },
    {
     "name": "stderr",
     "output_type": "stream",
     "text": [
      "\u001b[A\n",
      " 90%|████████▉ | 435/485 [02:36<00:18,  2.76it/s]"
     ]
    },
    {
     "name": "stdout",
     "output_type": "stream",
     "text": [
      "Sliding window being executed...\n",
      "515.869985929\n",
      "3344.00314679\n",
      "Sanity flag= 1\n",
      "Are lanes detected? True True\n"
     ]
    },
    {
     "name": "stderr",
     "output_type": "stream",
     "text": [
      "\u001b[A\n",
      " 90%|████████▉ | 436/485 [02:36<00:18,  2.66it/s]"
     ]
    },
    {
     "name": "stdout",
     "output_type": "stream",
     "text": [
      "Sliding window being executed...\n",
      "2180.43207626\n",
      "1416.23051896\n",
      "Sanity flag= 1\n",
      "Are lanes detected? True True\n"
     ]
    },
    {
     "name": "stderr",
     "output_type": "stream",
     "text": [
      "\u001b[A\n",
      " 90%|█████████ | 437/485 [02:37<00:17,  2.75it/s]"
     ]
    },
    {
     "name": "stdout",
     "output_type": "stream",
     "text": [
      "Sliding window being executed...\n",
      "1198.94260629\n",
      "589.404307929\n",
      "Sanity flag= 0\n",
      "Are lanes detected? True True\n"
     ]
    },
    {
     "name": "stderr",
     "output_type": "stream",
     "text": [
      "\u001b[A\n",
      " 90%|█████████ | 438/485 [02:37<00:16,  2.81it/s]"
     ]
    },
    {
     "name": "stdout",
     "output_type": "stream",
     "text": [
      "Sliding window being executed...\n",
      "564.489681516\n",
      "416.793640538\n",
      "Sanity flag= 0\n",
      "Are lanes detected? True True\n"
     ]
    },
    {
     "name": "stderr",
     "output_type": "stream",
     "text": [
      "\u001b[A\n",
      " 91%|█████████ | 439/485 [02:37<00:16,  2.79it/s]"
     ]
    },
    {
     "name": "stdout",
     "output_type": "stream",
     "text": [
      "Sliding window being executed...\n",
      "1842.75999759\n",
      "576.659131689\n",
      "Sanity flag= 1\n",
      "Are lanes detected? True True\n"
     ]
    },
    {
     "name": "stderr",
     "output_type": "stream",
     "text": [
      "\u001b[A\n",
      " 91%|█████████ | 440/485 [02:38<00:15,  2.83it/s]"
     ]
    },
    {
     "name": "stdout",
     "output_type": "stream",
     "text": [
      "Sliding window being executed...\n",
      "379.565257753\n",
      "484.462453727\n",
      "Sanity flag= 0\n",
      "Are lanes detected? True True\n"
     ]
    },
    {
     "name": "stderr",
     "output_type": "stream",
     "text": [
      "\u001b[A\n",
      " 91%|█████████ | 441/485 [02:38<00:15,  2.83it/s]"
     ]
    },
    {
     "name": "stdout",
     "output_type": "stream",
     "text": [
      "Sliding window being executed...\n",
      "963.237630166\n",
      "630.107176782\n",
      "Sanity flag= 0\n",
      "Are lanes detected? True True\n"
     ]
    },
    {
     "name": "stderr",
     "output_type": "stream",
     "text": [
      "\u001b[A\n",
      " 91%|█████████ | 442/485 [02:39<00:15,  2.82it/s]"
     ]
    },
    {
     "name": "stdout",
     "output_type": "stream",
     "text": [
      "Sliding window being executed...\n",
      "1679.86114928\n",
      "684.072567389\n",
      "Sanity flag= 1\n",
      "Are lanes detected? True True\n"
     ]
    },
    {
     "name": "stderr",
     "output_type": "stream",
     "text": [
      "\u001b[A\n",
      " 91%|█████████▏| 443/485 [02:39<00:14,  2.84it/s]"
     ]
    },
    {
     "name": "stdout",
     "output_type": "stream",
     "text": [
      "Sliding window being executed...\n",
      "1174.96405804\n",
      "745.977990772\n",
      "Sanity flag= 0\n",
      "Are lanes detected? True True\n"
     ]
    },
    {
     "name": "stderr",
     "output_type": "stream",
     "text": [
      "\u001b[A\n",
      " 92%|█████████▏| 444/485 [02:39<00:14,  2.77it/s]"
     ]
    },
    {
     "name": "stdout",
     "output_type": "stream",
     "text": [
      "Sliding window being executed...\n",
      "2063.80724824\n",
      "954.839856729\n",
      "Sanity flag= 1\n",
      "Are lanes detected? True True\n"
     ]
    },
    {
     "name": "stderr",
     "output_type": "stream",
     "text": [
      "\u001b[A\n",
      " 92%|█████████▏| 445/485 [02:40<00:14,  2.81it/s]"
     ]
    },
    {
     "name": "stdout",
     "output_type": "stream",
     "text": [
      "Sliding window being executed...\n",
      "1104.25444332\n",
      "714.850220873\n",
      "Sanity flag= 0\n",
      "Are lanes detected? True True\n"
     ]
    },
    {
     "name": "stderr",
     "output_type": "stream",
     "text": [
      "\u001b[A\n",
      " 92%|█████████▏| 446/485 [02:40<00:13,  2.84it/s]"
     ]
    },
    {
     "name": "stdout",
     "output_type": "stream",
     "text": [
      "Sliding window being executed...\n",
      "268.865799312\n",
      "736.230893239\n",
      "Sanity flag= 0\n",
      "Are lanes detected? True True\n"
     ]
    },
    {
     "name": "stderr",
     "output_type": "stream",
     "text": [
      "\u001b[A\n",
      " 92%|█████████▏| 447/485 [02:40<00:13,  2.72it/s]"
     ]
    },
    {
     "name": "stdout",
     "output_type": "stream",
     "text": [
      "Sliding window being executed...\n",
      "286.506458434\n",
      "702.362500893\n",
      "Sanity flag= 0\n",
      "Are lanes detected? True True\n"
     ]
    },
    {
     "name": "stderr",
     "output_type": "stream",
     "text": [
      "\u001b[A\n",
      " 92%|█████████▏| 448/485 [02:41<00:13,  2.79it/s]"
     ]
    },
    {
     "name": "stdout",
     "output_type": "stream",
     "text": [
      "Sliding window being executed...\n",
      "327.002625771\n",
      "793.553690877\n",
      "Sanity flag= 0\n",
      "Are lanes detected? True True\n"
     ]
    },
    {
     "name": "stderr",
     "output_type": "stream",
     "text": [
      "\u001b[A\n",
      " 93%|█████████▎| 449/485 [02:41<00:12,  2.82it/s]"
     ]
    },
    {
     "name": "stdout",
     "output_type": "stream",
     "text": [
      "Sliding window being executed...\n",
      "328.161337239\n",
      "571.65866691\n",
      "Sanity flag= 0\n",
      "Are lanes detected? True True\n"
     ]
    },
    {
     "name": "stderr",
     "output_type": "stream",
     "text": [
      "\u001b[A\n",
      " 93%|█████████▎| 450/485 [02:41<00:12,  2.73it/s]"
     ]
    },
    {
     "name": "stdout",
     "output_type": "stream",
     "text": [
      "Sliding window being executed...\n",
      "320.323608307\n",
      "689.287807095\n",
      "Sanity flag= 0\n",
      "Are lanes detected? True True\n"
     ]
    },
    {
     "name": "stderr",
     "output_type": "stream",
     "text": [
      "\u001b[A\n",
      " 93%|█████████▎| 451/485 [02:42<00:12,  2.78it/s]"
     ]
    },
    {
     "name": "stdout",
     "output_type": "stream",
     "text": [
      "Sliding window being executed...\n",
      "297.866285199\n",
      "413.083644123\n",
      "Sanity flag= 0\n",
      "Are lanes detected? True True\n"
     ]
    },
    {
     "name": "stderr",
     "output_type": "stream",
     "text": [
      "\u001b[A\n",
      " 93%|█████████▎| 452/485 [02:42<00:11,  2.82it/s]"
     ]
    },
    {
     "name": "stdout",
     "output_type": "stream",
     "text": [
      "Sliding window being executed...\n",
      "283.111886679\n",
      "457.365765262\n",
      "Sanity flag= 0\n",
      "Are lanes detected? True True\n"
     ]
    },
    {
     "name": "stderr",
     "output_type": "stream",
     "text": [
      "\u001b[A\n",
      " 93%|█████████▎| 453/485 [02:42<00:11,  2.76it/s]"
     ]
    },
    {
     "name": "stdout",
     "output_type": "stream",
     "text": [
      "Sliding window being executed...\n",
      "288.525258889\n",
      "544.037888236\n",
      "Sanity flag= 0\n",
      "Are lanes detected? True True\n"
     ]
    },
    {
     "name": "stderr",
     "output_type": "stream",
     "text": [
      "\u001b[A\n",
      " 94%|█████████▎| 454/485 [02:43<00:10,  2.84it/s]"
     ]
    },
    {
     "name": "stdout",
     "output_type": "stream",
     "text": [
      "Sliding window being executed...\n",
      "1745.99569118\n",
      "499.455174803\n",
      "Sanity flag= 1\n",
      "Are lanes detected? True True\n"
     ]
    },
    {
     "name": "stderr",
     "output_type": "stream",
     "text": [
      "\u001b[A\n",
      " 94%|█████████▍| 455/485 [02:43<00:10,  2.89it/s]"
     ]
    },
    {
     "name": "stdout",
     "output_type": "stream",
     "text": [
      "Sliding window being executed...\n",
      "7535.26646202\n",
      "533.304403568\n",
      "Sanity flag= 1\n",
      "Are lanes detected? True True\n"
     ]
    },
    {
     "name": "stderr",
     "output_type": "stream",
     "text": [
      "\u001b[A\n",
      " 94%|█████████▍| 456/485 [02:44<00:10,  2.78it/s]"
     ]
    },
    {
     "name": "stdout",
     "output_type": "stream",
     "text": [
      "Sliding window being executed...\n",
      "245.654808418\n",
      "690.196740848\n",
      "Sanity flag= 0\n",
      "Are lanes detected? True True\n"
     ]
    },
    {
     "name": "stderr",
     "output_type": "stream",
     "text": [
      "\u001b[A\n",
      " 94%|█████████▍| 457/485 [02:44<00:09,  2.84it/s]"
     ]
    },
    {
     "name": "stdout",
     "output_type": "stream",
     "text": [
      "Sliding window being executed...\n",
      "265.067603126\n",
      "573.980438588\n",
      "Sanity flag= 0\n",
      "Are lanes detected? True True\n"
     ]
    },
    {
     "name": "stderr",
     "output_type": "stream",
     "text": [
      "\u001b[A\n",
      " 94%|█████████▍| 458/485 [02:44<00:09,  2.87it/s]"
     ]
    },
    {
     "name": "stdout",
     "output_type": "stream",
     "text": [
      "Sliding window being executed...\n",
      "302.339168366\n",
      "654.385401027\n",
      "Sanity flag= 0\n",
      "Are lanes detected? True True\n"
     ]
    },
    {
     "name": "stderr",
     "output_type": "stream",
     "text": [
      "\u001b[A\n",
      " 95%|█████████▍| 459/485 [02:45<00:09,  2.83it/s]"
     ]
    },
    {
     "name": "stdout",
     "output_type": "stream",
     "text": [
      "Sliding window being executed...\n",
      "297.197226361\n",
      "619.153748575\n",
      "Sanity flag= 0\n",
      "Are lanes detected? True True\n"
     ]
    },
    {
     "name": "stderr",
     "output_type": "stream",
     "text": [
      "\u001b[A\n",
      " 95%|█████████▍| 460/485 [02:45<00:08,  2.83it/s]"
     ]
    },
    {
     "name": "stdout",
     "output_type": "stream",
     "text": [
      "Sliding window being executed...\n",
      "347.108303167\n",
      "620.32287237\n",
      "Sanity flag= 0\n",
      "Are lanes detected? True True\n"
     ]
    },
    {
     "name": "stderr",
     "output_type": "stream",
     "text": [
      "\u001b[A\n",
      " 95%|█████████▌| 461/485 [02:45<00:08,  2.85it/s]"
     ]
    },
    {
     "name": "stdout",
     "output_type": "stream",
     "text": [
      "Sliding window being executed...\n",
      "311.861842205\n",
      "674.476277479\n",
      "Sanity flag= 0\n",
      "Are lanes detected? True True\n"
     ]
    },
    {
     "name": "stderr",
     "output_type": "stream",
     "text": [
      "\u001b[A\n",
      " 95%|█████████▌| 462/485 [02:46<00:08,  2.86it/s]"
     ]
    },
    {
     "name": "stdout",
     "output_type": "stream",
     "text": [
      "Sliding window being executed...\n",
      "260.674699895\n",
      "608.8645747\n",
      "Sanity flag= 0\n",
      "Are lanes detected? True True\n"
     ]
    },
    {
     "name": "stderr",
     "output_type": "stream",
     "text": [
      "\u001b[A\n",
      " 95%|█████████▌| 463/485 [02:46<00:07,  2.79it/s]"
     ]
    },
    {
     "name": "stdout",
     "output_type": "stream",
     "text": [
      "Sliding window being executed...\n",
      "264.880127169\n",
      "618.910217995\n",
      "Sanity flag= 0\n",
      "Are lanes detected? True True\n"
     ]
    },
    {
     "name": "stderr",
     "output_type": "stream",
     "text": [
      "\u001b[A\n",
      " 96%|█████████▌| 464/485 [02:46<00:07,  2.82it/s]"
     ]
    },
    {
     "name": "stdout",
     "output_type": "stream",
     "text": [
      "Sliding window being executed...\n",
      "240.030275225\n",
      "466.878819626\n",
      "Sanity flag= 0\n",
      "Are lanes detected? True True\n"
     ]
    },
    {
     "name": "stderr",
     "output_type": "stream",
     "text": [
      "\u001b[A\n",
      " 96%|█████████▌| 465/485 [02:47<00:07,  2.83it/s]"
     ]
    },
    {
     "name": "stdout",
     "output_type": "stream",
     "text": [
      "Sliding window being executed...\n",
      "259.626181473\n",
      "456.507150872\n",
      "Sanity flag= 0\n",
      "Are lanes detected? True True\n"
     ]
    },
    {
     "name": "stderr",
     "output_type": "stream",
     "text": [
      "\u001b[A\n",
      " 96%|█████████▌| 466/485 [02:47<00:06,  2.85it/s]"
     ]
    },
    {
     "name": "stdout",
     "output_type": "stream",
     "text": [
      "Sliding window being executed...\n",
      "270.399396084\n",
      "280.396935203\n",
      "Sanity flag= 0\n",
      "Are lanes detected? True True\n"
     ]
    },
    {
     "name": "stderr",
     "output_type": "stream",
     "text": [
      "\u001b[A\n",
      " 96%|█████████▋| 467/485 [02:47<00:06,  2.86it/s]"
     ]
    },
    {
     "name": "stdout",
     "output_type": "stream",
     "text": [
      "Sliding window being executed...\n",
      "330.766727376\n",
      "321.086244439\n",
      "Sanity flag= 0\n",
      "Are lanes detected? True True\n"
     ]
    },
    {
     "name": "stderr",
     "output_type": "stream",
     "text": [
      "\u001b[A\n",
      " 96%|█████████▋| 468/485 [02:48<00:05,  2.88it/s]"
     ]
    },
    {
     "name": "stdout",
     "output_type": "stream",
     "text": [
      "Sliding window being executed...\n",
      "271.391160224\n",
      "304.410828501\n",
      "Sanity flag= 0\n",
      "Are lanes detected? True True\n"
     ]
    },
    {
     "name": "stderr",
     "output_type": "stream",
     "text": [
      "\u001b[A\n",
      " 97%|█████████▋| 469/485 [02:48<00:05,  2.86it/s]"
     ]
    },
    {
     "name": "stdout",
     "output_type": "stream",
     "text": [
      "Sliding window being executed...\n",
      "326.224438898\n",
      "410.399859064\n",
      "Sanity flag= 0\n",
      "Are lanes detected? True True\n"
     ]
    },
    {
     "name": "stderr",
     "output_type": "stream",
     "text": [
      "\u001b[A\n",
      " 97%|█████████▋| 470/485 [02:48<00:05,  2.86it/s]"
     ]
    },
    {
     "name": "stdout",
     "output_type": "stream",
     "text": [
      "Sliding window being executed...\n",
      "612.678684566\n",
      "234.56819922\n",
      "Sanity flag= 0\n",
      "Are lanes detected? True True\n"
     ]
    },
    {
     "name": "stderr",
     "output_type": "stream",
     "text": [
      "\u001b[A\n",
      " 97%|█████████▋| 471/485 [02:49<00:04,  2.86it/s]"
     ]
    },
    {
     "name": "stdout",
     "output_type": "stream",
     "text": [
      "Sliding window being executed...\n",
      "352.865876911\n",
      "313.047250597\n",
      "Sanity flag= 0\n",
      "Are lanes detected? True True\n"
     ]
    },
    {
     "name": "stderr",
     "output_type": "stream",
     "text": [
      "\u001b[A\n",
      " 97%|█████████▋| 472/485 [02:49<00:04,  2.84it/s]"
     ]
    },
    {
     "name": "stdout",
     "output_type": "stream",
     "text": [
      "Sliding window being executed...\n",
      "288.203347021\n",
      "440.313679937\n",
      "Sanity flag= 0\n",
      "Are lanes detected? True True\n"
     ]
    },
    {
     "name": "stderr",
     "output_type": "stream",
     "text": [
      "\u001b[A\n",
      " 98%|█████████▊| 473/485 [02:49<00:04,  2.83it/s]"
     ]
    },
    {
     "name": "stdout",
     "output_type": "stream",
     "text": [
      "Sliding window being executed...\n",
      "373.254040722\n",
      "829.287310402\n",
      "Sanity flag= 0\n",
      "Are lanes detected? True True\n"
     ]
    },
    {
     "name": "stderr",
     "output_type": "stream",
     "text": [
      "\u001b[A\n",
      " 98%|█████████▊| 474/485 [02:50<00:03,  2.86it/s]"
     ]
    },
    {
     "name": "stdout",
     "output_type": "stream",
     "text": [
      "Sliding window being executed...\n",
      "465.122075472\n",
      "576.021342949\n",
      "Sanity flag= 0\n",
      "Are lanes detected? True True\n"
     ]
    },
    {
     "name": "stderr",
     "output_type": "stream",
     "text": [
      "\u001b[A\n",
      " 98%|█████████▊| 475/485 [02:50<00:03,  2.79it/s]"
     ]
    },
    {
     "name": "stdout",
     "output_type": "stream",
     "text": [
      "Sliding window being executed...\n",
      "384.437040079\n",
      "1065.9509714\n",
      "Sanity flag= 0\n",
      "Are lanes detected? True True\n"
     ]
    },
    {
     "name": "stderr",
     "output_type": "stream",
     "text": [
      "\u001b[A\n",
      " 98%|█████████▊| 476/485 [02:51<00:03,  2.85it/s]"
     ]
    },
    {
     "name": "stdout",
     "output_type": "stream",
     "text": [
      "Sliding window being executed...\n",
      "347.216687808\n",
      "1471.3069471\n",
      "Sanity flag= 1\n",
      "Are lanes detected? True True\n"
     ]
    },
    {
     "name": "stderr",
     "output_type": "stream",
     "text": [
      "\u001b[A\n",
      " 98%|█████████▊| 477/485 [02:51<00:02,  2.90it/s]"
     ]
    },
    {
     "name": "stdout",
     "output_type": "stream",
     "text": [
      "Sliding window being executed...\n",
      "260.173203993\n",
      "730.396793651\n",
      "Sanity flag= 0\n",
      "Are lanes detected? True True\n"
     ]
    },
    {
     "name": "stderr",
     "output_type": "stream",
     "text": [
      "\u001b[A\n",
      " 99%|█████████▊| 478/485 [02:51<00:02,  2.84it/s]"
     ]
    },
    {
     "name": "stdout",
     "output_type": "stream",
     "text": [
      "Sliding window being executed...\n",
      "226.38098043\n",
      "329.045539724\n",
      "Sanity flag= 0\n",
      "Are lanes detected? True True\n"
     ]
    },
    {
     "name": "stderr",
     "output_type": "stream",
     "text": [
      "\u001b[A\n",
      " 99%|█████████▉| 479/485 [02:52<00:02,  2.84it/s]"
     ]
    },
    {
     "name": "stdout",
     "output_type": "stream",
     "text": [
      "Sliding window being executed...\n",
      "209.299913599\n",
      "295.032042328\n",
      "Sanity flag= 0\n",
      "Are lanes detected? True True\n"
     ]
    },
    {
     "name": "stderr",
     "output_type": "stream",
     "text": [
      "\u001b[A\n",
      " 99%|█████████▉| 480/485 [02:52<00:01,  2.78it/s]"
     ]
    },
    {
     "name": "stdout",
     "output_type": "stream",
     "text": [
      "Sliding window being executed...\n",
      "191.056867776\n",
      "257.138453376\n",
      "Sanity flag= 0\n",
      "Are lanes detected? True True\n"
     ]
    },
    {
     "name": "stderr",
     "output_type": "stream",
     "text": [
      "\u001b[A\n",
      " 99%|█████████▉| 481/485 [02:52<00:01,  2.82it/s]"
     ]
    },
    {
     "name": "stdout",
     "output_type": "stream",
     "text": [
      "Sliding window being executed...\n",
      "210.126919251\n",
      "273.873004478\n",
      "Sanity flag= 0\n",
      "Are lanes detected? True True\n"
     ]
    },
    {
     "name": "stderr",
     "output_type": "stream",
     "text": [
      "\u001b[A\n",
      " 99%|█████████▉| 482/485 [02:53<00:01,  2.87it/s]"
     ]
    },
    {
     "name": "stdout",
     "output_type": "stream",
     "text": [
      "Sliding window being executed...\n",
      "826.823865562\n",
      "275.348863311\n",
      "Sanity flag= 0\n",
      "Are lanes detected? True True\n"
     ]
    },
    {
     "name": "stderr",
     "output_type": "stream",
     "text": [
      "\u001b[A\n",
      "100%|█████████▉| 483/485 [02:53<00:00,  2.81it/s]"
     ]
    },
    {
     "name": "stdout",
     "output_type": "stream",
     "text": [
      "Sliding window being executed...\n",
      "1386.97281974\n",
      "232.319163608\n",
      "Sanity flag= 1\n",
      "Are lanes detected? True True\n"
     ]
    },
    {
     "name": "stderr",
     "output_type": "stream",
     "text": [
      "\u001b[A\n",
      "100%|█████████▉| 484/485 [02:53<00:00,  2.85it/s]"
     ]
    },
    {
     "name": "stdout",
     "output_type": "stream",
     "text": [
      "Sliding window being executed...\n",
      "161.670256574\n",
      "251.941823201\n",
      "Sanity flag= 1\n",
      "Are lanes detected? True True\n"
     ]
    },
    {
     "name": "stderr",
     "output_type": "stream",
     "text": [
      "\u001b[A\n",
      "100%|██████████| 485/485 [02:54<00:00,  2.86it/s]"
     ]
    },
    {
     "name": "stdout",
     "output_type": "stream",
     "text": [
      "Sliding window being executed...\n",
      "161.670256574\n",
      "251.941823201\n",
      "Sanity flag= 1\n",
      "Are lanes detected? True True\n"
     ]
    },
    {
     "name": "stderr",
     "output_type": "stream",
     "text": [
      "\u001b[A\n",
      "\u001b[A"
     ]
    },
    {
     "name": "stdout",
     "output_type": "stream",
     "text": [
      "[MoviePy] Done.\n",
      "[MoviePy] >>>> Video ready: Project_Output_Videos/challenge_video.mp4 \n",
      "\n",
      "CPU times: user 1min 38s, sys: 22.2 s, total: 2min\n",
      "Wall time: 2min 58s\n"
     ]
    }
   ],
   "source": [
    "challenge_output = 'Project_Output_Videos/challenge_video.mp4'\n",
    "## To speed up the testing process you may want to try your pipeline on a shorter subclip of the video\n",
    "## To do so add .subclip(start_second,end_second) to the end of the line below\n",
    "## Where start_second and end_second are integer values representing the start and end of the subclip\n",
    "## You may also uncomment the following line for a subclip of the first 5 seconds\n",
    "##clip1 = VideoFileClip(\"test_videos/solidWhiteRight.mp4\").subclip(0,5)\n",
    "clip2 = VideoFileClip(\"challenge_video.mp4\")\n",
    "white_clip = clip2.fl_image(lane_detector) #NOTE: this function expects color images!!\n",
    "%time white_clip.write_videofile(challenge_output, audio=False)"
   ]
  },
  {
   "cell_type": "code",
   "execution_count": 65,
   "metadata": {},
   "outputs": [
    {
     "data": {
      "text/html": [
       "\n",
       "<video width=\"960\" height=\"540\" controls>\n",
       "  <source src=\"Project_Output_Videos/challenge_video.mp4\">\n",
       "</video>\n"
      ],
      "text/plain": [
       "<IPython.core.display.HTML object>"
      ]
     },
     "execution_count": 65,
     "metadata": {},
     "output_type": "execute_result"
    }
   ],
   "source": [
    "HTML(\"\"\"\n",
    "<video width=\"960\" height=\"540\" controls>\n",
    "  <source src=\"{0}\">\n",
    "</video>\n",
    "\"\"\".format(challenge_output))"
   ]
  },
  {
   "cell_type": "markdown",
   "metadata": {},
   "source": [
    "## HARDER CHALLENGE"
   ]
  },
  {
   "cell_type": "code",
   "execution_count": 66,
   "metadata": {},
   "outputs": [
    {
     "name": "stdout",
     "output_type": "stream",
     "text": [
      "Sliding window being executed...\n",
      "435.115212278\n",
      "1020.59109832\n",
      "Sanity flag= 0\n",
      "Are lanes detected? True True\n",
      "[MoviePy] >>>> Building video Project_Output_Videos/harder_challenge_video.mp4\n",
      "[MoviePy] Writing video Project_Output_Videos/harder_challenge_video.mp4\n"
     ]
    },
    {
     "name": "stderr",
     "output_type": "stream",
     "text": [
      "\n",
      "  0%|          | 0/1200 [00:00<?, ?it/s]\u001b[A\n",
      "  0%|          | 1/1200 [00:00<05:38,  3.55it/s]"
     ]
    },
    {
     "name": "stdout",
     "output_type": "stream",
     "text": [
      "Sliding window being executed...\n",
      "435.115212278\n",
      "1020.59109832\n",
      "Sanity flag= 0\n",
      "Are lanes detected? True True\n"
     ]
    },
    {
     "name": "stderr",
     "output_type": "stream",
     "text": [
      "\u001b[A\n",
      "  0%|          | 2/1200 [00:00<05:48,  3.44it/s]"
     ]
    },
    {
     "name": "stdout",
     "output_type": "stream",
     "text": [
      "Sliding window being executed...\n",
      "303.951626694\n",
      "937.648039314\n",
      "Sanity flag= 1\n",
      "Are lanes detected? True True\n"
     ]
    },
    {
     "name": "stderr",
     "output_type": "stream",
     "text": [
      "\u001b[A\n",
      "  0%|          | 3/1200 [00:00<05:47,  3.45it/s]"
     ]
    },
    {
     "name": "stdout",
     "output_type": "stream",
     "text": [
      "Sliding window being executed...\n",
      "333.932333421\n",
      "605.03595238\n",
      "Sanity flag= 1\n",
      "Are lanes detected? True True\n"
     ]
    },
    {
     "name": "stderr",
     "output_type": "stream",
     "text": [
      "\u001b[A\n",
      "  0%|          | 4/1200 [00:01<05:43,  3.48it/s]"
     ]
    },
    {
     "name": "stdout",
     "output_type": "stream",
     "text": [
      "Sliding window being executed...\n",
      "361.201894019\n",
      "522.779912634\n",
      "Sanity flag= 1\n",
      "Are lanes detected? True True\n"
     ]
    },
    {
     "name": "stderr",
     "output_type": "stream",
     "text": [
      "\u001b[A\n",
      "  0%|          | 5/1200 [00:01<05:40,  3.51it/s]"
     ]
    },
    {
     "name": "stdout",
     "output_type": "stream",
     "text": [
      "Sliding window being executed...\n",
      "418.027333714\n",
      "616.198195074\n",
      "Sanity flag= 0\n",
      "Are lanes detected? True True\n"
     ]
    },
    {
     "name": "stderr",
     "output_type": "stream",
     "text": [
      "\u001b[A\n",
      "  0%|          | 6/1200 [00:01<05:42,  3.48it/s]"
     ]
    },
    {
     "name": "stdout",
     "output_type": "stream",
     "text": [
      "Sliding window being executed...\n",
      "722.104621033\n",
      "525.278606538\n",
      "Sanity flag= 0\n",
      "Are lanes detected? True True\n"
     ]
    },
    {
     "name": "stderr",
     "output_type": "stream",
     "text": [
      "\u001b[A\n",
      "  1%|          | 7/1200 [00:02<05:42,  3.48it/s]"
     ]
    },
    {
     "name": "stdout",
     "output_type": "stream",
     "text": [
      "Sliding window being executed...\n",
      "394.920084789\n",
      "575.276918819\n",
      "Sanity flag= 0\n",
      "Are lanes detected? True True\n"
     ]
    },
    {
     "name": "stderr",
     "output_type": "stream",
     "text": [
      "\u001b[A\n",
      "  1%|          | 8/1200 [00:02<05:39,  3.51it/s]"
     ]
    },
    {
     "name": "stdout",
     "output_type": "stream",
     "text": [
      "Sliding window being executed...\n",
      "418.555857852\n",
      "4716.91548745\n",
      "Sanity flag= 1\n",
      "Are lanes detected? True True\n"
     ]
    },
    {
     "name": "stderr",
     "output_type": "stream",
     "text": [
      "\u001b[A\n",
      "  1%|          | 9/1200 [00:02<05:40,  3.50it/s]"
     ]
    },
    {
     "name": "stdout",
     "output_type": "stream",
     "text": [
      "Sliding window being executed...\n",
      "477.085420202\n",
      "654.497686857\n",
      "Sanity flag= 0\n",
      "Are lanes detected? True True\n"
     ]
    },
    {
     "name": "stderr",
     "output_type": "stream",
     "text": [
      "\u001b[A\n",
      "  1%|          | 10/1200 [00:02<05:38,  3.52it/s]"
     ]
    },
    {
     "name": "stdout",
     "output_type": "stream",
     "text": [
      "Sliding window being executed...\n",
      "554.615864181\n",
      "699.692697191\n",
      "Sanity flag= 0\n",
      "Are lanes detected? True True\n"
     ]
    },
    {
     "name": "stderr",
     "output_type": "stream",
     "text": [
      "\u001b[A\n",
      "  1%|          | 11/1200 [00:03<07:13,  2.74it/s]"
     ]
    },
    {
     "name": "stdout",
     "output_type": "stream",
     "text": [
      "Sliding window being executed...\n",
      "489.991057284\n",
      "867.393936828\n",
      "Sanity flag= 0\n",
      "Are lanes detected? True True\n"
     ]
    },
    {
     "name": "stderr",
     "output_type": "stream",
     "text": [
      "\u001b[A\n",
      "  1%|          | 12/1200 [00:03<08:12,  2.41it/s]"
     ]
    },
    {
     "name": "stdout",
     "output_type": "stream",
     "text": [
      "Sliding window being executed...\n",
      "437.086038497\n",
      "827.615377991\n",
      "Sanity flag= 0\n",
      "Are lanes detected? True True\n"
     ]
    },
    {
     "name": "stderr",
     "output_type": "stream",
     "text": [
      "\u001b[A\n",
      "  1%|          | 13/1200 [00:04<08:54,  2.22it/s]"
     ]
    },
    {
     "name": "stdout",
     "output_type": "stream",
     "text": [
      "Sliding window being executed...\n",
      "374.147519512\n",
      "437.041208966\n",
      "Sanity flag= 0\n",
      "Are lanes detected? True True\n"
     ]
    },
    {
     "name": "stderr",
     "output_type": "stream",
     "text": [
      "\u001b[A\n",
      "  1%|          | 14/1200 [00:04<08:50,  2.24it/s]"
     ]
    },
    {
     "name": "stdout",
     "output_type": "stream",
     "text": [
      "Sliding window being executed...\n",
      "367.638258442\n",
      "439.002354277\n",
      "Sanity flag= 0\n",
      "Are lanes detected? True True\n"
     ]
    },
    {
     "name": "stderr",
     "output_type": "stream",
     "text": [
      "\u001b[A\n",
      "  1%|▏         | 15/1200 [00:05<07:50,  2.52it/s]"
     ]
    },
    {
     "name": "stdout",
     "output_type": "stream",
     "text": [
      "Sliding window being executed...\n",
      "464.4307131\n",
      "488.977632685\n",
      "Sanity flag= 0\n",
      "Are lanes detected? True True\n"
     ]
    },
    {
     "name": "stderr",
     "output_type": "stream",
     "text": [
      "\u001b[A\n",
      "  1%|▏         | 16/1200 [00:05<07:06,  2.77it/s]"
     ]
    },
    {
     "name": "stdout",
     "output_type": "stream",
     "text": [
      "Sliding window being executed...\n",
      "557.545657059\n",
      "522.367786605\n",
      "Sanity flag= 0\n",
      "Are lanes detected? True True\n"
     ]
    },
    {
     "name": "stderr",
     "output_type": "stream",
     "text": [
      "\u001b[A\n",
      "  1%|▏         | 17/1200 [00:05<06:37,  2.97it/s]"
     ]
    },
    {
     "name": "stdout",
     "output_type": "stream",
     "text": [
      "Sliding window being executed...\n",
      "1117.46474145\n",
      "528.483615335\n",
      "Sanity flag= 0\n",
      "Are lanes detected? True True\n"
     ]
    },
    {
     "name": "stderr",
     "output_type": "stream",
     "text": [
      "\u001b[A\n",
      "  2%|▏         | 18/1200 [00:06<06:20,  3.11it/s]"
     ]
    },
    {
     "name": "stdout",
     "output_type": "stream",
     "text": [
      "Sliding window being executed...\n",
      "785.884898443\n",
      "734.226570016\n",
      "Sanity flag= 0\n",
      "Are lanes detected? True True\n"
     ]
    },
    {
     "name": "stderr",
     "output_type": "stream",
     "text": [
      "\u001b[A\n",
      "  2%|▏         | 19/1200 [00:06<06:05,  3.23it/s]"
     ]
    },
    {
     "name": "stdout",
     "output_type": "stream",
     "text": [
      "Sliding window being executed...\n",
      "1340.15253491\n",
      "590.993383265\n",
      "Sanity flag= 1\n",
      "Are lanes detected? True True\n"
     ]
    },
    {
     "name": "stderr",
     "output_type": "stream",
     "text": [
      "\u001b[A\n",
      "  2%|▏         | 20/1200 [00:06<05:58,  3.29it/s]"
     ]
    },
    {
     "name": "stdout",
     "output_type": "stream",
     "text": [
      "Sliding window being executed...\n",
      "1583.27276686\n",
      "403.664598448\n",
      "Sanity flag= 1\n",
      "Are lanes detected? True True\n"
     ]
    },
    {
     "name": "stderr",
     "output_type": "stream",
     "text": [
      "\u001b[A\n",
      "  2%|▏         | 21/1200 [00:06<05:54,  3.33it/s]"
     ]
    },
    {
     "name": "stdout",
     "output_type": "stream",
     "text": [
      "Sliding window being executed...\n",
      "1146.09722081\n",
      "400.514001913\n",
      "Sanity flag= 0\n",
      "Are lanes detected? True True\n"
     ]
    },
    {
     "name": "stderr",
     "output_type": "stream",
     "text": [
      "\u001b[A\n",
      "  2%|▏         | 22/1200 [00:07<05:50,  3.36it/s]"
     ]
    },
    {
     "name": "stdout",
     "output_type": "stream",
     "text": [
      "Sliding window being executed...\n",
      "846.89055461\n",
      "395.374554306\n",
      "Sanity flag= 0\n",
      "Are lanes detected? True True\n"
     ]
    },
    {
     "name": "stderr",
     "output_type": "stream",
     "text": [
      "\u001b[A\n",
      "  2%|▏         | 23/1200 [00:07<05:50,  3.36it/s]"
     ]
    },
    {
     "name": "stdout",
     "output_type": "stream",
     "text": [
      "Sliding window being executed...\n",
      "1232.55432687\n",
      "333.845415202\n",
      "Sanity flag= 1\n",
      "Are lanes detected? True True\n"
     ]
    },
    {
     "name": "stderr",
     "output_type": "stream",
     "text": [
      "\u001b[A\n",
      "  2%|▏         | 24/1200 [00:07<05:46,  3.40it/s]"
     ]
    },
    {
     "name": "stdout",
     "output_type": "stream",
     "text": [
      "Sliding window being executed...\n",
      "852.573249781\n",
      "353.330047224\n",
      "Sanity flag= 0\n",
      "Are lanes detected? True True\n"
     ]
    },
    {
     "name": "stderr",
     "output_type": "stream",
     "text": [
      "\u001b[A\n",
      "  2%|▏         | 25/1200 [00:08<05:43,  3.42it/s]"
     ]
    },
    {
     "name": "stdout",
     "output_type": "stream",
     "text": [
      "Sliding window being executed...\n",
      "750.611267845\n",
      "319.880563241\n",
      "Sanity flag= 0\n",
      "Are lanes detected? True True\n"
     ]
    },
    {
     "name": "stderr",
     "output_type": "stream",
     "text": [
      "\u001b[A\n",
      "  2%|▏         | 26/1200 [00:08<05:41,  3.43it/s]"
     ]
    },
    {
     "name": "stdout",
     "output_type": "stream",
     "text": [
      "Sliding window being executed...\n",
      "785.525657999\n",
      "303.649090968\n",
      "Sanity flag= 0\n",
      "Are lanes detected? True True\n"
     ]
    },
    {
     "name": "stderr",
     "output_type": "stream",
     "text": [
      "\u001b[A\n",
      "  2%|▏         | 27/1200 [00:08<05:37,  3.47it/s]"
     ]
    },
    {
     "name": "stdout",
     "output_type": "stream",
     "text": [
      "Sliding window being executed...\n",
      "723.315957464\n",
      "817.096778124\n",
      "Sanity flag= 0\n",
      "Are lanes detected? True True\n"
     ]
    },
    {
     "name": "stderr",
     "output_type": "stream",
     "text": [
      "\u001b[A\n",
      "  2%|▏         | 28/1200 [00:08<05:34,  3.50it/s]"
     ]
    },
    {
     "name": "stdout",
     "output_type": "stream",
     "text": [
      "Sliding window being executed...\n",
      "716.467903119\n",
      "1811.35539193\n",
      "Sanity flag= 1\n",
      "Are lanes detected? True True\n"
     ]
    },
    {
     "name": "stderr",
     "output_type": "stream",
     "text": [
      "\u001b[A\n",
      "  2%|▏         | 29/1200 [00:09<05:35,  3.49it/s]"
     ]
    },
    {
     "name": "stdout",
     "output_type": "stream",
     "text": [
      "Sliding window being executed...\n",
      "650.292454882\n",
      "1440.59473782\n",
      "Sanity flag= 1\n",
      "Are lanes detected? True True\n"
     ]
    },
    {
     "name": "stderr",
     "output_type": "stream",
     "text": [
      "\u001b[A\n",
      "  2%|▎         | 30/1200 [00:09<05:35,  3.49it/s]"
     ]
    },
    {
     "name": "stdout",
     "output_type": "stream",
     "text": [
      "Sliding window being executed...\n",
      "601.458349571\n",
      "1233.51414454\n",
      "Sanity flag= 1\n",
      "Are lanes detected? True True\n"
     ]
    },
    {
     "name": "stderr",
     "output_type": "stream",
     "text": [
      "\u001b[A\n",
      "  3%|▎         | 31/1200 [00:09<05:31,  3.53it/s]"
     ]
    },
    {
     "name": "stdout",
     "output_type": "stream",
     "text": [
      "Sliding window being executed...\n",
      "2640.68498774\n",
      "1489.31029194\n",
      "Sanity flag= 1\n",
      "Are lanes detected? True True\n"
     ]
    },
    {
     "name": "stderr",
     "output_type": "stream",
     "text": [
      "\u001b[A\n",
      "  3%|▎         | 32/1200 [00:10<05:29,  3.54it/s]"
     ]
    },
    {
     "name": "stdout",
     "output_type": "stream",
     "text": [
      "Sliding window being executed...\n",
      "1004.13814519\n",
      "705.633373664\n",
      "Sanity flag= 0\n",
      "Are lanes detected? True True\n"
     ]
    },
    {
     "name": "stderr",
     "output_type": "stream",
     "text": [
      "\u001b[A\n",
      "  3%|▎         | 33/1200 [00:10<05:31,  3.52it/s]"
     ]
    },
    {
     "name": "stdout",
     "output_type": "stream",
     "text": [
      "Sliding window being executed...\n",
      "472.2817918\n",
      "916.848653206\n",
      "Sanity flag= 0\n",
      "Are lanes detected? True True\n"
     ]
    },
    {
     "name": "stderr",
     "output_type": "stream",
     "text": [
      "\u001b[A\n",
      "  3%|▎         | 34/1200 [00:10<05:31,  3.52it/s]"
     ]
    },
    {
     "name": "stdout",
     "output_type": "stream",
     "text": [
      "Sliding window being executed...\n",
      "418.938854044\n",
      "1277.02121831\n",
      "Sanity flag= 1\n",
      "Are lanes detected? True True\n"
     ]
    },
    {
     "name": "stderr",
     "output_type": "stream",
     "text": [
      "\u001b[A\n",
      "  3%|▎         | 35/1200 [00:10<05:30,  3.52it/s]"
     ]
    },
    {
     "name": "stdout",
     "output_type": "stream",
     "text": [
      "Sliding window being executed...\n",
      "348.254262425\n",
      "816.462341201\n",
      "Sanity flag= 0\n",
      "Are lanes detected? True True\n"
     ]
    },
    {
     "name": "stderr",
     "output_type": "stream",
     "text": [
      "\u001b[A\n",
      "  3%|▎         | 36/1200 [00:11<05:29,  3.53it/s]"
     ]
    },
    {
     "name": "stdout",
     "output_type": "stream",
     "text": [
      "Sliding window being executed...\n",
      "303.361962486\n",
      "684.537572124\n",
      "Sanity flag= 0\n",
      "Are lanes detected? True True\n"
     ]
    },
    {
     "name": "stderr",
     "output_type": "stream",
     "text": [
      "\u001b[A\n",
      "  3%|▎         | 37/1200 [00:11<05:30,  3.52it/s]"
     ]
    },
    {
     "name": "stdout",
     "output_type": "stream",
     "text": [
      "Sliding window being executed...\n",
      "311.838050008\n",
      "1385.49703326\n",
      "Sanity flag= 1\n",
      "Are lanes detected? True True\n"
     ]
    },
    {
     "name": "stderr",
     "output_type": "stream",
     "text": [
      "\u001b[A\n",
      "  3%|▎         | 38/1200 [00:11<05:30,  3.52it/s]"
     ]
    },
    {
     "name": "stdout",
     "output_type": "stream",
     "text": [
      "Sliding window being executed...\n",
      "407.76544948\n",
      "11159.0243974\n",
      "Sanity flag= 1\n",
      "Are lanes detected? True True\n"
     ]
    },
    {
     "name": "stderr",
     "output_type": "stream",
     "text": [
      "\u001b[A\n",
      "  3%|▎         | 39/1200 [00:12<05:28,  3.53it/s]"
     ]
    },
    {
     "name": "stdout",
     "output_type": "stream",
     "text": [
      "Sliding window being executed...\n",
      "374.786286362\n",
      "797.636043109\n",
      "Sanity flag= 0\n",
      "Are lanes detected? True True\n"
     ]
    },
    {
     "name": "stderr",
     "output_type": "stream",
     "text": [
      "\u001b[A\n",
      "  3%|▎         | 40/1200 [00:12<05:29,  3.52it/s]"
     ]
    },
    {
     "name": "stdout",
     "output_type": "stream",
     "text": [
      "Sliding window being executed...\n",
      "891.390141998\n",
      "678.957006515\n",
      "Sanity flag= 0\n",
      "Are lanes detected? True True\n"
     ]
    },
    {
     "name": "stderr",
     "output_type": "stream",
     "text": [
      "\u001b[A\n",
      "  3%|▎         | 41/1200 [00:12<05:30,  3.50it/s]"
     ]
    },
    {
     "name": "stdout",
     "output_type": "stream",
     "text": [
      "Sliding window being executed...\n",
      "582.474129105\n",
      "1599.68697623\n",
      "Sanity flag= 1\n",
      "Are lanes detected? True True\n"
     ]
    },
    {
     "name": "stderr",
     "output_type": "stream",
     "text": [
      "\u001b[A\n",
      "  4%|▎         | 42/1200 [00:12<05:28,  3.52it/s]"
     ]
    },
    {
     "name": "stdout",
     "output_type": "stream",
     "text": [
      "Sliding window being executed...\n",
      "431.984468785\n",
      "1523.16586339\n",
      "Sanity flag= 1\n",
      "Are lanes detected? True True\n"
     ]
    },
    {
     "name": "stderr",
     "output_type": "stream",
     "text": [
      "\u001b[A\n",
      "  4%|▎         | 43/1200 [00:13<07:42,  2.50it/s]"
     ]
    },
    {
     "name": "stdout",
     "output_type": "stream",
     "text": [
      "Sliding window being executed...\n",
      "390.200496784\n",
      "2928.5868344\n",
      "Sanity flag= 1\n",
      "Are lanes detected? True True\n"
     ]
    },
    {
     "name": "stderr",
     "output_type": "stream",
     "text": [
      "\u001b[A\n",
      "  4%|▎         | 44/1200 [00:13<07:40,  2.51it/s]"
     ]
    },
    {
     "name": "stdout",
     "output_type": "stream",
     "text": [
      "Sliding window being executed...\n",
      "472.850223361\n",
      "6268.12102382\n",
      "Sanity flag= 1\n",
      "Are lanes detected? True True\n"
     ]
    },
    {
     "name": "stderr",
     "output_type": "stream",
     "text": [
      "\u001b[A\n",
      "  4%|▍         | 45/1200 [00:14<07:30,  2.56it/s]"
     ]
    },
    {
     "name": "stdout",
     "output_type": "stream",
     "text": [
      "Sliding window being executed...\n",
      "336.665629901\n",
      "3191.61344112\n",
      "Sanity flag= 1\n",
      "Are lanes detected? True True\n"
     ]
    },
    {
     "name": "stderr",
     "output_type": "stream",
     "text": [
      "\u001b[A\n",
      "  4%|▍         | 46/1200 [00:14<07:37,  2.52it/s]"
     ]
    },
    {
     "name": "stdout",
     "output_type": "stream",
     "text": [
      "Sliding window being executed...\n",
      "406.157438118\n",
      "2137.23704553\n",
      "Sanity flag= 1\n",
      "Are lanes detected? True True\n"
     ]
    },
    {
     "name": "stderr",
     "output_type": "stream",
     "text": [
      "\u001b[A\n",
      "  4%|▍         | 47/1200 [00:15<07:28,  2.57it/s]"
     ]
    },
    {
     "name": "stdout",
     "output_type": "stream",
     "text": [
      "Sliding window being executed...\n",
      "413.589898832\n",
      "12913.2265779\n",
      "Sanity flag= 1\n",
      "Are lanes detected? True True\n"
     ]
    },
    {
     "name": "stderr",
     "output_type": "stream",
     "text": [
      "\u001b[A\n",
      "  4%|▍         | 48/1200 [00:15<07:26,  2.58it/s]"
     ]
    },
    {
     "name": "stdout",
     "output_type": "stream",
     "text": [
      "Sliding window being executed...\n",
      "424.349973926\n",
      "15190.5583636\n",
      "Sanity flag= 1\n",
      "Are lanes detected? True True\n"
     ]
    },
    {
     "name": "stderr",
     "output_type": "stream",
     "text": [
      "\u001b[A\n",
      "  4%|▍         | 49/1200 [00:15<07:25,  2.59it/s]"
     ]
    },
    {
     "name": "stdout",
     "output_type": "stream",
     "text": [
      "Sliding window being executed...\n",
      "443.087630366\n",
      "1895.23084305\n",
      "Sanity flag= 1\n",
      "Are lanes detected? True True\n"
     ]
    },
    {
     "name": "stderr",
     "output_type": "stream",
     "text": [
      "\u001b[A\n",
      "  4%|▍         | 50/1200 [00:16<07:30,  2.55it/s]"
     ]
    },
    {
     "name": "stdout",
     "output_type": "stream",
     "text": [
      "Sliding window being executed...\n",
      "431.896585731\n",
      "3687.04403345\n",
      "Sanity flag= 1\n",
      "Are lanes detected? True True\n"
     ]
    },
    {
     "name": "stderr",
     "output_type": "stream",
     "text": [
      "\u001b[A\n",
      "  4%|▍         | 51/1200 [00:16<07:33,  2.54it/s]"
     ]
    },
    {
     "name": "stdout",
     "output_type": "stream",
     "text": [
      "Sliding window being executed...\n",
      "307.905941929\n",
      "52574.5359644\n",
      "Sanity flag= 1\n",
      "Are lanes detected? True True\n"
     ]
    },
    {
     "name": "stderr",
     "output_type": "stream",
     "text": [
      "\u001b[A\n",
      "  4%|▍         | 52/1200 [00:17<07:27,  2.56it/s]"
     ]
    },
    {
     "name": "stdout",
     "output_type": "stream",
     "text": [
      "Sliding window being executed...\n",
      "317.562014862\n",
      "2216.7510676\n",
      "Sanity flag= 1\n",
      "Are lanes detected? True True\n"
     ]
    },
    {
     "name": "stderr",
     "output_type": "stream",
     "text": [
      "\u001b[A\n",
      "  4%|▍         | 53/1200 [00:17<07:25,  2.58it/s]"
     ]
    },
    {
     "name": "stdout",
     "output_type": "stream",
     "text": [
      "Sliding window being executed...\n",
      "228.805427298\n",
      "1005.93613284\n",
      "Sanity flag= 0\n",
      "Are lanes detected? True True\n"
     ]
    },
    {
     "name": "stderr",
     "output_type": "stream",
     "text": [
      "\u001b[A\n",
      "  4%|▍         | 54/1200 [00:17<07:24,  2.58it/s]"
     ]
    },
    {
     "name": "stdout",
     "output_type": "stream",
     "text": [
      "Sliding window being executed...\n",
      "271.393737054\n",
      "1015.28411516\n",
      "Sanity flag= 0\n",
      "Are lanes detected? True True\n"
     ]
    },
    {
     "name": "stderr",
     "output_type": "stream",
     "text": [
      "\u001b[A\n",
      "  5%|▍         | 55/1200 [00:18<07:27,  2.56it/s]"
     ]
    },
    {
     "name": "stdout",
     "output_type": "stream",
     "text": [
      "Sliding window being executed...\n",
      "309.065520318\n",
      "887.437333988\n",
      "Sanity flag= 0\n",
      "Are lanes detected? True True\n"
     ]
    },
    {
     "name": "stderr",
     "output_type": "stream",
     "text": [
      "\u001b[A\n",
      "  5%|▍         | 56/1200 [00:18<07:21,  2.59it/s]"
     ]
    },
    {
     "name": "stdout",
     "output_type": "stream",
     "text": [
      "Sliding window being executed...\n",
      "637.221387593\n",
      "1345.758376\n",
      "Sanity flag= 1\n",
      "Are lanes detected? True True\n"
     ]
    },
    {
     "name": "stderr",
     "output_type": "stream",
     "text": [
      "\u001b[A\n",
      "  5%|▍         | 57/1200 [00:19<07:20,  2.59it/s]"
     ]
    },
    {
     "name": "stdout",
     "output_type": "stream",
     "text": [
      "Sliding window being executed...\n",
      "588.140540903\n",
      "3876.00123347\n",
      "Sanity flag= 1\n",
      "Are lanes detected? True True\n"
     ]
    },
    {
     "name": "stderr",
     "output_type": "stream",
     "text": [
      "\u001b[A\n",
      "  5%|▍         | 58/1200 [00:19<07:21,  2.59it/s]"
     ]
    },
    {
     "name": "stdout",
     "output_type": "stream",
     "text": [
      "Sliding window being executed...\n",
      "684.078148533\n",
      "6746.30348674\n",
      "Sanity flag= 1\n",
      "Are lanes detected? True True\n"
     ]
    },
    {
     "name": "stderr",
     "output_type": "stream",
     "text": [
      "\u001b[A\n",
      "  5%|▍         | 59/1200 [00:19<07:25,  2.56it/s]"
     ]
    },
    {
     "name": "stdout",
     "output_type": "stream",
     "text": [
      "Sliding window being executed...\n",
      "727.307323359\n",
      "3088.70284931\n",
      "Sanity flag= 1\n",
      "Are lanes detected? True True\n"
     ]
    },
    {
     "name": "stderr",
     "output_type": "stream",
     "text": [
      "\u001b[A\n",
      "  5%|▌         | 60/1200 [00:20<07:24,  2.57it/s]"
     ]
    },
    {
     "name": "stdout",
     "output_type": "stream",
     "text": [
      "Sliding window being executed...\n",
      "670.32573493\n",
      "2740.25726351\n",
      "Sanity flag= 1\n",
      "Are lanes detected? True True\n"
     ]
    },
    {
     "name": "stderr",
     "output_type": "stream",
     "text": [
      "\u001b[A\n",
      "  5%|▌         | 61/1200 [00:20<07:25,  2.56it/s]"
     ]
    },
    {
     "name": "stdout",
     "output_type": "stream",
     "text": [
      "Sliding window being executed...\n",
      "423.477588121\n",
      "4958.76517512\n",
      "Sanity flag= 1\n",
      "Are lanes detected? True True\n"
     ]
    },
    {
     "name": "stderr",
     "output_type": "stream",
     "text": [
      "\u001b[A\n",
      "  5%|▌         | 62/1200 [00:20<07:27,  2.54it/s]"
     ]
    },
    {
     "name": "stdout",
     "output_type": "stream",
     "text": [
      "Sliding window being executed...\n",
      "168.178695988\n",
      "3276.59445203\n",
      "Sanity flag= 1\n",
      "Are lanes detected? True True\n"
     ]
    },
    {
     "name": "stderr",
     "output_type": "stream",
     "text": [
      "\u001b[A\n",
      "  5%|▌         | 63/1200 [00:21<07:26,  2.55it/s]"
     ]
    },
    {
     "name": "stdout",
     "output_type": "stream",
     "text": [
      "Sliding window being executed...\n",
      "153.94953869\n",
      "3963.98616099\n",
      "Sanity flag= 1\n",
      "Are lanes detected? True True\n"
     ]
    },
    {
     "name": "stderr",
     "output_type": "stream",
     "text": [
      "\u001b[A\n",
      "  5%|▌         | 64/1200 [00:21<07:21,  2.57it/s]"
     ]
    },
    {
     "name": "stdout",
     "output_type": "stream",
     "text": [
      "Sliding window being executed...\n",
      "449.322416855\n",
      "9074.39008955\n",
      "Sanity flag= 1\n",
      "Are lanes detected? True True\n"
     ]
    },
    {
     "name": "stderr",
     "output_type": "stream",
     "text": [
      "\u001b[A\n",
      "  5%|▌         | 65/1200 [00:22<07:22,  2.56it/s]"
     ]
    },
    {
     "name": "stdout",
     "output_type": "stream",
     "text": [
      "Sliding window being executed...\n",
      "412.716859232\n",
      "11186.4683268\n",
      "Sanity flag= 1\n",
      "Are lanes detected? True True\n"
     ]
    },
    {
     "name": "stderr",
     "output_type": "stream",
     "text": [
      "\u001b[A\n",
      "  6%|▌         | 66/1200 [00:22<07:21,  2.57it/s]"
     ]
    },
    {
     "name": "stdout",
     "output_type": "stream",
     "text": [
      "Sliding window being executed...\n",
      "1175.21495838\n",
      "1609.91882617\n",
      "Sanity flag= 1\n",
      "Are lanes detected? True True\n"
     ]
    },
    {
     "name": "stderr",
     "output_type": "stream",
     "text": [
      "\u001b[A\n",
      "  6%|▌         | 67/1200 [00:22<07:21,  2.56it/s]"
     ]
    },
    {
     "name": "stdout",
     "output_type": "stream",
     "text": [
      "Sliding window being executed...\n",
      "663.927478063\n",
      "686.688306253\n",
      "Sanity flag= 0\n",
      "Are lanes detected? True True\n"
     ]
    },
    {
     "name": "stderr",
     "output_type": "stream",
     "text": [
      "\u001b[A\n",
      "  6%|▌         | 68/1200 [00:23<07:20,  2.57it/s]"
     ]
    },
    {
     "name": "stdout",
     "output_type": "stream",
     "text": [
      "Sliding window being executed...\n",
      "1764.21167297\n",
      "547.022643172\n",
      "Sanity flag= 1\n",
      "Are lanes detected? True True\n"
     ]
    },
    {
     "name": "stderr",
     "output_type": "stream",
     "text": [
      "\u001b[A\n",
      "  6%|▌         | 69/1200 [00:23<07:16,  2.59it/s]"
     ]
    },
    {
     "name": "stdout",
     "output_type": "stream",
     "text": [
      "Sliding window being executed...\n",
      "643.765066028\n",
      "445.45494039\n",
      "Sanity flag= 0\n",
      "Are lanes detected? True True\n"
     ]
    },
    {
     "name": "stderr",
     "output_type": "stream",
     "text": [
      "\u001b[A\n",
      "  6%|▌         | 70/1200 [00:24<07:16,  2.59it/s]"
     ]
    },
    {
     "name": "stdout",
     "output_type": "stream",
     "text": [
      "Sliding window being executed...\n",
      "381.06450849\n",
      "1996.58811272\n",
      "Sanity flag= 1\n",
      "Are lanes detected? True True\n"
     ]
    },
    {
     "name": "stderr",
     "output_type": "stream",
     "text": [
      "\u001b[A\n",
      "  6%|▌         | 71/1200 [00:24<07:16,  2.59it/s]"
     ]
    },
    {
     "name": "stdout",
     "output_type": "stream",
     "text": [
      "Sliding window being executed...\n",
      "546.910973817\n",
      "2074.35070429\n",
      "Sanity flag= 1\n",
      "Are lanes detected? True True\n"
     ]
    },
    {
     "name": "stderr",
     "output_type": "stream",
     "text": [
      "\u001b[A\n",
      "  6%|▌         | 72/1200 [00:24<07:13,  2.60it/s]"
     ]
    },
    {
     "name": "stdout",
     "output_type": "stream",
     "text": [
      "Sliding window being executed...\n",
      "696.348911671\n",
      "16560.4441751\n",
      "Sanity flag= 1\n",
      "Are lanes detected? True True\n"
     ]
    },
    {
     "name": "stderr",
     "output_type": "stream",
     "text": [
      "\u001b[A\n",
      "  6%|▌         | 73/1200 [00:25<07:38,  2.46it/s]"
     ]
    },
    {
     "name": "stdout",
     "output_type": "stream",
     "text": [
      "Sliding window being executed...\n",
      "626.181761816\n",
      "878.840098954\n",
      "Sanity flag= 0\n",
      "Are lanes detected? True True\n"
     ]
    },
    {
     "name": "stderr",
     "output_type": "stream",
     "text": [
      "\u001b[A\n",
      "  6%|▌         | 74/1200 [00:25<07:27,  2.51it/s]"
     ]
    },
    {
     "name": "stdout",
     "output_type": "stream",
     "text": [
      "Sliding window being executed...\n",
      "598.728909402\n",
      "1708.63551136\n",
      "Sanity flag= 1\n",
      "Are lanes detected? True True\n"
     ]
    },
    {
     "name": "stderr",
     "output_type": "stream",
     "text": [
      "\u001b[A\n",
      "  6%|▋         | 75/1200 [00:26<07:26,  2.52it/s]"
     ]
    },
    {
     "name": "stdout",
     "output_type": "stream",
     "text": [
      "Sliding window being executed...\n",
      "1136.21099912\n",
      "5658.6694094\n",
      "Sanity flag= 1\n",
      "Are lanes detected? True True\n"
     ]
    },
    {
     "name": "stderr",
     "output_type": "stream",
     "text": [
      "\u001b[A\n",
      "  6%|▋         | 76/1200 [00:26<07:26,  2.52it/s]"
     ]
    },
    {
     "name": "stdout",
     "output_type": "stream",
     "text": [
      "Sliding window being executed...\n",
      "346.538110103\n",
      "3601.57090793\n",
      "Sanity flag= 1\n",
      "Are lanes detected? True True\n"
     ]
    },
    {
     "name": "stderr",
     "output_type": "stream",
     "text": [
      "\u001b[A\n",
      "  6%|▋         | 77/1200 [00:26<07:24,  2.53it/s]"
     ]
    },
    {
     "name": "stdout",
     "output_type": "stream",
     "text": [
      "Sliding window being executed...\n",
      "16939.5317777\n",
      "2406.05903614\n",
      "Sanity flag= 1\n",
      "Are lanes detected? True True\n"
     ]
    },
    {
     "name": "stderr",
     "output_type": "stream",
     "text": [
      "\u001b[A\n",
      "  6%|▋         | 78/1200 [00:27<07:23,  2.53it/s]"
     ]
    },
    {
     "name": "stdout",
     "output_type": "stream",
     "text": [
      "Sliding window being executed...\n",
      "1261.64163871\n",
      "2396.18756768\n",
      "Sanity flag= 1\n",
      "Are lanes detected? True True\n"
     ]
    },
    {
     "name": "stderr",
     "output_type": "stream",
     "text": [
      "\u001b[A\n",
      "  7%|▋         | 79/1200 [00:27<07:19,  2.55it/s]"
     ]
    },
    {
     "name": "stdout",
     "output_type": "stream",
     "text": [
      "Sliding window being executed...\n",
      "208.698917962\n",
      "3375.08990748\n",
      "Sanity flag= 1\n",
      "Are lanes detected? True True\n"
     ]
    },
    {
     "name": "stderr",
     "output_type": "stream",
     "text": [
      "\u001b[A\n",
      "  7%|▋         | 80/1200 [00:28<07:13,  2.58it/s]"
     ]
    },
    {
     "name": "stdout",
     "output_type": "stream",
     "text": [
      "Sliding window being executed...\n",
      "289.249079127\n",
      "551.357519043\n",
      "Sanity flag= 0\n",
      "Are lanes detected? True True\n"
     ]
    },
    {
     "name": "stderr",
     "output_type": "stream",
     "text": [
      "\u001b[A\n",
      "  7%|▋         | 81/1200 [00:28<07:13,  2.58it/s]"
     ]
    },
    {
     "name": "stdout",
     "output_type": "stream",
     "text": [
      "Sliding window being executed...\n",
      "332.805703737\n",
      "611.744079791\n",
      "Sanity flag= 0\n",
      "Are lanes detected? True True\n"
     ]
    },
    {
     "name": "stderr",
     "output_type": "stream",
     "text": [
      "\u001b[A\n",
      "  7%|▋         | 82/1200 [00:28<07:09,  2.60it/s]"
     ]
    },
    {
     "name": "stdout",
     "output_type": "stream",
     "text": [
      "Sliding window being executed...\n",
      "321.70878635\n",
      "1223.53636087\n",
      "Sanity flag= 1\n",
      "Are lanes detected? True True\n"
     ]
    },
    {
     "name": "stderr",
     "output_type": "stream",
     "text": [
      "\u001b[A\n",
      "  7%|▋         | 83/1200 [00:29<07:07,  2.61it/s]"
     ]
    },
    {
     "name": "stdout",
     "output_type": "stream",
     "text": [
      "Sliding window being executed...\n",
      "2490.70773393\n",
      "3240.66955857\n",
      "Sanity flag= 1\n",
      "Are lanes detected? True True\n"
     ]
    },
    {
     "name": "stderr",
     "output_type": "stream",
     "text": [
      "\u001b[A\n",
      "  7%|▋         | 84/1200 [00:29<07:06,  2.62it/s]"
     ]
    },
    {
     "name": "stdout",
     "output_type": "stream",
     "text": [
      "Sliding window being executed...\n",
      "1530.94198443\n",
      "656.314991373\n",
      "Sanity flag= 1\n",
      "Are lanes detected? True True\n"
     ]
    },
    {
     "name": "stderr",
     "output_type": "stream",
     "text": [
      "\u001b[A\n",
      "  7%|▋         | 85/1200 [00:29<07:06,  2.61it/s]"
     ]
    },
    {
     "name": "stdout",
     "output_type": "stream",
     "text": [
      "Sliding window being executed...\n",
      "1248.89437666\n",
      "3317.2915755\n",
      "Sanity flag= 1\n",
      "Are lanes detected? True True\n"
     ]
    },
    {
     "name": "stderr",
     "output_type": "stream",
     "text": [
      "\u001b[A\n",
      "  7%|▋         | 86/1200 [00:30<07:06,  2.61it/s]"
     ]
    },
    {
     "name": "stdout",
     "output_type": "stream",
     "text": [
      "Sliding window being executed...\n",
      "423.800076865\n",
      "3084.58024743\n",
      "Sanity flag= 1\n",
      "Are lanes detected? True True\n"
     ]
    },
    {
     "name": "stderr",
     "output_type": "stream",
     "text": [
      "\u001b[A\n",
      "  7%|▋         | 87/1200 [00:30<07:07,  2.60it/s]"
     ]
    },
    {
     "name": "stdout",
     "output_type": "stream",
     "text": [
      "Sliding window being executed...\n",
      "645.341458729\n",
      "2051.18477552\n",
      "Sanity flag= 1\n",
      "Are lanes detected? True True\n"
     ]
    },
    {
     "name": "stderr",
     "output_type": "stream",
     "text": [
      "\u001b[A\n",
      "  7%|▋         | 88/1200 [00:31<07:08,  2.59it/s]"
     ]
    },
    {
     "name": "stdout",
     "output_type": "stream",
     "text": [
      "Sliding window being executed...\n",
      "694.425321032\n",
      "989.633796249\n",
      "Sanity flag= 0\n",
      "Are lanes detected? True True\n"
     ]
    },
    {
     "name": "stderr",
     "output_type": "stream",
     "text": [
      "\u001b[A\n",
      "  7%|▋         | 89/1200 [00:31<07:09,  2.59it/s]"
     ]
    },
    {
     "name": "stdout",
     "output_type": "stream",
     "text": [
      "Sliding window being executed...\n",
      "1194.56176981\n",
      "542.650128854\n",
      "Sanity flag= 0\n",
      "Are lanes detected? True True\n"
     ]
    },
    {
     "name": "stderr",
     "output_type": "stream",
     "text": [
      "\u001b[A\n",
      "  8%|▊         | 90/1200 [00:31<07:09,  2.59it/s]"
     ]
    },
    {
     "name": "stdout",
     "output_type": "stream",
     "text": [
      "Sliding window being executed...\n",
      "946.09597151\n",
      "29359.7573711\n",
      "Sanity flag= 1\n",
      "Are lanes detected? True True\n"
     ]
    },
    {
     "name": "stderr",
     "output_type": "stream",
     "text": [
      "\u001b[A\n",
      "  8%|▊         | 91/1200 [00:32<07:10,  2.57it/s]"
     ]
    },
    {
     "name": "stdout",
     "output_type": "stream",
     "text": [
      "Sliding window being executed...\n",
      "843.37580627\n",
      "561.657189\n",
      "Sanity flag= 0\n",
      "Are lanes detected? True True\n"
     ]
    },
    {
     "name": "stderr",
     "output_type": "stream",
     "text": [
      "\u001b[A\n",
      "  8%|▊         | 92/1200 [00:32<07:08,  2.58it/s]"
     ]
    },
    {
     "name": "stdout",
     "output_type": "stream",
     "text": [
      "Sliding window being executed...\n",
      "936.204620368\n",
      "612.760375715\n",
      "Sanity flag= 0\n",
      "Are lanes detected? True True\n"
     ]
    },
    {
     "name": "stderr",
     "output_type": "stream",
     "text": [
      "\u001b[A\n",
      "  8%|▊         | 93/1200 [00:33<07:07,  2.59it/s]"
     ]
    },
    {
     "name": "stdout",
     "output_type": "stream",
     "text": [
      "Sliding window being executed...\n",
      "650.823888643\n",
      "564.74010549\n",
      "Sanity flag= 0\n",
      "Are lanes detected? True True\n"
     ]
    },
    {
     "name": "stderr",
     "output_type": "stream",
     "text": [
      "\u001b[A\n",
      "  8%|▊         | 94/1200 [00:33<07:10,  2.57it/s]"
     ]
    },
    {
     "name": "stdout",
     "output_type": "stream",
     "text": [
      "Sliding window being executed...\n",
      "639.607253375\n",
      "133.925657071\n",
      "Sanity flag= 1\n",
      "Are lanes detected? True True\n"
     ]
    },
    {
     "name": "stderr",
     "output_type": "stream",
     "text": [
      "\u001b[A\n",
      "  8%|▊         | 95/1200 [00:33<08:07,  2.27it/s]"
     ]
    },
    {
     "name": "stdout",
     "output_type": "stream",
     "text": [
      "Sliding window being executed...\n",
      "713.498359364\n",
      "2816.74409171\n",
      "Sanity flag= 1\n",
      "Are lanes detected? True True\n"
     ]
    },
    {
     "name": "stderr",
     "output_type": "stream",
     "text": [
      "\u001b[A\n",
      "  8%|▊         | 96/1200 [00:34<09:14,  1.99it/s]"
     ]
    },
    {
     "name": "stdout",
     "output_type": "stream",
     "text": [
      "Sliding window being executed...\n",
      "7551.49460478\n",
      "515.819284814\n",
      "Sanity flag= 1\n",
      "Are lanes detected? True True\n"
     ]
    },
    {
     "name": "stderr",
     "output_type": "stream",
     "text": [
      "\u001b[A\n",
      "  8%|▊         | 97/1200 [00:35<09:53,  1.86it/s]"
     ]
    },
    {
     "name": "stdout",
     "output_type": "stream",
     "text": [
      "Sliding window being executed...\n",
      "616.224271286\n",
      "16290.7179975\n",
      "Sanity flag= 1\n",
      "Are lanes detected? True True\n"
     ]
    },
    {
     "name": "stderr",
     "output_type": "stream",
     "text": [
      "\u001b[A\n",
      "  8%|▊         | 98/1200 [00:35<10:32,  1.74it/s]"
     ]
    },
    {
     "name": "stdout",
     "output_type": "stream",
     "text": [
      "Sliding window being executed...\n",
      "4751.59370097\n",
      "402.05196042\n",
      "Sanity flag= 1\n",
      "Are lanes detected? True True\n"
     ]
    },
    {
     "name": "stderr",
     "output_type": "stream",
     "text": [
      "\u001b[A\n",
      "  8%|▊         | 99/1200 [00:36<10:14,  1.79it/s]"
     ]
    },
    {
     "name": "stdout",
     "output_type": "stream",
     "text": [
      "Sliding window being executed...\n",
      "1126.27078342\n",
      "251.655959459\n",
      "Sanity flag= 0\n",
      "Are lanes detected? True True\n"
     ]
    },
    {
     "name": "stderr",
     "output_type": "stream",
     "text": [
      "\u001b[A\n",
      "  8%|▊         | 100/1200 [00:36<09:17,  1.97it/s]"
     ]
    },
    {
     "name": "stdout",
     "output_type": "stream",
     "text": [
      "Sliding window being executed...\n",
      "729.901196625\n",
      "145.224906251\n",
      "Sanity flag= 1\n",
      "Are lanes detected? True True\n"
     ]
    },
    {
     "name": "stderr",
     "output_type": "stream",
     "text": [
      "\u001b[A\n",
      "  8%|▊         | 101/1200 [00:37<08:37,  2.12it/s]"
     ]
    },
    {
     "name": "stdout",
     "output_type": "stream",
     "text": [
      "Sliding window being executed...\n",
      "510.055962062\n",
      "401.783123117\n",
      "Sanity flag= 0\n",
      "Are lanes detected? True True\n"
     ]
    },
    {
     "name": "stderr",
     "output_type": "stream",
     "text": [
      "\u001b[A\n",
      "  8%|▊         | 102/1200 [00:37<08:06,  2.26it/s]"
     ]
    },
    {
     "name": "stdout",
     "output_type": "stream",
     "text": [
      "Sliding window being executed...\n",
      "535.565686543\n",
      "280.015382399\n",
      "Sanity flag= 1\n",
      "Are lanes detected? True True\n"
     ]
    },
    {
     "name": "stderr",
     "output_type": "stream",
     "text": [
      "\u001b[A\n",
      "  9%|▊         | 103/1200 [00:38<08:08,  2.25it/s]"
     ]
    },
    {
     "name": "stdout",
     "output_type": "stream",
     "text": [
      "Sliding window being executed...\n",
      "208.208446562\n",
      "1299.28041908\n",
      "Sanity flag= 1\n",
      "Are lanes detected? True True\n"
     ]
    },
    {
     "name": "stderr",
     "output_type": "stream",
     "text": [
      "\u001b[A\n",
      "  9%|▊         | 104/1200 [00:38<07:41,  2.38it/s]"
     ]
    },
    {
     "name": "stdout",
     "output_type": "stream",
     "text": [
      "Sliding window being executed...\n",
      "97.7849860606\n",
      "365.451773219\n",
      "Sanity flag= 1\n",
      "Are lanes detected? True True\n"
     ]
    },
    {
     "name": "stderr",
     "output_type": "stream",
     "text": [
      "\u001b[A\n",
      "  9%|▉         | 105/1200 [00:38<07:32,  2.42it/s]"
     ]
    },
    {
     "name": "stdout",
     "output_type": "stream",
     "text": [
      "Sliding window being executed...\n",
      "147.582224176\n",
      "351.973903877\n",
      "Sanity flag= 0\n",
      "Are lanes detected? True True\n"
     ]
    },
    {
     "name": "stderr",
     "output_type": "stream",
     "text": [
      "\u001b[A\n",
      "  9%|▉         | 106/1200 [00:39<07:22,  2.47it/s]"
     ]
    },
    {
     "name": "stdout",
     "output_type": "stream",
     "text": [
      "Sliding window being executed...\n",
      "121.597385278\n",
      "290.505836844\n",
      "Sanity flag= 0\n",
      "Are lanes detected? True True\n"
     ]
    },
    {
     "name": "stderr",
     "output_type": "stream",
     "text": [
      "\u001b[A\n",
      "  9%|▉         | 107/1200 [00:39<07:19,  2.49it/s]"
     ]
    },
    {
     "name": "stdout",
     "output_type": "stream",
     "text": [
      "Sliding window being executed...\n",
      "123.338745858\n",
      "200.203833018\n",
      "Sanity flag= 0\n",
      "Are lanes detected? True True\n"
     ]
    },
    {
     "name": "stderr",
     "output_type": "stream",
     "text": [
      "\u001b[A\n",
      "  9%|▉         | 108/1200 [00:39<07:14,  2.51it/s]"
     ]
    },
    {
     "name": "stdout",
     "output_type": "stream",
     "text": [
      "Sliding window being executed...\n",
      "108.36823112\n",
      "168.184450047\n",
      "Sanity flag= 0\n",
      "Are lanes detected? True True\n"
     ]
    },
    {
     "name": "stderr",
     "output_type": "stream",
     "text": [
      "\u001b[A\n",
      "  9%|▉         | 109/1200 [00:40<07:08,  2.55it/s]"
     ]
    },
    {
     "name": "stdout",
     "output_type": "stream",
     "text": [
      "Sliding window being executed...\n",
      "45.8870721498\n",
      "81.9302621741\n",
      "Sanity flag= 1\n",
      "Are lanes detected? True True\n"
     ]
    },
    {
     "name": "stderr",
     "output_type": "stream",
     "text": [
      "\u001b[A\n",
      "  9%|▉         | 110/1200 [00:40<07:05,  2.56it/s]"
     ]
    },
    {
     "name": "stdout",
     "output_type": "stream",
     "text": [
      "Sliding window being executed...\n",
      "41.5233957081\n",
      "34.5438105328\n",
      "Sanity flag= 1\n",
      "Are lanes detected? True True\n"
     ]
    },
    {
     "name": "stderr",
     "output_type": "stream",
     "text": [
      "\u001b[A\n",
      "  9%|▉         | 111/1200 [00:41<07:02,  2.58it/s]"
     ]
    },
    {
     "name": "stdout",
     "output_type": "stream",
     "text": [
      "Sliding window being executed...\n",
      "38.6267341498\n",
      "38.0653452124\n",
      "Sanity flag= 0\n",
      "Are lanes detected? True True\n"
     ]
    },
    {
     "name": "stderr",
     "output_type": "stream",
     "text": [
      "\u001b[A\n",
      "  9%|▉         | 112/1200 [00:41<07:03,  2.57it/s]"
     ]
    },
    {
     "name": "stdout",
     "output_type": "stream",
     "text": [
      "Sliding window being executed...\n",
      "371.216106792\n",
      "34.5238294948\n",
      "Sanity flag= 1\n",
      "Are lanes detected? True True\n"
     ]
    },
    {
     "name": "stderr",
     "output_type": "stream",
     "text": [
      "\u001b[A\n",
      "  9%|▉         | 113/1200 [00:41<07:05,  2.56it/s]"
     ]
    },
    {
     "name": "stdout",
     "output_type": "stream",
     "text": [
      "Sliding window being executed...\n",
      "267.019610589\n",
      "31.6521900834\n",
      "Sanity flag= 1\n",
      "Are lanes detected? True True\n"
     ]
    },
    {
     "name": "stderr",
     "output_type": "stream",
     "text": [
      "\u001b[A\n",
      " 10%|▉         | 114/1200 [00:42<07:05,  2.55it/s]"
     ]
    },
    {
     "name": "stdout",
     "output_type": "stream",
     "text": [
      "Sliding window being executed...\n",
      "600.473398211\n",
      "29.6003086892\n",
      "Sanity flag= 1\n",
      "Are lanes detected? True True\n"
     ]
    },
    {
     "name": "stderr",
     "output_type": "stream",
     "text": [
      "\u001b[A\n",
      " 10%|▉         | 115/1200 [00:42<07:07,  2.54it/s]"
     ]
    },
    {
     "name": "stdout",
     "output_type": "stream",
     "text": [
      "Sliding window being executed...\n",
      "172228.481153\n",
      "30.2991236314\n",
      "Sanity flag= 1\n",
      "Are lanes detected? True True\n"
     ]
    },
    {
     "name": "stderr",
     "output_type": "stream",
     "text": [
      "\u001b[A\n",
      " 10%|▉         | 116/1200 [00:43<07:06,  2.54it/s]"
     ]
    },
    {
     "name": "stdout",
     "output_type": "stream",
     "text": [
      "Sliding window being executed...\n",
      "670.841962026\n",
      "24.8235431189\n",
      "Sanity flag= 1\n",
      "Are lanes detected? True True\n"
     ]
    },
    {
     "name": "stderr",
     "output_type": "stream",
     "text": [
      "\u001b[A\n",
      " 10%|▉         | 117/1200 [00:43<07:04,  2.55it/s]"
     ]
    },
    {
     "name": "stdout",
     "output_type": "stream",
     "text": [
      "Sliding window being executed...\n",
      "979.391988341\n",
      "1673.4008486\n",
      "Sanity flag= 1\n",
      "Are lanes detected? True True\n"
     ]
    },
    {
     "name": "stderr",
     "output_type": "stream",
     "text": [
      "\u001b[A\n",
      " 10%|▉         | 118/1200 [00:43<07:01,  2.57it/s]"
     ]
    },
    {
     "name": "stdout",
     "output_type": "stream",
     "text": [
      "Sliding window being executed...\n",
      "5247.22472746\n",
      "2193.16600158\n",
      "Sanity flag= 1\n",
      "Are lanes detected? True True\n"
     ]
    },
    {
     "name": "stderr",
     "output_type": "stream",
     "text": [
      "\u001b[A\n",
      " 10%|▉         | 119/1200 [00:44<06:59,  2.58it/s]"
     ]
    },
    {
     "name": "stdout",
     "output_type": "stream",
     "text": [
      "Sliding window being executed...\n",
      "76.2670920673\n",
      "555.049512706\n",
      "Sanity flag= 1\n",
      "Are lanes detected? True True\n"
     ]
    },
    {
     "name": "stderr",
     "output_type": "stream",
     "text": [
      "\u001b[A\n",
      " 10%|█         | 120/1200 [00:44<07:04,  2.55it/s]"
     ]
    },
    {
     "name": "stdout",
     "output_type": "stream",
     "text": [
      "Sliding window being executed...\n",
      "708.066711092\n",
      "484.96229131\n",
      "Sanity flag= 0\n",
      "Are lanes detected? True True\n"
     ]
    },
    {
     "name": "stderr",
     "output_type": "stream",
     "text": [
      "\u001b[A\n",
      " 10%|█         | 121/1200 [00:45<07:02,  2.56it/s]"
     ]
    },
    {
     "name": "stdout",
     "output_type": "stream",
     "text": [
      "Sliding window being executed...\n",
      "9181.1235618\n",
      "3003.07186817\n",
      "Sanity flag= 1\n",
      "Are lanes detected? True True\n"
     ]
    },
    {
     "name": "stderr",
     "output_type": "stream",
     "text": [
      "\u001b[A\n",
      " 10%|█         | 122/1200 [00:45<06:59,  2.57it/s]"
     ]
    },
    {
     "name": "stdout",
     "output_type": "stream",
     "text": [
      "Sliding window being executed...\n",
      "77.2538302069\n",
      "670.578753432\n",
      "Sanity flag= 1\n",
      "Are lanes detected? True True\n"
     ]
    },
    {
     "name": "stderr",
     "output_type": "stream",
     "text": [
      "\u001b[A\n",
      " 10%|█         | 123/1200 [00:45<06:58,  2.57it/s]"
     ]
    },
    {
     "name": "stdout",
     "output_type": "stream",
     "text": [
      "Sliding window being executed...\n",
      "62.2384203141\n",
      "665.76107251\n",
      "Sanity flag= 1\n",
      "Are lanes detected? True True\n"
     ]
    },
    {
     "name": "stderr",
     "output_type": "stream",
     "text": [
      "\u001b[A\n",
      " 10%|█         | 124/1200 [00:46<06:59,  2.57it/s]"
     ]
    },
    {
     "name": "stdout",
     "output_type": "stream",
     "text": [
      "Sliding window being executed...\n",
      "66.0902002628\n",
      "351.734646631\n",
      "Sanity flag= 1\n",
      "Are lanes detected? True True\n"
     ]
    },
    {
     "name": "stderr",
     "output_type": "stream",
     "text": [
      "\u001b[A\n",
      " 10%|█         | 125/1200 [00:46<06:57,  2.58it/s]"
     ]
    },
    {
     "name": "stdout",
     "output_type": "stream",
     "text": [
      "Sliding window being executed...\n",
      "61.5734558255\n",
      "303.23358225\n",
      "Sanity flag= 1\n",
      "Are lanes detected? True True\n"
     ]
    },
    {
     "name": "stderr",
     "output_type": "stream",
     "text": [
      "\u001b[A\n",
      " 10%|█         | 126/1200 [00:46<06:55,  2.59it/s]"
     ]
    },
    {
     "name": "stdout",
     "output_type": "stream",
     "text": [
      "Sliding window being executed...\n",
      "60.8529335686\n",
      "236.357737734\n",
      "Sanity flag= 1\n",
      "Are lanes detected? True True\n"
     ]
    },
    {
     "name": "stderr",
     "output_type": "stream",
     "text": [
      "\u001b[A\n",
      " 11%|█         | 127/1200 [00:47<06:55,  2.58it/s]"
     ]
    },
    {
     "name": "stdout",
     "output_type": "stream",
     "text": [
      "Sliding window being executed...\n",
      "57.212458742\n",
      "232.776993253\n",
      "Sanity flag= 1\n",
      "Are lanes detected? True True\n"
     ]
    },
    {
     "name": "stderr",
     "output_type": "stream",
     "text": [
      "\u001b[A\n",
      " 11%|█         | 128/1200 [00:47<06:59,  2.56it/s]"
     ]
    },
    {
     "name": "stdout",
     "output_type": "stream",
     "text": [
      "Sliding window being executed...\n",
      "53.8893936333\n",
      "215.759619683\n",
      "Sanity flag= 1\n",
      "Are lanes detected? True True\n"
     ]
    },
    {
     "name": "stderr",
     "output_type": "stream",
     "text": [
      "\u001b[A\n",
      " 11%|█         | 129/1200 [00:48<06:58,  2.56it/s]"
     ]
    },
    {
     "name": "stdout",
     "output_type": "stream",
     "text": [
      "Sliding window being executed...\n",
      "55.303840268\n",
      "207.276380714\n",
      "Sanity flag= 1\n",
      "Are lanes detected? True True\n"
     ]
    },
    {
     "name": "stderr",
     "output_type": "stream",
     "text": [
      "\u001b[A\n",
      " 11%|█         | 130/1200 [00:48<06:55,  2.58it/s]"
     ]
    },
    {
     "name": "stdout",
     "output_type": "stream",
     "text": [
      "Sliding window being executed...\n",
      "51.9933210412\n",
      "268.817658003\n",
      "Sanity flag= 1\n",
      "Are lanes detected? True True\n"
     ]
    },
    {
     "name": "stderr",
     "output_type": "stream",
     "text": [
      "\u001b[A\n",
      " 11%|█         | 131/1200 [00:48<06:49,  2.61it/s]"
     ]
    },
    {
     "name": "stdout",
     "output_type": "stream",
     "text": [
      "Sliding window being executed...\n",
      "51.8107775079\n",
      "250.201756233\n",
      "Sanity flag= 1\n",
      "Are lanes detected? True True\n"
     ]
    },
    {
     "name": "stderr",
     "output_type": "stream",
     "text": [
      "\u001b[A\n",
      " 11%|█         | 132/1200 [00:49<06:49,  2.61it/s]"
     ]
    },
    {
     "name": "stdout",
     "output_type": "stream",
     "text": [
      "Sliding window being executed...\n",
      "58.6098065289\n",
      "197.229021278\n",
      "Sanity flag= 1\n",
      "Are lanes detected? True True\n"
     ]
    },
    {
     "name": "stderr",
     "output_type": "stream",
     "text": [
      "\u001b[A\n",
      " 11%|█         | 133/1200 [00:49<07:09,  2.48it/s]"
     ]
    },
    {
     "name": "stdout",
     "output_type": "stream",
     "text": [
      "Sliding window being executed...\n",
      "58.0829039448\n",
      "367.393503211\n",
      "Sanity flag= 1\n",
      "Are lanes detected? True True\n"
     ]
    },
    {
     "name": "stderr",
     "output_type": "stream",
     "text": [
      "\u001b[A\n",
      " 11%|█         | 134/1200 [00:50<06:56,  2.56it/s]"
     ]
    },
    {
     "name": "stdout",
     "output_type": "stream",
     "text": [
      "Sliding window being executed...\n",
      "59.2352587579\n",
      "74.4237728241\n",
      "Sanity flag= 0\n",
      "Are lanes detected? True True\n"
     ]
    },
    {
     "name": "stderr",
     "output_type": "stream",
     "text": [
      "\u001b[A\n",
      " 11%|█▏        | 135/1200 [00:50<06:54,  2.57it/s]"
     ]
    },
    {
     "name": "stdout",
     "output_type": "stream",
     "text": [
      "Sliding window being executed...\n",
      "1627.17626262\n",
      "22.5623692645\n",
      "Sanity flag= 1\n",
      "Are lanes detected? True True\n"
     ]
    },
    {
     "name": "stderr",
     "output_type": "stream",
     "text": [
      "\u001b[A\n",
      " 11%|█▏        | 136/1200 [00:50<06:47,  2.61it/s]"
     ]
    },
    {
     "name": "stdout",
     "output_type": "stream",
     "text": [
      "Sliding window being executed...\n",
      "51.5530096458\n",
      "23.0592031128\n",
      "Sanity flag= 1\n",
      "Are lanes detected? True True\n"
     ]
    },
    {
     "name": "stderr",
     "output_type": "stream",
     "text": [
      "\u001b[A\n",
      " 11%|█▏        | 137/1200 [00:51<06:42,  2.64it/s]"
     ]
    },
    {
     "name": "stdout",
     "output_type": "stream",
     "text": [
      "Sliding window being executed...\n",
      "49.3252796904\n",
      "22.3959505706\n",
      "Sanity flag= 1\n",
      "Are lanes detected? True True\n"
     ]
    },
    {
     "name": "stderr",
     "output_type": "stream",
     "text": [
      "\u001b[A\n",
      " 12%|█▏        | 138/1200 [00:51<06:41,  2.65it/s]"
     ]
    },
    {
     "name": "stdout",
     "output_type": "stream",
     "text": [
      "Sliding window being executed...\n",
      "45.227883199\n",
      "20.9328578909\n",
      "Sanity flag= 1\n",
      "Are lanes detected? True True\n"
     ]
    },
    {
     "name": "stderr",
     "output_type": "stream",
     "text": [
      "\u001b[A\n",
      " 12%|█▏        | 139/1200 [00:51<06:42,  2.63it/s]"
     ]
    },
    {
     "name": "stdout",
     "output_type": "stream",
     "text": [
      "Sliding window being executed...\n",
      "40.7088205033\n",
      "21.9496500626\n",
      "Sanity flag= 1\n",
      "Are lanes detected? True True\n"
     ]
    },
    {
     "name": "stderr",
     "output_type": "stream",
     "text": [
      "\u001b[A\n",
      " 12%|█▏        | 140/1200 [00:52<06:42,  2.63it/s]"
     ]
    },
    {
     "name": "stdout",
     "output_type": "stream",
     "text": [
      "Sliding window being executed...\n",
      "40.9234516421\n",
      "22.5759176032\n",
      "Sanity flag= 1\n",
      "Are lanes detected? True True\n"
     ]
    },
    {
     "name": "stderr",
     "output_type": "stream",
     "text": [
      "\u001b[A\n",
      " 12%|█▏        | 141/1200 [00:52<06:40,  2.64it/s]"
     ]
    },
    {
     "name": "stdout",
     "output_type": "stream",
     "text": [
      "Sliding window being executed...\n",
      "40.6213768697\n",
      "23.0910559717\n",
      "Sanity flag= 1\n",
      "Are lanes detected? True True\n"
     ]
    },
    {
     "name": "stderr",
     "output_type": "stream",
     "text": [
      "\u001b[A\n",
      " 12%|█▏        | 142/1200 [00:53<06:43,  2.62it/s]"
     ]
    },
    {
     "name": "stdout",
     "output_type": "stream",
     "text": [
      "Sliding window being executed...\n",
      "41.9282886998\n",
      "76.8881946794\n",
      "Sanity flag= 1\n",
      "Are lanes detected? True True\n"
     ]
    },
    {
     "name": "stderr",
     "output_type": "stream",
     "text": [
      "\u001b[A\n",
      " 12%|█▏        | 143/1200 [00:53<06:41,  2.63it/s]"
     ]
    },
    {
     "name": "stdout",
     "output_type": "stream",
     "text": [
      "Sliding window being executed...\n",
      "44.0514676081\n",
      "87.1404282572\n",
      "Sanity flag= 1\n",
      "Are lanes detected? True True\n"
     ]
    },
    {
     "name": "stderr",
     "output_type": "stream",
     "text": [
      "\u001b[A\n",
      " 12%|█▏        | 144/1200 [00:53<06:39,  2.64it/s]"
     ]
    },
    {
     "name": "stdout",
     "output_type": "stream",
     "text": [
      "Sliding window being executed...\n",
      "164.092885942\n",
      "22.2045403582\n",
      "Sanity flag= 1\n",
      "Are lanes detected? True True\n"
     ]
    },
    {
     "name": "stderr",
     "output_type": "stream",
     "text": [
      "\u001b[A\n",
      " 12%|█▏        | 145/1200 [00:54<06:39,  2.64it/s]"
     ]
    },
    {
     "name": "stdout",
     "output_type": "stream",
     "text": [
      "Sliding window being executed...\n",
      "123.880591154\n",
      "65.3698749741\n",
      "Sanity flag= 1\n",
      "Are lanes detected? True True\n"
     ]
    },
    {
     "name": "stderr",
     "output_type": "stream",
     "text": [
      "\u001b[A\n",
      " 12%|█▏        | 146/1200 [00:54<06:43,  2.61it/s]"
     ]
    },
    {
     "name": "stdout",
     "output_type": "stream",
     "text": [
      "Sliding window being executed...\n",
      "126.757708762\n",
      "32.2121503179\n",
      "Sanity flag= 1\n",
      "Are lanes detected? True True\n"
     ]
    },
    {
     "name": "stderr",
     "output_type": "stream",
     "text": [
      "\u001b[A\n",
      " 12%|█▏        | 147/1200 [00:55<06:42,  2.62it/s]"
     ]
    },
    {
     "name": "stdout",
     "output_type": "stream",
     "text": [
      "Sliding window being executed...\n",
      "99.4612412386\n",
      "32.2764311411\n",
      "Sanity flag= 1\n",
      "Are lanes detected? True True\n"
     ]
    },
    {
     "name": "stderr",
     "output_type": "stream",
     "text": [
      "\u001b[A\n",
      " 12%|█▏        | 148/1200 [00:55<06:41,  2.62it/s]"
     ]
    },
    {
     "name": "stdout",
     "output_type": "stream",
     "text": [
      "Sliding window being executed...\n",
      "93.4362278161\n",
      "199.891397232\n",
      "Sanity flag= 1\n",
      "Are lanes detected? True True\n"
     ]
    },
    {
     "name": "stderr",
     "output_type": "stream",
     "text": [
      "\u001b[A\n",
      " 12%|█▏        | 149/1200 [00:55<06:39,  2.63it/s]"
     ]
    },
    {
     "name": "stdout",
     "output_type": "stream",
     "text": [
      "Sliding window being executed...\n",
      "89.1024528029\n",
      "355.682493753\n",
      "Sanity flag= 1\n",
      "Are lanes detected? True True\n"
     ]
    },
    {
     "name": "stderr",
     "output_type": "stream",
     "text": [
      "\u001b[A\n",
      " 12%|█▎        | 150/1200 [00:56<06:38,  2.63it/s]"
     ]
    },
    {
     "name": "stdout",
     "output_type": "stream",
     "text": [
      "Sliding window being executed...\n",
      "117.615223478\n",
      "108.434466311\n",
      "Sanity flag= 1\n",
      "Are lanes detected? True True\n"
     ]
    },
    {
     "name": "stderr",
     "output_type": "stream",
     "text": [
      "\u001b[A\n",
      " 13%|█▎        | 151/1200 [00:56<06:37,  2.64it/s]"
     ]
    },
    {
     "name": "stdout",
     "output_type": "stream",
     "text": [
      "Sliding window being executed...\n",
      "69.6636013059\n",
      "61.9285303274\n",
      "Sanity flag= 1\n",
      "Are lanes detected? True True\n"
     ]
    },
    {
     "name": "stderr",
     "output_type": "stream",
     "text": [
      "\u001b[A\n",
      " 13%|█▎        | 152/1200 [00:56<06:36,  2.65it/s]"
     ]
    },
    {
     "name": "stdout",
     "output_type": "stream",
     "text": [
      "Sliding window being executed...\n",
      "56.0575828062\n",
      "48.7253026582\n",
      "Sanity flag= 0\n",
      "Are lanes detected? True True\n"
     ]
    },
    {
     "name": "stderr",
     "output_type": "stream",
     "text": [
      "\u001b[A\n",
      " 13%|█▎        | 153/1200 [00:57<06:36,  2.64it/s]"
     ]
    },
    {
     "name": "stdout",
     "output_type": "stream",
     "text": [
      "Sliding window being executed...\n",
      "51.9430214971\n",
      "39.0261994357\n",
      "Sanity flag= 1\n",
      "Are lanes detected? True True\n"
     ]
    },
    {
     "name": "stderr",
     "output_type": "stream",
     "text": [
      "\u001b[A\n",
      " 13%|█▎        | 154/1200 [00:57<06:41,  2.61it/s]"
     ]
    },
    {
     "name": "stdout",
     "output_type": "stream",
     "text": [
      "Sliding window being executed...\n",
      "68.7947363184\n",
      "25.6905652496\n",
      "Sanity flag= 1\n",
      "Are lanes detected? True True\n"
     ]
    },
    {
     "name": "stderr",
     "output_type": "stream",
     "text": [
      "\u001b[A\n",
      " 13%|█▎        | 155/1200 [00:58<06:38,  2.62it/s]"
     ]
    },
    {
     "name": "stdout",
     "output_type": "stream",
     "text": [
      "Sliding window being executed...\n",
      "19.6163523111\n",
      "36.5175680957\n",
      "Sanity flag= 1\n",
      "Are lanes detected? True True\n"
     ]
    },
    {
     "name": "stderr",
     "output_type": "stream",
     "text": [
      "\u001b[A\n",
      " 13%|█▎        | 156/1200 [00:58<06:37,  2.62it/s]"
     ]
    },
    {
     "name": "stdout",
     "output_type": "stream",
     "text": [
      "Sliding window being executed...\n",
      "55.7550198466\n",
      "39.7903520053\n",
      "Sanity flag= 1\n",
      "Are lanes detected? True True\n"
     ]
    },
    {
     "name": "stderr",
     "output_type": "stream",
     "text": [
      "\u001b[A\n",
      " 13%|█▎        | 157/1200 [00:58<06:44,  2.58it/s]"
     ]
    },
    {
     "name": "stdout",
     "output_type": "stream",
     "text": [
      "Sliding window being executed...\n",
      "52.8737612334\n",
      "29.4318443347\n",
      "Sanity flag= 1\n",
      "Are lanes detected? True True\n"
     ]
    },
    {
     "name": "stderr",
     "output_type": "stream",
     "text": [
      "\u001b[A\n",
      " 13%|█▎        | 158/1200 [00:59<06:34,  2.64it/s]"
     ]
    },
    {
     "name": "stdout",
     "output_type": "stream",
     "text": [
      "Sliding window being executed...\n",
      "40.6925282638\n",
      "191.17049347\n",
      "Sanity flag= 1\n",
      "Are lanes detected? True True\n"
     ]
    },
    {
     "name": "stderr",
     "output_type": "stream",
     "text": [
      "\u001b[A\n",
      " 13%|█▎        | 159/1200 [00:59<06:40,  2.60it/s]"
     ]
    },
    {
     "name": "stdout",
     "output_type": "stream",
     "text": [
      "Sliding window being executed...\n",
      "34.4991430699\n",
      "21.8029392846\n",
      "Sanity flag= 1\n",
      "Are lanes detected? True True\n"
     ]
    },
    {
     "name": "stderr",
     "output_type": "stream",
     "text": [
      "\u001b[A\n",
      " 13%|█▎        | 160/1200 [00:59<06:38,  2.61it/s]"
     ]
    },
    {
     "name": "stdout",
     "output_type": "stream",
     "text": [
      "Sliding window being executed...\n",
      "1092.03452643\n",
      "27.5931092158\n",
      "Sanity flag= 1\n",
      "Are lanes detected? True True\n"
     ]
    },
    {
     "name": "stderr",
     "output_type": "stream",
     "text": [
      "\u001b[A\n",
      " 13%|█▎        | 161/1200 [01:00<06:37,  2.62it/s]"
     ]
    },
    {
     "name": "stdout",
     "output_type": "stream",
     "text": [
      "Sliding window being executed...\n",
      "212.725269558\n",
      "32.8866637193\n",
      "Sanity flag= 1\n",
      "Are lanes detected? True True\n"
     ]
    },
    {
     "name": "stderr",
     "output_type": "stream",
     "text": [
      "\u001b[A\n",
      " 14%|█▎        | 162/1200 [01:00<06:32,  2.65it/s]"
     ]
    },
    {
     "name": "stdout",
     "output_type": "stream",
     "text": [
      "Sliding window being executed...\n",
      "104.054502999\n",
      "31.6650705966\n",
      "Sanity flag= 1\n",
      "Are lanes detected? True True\n"
     ]
    },
    {
     "name": "stderr",
     "output_type": "stream",
     "text": [
      "\u001b[A\n",
      " 14%|█▎        | 163/1200 [01:01<06:51,  2.52it/s]"
     ]
    },
    {
     "name": "stdout",
     "output_type": "stream",
     "text": [
      "Sliding window being executed...\n",
      "146.0147665\n",
      "25.448305956\n",
      "Sanity flag= 1\n",
      "Are lanes detected? True True\n"
     ]
    },
    {
     "name": "stderr",
     "output_type": "stream",
     "text": [
      "\u001b[A\n",
      " 14%|█▎        | 164/1200 [01:01<06:40,  2.59it/s]"
     ]
    },
    {
     "name": "stdout",
     "output_type": "stream",
     "text": [
      "Sliding window being executed...\n",
      "89.974301087\n",
      "17.6549533368\n",
      "Sanity flag= 1\n",
      "Are lanes detected? True True\n"
     ]
    },
    {
     "name": "stderr",
     "output_type": "stream",
     "text": [
      "\u001b[A\n",
      " 14%|█▍        | 165/1200 [01:01<06:33,  2.63it/s]"
     ]
    },
    {
     "name": "stdout",
     "output_type": "stream",
     "text": [
      "Sliding window being executed...\n",
      "88.6728449826\n",
      "150.320997491\n",
      "Sanity flag= 1\n",
      "Are lanes detected? True True\n"
     ]
    },
    {
     "name": "stderr",
     "output_type": "stream",
     "text": [
      "\u001b[A\n",
      " 14%|█▍        | 166/1200 [01:02<06:26,  2.67it/s]"
     ]
    },
    {
     "name": "stdout",
     "output_type": "stream",
     "text": [
      "Sliding window being executed...\n",
      "13.8691154098\n",
      "105.482542138\n",
      "Sanity flag= 1\n",
      "Are lanes detected? True True\n"
     ]
    },
    {
     "name": "stderr",
     "output_type": "stream",
     "text": [
      "\u001b[A\n",
      " 14%|█▍        | 167/1200 [01:02<06:20,  2.71it/s]"
     ]
    },
    {
     "name": "stdout",
     "output_type": "stream",
     "text": [
      "Sliding window being executed...\n",
      "54.2608622442\n",
      "31.9005382824\n",
      "Sanity flag= 1\n",
      "Are lanes detected? True True\n"
     ]
    },
    {
     "name": "stderr",
     "output_type": "stream",
     "text": [
      "\u001b[A\n",
      " 14%|█▍        | 168/1200 [01:02<06:21,  2.71it/s]"
     ]
    },
    {
     "name": "stdout",
     "output_type": "stream",
     "text": [
      "Sliding window being executed...\n",
      "91.1568477521\n",
      "22.115644919\n",
      "Sanity flag= 1\n",
      "Are lanes detected? True True\n"
     ]
    },
    {
     "name": "stderr",
     "output_type": "stream",
     "text": [
      "\u001b[A\n",
      " 14%|█▍        | 169/1200 [01:03<06:20,  2.71it/s]"
     ]
    },
    {
     "name": "stdout",
     "output_type": "stream",
     "text": [
      "Sliding window being executed...\n",
      "83.358576653\n",
      "11.9931385378\n",
      "Sanity flag= 1\n",
      "Are lanes detected? True True\n"
     ]
    },
    {
     "name": "stderr",
     "output_type": "stream",
     "text": [
      "\u001b[A\n",
      " 14%|█▍        | 170/1200 [01:03<06:17,  2.73it/s]"
     ]
    },
    {
     "name": "stdout",
     "output_type": "stream",
     "text": [
      "Sliding window being executed...\n",
      "117.029162082\n",
      "10.4902891321\n",
      "Sanity flag= 1\n",
      "Are lanes detected? True True\n"
     ]
    },
    {
     "name": "stderr",
     "output_type": "stream",
     "text": [
      "\u001b[A\n",
      " 14%|█▍        | 171/1200 [01:04<06:22,  2.69it/s]"
     ]
    },
    {
     "name": "stdout",
     "output_type": "stream",
     "text": [
      "Sliding window being executed...\n",
      "13.3652792035\n",
      "14.2773349295\n",
      "Sanity flag= 1\n",
      "Are lanes detected? True True\n"
     ]
    },
    {
     "name": "stderr",
     "output_type": "stream",
     "text": [
      "\u001b[A\n",
      " 14%|█▍        | 172/1200 [01:04<06:24,  2.67it/s]"
     ]
    },
    {
     "name": "stdout",
     "output_type": "stream",
     "text": [
      "Sliding window being executed...\n",
      "60.4816769245\n",
      "8.20129825464\n",
      "Sanity flag= 1\n",
      "Are lanes detected? True True\n"
     ]
    },
    {
     "name": "stderr",
     "output_type": "stream",
     "text": [
      "\u001b[A\n",
      " 14%|█▍        | 173/1200 [01:04<06:23,  2.68it/s]"
     ]
    },
    {
     "name": "stdout",
     "output_type": "stream",
     "text": [
      "Sliding window being executed...\n",
      "171.746967935\n",
      "8.44457917819\n",
      "Sanity flag= 1\n",
      "Are lanes detected? True True\n"
     ]
    },
    {
     "name": "stderr",
     "output_type": "stream",
     "text": [
      "\u001b[A\n",
      " 14%|█▍        | 174/1200 [01:05<06:23,  2.67it/s]"
     ]
    },
    {
     "name": "stdout",
     "output_type": "stream",
     "text": [
      "Sliding window being executed...\n",
      "62.2102578802\n",
      "1641.82372195\n",
      "Sanity flag= 1\n",
      "Are lanes detected? True True\n"
     ]
    },
    {
     "name": "stderr",
     "output_type": "stream",
     "text": [
      "\u001b[A\n",
      " 15%|█▍        | 175/1200 [01:05<06:21,  2.69it/s]"
     ]
    },
    {
     "name": "stdout",
     "output_type": "stream",
     "text": [
      "Sliding window being executed...\n",
      "66.172055508\n",
      "301.20754112\n",
      "Sanity flag= 1\n",
      "Are lanes detected? True True\n"
     ]
    },
    {
     "name": "stderr",
     "output_type": "stream",
     "text": [
      "\u001b[A\n",
      " 15%|█▍        | 176/1200 [01:05<06:22,  2.68it/s]"
     ]
    },
    {
     "name": "stdout",
     "output_type": "stream",
     "text": [
      "Sliding window being executed...\n",
      "22.5132963111\n",
      "174.61559731\n",
      "Sanity flag= 1\n",
      "Are lanes detected? True True\n"
     ]
    },
    {
     "name": "stderr",
     "output_type": "stream",
     "text": [
      "\u001b[A\n",
      " 15%|█▍        | 177/1200 [01:06<06:20,  2.69it/s]"
     ]
    },
    {
     "name": "stdout",
     "output_type": "stream",
     "text": [
      "Sliding window being executed...\n",
      "13.486463498\n",
      "169.617886464\n",
      "Sanity flag= 1\n",
      "Are lanes detected? True True\n"
     ]
    },
    {
     "name": "stderr",
     "output_type": "stream",
     "text": [
      "\u001b[A\n",
      " 15%|█▍        | 178/1200 [01:06<06:18,  2.70it/s]"
     ]
    },
    {
     "name": "stdout",
     "output_type": "stream",
     "text": [
      "Sliding window being executed...\n",
      "15.5888029046\n",
      "246.757620549\n",
      "Sanity flag= 1\n",
      "Are lanes detected? True True\n"
     ]
    },
    {
     "name": "stderr",
     "output_type": "stream",
     "text": [
      "\u001b[A\n",
      " 15%|█▍        | 179/1200 [01:07<06:18,  2.69it/s]"
     ]
    },
    {
     "name": "stdout",
     "output_type": "stream",
     "text": [
      "Sliding window being executed...\n",
      "14.7230224368\n",
      "1745.27599236\n",
      "Sanity flag= 1\n",
      "Are lanes detected? True True\n"
     ]
    },
    {
     "name": "stderr",
     "output_type": "stream",
     "text": [
      "\u001b[A\n",
      " 15%|█▌        | 180/1200 [01:07<06:21,  2.68it/s]"
     ]
    },
    {
     "name": "stdout",
     "output_type": "stream",
     "text": [
      "Sliding window being executed...\n",
      "19.7757928811\n",
      "101.470571465\n",
      "Sanity flag= 1\n",
      "Are lanes detected? True True\n"
     ]
    },
    {
     "name": "stderr",
     "output_type": "stream",
     "text": [
      "\u001b[A\n",
      " 15%|█▌        | 181/1200 [01:07<06:24,  2.65it/s]"
     ]
    },
    {
     "name": "stdout",
     "output_type": "stream",
     "text": [
      "Sliding window being executed...\n",
      "9.5730883708\n",
      "5793.12443044\n",
      "Sanity flag= 1\n",
      "Are lanes detected? True True\n"
     ]
    },
    {
     "name": "stderr",
     "output_type": "stream",
     "text": [
      "\u001b[A\n",
      " 15%|█▌        | 182/1200 [01:08<06:24,  2.65it/s]"
     ]
    },
    {
     "name": "stdout",
     "output_type": "stream",
     "text": [
      "Sliding window being executed...\n",
      "9.69965806959\n",
      "634.221591014\n",
      "Sanity flag= 1\n",
      "Are lanes detected? True True\n"
     ]
    },
    {
     "name": "stderr",
     "output_type": "stream",
     "text": [
      "\u001b[A\n",
      " 15%|█▌        | 183/1200 [01:08<06:22,  2.66it/s]"
     ]
    },
    {
     "name": "stdout",
     "output_type": "stream",
     "text": [
      "Sliding window being executed...\n",
      "11.3142887495\n",
      "630.050724616\n",
      "Sanity flag= 1\n",
      "Are lanes detected? True True\n"
     ]
    },
    {
     "name": "stderr",
     "output_type": "stream",
     "text": [
      "\u001b[A\n",
      " 15%|█▌        | 184/1200 [01:08<06:19,  2.68it/s]"
     ]
    },
    {
     "name": "stdout",
     "output_type": "stream",
     "text": [
      "Sliding window being executed...\n",
      "1117.59245491\n",
      "891.351302535\n",
      "Sanity flag= 0\n",
      "Are lanes detected? True True\n"
     ]
    },
    {
     "name": "stderr",
     "output_type": "stream",
     "text": [
      "\u001b[A\n",
      " 15%|█▌        | 185/1200 [01:09<06:18,  2.68it/s]"
     ]
    },
    {
     "name": "stdout",
     "output_type": "stream",
     "text": [
      "Sliding window being executed...\n",
      "1424.04276388\n",
      "2372.81841852\n",
      "Sanity flag= 1\n",
      "Are lanes detected? True True\n"
     ]
    },
    {
     "name": "stderr",
     "output_type": "stream",
     "text": [
      "\u001b[A\n",
      " 16%|█▌        | 186/1200 [01:09<06:18,  2.68it/s]"
     ]
    },
    {
     "name": "stdout",
     "output_type": "stream",
     "text": [
      "Sliding window being executed...\n",
      "32777.5947437\n",
      "11136.1167416\n",
      "Sanity flag= 1\n",
      "Are lanes detected? True True\n"
     ]
    },
    {
     "name": "stderr",
     "output_type": "stream",
     "text": [
      "\u001b[A\n",
      " 16%|█▌        | 187/1200 [01:10<06:19,  2.67it/s]"
     ]
    },
    {
     "name": "stdout",
     "output_type": "stream",
     "text": [
      "Sliding window being executed...\n",
      "692.370006638\n",
      "573.390589067\n",
      "Sanity flag= 0\n",
      "Are lanes detected? True True\n"
     ]
    },
    {
     "name": "stderr",
     "output_type": "stream",
     "text": [
      "\u001b[A\n",
      " 16%|█▌        | 188/1200 [01:10<06:20,  2.66it/s]"
     ]
    },
    {
     "name": "stdout",
     "output_type": "stream",
     "text": [
      "Sliding window being executed...\n",
      "374.616198014\n",
      "1862.16386819\n",
      "Sanity flag= 1\n",
      "Are lanes detected? True True\n"
     ]
    },
    {
     "name": "stderr",
     "output_type": "stream",
     "text": [
      "\u001b[A\n",
      " 16%|█▌        | 189/1200 [01:10<06:20,  2.66it/s]"
     ]
    },
    {
     "name": "stdout",
     "output_type": "stream",
     "text": [
      "Sliding window being executed...\n",
      "257.684492724\n",
      "417.632466112\n",
      "Sanity flag= 0\n",
      "Are lanes detected? True True\n"
     ]
    },
    {
     "name": "stderr",
     "output_type": "stream",
     "text": [
      "\u001b[A\n",
      " 16%|█▌        | 190/1200 [01:11<06:19,  2.66it/s]"
     ]
    },
    {
     "name": "stdout",
     "output_type": "stream",
     "text": [
      "Sliding window being executed...\n",
      "313.73432027\n",
      "9840.44025891\n",
      "Sanity flag= 1\n",
      "Are lanes detected? True True\n"
     ]
    },
    {
     "name": "stderr",
     "output_type": "stream",
     "text": [
      "\u001b[A\n",
      " 16%|█▌        | 191/1200 [01:11<06:17,  2.68it/s]"
     ]
    },
    {
     "name": "stdout",
     "output_type": "stream",
     "text": [
      "Sliding window being executed...\n",
      "627.197363978\n",
      "365.358892399\n",
      "Sanity flag= 0\n",
      "Are lanes detected? True True\n"
     ]
    },
    {
     "name": "stderr",
     "output_type": "stream",
     "text": [
      "\u001b[A\n",
      " 16%|█▌        | 192/1200 [01:11<06:16,  2.68it/s]"
     ]
    },
    {
     "name": "stdout",
     "output_type": "stream",
     "text": [
      "Sliding window being executed...\n",
      "388.45325258\n",
      "608.275302274\n",
      "Sanity flag= 0\n",
      "Are lanes detected? True True\n"
     ]
    },
    {
     "name": "stderr",
     "output_type": "stream",
     "text": [
      "\u001b[A\n",
      " 16%|█▌        | 193/1200 [01:12<06:33,  2.56it/s]"
     ]
    },
    {
     "name": "stdout",
     "output_type": "stream",
     "text": [
      "Sliding window being executed...\n",
      "14367.4102841\n",
      "190.20895912\n",
      "Sanity flag= 1\n",
      "Are lanes detected? True True\n"
     ]
    },
    {
     "name": "stderr",
     "output_type": "stream",
     "text": [
      "\u001b[A\n",
      " 16%|█▌        | 194/1200 [01:12<06:23,  2.62it/s]"
     ]
    },
    {
     "name": "stdout",
     "output_type": "stream",
     "text": [
      "Sliding window being executed...\n",
      "1755.13125387\n",
      "333.346120816\n",
      "Sanity flag= 1\n",
      "Are lanes detected? True True\n"
     ]
    },
    {
     "name": "stderr",
     "output_type": "stream",
     "text": [
      "\u001b[A\n",
      " 16%|█▋        | 195/1200 [01:13<06:21,  2.63it/s]"
     ]
    },
    {
     "name": "stdout",
     "output_type": "stream",
     "text": [
      "Sliding window being executed...\n",
      "570.617987536\n",
      "1180.29656564\n",
      "Sanity flag= 0\n",
      "Are lanes detected? True True\n"
     ]
    },
    {
     "name": "stderr",
     "output_type": "stream",
     "text": [
      "\u001b[A\n",
      " 16%|█▋        | 196/1200 [01:13<06:20,  2.64it/s]"
     ]
    },
    {
     "name": "stdout",
     "output_type": "stream",
     "text": [
      "Sliding window being executed...\n",
      "750.50036608\n",
      "385.198311438\n",
      "Sanity flag= 0\n",
      "Are lanes detected? True True\n"
     ]
    },
    {
     "name": "stderr",
     "output_type": "stream",
     "text": [
      "\u001b[A\n",
      " 16%|█▋        | 197/1200 [01:13<06:21,  2.63it/s]"
     ]
    },
    {
     "name": "stdout",
     "output_type": "stream",
     "text": [
      "Sliding window being executed...\n",
      "742.899774382\n",
      "164.19026571\n",
      "Sanity flag= 0\n",
      "Are lanes detected? True True\n"
     ]
    },
    {
     "name": "stderr",
     "output_type": "stream",
     "text": [
      "\u001b[A\n",
      " 16%|█▋        | 198/1200 [01:14<06:22,  2.62it/s]"
     ]
    },
    {
     "name": "stdout",
     "output_type": "stream",
     "text": [
      "Sliding window being executed...\n",
      "2069.05428851\n",
      "309.053869701\n",
      "Sanity flag= 1\n",
      "Are lanes detected? True True\n"
     ]
    },
    {
     "name": "stderr",
     "output_type": "stream",
     "text": [
      "\u001b[A\n",
      " 17%|█▋        | 199/1200 [01:14<06:21,  2.62it/s]"
     ]
    },
    {
     "name": "stdout",
     "output_type": "stream",
     "text": [
      "Sliding window being executed...\n",
      "1137.0861942\n",
      "8685.08122196\n",
      "Sanity flag= 1\n",
      "Are lanes detected? True True\n"
     ]
    },
    {
     "name": "stderr",
     "output_type": "stream",
     "text": [
      "\u001b[A\n",
      " 17%|█▋        | 200/1200 [01:15<06:24,  2.60it/s]"
     ]
    },
    {
     "name": "stdout",
     "output_type": "stream",
     "text": [
      "Sliding window being executed...\n",
      "2413.796523\n",
      "2873.7544777\n",
      "Sanity flag= 1\n",
      "Are lanes detected? True True\n"
     ]
    },
    {
     "name": "stderr",
     "output_type": "stream",
     "text": [
      "\u001b[A\n",
      " 17%|█▋        | 201/1200 [01:15<06:22,  2.61it/s]"
     ]
    },
    {
     "name": "stdout",
     "output_type": "stream",
     "text": [
      "Sliding window being executed...\n",
      "261.963876428\n",
      "255.388574587\n",
      "Sanity flag= 0\n",
      "Are lanes detected? True True\n"
     ]
    },
    {
     "name": "stderr",
     "output_type": "stream",
     "text": [
      "\u001b[A\n",
      " 17%|█▋        | 202/1200 [01:15<06:27,  2.58it/s]"
     ]
    },
    {
     "name": "stdout",
     "output_type": "stream",
     "text": [
      "Sliding window being executed...\n",
      "403.639977768\n",
      "1460.78530341\n",
      "Sanity flag= 1\n",
      "Are lanes detected? True True\n"
     ]
    },
    {
     "name": "stderr",
     "output_type": "stream",
     "text": [
      "\u001b[A\n",
      " 17%|█▋        | 203/1200 [01:16<06:30,  2.55it/s]"
     ]
    },
    {
     "name": "stdout",
     "output_type": "stream",
     "text": [
      "Sliding window being executed...\n",
      "388.828157727\n",
      "689.822897648\n",
      "Sanity flag= 0\n",
      "Are lanes detected? True True\n"
     ]
    },
    {
     "name": "stderr",
     "output_type": "stream",
     "text": [
      "\u001b[A\n",
      " 17%|█▋        | 204/1200 [01:16<06:32,  2.54it/s]"
     ]
    },
    {
     "name": "stdout",
     "output_type": "stream",
     "text": [
      "Sliding window being executed...\n",
      "1231.06260275\n",
      "1413.6087426\n",
      "Sanity flag= 1\n",
      "Are lanes detected? True True\n"
     ]
    },
    {
     "name": "stderr",
     "output_type": "stream",
     "text": [
      "\u001b[A\n",
      " 17%|█▋        | 205/1200 [01:17<07:15,  2.28it/s]"
     ]
    },
    {
     "name": "stdout",
     "output_type": "stream",
     "text": [
      "Sliding window being executed...\n",
      "494.276468059\n",
      "497.699653027\n",
      "Sanity flag= 0\n",
      "Are lanes detected? True True\n"
     ]
    },
    {
     "name": "stderr",
     "output_type": "stream",
     "text": [
      "\u001b[A\n",
      " 17%|█▋        | 206/1200 [01:17<08:17,  2.00it/s]"
     ]
    },
    {
     "name": "stdout",
     "output_type": "stream",
     "text": [
      "Sliding window being executed...\n",
      "698.984706857\n",
      "420.728179468\n",
      "Sanity flag= 0\n",
      "Are lanes detected? True True\n"
     ]
    },
    {
     "name": "stderr",
     "output_type": "stream",
     "text": [
      "\u001b[A\n",
      " 17%|█▋        | 207/1200 [01:18<09:08,  1.81it/s]"
     ]
    },
    {
     "name": "stdout",
     "output_type": "stream",
     "text": [
      "Sliding window being executed...\n",
      "1682.0150962\n",
      "1121.8195679\n",
      "Sanity flag= 1\n",
      "Are lanes detected? True True\n"
     ]
    },
    {
     "name": "stderr",
     "output_type": "stream",
     "text": [
      "\u001b[A\n",
      " 17%|█▋        | 208/1200 [01:19<09:42,  1.70it/s]"
     ]
    },
    {
     "name": "stdout",
     "output_type": "stream",
     "text": [
      "Sliding window being executed...\n",
      "1410.8068459\n",
      "1480.45783191\n",
      "Sanity flag= 1\n",
      "Are lanes detected? True True\n"
     ]
    },
    {
     "name": "stderr",
     "output_type": "stream",
     "text": [
      "\u001b[A\n",
      " 17%|█▋        | 209/1200 [01:19<10:03,  1.64it/s]"
     ]
    },
    {
     "name": "stdout",
     "output_type": "stream",
     "text": [
      "Sliding window being executed...\n",
      "3443.554639\n",
      "10921.6848684\n",
      "Sanity flag= 1\n",
      "Are lanes detected? True True\n"
     ]
    },
    {
     "name": "stderr",
     "output_type": "stream",
     "text": [
      "\u001b[A\n",
      " 18%|█▊        | 210/1200 [01:20<09:09,  1.80it/s]"
     ]
    },
    {
     "name": "stdout",
     "output_type": "stream",
     "text": [
      "Sliding window being executed...\n",
      "721.541683356\n",
      "1189.47928188\n",
      "Sanity flag= 0\n",
      "Are lanes detected? True True\n"
     ]
    },
    {
     "name": "stderr",
     "output_type": "stream",
     "text": [
      "\u001b[A\n",
      " 18%|█▊        | 211/1200 [01:20<08:23,  1.96it/s]"
     ]
    },
    {
     "name": "stdout",
     "output_type": "stream",
     "text": [
      "Sliding window being executed...\n",
      "535.798628199\n",
      "1571.22847041\n",
      "Sanity flag= 1\n",
      "Are lanes detected? True True\n"
     ]
    },
    {
     "name": "stderr",
     "output_type": "stream",
     "text": [
      "\u001b[A\n",
      " 18%|█▊        | 212/1200 [01:21<07:48,  2.11it/s]"
     ]
    },
    {
     "name": "stdout",
     "output_type": "stream",
     "text": [
      "Sliding window being executed...\n",
      "706.011095806\n",
      "1246.69661195\n",
      "Sanity flag= 1\n",
      "Are lanes detected? True True\n"
     ]
    },
    {
     "name": "stderr",
     "output_type": "stream",
     "text": [
      "\u001b[A\n",
      " 18%|█▊        | 213/1200 [01:21<07:23,  2.22it/s]"
     ]
    },
    {
     "name": "stdout",
     "output_type": "stream",
     "text": [
      "Sliding window being executed...\n",
      "760.299658426\n",
      "448.432756608\n",
      "Sanity flag= 0\n",
      "Are lanes detected? True True\n"
     ]
    },
    {
     "name": "stderr",
     "output_type": "stream",
     "text": [
      "\u001b[A\n",
      " 18%|█▊        | 214/1200 [01:21<07:08,  2.30it/s]"
     ]
    },
    {
     "name": "stdout",
     "output_type": "stream",
     "text": [
      "Sliding window being executed...\n",
      "567.207921097\n",
      "594.11279595\n",
      "Sanity flag= 0\n",
      "Are lanes detected? True True\n"
     ]
    },
    {
     "name": "stderr",
     "output_type": "stream",
     "text": [
      "\u001b[A\n",
      " 18%|█▊        | 215/1200 [01:22<06:57,  2.36it/s]"
     ]
    },
    {
     "name": "stdout",
     "output_type": "stream",
     "text": [
      "Sliding window being executed...\n",
      "1867.3667616\n",
      "954.684566574\n",
      "Sanity flag= 1\n",
      "Are lanes detected? True True\n"
     ]
    },
    {
     "name": "stderr",
     "output_type": "stream",
     "text": [
      "\u001b[A\n",
      " 18%|█▊        | 216/1200 [01:22<06:49,  2.41it/s]"
     ]
    },
    {
     "name": "stdout",
     "output_type": "stream",
     "text": [
      "Sliding window being executed...\n",
      "1376.96716776\n",
      "957.171303357\n",
      "Sanity flag= 1\n",
      "Are lanes detected? True True\n"
     ]
    },
    {
     "name": "stderr",
     "output_type": "stream",
     "text": [
      "\u001b[A\n",
      " 18%|█▊        | 217/1200 [01:23<06:45,  2.43it/s]"
     ]
    },
    {
     "name": "stdout",
     "output_type": "stream",
     "text": [
      "Sliding window being executed...\n",
      "691819.082637\n",
      "850.443058051\n",
      "Sanity flag= 1\n",
      "Are lanes detected? True True\n"
     ]
    },
    {
     "name": "stderr",
     "output_type": "stream",
     "text": [
      "\u001b[A\n",
      " 18%|█▊        | 218/1200 [01:23<06:41,  2.45it/s]"
     ]
    },
    {
     "name": "stdout",
     "output_type": "stream",
     "text": [
      "Sliding window being executed...\n",
      "710.846103525\n",
      "814.748911373\n",
      "Sanity flag= 0\n",
      "Are lanes detected? True True\n"
     ]
    },
    {
     "name": "stderr",
     "output_type": "stream",
     "text": [
      "\u001b[A\n",
      " 18%|█▊        | 219/1200 [01:23<06:37,  2.47it/s]"
     ]
    },
    {
     "name": "stdout",
     "output_type": "stream",
     "text": [
      "Sliding window being executed...\n",
      "1160.09929625\n",
      "787.90746746\n",
      "Sanity flag= 0\n",
      "Are lanes detected? True True\n"
     ]
    },
    {
     "name": "stderr",
     "output_type": "stream",
     "text": [
      "\u001b[A\n",
      " 18%|█▊        | 220/1200 [01:24<06:36,  2.47it/s]"
     ]
    },
    {
     "name": "stdout",
     "output_type": "stream",
     "text": [
      "Sliding window being executed...\n",
      "1017.26067219\n",
      "5395.40194937\n",
      "Sanity flag= 1\n",
      "Are lanes detected? True True\n"
     ]
    },
    {
     "name": "stderr",
     "output_type": "stream",
     "text": [
      "\u001b[A\n",
      " 18%|█▊        | 221/1200 [01:24<06:35,  2.47it/s]"
     ]
    },
    {
     "name": "stdout",
     "output_type": "stream",
     "text": [
      "Sliding window being executed...\n",
      "7253.97491475\n",
      "884.40705047\n",
      "Sanity flag= 1\n",
      "Are lanes detected? True True\n"
     ]
    },
    {
     "name": "stderr",
     "output_type": "stream",
     "text": [
      "\u001b[A\n",
      " 18%|█▊        | 222/1200 [01:25<06:35,  2.47it/s]"
     ]
    },
    {
     "name": "stdout",
     "output_type": "stream",
     "text": [
      "Sliding window being executed...\n",
      "933.784482167\n",
      "24543.1302432\n",
      "Sanity flag= 1\n",
      "Are lanes detected? True True\n"
     ]
    },
    {
     "name": "stderr",
     "output_type": "stream",
     "text": [
      "\u001b[A\n",
      " 19%|█▊        | 223/1200 [01:25<06:47,  2.40it/s]"
     ]
    },
    {
     "name": "stdout",
     "output_type": "stream",
     "text": [
      "Sliding window being executed...\n",
      "684.315699249\n",
      "1180.0895162\n",
      "Sanity flag= 0\n",
      "Are lanes detected? True True\n"
     ]
    },
    {
     "name": "stderr",
     "output_type": "stream",
     "text": [
      "\u001b[A\n",
      " 19%|█▊        | 224/1200 [01:25<06:37,  2.45it/s]"
     ]
    },
    {
     "name": "stdout",
     "output_type": "stream",
     "text": [
      "Sliding window being executed...\n",
      "1333.61663915\n",
      "109725.24102\n",
      "Sanity flag= 1\n",
      "Are lanes detected? True True\n"
     ]
    },
    {
     "name": "stderr",
     "output_type": "stream",
     "text": [
      "\u001b[A\n",
      " 19%|█▉        | 225/1200 [01:26<06:38,  2.45it/s]"
     ]
    },
    {
     "name": "stdout",
     "output_type": "stream",
     "text": [
      "Sliding window being executed...\n",
      "2804.25103334\n",
      "3601.39342954\n",
      "Sanity flag= 1\n",
      "Are lanes detected? True True\n"
     ]
    },
    {
     "name": "stderr",
     "output_type": "stream",
     "text": [
      "\u001b[A\n",
      " 19%|█▉        | 226/1200 [01:26<06:37,  2.45it/s]"
     ]
    },
    {
     "name": "stdout",
     "output_type": "stream",
     "text": [
      "Sliding window being executed...\n",
      "1455.81318098\n",
      "3843.83951079\n",
      "Sanity flag= 1\n",
      "Are lanes detected? True True\n"
     ]
    },
    {
     "name": "stderr",
     "output_type": "stream",
     "text": [
      "\u001b[A\n",
      " 19%|█▉        | 227/1200 [01:27<06:36,  2.46it/s]"
     ]
    },
    {
     "name": "stdout",
     "output_type": "stream",
     "text": [
      "Sliding window being executed...\n",
      "2898.48919638\n",
      "11880.1363805\n",
      "Sanity flag= 1\n",
      "Are lanes detected? True True\n"
     ]
    },
    {
     "name": "stderr",
     "output_type": "stream",
     "text": [
      "\u001b[A\n",
      " 19%|█▉        | 228/1200 [01:27<06:34,  2.46it/s]"
     ]
    },
    {
     "name": "stdout",
     "output_type": "stream",
     "text": [
      "Sliding window being executed...\n",
      "2322.09052458\n",
      "1448.03999255\n",
      "Sanity flag= 1\n",
      "Are lanes detected? True True\n"
     ]
    },
    {
     "name": "stderr",
     "output_type": "stream",
     "text": [
      "\u001b[A\n",
      " 19%|█▉        | 229/1200 [01:27<06:33,  2.47it/s]"
     ]
    },
    {
     "name": "stdout",
     "output_type": "stream",
     "text": [
      "Sliding window being executed...\n",
      "17052.484532\n",
      "3555.80358112\n",
      "Sanity flag= 1\n",
      "Are lanes detected? True True\n"
     ]
    },
    {
     "name": "stderr",
     "output_type": "stream",
     "text": [
      "\u001b[A\n",
      " 19%|█▉        | 230/1200 [01:28<06:32,  2.47it/s]"
     ]
    },
    {
     "name": "stdout",
     "output_type": "stream",
     "text": [
      "Sliding window being executed...\n",
      "975.591572892\n",
      "15457.9680237\n",
      "Sanity flag= 1\n",
      "Are lanes detected? True True\n"
     ]
    },
    {
     "name": "stderr",
     "output_type": "stream",
     "text": [
      "\u001b[A\n",
      " 19%|█▉        | 231/1200 [01:28<06:34,  2.46it/s]"
     ]
    },
    {
     "name": "stdout",
     "output_type": "stream",
     "text": [
      "Sliding window being executed...\n",
      "899.116312734\n",
      "4161.93739358\n",
      "Sanity flag= 1\n",
      "Are lanes detected? True True\n"
     ]
    },
    {
     "name": "stderr",
     "output_type": "stream",
     "text": [
      "\u001b[A\n",
      " 19%|█▉        | 232/1200 [01:29<06:29,  2.48it/s]"
     ]
    },
    {
     "name": "stdout",
     "output_type": "stream",
     "text": [
      "Sliding window being executed...\n",
      "130775.099387\n",
      "1072.28369855\n",
      "Sanity flag= 1\n",
      "Are lanes detected? True True\n"
     ]
    },
    {
     "name": "stderr",
     "output_type": "stream",
     "text": [
      "\u001b[A\n",
      " 19%|█▉        | 233/1200 [01:29<06:26,  2.50it/s]"
     ]
    },
    {
     "name": "stdout",
     "output_type": "stream",
     "text": [
      "Sliding window being executed...\n",
      "437.231521312\n",
      "1144.29891189\n",
      "Sanity flag= 0\n",
      "Are lanes detected? True True\n"
     ]
    },
    {
     "name": "stderr",
     "output_type": "stream",
     "text": [
      "\u001b[A\n",
      " 20%|█▉        | 234/1200 [01:29<06:27,  2.49it/s]"
     ]
    },
    {
     "name": "stdout",
     "output_type": "stream",
     "text": [
      "Sliding window being executed...\n",
      "851.242950472\n",
      "536.340812562\n",
      "Sanity flag= 0\n",
      "Are lanes detected? True True\n"
     ]
    },
    {
     "name": "stderr",
     "output_type": "stream",
     "text": [
      "\u001b[A\n",
      " 20%|█▉        | 235/1200 [01:30<06:25,  2.50it/s]"
     ]
    },
    {
     "name": "stdout",
     "output_type": "stream",
     "text": [
      "Sliding window being executed...\n",
      "890.178971512\n",
      "1048.3840088\n",
      "Sanity flag= 0\n",
      "Are lanes detected? True True\n"
     ]
    },
    {
     "name": "stderr",
     "output_type": "stream",
     "text": [
      "\u001b[A\n",
      " 20%|█▉        | 236/1200 [01:30<06:25,  2.50it/s]"
     ]
    },
    {
     "name": "stdout",
     "output_type": "stream",
     "text": [
      "Sliding window being executed...\n",
      "410.767621585\n",
      "26118.6088589\n",
      "Sanity flag= 1\n",
      "Are lanes detected? True True\n"
     ]
    },
    {
     "name": "stderr",
     "output_type": "stream",
     "text": [
      "\u001b[A\n",
      " 20%|█▉        | 237/1200 [01:31<06:27,  2.49it/s]"
     ]
    },
    {
     "name": "stdout",
     "output_type": "stream",
     "text": [
      "Sliding window being executed...\n",
      "395.211734576\n",
      "571.936845212\n",
      "Sanity flag= 0\n",
      "Are lanes detected? True True\n"
     ]
    },
    {
     "name": "stderr",
     "output_type": "stream",
     "text": [
      "\u001b[A\n",
      " 20%|█▉        | 238/1200 [01:31<06:23,  2.51it/s]"
     ]
    },
    {
     "name": "stdout",
     "output_type": "stream",
     "text": [
      "Sliding window being executed...\n",
      "377.769104337\n",
      "3429.44065344\n",
      "Sanity flag= 1\n",
      "Are lanes detected? True True\n"
     ]
    },
    {
     "name": "stderr",
     "output_type": "stream",
     "text": [
      "\u001b[A\n",
      " 20%|█▉        | 239/1200 [01:31<06:26,  2.49it/s]"
     ]
    },
    {
     "name": "stdout",
     "output_type": "stream",
     "text": [
      "Sliding window being executed...\n",
      "1264.87566358\n",
      "360.361706645\n",
      "Sanity flag= 1\n",
      "Are lanes detected? True True\n"
     ]
    },
    {
     "name": "stderr",
     "output_type": "stream",
     "text": [
      "\u001b[A\n",
      " 20%|██        | 240/1200 [01:32<06:37,  2.41it/s]"
     ]
    },
    {
     "name": "stdout",
     "output_type": "stream",
     "text": [
      "Sliding window being executed...\n",
      "1214.7355313\n",
      "306.449444039\n",
      "Sanity flag= 1\n",
      "Are lanes detected? True True\n"
     ]
    },
    {
     "name": "stderr",
     "output_type": "stream",
     "text": [
      "\u001b[A\n",
      " 20%|██        | 241/1200 [01:32<06:33,  2.44it/s]"
     ]
    },
    {
     "name": "stdout",
     "output_type": "stream",
     "text": [
      "Sliding window being executed...\n",
      "1376.60230418\n",
      "363.301990117\n",
      "Sanity flag= 1\n",
      "Are lanes detected? True True\n"
     ]
    },
    {
     "name": "stderr",
     "output_type": "stream",
     "text": [
      "\u001b[A\n",
      " 20%|██        | 242/1200 [01:33<06:28,  2.46it/s]"
     ]
    },
    {
     "name": "stdout",
     "output_type": "stream",
     "text": [
      "Sliding window being executed...\n",
      "530.185609617\n",
      "472.372192429\n",
      "Sanity flag= 0\n",
      "Are lanes detected? True True\n"
     ]
    },
    {
     "name": "stderr",
     "output_type": "stream",
     "text": [
      "\u001b[A\n",
      " 20%|██        | 243/1200 [01:33<06:23,  2.50it/s]"
     ]
    },
    {
     "name": "stdout",
     "output_type": "stream",
     "text": [
      "Sliding window being executed...\n",
      "531.390361434\n",
      "1002.15248528\n",
      "Sanity flag= 0\n",
      "Are lanes detected? True True\n"
     ]
    },
    {
     "name": "stderr",
     "output_type": "stream",
     "text": [
      "\u001b[A\n",
      " 20%|██        | 244/1200 [01:33<06:22,  2.50it/s]"
     ]
    },
    {
     "name": "stdout",
     "output_type": "stream",
     "text": [
      "Sliding window being executed...\n",
      "1789.56497873\n",
      "1257.83371378\n",
      "Sanity flag= 1\n",
      "Are lanes detected? True True\n"
     ]
    },
    {
     "name": "stderr",
     "output_type": "stream",
     "text": [
      "\u001b[A\n",
      " 20%|██        | 245/1200 [01:34<06:22,  2.50it/s]"
     ]
    },
    {
     "name": "stdout",
     "output_type": "stream",
     "text": [
      "Sliding window being executed...\n",
      "1062.45465122\n",
      "1445.92945939\n",
      "Sanity flag= 1\n",
      "Are lanes detected? True True\n"
     ]
    },
    {
     "name": "stderr",
     "output_type": "stream",
     "text": [
      "\u001b[A\n",
      " 20%|██        | 246/1200 [01:34<06:20,  2.51it/s]"
     ]
    },
    {
     "name": "stdout",
     "output_type": "stream",
     "text": [
      "Sliding window being executed...\n",
      "1083.12101054\n",
      "2851.19443476\n",
      "Sanity flag= 1\n",
      "Are lanes detected? True True\n"
     ]
    },
    {
     "name": "stderr",
     "output_type": "stream",
     "text": [
      "\u001b[A\n",
      " 21%|██        | 247/1200 [01:35<06:18,  2.52it/s]"
     ]
    },
    {
     "name": "stdout",
     "output_type": "stream",
     "text": [
      "Sliding window being executed...\n",
      "1795.2324807\n",
      "1163.25365101\n",
      "Sanity flag= 1\n",
      "Are lanes detected? True True\n"
     ]
    },
    {
     "name": "stderr",
     "output_type": "stream",
     "text": [
      "\u001b[A\n",
      " 21%|██        | 248/1200 [01:35<06:21,  2.50it/s]"
     ]
    },
    {
     "name": "stdout",
     "output_type": "stream",
     "text": [
      "Sliding window being executed...\n",
      "1943.30611321\n",
      "935.072664413\n",
      "Sanity flag= 1\n",
      "Are lanes detected? True True\n"
     ]
    },
    {
     "name": "stderr",
     "output_type": "stream",
     "text": [
      "\u001b[A\n",
      " 21%|██        | 249/1200 [01:35<06:22,  2.48it/s]"
     ]
    },
    {
     "name": "stdout",
     "output_type": "stream",
     "text": [
      "Sliding window being executed...\n",
      "484.817978993\n",
      "1115.34849412\n",
      "Sanity flag= 0\n",
      "Are lanes detected? True True\n"
     ]
    },
    {
     "name": "stderr",
     "output_type": "stream",
     "text": [
      "\u001b[A\n",
      " 21%|██        | 250/1200 [01:36<06:22,  2.48it/s]"
     ]
    },
    {
     "name": "stdout",
     "output_type": "stream",
     "text": [
      "Sliding window being executed...\n",
      "250.434957205\n",
      "2030.92852278\n",
      "Sanity flag= 1\n",
      "Are lanes detected? True True\n"
     ]
    },
    {
     "name": "stderr",
     "output_type": "stream",
     "text": [
      "\u001b[A\n",
      " 21%|██        | 251/1200 [01:36<06:21,  2.49it/s]"
     ]
    },
    {
     "name": "stdout",
     "output_type": "stream",
     "text": [
      "Sliding window being executed...\n",
      "168.347420583\n",
      "1104.73604048\n",
      "Sanity flag= 0\n",
      "Are lanes detected? True True\n"
     ]
    },
    {
     "name": "stderr",
     "output_type": "stream",
     "text": [
      "\u001b[A\n",
      " 21%|██        | 252/1200 [01:37<06:18,  2.51it/s]"
     ]
    },
    {
     "name": "stdout",
     "output_type": "stream",
     "text": [
      "Sliding window being executed...\n",
      "170.250191793\n",
      "986.832330782\n",
      "Sanity flag= 0\n",
      "Are lanes detected? True True\n"
     ]
    },
    {
     "name": "stderr",
     "output_type": "stream",
     "text": [
      "\u001b[A\n",
      " 21%|██        | 253/1200 [01:37<06:38,  2.38it/s]"
     ]
    },
    {
     "name": "stdout",
     "output_type": "stream",
     "text": [
      "Sliding window being executed...\n",
      "369.290797616\n",
      "2763.38593645\n",
      "Sanity flag= 1\n",
      "Are lanes detected? True True\n"
     ]
    },
    {
     "name": "stderr",
     "output_type": "stream",
     "text": [
      "\u001b[A\n",
      " 21%|██        | 254/1200 [01:37<06:28,  2.43it/s]"
     ]
    },
    {
     "name": "stdout",
     "output_type": "stream",
     "text": [
      "Sliding window being executed...\n",
      "1494.54532516\n",
      "10969.9589379\n",
      "Sanity flag= 1\n",
      "Are lanes detected? True True\n"
     ]
    },
    {
     "name": "stderr",
     "output_type": "stream",
     "text": [
      "\u001b[A\n",
      " 21%|██▏       | 255/1200 [01:38<06:25,  2.45it/s]"
     ]
    },
    {
     "name": "stdout",
     "output_type": "stream",
     "text": [
      "Sliding window being executed...\n",
      "232.548690176\n",
      "3249.47729338\n",
      "Sanity flag= 1\n",
      "Are lanes detected? True True\n"
     ]
    },
    {
     "name": "stderr",
     "output_type": "stream",
     "text": [
      "\u001b[A\n",
      " 21%|██▏       | 256/1200 [01:38<06:24,  2.45it/s]"
     ]
    },
    {
     "name": "stdout",
     "output_type": "stream",
     "text": [
      "Sliding window being executed...\n",
      "848.768861488\n",
      "983.997070956\n",
      "Sanity flag= 0\n",
      "Are lanes detected? True True\n"
     ]
    },
    {
     "name": "stderr",
     "output_type": "stream",
     "text": [
      "\u001b[A\n",
      " 21%|██▏       | 257/1200 [01:39<06:24,  2.45it/s]"
     ]
    },
    {
     "name": "stdout",
     "output_type": "stream",
     "text": [
      "Sliding window being executed...\n",
      "1011.32750432\n",
      "679.984428649\n",
      "Sanity flag= 0\n",
      "Are lanes detected? True True\n"
     ]
    },
    {
     "name": "stderr",
     "output_type": "stream",
     "text": [
      "\u001b[A\n",
      " 22%|██▏       | 258/1200 [01:39<06:20,  2.47it/s]"
     ]
    },
    {
     "name": "stdout",
     "output_type": "stream",
     "text": [
      "Sliding window being executed...\n",
      "3114.18163416\n",
      "1212.13393799\n",
      "Sanity flag= 1\n",
      "Are lanes detected? True True\n"
     ]
    },
    {
     "name": "stderr",
     "output_type": "stream",
     "text": [
      "\u001b[A\n",
      " 22%|██▏       | 259/1200 [01:39<06:21,  2.47it/s]"
     ]
    },
    {
     "name": "stdout",
     "output_type": "stream",
     "text": [
      "Sliding window being executed...\n",
      "442.249320709\n",
      "2770.95863059\n",
      "Sanity flag= 1\n",
      "Are lanes detected? True True\n"
     ]
    },
    {
     "name": "stderr",
     "output_type": "stream",
     "text": [
      "\u001b[A\n",
      " 22%|██▏       | 260/1200 [01:40<06:20,  2.47it/s]"
     ]
    },
    {
     "name": "stdout",
     "output_type": "stream",
     "text": [
      "Sliding window being executed...\n",
      "2154.18821188\n",
      "3613.83680626\n",
      "Sanity flag= 1\n",
      "Are lanes detected? True True\n"
     ]
    },
    {
     "name": "stderr",
     "output_type": "stream",
     "text": [
      "\u001b[A\n",
      " 22%|██▏       | 261/1200 [01:40<06:18,  2.48it/s]"
     ]
    },
    {
     "name": "stdout",
     "output_type": "stream",
     "text": [
      "Sliding window being executed...\n",
      "202.66045809\n",
      "1088.57124669\n",
      "Sanity flag= 0\n",
      "Are lanes detected? True True\n"
     ]
    },
    {
     "name": "stderr",
     "output_type": "stream",
     "text": [
      "\u001b[A\n",
      " 22%|██▏       | 262/1200 [01:41<06:19,  2.47it/s]"
     ]
    },
    {
     "name": "stdout",
     "output_type": "stream",
     "text": [
      "Sliding window being executed...\n",
      "292.162338695\n",
      "1403.11657868\n",
      "Sanity flag= 1\n",
      "Are lanes detected? True True\n"
     ]
    },
    {
     "name": "stderr",
     "output_type": "stream",
     "text": [
      "\u001b[A\n",
      " 22%|██▏       | 263/1200 [01:41<06:43,  2.32it/s]"
     ]
    },
    {
     "name": "stdout",
     "output_type": "stream",
     "text": [
      "Sliding window being executed...\n",
      "581.091639711\n",
      "799.961284058\n",
      "Sanity flag= 0\n",
      "Are lanes detected? True True\n"
     ]
    },
    {
     "name": "stderr",
     "output_type": "stream",
     "text": [
      "\u001b[A\n",
      " 22%|██▏       | 264/1200 [01:42<06:31,  2.39it/s]"
     ]
    },
    {
     "name": "stdout",
     "output_type": "stream",
     "text": [
      "Sliding window being executed...\n",
      "187.324737747\n",
      "4791.72239007\n",
      "Sanity flag= 1\n",
      "Are lanes detected? True True\n"
     ]
    },
    {
     "name": "stderr",
     "output_type": "stream",
     "text": [
      "\u001b[A\n",
      " 22%|██▏       | 265/1200 [01:42<06:23,  2.44it/s]"
     ]
    },
    {
     "name": "stdout",
     "output_type": "stream",
     "text": [
      "Sliding window being executed...\n",
      "646.910616436\n",
      "11949.0040532\n",
      "Sanity flag= 1\n",
      "Are lanes detected? True True\n"
     ]
    },
    {
     "name": "stderr",
     "output_type": "stream",
     "text": [
      "\u001b[A\n",
      " 22%|██▏       | 266/1200 [01:42<06:16,  2.48it/s]"
     ]
    },
    {
     "name": "stdout",
     "output_type": "stream",
     "text": [
      "Sliding window being executed...\n",
      "1218.45931998\n",
      "10590.4629154\n",
      "Sanity flag= 1\n",
      "Are lanes detected? True True\n"
     ]
    },
    {
     "name": "stderr",
     "output_type": "stream",
     "text": [
      "\u001b[A\n",
      " 22%|██▏       | 267/1200 [01:43<06:14,  2.49it/s]"
     ]
    },
    {
     "name": "stdout",
     "output_type": "stream",
     "text": [
      "Sliding window being executed...\n",
      "1782.07729639\n",
      "1043.55219579\n",
      "Sanity flag= 1\n",
      "Are lanes detected? True True\n"
     ]
    },
    {
     "name": "stderr",
     "output_type": "stream",
     "text": [
      "\u001b[A\n",
      " 22%|██▏       | 268/1200 [01:43<06:12,  2.50it/s]"
     ]
    },
    {
     "name": "stdout",
     "output_type": "stream",
     "text": [
      "Sliding window being executed...\n",
      "1594.49227219\n",
      "787.825199257\n",
      "Sanity flag= 1\n",
      "Are lanes detected? True True\n"
     ]
    },
    {
     "name": "stderr",
     "output_type": "stream",
     "text": [
      "\u001b[A\n",
      " 22%|██▏       | 269/1200 [01:44<06:12,  2.50it/s]"
     ]
    },
    {
     "name": "stdout",
     "output_type": "stream",
     "text": [
      "Sliding window being executed...\n",
      "548.841019863\n",
      "343746.683935\n",
      "Sanity flag= 1\n",
      "Are lanes detected? True True\n"
     ]
    },
    {
     "name": "stderr",
     "output_type": "stream",
     "text": [
      "\u001b[A\n",
      " 22%|██▎       | 270/1200 [01:44<06:16,  2.47it/s]"
     ]
    },
    {
     "name": "stdout",
     "output_type": "stream",
     "text": [
      "Sliding window being executed...\n",
      "2416.5361437\n",
      "422.310138951\n",
      "Sanity flag= 1\n",
      "Are lanes detected? True True\n"
     ]
    },
    {
     "name": "stderr",
     "output_type": "stream",
     "text": [
      "\u001b[A\n",
      " 23%|██▎       | 271/1200 [01:44<06:25,  2.41it/s]"
     ]
    },
    {
     "name": "stdout",
     "output_type": "stream",
     "text": [
      "Sliding window being executed...\n",
      "1658.12104051\n",
      "36306.6870104\n",
      "Sanity flag= 1\n",
      "Are lanes detected? True True\n"
     ]
    },
    {
     "name": "stderr",
     "output_type": "stream",
     "text": [
      "\u001b[A\n",
      " 23%|██▎       | 272/1200 [01:45<06:08,  2.52it/s]"
     ]
    },
    {
     "name": "stdout",
     "output_type": "stream",
     "text": [
      "Sliding window being executed...\n",
      "753.899577937\n",
      "525.663941464\n",
      "Sanity flag= 0\n",
      "Are lanes detected? True True\n"
     ]
    },
    {
     "name": "stderr",
     "output_type": "stream",
     "text": [
      "\u001b[A\n",
      " 23%|██▎       | 273/1200 [01:45<06:00,  2.57it/s]"
     ]
    },
    {
     "name": "stdout",
     "output_type": "stream",
     "text": [
      "Sliding window being executed...\n",
      "281.681194626\n",
      "2261.98388506\n",
      "Sanity flag= 1\n",
      "Are lanes detected? True True\n"
     ]
    },
    {
     "name": "stderr",
     "output_type": "stream",
     "text": [
      "\u001b[A\n",
      " 23%|██▎       | 274/1200 [01:46<06:10,  2.50it/s]"
     ]
    },
    {
     "name": "stdout",
     "output_type": "stream",
     "text": [
      "Sliding window being executed...\n",
      "340.355296299\n",
      "1081.26103566\n",
      "Sanity flag= 0\n",
      "Are lanes detected? True True\n"
     ]
    },
    {
     "name": "stderr",
     "output_type": "stream",
     "text": [
      "\u001b[A\n",
      " 23%|██▎       | 275/1200 [01:46<06:21,  2.43it/s]"
     ]
    },
    {
     "name": "stdout",
     "output_type": "stream",
     "text": [
      "Sliding window being executed...\n",
      "456.901886388\n",
      "1352.65643748\n",
      "Sanity flag= 1\n",
      "Are lanes detected? True True\n"
     ]
    },
    {
     "name": "stderr",
     "output_type": "stream",
     "text": [
      "\u001b[A\n",
      " 23%|██▎       | 276/1200 [01:46<06:19,  2.43it/s]"
     ]
    },
    {
     "name": "stdout",
     "output_type": "stream",
     "text": [
      "Sliding window being executed...\n",
      "1046.88490339\n",
      "1541.96141395\n",
      "Sanity flag= 1\n",
      "Are lanes detected? True True\n"
     ]
    },
    {
     "name": "stderr",
     "output_type": "stream",
     "text": [
      "\u001b[A\n",
      " 23%|██▎       | 277/1200 [01:47<06:20,  2.42it/s]"
     ]
    },
    {
     "name": "stdout",
     "output_type": "stream",
     "text": [
      "Sliding window being executed...\n",
      "9842.35559814\n",
      "486.562664325\n",
      "Sanity flag= 1\n",
      "Are lanes detected? True True\n"
     ]
    },
    {
     "name": "stderr",
     "output_type": "stream",
     "text": [
      "\u001b[A\n",
      " 23%|██▎       | 278/1200 [01:47<06:29,  2.37it/s]"
     ]
    },
    {
     "name": "stdout",
     "output_type": "stream",
     "text": [
      "Sliding window being executed...\n",
      "3632.52311424\n",
      "571.411986092\n",
      "Sanity flag= 1\n",
      "Are lanes detected? True True\n"
     ]
    },
    {
     "name": "stderr",
     "output_type": "stream",
     "text": [
      "\u001b[A\n",
      " 23%|██▎       | 279/1200 [01:48<06:26,  2.38it/s]"
     ]
    },
    {
     "name": "stdout",
     "output_type": "stream",
     "text": [
      "Sliding window being executed...\n",
      "3006.69435509\n",
      "292.126693503\n",
      "Sanity flag= 1\n",
      "Are lanes detected? True True\n"
     ]
    },
    {
     "name": "stderr",
     "output_type": "stream",
     "text": [
      "\u001b[A\n",
      " 23%|██▎       | 280/1200 [01:48<06:29,  2.36it/s]"
     ]
    },
    {
     "name": "stdout",
     "output_type": "stream",
     "text": [
      "Sliding window being executed...\n",
      "4247.55679727\n",
      "284.836668244\n",
      "Sanity flag= 1\n",
      "Are lanes detected? True True\n"
     ]
    },
    {
     "name": "stderr",
     "output_type": "stream",
     "text": [
      "\u001b[A\n",
      " 23%|██▎       | 281/1200 [01:49<06:27,  2.37it/s]"
     ]
    },
    {
     "name": "stdout",
     "output_type": "stream",
     "text": [
      "Sliding window being executed...\n",
      "200.753040202\n",
      "266.025600255\n",
      "Sanity flag= 0\n",
      "Are lanes detected? True True\n"
     ]
    },
    {
     "name": "stderr",
     "output_type": "stream",
     "text": [
      "\u001b[A\n",
      " 24%|██▎       | 282/1200 [01:49<06:24,  2.39it/s]"
     ]
    },
    {
     "name": "stdout",
     "output_type": "stream",
     "text": [
      "Sliding window being executed...\n",
      "129.548797262\n",
      "294.471238132\n",
      "Sanity flag= 0\n",
      "Are lanes detected? True True\n"
     ]
    },
    {
     "name": "stderr",
     "output_type": "stream",
     "text": [
      "\u001b[A\n",
      " 24%|██▎       | 283/1200 [01:49<06:46,  2.26it/s]"
     ]
    },
    {
     "name": "stdout",
     "output_type": "stream",
     "text": [
      "Sliding window being executed...\n",
      "128.183345163\n",
      "356.021667375\n",
      "Sanity flag= 0\n",
      "Are lanes detected? True True\n"
     ]
    },
    {
     "name": "stderr",
     "output_type": "stream",
     "text": [
      "\u001b[A\n",
      " 24%|██▎       | 284/1200 [01:50<06:31,  2.34it/s]"
     ]
    },
    {
     "name": "stdout",
     "output_type": "stream",
     "text": [
      "Sliding window being executed...\n",
      "133.746369403\n",
      "223.601489275\n",
      "Sanity flag= 0\n",
      "Are lanes detected? True True\n"
     ]
    },
    {
     "name": "stderr",
     "output_type": "stream",
     "text": [
      "\u001b[A\n",
      " 24%|██▍       | 285/1200 [01:50<06:22,  2.39it/s]"
     ]
    },
    {
     "name": "stdout",
     "output_type": "stream",
     "text": [
      "Sliding window being executed...\n",
      "114.768504344\n",
      "211.596062928\n",
      "Sanity flag= 0\n",
      "Are lanes detected? True True\n"
     ]
    },
    {
     "name": "stderr",
     "output_type": "stream",
     "text": [
      "\u001b[A\n",
      " 24%|██▍       | 286/1200 [01:51<06:26,  2.37it/s]"
     ]
    },
    {
     "name": "stdout",
     "output_type": "stream",
     "text": [
      "Sliding window being executed...\n",
      "351.789390203\n",
      "142.941435566\n",
      "Sanity flag= 1\n",
      "Are lanes detected? True True\n"
     ]
    },
    {
     "name": "stderr",
     "output_type": "stream",
     "text": [
      "\u001b[A\n",
      " 24%|██▍       | 287/1200 [01:51<06:17,  2.42it/s]"
     ]
    },
    {
     "name": "stdout",
     "output_type": "stream",
     "text": [
      "Sliding window being executed...\n",
      "407.29450856\n",
      "171.912336782\n",
      "Sanity flag= 1\n",
      "Are lanes detected? True True\n"
     ]
    },
    {
     "name": "stderr",
     "output_type": "stream",
     "text": [
      "\u001b[A\n",
      " 24%|██▍       | 288/1200 [01:51<06:05,  2.49it/s]"
     ]
    },
    {
     "name": "stdout",
     "output_type": "stream",
     "text": [
      "Sliding window being executed...\n",
      "107.302709592\n",
      "109.025018011\n",
      "Sanity flag= 0\n",
      "Are lanes detected? True True\n"
     ]
    },
    {
     "name": "stderr",
     "output_type": "stream",
     "text": [
      "\u001b[A\n",
      " 24%|██▍       | 289/1200 [01:52<06:13,  2.44it/s]"
     ]
    },
    {
     "name": "stdout",
     "output_type": "stream",
     "text": [
      "Sliding window being executed...\n",
      "86.7273577366\n",
      "1101.34299536\n",
      "Sanity flag= 1\n",
      "Are lanes detected? True True\n"
     ]
    },
    {
     "name": "stderr",
     "output_type": "stream",
     "text": [
      "\u001b[A\n",
      " 24%|██▍       | 290/1200 [01:52<06:12,  2.44it/s]"
     ]
    },
    {
     "name": "stdout",
     "output_type": "stream",
     "text": [
      "Sliding window being executed...\n",
      "85.3376662682\n",
      "534.76727232\n",
      "Sanity flag= 1\n",
      "Are lanes detected? True True\n"
     ]
    },
    {
     "name": "stderr",
     "output_type": "stream",
     "text": [
      "\u001b[A\n",
      " 24%|██▍       | 291/1200 [01:53<06:02,  2.51it/s]"
     ]
    },
    {
     "name": "stdout",
     "output_type": "stream",
     "text": [
      "Sliding window being executed...\n",
      "89.5259255743\n",
      "833.316386091\n",
      "Sanity flag= 1\n",
      "Are lanes detected? True True\n"
     ]
    },
    {
     "name": "stderr",
     "output_type": "stream",
     "text": [
      "\u001b[A\n",
      " 24%|██▍       | 292/1200 [01:53<05:57,  2.54it/s]"
     ]
    },
    {
     "name": "stdout",
     "output_type": "stream",
     "text": [
      "Sliding window being executed...\n",
      "161.400442568\n",
      "1301.03786868\n",
      "Sanity flag= 1\n",
      "Are lanes detected? True True\n"
     ]
    },
    {
     "name": "stderr",
     "output_type": "stream",
     "text": [
      "\u001b[A\n",
      " 24%|██▍       | 293/1200 [01:53<05:56,  2.54it/s]"
     ]
    },
    {
     "name": "stdout",
     "output_type": "stream",
     "text": [
      "Sliding window being executed...\n",
      "181.181003684\n",
      "520.211458219\n",
      "Sanity flag= 1\n",
      "Are lanes detected? True True\n"
     ]
    },
    {
     "name": "stderr",
     "output_type": "stream",
     "text": [
      "\u001b[A\n",
      " 24%|██▍       | 294/1200 [01:54<05:57,  2.54it/s]"
     ]
    },
    {
     "name": "stdout",
     "output_type": "stream",
     "text": [
      "Sliding window being executed...\n",
      "151.515676266\n",
      "72.016093876\n",
      "Sanity flag= 1\n",
      "Are lanes detected? True True\n"
     ]
    },
    {
     "name": "stderr",
     "output_type": "stream",
     "text": [
      "\u001b[A\n",
      " 25%|██▍       | 295/1200 [01:54<05:54,  2.55it/s]"
     ]
    },
    {
     "name": "stdout",
     "output_type": "stream",
     "text": [
      "Sliding window being executed...\n",
      "177.002303668\n",
      "158.090977014\n",
      "Sanity flag= 0\n",
      "Are lanes detected? True True\n"
     ]
    },
    {
     "name": "stderr",
     "output_type": "stream",
     "text": [
      "\u001b[A\n",
      " 25%|██▍       | 296/1200 [01:55<05:52,  2.57it/s]"
     ]
    },
    {
     "name": "stdout",
     "output_type": "stream",
     "text": [
      "Sliding window being executed...\n",
      "199.395106944\n",
      "319.602787607\n",
      "Sanity flag= 0\n",
      "Are lanes detected? True True\n"
     ]
    },
    {
     "name": "stderr",
     "output_type": "stream",
     "text": [
      "\u001b[A\n",
      " 25%|██▍       | 297/1200 [01:55<05:53,  2.55it/s]"
     ]
    },
    {
     "name": "stdout",
     "output_type": "stream",
     "text": [
      "Sliding window being executed...\n",
      "212.283400848\n",
      "417.401148365\n",
      "Sanity flag= 0\n",
      "Are lanes detected? True True\n"
     ]
    },
    {
     "name": "stderr",
     "output_type": "stream",
     "text": [
      "\u001b[A\n",
      " 25%|██▍       | 298/1200 [01:55<05:54,  2.54it/s]"
     ]
    },
    {
     "name": "stdout",
     "output_type": "stream",
     "text": [
      "Sliding window being executed...\n",
      "998.99948713\n",
      "476.832562372\n",
      "Sanity flag= 0\n",
      "Are lanes detected? True True\n"
     ]
    },
    {
     "name": "stderr",
     "output_type": "stream",
     "text": [
      "\u001b[A\n",
      " 25%|██▍       | 299/1200 [01:56<05:54,  2.54it/s]"
     ]
    },
    {
     "name": "stdout",
     "output_type": "stream",
     "text": [
      "Sliding window being executed...\n",
      "365.351264975\n",
      "534.586901858\n",
      "Sanity flag= 1\n",
      "Are lanes detected? True True\n"
     ]
    },
    {
     "name": "stderr",
     "output_type": "stream",
     "text": [
      "\u001b[A\n",
      " 25%|██▌       | 300/1200 [01:56<05:55,  2.53it/s]"
     ]
    },
    {
     "name": "stdout",
     "output_type": "stream",
     "text": [
      "Sliding window being executed...\n",
      "455.430557786\n",
      "285.919716201\n",
      "Sanity flag= 1\n",
      "Are lanes detected? True True\n"
     ]
    },
    {
     "name": "stderr",
     "output_type": "stream",
     "text": [
      "\u001b[A\n",
      " 25%|██▌       | 301/1200 [01:57<05:52,  2.55it/s]"
     ]
    },
    {
     "name": "stdout",
     "output_type": "stream",
     "text": [
      "Sliding window being executed...\n",
      "5965.36477317\n",
      "555.393347208\n",
      "Sanity flag= 1\n",
      "Are lanes detected? True True\n"
     ]
    },
    {
     "name": "stderr",
     "output_type": "stream",
     "text": [
      "\u001b[A\n",
      " 25%|██▌       | 302/1200 [01:57<05:55,  2.53it/s]"
     ]
    },
    {
     "name": "stdout",
     "output_type": "stream",
     "text": [
      "Sliding window being executed...\n",
      "761.089403062\n",
      "96.3085281165\n",
      "Sanity flag= 1\n",
      "Are lanes detected? True True\n"
     ]
    },
    {
     "name": "stderr",
     "output_type": "stream",
     "text": [
      "\u001b[A\n",
      " 25%|██▌       | 303/1200 [01:58<06:31,  2.29it/s]"
     ]
    },
    {
     "name": "stdout",
     "output_type": "stream",
     "text": [
      "Sliding window being executed...\n",
      "158.182501137\n",
      "174.419712572\n",
      "Sanity flag= 0\n",
      "Are lanes detected? True True\n"
     ]
    },
    {
     "name": "stderr",
     "output_type": "stream",
     "text": [
      "\u001b[A\n",
      " 25%|██▌       | 304/1200 [01:58<07:21,  2.03it/s]"
     ]
    },
    {
     "name": "stdout",
     "output_type": "stream",
     "text": [
      "Sliding window being executed...\n",
      "247.927151856\n",
      "1283.29175715\n",
      "Sanity flag= 1\n",
      "Are lanes detected? True True\n"
     ]
    },
    {
     "name": "stderr",
     "output_type": "stream",
     "text": [
      "\u001b[A\n",
      " 25%|██▌       | 305/1200 [01:59<07:59,  1.87it/s]"
     ]
    },
    {
     "name": "stdout",
     "output_type": "stream",
     "text": [
      "Sliding window being executed...\n",
      "244.506657065\n",
      "509.346401438\n",
      "Sanity flag= 0\n",
      "Are lanes detected? True True\n"
     ]
    },
    {
     "name": "stderr",
     "output_type": "stream",
     "text": [
      "\u001b[A\n",
      " 26%|██▌       | 306/1200 [01:59<08:32,  1.74it/s]"
     ]
    },
    {
     "name": "stdout",
     "output_type": "stream",
     "text": [
      "Sliding window being executed...\n",
      "200.656978727\n",
      "456.958593686\n",
      "Sanity flag= 0\n",
      "Are lanes detected? True True\n"
     ]
    },
    {
     "name": "stderr",
     "output_type": "stream",
     "text": [
      "\u001b[A\n",
      " 26%|██▌       | 307/1200 [02:00<08:53,  1.67it/s]"
     ]
    },
    {
     "name": "stdout",
     "output_type": "stream",
     "text": [
      "Sliding window being executed...\n",
      "165.404275852\n",
      "2102.36184083\n",
      "Sanity flag= 1\n",
      "Are lanes detected? True True\n"
     ]
    },
    {
     "name": "stderr",
     "output_type": "stream",
     "text": [
      "\u001b[A\n",
      " 26%|██▌       | 308/1200 [02:01<08:47,  1.69it/s]"
     ]
    },
    {
     "name": "stdout",
     "output_type": "stream",
     "text": [
      "Sliding window being executed...\n",
      "130.427626778\n",
      "3720.92669419\n",
      "Sanity flag= 1\n",
      "Are lanes detected? True True\n"
     ]
    },
    {
     "name": "stderr",
     "output_type": "stream",
     "text": [
      "\u001b[A\n",
      " 26%|██▌       | 309/1200 [02:01<07:50,  1.89it/s]"
     ]
    },
    {
     "name": "stdout",
     "output_type": "stream",
     "text": [
      "Sliding window being executed...\n",
      "106.023872765\n",
      "681.927092609\n",
      "Sanity flag= 1\n",
      "Are lanes detected? True True\n"
     ]
    },
    {
     "name": "stderr",
     "output_type": "stream",
     "text": [
      "\u001b[A\n",
      " 26%|██▌       | 310/1200 [02:01<07:15,  2.04it/s]"
     ]
    },
    {
     "name": "stdout",
     "output_type": "stream",
     "text": [
      "Sliding window being executed...\n",
      "100.394602099\n",
      "80.4281930973\n",
      "Sanity flag= 0\n",
      "Are lanes detected? True True\n"
     ]
    },
    {
     "name": "stderr",
     "output_type": "stream",
     "text": [
      "\u001b[A\n",
      " 26%|██▌       | 311/1200 [02:02<06:47,  2.18it/s]"
     ]
    },
    {
     "name": "stdout",
     "output_type": "stream",
     "text": [
      "Sliding window being executed...\n",
      "90.2530188286\n",
      "70.3854240847\n",
      "Sanity flag= 1\n",
      "Are lanes detected? True True\n"
     ]
    },
    {
     "name": "stderr",
     "output_type": "stream",
     "text": [
      "\u001b[A\n",
      " 26%|██▌       | 312/1200 [02:02<06:30,  2.28it/s]"
     ]
    },
    {
     "name": "stdout",
     "output_type": "stream",
     "text": [
      "Sliding window being executed...\n",
      "83.5007972933\n",
      "93.0924789368\n",
      "Sanity flag= 0\n",
      "Are lanes detected? True True\n"
     ]
    },
    {
     "name": "stderr",
     "output_type": "stream",
     "text": [
      "\u001b[A\n",
      " 26%|██▌       | 313/1200 [02:03<06:38,  2.23it/s]"
     ]
    },
    {
     "name": "stdout",
     "output_type": "stream",
     "text": [
      "Sliding window being executed...\n",
      "88.3808114244\n",
      "507.801286287\n",
      "Sanity flag= 1\n",
      "Are lanes detected? True True\n"
     ]
    },
    {
     "name": "stderr",
     "output_type": "stream",
     "text": [
      "\u001b[A\n",
      " 26%|██▌       | 314/1200 [02:03<06:20,  2.33it/s]"
     ]
    },
    {
     "name": "stdout",
     "output_type": "stream",
     "text": [
      "Sliding window being executed...\n",
      "181.09885543\n",
      "165.065896022\n",
      "Sanity flag= 1\n",
      "Are lanes detected? True True\n"
     ]
    },
    {
     "name": "stderr",
     "output_type": "stream",
     "text": [
      "\u001b[A\n",
      " 26%|██▋       | 315/1200 [02:03<06:11,  2.38it/s]"
     ]
    },
    {
     "name": "stdout",
     "output_type": "stream",
     "text": [
      "Sliding window being executed...\n",
      "87.9450980848\n",
      "144.374201058\n",
      "Sanity flag= 1\n",
      "Are lanes detected? True True\n"
     ]
    },
    {
     "name": "stderr",
     "output_type": "stream",
     "text": [
      "\u001b[A\n",
      " 26%|██▋       | 316/1200 [02:04<06:01,  2.45it/s]"
     ]
    },
    {
     "name": "stdout",
     "output_type": "stream",
     "text": [
      "Sliding window being executed...\n",
      "82.7401542506\n",
      "131.607658496\n",
      "Sanity flag= 1\n",
      "Are lanes detected? True True\n"
     ]
    },
    {
     "name": "stderr",
     "output_type": "stream",
     "text": [
      "\u001b[A\n",
      " 26%|██▋       | 317/1200 [02:04<05:55,  2.48it/s]"
     ]
    },
    {
     "name": "stdout",
     "output_type": "stream",
     "text": [
      "Sliding window being executed...\n",
      "105.169830544\n",
      "127.214167693\n",
      "Sanity flag= 1\n",
      "Are lanes detected? True True\n"
     ]
    },
    {
     "name": "stderr",
     "output_type": "stream",
     "text": [
      "\u001b[A\n",
      " 26%|██▋       | 318/1200 [02:05<05:51,  2.51it/s]"
     ]
    },
    {
     "name": "stdout",
     "output_type": "stream",
     "text": [
      "Sliding window being executed...\n",
      "101.69876807\n",
      "106.253919691\n",
      "Sanity flag= 1\n",
      "Are lanes detected? True True\n"
     ]
    },
    {
     "name": "stderr",
     "output_type": "stream",
     "text": [
      "\u001b[A\n",
      " 27%|██▋       | 319/1200 [02:05<05:44,  2.55it/s]"
     ]
    },
    {
     "name": "stdout",
     "output_type": "stream",
     "text": [
      "Sliding window being executed...\n",
      "92.4390575444\n",
      "97.489609547\n",
      "Sanity flag= 1\n",
      "Are lanes detected? True True\n"
     ]
    },
    {
     "name": "stderr",
     "output_type": "stream",
     "text": [
      "\u001b[A\n",
      " 27%|██▋       | 320/1200 [02:05<05:41,  2.58it/s]"
     ]
    },
    {
     "name": "stdout",
     "output_type": "stream",
     "text": [
      "Sliding window being executed...\n",
      "105.015259963\n",
      "227.012167489\n",
      "Sanity flag= 1\n",
      "Are lanes detected? True True\n"
     ]
    },
    {
     "name": "stderr",
     "output_type": "stream",
     "text": [
      "\u001b[A\n",
      " 27%|██▋       | 321/1200 [02:06<05:37,  2.60it/s]"
     ]
    },
    {
     "name": "stdout",
     "output_type": "stream",
     "text": [
      "Sliding window being executed...\n",
      "104.880996665\n",
      "90.913184499\n",
      "Sanity flag= 1\n",
      "Are lanes detected? True True\n"
     ]
    },
    {
     "name": "stderr",
     "output_type": "stream",
     "text": [
      "\u001b[A\n",
      " 27%|██▋       | 322/1200 [02:06<05:40,  2.58it/s]"
     ]
    },
    {
     "name": "stdout",
     "output_type": "stream",
     "text": [
      "Sliding window being executed...\n",
      "626.402053638\n",
      "77.9450737587\n",
      "Sanity flag= 1\n",
      "Are lanes detected? True True\n"
     ]
    },
    {
     "name": "stderr",
     "output_type": "stream",
     "text": [
      "\u001b[A\n",
      " 27%|██▋       | 323/1200 [02:07<05:42,  2.56it/s]"
     ]
    },
    {
     "name": "stdout",
     "output_type": "stream",
     "text": [
      "Sliding window being executed...\n",
      "402.711649395\n",
      "96.8187795092\n",
      "Sanity flag= 1\n",
      "Are lanes detected? True True\n"
     ]
    },
    {
     "name": "stderr",
     "output_type": "stream",
     "text": [
      "\u001b[A\n",
      " 27%|██▋       | 324/1200 [02:07<05:40,  2.57it/s]"
     ]
    },
    {
     "name": "stdout",
     "output_type": "stream",
     "text": [
      "Sliding window being executed...\n",
      "351.727469949\n",
      "68.5895858829\n",
      "Sanity flag= 1\n",
      "Are lanes detected? True True\n"
     ]
    },
    {
     "name": "stderr",
     "output_type": "stream",
     "text": [
      "\u001b[A\n",
      " 27%|██▋       | 325/1200 [02:07<05:37,  2.59it/s]"
     ]
    },
    {
     "name": "stdout",
     "output_type": "stream",
     "text": [
      "Sliding window being executed...\n",
      "103.429168496\n",
      "58.8784313441\n",
      "Sanity flag= 1\n",
      "Are lanes detected? True True\n"
     ]
    },
    {
     "name": "stderr",
     "output_type": "stream",
     "text": [
      "\u001b[A\n",
      " 27%|██▋       | 326/1200 [02:08<05:33,  2.62it/s]"
     ]
    },
    {
     "name": "stdout",
     "output_type": "stream",
     "text": [
      "Sliding window being executed...\n",
      "94.5550832959\n",
      "81.2205931891\n",
      "Sanity flag= 1\n",
      "Are lanes detected? True True\n"
     ]
    },
    {
     "name": "stderr",
     "output_type": "stream",
     "text": [
      "\u001b[A\n",
      " 27%|██▋       | 327/1200 [02:08<05:31,  2.63it/s]"
     ]
    },
    {
     "name": "stdout",
     "output_type": "stream",
     "text": [
      "Sliding window being executed...\n",
      "75.5272650261\n",
      "61.4599492618\n",
      "Sanity flag= 1\n",
      "Are lanes detected? True True\n"
     ]
    },
    {
     "name": "stderr",
     "output_type": "stream",
     "text": [
      "\u001b[A\n",
      " 27%|██▋       | 328/1200 [02:08<05:35,  2.60it/s]"
     ]
    },
    {
     "name": "stdout",
     "output_type": "stream",
     "text": [
      "Sliding window being executed...\n",
      "268.629457168\n",
      "92.9738946145\n",
      "Sanity flag= 1\n",
      "Are lanes detected? True True\n"
     ]
    },
    {
     "name": "stderr",
     "output_type": "stream",
     "text": [
      "\u001b[A\n",
      " 27%|██▋       | 329/1200 [02:09<05:35,  2.59it/s]"
     ]
    },
    {
     "name": "stdout",
     "output_type": "stream",
     "text": [
      "Sliding window being executed...\n",
      "2015.64677277\n",
      "131.843775099\n",
      "Sanity flag= 1\n",
      "Are lanes detected? True True\n"
     ]
    },
    {
     "name": "stderr",
     "output_type": "stream",
     "text": [
      "\u001b[A\n",
      " 28%|██▊       | 330/1200 [02:09<05:44,  2.53it/s]"
     ]
    },
    {
     "name": "stdout",
     "output_type": "stream",
     "text": [
      "Sliding window being executed...\n",
      "371.535560261\n",
      "205.843807013\n",
      "Sanity flag= 0\n",
      "Are lanes detected? True True\n"
     ]
    },
    {
     "name": "stderr",
     "output_type": "stream",
     "text": [
      "\u001b[A\n",
      " 28%|██▊       | 331/1200 [02:10<05:53,  2.46it/s]"
     ]
    },
    {
     "name": "stdout",
     "output_type": "stream",
     "text": [
      "Sliding window being executed...\n",
      "127.229506239\n",
      "2543.61157353\n",
      "Sanity flag= 1\n",
      "Are lanes detected? True True\n"
     ]
    },
    {
     "name": "stderr",
     "output_type": "stream",
     "text": [
      "\u001b[A\n",
      " 28%|██▊       | 332/1200 [02:10<05:51,  2.47it/s]"
     ]
    },
    {
     "name": "stdout",
     "output_type": "stream",
     "text": [
      "Sliding window being executed...\n",
      "118.68933567\n",
      "484.53901223\n",
      "Sanity flag= 1\n",
      "Are lanes detected? True True\n"
     ]
    },
    {
     "name": "stderr",
     "output_type": "stream",
     "text": [
      "\u001b[A\n",
      " 28%|██▊       | 333/1200 [02:10<05:47,  2.49it/s]"
     ]
    },
    {
     "name": "stdout",
     "output_type": "stream",
     "text": [
      "Sliding window being executed...\n",
      "99.1853634273\n",
      "176.862275304\n",
      "Sanity flag= 1\n",
      "Are lanes detected? True True\n"
     ]
    },
    {
     "name": "stderr",
     "output_type": "stream",
     "text": [
      "\u001b[A\n",
      " 28%|██▊       | 334/1200 [02:11<05:39,  2.55it/s]"
     ]
    },
    {
     "name": "stdout",
     "output_type": "stream",
     "text": [
      "Sliding window being executed...\n",
      "102.354068221\n",
      "94.9857473718\n",
      "Sanity flag= 1\n",
      "Are lanes detected? True True\n"
     ]
    },
    {
     "name": "stderr",
     "output_type": "stream",
     "text": [
      "\u001b[A\n",
      " 28%|██▊       | 335/1200 [02:11<05:38,  2.56it/s]"
     ]
    },
    {
     "name": "stdout",
     "output_type": "stream",
     "text": [
      "Sliding window being executed...\n",
      "92.6340559109\n",
      "77.7569016686\n",
      "Sanity flag= 1\n",
      "Are lanes detected? True True\n"
     ]
    },
    {
     "name": "stderr",
     "output_type": "stream",
     "text": [
      "\u001b[A\n",
      " 28%|██▊       | 336/1200 [02:12<05:33,  2.59it/s]"
     ]
    },
    {
     "name": "stdout",
     "output_type": "stream",
     "text": [
      "Sliding window being executed...\n",
      "81.6794067089\n",
      "52.798672557\n",
      "Sanity flag= 1\n",
      "Are lanes detected? True True\n"
     ]
    },
    {
     "name": "stderr",
     "output_type": "stream",
     "text": [
      "\u001b[A\n",
      " 28%|██▊       | 337/1200 [02:12<05:30,  2.61it/s]"
     ]
    },
    {
     "name": "stdout",
     "output_type": "stream",
     "text": [
      "Sliding window being executed...\n",
      "26.1950515236\n",
      "137.700792285\n",
      "Sanity flag= 1\n",
      "Are lanes detected? True True\n"
     ]
    },
    {
     "name": "stderr",
     "output_type": "stream",
     "text": [
      "\u001b[A\n",
      " 28%|██▊       | 338/1200 [02:12<05:30,  2.61it/s]"
     ]
    },
    {
     "name": "stdout",
     "output_type": "stream",
     "text": [
      "Sliding window being executed...\n",
      "141.450671939\n",
      "49.6628553152\n",
      "Sanity flag= 1\n",
      "Are lanes detected? True True\n"
     ]
    },
    {
     "name": "stderr",
     "output_type": "stream",
     "text": [
      "\u001b[A\n",
      " 28%|██▊       | 339/1200 [02:13<05:28,  2.62it/s]"
     ]
    },
    {
     "name": "stdout",
     "output_type": "stream",
     "text": [
      "Sliding window being executed...\n",
      "105.371121183\n",
      "44.5669764763\n",
      "Sanity flag= 1\n",
      "Are lanes detected? True True\n"
     ]
    },
    {
     "name": "stderr",
     "output_type": "stream",
     "text": [
      "\u001b[A\n",
      " 28%|██▊       | 340/1200 [02:13<05:28,  2.62it/s]"
     ]
    },
    {
     "name": "stdout",
     "output_type": "stream",
     "text": [
      "Sliding window being executed...\n",
      "3047.56515384\n",
      "49.5850607284\n",
      "Sanity flag= 1\n",
      "Are lanes detected? True True\n"
     ]
    },
    {
     "name": "stderr",
     "output_type": "stream",
     "text": [
      "\u001b[A\n",
      " 28%|██▊       | 341/1200 [02:14<05:33,  2.57it/s]"
     ]
    },
    {
     "name": "stdout",
     "output_type": "stream",
     "text": [
      "Sliding window being executed...\n",
      "54.6566872933\n",
      "225.652675418\n",
      "Sanity flag= 1\n",
      "Are lanes detected? True True\n"
     ]
    },
    {
     "name": "stderr",
     "output_type": "stream",
     "text": [
      "\u001b[A\n",
      " 28%|██▊       | 342/1200 [02:14<05:33,  2.57it/s]"
     ]
    },
    {
     "name": "stdout",
     "output_type": "stream",
     "text": [
      "Sliding window being executed...\n",
      "36.1414950274\n",
      "340.513962849\n",
      "Sanity flag= 1\n",
      "Are lanes detected? True True\n"
     ]
    },
    {
     "name": "stderr",
     "output_type": "stream",
     "text": [
      "\u001b[A\n",
      " 29%|██▊       | 343/1200 [02:14<05:54,  2.42it/s]"
     ]
    },
    {
     "name": "stdout",
     "output_type": "stream",
     "text": [
      "Sliding window being executed...\n",
      "95.8453084382\n",
      "1821.54742805\n",
      "Sanity flag= 1\n",
      "Are lanes detected? True True\n"
     ]
    },
    {
     "name": "stderr",
     "output_type": "stream",
     "text": [
      "\u001b[A\n",
      " 29%|██▊       | 344/1200 [02:15<05:45,  2.48it/s]"
     ]
    },
    {
     "name": "stdout",
     "output_type": "stream",
     "text": [
      "Sliding window being executed...\n",
      "349.611739936\n",
      "920.941087201\n",
      "Sanity flag= 1\n",
      "Are lanes detected? True True\n"
     ]
    },
    {
     "name": "stderr",
     "output_type": "stream",
     "text": [
      "\u001b[A\n",
      " 29%|██▉       | 345/1200 [02:15<06:06,  2.33it/s]"
     ]
    },
    {
     "name": "stdout",
     "output_type": "stream",
     "text": [
      "Sliding window being executed...\n",
      "288.730434051\n",
      "1323.38672173\n",
      "Sanity flag= 1\n",
      "Are lanes detected? True True\n"
     ]
    },
    {
     "name": "stderr",
     "output_type": "stream",
     "text": [
      "\u001b[A\n",
      " 29%|██▉       | 346/1200 [02:16<06:06,  2.33it/s]"
     ]
    },
    {
     "name": "stdout",
     "output_type": "stream",
     "text": [
      "Sliding window being executed...\n",
      "136.710716114\n",
      "2083.76021353\n",
      "Sanity flag= 1\n",
      "Are lanes detected? True True\n"
     ]
    },
    {
     "name": "stderr",
     "output_type": "stream",
     "text": [
      "\u001b[A\n",
      " 29%|██▉       | 347/1200 [02:16<06:02,  2.35it/s]"
     ]
    },
    {
     "name": "stdout",
     "output_type": "stream",
     "text": [
      "Sliding window being executed...\n",
      "37527.8833123\n",
      "940.54270208\n",
      "Sanity flag= 1\n",
      "Are lanes detected? True True\n"
     ]
    },
    {
     "name": "stderr",
     "output_type": "stream",
     "text": [
      "\u001b[A\n",
      " 29%|██▉       | 348/1200 [02:17<05:55,  2.40it/s]"
     ]
    },
    {
     "name": "stdout",
     "output_type": "stream",
     "text": [
      "Sliding window being executed...\n",
      "425.362417056\n",
      "118.455883708\n",
      "Sanity flag= 1\n",
      "Are lanes detected? True True\n"
     ]
    },
    {
     "name": "stderr",
     "output_type": "stream",
     "text": [
      "\u001b[A\n",
      " 29%|██▉       | 349/1200 [02:17<05:54,  2.40it/s]"
     ]
    },
    {
     "name": "stdout",
     "output_type": "stream",
     "text": [
      "Sliding window being executed...\n",
      "185.101427773\n",
      "15333.0009023\n",
      "Sanity flag= 1\n",
      "Are lanes detected? True True\n"
     ]
    },
    {
     "name": "stderr",
     "output_type": "stream",
     "text": [
      "\u001b[A\n",
      " 29%|██▉       | 350/1200 [02:17<05:47,  2.45it/s]"
     ]
    },
    {
     "name": "stdout",
     "output_type": "stream",
     "text": [
      "Sliding window being executed...\n",
      "335.771982704\n",
      "1037.40305819\n",
      "Sanity flag= 1\n",
      "Are lanes detected? True True\n"
     ]
    },
    {
     "name": "stderr",
     "output_type": "stream",
     "text": [
      "\u001b[A\n",
      " 29%|██▉       | 351/1200 [02:18<05:40,  2.49it/s]"
     ]
    },
    {
     "name": "stdout",
     "output_type": "stream",
     "text": [
      "Sliding window being executed...\n",
      "31.1172929907\n",
      "6128.44733677\n",
      "Sanity flag= 1\n",
      "Are lanes detected? True True\n"
     ]
    },
    {
     "name": "stderr",
     "output_type": "stream",
     "text": [
      "\u001b[A\n",
      " 29%|██▉       | 352/1200 [02:18<05:35,  2.53it/s]"
     ]
    },
    {
     "name": "stdout",
     "output_type": "stream",
     "text": [
      "Sliding window being executed...\n",
      "63.5583763959\n",
      "1244.0636675\n",
      "Sanity flag= 1\n",
      "Are lanes detected? True True\n"
     ]
    },
    {
     "name": "stderr",
     "output_type": "stream",
     "text": [
      "\u001b[A\n",
      " 29%|██▉       | 353/1200 [02:18<05:31,  2.56it/s]"
     ]
    },
    {
     "name": "stdout",
     "output_type": "stream",
     "text": [
      "Sliding window being executed...\n",
      "19.3267629672\n",
      "774.786548238\n",
      "Sanity flag= 1\n",
      "Are lanes detected? True True\n"
     ]
    },
    {
     "name": "stderr",
     "output_type": "stream",
     "text": [
      "\u001b[A\n",
      " 30%|██▉       | 354/1200 [02:19<05:39,  2.49it/s]"
     ]
    },
    {
     "name": "stdout",
     "output_type": "stream",
     "text": [
      "Sliding window being executed...\n",
      "16.9952157661\n",
      "395.232818874\n",
      "Sanity flag= 1\n",
      "Are lanes detected? True True\n"
     ]
    },
    {
     "name": "stderr",
     "output_type": "stream",
     "text": [
      "\u001b[A\n",
      " 30%|██▉       | 355/1200 [02:19<05:40,  2.48it/s]"
     ]
    },
    {
     "name": "stdout",
     "output_type": "stream",
     "text": [
      "Sliding window being executed...\n",
      "137.859188443\n",
      "2654.74849756\n",
      "Sanity flag= 1\n",
      "Are lanes detected? True True\n"
     ]
    },
    {
     "name": "stderr",
     "output_type": "stream",
     "text": [
      "\u001b[A\n",
      " 30%|██▉       | 356/1200 [02:20<05:49,  2.41it/s]"
     ]
    },
    {
     "name": "stdout",
     "output_type": "stream",
     "text": [
      "Sliding window being executed...\n",
      "232.367207075\n",
      "2647.13699216\n",
      "Sanity flag= 1\n",
      "Are lanes detected? True True\n"
     ]
    },
    {
     "name": "stderr",
     "output_type": "stream",
     "text": [
      "\u001b[A\n",
      " 30%|██▉       | 357/1200 [02:20<05:52,  2.39it/s]"
     ]
    },
    {
     "name": "stdout",
     "output_type": "stream",
     "text": [
      "Sliding window being executed...\n",
      "119.640934024\n",
      "600.391344312\n",
      "Sanity flag= 1\n",
      "Are lanes detected? True True\n"
     ]
    },
    {
     "name": "stderr",
     "output_type": "stream",
     "text": [
      "\u001b[A\n",
      " 30%|██▉       | 358/1200 [02:21<05:56,  2.36it/s]"
     ]
    },
    {
     "name": "stdout",
     "output_type": "stream",
     "text": [
      "Sliding window being executed...\n",
      "499.826437761\n",
      "1173.18590437\n",
      "Sanity flag= 0\n",
      "Are lanes detected? True True\n"
     ]
    },
    {
     "name": "stderr",
     "output_type": "stream",
     "text": [
      "\u001b[A\n",
      " 30%|██▉       | 359/1200 [02:21<05:59,  2.34it/s]"
     ]
    },
    {
     "name": "stdout",
     "output_type": "stream",
     "text": [
      "Sliding window being executed...\n",
      "718.538699131\n",
      "1507.46573371\n",
      "Sanity flag= 1\n",
      "Are lanes detected? True True\n"
     ]
    },
    {
     "name": "stderr",
     "output_type": "stream",
     "text": [
      "\u001b[A\n",
      " 30%|███       | 360/1200 [02:21<06:03,  2.31it/s]"
     ]
    },
    {
     "name": "stdout",
     "output_type": "stream",
     "text": [
      "Sliding window being executed...\n",
      "227.022344321\n",
      "1561.18926311\n",
      "Sanity flag= 1\n",
      "Are lanes detected? True True\n"
     ]
    },
    {
     "name": "stderr",
     "output_type": "stream",
     "text": [
      "\u001b[A\n",
      " 30%|███       | 361/1200 [02:22<05:59,  2.33it/s]"
     ]
    },
    {
     "name": "stdout",
     "output_type": "stream",
     "text": [
      "Sliding window being executed...\n",
      "342.268644216\n",
      "1258.92200103\n",
      "Sanity flag= 1\n",
      "Are lanes detected? True True\n"
     ]
    },
    {
     "name": "stderr",
     "output_type": "stream",
     "text": [
      "\u001b[A\n",
      " 30%|███       | 362/1200 [02:22<05:47,  2.41it/s]"
     ]
    },
    {
     "name": "stdout",
     "output_type": "stream",
     "text": [
      "Sliding window being executed...\n",
      "196.265084108\n",
      "1672.73428503\n",
      "Sanity flag= 1\n",
      "Are lanes detected? True True\n"
     ]
    },
    {
     "name": "stderr",
     "output_type": "stream",
     "text": [
      "\u001b[A\n",
      " 30%|███       | 363/1200 [02:23<05:42,  2.45it/s]"
     ]
    },
    {
     "name": "stdout",
     "output_type": "stream",
     "text": [
      "Sliding window being executed...\n",
      "280.765122694\n",
      "1866.06472915\n",
      "Sanity flag= 1\n",
      "Are lanes detected? True True\n"
     ]
    },
    {
     "name": "stderr",
     "output_type": "stream",
     "text": [
      "\u001b[A\n",
      " 30%|███       | 364/1200 [02:23<05:40,  2.46it/s]"
     ]
    },
    {
     "name": "stdout",
     "output_type": "stream",
     "text": [
      "Sliding window being executed...\n",
      "801.357943973\n",
      "3994.6520625\n",
      "Sanity flag= 1\n",
      "Are lanes detected? True True\n"
     ]
    },
    {
     "name": "stderr",
     "output_type": "stream",
     "text": [
      "\u001b[A\n",
      " 30%|███       | 365/1200 [02:23<05:36,  2.48it/s]"
     ]
    },
    {
     "name": "stdout",
     "output_type": "stream",
     "text": [
      "Sliding window being executed...\n",
      "11978.5777496\n",
      "3066.75507428\n",
      "Sanity flag= 1\n",
      "Are lanes detected? True True\n"
     ]
    },
    {
     "name": "stderr",
     "output_type": "stream",
     "text": [
      "\u001b[A\n",
      " 30%|███       | 366/1200 [02:24<05:47,  2.40it/s]"
     ]
    },
    {
     "name": "stdout",
     "output_type": "stream",
     "text": [
      "Sliding window being executed...\n",
      "2872.86769761\n",
      "1945.12044774\n",
      "Sanity flag= 1\n",
      "Are lanes detected? True True\n"
     ]
    },
    {
     "name": "stderr",
     "output_type": "stream",
     "text": [
      "\u001b[A\n",
      " 31%|███       | 367/1200 [02:24<06:00,  2.31it/s]"
     ]
    },
    {
     "name": "stdout",
     "output_type": "stream",
     "text": [
      "Sliding window being executed...\n",
      "4846.19725287\n",
      "1680.61032261\n",
      "Sanity flag= 1\n",
      "Are lanes detected? True True\n"
     ]
    },
    {
     "name": "stderr",
     "output_type": "stream",
     "text": [
      "\u001b[A\n",
      " 31%|███       | 368/1200 [02:25<05:58,  2.32it/s]"
     ]
    },
    {
     "name": "stdout",
     "output_type": "stream",
     "text": [
      "Sliding window being executed...\n",
      "3904.59494635\n",
      "7188.13158946\n",
      "Sanity flag= 1\n",
      "Are lanes detected? True True\n"
     ]
    },
    {
     "name": "stderr",
     "output_type": "stream",
     "text": [
      "\u001b[A\n",
      " 31%|███       | 369/1200 [02:25<05:52,  2.36it/s]"
     ]
    },
    {
     "name": "stdout",
     "output_type": "stream",
     "text": [
      "Sliding window being executed...\n",
      "4048.73737992\n",
      "4528.51662367\n",
      "Sanity flag= 1\n",
      "Are lanes detected? True True\n"
     ]
    },
    {
     "name": "stderr",
     "output_type": "stream",
     "text": [
      "\u001b[A\n",
      " 31%|███       | 370/1200 [02:26<05:55,  2.33it/s]"
     ]
    },
    {
     "name": "stdout",
     "output_type": "stream",
     "text": [
      "Sliding window being executed...\n",
      "7747.07446081\n",
      "2998.40099888\n",
      "Sanity flag= 1\n",
      "Are lanes detected? True True\n"
     ]
    },
    {
     "name": "stderr",
     "output_type": "stream",
     "text": [
      "\u001b[A\n",
      " 31%|███       | 371/1200 [02:26<06:00,  2.30it/s]"
     ]
    },
    {
     "name": "stdout",
     "output_type": "stream",
     "text": [
      "Sliding window being executed...\n",
      "5154.57317717\n",
      "1599.6986916\n",
      "Sanity flag= 1\n",
      "Are lanes detected? True True\n"
     ]
    },
    {
     "name": "stderr",
     "output_type": "stream",
     "text": [
      "\u001b[A\n",
      " 31%|███       | 372/1200 [02:27<06:05,  2.27it/s]"
     ]
    },
    {
     "name": "stdout",
     "output_type": "stream",
     "text": [
      "Sliding window being executed...\n",
      "1123.65034658\n",
      "1727.26861303\n",
      "Sanity flag= 1\n",
      "Are lanes detected? True True\n"
     ]
    },
    {
     "name": "stderr",
     "output_type": "stream",
     "text": [
      "\u001b[A\n",
      " 31%|███       | 373/1200 [02:27<06:11,  2.22it/s]"
     ]
    },
    {
     "name": "stdout",
     "output_type": "stream",
     "text": [
      "Sliding window being executed...\n",
      "3636.43888177\n",
      "1179.22132227\n",
      "Sanity flag= 1\n",
      "Are lanes detected? True True\n"
     ]
    },
    {
     "name": "stderr",
     "output_type": "stream",
     "text": [
      "\u001b[A\n",
      " 31%|███       | 374/1200 [02:27<05:58,  2.30it/s]"
     ]
    },
    {
     "name": "stdout",
     "output_type": "stream",
     "text": [
      "Sliding window being executed...\n",
      "1525.76452466\n",
      "556.660435247\n",
      "Sanity flag= 1\n",
      "Are lanes detected? True True\n"
     ]
    },
    {
     "name": "stderr",
     "output_type": "stream",
     "text": [
      "\u001b[A\n",
      " 31%|███▏      | 375/1200 [02:28<05:51,  2.35it/s]"
     ]
    },
    {
     "name": "stdout",
     "output_type": "stream",
     "text": [
      "Sliding window being executed...\n",
      "1764.55335538\n",
      "430.17426524\n",
      "Sanity flag= 1\n",
      "Are lanes detected? True True\n"
     ]
    },
    {
     "name": "stderr",
     "output_type": "stream",
     "text": [
      "\u001b[A\n",
      " 31%|███▏      | 376/1200 [02:28<05:42,  2.40it/s]"
     ]
    },
    {
     "name": "stdout",
     "output_type": "stream",
     "text": [
      "Sliding window being executed...\n",
      "2284.18209907\n",
      "866.181323378\n",
      "Sanity flag= 1\n",
      "Are lanes detected? True True\n"
     ]
    },
    {
     "name": "stderr",
     "output_type": "stream",
     "text": [
      "\u001b[A\n",
      " 31%|███▏      | 377/1200 [02:29<05:37,  2.44it/s]"
     ]
    },
    {
     "name": "stdout",
     "output_type": "stream",
     "text": [
      "Sliding window being executed...\n",
      "8176.78583834\n",
      "2717.56817818\n",
      "Sanity flag= 1\n",
      "Are lanes detected? True True\n"
     ]
    },
    {
     "name": "stderr",
     "output_type": "stream",
     "text": [
      "\u001b[A\n",
      " 32%|███▏      | 378/1200 [02:29<05:38,  2.43it/s]"
     ]
    },
    {
     "name": "stdout",
     "output_type": "stream",
     "text": [
      "Sliding window being executed...\n",
      "4345.71099939\n",
      "4732.4131698\n",
      "Sanity flag= 1\n",
      "Are lanes detected? True True\n"
     ]
    },
    {
     "name": "stderr",
     "output_type": "stream",
     "text": [
      "\u001b[A\n",
      " 32%|███▏      | 379/1200 [02:29<05:39,  2.42it/s]"
     ]
    },
    {
     "name": "stdout",
     "output_type": "stream",
     "text": [
      "Sliding window being executed...\n",
      "51169.4940608\n",
      "33899.6175541\n",
      "Sanity flag= 1\n",
      "Are lanes detected? True True\n"
     ]
    },
    {
     "name": "stderr",
     "output_type": "stream",
     "text": [
      "\u001b[A\n",
      " 32%|███▏      | 380/1200 [02:30<05:39,  2.42it/s]"
     ]
    },
    {
     "name": "stdout",
     "output_type": "stream",
     "text": [
      "Sliding window being executed...\n",
      "1335.0099277\n",
      "6347.21264716\n",
      "Sanity flag= 1\n",
      "Are lanes detected? True True\n"
     ]
    },
    {
     "name": "stderr",
     "output_type": "stream",
     "text": [
      "\u001b[A\n",
      " 32%|███▏      | 381/1200 [02:30<05:35,  2.44it/s]"
     ]
    },
    {
     "name": "stdout",
     "output_type": "stream",
     "text": [
      "Sliding window being executed...\n",
      "2144.01551238\n",
      "1165.78791673\n",
      "Sanity flag= 1\n",
      "Are lanes detected? True True\n"
     ]
    },
    {
     "name": "stderr",
     "output_type": "stream",
     "text": [
      "\u001b[A\n",
      " 32%|███▏      | 382/1200 [02:31<05:33,  2.45it/s]"
     ]
    },
    {
     "name": "stdout",
     "output_type": "stream",
     "text": [
      "Sliding window being executed...\n",
      "2043.05708303\n",
      "2321.36409279\n",
      "Sanity flag= 1\n",
      "Are lanes detected? True True\n"
     ]
    },
    {
     "name": "stderr",
     "output_type": "stream",
     "text": [
      "\u001b[A\n",
      " 32%|███▏      | 383/1200 [02:31<05:33,  2.45it/s]"
     ]
    },
    {
     "name": "stdout",
     "output_type": "stream",
     "text": [
      "Sliding window being executed...\n",
      "1329.18145551\n",
      "19455.5633717\n",
      "Sanity flag= 1\n",
      "Are lanes detected? True True\n"
     ]
    },
    {
     "name": "stderr",
     "output_type": "stream",
     "text": [
      "\u001b[A\n",
      " 32%|███▏      | 384/1200 [02:32<05:33,  2.44it/s]"
     ]
    },
    {
     "name": "stdout",
     "output_type": "stream",
     "text": [
      "Sliding window being executed...\n",
      "1603.99035467\n",
      "1428.81932944\n",
      "Sanity flag= 1\n",
      "Are lanes detected? True True\n"
     ]
    },
    {
     "name": "stderr",
     "output_type": "stream",
     "text": [
      "\u001b[A\n",
      " 32%|███▏      | 385/1200 [02:32<05:36,  2.42it/s]"
     ]
    },
    {
     "name": "stdout",
     "output_type": "stream",
     "text": [
      "Sliding window being executed...\n",
      "1442.41469869\n",
      "1360.80194252\n",
      "Sanity flag= 1\n",
      "Are lanes detected? True True\n"
     ]
    },
    {
     "name": "stderr",
     "output_type": "stream",
     "text": [
      "\u001b[A\n",
      " 32%|███▏      | 386/1200 [02:32<05:38,  2.40it/s]"
     ]
    },
    {
     "name": "stdout",
     "output_type": "stream",
     "text": [
      "Sliding window being executed...\n",
      "1363.35244089\n",
      "1001.73961712\n",
      "Sanity flag= 1\n",
      "Are lanes detected? True True\n"
     ]
    },
    {
     "name": "stderr",
     "output_type": "stream",
     "text": [
      "\u001b[A\n",
      " 32%|███▏      | 387/1200 [02:33<05:41,  2.38it/s]"
     ]
    },
    {
     "name": "stdout",
     "output_type": "stream",
     "text": [
      "Sliding window being executed...\n",
      "7059.8217934\n",
      "1354.6491579\n",
      "Sanity flag= 1\n",
      "Are lanes detected? True True\n"
     ]
    },
    {
     "name": "stderr",
     "output_type": "stream",
     "text": [
      "\u001b[A\n",
      " 32%|███▏      | 388/1200 [02:33<05:39,  2.39it/s]"
     ]
    },
    {
     "name": "stdout",
     "output_type": "stream",
     "text": [
      "Sliding window being executed...\n",
      "3884.18015397\n",
      "1396.35972987\n",
      "Sanity flag= 1\n",
      "Are lanes detected? True True\n"
     ]
    },
    {
     "name": "stderr",
     "output_type": "stream",
     "text": [
      "\u001b[A\n",
      " 32%|███▏      | 389/1200 [02:34<05:58,  2.26it/s]"
     ]
    },
    {
     "name": "stdout",
     "output_type": "stream",
     "text": [
      "Sliding window being executed...\n",
      "898.102926672\n",
      "1322.39788898\n",
      "Sanity flag= 1\n",
      "Are lanes detected? True True\n"
     ]
    },
    {
     "name": "stderr",
     "output_type": "stream",
     "text": [
      "\u001b[A\n",
      " 32%|███▎      | 390/1200 [02:34<06:00,  2.25it/s]"
     ]
    },
    {
     "name": "stdout",
     "output_type": "stream",
     "text": [
      "Sliding window being executed...\n",
      "709.084137013\n",
      "1359.67791154\n",
      "Sanity flag= 1\n",
      "Are lanes detected? True True\n"
     ]
    },
    {
     "name": "stderr",
     "output_type": "stream",
     "text": [
      "\u001b[A\n",
      " 33%|███▎      | 391/1200 [02:35<05:56,  2.27it/s]"
     ]
    },
    {
     "name": "stdout",
     "output_type": "stream",
     "text": [
      "Sliding window being executed...\n",
      "1934.12795036\n",
      "7012.99449485\n",
      "Sanity flag= 1\n",
      "Are lanes detected? True True\n"
     ]
    },
    {
     "name": "stderr",
     "output_type": "stream",
     "text": [
      "\u001b[A\n",
      " 33%|███▎      | 392/1200 [02:35<05:48,  2.32it/s]"
     ]
    },
    {
     "name": "stdout",
     "output_type": "stream",
     "text": [
      "Sliding window being executed...\n",
      "2237.40082198\n",
      "3657.45158694\n",
      "Sanity flag= 1\n",
      "Are lanes detected? True True\n"
     ]
    },
    {
     "name": "stderr",
     "output_type": "stream",
     "text": [
      "\u001b[A\n",
      " 33%|███▎      | 393/1200 [02:35<05:46,  2.33it/s]"
     ]
    },
    {
     "name": "stdout",
     "output_type": "stream",
     "text": [
      "Sliding window being executed...\n",
      "90780.7722977\n",
      "1634.4340638\n",
      "Sanity flag= 1\n",
      "Are lanes detected? True True\n"
     ]
    },
    {
     "name": "stderr",
     "output_type": "stream",
     "text": [
      "\u001b[A\n",
      " 33%|███▎      | 394/1200 [02:36<05:44,  2.34it/s]"
     ]
    },
    {
     "name": "stdout",
     "output_type": "stream",
     "text": [
      "Sliding window being executed...\n",
      "2421.09241189\n",
      "2020.40452829\n",
      "Sanity flag= 1\n",
      "Are lanes detected? True True\n"
     ]
    },
    {
     "name": "stderr",
     "output_type": "stream",
     "text": [
      "\u001b[A\n",
      " 33%|███▎      | 395/1200 [02:36<05:43,  2.35it/s]"
     ]
    },
    {
     "name": "stdout",
     "output_type": "stream",
     "text": [
      "Sliding window being executed...\n",
      "1523.06611202\n",
      "4762.40212022\n",
      "Sanity flag= 1\n",
      "Are lanes detected? True True\n"
     ]
    },
    {
     "name": "stderr",
     "output_type": "stream",
     "text": [
      "\u001b[A\n",
      " 33%|███▎      | 396/1200 [02:37<05:49,  2.30it/s]"
     ]
    },
    {
     "name": "stdout",
     "output_type": "stream",
     "text": [
      "Sliding window being executed...\n",
      "2697.51062088\n",
      "2657.31715276\n",
      "Sanity flag= 1\n",
      "Are lanes detected? True True\n"
     ]
    },
    {
     "name": "stderr",
     "output_type": "stream",
     "text": [
      "\u001b[A\n",
      " 33%|███▎      | 397/1200 [02:37<05:54,  2.26it/s]"
     ]
    },
    {
     "name": "stdout",
     "output_type": "stream",
     "text": [
      "Sliding window being executed...\n",
      "1796.59459342\n",
      "1971.78385619\n",
      "Sanity flag= 1\n",
      "Are lanes detected? True True\n"
     ]
    },
    {
     "name": "stderr",
     "output_type": "stream",
     "text": [
      "\u001b[A\n",
      " 33%|███▎      | 398/1200 [02:38<05:50,  2.29it/s]"
     ]
    },
    {
     "name": "stdout",
     "output_type": "stream",
     "text": [
      "Sliding window being executed...\n",
      "4081.98915498\n",
      "844.733101695\n",
      "Sanity flag= 1\n",
      "Are lanes detected? True True\n"
     ]
    },
    {
     "name": "stderr",
     "output_type": "stream",
     "text": [
      "\u001b[A\n",
      " 33%|███▎      | 399/1200 [02:38<05:45,  2.32it/s]"
     ]
    },
    {
     "name": "stdout",
     "output_type": "stream",
     "text": [
      "Sliding window being executed...\n",
      "423.164242649\n",
      "997.421763251\n",
      "Sanity flag= 0\n",
      "Are lanes detected? True True\n"
     ]
    },
    {
     "name": "stderr",
     "output_type": "stream",
     "text": [
      "\u001b[A\n",
      " 33%|███▎      | 400/1200 [02:38<05:44,  2.32it/s]"
     ]
    },
    {
     "name": "stdout",
     "output_type": "stream",
     "text": [
      "Sliding window being executed...\n",
      "876.009002682\n",
      "1247.95770845\n",
      "Sanity flag= 1\n",
      "Are lanes detected? True True\n"
     ]
    },
    {
     "name": "stderr",
     "output_type": "stream",
     "text": [
      "\u001b[A\n",
      " 33%|███▎      | 401/1200 [02:39<05:43,  2.33it/s]"
     ]
    },
    {
     "name": "stdout",
     "output_type": "stream",
     "text": [
      "Sliding window being executed...\n",
      "15883.8550638\n",
      "2791.29776558\n",
      "Sanity flag= 1\n",
      "Are lanes detected? True True\n"
     ]
    },
    {
     "name": "stderr",
     "output_type": "stream",
     "text": [
      "\u001b[A\n",
      " 34%|███▎      | 402/1200 [02:39<05:50,  2.28it/s]"
     ]
    },
    {
     "name": "stdout",
     "output_type": "stream",
     "text": [
      "Sliding window being executed...\n",
      "595.109259298\n",
      "3261.6108393\n",
      "Sanity flag= 1\n",
      "Are lanes detected? True True\n"
     ]
    },
    {
     "name": "stderr",
     "output_type": "stream",
     "text": [
      "\u001b[A\n",
      " 34%|███▎      | 403/1200 [02:40<06:00,  2.21it/s]"
     ]
    },
    {
     "name": "stdout",
     "output_type": "stream",
     "text": [
      "Sliding window being executed...\n",
      "783.749067297\n",
      "3768.70369784\n",
      "Sanity flag= 1\n",
      "Are lanes detected? True True\n"
     ]
    },
    {
     "name": "stderr",
     "output_type": "stream",
     "text": [
      "\u001b[A\n",
      " 34%|███▎      | 404/1200 [02:40<05:57,  2.22it/s]"
     ]
    },
    {
     "name": "stdout",
     "output_type": "stream",
     "text": [
      "Sliding window being executed...\n",
      "521.347180184\n",
      "2326.29019508\n",
      "Sanity flag= 1\n",
      "Are lanes detected? True True\n"
     ]
    },
    {
     "name": "stderr",
     "output_type": "stream",
     "text": [
      "\u001b[A\n",
      " 34%|███▍      | 405/1200 [02:41<05:57,  2.23it/s]"
     ]
    },
    {
     "name": "stdout",
     "output_type": "stream",
     "text": [
      "Sliding window being executed...\n",
      "720.051215164\n",
      "2833.89129658\n",
      "Sanity flag= 1\n",
      "Are lanes detected? True True\n"
     ]
    },
    {
     "name": "stderr",
     "output_type": "stream",
     "text": [
      "\u001b[A\n",
      " 34%|███▍      | 406/1200 [02:41<05:53,  2.25it/s]"
     ]
    },
    {
     "name": "stdout",
     "output_type": "stream",
     "text": [
      "Sliding window being executed...\n",
      "949.534658237\n",
      "1675.10528487\n",
      "Sanity flag= 1\n",
      "Are lanes detected? True True\n"
     ]
    },
    {
     "name": "stderr",
     "output_type": "stream",
     "text": [
      "\u001b[A\n",
      " 34%|███▍      | 407/1200 [02:42<05:50,  2.26it/s]"
     ]
    },
    {
     "name": "stdout",
     "output_type": "stream",
     "text": [
      "Sliding window being executed...\n",
      "930.00079946\n",
      "1433.98870301\n",
      "Sanity flag= 1\n",
      "Are lanes detected? True True\n"
     ]
    },
    {
     "name": "stderr",
     "output_type": "stream",
     "text": [
      "\u001b[A\n",
      " 34%|███▍      | 408/1200 [02:42<05:48,  2.27it/s]"
     ]
    },
    {
     "name": "stdout",
     "output_type": "stream",
     "text": [
      "Sliding window being executed...\n",
      "1795.9428337\n",
      "1189.93468732\n",
      "Sanity flag= 1\n",
      "Are lanes detected? True True\n"
     ]
    },
    {
     "name": "stderr",
     "output_type": "stream",
     "text": [
      "\u001b[A\n",
      " 34%|███▍      | 409/1200 [02:43<06:00,  2.19it/s]"
     ]
    },
    {
     "name": "stdout",
     "output_type": "stream",
     "text": [
      "Sliding window being executed...\n",
      "1493.26441147\n",
      "1041.07401088\n",
      "Sanity flag= 1\n",
      "Are lanes detected? True True\n"
     ]
    },
    {
     "name": "stderr",
     "output_type": "stream",
     "text": [
      "\u001b[A\n",
      " 34%|███▍      | 410/1200 [02:43<05:46,  2.28it/s]"
     ]
    },
    {
     "name": "stdout",
     "output_type": "stream",
     "text": [
      "Sliding window being executed...\n",
      "148.425917177\n",
      "1171.10886481\n",
      "Sanity flag= 1\n",
      "Are lanes detected? True True\n"
     ]
    },
    {
     "name": "stderr",
     "output_type": "stream",
     "text": [
      "\u001b[A\n",
      " 34%|███▍      | 411/1200 [02:43<05:34,  2.36it/s]"
     ]
    },
    {
     "name": "stdout",
     "output_type": "stream",
     "text": [
      "Sliding window being executed...\n",
      "173.632961486\n",
      "960.064341697\n",
      "Sanity flag= 0\n",
      "Are lanes detected? True True\n"
     ]
    },
    {
     "name": "stderr",
     "output_type": "stream",
     "text": [
      "\u001b[A\n",
      " 34%|███▍      | 412/1200 [02:44<05:31,  2.38it/s]"
     ]
    },
    {
     "name": "stdout",
     "output_type": "stream",
     "text": [
      "Sliding window being executed...\n",
      "225.985436788\n",
      "775.45310415\n",
      "Sanity flag= 0\n",
      "Are lanes detected? True True\n"
     ]
    },
    {
     "name": "stderr",
     "output_type": "stream",
     "text": [
      "\u001b[A\n",
      " 34%|███▍      | 413/1200 [02:44<05:37,  2.33it/s]"
     ]
    },
    {
     "name": "stdout",
     "output_type": "stream",
     "text": [
      "Sliding window being executed...\n",
      "125.996138276\n",
      "873.290661528\n",
      "Sanity flag= 1\n",
      "Are lanes detected? True True\n"
     ]
    },
    {
     "name": "stderr",
     "output_type": "stream",
     "text": [
      "\u001b[A\n",
      " 34%|███▍      | 414/1200 [02:45<05:36,  2.33it/s]"
     ]
    },
    {
     "name": "stdout",
     "output_type": "stream",
     "text": [
      "Sliding window being executed...\n",
      "127.834827075\n",
      "1861.5200249\n",
      "Sanity flag= 1\n",
      "Are lanes detected? True True\n"
     ]
    },
    {
     "name": "stderr",
     "output_type": "stream",
     "text": [
      "\u001b[A\n",
      " 35%|███▍      | 415/1200 [02:45<05:41,  2.30it/s]"
     ]
    },
    {
     "name": "stdout",
     "output_type": "stream",
     "text": [
      "Sliding window being executed...\n",
      "120.168224945\n",
      "2171.08257547\n",
      "Sanity flag= 1\n",
      "Are lanes detected? True True\n"
     ]
    },
    {
     "name": "stderr",
     "output_type": "stream",
     "text": [
      "\u001b[A\n",
      " 35%|███▍      | 416/1200 [02:45<05:35,  2.33it/s]"
     ]
    },
    {
     "name": "stdout",
     "output_type": "stream",
     "text": [
      "Sliding window being executed...\n",
      "434.494461475\n",
      "982.577134918\n",
      "Sanity flag= 0\n",
      "Are lanes detected? True True\n"
     ]
    },
    {
     "name": "stderr",
     "output_type": "stream",
     "text": [
      "\u001b[A\n",
      " 35%|███▍      | 417/1200 [02:46<05:33,  2.35it/s]"
     ]
    },
    {
     "name": "stdout",
     "output_type": "stream",
     "text": [
      "Sliding window being executed...\n",
      "4723.01549053\n",
      "1335.90397821\n",
      "Sanity flag= 1\n",
      "Are lanes detected? True True\n"
     ]
    },
    {
     "name": "stderr",
     "output_type": "stream",
     "text": [
      "\u001b[A\n",
      " 35%|███▍      | 418/1200 [02:46<05:29,  2.37it/s]"
     ]
    },
    {
     "name": "stdout",
     "output_type": "stream",
     "text": [
      "Sliding window being executed...\n",
      "249.490612973\n",
      "3819.8551981\n",
      "Sanity flag= 1\n",
      "Are lanes detected? True True\n"
     ]
    },
    {
     "name": "stderr",
     "output_type": "stream",
     "text": [
      "\u001b[A\n",
      " 35%|███▍      | 419/1200 [02:47<05:35,  2.33it/s]"
     ]
    },
    {
     "name": "stdout",
     "output_type": "stream",
     "text": [
      "Sliding window being executed...\n",
      "263.744671137\n",
      "1184.48406812\n",
      "Sanity flag= 0\n",
      "Are lanes detected? True True\n"
     ]
    },
    {
     "name": "stderr",
     "output_type": "stream",
     "text": [
      "\u001b[A\n",
      " 35%|███▌      | 420/1200 [02:47<05:27,  2.38it/s]"
     ]
    },
    {
     "name": "stdout",
     "output_type": "stream",
     "text": [
      "Sliding window being executed...\n",
      "317.392906235\n",
      "5880.93184707\n",
      "Sanity flag= 1\n",
      "Are lanes detected? True True\n"
     ]
    },
    {
     "name": "stderr",
     "output_type": "stream",
     "text": [
      "\u001b[A\n",
      " 35%|███▌      | 421/1200 [02:48<05:24,  2.40it/s]"
     ]
    },
    {
     "name": "stdout",
     "output_type": "stream",
     "text": [
      "Sliding window being executed...\n",
      "1704.36481025\n",
      "977.766672231\n",
      "Sanity flag= 1\n",
      "Are lanes detected? True True\n"
     ]
    },
    {
     "name": "stderr",
     "output_type": "stream",
     "text": [
      "\u001b[A\n",
      " 35%|███▌      | 422/1200 [02:48<05:20,  2.43it/s]"
     ]
    },
    {
     "name": "stdout",
     "output_type": "stream",
     "text": [
      "Sliding window being executed...\n",
      "914.467285563\n",
      "1093.40637658\n",
      "Sanity flag= 0\n",
      "Are lanes detected? True True\n"
     ]
    },
    {
     "name": "stderr",
     "output_type": "stream",
     "text": [
      "\u001b[A\n",
      " 35%|███▌      | 423/1200 [02:48<05:18,  2.44it/s]"
     ]
    },
    {
     "name": "stdout",
     "output_type": "stream",
     "text": [
      "Sliding window being executed...\n",
      "399.579534557\n",
      "2854.4038229\n",
      "Sanity flag= 1\n",
      "Are lanes detected? True True\n"
     ]
    },
    {
     "name": "stderr",
     "output_type": "stream",
     "text": [
      "\u001b[A\n",
      " 35%|███▌      | 424/1200 [02:49<05:18,  2.44it/s]"
     ]
    },
    {
     "name": "stdout",
     "output_type": "stream",
     "text": [
      "Sliding window being executed...\n",
      "495.009452551\n",
      "2382.11958131\n",
      "Sanity flag= 1\n",
      "Are lanes detected? True True\n"
     ]
    },
    {
     "name": "stderr",
     "output_type": "stream",
     "text": [
      "\u001b[A\n",
      " 35%|███▌      | 425/1200 [02:49<05:16,  2.45it/s]"
     ]
    },
    {
     "name": "stdout",
     "output_type": "stream",
     "text": [
      "Sliding window being executed...\n",
      "304.206742575\n",
      "1990.54672976\n",
      "Sanity flag= 1\n",
      "Are lanes detected? True True\n"
     ]
    },
    {
     "name": "stderr",
     "output_type": "stream",
     "text": [
      "\u001b[A\n",
      " 36%|███▌      | 426/1200 [02:50<05:17,  2.43it/s]"
     ]
    },
    {
     "name": "stdout",
     "output_type": "stream",
     "text": [
      "Sliding window being executed...\n",
      "267.433292697\n",
      "1302.29616462\n",
      "Sanity flag= 1\n",
      "Are lanes detected? True True\n"
     ]
    },
    {
     "name": "stderr",
     "output_type": "stream",
     "text": [
      "\u001b[A\n",
      " 36%|███▌      | 427/1200 [02:50<05:21,  2.40it/s]"
     ]
    },
    {
     "name": "stdout",
     "output_type": "stream",
     "text": [
      "Sliding window being executed...\n",
      "339.168961548\n",
      "2478.31615586\n",
      "Sanity flag= 1\n",
      "Are lanes detected? True True\n"
     ]
    },
    {
     "name": "stderr",
     "output_type": "stream",
     "text": [
      "\u001b[A\n",
      " 36%|███▌      | 428/1200 [02:50<05:20,  2.41it/s]"
     ]
    },
    {
     "name": "stdout",
     "output_type": "stream",
     "text": [
      "Sliding window being executed...\n",
      "480.550972467\n",
      "2844.93643\n",
      "Sanity flag= 1\n",
      "Are lanes detected? True True\n"
     ]
    },
    {
     "name": "stderr",
     "output_type": "stream",
     "text": [
      "\u001b[A\n",
      " 36%|███▌      | 429/1200 [02:51<05:15,  2.44it/s]"
     ]
    },
    {
     "name": "stdout",
     "output_type": "stream",
     "text": [
      "Sliding window being executed...\n",
      "1900.77702578\n",
      "626.57552636\n",
      "Sanity flag= 1\n",
      "Are lanes detected? True True\n"
     ]
    },
    {
     "name": "stderr",
     "output_type": "stream",
     "text": [
      "\u001b[A\n",
      " 36%|███▌      | 430/1200 [02:51<05:12,  2.46it/s]"
     ]
    },
    {
     "name": "stdout",
     "output_type": "stream",
     "text": [
      "Sliding window being executed...\n",
      "5914.08017966\n",
      "544.442282243\n",
      "Sanity flag= 1\n",
      "Are lanes detected? True True\n"
     ]
    },
    {
     "name": "stderr",
     "output_type": "stream",
     "text": [
      "\u001b[A\n",
      " 36%|███▌      | 431/1200 [02:52<05:17,  2.42it/s]"
     ]
    },
    {
     "name": "stdout",
     "output_type": "stream",
     "text": [
      "Sliding window being executed...\n",
      "1164.26632939\n",
      "569.678332739\n",
      "Sanity flag= 0\n",
      "Are lanes detected? True True\n"
     ]
    },
    {
     "name": "stderr",
     "output_type": "stream",
     "text": [
      "\u001b[A\n",
      " 36%|███▌      | 432/1200 [02:52<05:16,  2.42it/s]"
     ]
    },
    {
     "name": "stdout",
     "output_type": "stream",
     "text": [
      "Sliding window being executed...\n",
      "1228.03839923\n",
      "567.418881406\n",
      "Sanity flag= 1\n",
      "Are lanes detected? True True\n"
     ]
    },
    {
     "name": "stderr",
     "output_type": "stream",
     "text": [
      "\u001b[A\n",
      " 36%|███▌      | 433/1200 [02:53<06:18,  2.02it/s]"
     ]
    },
    {
     "name": "stdout",
     "output_type": "stream",
     "text": [
      "Sliding window being executed...\n",
      "995.34404463\n",
      "384.891328251\n",
      "Sanity flag= 0\n",
      "Are lanes detected? True True\n"
     ]
    },
    {
     "name": "stderr",
     "output_type": "stream",
     "text": [
      "\u001b[A\n",
      " 36%|███▌      | 434/1200 [02:53<06:53,  1.85it/s]"
     ]
    },
    {
     "name": "stdout",
     "output_type": "stream",
     "text": [
      "Sliding window being executed...\n",
      "812.147012423\n",
      "362.227048238\n",
      "Sanity flag= 0\n",
      "Are lanes detected? True True\n"
     ]
    },
    {
     "name": "stderr",
     "output_type": "stream",
     "text": [
      "\u001b[A\n",
      " 36%|███▋      | 435/1200 [02:54<07:17,  1.75it/s]"
     ]
    },
    {
     "name": "stdout",
     "output_type": "stream",
     "text": [
      "Sliding window being executed...\n",
      "11909.6436021\n",
      "498.419719903\n",
      "Sanity flag= 1\n",
      "Are lanes detected? True True\n"
     ]
    },
    {
     "name": "stderr",
     "output_type": "stream",
     "text": [
      "\u001b[A\n",
      " 36%|███▋      | 436/1200 [02:55<07:37,  1.67it/s]"
     ]
    },
    {
     "name": "stdout",
     "output_type": "stream",
     "text": [
      "Sliding window being executed...\n",
      "378.626428882\n",
      "1872.21356056\n",
      "Sanity flag= 1\n",
      "Are lanes detected? True True\n"
     ]
    },
    {
     "name": "stderr",
     "output_type": "stream",
     "text": [
      "\u001b[A\n",
      " 36%|███▋      | 437/1200 [02:55<07:46,  1.64it/s]"
     ]
    },
    {
     "name": "stdout",
     "output_type": "stream",
     "text": [
      "Sliding window being executed...\n",
      "334.052451193\n",
      "1352.27939339\n",
      "Sanity flag= 1\n",
      "Are lanes detected? True True\n"
     ]
    },
    {
     "name": "stderr",
     "output_type": "stream",
     "text": [
      "\u001b[A\n",
      " 36%|███▋      | 438/1200 [02:56<07:58,  1.59it/s]"
     ]
    },
    {
     "name": "stdout",
     "output_type": "stream",
     "text": [
      "Sliding window being executed...\n",
      "8582.09857519\n",
      "2517.43973982\n",
      "Sanity flag= 1\n",
      "Are lanes detected? True True\n"
     ]
    },
    {
     "name": "stderr",
     "output_type": "stream",
     "text": [
      "\u001b[A\n",
      " 37%|███▋      | 439/1200 [02:56<07:27,  1.70it/s]"
     ]
    },
    {
     "name": "stdout",
     "output_type": "stream",
     "text": [
      "Sliding window being executed...\n",
      "942.076689643\n",
      "1140.72278585\n",
      "Sanity flag= 0\n",
      "Are lanes detected? True True\n"
     ]
    },
    {
     "name": "stderr",
     "output_type": "stream",
     "text": [
      "\u001b[A\n",
      " 37%|███▋      | 440/1200 [02:57<06:47,  1.87it/s]"
     ]
    },
    {
     "name": "stdout",
     "output_type": "stream",
     "text": [
      "Sliding window being executed...\n",
      "476.455039891\n",
      "1412.91452052\n",
      "Sanity flag= 1\n",
      "Are lanes detected? True True\n"
     ]
    },
    {
     "name": "stderr",
     "output_type": "stream",
     "text": [
      "\u001b[A\n",
      " 37%|███▋      | 441/1200 [02:57<06:24,  1.98it/s]"
     ]
    },
    {
     "name": "stdout",
     "output_type": "stream",
     "text": [
      "Sliding window being executed...\n",
      "614.442234966\n",
      "6899.46642826\n",
      "Sanity flag= 1\n",
      "Are lanes detected? True True\n"
     ]
    },
    {
     "name": "stderr",
     "output_type": "stream",
     "text": [
      "\u001b[A\n",
      " 37%|███▋      | 442/1200 [02:58<05:58,  2.11it/s]"
     ]
    },
    {
     "name": "stdout",
     "output_type": "stream",
     "text": [
      "Sliding window being executed...\n",
      "635.013529042\n",
      "1601.17752549\n",
      "Sanity flag= 1\n",
      "Are lanes detected? True True\n"
     ]
    },
    {
     "name": "stderr",
     "output_type": "stream",
     "text": [
      "\u001b[A\n",
      " 37%|███▋      | 443/1200 [02:58<05:44,  2.20it/s]"
     ]
    },
    {
     "name": "stdout",
     "output_type": "stream",
     "text": [
      "Sliding window being executed...\n",
      "755.497892882\n",
      "989.447873904\n",
      "Sanity flag= 0\n",
      "Are lanes detected? True True\n"
     ]
    },
    {
     "name": "stderr",
     "output_type": "stream",
     "text": [
      "\u001b[A\n",
      " 37%|███▋      | 444/1200 [02:59<05:32,  2.28it/s]"
     ]
    },
    {
     "name": "stdout",
     "output_type": "stream",
     "text": [
      "Sliding window being executed...\n",
      "372.115124625\n",
      "64521.5327282\n",
      "Sanity flag= 1\n",
      "Are lanes detected? True True\n"
     ]
    },
    {
     "name": "stderr",
     "output_type": "stream",
     "text": [
      "\u001b[A\n",
      " 37%|███▋      | 445/1200 [02:59<05:25,  2.32it/s]"
     ]
    },
    {
     "name": "stdout",
     "output_type": "stream",
     "text": [
      "Sliding window being executed...\n",
      "432.961460166\n",
      "4911.41856879\n",
      "Sanity flag= 1\n",
      "Are lanes detected? True True\n"
     ]
    },
    {
     "name": "stderr",
     "output_type": "stream",
     "text": [
      "\u001b[A\n",
      " 37%|███▋      | 446/1200 [02:59<05:15,  2.39it/s]"
     ]
    },
    {
     "name": "stdout",
     "output_type": "stream",
     "text": [
      "Sliding window being executed...\n",
      "2356.77646263\n",
      "3578.41022763\n",
      "Sanity flag= 1\n",
      "Are lanes detected? True True\n"
     ]
    },
    {
     "name": "stderr",
     "output_type": "stream",
     "text": [
      "\u001b[A\n",
      " 37%|███▋      | 447/1200 [03:00<05:11,  2.42it/s]"
     ]
    },
    {
     "name": "stdout",
     "output_type": "stream",
     "text": [
      "Sliding window being executed...\n",
      "41307.7971018\n",
      "3339.33993974\n",
      "Sanity flag= 1\n",
      "Are lanes detected? True True\n"
     ]
    },
    {
     "name": "stderr",
     "output_type": "stream",
     "text": [
      "\u001b[A\n",
      " 37%|███▋      | 448/1200 [03:00<05:06,  2.45it/s]"
     ]
    },
    {
     "name": "stdout",
     "output_type": "stream",
     "text": [
      "Sliding window being executed...\n",
      "1720.10224569\n",
      "16643.4131813\n",
      "Sanity flag= 1\n",
      "Are lanes detected? True True\n"
     ]
    },
    {
     "name": "stderr",
     "output_type": "stream",
     "text": [
      "\u001b[A\n",
      " 37%|███▋      | 449/1200 [03:01<05:01,  2.49it/s]"
     ]
    },
    {
     "name": "stdout",
     "output_type": "stream",
     "text": [
      "Sliding window being executed...\n",
      "296.481460913\n",
      "696.67118042\n",
      "Sanity flag= 0\n",
      "Are lanes detected? True True\n"
     ]
    },
    {
     "name": "stderr",
     "output_type": "stream",
     "text": [
      "\u001b[A\n",
      " 38%|███▊      | 450/1200 [03:01<04:56,  2.53it/s]"
     ]
    },
    {
     "name": "stdout",
     "output_type": "stream",
     "text": [
      "Sliding window being executed...\n",
      "236.231556235\n",
      "383.249304251\n",
      "Sanity flag= 0\n",
      "Are lanes detected? True True\n"
     ]
    },
    {
     "name": "stderr",
     "output_type": "stream",
     "text": [
      "\u001b[A\n",
      " 38%|███▊      | 451/1200 [03:01<04:52,  2.56it/s]"
     ]
    },
    {
     "name": "stdout",
     "output_type": "stream",
     "text": [
      "Sliding window being executed...\n",
      "1220.53729955\n",
      "1041.682114\n",
      "Sanity flag= 1\n",
      "Are lanes detected? True True\n"
     ]
    },
    {
     "name": "stderr",
     "output_type": "stream",
     "text": [
      "\u001b[A\n",
      " 38%|███▊      | 452/1200 [03:02<04:52,  2.56it/s]"
     ]
    },
    {
     "name": "stdout",
     "output_type": "stream",
     "text": [
      "Sliding window being executed...\n",
      "374.295975659\n",
      "586.533096042\n",
      "Sanity flag= 0\n",
      "Are lanes detected? True True\n"
     ]
    },
    {
     "name": "stderr",
     "output_type": "stream",
     "text": [
      "\u001b[A\n",
      " 38%|███▊      | 453/1200 [03:02<04:51,  2.56it/s]"
     ]
    },
    {
     "name": "stdout",
     "output_type": "stream",
     "text": [
      "Sliding window being executed...\n",
      "574.550436828\n",
      "484.369471693\n",
      "Sanity flag= 0\n",
      "Are lanes detected? True True\n"
     ]
    },
    {
     "name": "stderr",
     "output_type": "stream",
     "text": [
      "\u001b[A\n",
      " 38%|███▊      | 454/1200 [03:02<04:51,  2.56it/s]"
     ]
    },
    {
     "name": "stdout",
     "output_type": "stream",
     "text": [
      "Sliding window being executed...\n",
      "1062.01125076\n",
      "438.358073683\n",
      "Sanity flag= 0\n",
      "Are lanes detected? True True\n"
     ]
    },
    {
     "name": "stderr",
     "output_type": "stream",
     "text": [
      "\u001b[A\n",
      " 38%|███▊      | 455/1200 [03:03<04:51,  2.56it/s]"
     ]
    },
    {
     "name": "stdout",
     "output_type": "stream",
     "text": [
      "Sliding window being executed...\n",
      "10758.1985799\n",
      "405.98770436\n",
      "Sanity flag= 1\n",
      "Are lanes detected? True True\n"
     ]
    },
    {
     "name": "stderr",
     "output_type": "stream",
     "text": [
      "\u001b[A\n",
      " 38%|███▊      | 456/1200 [03:03<05:07,  2.42it/s]"
     ]
    },
    {
     "name": "stdout",
     "output_type": "stream",
     "text": [
      "Sliding window being executed...\n",
      "1823.25294896\n",
      "661.667290832\n",
      "Sanity flag= 1\n",
      "Are lanes detected? True True\n"
     ]
    },
    {
     "name": "stderr",
     "output_type": "stream",
     "text": [
      "\u001b[A\n",
      " 38%|███▊      | 457/1200 [03:04<05:17,  2.34it/s]"
     ]
    },
    {
     "name": "stdout",
     "output_type": "stream",
     "text": [
      "Sliding window being executed...\n",
      "659.916129277\n",
      "302.657871061\n",
      "Sanity flag= 0\n",
      "Are lanes detected? True True\n"
     ]
    },
    {
     "name": "stderr",
     "output_type": "stream",
     "text": [
      "\u001b[A\n",
      " 38%|███▊      | 458/1200 [03:04<05:13,  2.37it/s]"
     ]
    },
    {
     "name": "stdout",
     "output_type": "stream",
     "text": [
      "Sliding window being executed...\n",
      "426.138210027\n",
      "6432.34144735\n",
      "Sanity flag= 1\n",
      "Are lanes detected? True True\n"
     ]
    },
    {
     "name": "stderr",
     "output_type": "stream",
     "text": [
      "\u001b[A\n",
      " 38%|███▊      | 459/1200 [03:05<05:19,  2.32it/s]"
     ]
    },
    {
     "name": "stdout",
     "output_type": "stream",
     "text": [
      "Sliding window being executed...\n",
      "526.401286459\n",
      "712.947984071\n",
      "Sanity flag= 0\n",
      "Are lanes detected? True True\n"
     ]
    },
    {
     "name": "stderr",
     "output_type": "stream",
     "text": [
      "\u001b[A\n",
      " 38%|███▊      | 460/1200 [03:05<05:08,  2.40it/s]"
     ]
    },
    {
     "name": "stdout",
     "output_type": "stream",
     "text": [
      "Sliding window being executed...\n",
      "1061.99265551\n",
      "622.072127324\n",
      "Sanity flag= 0\n",
      "Are lanes detected? True True\n"
     ]
    },
    {
     "name": "stderr",
     "output_type": "stream",
     "text": [
      "\u001b[A\n",
      " 38%|███▊      | 461/1200 [03:05<04:59,  2.46it/s]"
     ]
    },
    {
     "name": "stdout",
     "output_type": "stream",
     "text": [
      "Sliding window being executed...\n",
      "1782.57940207\n",
      "801.989176238\n",
      "Sanity flag= 1\n",
      "Are lanes detected? True True\n"
     ]
    },
    {
     "name": "stderr",
     "output_type": "stream",
     "text": [
      "\u001b[A\n",
      " 38%|███▊      | 462/1200 [03:06<04:55,  2.50it/s]"
     ]
    },
    {
     "name": "stdout",
     "output_type": "stream",
     "text": [
      "Sliding window being executed...\n",
      "1550.9844901\n",
      "388.06414206\n",
      "Sanity flag= 1\n",
      "Are lanes detected? True True\n"
     ]
    },
    {
     "name": "stderr",
     "output_type": "stream",
     "text": [
      "\u001b[A\n",
      " 39%|███▊      | 463/1200 [03:06<05:18,  2.32it/s]"
     ]
    },
    {
     "name": "stdout",
     "output_type": "stream",
     "text": [
      "Sliding window being executed...\n",
      "3386.18308753\n",
      "643.854009879\n",
      "Sanity flag= 1\n",
      "Are lanes detected? True True\n"
     ]
    },
    {
     "name": "stderr",
     "output_type": "stream",
     "text": [
      "\u001b[A\n",
      " 39%|███▊      | 464/1200 [03:07<05:05,  2.41it/s]"
     ]
    },
    {
     "name": "stdout",
     "output_type": "stream",
     "text": [
      "Sliding window being executed...\n",
      "1909.66617078\n",
      "474.908544639\n",
      "Sanity flag= 1\n",
      "Are lanes detected? True True\n"
     ]
    },
    {
     "name": "stderr",
     "output_type": "stream",
     "text": [
      "\u001b[A\n",
      " 39%|███▉      | 465/1200 [03:07<04:57,  2.47it/s]"
     ]
    },
    {
     "name": "stdout",
     "output_type": "stream",
     "text": [
      "Sliding window being executed...\n",
      "1474.60787485\n",
      "3268.65677456\n",
      "Sanity flag= 1\n",
      "Are lanes detected? True True\n"
     ]
    },
    {
     "name": "stderr",
     "output_type": "stream",
     "text": [
      "\u001b[A\n",
      " 39%|███▉      | 466/1200 [03:07<04:54,  2.49it/s]"
     ]
    },
    {
     "name": "stdout",
     "output_type": "stream",
     "text": [
      "Sliding window being executed...\n",
      "1558.37198556\n",
      "1358.18302749\n",
      "Sanity flag= 1\n",
      "Are lanes detected? True True\n"
     ]
    },
    {
     "name": "stderr",
     "output_type": "stream",
     "text": [
      "\u001b[A\n",
      " 39%|███▉      | 467/1200 [03:08<04:51,  2.52it/s]"
     ]
    },
    {
     "name": "stdout",
     "output_type": "stream",
     "text": [
      "Sliding window being executed...\n",
      "3642.02133754\n",
      "30037.7103095\n",
      "Sanity flag= 1\n",
      "Are lanes detected? True True\n"
     ]
    },
    {
     "name": "stderr",
     "output_type": "stream",
     "text": [
      "\u001b[A\n",
      " 39%|███▉      | 468/1200 [03:08<04:48,  2.53it/s]"
     ]
    },
    {
     "name": "stdout",
     "output_type": "stream",
     "text": [
      "Sliding window being executed...\n",
      "2365.94461442\n",
      "4032.00115014\n",
      "Sanity flag= 1\n",
      "Are lanes detected? True True\n"
     ]
    },
    {
     "name": "stderr",
     "output_type": "stream",
     "text": [
      "\u001b[A\n",
      " 39%|███▉      | 469/1200 [03:09<04:48,  2.53it/s]"
     ]
    },
    {
     "name": "stdout",
     "output_type": "stream",
     "text": [
      "Sliding window being executed...\n",
      "1015.99257303\n",
      "1222.59227437\n",
      "Sanity flag= 1\n",
      "Are lanes detected? True True\n"
     ]
    },
    {
     "name": "stderr",
     "output_type": "stream",
     "text": [
      "\u001b[A\n",
      " 39%|███▉      | 470/1200 [03:09<04:46,  2.54it/s]"
     ]
    },
    {
     "name": "stdout",
     "output_type": "stream",
     "text": [
      "Sliding window being executed...\n",
      "607.459366694\n",
      "10092.4162093\n",
      "Sanity flag= 1\n",
      "Are lanes detected? True True\n"
     ]
    },
    {
     "name": "stderr",
     "output_type": "stream",
     "text": [
      "\u001b[A\n",
      " 39%|███▉      | 471/1200 [03:09<04:48,  2.52it/s]"
     ]
    },
    {
     "name": "stdout",
     "output_type": "stream",
     "text": [
      "Sliding window being executed...\n",
      "498.068541031\n",
      "792.100330394\n",
      "Sanity flag= 0\n",
      "Are lanes detected? True True\n"
     ]
    },
    {
     "name": "stderr",
     "output_type": "stream",
     "text": [
      "\u001b[A\n",
      " 39%|███▉      | 472/1200 [03:10<04:45,  2.55it/s]"
     ]
    },
    {
     "name": "stdout",
     "output_type": "stream",
     "text": [
      "Sliding window being executed...\n",
      "370.577858096\n",
      "1318.06706564\n",
      "Sanity flag= 1\n",
      "Are lanes detected? True True\n"
     ]
    },
    {
     "name": "stderr",
     "output_type": "stream",
     "text": [
      "\u001b[A\n",
      " 39%|███▉      | 473/1200 [03:10<04:44,  2.55it/s]"
     ]
    },
    {
     "name": "stdout",
     "output_type": "stream",
     "text": [
      "Sliding window being executed...\n",
      "469.733071997\n",
      "18286.6845412\n",
      "Sanity flag= 1\n",
      "Are lanes detected? True True\n"
     ]
    },
    {
     "name": "stderr",
     "output_type": "stream",
     "text": [
      "\u001b[A\n",
      " 40%|███▉      | 474/1200 [03:11<04:44,  2.55it/s]"
     ]
    },
    {
     "name": "stdout",
     "output_type": "stream",
     "text": [
      "Sliding window being executed...\n",
      "721.650085404\n",
      "2551.95000479\n",
      "Sanity flag= 1\n",
      "Are lanes detected? True True\n"
     ]
    },
    {
     "name": "stderr",
     "output_type": "stream",
     "text": [
      "\u001b[A\n",
      " 40%|███▉      | 475/1200 [03:11<04:43,  2.56it/s]"
     ]
    },
    {
     "name": "stdout",
     "output_type": "stream",
     "text": [
      "Sliding window being executed...\n",
      "1548.64607078\n",
      "1340.74041671\n",
      "Sanity flag= 1\n",
      "Are lanes detected? True True\n"
     ]
    },
    {
     "name": "stderr",
     "output_type": "stream",
     "text": [
      "\u001b[A\n",
      " 40%|███▉      | 476/1200 [03:11<04:42,  2.56it/s]"
     ]
    },
    {
     "name": "stdout",
     "output_type": "stream",
     "text": [
      "Sliding window being executed...\n",
      "59382.2565249\n",
      "1604.0819357\n",
      "Sanity flag= 1\n",
      "Are lanes detected? True True\n"
     ]
    },
    {
     "name": "stderr",
     "output_type": "stream",
     "text": [
      "\u001b[A\n",
      " 40%|███▉      | 477/1200 [03:12<04:56,  2.44it/s]"
     ]
    },
    {
     "name": "stdout",
     "output_type": "stream",
     "text": [
      "Sliding window being executed...\n",
      "273.810227453\n",
      "512.275086032\n",
      "Sanity flag= 0\n",
      "Are lanes detected? True True\n"
     ]
    },
    {
     "name": "stderr",
     "output_type": "stream",
     "text": [
      "\u001b[A\n",
      " 40%|███▉      | 478/1200 [03:12<05:11,  2.32it/s]"
     ]
    },
    {
     "name": "stdout",
     "output_type": "stream",
     "text": [
      "Sliding window being executed...\n",
      "1290.70777418\n",
      "510.568403579\n",
      "Sanity flag= 1\n",
      "Are lanes detected? True True\n"
     ]
    },
    {
     "name": "stderr",
     "output_type": "stream",
     "text": [
      "\u001b[A\n",
      " 40%|███▉      | 479/1200 [03:13<05:01,  2.39it/s]"
     ]
    },
    {
     "name": "stdout",
     "output_type": "stream",
     "text": [
      "Sliding window being executed...\n",
      "1172.62129777\n",
      "580.683932738\n",
      "Sanity flag= 0\n",
      "Are lanes detected? True True\n"
     ]
    },
    {
     "name": "stderr",
     "output_type": "stream",
     "text": [
      "\u001b[A\n",
      " 40%|████      | 480/1200 [03:13<04:57,  2.42it/s]"
     ]
    },
    {
     "name": "stdout",
     "output_type": "stream",
     "text": [
      "Sliding window being executed...\n",
      "3344.72820498\n",
      "659.399021927\n",
      "Sanity flag= 1\n",
      "Are lanes detected? True True\n"
     ]
    },
    {
     "name": "stderr",
     "output_type": "stream",
     "text": [
      "\u001b[A\n",
      " 40%|████      | 481/1200 [03:13<04:50,  2.47it/s]"
     ]
    },
    {
     "name": "stdout",
     "output_type": "stream",
     "text": [
      "Sliding window being executed...\n",
      "251.590168566\n",
      "474.570967755\n",
      "Sanity flag= 0\n",
      "Are lanes detected? True True\n"
     ]
    },
    {
     "name": "stderr",
     "output_type": "stream",
     "text": [
      "\u001b[A\n",
      " 40%|████      | 482/1200 [03:14<04:50,  2.48it/s]"
     ]
    },
    {
     "name": "stdout",
     "output_type": "stream",
     "text": [
      "Sliding window being executed...\n",
      "79.9164262299\n",
      "1213.47066078\n",
      "Sanity flag= 1\n",
      "Are lanes detected? True True\n"
     ]
    },
    {
     "name": "stderr",
     "output_type": "stream",
     "text": [
      "\u001b[A\n",
      " 40%|████      | 483/1200 [03:14<04:52,  2.45it/s]"
     ]
    },
    {
     "name": "stdout",
     "output_type": "stream",
     "text": [
      "Sliding window being executed...\n",
      "43.9521529651\n",
      "326.143334228\n",
      "Sanity flag= 1\n",
      "Are lanes detected? True True\n"
     ]
    },
    {
     "name": "stderr",
     "output_type": "stream",
     "text": [
      "\u001b[A\n",
      " 40%|████      | 484/1200 [03:15<04:50,  2.47it/s]"
     ]
    },
    {
     "name": "stdout",
     "output_type": "stream",
     "text": [
      "Sliding window being executed...\n",
      "44.4009630243\n",
      "283.214606945\n",
      "Sanity flag= 1\n",
      "Are lanes detected? True True\n"
     ]
    },
    {
     "name": "stderr",
     "output_type": "stream",
     "text": [
      "\u001b[A\n",
      " 40%|████      | 485/1200 [03:15<04:52,  2.44it/s]"
     ]
    },
    {
     "name": "stdout",
     "output_type": "stream",
     "text": [
      "Sliding window being executed...\n",
      "76.9116260689\n",
      "150.857262628\n",
      "Sanity flag= 1\n",
      "Are lanes detected? True True\n"
     ]
    },
    {
     "name": "stderr",
     "output_type": "stream",
     "text": [
      "\u001b[A\n",
      " 40%|████      | 486/1200 [03:16<04:47,  2.49it/s]"
     ]
    },
    {
     "name": "stdout",
     "output_type": "stream",
     "text": [
      "Sliding window being executed...\n",
      "67.7777109359\n",
      "58.9564841934\n",
      "Sanity flag= 1\n",
      "Are lanes detected? True True\n"
     ]
    },
    {
     "name": "stderr",
     "output_type": "stream",
     "text": [
      "\u001b[A\n",
      " 41%|████      | 487/1200 [03:16<04:41,  2.54it/s]"
     ]
    },
    {
     "name": "stdout",
     "output_type": "stream",
     "text": [
      "Sliding window being executed...\n",
      "60.1743283145\n",
      "73.7993562213\n",
      "Sanity flag= 1\n",
      "Are lanes detected? True True\n"
     ]
    },
    {
     "name": "stderr",
     "output_type": "stream",
     "text": [
      "\u001b[A\n",
      " 41%|████      | 488/1200 [03:16<04:36,  2.57it/s]"
     ]
    },
    {
     "name": "stdout",
     "output_type": "stream",
     "text": [
      "Sliding window being executed...\n",
      "59.1478826514\n",
      "393.695127687\n",
      "Sanity flag= 1\n",
      "Are lanes detected? True True\n"
     ]
    },
    {
     "name": "stderr",
     "output_type": "stream",
     "text": [
      "\u001b[A\n",
      " 41%|████      | 489/1200 [03:17<04:34,  2.59it/s]"
     ]
    },
    {
     "name": "stdout",
     "output_type": "stream",
     "text": [
      "Sliding window being executed...\n",
      "64.8829375209\n",
      "194.366226402\n",
      "Sanity flag= 1\n",
      "Are lanes detected? True True\n"
     ]
    },
    {
     "name": "stderr",
     "output_type": "stream",
     "text": [
      "\u001b[A\n",
      " 41%|████      | 490/1200 [03:17<04:32,  2.61it/s]"
     ]
    },
    {
     "name": "stdout",
     "output_type": "stream",
     "text": [
      "Sliding window being executed...\n",
      "85.1622245325\n",
      "164.686757209\n",
      "Sanity flag= 0\n",
      "Are lanes detected? True True\n"
     ]
    },
    {
     "name": "stderr",
     "output_type": "stream",
     "text": [
      "\u001b[A\n",
      " 41%|████      | 491/1200 [03:17<04:33,  2.59it/s]"
     ]
    },
    {
     "name": "stdout",
     "output_type": "stream",
     "text": [
      "Sliding window being executed...\n",
      "65.7737365839\n",
      "129.787250338\n",
      "Sanity flag= 1\n",
      "Are lanes detected? True True\n"
     ]
    },
    {
     "name": "stderr",
     "output_type": "stream",
     "text": [
      "\u001b[A\n",
      " 41%|████      | 492/1200 [03:18<04:31,  2.61it/s]"
     ]
    },
    {
     "name": "stdout",
     "output_type": "stream",
     "text": [
      "Sliding window being executed...\n",
      "67.882676729\n",
      "124.28886782\n",
      "Sanity flag= 1\n",
      "Are lanes detected? True True\n"
     ]
    },
    {
     "name": "stderr",
     "output_type": "stream",
     "text": [
      "\u001b[A\n",
      " 41%|████      | 493/1200 [03:18<04:52,  2.42it/s]"
     ]
    },
    {
     "name": "stdout",
     "output_type": "stream",
     "text": [
      "Sliding window being executed...\n",
      "65.4102977742\n",
      "86.9943514384\n",
      "Sanity flag= 1\n",
      "Are lanes detected? True True\n"
     ]
    },
    {
     "name": "stderr",
     "output_type": "stream",
     "text": [
      "\u001b[A\n",
      " 41%|████      | 494/1200 [03:19<04:40,  2.52it/s]"
     ]
    },
    {
     "name": "stdout",
     "output_type": "stream",
     "text": [
      "Sliding window being executed...\n",
      "57.4676739478\n",
      "74.5455690923\n",
      "Sanity flag= 1\n",
      "Are lanes detected? True True\n"
     ]
    },
    {
     "name": "stderr",
     "output_type": "stream",
     "text": [
      "\u001b[A\n",
      " 41%|████▏     | 495/1200 [03:19<04:34,  2.57it/s]"
     ]
    },
    {
     "name": "stdout",
     "output_type": "stream",
     "text": [
      "Sliding window being executed...\n",
      "64.1554271073\n",
      "239.947771417\n",
      "Sanity flag= 1\n",
      "Are lanes detected? True True\n"
     ]
    },
    {
     "name": "stderr",
     "output_type": "stream",
     "text": [
      "\u001b[A\n",
      " 41%|████▏     | 496/1200 [03:19<04:33,  2.58it/s]"
     ]
    },
    {
     "name": "stdout",
     "output_type": "stream",
     "text": [
      "Sliding window being executed...\n",
      "60.5447351651\n",
      "149.129214911\n",
      "Sanity flag= 1\n",
      "Are lanes detected? True True\n"
     ]
    },
    {
     "name": "stderr",
     "output_type": "stream",
     "text": [
      "\u001b[A\n",
      " 41%|████▏     | 497/1200 [03:20<04:32,  2.58it/s]"
     ]
    },
    {
     "name": "stdout",
     "output_type": "stream",
     "text": [
      "Sliding window being executed...\n",
      "190.717967197\n",
      "215.596724181\n",
      "Sanity flag= 0\n",
      "Are lanes detected? True True\n"
     ]
    },
    {
     "name": "stderr",
     "output_type": "stream",
     "text": [
      "\u001b[A\n",
      " 42%|████▏     | 498/1200 [03:20<04:28,  2.61it/s]"
     ]
    },
    {
     "name": "stdout",
     "output_type": "stream",
     "text": [
      "Sliding window being executed...\n",
      "241.426564667\n",
      "3980.30232934\n",
      "Sanity flag= 1\n",
      "Are lanes detected? True True\n"
     ]
    },
    {
     "name": "stderr",
     "output_type": "stream",
     "text": [
      "\u001b[A\n",
      " 42%|████▏     | 499/1200 [03:21<04:27,  2.62it/s]"
     ]
    },
    {
     "name": "stdout",
     "output_type": "stream",
     "text": [
      "Sliding window being executed...\n",
      "209.26112656\n",
      "636.71196178\n",
      "Sanity flag= 0\n",
      "Are lanes detected? True True\n"
     ]
    },
    {
     "name": "stderr",
     "output_type": "stream",
     "text": [
      "\u001b[A\n",
      " 42%|████▏     | 500/1200 [03:21<04:27,  2.61it/s]"
     ]
    },
    {
     "name": "stdout",
     "output_type": "stream",
     "text": [
      "Sliding window being executed...\n",
      "388.898281583\n",
      "240.330207997\n",
      "Sanity flag= 0\n",
      "Are lanes detected? True True\n"
     ]
    },
    {
     "name": "stderr",
     "output_type": "stream",
     "text": [
      "\u001b[A\n",
      " 42%|████▏     | 501/1200 [03:21<04:29,  2.59it/s]"
     ]
    },
    {
     "name": "stdout",
     "output_type": "stream",
     "text": [
      "Sliding window being executed...\n",
      "459.096096656\n",
      "275.388952222\n",
      "Sanity flag= 0\n",
      "Are lanes detected? True True\n"
     ]
    },
    {
     "name": "stderr",
     "output_type": "stream",
     "text": [
      "\u001b[A\n",
      " 42%|████▏     | 502/1200 [03:22<04:28,  2.60it/s]"
     ]
    },
    {
     "name": "stdout",
     "output_type": "stream",
     "text": [
      "Sliding window being executed...\n",
      "427.781219804\n",
      "323.6328475\n",
      "Sanity flag= 0\n",
      "Are lanes detected? True True\n"
     ]
    },
    {
     "name": "stderr",
     "output_type": "stream",
     "text": [
      "\u001b[A\n",
      " 42%|████▏     | 503/1200 [03:22<04:28,  2.60it/s]"
     ]
    },
    {
     "name": "stdout",
     "output_type": "stream",
     "text": [
      "Sliding window being executed...\n",
      "354.977673018\n",
      "1177.46436508\n",
      "Sanity flag= 0\n",
      "Are lanes detected? True True\n"
     ]
    },
    {
     "name": "stderr",
     "output_type": "stream",
     "text": [
      "\u001b[A\n",
      " 42%|████▏     | 504/1200 [03:22<04:27,  2.60it/s]"
     ]
    },
    {
     "name": "stdout",
     "output_type": "stream",
     "text": [
      "Sliding window being executed...\n",
      "399.338497806\n",
      "1810.03837518\n",
      "Sanity flag= 1\n",
      "Are lanes detected? True True\n"
     ]
    },
    {
     "name": "stderr",
     "output_type": "stream",
     "text": [
      "\u001b[A\n",
      " 42%|████▏     | 505/1200 [03:23<04:27,  2.59it/s]"
     ]
    },
    {
     "name": "stdout",
     "output_type": "stream",
     "text": [
      "Sliding window being executed...\n",
      "320.842161694\n",
      "970.945375829\n",
      "Sanity flag= 0\n",
      "Are lanes detected? True True\n"
     ]
    },
    {
     "name": "stderr",
     "output_type": "stream",
     "text": [
      "\u001b[A\n",
      " 42%|████▏     | 506/1200 [03:23<04:26,  2.60it/s]"
     ]
    },
    {
     "name": "stdout",
     "output_type": "stream",
     "text": [
      "Sliding window being executed...\n",
      "217.567016726\n",
      "3753.88594478\n",
      "Sanity flag= 1\n",
      "Are lanes detected? True True\n"
     ]
    },
    {
     "name": "stderr",
     "output_type": "stream",
     "text": [
      "\u001b[A\n",
      " 42%|████▏     | 507/1200 [03:24<04:25,  2.61it/s]"
     ]
    },
    {
     "name": "stdout",
     "output_type": "stream",
     "text": [
      "Sliding window being executed...\n",
      "290.096772825\n",
      "113729.096774\n",
      "Sanity flag= 1\n",
      "Are lanes detected? True True\n"
     ]
    },
    {
     "name": "stderr",
     "output_type": "stream",
     "text": [
      "\u001b[A\n",
      " 42%|████▏     | 508/1200 [03:24<04:25,  2.60it/s]"
     ]
    },
    {
     "name": "stdout",
     "output_type": "stream",
     "text": [
      "Sliding window being executed...\n",
      "224.360573131\n",
      "2225.91364693\n",
      "Sanity flag= 1\n",
      "Are lanes detected? True True\n"
     ]
    },
    {
     "name": "stderr",
     "output_type": "stream",
     "text": [
      "\u001b[A\n",
      " 42%|████▏     | 509/1200 [03:24<04:24,  2.61it/s]"
     ]
    },
    {
     "name": "stdout",
     "output_type": "stream",
     "text": [
      "Sliding window being executed...\n",
      "218.942166598\n",
      "1138.13890847\n",
      "Sanity flag= 0\n",
      "Are lanes detected? True True\n"
     ]
    },
    {
     "name": "stderr",
     "output_type": "stream",
     "text": [
      "\u001b[A\n",
      " 42%|████▎     | 510/1200 [03:25<04:26,  2.59it/s]"
     ]
    },
    {
     "name": "stdout",
     "output_type": "stream",
     "text": [
      "Sliding window being executed...\n",
      "258.993996965\n",
      "55311.7044027\n",
      "Sanity flag= 1\n",
      "Are lanes detected? True True\n"
     ]
    },
    {
     "name": "stderr",
     "output_type": "stream",
     "text": [
      "\u001b[A\n",
      " 43%|████▎     | 511/1200 [03:25<04:25,  2.60it/s]"
     ]
    },
    {
     "name": "stdout",
     "output_type": "stream",
     "text": [
      "Sliding window being executed...\n",
      "1443.11521436\n",
      "772.516671001\n",
      "Sanity flag= 1\n",
      "Are lanes detected? True True\n"
     ]
    },
    {
     "name": "stderr",
     "output_type": "stream",
     "text": [
      "\u001b[A\n",
      " 43%|████▎     | 512/1200 [03:26<04:24,  2.60it/s]"
     ]
    },
    {
     "name": "stdout",
     "output_type": "stream",
     "text": [
      "Sliding window being executed...\n",
      "314.731783744\n",
      "945.966475825\n",
      "Sanity flag= 0\n",
      "Are lanes detected? True True\n"
     ]
    },
    {
     "name": "stderr",
     "output_type": "stream",
     "text": [
      "\u001b[A\n",
      " 43%|████▎     | 513/1200 [03:26<04:22,  2.62it/s]"
     ]
    },
    {
     "name": "stdout",
     "output_type": "stream",
     "text": [
      "Sliding window being executed...\n",
      "264.788040469\n",
      "1705.20598834\n",
      "Sanity flag= 1\n",
      "Are lanes detected? True True\n"
     ]
    },
    {
     "name": "stderr",
     "output_type": "stream",
     "text": [
      "\u001b[A\n",
      " 43%|████▎     | 514/1200 [03:26<04:21,  2.62it/s]"
     ]
    },
    {
     "name": "stdout",
     "output_type": "stream",
     "text": [
      "Sliding window being executed...\n",
      "247.323454289\n",
      "1184.08196639\n",
      "Sanity flag= 0\n",
      "Are lanes detected? True True\n"
     ]
    },
    {
     "name": "stderr",
     "output_type": "stream",
     "text": [
      "\u001b[A\n",
      " 43%|████▎     | 515/1200 [03:27<04:21,  2.62it/s]"
     ]
    },
    {
     "name": "stdout",
     "output_type": "stream",
     "text": [
      "Sliding window being executed...\n",
      "227.570464475\n",
      "525.703665944\n",
      "Sanity flag= 0\n",
      "Are lanes detected? True True\n"
     ]
    },
    {
     "name": "stderr",
     "output_type": "stream",
     "text": [
      "\u001b[A\n",
      " 43%|████▎     | 516/1200 [03:27<04:21,  2.62it/s]"
     ]
    },
    {
     "name": "stdout",
     "output_type": "stream",
     "text": [
      "Sliding window being executed...\n",
      "54.9953489458\n",
      "2422.72181129\n",
      "Sanity flag= 1\n",
      "Are lanes detected? True True\n"
     ]
    },
    {
     "name": "stderr",
     "output_type": "stream",
     "text": [
      "\u001b[A\n",
      " 43%|████▎     | 517/1200 [03:27<04:22,  2.60it/s]"
     ]
    },
    {
     "name": "stdout",
     "output_type": "stream",
     "text": [
      "Sliding window being executed...\n",
      "54.6647924229\n",
      "24452.3798641\n",
      "Sanity flag= 1\n",
      "Are lanes detected? True True\n"
     ]
    },
    {
     "name": "stderr",
     "output_type": "stream",
     "text": [
      "\u001b[A\n",
      " 43%|████▎     | 518/1200 [03:28<04:21,  2.61it/s]"
     ]
    },
    {
     "name": "stdout",
     "output_type": "stream",
     "text": [
      "Sliding window being executed...\n",
      "2229.5532905\n",
      "15948.6317894\n",
      "Sanity flag= 1\n",
      "Are lanes detected? True True\n"
     ]
    },
    {
     "name": "stderr",
     "output_type": "stream",
     "text": [
      "\u001b[A\n",
      " 43%|████▎     | 519/1200 [03:28<04:25,  2.57it/s]"
     ]
    },
    {
     "name": "stdout",
     "output_type": "stream",
     "text": [
      "Sliding window being executed...\n",
      "55.8215906065\n",
      "333.627968513\n",
      "Sanity flag= 1\n",
      "Are lanes detected? True True\n"
     ]
    },
    {
     "name": "stderr",
     "output_type": "stream",
     "text": [
      "\u001b[A\n",
      " 43%|████▎     | 520/1200 [03:29<04:22,  2.59it/s]"
     ]
    },
    {
     "name": "stdout",
     "output_type": "stream",
     "text": [
      "Sliding window being executed...\n",
      "55.0606781223\n",
      "190.500798705\n",
      "Sanity flag= 1\n",
      "Are lanes detected? True True\n"
     ]
    },
    {
     "name": "stderr",
     "output_type": "stream",
     "text": [
      "\u001b[A\n",
      " 43%|████▎     | 521/1200 [03:29<04:19,  2.61it/s]"
     ]
    },
    {
     "name": "stdout",
     "output_type": "stream",
     "text": [
      "Sliding window being executed...\n",
      "57.9187226987\n",
      "167.190473843\n",
      "Sanity flag= 1\n",
      "Are lanes detected? True True\n"
     ]
    },
    {
     "name": "stderr",
     "output_type": "stream",
     "text": [
      "\u001b[A\n",
      " 44%|████▎     | 522/1200 [03:29<04:08,  2.73it/s]"
     ]
    },
    {
     "name": "stdout",
     "output_type": "stream",
     "text": [
      "Sliding window being executed...\n",
      "163.847509553\n",
      "164.125381239\n",
      "Sanity flag= 0\n",
      "Are lanes detected? True True\n"
     ]
    },
    {
     "name": "stderr",
     "output_type": "stream",
     "text": [
      "\u001b[A\n",
      " 44%|████▎     | 523/1200 [03:30<04:12,  2.68it/s]"
     ]
    },
    {
     "name": "stdout",
     "output_type": "stream",
     "text": [
      "Sliding window being executed...\n",
      "309.115076239\n",
      "261.467098768\n",
      "Sanity flag= 1\n",
      "Are lanes detected? True True\n"
     ]
    },
    {
     "name": "stderr",
     "output_type": "stream",
     "text": [
      "\u001b[A\n",
      " 44%|████▎     | 524/1200 [03:30<04:08,  2.72it/s]"
     ]
    },
    {
     "name": "stdout",
     "output_type": "stream",
     "text": [
      "Sliding window being executed...\n",
      "170.647704641\n",
      "246.148895658\n",
      "Sanity flag= 1\n",
      "Are lanes detected? True True\n"
     ]
    },
    {
     "name": "stderr",
     "output_type": "stream",
     "text": [
      "\u001b[A\n",
      " 44%|████▍     | 525/1200 [03:30<04:11,  2.68it/s]"
     ]
    },
    {
     "name": "stdout",
     "output_type": "stream",
     "text": [
      "Sliding window being executed...\n",
      "160.809142269\n",
      "215.781033473\n",
      "Sanity flag= 1\n",
      "Are lanes detected? True True\n"
     ]
    },
    {
     "name": "stderr",
     "output_type": "stream",
     "text": [
      "\u001b[A\n",
      " 44%|████▍     | 526/1200 [03:31<04:11,  2.69it/s]"
     ]
    },
    {
     "name": "stdout",
     "output_type": "stream",
     "text": [
      "Sliding window being executed...\n",
      "122.714101247\n",
      "162.797863161\n",
      "Sanity flag= 1\n",
      "Are lanes detected? True True\n"
     ]
    },
    {
     "name": "stderr",
     "output_type": "stream",
     "text": [
      "\u001b[A\n",
      " 44%|████▍     | 527/1200 [03:31<04:11,  2.68it/s]"
     ]
    },
    {
     "name": "stdout",
     "output_type": "stream",
     "text": [
      "Sliding window being executed...\n",
      "107.427930701\n",
      "128.446066232\n",
      "Sanity flag= 1\n",
      "Are lanes detected? True True\n"
     ]
    },
    {
     "name": "stderr",
     "output_type": "stream",
     "text": [
      "\u001b[A\n",
      " 44%|████▍     | 528/1200 [03:32<04:10,  2.68it/s]"
     ]
    },
    {
     "name": "stdout",
     "output_type": "stream",
     "text": [
      "Sliding window being executed...\n",
      "284.277664067\n",
      "117.678818638\n",
      "Sanity flag= 1\n",
      "Are lanes detected? True True\n"
     ]
    },
    {
     "name": "stderr",
     "output_type": "stream",
     "text": [
      "\u001b[A\n",
      " 44%|████▍     | 529/1200 [03:32<04:10,  2.68it/s]"
     ]
    },
    {
     "name": "stdout",
     "output_type": "stream",
     "text": [
      "Sliding window being executed...\n",
      "323.339355193\n",
      "110.082338775\n",
      "Sanity flag= 1\n",
      "Are lanes detected? True True\n"
     ]
    },
    {
     "name": "stderr",
     "output_type": "stream",
     "text": [
      "\u001b[A\n",
      " 44%|████▍     | 530/1200 [03:32<04:11,  2.67it/s]"
     ]
    },
    {
     "name": "stdout",
     "output_type": "stream",
     "text": [
      "Sliding window being executed...\n",
      "293.696054177\n",
      "122.552394711\n",
      "Sanity flag= 1\n",
      "Are lanes detected? True True\n"
     ]
    },
    {
     "name": "stderr",
     "output_type": "stream",
     "text": [
      "\u001b[A\n",
      " 44%|████▍     | 531/1200 [03:33<04:13,  2.64it/s]"
     ]
    },
    {
     "name": "stdout",
     "output_type": "stream",
     "text": [
      "Sliding window being executed...\n",
      "456.604448619\n",
      "117.923269511\n",
      "Sanity flag= 1\n",
      "Are lanes detected? True True\n"
     ]
    },
    {
     "name": "stderr",
     "output_type": "stream",
     "text": [
      "\u001b[A\n",
      " 44%|████▍     | 532/1200 [03:33<04:14,  2.63it/s]"
     ]
    },
    {
     "name": "stdout",
     "output_type": "stream",
     "text": [
      "Sliding window being executed...\n",
      "42517.2120613\n",
      "268.551467756\n",
      "Sanity flag= 1\n",
      "Are lanes detected? True True\n"
     ]
    },
    {
     "name": "stderr",
     "output_type": "stream",
     "text": [
      "\u001b[A\n",
      " 44%|████▍     | 533/1200 [03:33<04:13,  2.63it/s]"
     ]
    },
    {
     "name": "stdout",
     "output_type": "stream",
     "text": [
      "Sliding window being executed...\n",
      "1599.44840804\n",
      "237.097473623\n",
      "Sanity flag= 1\n",
      "Are lanes detected? True True\n"
     ]
    },
    {
     "name": "stderr",
     "output_type": "stream",
     "text": [
      "\u001b[A\n",
      " 44%|████▍     | 534/1200 [03:34<04:12,  2.64it/s]"
     ]
    },
    {
     "name": "stdout",
     "output_type": "stream",
     "text": [
      "Sliding window being executed...\n",
      "420.761889637\n",
      "244.290526103\n",
      "Sanity flag= 0\n",
      "Are lanes detected? True True\n"
     ]
    },
    {
     "name": "stderr",
     "output_type": "stream",
     "text": [
      "\u001b[A\n",
      " 45%|████▍     | 535/1200 [03:34<04:11,  2.64it/s]"
     ]
    },
    {
     "name": "stdout",
     "output_type": "stream",
     "text": [
      "Sliding window being executed...\n",
      "85.8164136918\n",
      "239.529269996\n",
      "Sanity flag= 1\n",
      "Are lanes detected? True True\n"
     ]
    },
    {
     "name": "stderr",
     "output_type": "stream",
     "text": [
      "\u001b[A\n",
      " 45%|████▍     | 536/1200 [03:35<04:12,  2.63it/s]"
     ]
    },
    {
     "name": "stdout",
     "output_type": "stream",
     "text": [
      "Sliding window being executed...\n",
      "81.4966432718\n",
      "259.617257052\n",
      "Sanity flag= 1\n",
      "Are lanes detected? True True\n"
     ]
    },
    {
     "name": "stderr",
     "output_type": "stream",
     "text": [
      "\u001b[A\n",
      " 45%|████▍     | 537/1200 [03:35<04:09,  2.66it/s]"
     ]
    },
    {
     "name": "stdout",
     "output_type": "stream",
     "text": [
      "Sliding window being executed...\n",
      "78.449197566\n",
      "225.634111303\n",
      "Sanity flag= 1\n",
      "Are lanes detected? True True\n"
     ]
    },
    {
     "name": "stderr",
     "output_type": "stream",
     "text": [
      "\u001b[A\n",
      " 45%|████▍     | 538/1200 [03:35<04:08,  2.67it/s]"
     ]
    },
    {
     "name": "stdout",
     "output_type": "stream",
     "text": [
      "Sliding window being executed...\n",
      "75.3459710886\n",
      "264.895454952\n",
      "Sanity flag= 1\n",
      "Are lanes detected? True True\n"
     ]
    },
    {
     "name": "stderr",
     "output_type": "stream",
     "text": [
      "\u001b[A\n",
      " 45%|████▍     | 539/1200 [03:36<04:07,  2.67it/s]"
     ]
    },
    {
     "name": "stdout",
     "output_type": "stream",
     "text": [
      "Sliding window being executed...\n",
      "67.9222429679\n",
      "292.192222387\n",
      "Sanity flag= 1\n",
      "Are lanes detected? True True\n"
     ]
    },
    {
     "name": "stderr",
     "output_type": "stream",
     "text": [
      "\u001b[A\n",
      " 45%|████▌     | 540/1200 [03:36<04:05,  2.69it/s]"
     ]
    },
    {
     "name": "stdout",
     "output_type": "stream",
     "text": [
      "Sliding window being executed...\n",
      "62.3959961582\n",
      "320.87386689\n",
      "Sanity flag= 1\n",
      "Are lanes detected? True True\n"
     ]
    },
    {
     "name": "stderr",
     "output_type": "stream",
     "text": [
      "\u001b[A\n",
      " 45%|████▌     | 541/1200 [03:36<04:04,  2.70it/s]"
     ]
    },
    {
     "name": "stdout",
     "output_type": "stream",
     "text": [
      "Sliding window being executed...\n",
      "64.5730821991\n",
      "349.161343713\n",
      "Sanity flag= 1\n",
      "Are lanes detected? True True\n"
     ]
    },
    {
     "name": "stderr",
     "output_type": "stream",
     "text": [
      "\u001b[A\n",
      " 45%|████▌     | 542/1200 [03:37<04:05,  2.68it/s]"
     ]
    },
    {
     "name": "stdout",
     "output_type": "stream",
     "text": [
      "Sliding window being executed...\n",
      "67.8618833018\n",
      "268.456964283\n",
      "Sanity flag= 1\n",
      "Are lanes detected? True True\n"
     ]
    },
    {
     "name": "stderr",
     "output_type": "stream",
     "text": [
      "\u001b[A\n",
      " 45%|████▌     | 543/1200 [03:37<04:01,  2.72it/s]"
     ]
    },
    {
     "name": "stdout",
     "output_type": "stream",
     "text": [
      "Sliding window being executed...\n",
      "65.782265889\n",
      "70.8722595807\n",
      "Sanity flag= 1\n",
      "Are lanes detected? True True\n"
     ]
    },
    {
     "name": "stderr",
     "output_type": "stream",
     "text": [
      "\u001b[A\n",
      " 45%|████▌     | 544/1200 [03:38<04:01,  2.72it/s]"
     ]
    },
    {
     "name": "stdout",
     "output_type": "stream",
     "text": [
      "Sliding window being executed...\n",
      "67.8929203732\n",
      "73.2732938554\n",
      "Sanity flag= 1\n",
      "Are lanes detected? True True\n"
     ]
    },
    {
     "name": "stderr",
     "output_type": "stream",
     "text": [
      "\u001b[A\n",
      " 45%|████▌     | 545/1200 [03:38<04:00,  2.73it/s]"
     ]
    },
    {
     "name": "stdout",
     "output_type": "stream",
     "text": [
      "Sliding window being executed...\n",
      "65.8576401118\n",
      "586.642278223\n",
      "Sanity flag= 1\n",
      "Are lanes detected? True True\n"
     ]
    },
    {
     "name": "stderr",
     "output_type": "stream",
     "text": [
      "\u001b[A\n",
      " 46%|████▌     | 546/1200 [03:38<03:56,  2.76it/s]"
     ]
    },
    {
     "name": "stdout",
     "output_type": "stream",
     "text": [
      "Sliding window being executed...\n",
      "62.9300939372\n",
      "492.072328467\n",
      "Sanity flag= 1\n",
      "Are lanes detected? True True\n"
     ]
    },
    {
     "name": "stderr",
     "output_type": "stream",
     "text": [
      "\u001b[A\n",
      " 46%|████▌     | 547/1200 [03:39<03:59,  2.73it/s]"
     ]
    },
    {
     "name": "stdout",
     "output_type": "stream",
     "text": [
      "Sliding window being executed...\n",
      "62.4289259138\n",
      "443.979899827\n",
      "Sanity flag= 1\n",
      "Are lanes detected? True True\n"
     ]
    },
    {
     "name": "stderr",
     "output_type": "stream",
     "text": [
      "\u001b[A\n",
      " 46%|████▌     | 548/1200 [03:39<03:59,  2.72it/s]"
     ]
    },
    {
     "name": "stdout",
     "output_type": "stream",
     "text": [
      "Sliding window being executed...\n",
      "75.6166786223\n",
      "323.235974024\n",
      "Sanity flag= 1\n",
      "Are lanes detected? True True\n"
     ]
    },
    {
     "name": "stderr",
     "output_type": "stream",
     "text": [
      "\u001b[A\n",
      " 46%|████▌     | 549/1200 [03:39<04:00,  2.71it/s]"
     ]
    },
    {
     "name": "stdout",
     "output_type": "stream",
     "text": [
      "Sliding window being executed...\n",
      "123.152622952\n",
      "587.770554089\n",
      "Sanity flag= 1\n",
      "Are lanes detected? True True\n"
     ]
    },
    {
     "name": "stderr",
     "output_type": "stream",
     "text": [
      "\u001b[A\n",
      " 46%|████▌     | 550/1200 [03:40<04:00,  2.70it/s]"
     ]
    },
    {
     "name": "stdout",
     "output_type": "stream",
     "text": [
      "Sliding window being executed...\n",
      "3960.72156667\n",
      "1150.0801295\n",
      "Sanity flag= 1\n",
      "Are lanes detected? True True\n"
     ]
    },
    {
     "name": "stderr",
     "output_type": "stream",
     "text": [
      "\u001b[A\n",
      " 46%|████▌     | 551/1200 [03:40<03:58,  2.72it/s]"
     ]
    },
    {
     "name": "stdout",
     "output_type": "stream",
     "text": [
      "Sliding window being executed...\n",
      "270.653984453\n",
      "1516.15826772\n",
      "Sanity flag= 1\n",
      "Are lanes detected? True True\n"
     ]
    },
    {
     "name": "stderr",
     "output_type": "stream",
     "text": [
      "\u001b[A\n",
      " 46%|████▌     | 552/1200 [03:40<03:57,  2.73it/s]"
     ]
    },
    {
     "name": "stdout",
     "output_type": "stream",
     "text": [
      "Sliding window being executed...\n",
      "234.332163542\n",
      "658.09825372\n",
      "Sanity flag= 0\n",
      "Are lanes detected? True True\n"
     ]
    },
    {
     "name": "stderr",
     "output_type": "stream",
     "text": [
      "\u001b[A\n",
      " 46%|████▌     | 553/1200 [03:41<04:09,  2.59it/s]"
     ]
    },
    {
     "name": "stdout",
     "output_type": "stream",
     "text": [
      "Sliding window being executed...\n",
      "459.146048171\n",
      "467.552767198\n",
      "Sanity flag= 0\n",
      "Are lanes detected? True True\n"
     ]
    },
    {
     "name": "stderr",
     "output_type": "stream",
     "text": [
      "\u001b[A\n",
      " 46%|████▌     | 554/1200 [03:41<04:03,  2.65it/s]"
     ]
    },
    {
     "name": "stdout",
     "output_type": "stream",
     "text": [
      "Sliding window being executed...\n",
      "319.40419939\n",
      "345.525413564\n",
      "Sanity flag= 0\n",
      "Are lanes detected? True True\n"
     ]
    },
    {
     "name": "stderr",
     "output_type": "stream",
     "text": [
      "\u001b[A\n",
      " 46%|████▋     | 555/1200 [03:42<04:02,  2.66it/s]"
     ]
    },
    {
     "name": "stdout",
     "output_type": "stream",
     "text": [
      "Sliding window being executed...\n",
      "297.325166867\n",
      "355.59763957\n",
      "Sanity flag= 0\n",
      "Are lanes detected? True True\n"
     ]
    },
    {
     "name": "stderr",
     "output_type": "stream",
     "text": [
      "\u001b[A\n",
      " 46%|████▋     | 556/1200 [03:42<03:59,  2.69it/s]"
     ]
    },
    {
     "name": "stdout",
     "output_type": "stream",
     "text": [
      "Sliding window being executed...\n",
      "423.537236755\n",
      "614.755409753\n",
      "Sanity flag= 0\n",
      "Are lanes detected? True True\n"
     ]
    },
    {
     "name": "stderr",
     "output_type": "stream",
     "text": [
      "\u001b[A\n",
      " 46%|████▋     | 557/1200 [03:43<04:28,  2.39it/s]"
     ]
    },
    {
     "name": "stdout",
     "output_type": "stream",
     "text": [
      "Sliding window being executed...\n",
      "170.765506761\n",
      "522.195802181\n",
      "Sanity flag= 1\n",
      "Are lanes detected? True True\n"
     ]
    },
    {
     "name": "stderr",
     "output_type": "stream",
     "text": [
      "\u001b[A\n",
      " 46%|████▋     | 558/1200 [03:43<05:05,  2.10it/s]"
     ]
    },
    {
     "name": "stdout",
     "output_type": "stream",
     "text": [
      "Sliding window being executed...\n",
      "162.681313499\n",
      "468.285649777\n",
      "Sanity flag= 1\n",
      "Are lanes detected? True True\n"
     ]
    },
    {
     "name": "stderr",
     "output_type": "stream",
     "text": [
      "\u001b[A\n",
      " 47%|████▋     | 559/1200 [03:44<05:29,  1.94it/s]"
     ]
    },
    {
     "name": "stdout",
     "output_type": "stream",
     "text": [
      "Sliding window being executed...\n",
      "113.795922046\n",
      "447.774025563\n",
      "Sanity flag= 1\n",
      "Are lanes detected? True True\n"
     ]
    },
    {
     "name": "stderr",
     "output_type": "stream",
     "text": [
      "\u001b[A\n",
      " 47%|████▋     | 560/1200 [03:44<05:51,  1.82it/s]"
     ]
    },
    {
     "name": "stdout",
     "output_type": "stream",
     "text": [
      "Sliding window being executed...\n",
      "67.2005927046\n",
      "317.640426688\n",
      "Sanity flag= 1\n",
      "Are lanes detected? True True\n"
     ]
    },
    {
     "name": "stderr",
     "output_type": "stream",
     "text": [
      "\u001b[A\n",
      " 47%|████▋     | 561/1200 [03:45<06:02,  1.76it/s]"
     ]
    },
    {
     "name": "stdout",
     "output_type": "stream",
     "text": [
      "Sliding window being executed...\n",
      "117.752309908\n",
      "416.615642949\n",
      "Sanity flag= 1\n",
      "Are lanes detected? True True\n"
     ]
    },
    {
     "name": "stderr",
     "output_type": "stream",
     "text": [
      "\u001b[A\n",
      " 47%|████▋     | 562/1200 [03:46<06:11,  1.72it/s]"
     ]
    },
    {
     "name": "stdout",
     "output_type": "stream",
     "text": [
      "Sliding window being executed...\n",
      "71.9833074468\n",
      "237.177327776\n",
      "Sanity flag= 1\n",
      "Are lanes detected? True True\n"
     ]
    },
    {
     "name": "stderr",
     "output_type": "stream",
     "text": [
      "\u001b[A\n",
      " 47%|████▋     | 563/1200 [03:46<06:14,  1.70it/s]"
     ]
    },
    {
     "name": "stdout",
     "output_type": "stream",
     "text": [
      "Sliding window being executed...\n",
      "43.7243581767\n",
      "331.656495311\n",
      "Sanity flag= 1\n",
      "Are lanes detected? True True\n"
     ]
    },
    {
     "name": "stderr",
     "output_type": "stream",
     "text": [
      "\u001b[A\n",
      " 47%|████▋     | 564/1200 [03:47<06:00,  1.76it/s]"
     ]
    },
    {
     "name": "stdout",
     "output_type": "stream",
     "text": [
      "Sliding window being executed...\n",
      "41.9901660309\n",
      "316.687633286\n",
      "Sanity flag= 1\n",
      "Are lanes detected? True True\n"
     ]
    },
    {
     "name": "stderr",
     "output_type": "stream",
     "text": [
      "\u001b[A\n",
      " 47%|████▋     | 565/1200 [03:47<05:21,  1.98it/s]"
     ]
    },
    {
     "name": "stdout",
     "output_type": "stream",
     "text": [
      "Sliding window being executed...\n",
      "71.5325273742\n",
      "314.193991812\n",
      "Sanity flag= 1\n",
      "Are lanes detected? True True\n"
     ]
    },
    {
     "name": "stderr",
     "output_type": "stream",
     "text": [
      "\u001b[A\n",
      " 47%|████▋     | 566/1200 [03:47<04:53,  2.16it/s]"
     ]
    },
    {
     "name": "stdout",
     "output_type": "stream",
     "text": [
      "Sliding window being executed...\n",
      "96.4197140654\n",
      "299.58030136\n",
      "Sanity flag= 1\n",
      "Are lanes detected? True True\n"
     ]
    },
    {
     "name": "stderr",
     "output_type": "stream",
     "text": [
      "\u001b[A\n",
      " 47%|████▋     | 567/1200 [03:48<04:34,  2.30it/s]"
     ]
    },
    {
     "name": "stdout",
     "output_type": "stream",
     "text": [
      "Sliding window being executed...\n",
      "75.9692311855\n",
      "304.820222366\n",
      "Sanity flag= 1\n",
      "Are lanes detected? True True\n"
     ]
    },
    {
     "name": "stderr",
     "output_type": "stream",
     "text": [
      "\u001b[A\n",
      " 47%|████▋     | 568/1200 [03:48<04:21,  2.41it/s]"
     ]
    },
    {
     "name": "stdout",
     "output_type": "stream",
     "text": [
      "Sliding window being executed...\n",
      "80.1946489423\n",
      "326.638512565\n",
      "Sanity flag= 1\n",
      "Are lanes detected? True True\n"
     ]
    },
    {
     "name": "stderr",
     "output_type": "stream",
     "text": [
      "\u001b[A\n",
      " 47%|████▋     | 569/1200 [03:49<04:13,  2.49it/s]"
     ]
    },
    {
     "name": "stdout",
     "output_type": "stream",
     "text": [
      "Sliding window being executed...\n",
      "149.826481596\n",
      "1462.29049816\n",
      "Sanity flag= 1\n",
      "Are lanes detected? True True\n"
     ]
    },
    {
     "name": "stderr",
     "output_type": "stream",
     "text": [
      "\u001b[A\n",
      " 48%|████▊     | 570/1200 [03:49<04:08,  2.53it/s]"
     ]
    },
    {
     "name": "stdout",
     "output_type": "stream",
     "text": [
      "Sliding window being executed...\n",
      "724.14063698\n",
      "3473.41972365\n",
      "Sanity flag= 1\n",
      "Are lanes detected? True True\n"
     ]
    },
    {
     "name": "stderr",
     "output_type": "stream",
     "text": [
      "\u001b[A\n",
      " 48%|████▊     | 571/1200 [03:49<04:04,  2.58it/s]"
     ]
    },
    {
     "name": "stdout",
     "output_type": "stream",
     "text": [
      "Sliding window being executed...\n",
      "398.976082957\n",
      "799.358766848\n",
      "Sanity flag= 0\n",
      "Are lanes detected? True True\n"
     ]
    },
    {
     "name": "stderr",
     "output_type": "stream",
     "text": [
      "\u001b[A\n",
      " 48%|████▊     | 572/1200 [03:50<04:01,  2.60it/s]"
     ]
    },
    {
     "name": "stdout",
     "output_type": "stream",
     "text": [
      "Sliding window being executed...\n",
      "79.9073415541\n",
      "1415.75115515\n",
      "Sanity flag= 1\n",
      "Are lanes detected? True True\n"
     ]
    },
    {
     "name": "stderr",
     "output_type": "stream",
     "text": [
      "\u001b[A\n",
      " 48%|████▊     | 573/1200 [03:50<03:59,  2.62it/s]"
     ]
    },
    {
     "name": "stdout",
     "output_type": "stream",
     "text": [
      "Sliding window being executed...\n",
      "66.4282286315\n",
      "1054.79439922\n",
      "Sanity flag= 1\n",
      "Are lanes detected? True True\n"
     ]
    },
    {
     "name": "stderr",
     "output_type": "stream",
     "text": [
      "\u001b[A\n",
      " 48%|████▊     | 574/1200 [03:50<03:58,  2.62it/s]"
     ]
    },
    {
     "name": "stdout",
     "output_type": "stream",
     "text": [
      "Sliding window being executed...\n",
      "65.410256975\n",
      "11850.9682478\n",
      "Sanity flag= 1\n",
      "Are lanes detected? True True\n"
     ]
    },
    {
     "name": "stderr",
     "output_type": "stream",
     "text": [
      "\u001b[A\n",
      " 48%|████▊     | 575/1200 [03:51<03:58,  2.62it/s]"
     ]
    },
    {
     "name": "stdout",
     "output_type": "stream",
     "text": [
      "Sliding window being executed...\n",
      "55.5176652826\n",
      "2923.49809707\n",
      "Sanity flag= 1\n",
      "Are lanes detected? True True\n"
     ]
    },
    {
     "name": "stderr",
     "output_type": "stream",
     "text": [
      "\u001b[A\n",
      " 48%|████▊     | 576/1200 [03:51<03:55,  2.65it/s]"
     ]
    },
    {
     "name": "stdout",
     "output_type": "stream",
     "text": [
      "Sliding window being executed...\n",
      "70.9420362967\n",
      "779.729963253\n",
      "Sanity flag= 1\n",
      "Are lanes detected? True True\n"
     ]
    },
    {
     "name": "stderr",
     "output_type": "stream",
     "text": [
      "\u001b[A\n",
      " 48%|████▊     | 577/1200 [03:52<03:54,  2.66it/s]"
     ]
    },
    {
     "name": "stdout",
     "output_type": "stream",
     "text": [
      "Sliding window being executed...\n",
      "131.435823172\n",
      "763.167890389\n",
      "Sanity flag= 1\n",
      "Are lanes detected? True True\n"
     ]
    },
    {
     "name": "stderr",
     "output_type": "stream",
     "text": [
      "\u001b[A\n",
      " 48%|████▊     | 578/1200 [03:52<03:53,  2.66it/s]"
     ]
    },
    {
     "name": "stdout",
     "output_type": "stream",
     "text": [
      "Sliding window being executed...\n",
      "43.6188189729\n",
      "987.656238912\n",
      "Sanity flag= 1\n",
      "Are lanes detected? True True\n"
     ]
    },
    {
     "name": "stderr",
     "output_type": "stream",
     "text": [
      "\u001b[A\n",
      " 48%|████▊     | 579/1200 [03:52<03:50,  2.69it/s]"
     ]
    },
    {
     "name": "stdout",
     "output_type": "stream",
     "text": [
      "Sliding window being executed...\n",
      "48.0348029403\n",
      "1415.69020312\n",
      "Sanity flag= 1\n",
      "Are lanes detected? True True\n"
     ]
    },
    {
     "name": "stderr",
     "output_type": "stream",
     "text": [
      "\u001b[A\n",
      " 48%|████▊     | 580/1200 [03:53<03:52,  2.67it/s]"
     ]
    },
    {
     "name": "stdout",
     "output_type": "stream",
     "text": [
      "Sliding window being executed...\n",
      "101.031520833\n",
      "1012.49010751\n",
      "Sanity flag= 1\n",
      "Are lanes detected? True True\n"
     ]
    },
    {
     "name": "stderr",
     "output_type": "stream",
     "text": [
      "\u001b[A\n",
      " 48%|████▊     | 581/1200 [03:53<03:49,  2.69it/s]"
     ]
    },
    {
     "name": "stdout",
     "output_type": "stream",
     "text": [
      "Sliding window being executed...\n",
      "102.084036821\n",
      "948.499149768\n",
      "Sanity flag= 1\n",
      "Are lanes detected? True True\n"
     ]
    },
    {
     "name": "stderr",
     "output_type": "stream",
     "text": [
      "\u001b[A\n",
      " 48%|████▊     | 582/1200 [03:53<03:47,  2.72it/s]"
     ]
    },
    {
     "name": "stdout",
     "output_type": "stream",
     "text": [
      "Sliding window being executed...\n",
      "49.3936188582\n",
      "17617.0417756\n",
      "Sanity flag= 1\n",
      "Are lanes detected? True True\n"
     ]
    },
    {
     "name": "stderr",
     "output_type": "stream",
     "text": [
      "\u001b[A\n",
      " 49%|████▊     | 583/1200 [03:54<03:58,  2.59it/s]"
     ]
    },
    {
     "name": "stdout",
     "output_type": "stream",
     "text": [
      "Sliding window being executed...\n",
      "70.3640534522\n",
      "1702.87374154\n",
      "Sanity flag= 1\n",
      "Are lanes detected? True True\n"
     ]
    },
    {
     "name": "stderr",
     "output_type": "stream",
     "text": [
      "\u001b[A\n",
      " 49%|████▊     | 584/1200 [03:54<03:51,  2.66it/s]"
     ]
    },
    {
     "name": "stdout",
     "output_type": "stream",
     "text": [
      "Sliding window being executed...\n",
      "58.5163396115\n",
      "885.68475242\n",
      "Sanity flag= 1\n",
      "Are lanes detected? True True\n"
     ]
    },
    {
     "name": "stderr",
     "output_type": "stream",
     "text": [
      "\u001b[A\n",
      " 49%|████▉     | 585/1200 [03:55<03:48,  2.70it/s]"
     ]
    },
    {
     "name": "stdout",
     "output_type": "stream",
     "text": [
      "Sliding window being executed...\n",
      "46.8249364439\n",
      "1002.39517193\n",
      "Sanity flag= 1\n",
      "Are lanes detected? True True\n"
     ]
    },
    {
     "name": "stderr",
     "output_type": "stream",
     "text": [
      "\u001b[A\n",
      " 49%|████▉     | 586/1200 [03:55<03:45,  2.72it/s]"
     ]
    },
    {
     "name": "stdout",
     "output_type": "stream",
     "text": [
      "Sliding window being executed...\n",
      "81.5984202605\n",
      "706.519139485\n",
      "Sanity flag= 1\n",
      "Are lanes detected? True True\n"
     ]
    },
    {
     "name": "stderr",
     "output_type": "stream",
     "text": [
      "\u001b[A\n",
      " 49%|████▉     | 587/1200 [03:55<03:46,  2.71it/s]"
     ]
    },
    {
     "name": "stdout",
     "output_type": "stream",
     "text": [
      "Sliding window being executed...\n",
      "84.4557039344\n",
      "678.048357356\n",
      "Sanity flag= 1\n",
      "Are lanes detected? True True\n"
     ]
    },
    {
     "name": "stderr",
     "output_type": "stream",
     "text": [
      "\u001b[A\n",
      " 49%|████▉     | 588/1200 [03:56<03:44,  2.72it/s]"
     ]
    },
    {
     "name": "stdout",
     "output_type": "stream",
     "text": [
      "Sliding window being executed...\n",
      "59.4556095742\n",
      "551.985585388\n",
      "Sanity flag= 1\n",
      "Are lanes detected? True True\n"
     ]
    },
    {
     "name": "stderr",
     "output_type": "stream",
     "text": [
      "\u001b[A\n",
      " 49%|████▉     | 589/1200 [03:56<03:42,  2.75it/s]"
     ]
    },
    {
     "name": "stdout",
     "output_type": "stream",
     "text": [
      "Sliding window being executed...\n",
      "73.4304746086\n",
      "370.760557459\n",
      "Sanity flag= 1\n",
      "Are lanes detected? True True\n"
     ]
    },
    {
     "name": "stderr",
     "output_type": "stream",
     "text": [
      "\u001b[A\n",
      " 49%|████▉     | 590/1200 [03:56<03:42,  2.75it/s]"
     ]
    },
    {
     "name": "stdout",
     "output_type": "stream",
     "text": [
      "Sliding window being executed...\n",
      "103.25038743\n",
      "396.774315411\n",
      "Sanity flag= 1\n",
      "Are lanes detected? True True\n"
     ]
    },
    {
     "name": "stderr",
     "output_type": "stream",
     "text": [
      "\u001b[A\n",
      " 49%|████▉     | 591/1200 [03:57<03:43,  2.73it/s]"
     ]
    },
    {
     "name": "stdout",
     "output_type": "stream",
     "text": [
      "Sliding window being executed...\n",
      "440.928057843\n",
      "411.272630345\n",
      "Sanity flag= 0\n",
      "Are lanes detected? True True\n"
     ]
    },
    {
     "name": "stderr",
     "output_type": "stream",
     "text": [
      "\u001b[A\n",
      " 49%|████▉     | 592/1200 [03:57<03:42,  2.73it/s]"
     ]
    },
    {
     "name": "stdout",
     "output_type": "stream",
     "text": [
      "Sliding window being executed...\n",
      "528.271332964\n",
      "326.696535138\n",
      "Sanity flag= 0\n",
      "Are lanes detected? True True\n"
     ]
    },
    {
     "name": "stderr",
     "output_type": "stream",
     "text": [
      "\u001b[A\n",
      " 49%|████▉     | 593/1200 [03:57<03:42,  2.73it/s]"
     ]
    },
    {
     "name": "stdout",
     "output_type": "stream",
     "text": [
      "Sliding window being executed...\n",
      "1005.68422012\n",
      "232.369515638\n",
      "Sanity flag= 0\n",
      "Are lanes detected? True True\n"
     ]
    },
    {
     "name": "stderr",
     "output_type": "stream",
     "text": [
      "\u001b[A\n",
      " 50%|████▉     | 594/1200 [03:58<03:41,  2.73it/s]"
     ]
    },
    {
     "name": "stdout",
     "output_type": "stream",
     "text": [
      "Sliding window being executed...\n",
      "24.0225626014\n",
      "262.352191199\n",
      "Sanity flag= 1\n",
      "Are lanes detected? True True\n"
     ]
    },
    {
     "name": "stderr",
     "output_type": "stream",
     "text": [
      "\u001b[A\n",
      " 50%|████▉     | 595/1200 [03:58<03:38,  2.77it/s]"
     ]
    },
    {
     "name": "stdout",
     "output_type": "stream",
     "text": [
      "Sliding window being executed...\n",
      "1248.82452534\n",
      "493.636902293\n",
      "Sanity flag= 1\n",
      "Are lanes detected? True True\n"
     ]
    },
    {
     "name": "stderr",
     "output_type": "stream",
     "text": [
      "\u001b[A\n",
      " 50%|████▉     | 596/1200 [03:59<03:36,  2.79it/s]"
     ]
    },
    {
     "name": "stdout",
     "output_type": "stream",
     "text": [
      "Sliding window being executed...\n",
      "1141.26475209\n",
      "463.785709176\n",
      "Sanity flag= 0\n",
      "Are lanes detected? True True\n"
     ]
    },
    {
     "name": "stderr",
     "output_type": "stream",
     "text": [
      "\u001b[A\n",
      " 50%|████▉     | 597/1200 [03:59<03:37,  2.78it/s]"
     ]
    },
    {
     "name": "stdout",
     "output_type": "stream",
     "text": [
      "Sliding window being executed...\n",
      "973.18163877\n",
      "481.302349552\n",
      "Sanity flag= 0\n",
      "Are lanes detected? True True\n"
     ]
    },
    {
     "name": "stderr",
     "output_type": "stream",
     "text": [
      "\u001b[A\n",
      " 50%|████▉     | 598/1200 [03:59<03:37,  2.77it/s]"
     ]
    },
    {
     "name": "stdout",
     "output_type": "stream",
     "text": [
      "Sliding window being executed...\n",
      "473.088753547\n",
      "611.975262449\n",
      "Sanity flag= 0\n",
      "Are lanes detected? True True\n"
     ]
    },
    {
     "name": "stderr",
     "output_type": "stream",
     "text": [
      "\u001b[A\n",
      " 50%|████▉     | 599/1200 [04:00<03:37,  2.76it/s]"
     ]
    },
    {
     "name": "stdout",
     "output_type": "stream",
     "text": [
      "Sliding window being executed...\n",
      "2261.1139736\n",
      "470.054698414\n",
      "Sanity flag= 1\n",
      "Are lanes detected? True True\n"
     ]
    },
    {
     "name": "stderr",
     "output_type": "stream",
     "text": [
      "\u001b[A\n",
      " 50%|█████     | 600/1200 [04:00<03:37,  2.76it/s]"
     ]
    },
    {
     "name": "stdout",
     "output_type": "stream",
     "text": [
      "Sliding window being executed...\n",
      "1085.85143506\n",
      "424.411275261\n",
      "Sanity flag= 0\n",
      "Are lanes detected? True True\n"
     ]
    },
    {
     "name": "stderr",
     "output_type": "stream",
     "text": [
      "\u001b[A\n",
      " 50%|█████     | 601/1200 [04:00<03:36,  2.76it/s]"
     ]
    },
    {
     "name": "stdout",
     "output_type": "stream",
     "text": [
      "Sliding window being executed...\n",
      "476.989559477\n",
      "76540.1359791\n",
      "Sanity flag= 1\n",
      "Are lanes detected? True True\n"
     ]
    },
    {
     "name": "stderr",
     "output_type": "stream",
     "text": [
      "\u001b[A\n",
      " 50%|█████     | 602/1200 [04:01<03:36,  2.76it/s]"
     ]
    },
    {
     "name": "stdout",
     "output_type": "stream",
     "text": [
      "Sliding window being executed...\n",
      "439.372395133\n",
      "1290.43965381\n",
      "Sanity flag= 1\n",
      "Are lanes detected? True True\n"
     ]
    },
    {
     "name": "stderr",
     "output_type": "stream",
     "text": [
      "\u001b[A\n",
      " 50%|█████     | 603/1200 [04:01<03:36,  2.76it/s]"
     ]
    },
    {
     "name": "stdout",
     "output_type": "stream",
     "text": [
      "Sliding window being executed...\n",
      "519.261061422\n",
      "774.266696682\n",
      "Sanity flag= 0\n",
      "Are lanes detected? True True\n"
     ]
    },
    {
     "name": "stderr",
     "output_type": "stream",
     "text": [
      "\u001b[A\n",
      " 50%|█████     | 604/1200 [04:01<03:36,  2.75it/s]"
     ]
    },
    {
     "name": "stdout",
     "output_type": "stream",
     "text": [
      "Sliding window being executed...\n",
      "703.338055952\n",
      "2301.03158113\n",
      "Sanity flag= 1\n",
      "Are lanes detected? True True\n"
     ]
    },
    {
     "name": "stderr",
     "output_type": "stream",
     "text": [
      "\u001b[A\n",
      " 50%|█████     | 605/1200 [04:02<03:39,  2.72it/s]"
     ]
    },
    {
     "name": "stdout",
     "output_type": "stream",
     "text": [
      "Sliding window being executed...\n",
      "722.037708423\n",
      "1020.6858022\n",
      "Sanity flag= 0\n",
      "Are lanes detected? True True\n"
     ]
    },
    {
     "name": "stderr",
     "output_type": "stream",
     "text": [
      "\u001b[A\n",
      " 50%|█████     | 606/1200 [04:02<03:40,  2.70it/s]"
     ]
    },
    {
     "name": "stdout",
     "output_type": "stream",
     "text": [
      "Sliding window being executed...\n",
      "27960.3230174\n",
      "745.52689455\n",
      "Sanity flag= 1\n",
      "Are lanes detected? True True\n"
     ]
    },
    {
     "name": "stderr",
     "output_type": "stream",
     "text": [
      "\u001b[A\n",
      " 51%|█████     | 607/1200 [04:03<03:41,  2.68it/s]"
     ]
    },
    {
     "name": "stdout",
     "output_type": "stream",
     "text": [
      "Sliding window being executed...\n",
      "18254.2920536\n",
      "753.230288652\n",
      "Sanity flag= 1\n",
      "Are lanes detected? True True\n"
     ]
    },
    {
     "name": "stderr",
     "output_type": "stream",
     "text": [
      "\u001b[A\n",
      " 51%|█████     | 608/1200 [04:03<03:41,  2.67it/s]"
     ]
    },
    {
     "name": "stdout",
     "output_type": "stream",
     "text": [
      "Sliding window being executed...\n",
      "1194.59247452\n",
      "356.462446771\n",
      "Sanity flag= 0\n",
      "Are lanes detected? True True\n"
     ]
    },
    {
     "name": "stderr",
     "output_type": "stream",
     "text": [
      "\u001b[A\n",
      " 51%|█████     | 609/1200 [04:03<03:42,  2.65it/s]"
     ]
    },
    {
     "name": "stdout",
     "output_type": "stream",
     "text": [
      "Sliding window being executed...\n",
      "339.646858001\n",
      "2285.1304403\n",
      "Sanity flag= 1\n",
      "Are lanes detected? True True\n"
     ]
    },
    {
     "name": "stderr",
     "output_type": "stream",
     "text": [
      "\u001b[A\n",
      " 51%|█████     | 610/1200 [04:04<03:39,  2.69it/s]"
     ]
    },
    {
     "name": "stdout",
     "output_type": "stream",
     "text": [
      "Sliding window being executed...\n",
      "286.377265323\n",
      "455.869688775\n",
      "Sanity flag= 1\n",
      "Are lanes detected? True True\n"
     ]
    },
    {
     "name": "stderr",
     "output_type": "stream",
     "text": [
      "\u001b[A\n",
      " 51%|█████     | 611/1200 [04:04<03:39,  2.68it/s]"
     ]
    },
    {
     "name": "stdout",
     "output_type": "stream",
     "text": [
      "Sliding window being executed...\n",
      "526.044936121\n",
      "317.270318415\n",
      "Sanity flag= 1\n",
      "Are lanes detected? True True\n"
     ]
    },
    {
     "name": "stderr",
     "output_type": "stream",
     "text": [
      "\u001b[A\n",
      " 51%|█████     | 612/1200 [04:04<03:38,  2.69it/s]"
     ]
    },
    {
     "name": "stdout",
     "output_type": "stream",
     "text": [
      "Sliding window being executed...\n",
      "277.820283861\n",
      "2839.4929843\n",
      "Sanity flag= 1\n",
      "Are lanes detected? True True\n"
     ]
    },
    {
     "name": "stderr",
     "output_type": "stream",
     "text": [
      "\u001b[A\n",
      " 51%|█████     | 613/1200 [04:05<03:48,  2.57it/s]"
     ]
    },
    {
     "name": "stdout",
     "output_type": "stream",
     "text": [
      "Sliding window being executed...\n",
      "1082.96141521\n",
      "576.207030876\n",
      "Sanity flag= 0\n",
      "Are lanes detected? True True\n"
     ]
    },
    {
     "name": "stderr",
     "output_type": "stream",
     "text": [
      "\u001b[A\n",
      " 51%|█████     | 614/1200 [04:05<03:40,  2.66it/s]"
     ]
    },
    {
     "name": "stdout",
     "output_type": "stream",
     "text": [
      "Sliding window being executed...\n",
      "369.101118545\n",
      "486.01651379\n",
      "Sanity flag= 0\n",
      "Are lanes detected? True True\n"
     ]
    },
    {
     "name": "stderr",
     "output_type": "stream",
     "text": [
      "\u001b[A\n",
      " 51%|█████▏    | 615/1200 [04:06<03:44,  2.61it/s]"
     ]
    },
    {
     "name": "stdout",
     "output_type": "stream",
     "text": [
      "Sliding window being executed...\n",
      "421.579941506\n",
      "402.917036192\n",
      "Sanity flag= 0\n",
      "Are lanes detected? True True\n"
     ]
    },
    {
     "name": "stderr",
     "output_type": "stream",
     "text": [
      "\u001b[A\n",
      " 51%|█████▏    | 616/1200 [04:06<03:43,  2.61it/s]"
     ]
    },
    {
     "name": "stdout",
     "output_type": "stream",
     "text": [
      "Sliding window being executed...\n",
      "783.838444235\n",
      "863.170768247\n",
      "Sanity flag= 0\n",
      "Are lanes detected? True True\n"
     ]
    },
    {
     "name": "stderr",
     "output_type": "stream",
     "text": [
      "\u001b[A\n",
      " 51%|█████▏    | 617/1200 [04:06<03:42,  2.62it/s]"
     ]
    },
    {
     "name": "stdout",
     "output_type": "stream",
     "text": [
      "Sliding window being executed...\n",
      "550.156795618\n",
      "997.135353928\n",
      "Sanity flag= 0\n",
      "Are lanes detected? True True\n"
     ]
    },
    {
     "name": "stderr",
     "output_type": "stream",
     "text": [
      "\u001b[A\n",
      " 52%|█████▏    | 618/1200 [04:07<03:43,  2.61it/s]"
     ]
    },
    {
     "name": "stdout",
     "output_type": "stream",
     "text": [
      "Sliding window being executed...\n",
      "464.757716462\n",
      "670.14421956\n",
      "Sanity flag= 0\n",
      "Are lanes detected? True True\n"
     ]
    },
    {
     "name": "stderr",
     "output_type": "stream",
     "text": [
      "\u001b[A\n",
      " 52%|█████▏    | 619/1200 [04:07<03:48,  2.54it/s]"
     ]
    },
    {
     "name": "stdout",
     "output_type": "stream",
     "text": [
      "Sliding window being executed...\n",
      "521.725225164\n",
      "977.11327423\n",
      "Sanity flag= 0\n",
      "Are lanes detected? True True\n"
     ]
    },
    {
     "name": "stderr",
     "output_type": "stream",
     "text": [
      "\u001b[A\n",
      " 52%|█████▏    | 620/1200 [04:08<03:42,  2.60it/s]"
     ]
    },
    {
     "name": "stdout",
     "output_type": "stream",
     "text": [
      "Sliding window being executed...\n",
      "568.973667898\n",
      "972.781520704\n",
      "Sanity flag= 0\n",
      "Are lanes detected? True True\n"
     ]
    },
    {
     "name": "stderr",
     "output_type": "stream",
     "text": [
      "\u001b[A\n",
      " 52%|█████▏    | 621/1200 [04:08<03:43,  2.59it/s]"
     ]
    },
    {
     "name": "stdout",
     "output_type": "stream",
     "text": [
      "Sliding window being executed...\n",
      "394.148241802\n",
      "1210.80510926\n",
      "Sanity flag= 1\n",
      "Are lanes detected? True True\n"
     ]
    },
    {
     "name": "stderr",
     "output_type": "stream",
     "text": [
      "\u001b[A\n",
      " 52%|█████▏    | 622/1200 [04:08<03:41,  2.61it/s]"
     ]
    },
    {
     "name": "stdout",
     "output_type": "stream",
     "text": [
      "Sliding window being executed...\n",
      "856.302570261\n",
      "1255.71705216\n",
      "Sanity flag= 1\n",
      "Are lanes detected? True True\n"
     ]
    },
    {
     "name": "stderr",
     "output_type": "stream",
     "text": [
      "\u001b[A\n",
      " 52%|█████▏    | 623/1200 [04:09<03:40,  2.62it/s]"
     ]
    },
    {
     "name": "stdout",
     "output_type": "stream",
     "text": [
      "Sliding window being executed...\n",
      "2342.78649222\n",
      "4467.30328872\n",
      "Sanity flag= 1\n",
      "Are lanes detected? True True\n"
     ]
    },
    {
     "name": "stderr",
     "output_type": "stream",
     "text": [
      "\u001b[A\n",
      " 52%|█████▏    | 624/1200 [04:09<03:42,  2.58it/s]"
     ]
    },
    {
     "name": "stdout",
     "output_type": "stream",
     "text": [
      "Sliding window being executed...\n",
      "861.482734802\n",
      "1219.94605134\n",
      "Sanity flag= 1\n",
      "Are lanes detected? True True\n"
     ]
    },
    {
     "name": "stderr",
     "output_type": "stream",
     "text": [
      "\u001b[A\n",
      " 52%|█████▏    | 625/1200 [04:09<03:42,  2.58it/s]"
     ]
    },
    {
     "name": "stdout",
     "output_type": "stream",
     "text": [
      "Sliding window being executed...\n",
      "1429.82136661\n",
      "3450.91262282\n",
      "Sanity flag= 1\n",
      "Are lanes detected? True True\n"
     ]
    },
    {
     "name": "stderr",
     "output_type": "stream",
     "text": [
      "\u001b[A\n",
      " 52%|█████▏    | 626/1200 [04:10<03:44,  2.56it/s]"
     ]
    },
    {
     "name": "stdout",
     "output_type": "stream",
     "text": [
      "Sliding window being executed...\n",
      "482.097117054\n",
      "1196.27498069\n",
      "Sanity flag= 0\n",
      "Are lanes detected? True True\n"
     ]
    },
    {
     "name": "stderr",
     "output_type": "stream",
     "text": [
      "\u001b[A\n",
      " 52%|█████▏    | 627/1200 [04:10<03:46,  2.53it/s]"
     ]
    },
    {
     "name": "stdout",
     "output_type": "stream",
     "text": [
      "Sliding window being executed...\n",
      "916.130736517\n",
      "3266.54402121\n",
      "Sanity flag= 1\n",
      "Are lanes detected? True True\n"
     ]
    },
    {
     "name": "stderr",
     "output_type": "stream",
     "text": [
      "\u001b[A\n",
      " 52%|█████▏    | 628/1200 [04:11<03:42,  2.57it/s]"
     ]
    },
    {
     "name": "stdout",
     "output_type": "stream",
     "text": [
      "Sliding window being executed...\n",
      "1842.78589906\n",
      "13440.2377268\n",
      "Sanity flag= 1\n",
      "Are lanes detected? True True\n"
     ]
    },
    {
     "name": "stderr",
     "output_type": "stream",
     "text": [
      "\u001b[A\n",
      " 52%|█████▏    | 629/1200 [04:11<03:44,  2.55it/s]"
     ]
    },
    {
     "name": "stdout",
     "output_type": "stream",
     "text": [
      "Sliding window being executed...\n",
      "1147.37093975\n",
      "7949.90631565\n",
      "Sanity flag= 1\n",
      "Are lanes detected? True True\n"
     ]
    },
    {
     "name": "stderr",
     "output_type": "stream",
     "text": [
      "\u001b[A\n",
      " 52%|█████▎    | 630/1200 [04:11<03:53,  2.44it/s]"
     ]
    },
    {
     "name": "stdout",
     "output_type": "stream",
     "text": [
      "Sliding window being executed...\n",
      "2089.6769562\n",
      "2439.67791694\n",
      "Sanity flag= 1\n",
      "Are lanes detected? True True\n"
     ]
    },
    {
     "name": "stderr",
     "output_type": "stream",
     "text": [
      "\u001b[A\n",
      " 53%|█████▎    | 631/1200 [04:12<03:48,  2.48it/s]"
     ]
    },
    {
     "name": "stdout",
     "output_type": "stream",
     "text": [
      "Sliding window being executed...\n",
      "2690.97853897\n",
      "1608.37325442\n",
      "Sanity flag= 1\n",
      "Are lanes detected? True True\n"
     ]
    },
    {
     "name": "stderr",
     "output_type": "stream",
     "text": [
      "\u001b[A\n",
      " 53%|█████▎    | 632/1200 [04:12<03:38,  2.60it/s]"
     ]
    },
    {
     "name": "stdout",
     "output_type": "stream",
     "text": [
      "Sliding window being executed...\n",
      "6666.22970952\n",
      "2096.56950448\n",
      "Sanity flag= 1\n",
      "Are lanes detected? True True\n"
     ]
    },
    {
     "name": "stderr",
     "output_type": "stream",
     "text": [
      "\u001b[A\n",
      " 53%|█████▎    | 633/1200 [04:13<03:37,  2.61it/s]"
     ]
    },
    {
     "name": "stdout",
     "output_type": "stream",
     "text": [
      "Sliding window being executed...\n",
      "7687.89445575\n",
      "198070.53322\n",
      "Sanity flag= 1\n",
      "Are lanes detected? True True\n"
     ]
    },
    {
     "name": "stderr",
     "output_type": "stream",
     "text": [
      "\u001b[A\n",
      " 53%|█████▎    | 634/1200 [04:13<03:41,  2.55it/s]"
     ]
    },
    {
     "name": "stdout",
     "output_type": "stream",
     "text": [
      "Sliding window being executed...\n",
      "3501.21478385\n",
      "18031.9304876\n",
      "Sanity flag= 1\n",
      "Are lanes detected? True True\n"
     ]
    },
    {
     "name": "stderr",
     "output_type": "stream",
     "text": [
      "\u001b[A\n",
      " 53%|█████▎    | 635/1200 [04:13<03:53,  2.42it/s]"
     ]
    },
    {
     "name": "stdout",
     "output_type": "stream",
     "text": [
      "Sliding window being executed...\n",
      "5277.89681112\n",
      "10277.103426\n",
      "Sanity flag= 1\n",
      "Are lanes detected? True True\n"
     ]
    },
    {
     "name": "stderr",
     "output_type": "stream",
     "text": [
      "\u001b[A\n",
      " 53%|█████▎    | 636/1200 [04:14<04:00,  2.34it/s]"
     ]
    },
    {
     "name": "stdout",
     "output_type": "stream",
     "text": [
      "Sliding window being executed...\n",
      "11225.9213177\n",
      "42113.1936841\n",
      "Sanity flag= 1\n",
      "Are lanes detected? True True\n"
     ]
    },
    {
     "name": "stderr",
     "output_type": "stream",
     "text": [
      "\u001b[A\n",
      " 53%|█████▎    | 637/1200 [04:14<04:03,  2.32it/s]"
     ]
    },
    {
     "name": "stdout",
     "output_type": "stream",
     "text": [
      "Sliding window being executed...\n",
      "13833.7135929\n",
      "13921.948459\n",
      "Sanity flag= 1\n",
      "Are lanes detected? True True\n"
     ]
    },
    {
     "name": "stderr",
     "output_type": "stream",
     "text": [
      "\u001b[A\n",
      " 53%|█████▎    | 638/1200 [04:15<04:02,  2.32it/s]"
     ]
    },
    {
     "name": "stdout",
     "output_type": "stream",
     "text": [
      "Sliding window being executed...\n",
      "2635.41422312\n",
      "2017.1751117\n",
      "Sanity flag= 1\n",
      "Are lanes detected? True True\n"
     ]
    },
    {
     "name": "stderr",
     "output_type": "stream",
     "text": [
      "\u001b[A\n",
      " 53%|█████▎    | 639/1200 [04:15<03:53,  2.40it/s]"
     ]
    },
    {
     "name": "stdout",
     "output_type": "stream",
     "text": [
      "Sliding window being executed...\n",
      "518.212561432\n",
      "115372.53758\n",
      "Sanity flag= 1\n",
      "Are lanes detected? True True\n"
     ]
    },
    {
     "name": "stderr",
     "output_type": "stream",
     "text": [
      "\u001b[A\n",
      " 53%|█████▎    | 640/1200 [04:16<03:54,  2.39it/s]"
     ]
    },
    {
     "name": "stdout",
     "output_type": "stream",
     "text": [
      "Sliding window being executed...\n",
      "539.424113126\n",
      "1047.16432862\n",
      "Sanity flag= 0\n",
      "Are lanes detected? True True\n"
     ]
    },
    {
     "name": "stderr",
     "output_type": "stream",
     "text": [
      "\u001b[A\n",
      " 53%|█████▎    | 641/1200 [04:16<03:53,  2.39it/s]"
     ]
    },
    {
     "name": "stdout",
     "output_type": "stream",
     "text": [
      "Sliding window being executed...\n",
      "3240.20475351\n",
      "2951.06527746\n",
      "Sanity flag= 1\n",
      "Are lanes detected? True True\n"
     ]
    },
    {
     "name": "stderr",
     "output_type": "stream",
     "text": [
      "\u001b[A\n",
      " 54%|█████▎    | 642/1200 [04:16<03:52,  2.40it/s]"
     ]
    },
    {
     "name": "stdout",
     "output_type": "stream",
     "text": [
      "Sliding window being executed...\n",
      "2852.92267818\n",
      "1737.66135227\n",
      "Sanity flag= 1\n",
      "Are lanes detected? True True\n"
     ]
    },
    {
     "name": "stderr",
     "output_type": "stream",
     "text": [
      "\u001b[A\n",
      " 54%|█████▎    | 643/1200 [04:17<04:03,  2.29it/s]"
     ]
    },
    {
     "name": "stdout",
     "output_type": "stream",
     "text": [
      "Sliding window being executed...\n",
      "727.576512422\n",
      "15146.2268482\n",
      "Sanity flag= 1\n",
      "Are lanes detected? True True\n"
     ]
    },
    {
     "name": "stderr",
     "output_type": "stream",
     "text": [
      "\u001b[A\n",
      " 54%|█████▎    | 644/1200 [04:17<04:01,  2.30it/s]"
     ]
    },
    {
     "name": "stdout",
     "output_type": "stream",
     "text": [
      "Sliding window being executed...\n",
      "768.14028955\n",
      "713.839928487\n",
      "Sanity flag= 0\n",
      "Are lanes detected? True True\n"
     ]
    },
    {
     "name": "stderr",
     "output_type": "stream",
     "text": [
      "\u001b[A\n",
      " 54%|█████▍    | 645/1200 [04:18<04:13,  2.19it/s]"
     ]
    },
    {
     "name": "stdout",
     "output_type": "stream",
     "text": [
      "Sliding window being executed...\n",
      "576.828743675\n",
      "453.643834065\n",
      "Sanity flag= 0\n",
      "Are lanes detected? True True\n"
     ]
    },
    {
     "name": "stderr",
     "output_type": "stream",
     "text": [
      "\u001b[A\n",
      " 54%|█████▍    | 646/1200 [04:18<04:17,  2.15it/s]"
     ]
    },
    {
     "name": "stdout",
     "output_type": "stream",
     "text": [
      "Sliding window being executed...\n",
      "729.65246612\n",
      "870.536986704\n",
      "Sanity flag= 0\n",
      "Are lanes detected? True True\n"
     ]
    },
    {
     "name": "stderr",
     "output_type": "stream",
     "text": [
      "\u001b[A\n",
      " 54%|█████▍    | 647/1200 [04:19<04:20,  2.13it/s]"
     ]
    },
    {
     "name": "stdout",
     "output_type": "stream",
     "text": [
      "Sliding window being executed...\n",
      "496.429792188\n",
      "646.057651987\n",
      "Sanity flag= 0\n",
      "Are lanes detected? True True\n"
     ]
    },
    {
     "name": "stderr",
     "output_type": "stream",
     "text": [
      "\u001b[A\n",
      " 54%|█████▍    | 648/1200 [04:19<04:13,  2.18it/s]"
     ]
    },
    {
     "name": "stdout",
     "output_type": "stream",
     "text": [
      "Sliding window being executed...\n",
      "400.139235191\n",
      "522.454772081\n",
      "Sanity flag= 0\n",
      "Are lanes detected? True True\n"
     ]
    },
    {
     "name": "stderr",
     "output_type": "stream",
     "text": [
      "\u001b[A\n",
      " 54%|█████▍    | 649/1200 [04:20<04:08,  2.22it/s]"
     ]
    },
    {
     "name": "stdout",
     "output_type": "stream",
     "text": [
      "Sliding window being executed...\n",
      "289.370457176\n",
      "1087.67799904\n",
      "Sanity flag= 0\n",
      "Are lanes detected? True True\n"
     ]
    },
    {
     "name": "stderr",
     "output_type": "stream",
     "text": [
      "\u001b[A\n",
      " 54%|█████▍    | 650/1200 [04:20<03:59,  2.30it/s]"
     ]
    },
    {
     "name": "stdout",
     "output_type": "stream",
     "text": [
      "Sliding window being executed...\n",
      "212.088071663\n",
      "481.511090364\n",
      "Sanity flag= 1\n",
      "Are lanes detected? True True\n"
     ]
    },
    {
     "name": "stderr",
     "output_type": "stream",
     "text": [
      "\u001b[A\n",
      " 54%|█████▍    | 651/1200 [04:21<03:56,  2.32it/s]"
     ]
    },
    {
     "name": "stdout",
     "output_type": "stream",
     "text": [
      "Sliding window being executed...\n",
      "143.74353128\n",
      "384.189103148\n",
      "Sanity flag= 0\n",
      "Are lanes detected? True True\n"
     ]
    },
    {
     "name": "stderr",
     "output_type": "stream",
     "text": [
      "\u001b[A\n",
      " 54%|█████▍    | 652/1200 [04:21<03:59,  2.29it/s]"
     ]
    },
    {
     "name": "stdout",
     "output_type": "stream",
     "text": [
      "Sliding window being executed...\n",
      "108.921333007\n",
      "296.657473991\n",
      "Sanity flag= 1\n",
      "Are lanes detected? True True\n"
     ]
    },
    {
     "name": "stderr",
     "output_type": "stream",
     "text": [
      "\u001b[A\n",
      " 54%|█████▍    | 653/1200 [04:21<04:03,  2.24it/s]"
     ]
    },
    {
     "name": "stdout",
     "output_type": "stream",
     "text": [
      "Sliding window being executed...\n",
      "301.146533945\n",
      "236.836065238\n",
      "Sanity flag= 0\n",
      "Are lanes detected? True True\n"
     ]
    },
    {
     "name": "stderr",
     "output_type": "stream",
     "text": [
      "\u001b[A\n",
      " 55%|█████▍    | 654/1200 [04:22<04:08,  2.20it/s]"
     ]
    },
    {
     "name": "stdout",
     "output_type": "stream",
     "text": [
      "Sliding window being executed...\n",
      "166.365064978\n",
      "383.710733249\n",
      "Sanity flag= 1\n",
      "Are lanes detected? True True\n"
     ]
    },
    {
     "name": "stderr",
     "output_type": "stream",
     "text": [
      "\u001b[A\n",
      " 55%|█████▍    | 655/1200 [04:22<04:03,  2.24it/s]"
     ]
    },
    {
     "name": "stdout",
     "output_type": "stream",
     "text": [
      "Sliding window being executed...\n",
      "940.317476941\n",
      "422.196389318\n",
      "Sanity flag= 0\n",
      "Are lanes detected? True True\n"
     ]
    },
    {
     "name": "stderr",
     "output_type": "stream",
     "text": [
      "\u001b[A\n",
      " 55%|█████▍    | 656/1200 [04:23<04:03,  2.23it/s]"
     ]
    },
    {
     "name": "stdout",
     "output_type": "stream",
     "text": [
      "Sliding window being executed...\n",
      "291.460103316\n",
      "394.953325973\n",
      "Sanity flag= 0\n",
      "Are lanes detected? True True\n"
     ]
    },
    {
     "name": "stderr",
     "output_type": "stream",
     "text": [
      "\u001b[A\n",
      " 55%|█████▍    | 657/1200 [04:23<03:57,  2.28it/s]"
     ]
    },
    {
     "name": "stdout",
     "output_type": "stream",
     "text": [
      "Sliding window being executed...\n",
      "85.495088505\n",
      "473.523887317\n",
      "Sanity flag= 1\n",
      "Are lanes detected? True True\n"
     ]
    },
    {
     "name": "stderr",
     "output_type": "stream",
     "text": [
      "\u001b[A\n",
      " 55%|█████▍    | 658/1200 [04:24<03:52,  2.33it/s]"
     ]
    },
    {
     "name": "stdout",
     "output_type": "stream",
     "text": [
      "Sliding window being executed...\n",
      "78.3689952703\n",
      "2386.40340086\n",
      "Sanity flag= 1\n",
      "Are lanes detected? True True\n"
     ]
    },
    {
     "name": "stderr",
     "output_type": "stream",
     "text": [
      "\u001b[A\n",
      " 55%|█████▍    | 659/1200 [04:24<03:48,  2.37it/s]"
     ]
    },
    {
     "name": "stdout",
     "output_type": "stream",
     "text": [
      "Sliding window being executed...\n",
      "95.7304415055\n",
      "852.314817734\n",
      "Sanity flag= 1\n",
      "Are lanes detected? True True\n"
     ]
    },
    {
     "name": "stderr",
     "output_type": "stream",
     "text": [
      "\u001b[A\n",
      " 55%|█████▌    | 660/1200 [04:24<03:45,  2.39it/s]"
     ]
    },
    {
     "name": "stdout",
     "output_type": "stream",
     "text": [
      "Sliding window being executed...\n",
      "91.9761991925\n",
      "1077.66751213\n",
      "Sanity flag= 1\n",
      "Are lanes detected? True True\n"
     ]
    },
    {
     "name": "stderr",
     "output_type": "stream",
     "text": [
      "\u001b[A\n",
      " 55%|█████▌    | 661/1200 [04:25<03:42,  2.42it/s]"
     ]
    },
    {
     "name": "stdout",
     "output_type": "stream",
     "text": [
      "Sliding window being executed...\n",
      "577.272218751\n",
      "1937.79809552\n",
      "Sanity flag= 1\n",
      "Are lanes detected? True True\n"
     ]
    },
    {
     "name": "stderr",
     "output_type": "stream",
     "text": [
      "\u001b[A\n",
      " 55%|█████▌    | 662/1200 [04:25<03:43,  2.41it/s]"
     ]
    },
    {
     "name": "stdout",
     "output_type": "stream",
     "text": [
      "Sliding window being executed...\n",
      "80.4108376756\n",
      "622.370229841\n",
      "Sanity flag= 1\n",
      "Are lanes detected? True True\n"
     ]
    },
    {
     "name": "stderr",
     "output_type": "stream",
     "text": [
      "\u001b[A\n",
      " 55%|█████▌    | 663/1200 [04:26<03:48,  2.35it/s]"
     ]
    },
    {
     "name": "stdout",
     "output_type": "stream",
     "text": [
      "Sliding window being executed...\n",
      "87.8445196264\n",
      "323.81872945\n",
      "Sanity flag= 1\n",
      "Are lanes detected? True True\n"
     ]
    },
    {
     "name": "stderr",
     "output_type": "stream",
     "text": [
      "\u001b[A\n",
      " 55%|█████▌    | 664/1200 [04:26<03:47,  2.36it/s]"
     ]
    },
    {
     "name": "stdout",
     "output_type": "stream",
     "text": [
      "Sliding window being executed...\n",
      "278.218946247\n",
      "329.285988666\n",
      "Sanity flag= 0\n",
      "Are lanes detected? True True\n"
     ]
    },
    {
     "name": "stderr",
     "output_type": "stream",
     "text": [
      "\u001b[A\n",
      " 55%|█████▌    | 665/1200 [04:27<03:46,  2.37it/s]"
     ]
    },
    {
     "name": "stdout",
     "output_type": "stream",
     "text": [
      "Sliding window being executed...\n",
      "290.49144424\n",
      "1465.50879337\n",
      "Sanity flag= 1\n",
      "Are lanes detected? True True\n"
     ]
    },
    {
     "name": "stderr",
     "output_type": "stream",
     "text": [
      "\u001b[A\n",
      " 56%|█████▌    | 666/1200 [04:27<03:45,  2.37it/s]"
     ]
    },
    {
     "name": "stdout",
     "output_type": "stream",
     "text": [
      "Sliding window being executed...\n",
      "446.024722046\n",
      "1276.04008764\n",
      "Sanity flag= 1\n",
      "Are lanes detected? True True\n"
     ]
    },
    {
     "name": "stderr",
     "output_type": "stream",
     "text": [
      "\u001b[A\n",
      " 56%|█████▌    | 667/1200 [04:27<03:42,  2.39it/s]"
     ]
    },
    {
     "name": "stdout",
     "output_type": "stream",
     "text": [
      "Sliding window being executed...\n",
      "379.440566527\n",
      "1318.96808396\n",
      "Sanity flag= 1\n",
      "Are lanes detected? True True\n"
     ]
    },
    {
     "name": "stderr",
     "output_type": "stream",
     "text": [
      "\u001b[A\n",
      " 56%|█████▌    | 668/1200 [04:28<03:40,  2.42it/s]"
     ]
    },
    {
     "name": "stdout",
     "output_type": "stream",
     "text": [
      "Sliding window being executed...\n",
      "354.031339463\n",
      "1537.19517617\n",
      "Sanity flag= 1\n",
      "Are lanes detected? True True\n"
     ]
    },
    {
     "name": "stderr",
     "output_type": "stream",
     "text": [
      "\u001b[A\n",
      " 56%|█████▌    | 669/1200 [04:28<03:39,  2.41it/s]"
     ]
    },
    {
     "name": "stdout",
     "output_type": "stream",
     "text": [
      "Sliding window being executed...\n",
      "260.714106676\n",
      "1674.97603446\n",
      "Sanity flag= 1\n",
      "Are lanes detected? True True\n"
     ]
    },
    {
     "name": "stderr",
     "output_type": "stream",
     "text": [
      "\u001b[A\n",
      " 56%|█████▌    | 670/1200 [04:29<03:37,  2.44it/s]"
     ]
    },
    {
     "name": "stdout",
     "output_type": "stream",
     "text": [
      "Sliding window being executed...\n",
      "3745.76020323\n",
      "2267.69749384\n",
      "Sanity flag= 1\n",
      "Are lanes detected? True True\n"
     ]
    },
    {
     "name": "stderr",
     "output_type": "stream",
     "text": [
      "\u001b[A\n",
      " 56%|█████▌    | 671/1200 [04:29<03:34,  2.47it/s]"
     ]
    },
    {
     "name": "stdout",
     "output_type": "stream",
     "text": [
      "Sliding window being executed...\n",
      "306.378829161\n",
      "991.596477567\n",
      "Sanity flag= 1\n",
      "Are lanes detected? True True\n"
     ]
    },
    {
     "name": "stderr",
     "output_type": "stream",
     "text": [
      "\u001b[A\n",
      " 56%|█████▌    | 672/1200 [04:29<03:32,  2.49it/s]"
     ]
    },
    {
     "name": "stdout",
     "output_type": "stream",
     "text": [
      "Sliding window being executed...\n",
      "243.470424198\n",
      "941.123212799\n",
      "Sanity flag= 1\n",
      "Are lanes detected? True True\n"
     ]
    },
    {
     "name": "stderr",
     "output_type": "stream",
     "text": [
      "\u001b[A\n",
      " 56%|█████▌    | 673/1200 [04:30<03:41,  2.38it/s]"
     ]
    },
    {
     "name": "stdout",
     "output_type": "stream",
     "text": [
      "Sliding window being executed...\n",
      "784.856306933\n",
      "486.514770055\n",
      "Sanity flag= 0\n",
      "Are lanes detected? True True\n"
     ]
    },
    {
     "name": "stderr",
     "output_type": "stream",
     "text": [
      "\u001b[A\n",
      " 56%|█████▌    | 674/1200 [04:30<03:35,  2.45it/s]"
     ]
    },
    {
     "name": "stdout",
     "output_type": "stream",
     "text": [
      "Sliding window being executed...\n",
      "479.78468611\n",
      "273.520228077\n",
      "Sanity flag= 1\n",
      "Are lanes detected? True True\n"
     ]
    },
    {
     "name": "stderr",
     "output_type": "stream",
     "text": [
      "\u001b[A\n",
      " 56%|█████▋    | 675/1200 [04:31<03:31,  2.48it/s]"
     ]
    },
    {
     "name": "stdout",
     "output_type": "stream",
     "text": [
      "Sliding window being executed...\n",
      "743.830869385\n",
      "542.304264261\n",
      "Sanity flag= 0\n",
      "Are lanes detected? True True\n"
     ]
    },
    {
     "name": "stderr",
     "output_type": "stream",
     "text": [
      "\u001b[A\n",
      " 56%|█████▋    | 676/1200 [04:31<03:29,  2.51it/s]"
     ]
    },
    {
     "name": "stdout",
     "output_type": "stream",
     "text": [
      "Sliding window being executed...\n",
      "1146.41958301\n",
      "479.874951706\n",
      "Sanity flag= 0\n",
      "Are lanes detected? True True\n"
     ]
    },
    {
     "name": "stderr",
     "output_type": "stream",
     "text": [
      "\u001b[A\n",
      " 56%|█████▋    | 677/1200 [04:31<03:28,  2.51it/s]"
     ]
    },
    {
     "name": "stdout",
     "output_type": "stream",
     "text": [
      "Sliding window being executed...\n",
      "2103158.93453\n",
      "628.187391101\n",
      "Sanity flag= 1\n",
      "Are lanes detected? True True\n"
     ]
    },
    {
     "name": "stderr",
     "output_type": "stream",
     "text": [
      "\u001b[A\n",
      " 56%|█████▋    | 678/1200 [04:32<03:26,  2.52it/s]"
     ]
    },
    {
     "name": "stdout",
     "output_type": "stream",
     "text": [
      "Sliding window being executed...\n",
      "424.071657203\n",
      "466.782191359\n",
      "Sanity flag= 1\n",
      "Are lanes detected? True True\n"
     ]
    },
    {
     "name": "stderr",
     "output_type": "stream",
     "text": [
      "\u001b[A\n",
      " 57%|█████▋    | 679/1200 [04:32<03:25,  2.54it/s]"
     ]
    },
    {
     "name": "stdout",
     "output_type": "stream",
     "text": [
      "Sliding window being executed...\n",
      "389.750342993\n",
      "262.952451489\n",
      "Sanity flag= 1\n",
      "Are lanes detected? True True\n"
     ]
    },
    {
     "name": "stderr",
     "output_type": "stream",
     "text": [
      "\u001b[A\n",
      " 57%|█████▋    | 680/1200 [04:33<03:22,  2.57it/s]"
     ]
    },
    {
     "name": "stdout",
     "output_type": "stream",
     "text": [
      "Sliding window being executed...\n",
      "2880.59012897\n",
      "361.266514118\n",
      "Sanity flag= 1\n",
      "Are lanes detected? True True\n"
     ]
    },
    {
     "name": "stderr",
     "output_type": "stream",
     "text": [
      "\u001b[A\n",
      " 57%|█████▋    | 681/1200 [04:33<03:21,  2.57it/s]"
     ]
    },
    {
     "name": "stdout",
     "output_type": "stream",
     "text": [
      "Sliding window being executed...\n",
      "308.360122801\n",
      "360.633466845\n",
      "Sanity flag= 0\n",
      "Are lanes detected? True True\n"
     ]
    },
    {
     "name": "stderr",
     "output_type": "stream",
     "text": [
      "\u001b[A\n",
      " 57%|█████▋    | 682/1200 [04:33<03:20,  2.59it/s]"
     ]
    },
    {
     "name": "stdout",
     "output_type": "stream",
     "text": [
      "Sliding window being executed...\n",
      "494.707575201\n",
      "409.222553857\n",
      "Sanity flag= 0\n",
      "Are lanes detected? True True\n"
     ]
    },
    {
     "name": "stderr",
     "output_type": "stream",
     "text": [
      "\u001b[A\n",
      " 57%|█████▋    | 683/1200 [04:34<03:24,  2.52it/s]"
     ]
    },
    {
     "name": "stdout",
     "output_type": "stream",
     "text": [
      "Sliding window being executed...\n",
      "130.276734946\n",
      "670.326745452\n",
      "Sanity flag= 1\n",
      "Are lanes detected? True True\n"
     ]
    },
    {
     "name": "stderr",
     "output_type": "stream",
     "text": [
      "\u001b[A\n",
      " 57%|█████▋    | 684/1200 [04:34<03:25,  2.51it/s]"
     ]
    },
    {
     "name": "stdout",
     "output_type": "stream",
     "text": [
      "Sliding window being executed...\n",
      "67.8899626503\n",
      "1037.5886517\n",
      "Sanity flag= 1\n",
      "Are lanes detected? True True\n"
     ]
    },
    {
     "name": "stderr",
     "output_type": "stream",
     "text": [
      "\u001b[A\n",
      " 57%|█████▋    | 685/1200 [04:35<03:21,  2.55it/s]"
     ]
    },
    {
     "name": "stdout",
     "output_type": "stream",
     "text": [
      "Sliding window being executed...\n",
      "30.1606905302\n",
      "1241.79218589\n",
      "Sanity flag= 1\n",
      "Are lanes detected? True True\n"
     ]
    },
    {
     "name": "stderr",
     "output_type": "stream",
     "text": [
      "\u001b[A\n",
      " 57%|█████▋    | 686/1200 [04:35<03:25,  2.51it/s]"
     ]
    },
    {
     "name": "stdout",
     "output_type": "stream",
     "text": [
      "Sliding window being executed...\n",
      "21.3354317719\n",
      "1999.45930347\n",
      "Sanity flag= 1\n",
      "Are lanes detected? True True\n"
     ]
    },
    {
     "name": "stderr",
     "output_type": "stream",
     "text": [
      "\u001b[A\n",
      " 57%|█████▋    | 687/1200 [04:35<03:26,  2.48it/s]"
     ]
    },
    {
     "name": "stdout",
     "output_type": "stream",
     "text": [
      "Sliding window being executed...\n",
      "271.258172259\n",
      "372.801207728\n",
      "Sanity flag= 1\n",
      "Are lanes detected? True True\n"
     ]
    },
    {
     "name": "stderr",
     "output_type": "stream",
     "text": [
      "\u001b[A\n",
      " 57%|█████▋    | 688/1200 [04:36<03:23,  2.52it/s]"
     ]
    },
    {
     "name": "stdout",
     "output_type": "stream",
     "text": [
      "Sliding window being executed...\n",
      "105.102657181\n",
      "375.091065397\n",
      "Sanity flag= 1\n",
      "Are lanes detected? True True\n"
     ]
    },
    {
     "name": "stderr",
     "output_type": "stream",
     "text": [
      "\u001b[A\n",
      " 57%|█████▋    | 689/1200 [04:36<03:20,  2.54it/s]"
     ]
    },
    {
     "name": "stdout",
     "output_type": "stream",
     "text": [
      "Sliding window being executed...\n",
      "87.417199022\n",
      "285.763883552\n",
      "Sanity flag= 1\n",
      "Are lanes detected? True True\n"
     ]
    },
    {
     "name": "stderr",
     "output_type": "stream",
     "text": [
      "\u001b[A\n",
      " 57%|█████▊    | 690/1200 [04:37<03:21,  2.54it/s]"
     ]
    },
    {
     "name": "stdout",
     "output_type": "stream",
     "text": [
      "Sliding window being executed...\n",
      "66.7697853766\n",
      "494.084910207\n",
      "Sanity flag= 1\n",
      "Are lanes detected? True True\n"
     ]
    },
    {
     "name": "stderr",
     "output_type": "stream",
     "text": [
      "\u001b[A\n",
      " 58%|█████▊    | 691/1200 [04:37<03:20,  2.54it/s]"
     ]
    },
    {
     "name": "stdout",
     "output_type": "stream",
     "text": [
      "Sliding window being executed...\n",
      "194.028795918\n",
      "187.655120663\n",
      "Sanity flag= 0\n",
      "Are lanes detected? True True\n"
     ]
    },
    {
     "name": "stderr",
     "output_type": "stream",
     "text": [
      "\u001b[A\n",
      " 58%|█████▊    | 692/1200 [04:37<03:20,  2.53it/s]"
     ]
    },
    {
     "name": "stdout",
     "output_type": "stream",
     "text": [
      "Sliding window being executed...\n",
      "164.661010744\n",
      "455.684193773\n",
      "Sanity flag= 1\n",
      "Are lanes detected? True True\n"
     ]
    },
    {
     "name": "stderr",
     "output_type": "stream",
     "text": [
      "\u001b[A\n",
      " 58%|█████▊    | 693/1200 [04:38<03:21,  2.52it/s]"
     ]
    },
    {
     "name": "stdout",
     "output_type": "stream",
     "text": [
      "Sliding window being executed...\n",
      "117.509862307\n",
      "387.62498931\n",
      "Sanity flag= 1\n",
      "Are lanes detected? True True\n"
     ]
    },
    {
     "name": "stderr",
     "output_type": "stream",
     "text": [
      "\u001b[A\n",
      " 58%|█████▊    | 694/1200 [04:38<03:23,  2.49it/s]"
     ]
    },
    {
     "name": "stdout",
     "output_type": "stream",
     "text": [
      "Sliding window being executed...\n",
      "66.1526501416\n",
      "361.910177964\n",
      "Sanity flag= 1\n",
      "Are lanes detected? True True\n"
     ]
    },
    {
     "name": "stderr",
     "output_type": "stream",
     "text": [
      "\u001b[A\n",
      " 58%|█████▊    | 695/1200 [04:39<03:21,  2.51it/s]"
     ]
    },
    {
     "name": "stdout",
     "output_type": "stream",
     "text": [
      "Sliding window being executed...\n",
      "46.1772702787\n",
      "2031.64499749\n",
      "Sanity flag= 1\n",
      "Are lanes detected? True True\n"
     ]
    },
    {
     "name": "stderr",
     "output_type": "stream",
     "text": [
      "\u001b[A\n",
      " 58%|█████▊    | 696/1200 [04:39<03:22,  2.48it/s]"
     ]
    },
    {
     "name": "stdout",
     "output_type": "stream",
     "text": [
      "Sliding window being executed...\n",
      "51.7196804145\n",
      "2895.1986294\n",
      "Sanity flag= 1\n",
      "Are lanes detected? True True\n"
     ]
    },
    {
     "name": "stderr",
     "output_type": "stream",
     "text": [
      "\u001b[A\n",
      " 58%|█████▊    | 697/1200 [04:39<03:21,  2.50it/s]"
     ]
    },
    {
     "name": "stdout",
     "output_type": "stream",
     "text": [
      "Sliding window being executed...\n",
      "58.137140389\n",
      "5350.01663782\n",
      "Sanity flag= 1\n",
      "Are lanes detected? True True\n"
     ]
    },
    {
     "name": "stderr",
     "output_type": "stream",
     "text": [
      "\u001b[A\n",
      " 58%|█████▊    | 698/1200 [04:40<03:19,  2.51it/s]"
     ]
    },
    {
     "name": "stdout",
     "output_type": "stream",
     "text": [
      "Sliding window being executed...\n",
      "42.211081735\n",
      "1709.1626476\n",
      "Sanity flag= 1\n",
      "Are lanes detected? True True\n"
     ]
    },
    {
     "name": "stderr",
     "output_type": "stream",
     "text": [
      "\u001b[A\n",
      " 58%|█████▊    | 699/1200 [04:40<03:20,  2.49it/s]"
     ]
    },
    {
     "name": "stdout",
     "output_type": "stream",
     "text": [
      "Sliding window being executed...\n",
      "1612.04776945\n",
      "1059.92681782\n",
      "Sanity flag= 1\n",
      "Are lanes detected? True True\n"
     ]
    },
    {
     "name": "stderr",
     "output_type": "stream",
     "text": [
      "\u001b[A\n",
      " 58%|█████▊    | 700/1200 [04:41<03:19,  2.51it/s]"
     ]
    },
    {
     "name": "stdout",
     "output_type": "stream",
     "text": [
      "Sliding window being executed...\n",
      "414.685872259\n",
      "1981.971254\n",
      "Sanity flag= 1\n",
      "Are lanes detected? True True\n"
     ]
    },
    {
     "name": "stderr",
     "output_type": "stream",
     "text": [
      "\u001b[A\n",
      " 58%|█████▊    | 701/1200 [04:41<03:17,  2.52it/s]"
     ]
    },
    {
     "name": "stdout",
     "output_type": "stream",
     "text": [
      "Sliding window being executed...\n",
      "226.778134744\n",
      "5393.37464617\n",
      "Sanity flag= 1\n",
      "Are lanes detected? True True\n"
     ]
    },
    {
     "name": "stderr",
     "output_type": "stream",
     "text": [
      "\u001b[A\n",
      " 58%|█████▊    | 702/1200 [04:41<03:17,  2.52it/s]"
     ]
    },
    {
     "name": "stdout",
     "output_type": "stream",
     "text": [
      "Sliding window being executed...\n",
      "91.2776272928\n",
      "1233.55755737\n",
      "Sanity flag= 1\n",
      "Are lanes detected? True True\n"
     ]
    },
    {
     "name": "stderr",
     "output_type": "stream",
     "text": [
      "\u001b[A\n",
      " 59%|█████▊    | 703/1200 [04:42<03:24,  2.43it/s]"
     ]
    },
    {
     "name": "stdout",
     "output_type": "stream",
     "text": [
      "Sliding window being executed...\n",
      "79.8330917703\n",
      "16788.9477815\n",
      "Sanity flag= 1\n",
      "Are lanes detected? True True\n"
     ]
    },
    {
     "name": "stderr",
     "output_type": "stream",
     "text": [
      "\u001b[A\n",
      " 59%|█████▊    | 704/1200 [04:42<03:23,  2.44it/s]"
     ]
    },
    {
     "name": "stdout",
     "output_type": "stream",
     "text": [
      "Sliding window being executed...\n",
      "2789.95459074\n",
      "702.374257416\n",
      "Sanity flag= 1\n",
      "Are lanes detected? True True\n"
     ]
    },
    {
     "name": "stderr",
     "output_type": "stream",
     "text": [
      "\u001b[A\n",
      " 59%|█████▉    | 705/1200 [04:43<03:20,  2.47it/s]"
     ]
    },
    {
     "name": "stdout",
     "output_type": "stream",
     "text": [
      "Sliding window being executed...\n",
      "211.816044991\n",
      "422.792656067\n",
      "Sanity flag= 0\n",
      "Are lanes detected? True True\n"
     ]
    },
    {
     "name": "stderr",
     "output_type": "stream",
     "text": [
      "\u001b[A\n",
      " 59%|█████▉    | 706/1200 [04:43<03:17,  2.51it/s]"
     ]
    },
    {
     "name": "stdout",
     "output_type": "stream",
     "text": [
      "Sliding window being executed...\n",
      "318.763641063\n",
      "223.846173336\n",
      "Sanity flag= 0\n",
      "Are lanes detected? True True\n"
     ]
    },
    {
     "name": "stderr",
     "output_type": "stream",
     "text": [
      "\u001b[A\n",
      " 59%|█████▉    | 707/1200 [04:43<03:15,  2.52it/s]"
     ]
    },
    {
     "name": "stdout",
     "output_type": "stream",
     "text": [
      "Sliding window being executed...\n",
      "329.950974278\n",
      "32.9127483099\n",
      "Sanity flag= 1\n",
      "Are lanes detected? True True\n"
     ]
    },
    {
     "name": "stderr",
     "output_type": "stream",
     "text": [
      "\u001b[A\n",
      " 59%|█████▉    | 708/1200 [04:44<03:13,  2.54it/s]"
     ]
    },
    {
     "name": "stdout",
     "output_type": "stream",
     "text": [
      "Sliding window being executed...\n",
      "223.15575894\n",
      "31.4849265461\n",
      "Sanity flag= 1\n",
      "Are lanes detected? True True\n"
     ]
    },
    {
     "name": "stderr",
     "output_type": "stream",
     "text": [
      "\u001b[A\n",
      " 59%|█████▉    | 709/1200 [04:44<03:12,  2.56it/s]"
     ]
    },
    {
     "name": "stdout",
     "output_type": "stream",
     "text": [
      "Sliding window being executed...\n",
      "311.42207284\n",
      "120.609131752\n",
      "Sanity flag= 1\n",
      "Are lanes detected? True True\n"
     ]
    },
    {
     "name": "stderr",
     "output_type": "stream",
     "text": [
      "\u001b[A\n",
      " 59%|█████▉    | 710/1200 [04:44<03:13,  2.53it/s]"
     ]
    },
    {
     "name": "stdout",
     "output_type": "stream",
     "text": [
      "Sliding window being executed...\n",
      "159.134356184\n",
      "140.182301225\n",
      "Sanity flag= 1\n",
      "Are lanes detected? True True\n"
     ]
    },
    {
     "name": "stderr",
     "output_type": "stream",
     "text": [
      "\u001b[A\n",
      " 59%|█████▉    | 711/1200 [04:45<03:10,  2.56it/s]"
     ]
    },
    {
     "name": "stdout",
     "output_type": "stream",
     "text": [
      "Sliding window being executed...\n",
      "248.016218522\n",
      "47.6274122681\n",
      "Sanity flag= 1\n",
      "Are lanes detected? True True\n"
     ]
    },
    {
     "name": "stderr",
     "output_type": "stream",
     "text": [
      "\u001b[A\n",
      " 59%|█████▉    | 712/1200 [04:45<03:09,  2.58it/s]"
     ]
    },
    {
     "name": "stdout",
     "output_type": "stream",
     "text": [
      "Sliding window being executed...\n",
      "93.991579368\n",
      "1028.85466697\n",
      "Sanity flag= 1\n",
      "Are lanes detected? True True\n"
     ]
    },
    {
     "name": "stderr",
     "output_type": "stream",
     "text": [
      "\u001b[A\n",
      " 59%|█████▉    | 713/1200 [04:46<03:11,  2.54it/s]"
     ]
    },
    {
     "name": "stdout",
     "output_type": "stream",
     "text": [
      "Sliding window being executed...\n",
      "87.2054039752\n",
      "948.912779987\n",
      "Sanity flag= 1\n",
      "Are lanes detected? True True\n"
     ]
    },
    {
     "name": "stderr",
     "output_type": "stream",
     "text": [
      "\u001b[A\n",
      " 60%|█████▉    | 714/1200 [04:46<03:21,  2.41it/s]"
     ]
    },
    {
     "name": "stdout",
     "output_type": "stream",
     "text": [
      "Sliding window being executed...\n",
      "62.2579128201\n",
      "651.71497576\n",
      "Sanity flag= 1\n",
      "Are lanes detected? True True\n"
     ]
    },
    {
     "name": "stderr",
     "output_type": "stream",
     "text": [
      "\u001b[A\n",
      " 60%|█████▉    | 715/1200 [04:47<03:24,  2.37it/s]"
     ]
    },
    {
     "name": "stdout",
     "output_type": "stream",
     "text": [
      "Sliding window being executed...\n",
      "59.5435615252\n",
      "804.897083681\n",
      "Sanity flag= 1\n",
      "Are lanes detected? True True\n"
     ]
    },
    {
     "name": "stderr",
     "output_type": "stream",
     "text": [
      "\u001b[A\n",
      " 60%|█████▉    | 716/1200 [04:47<03:31,  2.29it/s]"
     ]
    },
    {
     "name": "stdout",
     "output_type": "stream",
     "text": [
      "Sliding window being executed...\n",
      "57.5233309899\n",
      "1032.59197958\n",
      "Sanity flag= 1\n",
      "Are lanes detected? True True\n"
     ]
    },
    {
     "name": "stderr",
     "output_type": "stream",
     "text": [
      "\u001b[A\n",
      " 60%|█████▉    | 717/1200 [04:47<03:12,  2.51it/s]"
     ]
    },
    {
     "name": "stdout",
     "output_type": "stream",
     "text": [
      "Sliding window being executed...\n",
      "992.966315895\n",
      "851.229556655\n",
      "Sanity flag= 0\n",
      "Are lanes detected? True True\n"
     ]
    },
    {
     "name": "stderr",
     "output_type": "stream",
     "text": [
      "\u001b[A\n",
      " 60%|█████▉    | 718/1200 [04:48<03:44,  2.15it/s]"
     ]
    },
    {
     "name": "stdout",
     "output_type": "stream",
     "text": [
      "Sliding window being executed...\n",
      "17234.8727111\n",
      "96.2796693601\n",
      "Sanity flag= 1\n",
      "Are lanes detected? True True\n"
     ]
    },
    {
     "name": "stderr",
     "output_type": "stream",
     "text": [
      "\u001b[A\n",
      " 60%|█████▉    | 719/1200 [04:49<04:16,  1.88it/s]"
     ]
    },
    {
     "name": "stdout",
     "output_type": "stream",
     "text": [
      "Sliding window being executed...\n",
      "570.723770806\n",
      "117.608693714\n",
      "Sanity flag= 1\n",
      "Are lanes detected? True True\n"
     ]
    },
    {
     "name": "stderr",
     "output_type": "stream",
     "text": [
      "\u001b[A\n",
      " 60%|██████    | 720/1200 [04:49<04:42,  1.70it/s]"
     ]
    },
    {
     "name": "stdout",
     "output_type": "stream",
     "text": [
      "Sliding window being executed...\n",
      "353.733743362\n",
      "133.885462642\n",
      "Sanity flag= 1\n",
      "Are lanes detected? True True\n"
     ]
    },
    {
     "name": "stderr",
     "output_type": "stream",
     "text": [
      "\u001b[A\n",
      " 60%|██████    | 721/1200 [04:50<05:00,  1.59it/s]"
     ]
    },
    {
     "name": "stdout",
     "output_type": "stream",
     "text": [
      "Sliding window being executed...\n",
      "388.609568503\n",
      "209.855304843\n",
      "Sanity flag= 1\n",
      "Are lanes detected? True True\n"
     ]
    },
    {
     "name": "stderr",
     "output_type": "stream",
     "text": [
      "\u001b[A\n",
      " 60%|██████    | 722/1200 [04:51<05:04,  1.57it/s]"
     ]
    },
    {
     "name": "stdout",
     "output_type": "stream",
     "text": [
      "Sliding window being executed...\n",
      "387.055443211\n",
      "217.012907016\n",
      "Sanity flag= 1\n",
      "Are lanes detected? True True\n"
     ]
    },
    {
     "name": "stderr",
     "output_type": "stream",
     "text": [
      "\u001b[A\n",
      " 60%|██████    | 723/1200 [04:51<04:56,  1.61it/s]"
     ]
    },
    {
     "name": "stdout",
     "output_type": "stream",
     "text": [
      "Sliding window being executed...\n",
      "400.295648147\n",
      "226.861629312\n",
      "Sanity flag= 1\n",
      "Are lanes detected? True True\n"
     ]
    },
    {
     "name": "stderr",
     "output_type": "stream",
     "text": [
      "\u001b[A\n",
      " 60%|██████    | 724/1200 [04:52<04:55,  1.61it/s]"
     ]
    },
    {
     "name": "stdout",
     "output_type": "stream",
     "text": [
      "Sliding window being executed...\n",
      "347.8418185\n",
      "214.00409046\n",
      "Sanity flag= 1\n",
      "Are lanes detected? True True\n"
     ]
    },
    {
     "name": "stderr",
     "output_type": "stream",
     "text": [
      "\u001b[A\n",
      " 60%|██████    | 725/1200 [04:52<04:43,  1.68it/s]"
     ]
    },
    {
     "name": "stdout",
     "output_type": "stream",
     "text": [
      "Sliding window being executed...\n",
      "319.124757028\n",
      "248.966883882\n",
      "Sanity flag= 1\n",
      "Are lanes detected? True True\n"
     ]
    },
    {
     "name": "stderr",
     "output_type": "stream",
     "text": [
      "\u001b[A\n",
      " 60%|██████    | 726/1200 [04:53<04:18,  1.84it/s]"
     ]
    },
    {
     "name": "stdout",
     "output_type": "stream",
     "text": [
      "Sliding window being executed...\n",
      "345.383378815\n",
      "294.951700178\n",
      "Sanity flag= 1\n",
      "Are lanes detected? True True\n"
     ]
    },
    {
     "name": "stderr",
     "output_type": "stream",
     "text": [
      "\u001b[A\n",
      " 61%|██████    | 727/1200 [04:53<04:00,  1.97it/s]"
     ]
    },
    {
     "name": "stdout",
     "output_type": "stream",
     "text": [
      "Sliding window being executed...\n",
      "495.668912995\n",
      "333.477954481\n",
      "Sanity flag= 0\n",
      "Are lanes detected? True True\n"
     ]
    },
    {
     "name": "stderr",
     "output_type": "stream",
     "text": [
      "\u001b[A\n",
      " 61%|██████    | 728/1200 [04:54<03:47,  2.07it/s]"
     ]
    },
    {
     "name": "stdout",
     "output_type": "stream",
     "text": [
      "Sliding window being executed...\n",
      "428.662989957\n",
      "400.535384585\n",
      "Sanity flag= 0\n",
      "Are lanes detected? True True\n"
     ]
    },
    {
     "name": "stderr",
     "output_type": "stream",
     "text": [
      "\u001b[A\n",
      " 61%|██████    | 729/1200 [04:54<03:40,  2.14it/s]"
     ]
    },
    {
     "name": "stdout",
     "output_type": "stream",
     "text": [
      "Sliding window being executed...\n",
      "457.789685101\n",
      "625.210311433\n",
      "Sanity flag= 0\n",
      "Are lanes detected? True True\n"
     ]
    },
    {
     "name": "stderr",
     "output_type": "stream",
     "text": [
      "\u001b[A\n",
      " 61%|██████    | 730/1200 [04:55<03:35,  2.18it/s]"
     ]
    },
    {
     "name": "stdout",
     "output_type": "stream",
     "text": [
      "Sliding window being executed...\n",
      "437.778221662\n",
      "2560.9481495\n",
      "Sanity flag= 1\n",
      "Are lanes detected? True True\n"
     ]
    },
    {
     "name": "stderr",
     "output_type": "stream",
     "text": [
      "\u001b[A\n",
      " 61%|██████    | 731/1200 [04:55<03:31,  2.21it/s]"
     ]
    },
    {
     "name": "stdout",
     "output_type": "stream",
     "text": [
      "Sliding window being executed...\n",
      "388.133023535\n",
      "528.054880787\n",
      "Sanity flag= 0\n",
      "Are lanes detected? True True\n"
     ]
    },
    {
     "name": "stderr",
     "output_type": "stream",
     "text": [
      "\u001b[A\n",
      " 61%|██████    | 732/1200 [04:55<03:27,  2.26it/s]"
     ]
    },
    {
     "name": "stdout",
     "output_type": "stream",
     "text": [
      "Sliding window being executed...\n",
      "359.335281699\n",
      "232.781396081\n",
      "Sanity flag= 0\n",
      "Are lanes detected? True True\n"
     ]
    },
    {
     "name": "stderr",
     "output_type": "stream",
     "text": [
      "\u001b[A\n",
      " 61%|██████    | 733/1200 [04:56<03:29,  2.23it/s]"
     ]
    },
    {
     "name": "stdout",
     "output_type": "stream",
     "text": [
      "Sliding window being executed...\n",
      "335.58852396\n",
      "219.979869411\n",
      "Sanity flag= 0\n",
      "Are lanes detected? True True\n"
     ]
    },
    {
     "name": "stderr",
     "output_type": "stream",
     "text": [
      "\u001b[A\n",
      " 61%|██████    | 734/1200 [04:56<03:20,  2.32it/s]"
     ]
    },
    {
     "name": "stdout",
     "output_type": "stream",
     "text": [
      "Sliding window being executed...\n",
      "320.432722011\n",
      "210.509352608\n",
      "Sanity flag= 0\n",
      "Are lanes detected? True True\n"
     ]
    },
    {
     "name": "stderr",
     "output_type": "stream",
     "text": [
      "\u001b[A\n",
      " 61%|██████▏   | 735/1200 [04:57<03:16,  2.36it/s]"
     ]
    },
    {
     "name": "stdout",
     "output_type": "stream",
     "text": [
      "Sliding window being executed...\n",
      "307.18490308\n",
      "237.803881062\n",
      "Sanity flag= 0\n",
      "Are lanes detected? True True\n"
     ]
    },
    {
     "name": "stderr",
     "output_type": "stream",
     "text": [
      "\u001b[A\n",
      " 61%|██████▏   | 736/1200 [04:57<03:12,  2.41it/s]"
     ]
    },
    {
     "name": "stdout",
     "output_type": "stream",
     "text": [
      "Sliding window being executed...\n",
      "301.319435708\n",
      "247.30712348\n",
      "Sanity flag= 0\n",
      "Are lanes detected? True True\n"
     ]
    },
    {
     "name": "stderr",
     "output_type": "stream",
     "text": [
      "\u001b[A\n",
      " 61%|██████▏   | 737/1200 [04:58<03:09,  2.45it/s]"
     ]
    },
    {
     "name": "stdout",
     "output_type": "stream",
     "text": [
      "Sliding window being executed...\n",
      "267.62096201\n",
      "258.873429368\n",
      "Sanity flag= 0\n",
      "Are lanes detected? True True\n"
     ]
    },
    {
     "name": "stderr",
     "output_type": "stream",
     "text": [
      "\u001b[A\n",
      " 62%|██████▏   | 738/1200 [04:58<03:05,  2.49it/s]"
     ]
    },
    {
     "name": "stdout",
     "output_type": "stream",
     "text": [
      "Sliding window being executed...\n",
      "277.086979173\n",
      "235.236715561\n",
      "Sanity flag= 0\n",
      "Are lanes detected? True True\n"
     ]
    },
    {
     "name": "stderr",
     "output_type": "stream",
     "text": [
      "\u001b[A\n",
      " 62%|██████▏   | 739/1200 [04:58<03:02,  2.52it/s]"
     ]
    },
    {
     "name": "stdout",
     "output_type": "stream",
     "text": [
      "Sliding window being executed...\n",
      "271.652271952\n",
      "240.826804531\n",
      "Sanity flag= 0\n",
      "Are lanes detected? True True\n"
     ]
    },
    {
     "name": "stderr",
     "output_type": "stream",
     "text": [
      "\u001b[A\n",
      " 62%|██████▏   | 740/1200 [04:59<03:02,  2.51it/s]"
     ]
    },
    {
     "name": "stdout",
     "output_type": "stream",
     "text": [
      "Sliding window being executed...\n",
      "2048.23840769\n",
      "264.604019704\n",
      "Sanity flag= 1\n",
      "Are lanes detected? True True\n"
     ]
    },
    {
     "name": "stderr",
     "output_type": "stream",
     "text": [
      "\u001b[A\n",
      " 62%|██████▏   | 741/1200 [04:59<03:00,  2.54it/s]"
     ]
    },
    {
     "name": "stdout",
     "output_type": "stream",
     "text": [
      "Sliding window being executed...\n",
      "638.572906661\n",
      "387.465595023\n",
      "Sanity flag= 0\n",
      "Are lanes detected? True True\n"
     ]
    },
    {
     "name": "stderr",
     "output_type": "stream",
     "text": [
      "\u001b[A\n",
      " 62%|██████▏   | 742/1200 [05:00<03:09,  2.42it/s]"
     ]
    },
    {
     "name": "stdout",
     "output_type": "stream",
     "text": [
      "Sliding window being executed...\n",
      "498.854763416\n",
      "13629.3457227\n",
      "Sanity flag= 1\n",
      "Are lanes detected? True True\n"
     ]
    },
    {
     "name": "stderr",
     "output_type": "stream",
     "text": [
      "\u001b[A\n",
      " 62%|██████▏   | 743/1200 [05:00<03:00,  2.53it/s]"
     ]
    },
    {
     "name": "stdout",
     "output_type": "stream",
     "text": [
      "Sliding window being executed...\n",
      "432.742408007\n",
      "3969.4656751\n",
      "Sanity flag= 1\n",
      "Are lanes detected? True True\n"
     ]
    },
    {
     "name": "stderr",
     "output_type": "stream",
     "text": [
      "\u001b[A\n",
      " 62%|██████▏   | 744/1200 [05:00<03:01,  2.52it/s]"
     ]
    },
    {
     "name": "stdout",
     "output_type": "stream",
     "text": [
      "Sliding window being executed...\n",
      "296.849625482\n",
      "4477.74759798\n",
      "Sanity flag= 1\n",
      "Are lanes detected? True True\n"
     ]
    },
    {
     "name": "stderr",
     "output_type": "stream",
     "text": [
      "\u001b[A\n",
      " 62%|██████▏   | 745/1200 [05:01<03:07,  2.42it/s]"
     ]
    },
    {
     "name": "stdout",
     "output_type": "stream",
     "text": [
      "Sliding window being executed...\n",
      "336.015572006\n",
      "2156.65747236\n",
      "Sanity flag= 1\n",
      "Are lanes detected? True True\n"
     ]
    },
    {
     "name": "stderr",
     "output_type": "stream",
     "text": [
      "\u001b[A\n",
      " 62%|██████▏   | 746/1200 [05:01<03:12,  2.36it/s]"
     ]
    },
    {
     "name": "stdout",
     "output_type": "stream",
     "text": [
      "Sliding window being executed...\n",
      "704.003981153\n",
      "5276.24139844\n",
      "Sanity flag= 1\n",
      "Are lanes detected? True True\n"
     ]
    },
    {
     "name": "stderr",
     "output_type": "stream",
     "text": [
      "\u001b[A\n",
      " 62%|██████▏   | 747/1200 [05:02<03:00,  2.51it/s]"
     ]
    },
    {
     "name": "stdout",
     "output_type": "stream",
     "text": [
      "Sliding window being executed...\n",
      "2075.68775058\n",
      "1152.14012258\n",
      "Sanity flag= 1\n",
      "Are lanes detected? True True\n"
     ]
    },
    {
     "name": "stderr",
     "output_type": "stream",
     "text": [
      "\u001b[A\n",
      " 62%|██████▏   | 748/1200 [05:02<02:57,  2.55it/s]"
     ]
    },
    {
     "name": "stdout",
     "output_type": "stream",
     "text": [
      "Sliding window being executed...\n",
      "406.237137453\n",
      "225.97443665\n",
      "Sanity flag= 0\n",
      "Are lanes detected? True True\n"
     ]
    },
    {
     "name": "stderr",
     "output_type": "stream",
     "text": [
      "\u001b[A\n",
      " 62%|██████▏   | 749/1200 [05:02<02:58,  2.52it/s]"
     ]
    },
    {
     "name": "stdout",
     "output_type": "stream",
     "text": [
      "Sliding window being executed...\n",
      "906.621495508\n",
      "203.795786769\n",
      "Sanity flag= 0\n",
      "Are lanes detected? True True\n"
     ]
    },
    {
     "name": "stderr",
     "output_type": "stream",
     "text": [
      "\u001b[A\n",
      " 62%|██████▎   | 750/1200 [05:03<03:07,  2.40it/s]"
     ]
    },
    {
     "name": "stdout",
     "output_type": "stream",
     "text": [
      "Sliding window being executed...\n",
      "285.565198568\n",
      "218.653153984\n",
      "Sanity flag= 0\n",
      "Are lanes detected? True True\n"
     ]
    },
    {
     "name": "stderr",
     "output_type": "stream",
     "text": [
      "\u001b[A\n",
      " 63%|██████▎   | 751/1200 [05:03<03:13,  2.32it/s]"
     ]
    },
    {
     "name": "stdout",
     "output_type": "stream",
     "text": [
      "Sliding window being executed...\n",
      "491.010735489\n",
      "287.456131321\n",
      "Sanity flag= 0\n",
      "Are lanes detected? True True\n"
     ]
    },
    {
     "name": "stderr",
     "output_type": "stream",
     "text": [
      "\u001b[A\n",
      " 63%|██████▎   | 752/1200 [05:04<03:16,  2.28it/s]"
     ]
    },
    {
     "name": "stdout",
     "output_type": "stream",
     "text": [
      "Sliding window being executed...\n",
      "556.37768306\n",
      "278.535306537\n",
      "Sanity flag= 0\n",
      "Are lanes detected? True True\n"
     ]
    },
    {
     "name": "stderr",
     "output_type": "stream",
     "text": [
      "\u001b[A\n",
      " 63%|██████▎   | 753/1200 [05:04<03:15,  2.28it/s]"
     ]
    },
    {
     "name": "stdout",
     "output_type": "stream",
     "text": [
      "Sliding window being executed...\n",
      "493.847552196\n",
      "228.908695964\n",
      "Sanity flag= 0\n",
      "Are lanes detected? True True\n"
     ]
    },
    {
     "name": "stderr",
     "output_type": "stream",
     "text": [
      "\u001b[A\n",
      " 63%|██████▎   | 754/1200 [05:05<03:14,  2.29it/s]"
     ]
    },
    {
     "name": "stdout",
     "output_type": "stream",
     "text": [
      "Sliding window being executed...\n",
      "381.983523685\n",
      "183.947051905\n",
      "Sanity flag= 0\n",
      "Are lanes detected? True True\n"
     ]
    },
    {
     "name": "stderr",
     "output_type": "stream",
     "text": [
      "\u001b[A\n",
      " 63%|██████▎   | 755/1200 [05:05<03:09,  2.35it/s]"
     ]
    },
    {
     "name": "stdout",
     "output_type": "stream",
     "text": [
      "Sliding window being executed...\n",
      "309.994441964\n",
      "273.834186561\n",
      "Sanity flag= 0\n",
      "Are lanes detected? True True\n"
     ]
    },
    {
     "name": "stderr",
     "output_type": "stream",
     "text": [
      "\u001b[A\n",
      " 63%|██████▎   | 756/1200 [05:05<03:04,  2.41it/s]"
     ]
    },
    {
     "name": "stdout",
     "output_type": "stream",
     "text": [
      "Sliding window being executed...\n",
      "323.295387329\n",
      "316.677956189\n",
      "Sanity flag= 0\n",
      "Are lanes detected? True True\n"
     ]
    },
    {
     "name": "stderr",
     "output_type": "stream",
     "text": [
      "\u001b[A\n",
      " 63%|██████▎   | 757/1200 [05:06<03:02,  2.43it/s]"
     ]
    },
    {
     "name": "stdout",
     "output_type": "stream",
     "text": [
      "Sliding window being executed...\n",
      "686.807911089\n",
      "565.710289249\n",
      "Sanity flag= 1\n",
      "Are lanes detected? True True\n"
     ]
    },
    {
     "name": "stderr",
     "output_type": "stream",
     "text": [
      "\u001b[A\n",
      " 63%|██████▎   | 758/1200 [05:06<03:10,  2.32it/s]"
     ]
    },
    {
     "name": "stdout",
     "output_type": "stream",
     "text": [
      "Sliding window being executed...\n",
      "25605.4154629\n",
      "232.072528942\n",
      "Sanity flag= 1\n",
      "Are lanes detected? True True\n"
     ]
    },
    {
     "name": "stderr",
     "output_type": "stream",
     "text": [
      "\u001b[A\n",
      " 63%|██████▎   | 759/1200 [05:07<03:09,  2.33it/s]"
     ]
    },
    {
     "name": "stdout",
     "output_type": "stream",
     "text": [
      "Sliding window being executed...\n",
      "701.982150313\n",
      "218.26304609\n",
      "Sanity flag= 0\n",
      "Are lanes detected? True True\n"
     ]
    },
    {
     "name": "stderr",
     "output_type": "stream",
     "text": [
      "\u001b[A\n",
      " 63%|██████▎   | 760/1200 [05:07<03:02,  2.41it/s]"
     ]
    },
    {
     "name": "stdout",
     "output_type": "stream",
     "text": [
      "Sliding window being executed...\n",
      "2118.68889326\n",
      "196.616996963\n",
      "Sanity flag= 1\n",
      "Are lanes detected? True True\n"
     ]
    },
    {
     "name": "stderr",
     "output_type": "stream",
     "text": [
      "\u001b[A\n",
      " 63%|██████▎   | 761/1200 [05:07<02:58,  2.47it/s]"
     ]
    },
    {
     "name": "stdout",
     "output_type": "stream",
     "text": [
      "Sliding window being executed...\n",
      "3412.95813528\n",
      "159.774603809\n",
      "Sanity flag= 1\n",
      "Are lanes detected? True True\n"
     ]
    },
    {
     "name": "stderr",
     "output_type": "stream",
     "text": [
      "\u001b[A\n",
      " 64%|██████▎   | 762/1200 [05:08<02:55,  2.50it/s]"
     ]
    },
    {
     "name": "stdout",
     "output_type": "stream",
     "text": [
      "Sliding window being executed...\n",
      "5004.39366762\n",
      "121.439451286\n",
      "Sanity flag= 1\n",
      "Are lanes detected? True True\n"
     ]
    },
    {
     "name": "stderr",
     "output_type": "stream",
     "text": [
      "\u001b[A\n",
      " 64%|██████▎   | 763/1200 [05:08<03:04,  2.36it/s]"
     ]
    },
    {
     "name": "stdout",
     "output_type": "stream",
     "text": [
      "Sliding window being executed...\n",
      "5032.0877886\n",
      "89.7461444067\n",
      "Sanity flag= 1\n",
      "Are lanes detected? True True\n"
     ]
    },
    {
     "name": "stderr",
     "output_type": "stream",
     "text": [
      "\u001b[A\n",
      " 64%|██████▎   | 764/1200 [05:09<02:58,  2.44it/s]"
     ]
    },
    {
     "name": "stdout",
     "output_type": "stream",
     "text": [
      "Sliding window being executed...\n",
      "1993.89856934\n",
      "396.621778946\n",
      "Sanity flag= 1\n",
      "Are lanes detected? True True\n"
     ]
    },
    {
     "name": "stderr",
     "output_type": "stream",
     "text": [
      "\u001b[A\n",
      " 64%|██████▍   | 765/1200 [05:09<02:56,  2.47it/s]"
     ]
    },
    {
     "name": "stdout",
     "output_type": "stream",
     "text": [
      "Sliding window being executed...\n",
      "5764.91478244\n",
      "376.059608089\n",
      "Sanity flag= 1\n",
      "Are lanes detected? True True\n"
     ]
    },
    {
     "name": "stderr",
     "output_type": "stream",
     "text": [
      "\u001b[A\n",
      " 64%|██████▍   | 766/1200 [05:09<02:53,  2.50it/s]"
     ]
    },
    {
     "name": "stdout",
     "output_type": "stream",
     "text": [
      "Sliding window being executed...\n",
      "1367.33409668\n",
      "338.926156379\n",
      "Sanity flag= 1\n",
      "Are lanes detected? True True\n"
     ]
    },
    {
     "name": "stderr",
     "output_type": "stream",
     "text": [
      "\u001b[A\n",
      " 64%|██████▍   | 767/1200 [05:10<02:51,  2.52it/s]"
     ]
    },
    {
     "name": "stdout",
     "output_type": "stream",
     "text": [
      "Sliding window being executed...\n",
      "1238.97166428\n",
      "375.720981532\n",
      "Sanity flag= 1\n",
      "Are lanes detected? True True\n"
     ]
    },
    {
     "name": "stderr",
     "output_type": "stream",
     "text": [
      "\u001b[A\n",
      " 64%|██████▍   | 768/1200 [05:10<02:51,  2.52it/s]"
     ]
    },
    {
     "name": "stdout",
     "output_type": "stream",
     "text": [
      "Sliding window being executed...\n",
      "1210.42055835\n",
      "308.023542697\n",
      "Sanity flag= 1\n",
      "Are lanes detected? True True\n"
     ]
    },
    {
     "name": "stderr",
     "output_type": "stream",
     "text": [
      "\u001b[A\n",
      " 64%|██████▍   | 769/1200 [05:11<02:50,  2.52it/s]"
     ]
    },
    {
     "name": "stdout",
     "output_type": "stream",
     "text": [
      "Sliding window being executed...\n",
      "4750.67248177\n",
      "371.590788393\n",
      "Sanity flag= 1\n",
      "Are lanes detected? True True\n"
     ]
    },
    {
     "name": "stderr",
     "output_type": "stream",
     "text": [
      "\u001b[A\n",
      " 64%|██████▍   | 770/1200 [05:11<02:50,  2.53it/s]"
     ]
    },
    {
     "name": "stdout",
     "output_type": "stream",
     "text": [
      "Sliding window being executed...\n",
      "2815.29534946\n",
      "432.816965951\n",
      "Sanity flag= 1\n",
      "Are lanes detected? True True\n"
     ]
    },
    {
     "name": "stderr",
     "output_type": "stream",
     "text": [
      "\u001b[A\n",
      " 64%|██████▍   | 771/1200 [05:11<02:52,  2.49it/s]"
     ]
    },
    {
     "name": "stdout",
     "output_type": "stream",
     "text": [
      "Sliding window being executed...\n",
      "3144.76683621\n",
      "960.157124651\n",
      "Sanity flag= 1\n",
      "Are lanes detected? True True\n"
     ]
    },
    {
     "name": "stderr",
     "output_type": "stream",
     "text": [
      "\u001b[A\n",
      " 64%|██████▍   | 772/1200 [05:12<02:54,  2.46it/s]"
     ]
    },
    {
     "name": "stdout",
     "output_type": "stream",
     "text": [
      "Sliding window being executed...\n",
      "1436.35446246\n",
      "1450.27852467\n",
      "Sanity flag= 1\n",
      "Are lanes detected? True True\n"
     ]
    },
    {
     "name": "stderr",
     "output_type": "stream",
     "text": [
      "\u001b[A\n",
      " 64%|██████▍   | 773/1200 [05:12<02:54,  2.45it/s]"
     ]
    },
    {
     "name": "stdout",
     "output_type": "stream",
     "text": [
      "Sliding window being executed...\n",
      "200.673093442\n",
      "4757.68376489\n",
      "Sanity flag= 1\n",
      "Are lanes detected? True True\n"
     ]
    },
    {
     "name": "stderr",
     "output_type": "stream",
     "text": [
      "\u001b[A\n",
      " 64%|██████▍   | 774/1200 [05:13<02:51,  2.48it/s]"
     ]
    },
    {
     "name": "stdout",
     "output_type": "stream",
     "text": [
      "Sliding window being executed...\n",
      "216.112381988\n",
      "2129.1352269\n",
      "Sanity flag= 1\n",
      "Are lanes detected? True True\n"
     ]
    },
    {
     "name": "stderr",
     "output_type": "stream",
     "text": [
      "\u001b[A\n",
      " 65%|██████▍   | 775/1200 [05:13<02:49,  2.51it/s]"
     ]
    },
    {
     "name": "stdout",
     "output_type": "stream",
     "text": [
      "Sliding window being executed...\n",
      "913.092054789\n",
      "930.409176468\n",
      "Sanity flag= 0\n",
      "Are lanes detected? True True\n"
     ]
    },
    {
     "name": "stderr",
     "output_type": "stream",
     "text": [
      "\u001b[A\n",
      " 65%|██████▍   | 776/1200 [05:13<02:49,  2.50it/s]"
     ]
    },
    {
     "name": "stdout",
     "output_type": "stream",
     "text": [
      "Sliding window being executed...\n",
      "865.212452267\n",
      "803.805976692\n",
      "Sanity flag= 0\n",
      "Are lanes detected? True True\n"
     ]
    },
    {
     "name": "stderr",
     "output_type": "stream",
     "text": [
      "\u001b[A\n",
      " 65%|██████▍   | 777/1200 [05:14<02:49,  2.49it/s]"
     ]
    },
    {
     "name": "stdout",
     "output_type": "stream",
     "text": [
      "Sliding window being executed...\n",
      "871.651107863\n",
      "509.030748811\n",
      "Sanity flag= 0\n",
      "Are lanes detected? True True\n"
     ]
    },
    {
     "name": "stderr",
     "output_type": "stream",
     "text": [
      "\u001b[A\n",
      " 65%|██████▍   | 778/1200 [05:14<02:50,  2.48it/s]"
     ]
    },
    {
     "name": "stdout",
     "output_type": "stream",
     "text": [
      "Sliding window being executed...\n",
      "1377.20276832\n",
      "599.000966196\n",
      "Sanity flag= 1\n",
      "Are lanes detected? True True\n"
     ]
    },
    {
     "name": "stderr",
     "output_type": "stream",
     "text": [
      "\u001b[A\n",
      " 65%|██████▍   | 779/1200 [05:15<02:50,  2.47it/s]"
     ]
    },
    {
     "name": "stdout",
     "output_type": "stream",
     "text": [
      "Sliding window being executed...\n",
      "1255.55507265\n",
      "491.849248328\n",
      "Sanity flag= 1\n",
      "Are lanes detected? True True\n"
     ]
    },
    {
     "name": "stderr",
     "output_type": "stream",
     "text": [
      "\u001b[A\n",
      " 65%|██████▌   | 780/1200 [05:15<02:50,  2.46it/s]"
     ]
    },
    {
     "name": "stdout",
     "output_type": "stream",
     "text": [
      "Sliding window being executed...\n",
      "652.396744041\n",
      "374.583204804\n",
      "Sanity flag= 0\n",
      "Are lanes detected? True True\n"
     ]
    },
    {
     "name": "stderr",
     "output_type": "stream",
     "text": [
      "\u001b[A\n",
      " 65%|██████▌   | 781/1200 [05:16<02:52,  2.43it/s]"
     ]
    },
    {
     "name": "stdout",
     "output_type": "stream",
     "text": [
      "Sliding window being executed...\n",
      "376.195572341\n",
      "542.710775757\n",
      "Sanity flag= 0\n",
      "Are lanes detected? True True\n"
     ]
    },
    {
     "name": "stderr",
     "output_type": "stream",
     "text": [
      "\u001b[A\n",
      " 65%|██████▌   | 782/1200 [05:16<02:50,  2.46it/s]"
     ]
    },
    {
     "name": "stdout",
     "output_type": "stream",
     "text": [
      "Sliding window being executed...\n",
      "342.229812122\n",
      "1030.41197288\n",
      "Sanity flag= 0\n",
      "Are lanes detected? True True\n"
     ]
    },
    {
     "name": "stderr",
     "output_type": "stream",
     "text": [
      "\u001b[A\n",
      " 65%|██████▌   | 783/1200 [05:16<02:49,  2.45it/s]"
     ]
    },
    {
     "name": "stdout",
     "output_type": "stream",
     "text": [
      "Sliding window being executed...\n",
      "283.418600872\n",
      "6536.41912073\n",
      "Sanity flag= 1\n",
      "Are lanes detected? True True\n"
     ]
    },
    {
     "name": "stderr",
     "output_type": "stream",
     "text": [
      "\u001b[A\n",
      " 65%|██████▌   | 784/1200 [05:17<02:48,  2.47it/s]"
     ]
    },
    {
     "name": "stdout",
     "output_type": "stream",
     "text": [
      "Sliding window being executed...\n",
      "1026.97183942\n",
      "518.151050937\n",
      "Sanity flag= 0\n",
      "Are lanes detected? True True\n"
     ]
    },
    {
     "name": "stderr",
     "output_type": "stream",
     "text": [
      "\u001b[A\n",
      " 65%|██████▌   | 785/1200 [05:17<02:46,  2.49it/s]"
     ]
    },
    {
     "name": "stdout",
     "output_type": "stream",
     "text": [
      "Sliding window being executed...\n",
      "1402.96230537\n",
      "451.428652586\n",
      "Sanity flag= 1\n",
      "Are lanes detected? True True\n"
     ]
    },
    {
     "name": "stderr",
     "output_type": "stream",
     "text": [
      "\u001b[A\n",
      " 66%|██████▌   | 786/1200 [05:18<02:45,  2.50it/s]"
     ]
    },
    {
     "name": "stdout",
     "output_type": "stream",
     "text": [
      "Sliding window being executed...\n",
      "4193.2379558\n",
      "444.42988287\n",
      "Sanity flag= 1\n",
      "Are lanes detected? True True\n"
     ]
    },
    {
     "name": "stderr",
     "output_type": "stream",
     "text": [
      "\u001b[A\n",
      " 66%|██████▌   | 787/1200 [05:18<02:45,  2.49it/s]"
     ]
    },
    {
     "name": "stdout",
     "output_type": "stream",
     "text": [
      "Sliding window being executed...\n",
      "1477.10299383\n",
      "431.373435615\n",
      "Sanity flag= 1\n",
      "Are lanes detected? True True\n"
     ]
    },
    {
     "name": "stderr",
     "output_type": "stream",
     "text": [
      "\u001b[A\n",
      " 66%|██████▌   | 788/1200 [05:18<02:45,  2.49it/s]"
     ]
    },
    {
     "name": "stdout",
     "output_type": "stream",
     "text": [
      "Sliding window being executed...\n",
      "591.353260937\n",
      "450.834927858\n",
      "Sanity flag= 0\n",
      "Are lanes detected? True True\n"
     ]
    },
    {
     "name": "stderr",
     "output_type": "stream",
     "text": [
      "\u001b[A\n",
      " 66%|██████▌   | 789/1200 [05:19<02:44,  2.50it/s]"
     ]
    },
    {
     "name": "stdout",
     "output_type": "stream",
     "text": [
      "Sliding window being executed...\n",
      "336.353452156\n",
      "688.067848692\n",
      "Sanity flag= 0\n",
      "Are lanes detected? True True\n"
     ]
    },
    {
     "name": "stderr",
     "output_type": "stream",
     "text": [
      "\u001b[A\n",
      " 66%|██████▌   | 790/1200 [05:19<02:44,  2.50it/s]"
     ]
    },
    {
     "name": "stdout",
     "output_type": "stream",
     "text": [
      "Sliding window being executed...\n",
      "489.116611286\n",
      "1541.40743283\n",
      "Sanity flag= 1\n",
      "Are lanes detected? True True\n"
     ]
    },
    {
     "name": "stderr",
     "output_type": "stream",
     "text": [
      "\u001b[A\n",
      " 66%|██████▌   | 791/1200 [05:20<02:43,  2.50it/s]"
     ]
    },
    {
     "name": "stdout",
     "output_type": "stream",
     "text": [
      "Sliding window being executed...\n",
      "1843.29578058\n",
      "250.874079525\n",
      "Sanity flag= 1\n",
      "Are lanes detected? True True\n"
     ]
    },
    {
     "name": "stderr",
     "output_type": "stream",
     "text": [
      "\u001b[A\n",
      " 66%|██████▌   | 792/1200 [05:20<02:42,  2.51it/s]"
     ]
    },
    {
     "name": "stdout",
     "output_type": "stream",
     "text": [
      "Sliding window being executed...\n",
      "1044.11457615\n",
      "218.238924977\n",
      "Sanity flag= 1\n",
      "Are lanes detected? True True\n"
     ]
    },
    {
     "name": "stderr",
     "output_type": "stream",
     "text": [
      "\u001b[A\n",
      " 66%|██████▌   | 793/1200 [05:20<02:52,  2.35it/s]"
     ]
    },
    {
     "name": "stdout",
     "output_type": "stream",
     "text": [
      "Sliding window being executed...\n",
      "182.800370087\n",
      "439.536990499\n",
      "Sanity flag= 1\n",
      "Are lanes detected? True True\n"
     ]
    },
    {
     "name": "stderr",
     "output_type": "stream",
     "text": [
      "\u001b[A\n",
      " 66%|██████▌   | 794/1200 [05:21<02:46,  2.45it/s]"
     ]
    },
    {
     "name": "stdout",
     "output_type": "stream",
     "text": [
      "Sliding window being executed...\n",
      "128.496522458\n",
      "496.945205557\n",
      "Sanity flag= 1\n",
      "Are lanes detected? True True\n"
     ]
    },
    {
     "name": "stderr",
     "output_type": "stream",
     "text": [
      "\u001b[A\n",
      " 66%|██████▋   | 795/1200 [05:21<02:42,  2.49it/s]"
     ]
    },
    {
     "name": "stdout",
     "output_type": "stream",
     "text": [
      "Sliding window being executed...\n",
      "114.980945207\n",
      "633.069036856\n",
      "Sanity flag= 1\n",
      "Are lanes detected? True True\n"
     ]
    },
    {
     "name": "stderr",
     "output_type": "stream",
     "text": [
      "\u001b[A\n",
      " 66%|██████▋   | 796/1200 [05:22<02:42,  2.48it/s]"
     ]
    },
    {
     "name": "stdout",
     "output_type": "stream",
     "text": [
      "Sliding window being executed...\n",
      "163.515444966\n",
      "557.051517915\n",
      "Sanity flag= 0\n",
      "Are lanes detected? True True\n"
     ]
    },
    {
     "name": "stderr",
     "output_type": "stream",
     "text": [
      "\u001b[A\n",
      " 66%|██████▋   | 797/1200 [05:22<02:40,  2.52it/s]"
     ]
    },
    {
     "name": "stdout",
     "output_type": "stream",
     "text": [
      "Sliding window being executed...\n",
      "272.619330536\n",
      "647.976188436\n",
      "Sanity flag= 0\n",
      "Are lanes detected? True True\n"
     ]
    },
    {
     "name": "stderr",
     "output_type": "stream",
     "text": [
      "\u001b[A\n",
      " 66%|██████▋   | 798/1200 [05:22<02:39,  2.53it/s]"
     ]
    },
    {
     "name": "stdout",
     "output_type": "stream",
     "text": [
      "Sliding window being executed...\n",
      "127.360484036\n",
      "789.961336643\n",
      "Sanity flag= 1\n",
      "Are lanes detected? True True\n"
     ]
    },
    {
     "name": "stderr",
     "output_type": "stream",
     "text": [
      "\u001b[A\n",
      " 67%|██████▋   | 799/1200 [05:23<02:50,  2.35it/s]"
     ]
    },
    {
     "name": "stdout",
     "output_type": "stream",
     "text": [
      "Sliding window being executed...\n",
      "126.258787168\n",
      "982.734117417\n",
      "Sanity flag= 1\n",
      "Are lanes detected? True True\n"
     ]
    },
    {
     "name": "stderr",
     "output_type": "stream",
     "text": [
      "\u001b[A\n",
      " 67%|██████▋   | 800/1200 [05:23<02:55,  2.27it/s]"
     ]
    },
    {
     "name": "stdout",
     "output_type": "stream",
     "text": [
      "Sliding window being executed...\n",
      "133.082020001\n",
      "869.706886597\n",
      "Sanity flag= 1\n",
      "Are lanes detected? True True\n"
     ]
    },
    {
     "name": "stderr",
     "output_type": "stream",
     "text": [
      "\u001b[A\n",
      " 67%|██████▋   | 801/1200 [05:24<02:51,  2.33it/s]"
     ]
    },
    {
     "name": "stdout",
     "output_type": "stream",
     "text": [
      "Sliding window being executed...\n",
      "152.768553571\n",
      "2613.0122354\n",
      "Sanity flag= 1\n",
      "Are lanes detected? True True\n"
     ]
    },
    {
     "name": "stderr",
     "output_type": "stream",
     "text": [
      "\u001b[A\n",
      " 67%|██████▋   | 802/1200 [05:24<02:55,  2.26it/s]"
     ]
    },
    {
     "name": "stdout",
     "output_type": "stream",
     "text": [
      "Sliding window being executed...\n",
      "335.625164794\n",
      "2424.15146602\n",
      "Sanity flag= 1\n",
      "Are lanes detected? True True\n"
     ]
    },
    {
     "name": "stderr",
     "output_type": "stream",
     "text": [
      "\u001b[A\n",
      " 67%|██████▋   | 803/1200 [05:25<02:53,  2.29it/s]"
     ]
    },
    {
     "name": "stdout",
     "output_type": "stream",
     "text": [
      "Sliding window being executed...\n",
      "3090.19404016\n",
      "5024.47975133\n",
      "Sanity flag= 1\n",
      "Are lanes detected? True True\n"
     ]
    },
    {
     "name": "stderr",
     "output_type": "stream",
     "text": [
      "\u001b[A\n",
      " 67%|██████▋   | 804/1200 [05:25<02:56,  2.24it/s]"
     ]
    },
    {
     "name": "stdout",
     "output_type": "stream",
     "text": [
      "Sliding window being executed...\n",
      "193.582213315\n",
      "4737.55478003\n",
      "Sanity flag= 1\n",
      "Are lanes detected? True True\n"
     ]
    },
    {
     "name": "stderr",
     "output_type": "stream",
     "text": [
      "\u001b[A\n",
      " 67%|██████▋   | 805/1200 [05:26<02:58,  2.21it/s]"
     ]
    },
    {
     "name": "stdout",
     "output_type": "stream",
     "text": [
      "Sliding window being executed...\n",
      "158.806236353\n",
      "1073.04483912\n",
      "Sanity flag= 1\n",
      "Are lanes detected? True True\n"
     ]
    },
    {
     "name": "stderr",
     "output_type": "stream",
     "text": [
      "\u001b[A\n",
      " 67%|██████▋   | 806/1200 [05:26<03:01,  2.18it/s]"
     ]
    },
    {
     "name": "stdout",
     "output_type": "stream",
     "text": [
      "Sliding window being executed...\n",
      "87.9070096152\n",
      "17902.5105048\n",
      "Sanity flag= 1\n",
      "Are lanes detected? True True\n"
     ]
    },
    {
     "name": "stderr",
     "output_type": "stream",
     "text": [
      "\u001b[A\n",
      " 67%|██████▋   | 807/1200 [05:26<02:53,  2.27it/s]"
     ]
    },
    {
     "name": "stdout",
     "output_type": "stream",
     "text": [
      "Sliding window being executed...\n",
      "82.890539506\n",
      "2518.91471248\n",
      "Sanity flag= 1\n",
      "Are lanes detected? True True\n"
     ]
    },
    {
     "name": "stderr",
     "output_type": "stream",
     "text": [
      "\u001b[A\n",
      " 67%|██████▋   | 808/1200 [05:27<02:47,  2.34it/s]"
     ]
    },
    {
     "name": "stdout",
     "output_type": "stream",
     "text": [
      "Sliding window being executed...\n",
      "3636.18783798\n",
      "1497.29987859\n",
      "Sanity flag= 1\n",
      "Are lanes detected? True True\n"
     ]
    },
    {
     "name": "stderr",
     "output_type": "stream",
     "text": [
      "\u001b[A\n",
      " 67%|██████▋   | 809/1200 [05:27<02:45,  2.36it/s]"
     ]
    },
    {
     "name": "stdout",
     "output_type": "stream",
     "text": [
      "Sliding window being executed...\n",
      "473.634322703\n",
      "2489.25924584\n",
      "Sanity flag= 1\n",
      "Are lanes detected? True True\n"
     ]
    },
    {
     "name": "stderr",
     "output_type": "stream",
     "text": [
      "\u001b[A\n",
      " 68%|██████▊   | 810/1200 [05:28<02:42,  2.40it/s]"
     ]
    },
    {
     "name": "stdout",
     "output_type": "stream",
     "text": [
      "Sliding window being executed...\n",
      "132.170794025\n",
      "1151.30231992\n",
      "Sanity flag= 1\n",
      "Are lanes detected? True True\n"
     ]
    },
    {
     "name": "stderr",
     "output_type": "stream",
     "text": [
      "\u001b[A\n",
      " 68%|██████▊   | 811/1200 [05:28<02:39,  2.44it/s]"
     ]
    },
    {
     "name": "stdout",
     "output_type": "stream",
     "text": [
      "Sliding window being executed...\n",
      "874.161558974\n",
      "763.151627601\n",
      "Sanity flag= 0\n",
      "Are lanes detected? True True\n"
     ]
    },
    {
     "name": "stderr",
     "output_type": "stream",
     "text": [
      "\u001b[A\n",
      " 68%|██████▊   | 812/1200 [05:28<02:35,  2.49it/s]"
     ]
    },
    {
     "name": "stdout",
     "output_type": "stream",
     "text": [
      "Sliding window being executed...\n",
      "88.7221215087\n",
      "640.40688837\n",
      "Sanity flag= 1\n",
      "Are lanes detected? True True\n"
     ]
    },
    {
     "name": "stderr",
     "output_type": "stream",
     "text": [
      "\u001b[A\n",
      " 68%|██████▊   | 813/1200 [05:29<02:32,  2.53it/s]"
     ]
    },
    {
     "name": "stdout",
     "output_type": "stream",
     "text": [
      "Sliding window being executed...\n",
      "661.728740475\n",
      "224.43058058\n",
      "Sanity flag= 0\n",
      "Are lanes detected? True True\n"
     ]
    },
    {
     "name": "stderr",
     "output_type": "stream",
     "text": [
      "\u001b[A\n",
      " 68%|██████▊   | 814/1200 [05:29<02:29,  2.59it/s]"
     ]
    },
    {
     "name": "stdout",
     "output_type": "stream",
     "text": [
      "Sliding window being executed...\n",
      "184.246026824\n",
      "264.084327384\n",
      "Sanity flag= 1\n",
      "Are lanes detected? True True\n"
     ]
    },
    {
     "name": "stderr",
     "output_type": "stream",
     "text": [
      "\u001b[A\n",
      " 68%|██████▊   | 815/1200 [05:30<02:29,  2.57it/s]"
     ]
    },
    {
     "name": "stdout",
     "output_type": "stream",
     "text": [
      "Sliding window being executed...\n",
      "1568.54969799\n",
      "4457.4518578\n",
      "Sanity flag= 1\n",
      "Are lanes detected? True True\n"
     ]
    },
    {
     "name": "stderr",
     "output_type": "stream",
     "text": [
      "\u001b[A\n",
      " 68%|██████▊   | 816/1200 [05:30<02:27,  2.60it/s]"
     ]
    },
    {
     "name": "stdout",
     "output_type": "stream",
     "text": [
      "Sliding window being executed...\n",
      "7220.11266246\n",
      "364.237032028\n",
      "Sanity flag= 1\n",
      "Are lanes detected? True True\n"
     ]
    },
    {
     "name": "stderr",
     "output_type": "stream",
     "text": [
      "\u001b[A\n",
      " 68%|██████▊   | 817/1200 [05:30<02:27,  2.59it/s]"
     ]
    },
    {
     "name": "stdout",
     "output_type": "stream",
     "text": [
      "Sliding window being executed...\n",
      "296.626278745\n",
      "738.4922177\n",
      "Sanity flag= 1\n",
      "Are lanes detected? True True\n"
     ]
    },
    {
     "name": "stderr",
     "output_type": "stream",
     "text": [
      "\u001b[A\n",
      " 68%|██████▊   | 818/1200 [05:31<02:27,  2.60it/s]"
     ]
    },
    {
     "name": "stdout",
     "output_type": "stream",
     "text": [
      "Sliding window being executed...\n",
      "86.4197224668\n",
      "454.59561591\n",
      "Sanity flag= 1\n",
      "Are lanes detected? True True\n"
     ]
    },
    {
     "name": "stderr",
     "output_type": "stream",
     "text": [
      "\u001b[A\n",
      " 68%|██████▊   | 819/1200 [05:31<02:26,  2.61it/s]"
     ]
    },
    {
     "name": "stdout",
     "output_type": "stream",
     "text": [
      "Sliding window being executed...\n",
      "991.769209844\n",
      "404.774505775\n",
      "Sanity flag= 0\n",
      "Are lanes detected? True True\n"
     ]
    },
    {
     "name": "stderr",
     "output_type": "stream",
     "text": [
      "\u001b[A\n",
      " 68%|██████▊   | 820/1200 [05:31<02:23,  2.64it/s]"
     ]
    },
    {
     "name": "stdout",
     "output_type": "stream",
     "text": [
      "Sliding window being executed...\n",
      "2080.19704349\n",
      "380.902389468\n",
      "Sanity flag= 1\n",
      "Are lanes detected? True True\n"
     ]
    },
    {
     "name": "stderr",
     "output_type": "stream",
     "text": [
      "\u001b[A\n",
      " 68%|██████▊   | 821/1200 [05:32<02:23,  2.65it/s]"
     ]
    },
    {
     "name": "stdout",
     "output_type": "stream",
     "text": [
      "Sliding window being executed...\n",
      "7111.40600986\n",
      "296.141584173\n",
      "Sanity flag= 1\n",
      "Are lanes detected? True True\n"
     ]
    },
    {
     "name": "stderr",
     "output_type": "stream",
     "text": [
      "\u001b[A\n",
      " 68%|██████▊   | 822/1200 [05:32<02:23,  2.63it/s]"
     ]
    },
    {
     "name": "stdout",
     "output_type": "stream",
     "text": [
      "Sliding window being executed...\n",
      "27016.6780999\n",
      "268.287207682\n",
      "Sanity flag= 1\n",
      "Are lanes detected? True True\n"
     ]
    },
    {
     "name": "stderr",
     "output_type": "stream",
     "text": [
      "\u001b[A\n",
      " 69%|██████▊   | 823/1200 [05:33<02:29,  2.51it/s]"
     ]
    },
    {
     "name": "stdout",
     "output_type": "stream",
     "text": [
      "Sliding window being executed...\n",
      "9470.65789606\n",
      "15589.0731664\n",
      "Sanity flag= 1\n",
      "Are lanes detected? True True\n"
     ]
    },
    {
     "name": "stderr",
     "output_type": "stream",
     "text": [
      "\u001b[A\n",
      " 69%|██████▊   | 824/1200 [05:33<02:26,  2.56it/s]"
     ]
    },
    {
     "name": "stdout",
     "output_type": "stream",
     "text": [
      "Sliding window being executed...\n",
      "321.325196544\n",
      "1006.28077915\n",
      "Sanity flag= 0\n",
      "Are lanes detected? True True\n"
     ]
    },
    {
     "name": "stderr",
     "output_type": "stream",
     "text": [
      "\u001b[A\n",
      " 69%|██████▉   | 825/1200 [05:33<02:27,  2.55it/s]"
     ]
    },
    {
     "name": "stdout",
     "output_type": "stream",
     "text": [
      "Sliding window being executed...\n",
      "343.171675183\n",
      "2320.72527458\n",
      "Sanity flag= 1\n",
      "Are lanes detected? True True\n"
     ]
    },
    {
     "name": "stderr",
     "output_type": "stream",
     "text": [
      "\u001b[A\n",
      " 69%|██████▉   | 826/1200 [05:34<02:28,  2.51it/s]"
     ]
    },
    {
     "name": "stdout",
     "output_type": "stream",
     "text": [
      "Sliding window being executed...\n",
      "1696.64602729\n",
      "122462.247462\n",
      "Sanity flag= 1\n",
      "Are lanes detected? True True\n"
     ]
    },
    {
     "name": "stderr",
     "output_type": "stream",
     "text": [
      "\u001b[A\n",
      " 69%|██████▉   | 827/1200 [05:34<02:27,  2.53it/s]"
     ]
    },
    {
     "name": "stdout",
     "output_type": "stream",
     "text": [
      "Sliding window being executed...\n",
      "1938.56569346\n",
      "4916.44816078\n",
      "Sanity flag= 1\n",
      "Are lanes detected? True True\n"
     ]
    },
    {
     "name": "stderr",
     "output_type": "stream",
     "text": [
      "\u001b[A\n",
      " 69%|██████▉   | 828/1200 [05:35<02:25,  2.56it/s]"
     ]
    },
    {
     "name": "stdout",
     "output_type": "stream",
     "text": [
      "Sliding window being executed...\n",
      "6096.95865161\n",
      "1513.3832038\n",
      "Sanity flag= 1\n",
      "Are lanes detected? True True\n"
     ]
    },
    {
     "name": "stderr",
     "output_type": "stream",
     "text": [
      "\u001b[A\n",
      " 69%|██████▉   | 829/1200 [05:35<02:25,  2.55it/s]"
     ]
    },
    {
     "name": "stdout",
     "output_type": "stream",
     "text": [
      "Sliding window being executed...\n",
      "537.177647881\n",
      "1375.41912078\n",
      "Sanity flag= 1\n",
      "Are lanes detected? True True\n"
     ]
    },
    {
     "name": "stderr",
     "output_type": "stream",
     "text": [
      "\u001b[A\n",
      " 69%|██████▉   | 830/1200 [05:35<02:24,  2.55it/s]"
     ]
    },
    {
     "name": "stdout",
     "output_type": "stream",
     "text": [
      "Sliding window being executed...\n",
      "1007.19043061\n",
      "4789.47602085\n",
      "Sanity flag= 1\n",
      "Are lanes detected? True True\n"
     ]
    },
    {
     "name": "stderr",
     "output_type": "stream",
     "text": [
      "\u001b[A\n",
      " 69%|██████▉   | 831/1200 [05:36<02:24,  2.55it/s]"
     ]
    },
    {
     "name": "stdout",
     "output_type": "stream",
     "text": [
      "Sliding window being executed...\n",
      "752.548746519\n",
      "1297.95684048\n",
      "Sanity flag= 1\n",
      "Are lanes detected? True True\n"
     ]
    },
    {
     "name": "stderr",
     "output_type": "stream",
     "text": [
      "\u001b[A\n",
      " 69%|██████▉   | 832/1200 [05:36<02:24,  2.55it/s]"
     ]
    },
    {
     "name": "stdout",
     "output_type": "stream",
     "text": [
      "Sliding window being executed...\n",
      "565.353447745\n",
      "1510.35901942\n",
      "Sanity flag= 1\n",
      "Are lanes detected? True True\n"
     ]
    },
    {
     "name": "stderr",
     "output_type": "stream",
     "text": [
      "\u001b[A\n",
      " 69%|██████▉   | 833/1200 [05:37<02:23,  2.55it/s]"
     ]
    },
    {
     "name": "stdout",
     "output_type": "stream",
     "text": [
      "Sliding window being executed...\n",
      "410.148603207\n",
      "1539.15149558\n",
      "Sanity flag= 1\n",
      "Are lanes detected? True True\n"
     ]
    },
    {
     "name": "stderr",
     "output_type": "stream",
     "text": [
      "\u001b[A\n",
      " 70%|██████▉   | 834/1200 [05:37<02:23,  2.55it/s]"
     ]
    },
    {
     "name": "stdout",
     "output_type": "stream",
     "text": [
      "Sliding window being executed...\n",
      "507.055946994\n",
      "1467.4140068\n",
      "Sanity flag= 1\n",
      "Are lanes detected? True True\n"
     ]
    },
    {
     "name": "stderr",
     "output_type": "stream",
     "text": [
      "\u001b[A\n",
      " 70%|██████▉   | 835/1200 [05:37<02:23,  2.55it/s]"
     ]
    },
    {
     "name": "stdout",
     "output_type": "stream",
     "text": [
      "Sliding window being executed...\n",
      "612.561091387\n",
      "39444.8946644\n",
      "Sanity flag= 1\n",
      "Are lanes detected? True True\n"
     ]
    },
    {
     "name": "stderr",
     "output_type": "stream",
     "text": [
      "\u001b[A\n",
      " 70%|██████▉   | 836/1200 [05:38<02:22,  2.55it/s]"
     ]
    },
    {
     "name": "stdout",
     "output_type": "stream",
     "text": [
      "Sliding window being executed...\n",
      "987.676973025\n",
      "3324.94361914\n",
      "Sanity flag= 1\n",
      "Are lanes detected? True True\n"
     ]
    },
    {
     "name": "stderr",
     "output_type": "stream",
     "text": [
      "\u001b[A\n",
      " 70%|██████▉   | 837/1200 [05:38<02:21,  2.56it/s]"
     ]
    },
    {
     "name": "stdout",
     "output_type": "stream",
     "text": [
      "Sliding window being executed...\n",
      "1338.76202114\n",
      "14212.4323632\n",
      "Sanity flag= 1\n",
      "Are lanes detected? True True\n"
     ]
    },
    {
     "name": "stderr",
     "output_type": "stream",
     "text": [
      "\u001b[A\n",
      " 70%|██████▉   | 838/1200 [05:39<02:22,  2.55it/s]"
     ]
    },
    {
     "name": "stdout",
     "output_type": "stream",
     "text": [
      "Sliding window being executed...\n",
      "1023.59999327\n",
      "16407.8881113\n",
      "Sanity flag= 1\n",
      "Are lanes detected? True True\n"
     ]
    },
    {
     "name": "stderr",
     "output_type": "stream",
     "text": [
      "\u001b[A\n",
      " 70%|██████▉   | 839/1200 [05:39<02:24,  2.50it/s]"
     ]
    },
    {
     "name": "stdout",
     "output_type": "stream",
     "text": [
      "Sliding window being executed...\n",
      "918.662501948\n",
      "2235.91846416\n",
      "Sanity flag= 1\n",
      "Are lanes detected? True True\n"
     ]
    },
    {
     "name": "stderr",
     "output_type": "stream",
     "text": [
      "\u001b[A\n",
      " 70%|███████   | 840/1200 [05:39<02:25,  2.47it/s]"
     ]
    },
    {
     "name": "stdout",
     "output_type": "stream",
     "text": [
      "Sliding window being executed...\n",
      "2537.97640699\n",
      "3325.16926535\n",
      "Sanity flag= 1\n",
      "Are lanes detected? True True\n"
     ]
    },
    {
     "name": "stderr",
     "output_type": "stream",
     "text": [
      "\u001b[A\n",
      " 70%|███████   | 841/1200 [05:40<02:25,  2.47it/s]"
     ]
    },
    {
     "name": "stdout",
     "output_type": "stream",
     "text": [
      "Sliding window being executed...\n",
      "9363.77777158\n",
      "2093.04746025\n",
      "Sanity flag= 1\n",
      "Are lanes detected? True True\n"
     ]
    },
    {
     "name": "stderr",
     "output_type": "stream",
     "text": [
      "\u001b[A\n",
      " 70%|███████   | 842/1200 [05:40<02:24,  2.48it/s]"
     ]
    },
    {
     "name": "stdout",
     "output_type": "stream",
     "text": [
      "Sliding window being executed...\n",
      "11073.1085794\n",
      "2936.48491468\n",
      "Sanity flag= 1\n",
      "Are lanes detected? True True\n"
     ]
    },
    {
     "name": "stderr",
     "output_type": "stream",
     "text": [
      "\u001b[A\n",
      " 70%|███████   | 843/1200 [05:41<02:24,  2.47it/s]"
     ]
    },
    {
     "name": "stdout",
     "output_type": "stream",
     "text": [
      "Sliding window being executed...\n",
      "985.839096282\n",
      "3427.09923919\n",
      "Sanity flag= 1\n",
      "Are lanes detected? True True\n"
     ]
    },
    {
     "name": "stderr",
     "output_type": "stream",
     "text": [
      "\u001b[A\n",
      " 70%|███████   | 844/1200 [05:41<02:26,  2.44it/s]"
     ]
    },
    {
     "name": "stdout",
     "output_type": "stream",
     "text": [
      "Sliding window being executed...\n",
      "1686.13753359\n",
      "14809.9881573\n",
      "Sanity flag= 1\n",
      "Are lanes detected? True True\n"
     ]
    },
    {
     "name": "stderr",
     "output_type": "stream",
     "text": [
      "\u001b[A\n",
      " 70%|███████   | 845/1200 [05:41<02:26,  2.43it/s]"
     ]
    },
    {
     "name": "stdout",
     "output_type": "stream",
     "text": [
      "Sliding window being executed...\n",
      "544.619557956\n",
      "3141.24437186\n",
      "Sanity flag= 1\n",
      "Are lanes detected? True True\n"
     ]
    },
    {
     "name": "stderr",
     "output_type": "stream",
     "text": [
      "\u001b[A\n",
      " 70%|███████   | 846/1200 [05:42<02:26,  2.41it/s]"
     ]
    },
    {
     "name": "stdout",
     "output_type": "stream",
     "text": [
      "Sliding window being executed...\n",
      "432.122601012\n",
      "1018.72688408\n",
      "Sanity flag= 0\n",
      "Are lanes detected? True True\n"
     ]
    },
    {
     "name": "stderr",
     "output_type": "stream",
     "text": [
      "\u001b[A\n",
      " 71%|███████   | 847/1200 [05:42<02:27,  2.40it/s]"
     ]
    },
    {
     "name": "stdout",
     "output_type": "stream",
     "text": [
      "Sliding window being executed...\n",
      "406482.160156\n",
      "1058.75524914\n",
      "Sanity flag= 1\n",
      "Are lanes detected? True True\n"
     ]
    },
    {
     "name": "stderr",
     "output_type": "stream",
     "text": [
      "\u001b[A\n",
      " 71%|███████   | 848/1200 [05:43<02:27,  2.39it/s]"
     ]
    },
    {
     "name": "stdout",
     "output_type": "stream",
     "text": [
      "Sliding window being executed...\n",
      "963.894252263\n",
      "705.34104984\n",
      "Sanity flag= 0\n",
      "Are lanes detected? True True\n"
     ]
    },
    {
     "name": "stderr",
     "output_type": "stream",
     "text": [
      "\u001b[A\n",
      " 71%|███████   | 849/1200 [05:43<02:24,  2.43it/s]"
     ]
    },
    {
     "name": "stdout",
     "output_type": "stream",
     "text": [
      "Sliding window being executed...\n",
      "285.397081793\n",
      "2267.86174029\n",
      "Sanity flag= 1\n",
      "Are lanes detected? True True\n"
     ]
    },
    {
     "name": "stderr",
     "output_type": "stream",
     "text": [
      "\u001b[A\n",
      " 71%|███████   | 850/1200 [05:43<02:24,  2.42it/s]"
     ]
    },
    {
     "name": "stdout",
     "output_type": "stream",
     "text": [
      "Sliding window being executed...\n",
      "284.51059717\n",
      "7924.85724815\n",
      "Sanity flag= 1\n",
      "Are lanes detected? True True\n"
     ]
    },
    {
     "name": "stderr",
     "output_type": "stream",
     "text": [
      "\u001b[A\n",
      " 71%|███████   | 851/1200 [05:44<02:24,  2.41it/s]"
     ]
    },
    {
     "name": "stdout",
     "output_type": "stream",
     "text": [
      "Sliding window being executed...\n",
      "358.328813343\n",
      "6344.06165145\n",
      "Sanity flag= 1\n",
      "Are lanes detected? True True\n"
     ]
    },
    {
     "name": "stderr",
     "output_type": "stream",
     "text": [
      "\u001b[A\n",
      " 71%|███████   | 852/1200 [05:44<02:23,  2.43it/s]"
     ]
    },
    {
     "name": "stdout",
     "output_type": "stream",
     "text": [
      "Sliding window being executed...\n",
      "2421.7379271\n",
      "1845.77459776\n",
      "Sanity flag= 1\n",
      "Are lanes detected? True True\n"
     ]
    },
    {
     "name": "stderr",
     "output_type": "stream",
     "text": [
      "\u001b[A\n",
      " 71%|███████   | 853/1200 [05:45<02:29,  2.31it/s]"
     ]
    },
    {
     "name": "stdout",
     "output_type": "stream",
     "text": [
      "Sliding window being executed...\n",
      "1242.44180357\n",
      "1514.59596298\n",
      "Sanity flag= 1\n",
      "Are lanes detected? True True\n"
     ]
    },
    {
     "name": "stderr",
     "output_type": "stream",
     "text": [
      "\u001b[A\n",
      " 71%|███████   | 854/1200 [05:45<02:36,  2.21it/s]"
     ]
    },
    {
     "name": "stdout",
     "output_type": "stream",
     "text": [
      "Sliding window being executed...\n",
      "965.580120255\n",
      "13624.5057483\n",
      "Sanity flag= 1\n",
      "Are lanes detected? True True\n"
     ]
    },
    {
     "name": "stderr",
     "output_type": "stream",
     "text": [
      "\u001b[A\n",
      " 71%|███████▏  | 855/1200 [05:46<02:33,  2.25it/s]"
     ]
    },
    {
     "name": "stdout",
     "output_type": "stream",
     "text": [
      "Sliding window being executed...\n",
      "697.520782635\n",
      "10970.0172913\n",
      "Sanity flag= 1\n",
      "Are lanes detected? True True\n"
     ]
    },
    {
     "name": "stderr",
     "output_type": "stream",
     "text": [
      "\u001b[A\n",
      " 71%|███████▏  | 856/1200 [05:46<02:37,  2.19it/s]"
     ]
    },
    {
     "name": "stdout",
     "output_type": "stream",
     "text": [
      "Sliding window being executed...\n",
      "1091.23457248\n",
      "20287.4264854\n",
      "Sanity flag= 1\n",
      "Are lanes detected? True True\n"
     ]
    },
    {
     "name": "stderr",
     "output_type": "stream",
     "text": [
      "\u001b[A\n",
      " 71%|███████▏  | 857/1200 [05:47<02:34,  2.22it/s]"
     ]
    },
    {
     "name": "stdout",
     "output_type": "stream",
     "text": [
      "Sliding window being executed...\n",
      "996.467842063\n",
      "3775.61418993\n",
      "Sanity flag= 1\n",
      "Are lanes detected? True True\n"
     ]
    },
    {
     "name": "stderr",
     "output_type": "stream",
     "text": [
      "\u001b[A\n",
      " 72%|███████▏  | 858/1200 [05:47<02:39,  2.14it/s]"
     ]
    },
    {
     "name": "stdout",
     "output_type": "stream",
     "text": [
      "Sliding window being executed...\n",
      "1509.60926954\n",
      "6713.72886012\n",
      "Sanity flag= 1\n",
      "Are lanes detected? True True\n"
     ]
    },
    {
     "name": "stderr",
     "output_type": "stream",
     "text": [
      "\u001b[A\n",
      " 72%|███████▏  | 859/1200 [05:47<02:26,  2.33it/s]"
     ]
    },
    {
     "name": "stdout",
     "output_type": "stream",
     "text": [
      "Sliding window being executed...\n",
      "2196.07962369\n",
      "18056.9018455\n",
      "Sanity flag= 1\n",
      "Are lanes detected? True True\n"
     ]
    },
    {
     "name": "stderr",
     "output_type": "stream",
     "text": [
      "\u001b[A\n",
      " 72%|███████▏  | 860/1200 [05:48<02:18,  2.46it/s]"
     ]
    },
    {
     "name": "stdout",
     "output_type": "stream",
     "text": [
      "Sliding window being executed...\n",
      "1429.81524607\n",
      "52324.0349776\n",
      "Sanity flag= 1\n",
      "Are lanes detected? True True\n"
     ]
    },
    {
     "name": "stderr",
     "output_type": "stream",
     "text": [
      "\u001b[A\n",
      " 72%|███████▏  | 861/1200 [05:48<02:14,  2.52it/s]"
     ]
    },
    {
     "name": "stdout",
     "output_type": "stream",
     "text": [
      "Sliding window being executed...\n",
      "12903.1758457\n",
      "3640.3370147\n",
      "Sanity flag= 1\n",
      "Are lanes detected? True True\n"
     ]
    },
    {
     "name": "stderr",
     "output_type": "stream",
     "text": [
      "\u001b[A\n",
      " 72%|███████▏  | 862/1200 [05:49<02:49,  1.99it/s]"
     ]
    },
    {
     "name": "stdout",
     "output_type": "stream",
     "text": [
      "Sliding window being executed...\n",
      "715.608386974\n",
      "6006.65049527\n",
      "Sanity flag= 1\n",
      "Are lanes detected? True True\n"
     ]
    },
    {
     "name": "stderr",
     "output_type": "stream",
     "text": [
      "\u001b[A\n",
      " 72%|███████▏  | 863/1200 [05:50<03:14,  1.73it/s]"
     ]
    },
    {
     "name": "stdout",
     "output_type": "stream",
     "text": [
      "Sliding window being executed...\n",
      "822.260974691\n",
      "3011.83264331\n",
      "Sanity flag= 1\n",
      "Are lanes detected? True True\n"
     ]
    },
    {
     "name": "stderr",
     "output_type": "stream",
     "text": [
      "\u001b[A\n",
      " 72%|███████▏  | 864/1200 [05:50<03:28,  1.61it/s]"
     ]
    },
    {
     "name": "stdout",
     "output_type": "stream",
     "text": [
      "Sliding window being executed...\n",
      "889.443881788\n",
      "1721.4105059\n",
      "Sanity flag= 1\n",
      "Are lanes detected? True True\n"
     ]
    },
    {
     "name": "stderr",
     "output_type": "stream",
     "text": [
      "\u001b[A\n",
      " 72%|███████▏  | 865/1200 [05:51<03:37,  1.54it/s]"
     ]
    },
    {
     "name": "stdout",
     "output_type": "stream",
     "text": [
      "Sliding window being executed...\n",
      "1828.6855003\n",
      "2616.92324591\n",
      "Sanity flag= 1\n",
      "Are lanes detected? True True\n"
     ]
    },
    {
     "name": "stderr",
     "output_type": "stream",
     "text": [
      "\u001b[A\n",
      " 72%|███████▏  | 866/1200 [05:52<03:42,  1.50it/s]"
     ]
    },
    {
     "name": "stdout",
     "output_type": "stream",
     "text": [
      "Sliding window being executed...\n",
      "1527.99055242\n",
      "1714.57284947\n",
      "Sanity flag= 1\n",
      "Are lanes detected? True True\n"
     ]
    },
    {
     "name": "stderr",
     "output_type": "stream",
     "text": [
      "\u001b[A\n",
      " 72%|███████▏  | 867/1200 [05:53<03:46,  1.47it/s]"
     ]
    },
    {
     "name": "stdout",
     "output_type": "stream",
     "text": [
      "Sliding window being executed...\n",
      "14446.67381\n",
      "1335.17545744\n",
      "Sanity flag= 1\n",
      "Are lanes detected? True True\n"
     ]
    },
    {
     "name": "stderr",
     "output_type": "stream",
     "text": [
      "\u001b[A\n",
      " 72%|███████▏  | 868/1200 [05:53<03:49,  1.45it/s]"
     ]
    },
    {
     "name": "stdout",
     "output_type": "stream",
     "text": [
      "Sliding window being executed...\n",
      "583.816517221\n",
      "691.407602785\n",
      "Sanity flag= 0\n",
      "Are lanes detected? True True\n"
     ]
    },
    {
     "name": "stderr",
     "output_type": "stream",
     "text": [
      "\u001b[A\n",
      " 72%|███████▏  | 869/1200 [05:54<03:53,  1.42it/s]"
     ]
    },
    {
     "name": "stdout",
     "output_type": "stream",
     "text": [
      "Sliding window being executed...\n",
      "507.057303047\n",
      "1484.98661429\n",
      "Sanity flag= 1\n",
      "Are lanes detected? True True\n"
     ]
    },
    {
     "name": "stderr",
     "output_type": "stream",
     "text": [
      "\u001b[A\n",
      " 72%|███████▎  | 870/1200 [05:54<03:24,  1.61it/s]"
     ]
    },
    {
     "name": "stdout",
     "output_type": "stream",
     "text": [
      "Sliding window being executed...\n",
      "328.121140517\n",
      "2067.76107316\n",
      "Sanity flag= 1\n",
      "Are lanes detected? True True\n"
     ]
    },
    {
     "name": "stderr",
     "output_type": "stream",
     "text": [
      "\u001b[A\n",
      " 73%|███████▎  | 871/1200 [05:55<03:03,  1.79it/s]"
     ]
    },
    {
     "name": "stdout",
     "output_type": "stream",
     "text": [
      "Sliding window being executed...\n",
      "313.746442192\n",
      "25526.3498682\n",
      "Sanity flag= 1\n",
      "Are lanes detected? True True\n"
     ]
    },
    {
     "name": "stderr",
     "output_type": "stream",
     "text": [
      "\u001b[A\n",
      " 73%|███████▎  | 872/1200 [05:55<02:50,  1.92it/s]"
     ]
    },
    {
     "name": "stdout",
     "output_type": "stream",
     "text": [
      "Sliding window being executed...\n",
      "751.813482568\n",
      "1932.99254066\n",
      "Sanity flag= 1\n",
      "Are lanes detected? True True\n"
     ]
    },
    {
     "name": "stderr",
     "output_type": "stream",
     "text": [
      "\u001b[A\n",
      " 73%|███████▎  | 873/1200 [05:56<02:40,  2.04it/s]"
     ]
    },
    {
     "name": "stdout",
     "output_type": "stream",
     "text": [
      "Sliding window being executed...\n",
      "715.9989395\n",
      "543.360324884\n",
      "Sanity flag= 0\n",
      "Are lanes detected? True True\n"
     ]
    },
    {
     "name": "stderr",
     "output_type": "stream",
     "text": [
      "\u001b[A\n",
      " 73%|███████▎  | 874/1200 [05:56<02:31,  2.16it/s]"
     ]
    },
    {
     "name": "stdout",
     "output_type": "stream",
     "text": [
      "Sliding window being executed...\n",
      "8029.87178078\n",
      "491.453214275\n",
      "Sanity flag= 1\n",
      "Are lanes detected? True True\n"
     ]
    },
    {
     "name": "stderr",
     "output_type": "stream",
     "text": [
      "\u001b[A\n",
      " 73%|███████▎  | 875/1200 [05:57<02:24,  2.25it/s]"
     ]
    },
    {
     "name": "stdout",
     "output_type": "stream",
     "text": [
      "Sliding window being executed...\n",
      "357.171879168\n",
      "1104.9140644\n",
      "Sanity flag= 0\n",
      "Are lanes detected? True True\n"
     ]
    },
    {
     "name": "stderr",
     "output_type": "stream",
     "text": [
      "\u001b[A\n",
      " 73%|███████▎  | 876/1200 [05:57<02:18,  2.33it/s]"
     ]
    },
    {
     "name": "stdout",
     "output_type": "stream",
     "text": [
      "Sliding window being executed...\n",
      "460.989992566\n",
      "3036.26775642\n",
      "Sanity flag= 1\n",
      "Are lanes detected? True True\n"
     ]
    },
    {
     "name": "stderr",
     "output_type": "stream",
     "text": [
      "\u001b[A\n",
      " 73%|███████▎  | 877/1200 [05:57<02:14,  2.40it/s]"
     ]
    },
    {
     "name": "stdout",
     "output_type": "stream",
     "text": [
      "Sliding window being executed...\n",
      "781.332533311\n",
      "3929.27267552\n",
      "Sanity flag= 1\n",
      "Are lanes detected? True True\n"
     ]
    },
    {
     "name": "stderr",
     "output_type": "stream",
     "text": [
      "\u001b[A\n",
      " 73%|███████▎  | 878/1200 [05:58<02:11,  2.44it/s]"
     ]
    },
    {
     "name": "stdout",
     "output_type": "stream",
     "text": [
      "Sliding window being executed...\n",
      "194.97622157\n",
      "246.752005924\n",
      "Sanity flag= 1\n",
      "Are lanes detected? True True\n"
     ]
    },
    {
     "name": "stderr",
     "output_type": "stream",
     "text": [
      "\u001b[A\n",
      " 73%|███████▎  | 879/1200 [05:58<02:09,  2.48it/s]"
     ]
    },
    {
     "name": "stdout",
     "output_type": "stream",
     "text": [
      "Sliding window being executed...\n",
      "223.84093842\n",
      "561.538185595\n",
      "Sanity flag= 1\n",
      "Are lanes detected? True True\n"
     ]
    },
    {
     "name": "stderr",
     "output_type": "stream",
     "text": [
      "\u001b[A\n",
      " 73%|███████▎  | 880/1200 [05:58<02:06,  2.53it/s]"
     ]
    },
    {
     "name": "stdout",
     "output_type": "stream",
     "text": [
      "Sliding window being executed...\n",
      "153.653880152\n",
      "245.629111936\n",
      "Sanity flag= 0\n",
      "Are lanes detected? True True\n"
     ]
    },
    {
     "name": "stderr",
     "output_type": "stream",
     "text": [
      "\u001b[A\n",
      " 73%|███████▎  | 881/1200 [05:59<02:05,  2.53it/s]"
     ]
    },
    {
     "name": "stdout",
     "output_type": "stream",
     "text": [
      "Sliding window being executed...\n",
      "150.512572561\n",
      "273.57377728\n",
      "Sanity flag= 0\n",
      "Are lanes detected? True True\n"
     ]
    },
    {
     "name": "stderr",
     "output_type": "stream",
     "text": [
      "\u001b[A\n",
      " 74%|███████▎  | 882/1200 [05:59<02:03,  2.57it/s]"
     ]
    },
    {
     "name": "stdout",
     "output_type": "stream",
     "text": [
      "Sliding window being executed...\n",
      "150.023872672\n",
      "248.959774017\n",
      "Sanity flag= 0\n",
      "Are lanes detected? True True\n"
     ]
    },
    {
     "name": "stderr",
     "output_type": "stream",
     "text": [
      "\u001b[A\n",
      " 74%|███████▎  | 883/1200 [06:00<02:09,  2.45it/s]"
     ]
    },
    {
     "name": "stdout",
     "output_type": "stream",
     "text": [
      "Sliding window being executed...\n",
      "154.526156577\n",
      "252.335059733\n",
      "Sanity flag= 0\n",
      "Are lanes detected? True True\n"
     ]
    },
    {
     "name": "stderr",
     "output_type": "stream",
     "text": [
      "\u001b[A\n",
      " 74%|███████▎  | 884/1200 [06:00<02:05,  2.53it/s]"
     ]
    },
    {
     "name": "stdout",
     "output_type": "stream",
     "text": [
      "Sliding window being executed...\n",
      "150.516007343\n",
      "289.594085681\n",
      "Sanity flag= 0\n",
      "Are lanes detected? True True\n"
     ]
    },
    {
     "name": "stderr",
     "output_type": "stream",
     "text": [
      "\u001b[A\n",
      " 74%|███████▍  | 885/1200 [06:00<02:03,  2.55it/s]"
     ]
    },
    {
     "name": "stdout",
     "output_type": "stream",
     "text": [
      "Sliding window being executed...\n",
      "146.331249169\n",
      "280.589515228\n",
      "Sanity flag= 0\n",
      "Are lanes detected? True True\n"
     ]
    },
    {
     "name": "stderr",
     "output_type": "stream",
     "text": [
      "\u001b[A\n",
      " 74%|███████▍  | 886/1200 [06:01<02:01,  2.58it/s]"
     ]
    },
    {
     "name": "stdout",
     "output_type": "stream",
     "text": [
      "Sliding window being executed...\n",
      "176.641355843\n",
      "239.20088716\n",
      "Sanity flag= 0\n",
      "Are lanes detected? True True\n"
     ]
    },
    {
     "name": "stderr",
     "output_type": "stream",
     "text": [
      "\u001b[A\n",
      " 74%|███████▍  | 887/1200 [06:01<02:02,  2.56it/s]"
     ]
    },
    {
     "name": "stdout",
     "output_type": "stream",
     "text": [
      "Sliding window being executed...\n",
      "172.997481391\n",
      "247.348025547\n",
      "Sanity flag= 0\n",
      "Are lanes detected? True True\n"
     ]
    },
    {
     "name": "stderr",
     "output_type": "stream",
     "text": [
      "\u001b[A\n",
      " 74%|███████▍  | 888/1200 [06:02<02:01,  2.56it/s]"
     ]
    },
    {
     "name": "stdout",
     "output_type": "stream",
     "text": [
      "Sliding window being executed...\n",
      "179.267436556\n",
      "249.373839345\n",
      "Sanity flag= 0\n",
      "Are lanes detected? True True\n"
     ]
    },
    {
     "name": "stderr",
     "output_type": "stream",
     "text": [
      "\u001b[A\n",
      " 74%|███████▍  | 889/1200 [06:02<02:00,  2.58it/s]"
     ]
    },
    {
     "name": "stdout",
     "output_type": "stream",
     "text": [
      "Sliding window being executed...\n",
      "301.914696296\n",
      "235.432309086\n",
      "Sanity flag= 0\n",
      "Are lanes detected? True True\n"
     ]
    },
    {
     "name": "stderr",
     "output_type": "stream",
     "text": [
      "\u001b[A\n",
      " 74%|███████▍  | 890/1200 [06:02<01:58,  2.61it/s]"
     ]
    },
    {
     "name": "stdout",
     "output_type": "stream",
     "text": [
      "Sliding window being executed...\n",
      "173.325321128\n",
      "232.317866276\n",
      "Sanity flag= 0\n",
      "Are lanes detected? True True\n"
     ]
    },
    {
     "name": "stderr",
     "output_type": "stream",
     "text": [
      "\u001b[A\n",
      " 74%|███████▍  | 891/1200 [06:03<01:58,  2.60it/s]"
     ]
    },
    {
     "name": "stdout",
     "output_type": "stream",
     "text": [
      "Sliding window being executed...\n",
      "134.255405437\n",
      "202.554392715\n",
      "Sanity flag= 0\n",
      "Are lanes detected? True True\n"
     ]
    },
    {
     "name": "stderr",
     "output_type": "stream",
     "text": [
      "\u001b[A\n",
      " 74%|███████▍  | 892/1200 [06:03<01:57,  2.61it/s]"
     ]
    },
    {
     "name": "stdout",
     "output_type": "stream",
     "text": [
      "Sliding window being executed...\n",
      "86.3586349616\n",
      "244.880432139\n",
      "Sanity flag= 1\n",
      "Are lanes detected? True True\n"
     ]
    },
    {
     "name": "stderr",
     "output_type": "stream",
     "text": [
      "\u001b[A\n",
      " 74%|███████▍  | 893/1200 [06:03<01:57,  2.61it/s]"
     ]
    },
    {
     "name": "stdout",
     "output_type": "stream",
     "text": [
      "Sliding window being executed...\n",
      "85.0738253242\n",
      "151.091720976\n",
      "Sanity flag= 1\n",
      "Are lanes detected? True True\n"
     ]
    },
    {
     "name": "stderr",
     "output_type": "stream",
     "text": [
      "\u001b[A\n",
      " 74%|███████▍  | 894/1200 [06:04<01:57,  2.61it/s]"
     ]
    },
    {
     "name": "stdout",
     "output_type": "stream",
     "text": [
      "Sliding window being executed...\n",
      "116.766795738\n",
      "175.03917225\n",
      "Sanity flag= 0\n",
      "Are lanes detected? True True\n"
     ]
    },
    {
     "name": "stderr",
     "output_type": "stream",
     "text": [
      "\u001b[A\n",
      " 75%|███████▍  | 895/1200 [06:04<01:57,  2.60it/s]"
     ]
    },
    {
     "name": "stdout",
     "output_type": "stream",
     "text": [
      "Sliding window being executed...\n",
      "151.95128606\n",
      "169.452610858\n",
      "Sanity flag= 0\n",
      "Are lanes detected? True True\n"
     ]
    },
    {
     "name": "stderr",
     "output_type": "stream",
     "text": [
      "\u001b[A\n",
      " 75%|███████▍  | 896/1200 [06:05<01:57,  2.59it/s]"
     ]
    },
    {
     "name": "stdout",
     "output_type": "stream",
     "text": [
      "Sliding window being executed...\n",
      "202.098971231\n",
      "157.749467168\n",
      "Sanity flag= 0\n",
      "Are lanes detected? True True\n"
     ]
    },
    {
     "name": "stderr",
     "output_type": "stream",
     "text": [
      "\u001b[A\n",
      " 75%|███████▍  | 897/1200 [06:05<01:56,  2.60it/s]"
     ]
    },
    {
     "name": "stdout",
     "output_type": "stream",
     "text": [
      "Sliding window being executed...\n",
      "63.9277745422\n",
      "154.809834011\n",
      "Sanity flag= 1\n",
      "Are lanes detected? True True\n"
     ]
    },
    {
     "name": "stderr",
     "output_type": "stream",
     "text": [
      "\u001b[A\n",
      " 75%|███████▍  | 898/1200 [06:05<01:55,  2.60it/s]"
     ]
    },
    {
     "name": "stdout",
     "output_type": "stream",
     "text": [
      "Sliding window being executed...\n",
      "61.7703591361\n",
      "166.094496093\n",
      "Sanity flag= 1\n",
      "Are lanes detected? True True\n"
     ]
    },
    {
     "name": "stderr",
     "output_type": "stream",
     "text": [
      "\u001b[A\n",
      " 75%|███████▍  | 899/1200 [06:06<01:55,  2.61it/s]"
     ]
    },
    {
     "name": "stdout",
     "output_type": "stream",
     "text": [
      "Sliding window being executed...\n",
      "75.6570579542\n",
      "170.017791188\n",
      "Sanity flag= 1\n",
      "Are lanes detected? True True\n"
     ]
    },
    {
     "name": "stderr",
     "output_type": "stream",
     "text": [
      "\u001b[A\n",
      " 75%|███████▌  | 900/1200 [06:06<01:54,  2.62it/s]"
     ]
    },
    {
     "name": "stdout",
     "output_type": "stream",
     "text": [
      "Sliding window being executed...\n",
      "68.9789699841\n",
      "161.716998709\n",
      "Sanity flag= 1\n",
      "Are lanes detected? True True\n"
     ]
    },
    {
     "name": "stderr",
     "output_type": "stream",
     "text": [
      "\u001b[A\n",
      " 75%|███████▌  | 901/1200 [06:07<01:54,  2.62it/s]"
     ]
    },
    {
     "name": "stdout",
     "output_type": "stream",
     "text": [
      "Sliding window being executed...\n",
      "62.9266926349\n",
      "226.526317484\n",
      "Sanity flag= 1\n",
      "Are lanes detected? True True\n"
     ]
    },
    {
     "name": "stderr",
     "output_type": "stream",
     "text": [
      "\u001b[A\n",
      " 75%|███████▌  | 902/1200 [06:07<01:52,  2.64it/s]"
     ]
    },
    {
     "name": "stdout",
     "output_type": "stream",
     "text": [
      "Sliding window being executed...\n",
      "78.2301833208\n",
      "191.989078787\n",
      "Sanity flag= 1\n",
      "Are lanes detected? True True\n"
     ]
    },
    {
     "name": "stderr",
     "output_type": "stream",
     "text": [
      "\u001b[A\n",
      " 75%|███████▌  | 903/1200 [06:07<01:51,  2.66it/s]"
     ]
    },
    {
     "name": "stdout",
     "output_type": "stream",
     "text": [
      "Sliding window being executed...\n",
      "61.052814982\n",
      "155.165259055\n",
      "Sanity flag= 1\n",
      "Are lanes detected? True True\n"
     ]
    },
    {
     "name": "stderr",
     "output_type": "stream",
     "text": [
      "\u001b[A\n",
      " 75%|███████▌  | 904/1200 [06:08<01:51,  2.66it/s]"
     ]
    },
    {
     "name": "stdout",
     "output_type": "stream",
     "text": [
      "Sliding window being executed...\n",
      "87.3362036728\n",
      "182.977538882\n",
      "Sanity flag= 1\n",
      "Are lanes detected? True True\n"
     ]
    },
    {
     "name": "stderr",
     "output_type": "stream",
     "text": [
      "\u001b[A\n",
      " 75%|███████▌  | 905/1200 [06:08<01:50,  2.67it/s]"
     ]
    },
    {
     "name": "stdout",
     "output_type": "stream",
     "text": [
      "Sliding window being executed...\n",
      "612.308142859\n",
      "205.898849664\n",
      "Sanity flag= 0\n",
      "Are lanes detected? True True\n"
     ]
    },
    {
     "name": "stderr",
     "output_type": "stream",
     "text": [
      "\u001b[A\n",
      " 76%|███████▌  | 906/1200 [06:08<01:49,  2.68it/s]"
     ]
    },
    {
     "name": "stdout",
     "output_type": "stream",
     "text": [
      "Sliding window being executed...\n",
      "576.86307761\n",
      "246.268142817\n",
      "Sanity flag= 1\n",
      "Are lanes detected? True True\n"
     ]
    },
    {
     "name": "stderr",
     "output_type": "stream",
     "text": [
      "\u001b[A\n",
      " 76%|███████▌  | 907/1200 [06:09<01:49,  2.67it/s]"
     ]
    },
    {
     "name": "stdout",
     "output_type": "stream",
     "text": [
      "Sliding window being executed...\n",
      "215.492823496\n",
      "186.148466988\n",
      "Sanity flag= 1\n",
      "Are lanes detected? True True\n"
     ]
    },
    {
     "name": "stderr",
     "output_type": "stream",
     "text": [
      "\u001b[A\n",
      " 76%|███████▌  | 908/1200 [06:09<01:50,  2.65it/s]"
     ]
    },
    {
     "name": "stdout",
     "output_type": "stream",
     "text": [
      "Sliding window being executed...\n",
      "70.9683176222\n",
      "194.112808899\n",
      "Sanity flag= 1\n",
      "Are lanes detected? True True\n"
     ]
    },
    {
     "name": "stderr",
     "output_type": "stream",
     "text": [
      "\u001b[A\n",
      " 76%|███████▌  | 909/1200 [06:10<01:50,  2.64it/s]"
     ]
    },
    {
     "name": "stdout",
     "output_type": "stream",
     "text": [
      "Sliding window being executed...\n",
      "129.492421131\n",
      "229.653354443\n",
      "Sanity flag= 1\n",
      "Are lanes detected? True True\n"
     ]
    },
    {
     "name": "stderr",
     "output_type": "stream",
     "text": [
      "\u001b[A\n",
      " 76%|███████▌  | 910/1200 [06:10<01:50,  2.62it/s]"
     ]
    },
    {
     "name": "stdout",
     "output_type": "stream",
     "text": [
      "Sliding window being executed...\n",
      "96.3377872697\n",
      "231.776971258\n",
      "Sanity flag= 1\n",
      "Are lanes detected? True True\n"
     ]
    },
    {
     "name": "stderr",
     "output_type": "stream",
     "text": [
      "\u001b[A\n",
      " 76%|███████▌  | 911/1200 [06:10<01:56,  2.48it/s]"
     ]
    },
    {
     "name": "stdout",
     "output_type": "stream",
     "text": [
      "Sliding window being executed...\n",
      "5287.04236864\n",
      "271.333655177\n",
      "Sanity flag= 1\n",
      "Are lanes detected? True True\n"
     ]
    },
    {
     "name": "stderr",
     "output_type": "stream",
     "text": [
      "\u001b[A\n",
      " 76%|███████▌  | 912/1200 [06:11<01:57,  2.46it/s]"
     ]
    },
    {
     "name": "stdout",
     "output_type": "stream",
     "text": [
      "Sliding window being executed...\n",
      "327.129340329\n",
      "169.6654865\n",
      "Sanity flag= 1\n",
      "Are lanes detected? True True\n"
     ]
    },
    {
     "name": "stderr",
     "output_type": "stream",
     "text": [
      "\u001b[A\n",
      " 76%|███████▌  | 913/1200 [06:11<01:59,  2.41it/s]"
     ]
    },
    {
     "name": "stdout",
     "output_type": "stream",
     "text": [
      "Sliding window being executed...\n",
      "374.175575758\n",
      "185.65345857\n",
      "Sanity flag= 1\n",
      "Are lanes detected? True True\n"
     ]
    },
    {
     "name": "stderr",
     "output_type": "stream",
     "text": [
      "\u001b[A\n",
      " 76%|███████▌  | 914/1200 [06:12<02:01,  2.35it/s]"
     ]
    },
    {
     "name": "stdout",
     "output_type": "stream",
     "text": [
      "Sliding window being executed...\n",
      "276.287824649\n",
      "175.634608647\n",
      "Sanity flag= 1\n",
      "Are lanes detected? True True\n"
     ]
    },
    {
     "name": "stderr",
     "output_type": "stream",
     "text": [
      "\u001b[A\n",
      " 76%|███████▋  | 915/1200 [06:12<02:03,  2.31it/s]"
     ]
    },
    {
     "name": "stdout",
     "output_type": "stream",
     "text": [
      "Sliding window being executed...\n",
      "473.655022946\n",
      "143.160850391\n",
      "Sanity flag= 1\n",
      "Are lanes detected? True True\n"
     ]
    },
    {
     "name": "stderr",
     "output_type": "stream",
     "text": [
      "\u001b[A\n",
      " 76%|███████▋  | 916/1200 [06:13<01:58,  2.40it/s]"
     ]
    },
    {
     "name": "stdout",
     "output_type": "stream",
     "text": [
      "Sliding window being executed...\n",
      "239.701508114\n",
      "164.222852568\n",
      "Sanity flag= 1\n",
      "Are lanes detected? True True\n"
     ]
    },
    {
     "name": "stderr",
     "output_type": "stream",
     "text": [
      "\u001b[A\n",
      " 76%|███████▋  | 917/1200 [06:13<01:55,  2.46it/s]"
     ]
    },
    {
     "name": "stdout",
     "output_type": "stream",
     "text": [
      "Sliding window being executed...\n",
      "103.3757433\n",
      "208.713710223\n",
      "Sanity flag= 1\n",
      "Are lanes detected? True True\n"
     ]
    },
    {
     "name": "stderr",
     "output_type": "stream",
     "text": [
      "\u001b[A\n",
      " 76%|███████▋  | 918/1200 [06:13<01:53,  2.49it/s]"
     ]
    },
    {
     "name": "stdout",
     "output_type": "stream",
     "text": [
      "Sliding window being executed...\n",
      "114.315467748\n",
      "261.320407901\n",
      "Sanity flag= 1\n",
      "Are lanes detected? True True\n"
     ]
    },
    {
     "name": "stderr",
     "output_type": "stream",
     "text": [
      "\u001b[A\n",
      " 77%|███████▋  | 919/1200 [06:14<01:53,  2.47it/s]"
     ]
    },
    {
     "name": "stdout",
     "output_type": "stream",
     "text": [
      "Sliding window being executed...\n",
      "1283.76596572\n",
      "208.616608241\n",
      "Sanity flag= 1\n",
      "Are lanes detected? True True\n"
     ]
    },
    {
     "name": "stderr",
     "output_type": "stream",
     "text": [
      "\u001b[A\n",
      " 77%|███████▋  | 920/1200 [06:14<01:54,  2.46it/s]"
     ]
    },
    {
     "name": "stdout",
     "output_type": "stream",
     "text": [
      "Sliding window being executed...\n",
      "192.861498272\n",
      "196.970931803\n",
      "Sanity flag= 1\n",
      "Are lanes detected? True True\n"
     ]
    },
    {
     "name": "stderr",
     "output_type": "stream",
     "text": [
      "\u001b[A\n",
      " 77%|███████▋  | 921/1200 [06:15<01:54,  2.44it/s]"
     ]
    },
    {
     "name": "stdout",
     "output_type": "stream",
     "text": [
      "Sliding window being executed...\n",
      "185.505141385\n",
      "169.412627843\n",
      "Sanity flag= 1\n",
      "Are lanes detected? True True\n"
     ]
    },
    {
     "name": "stderr",
     "output_type": "stream",
     "text": [
      "\u001b[A\n",
      " 77%|███████▋  | 922/1200 [06:15<01:52,  2.48it/s]"
     ]
    },
    {
     "name": "stdout",
     "output_type": "stream",
     "text": [
      "Sliding window being executed...\n",
      "1004.52828901\n",
      "226.315377873\n",
      "Sanity flag= 0\n",
      "Are lanes detected? True True\n"
     ]
    },
    {
     "name": "stderr",
     "output_type": "stream",
     "text": [
      "\u001b[A\n",
      " 77%|███████▋  | 923/1200 [06:15<01:53,  2.45it/s]"
     ]
    },
    {
     "name": "stdout",
     "output_type": "stream",
     "text": [
      "Sliding window being executed...\n",
      "1227.80389399\n",
      "250.422013639\n",
      "Sanity flag= 1\n",
      "Are lanes detected? True True\n"
     ]
    },
    {
     "name": "stderr",
     "output_type": "stream",
     "text": [
      "\u001b[A\n",
      " 77%|███████▋  | 924/1200 [06:16<01:50,  2.50it/s]"
     ]
    },
    {
     "name": "stdout",
     "output_type": "stream",
     "text": [
      "Sliding window being executed...\n",
      "1176.47117933\n",
      "239.254201329\n",
      "Sanity flag= 1\n",
      "Are lanes detected? True True\n"
     ]
    },
    {
     "name": "stderr",
     "output_type": "stream",
     "text": [
      "\u001b[A\n",
      " 77%|███████▋  | 925/1200 [06:16<01:50,  2.49it/s]"
     ]
    },
    {
     "name": "stdout",
     "output_type": "stream",
     "text": [
      "Sliding window being executed...\n",
      "894.743629385\n",
      "204.634783562\n",
      "Sanity flag= 1\n",
      "Are lanes detected? True True\n"
     ]
    },
    {
     "name": "stderr",
     "output_type": "stream",
     "text": [
      "\u001b[A\n",
      " 77%|███████▋  | 926/1200 [06:17<01:48,  2.53it/s]"
     ]
    },
    {
     "name": "stdout",
     "output_type": "stream",
     "text": [
      "Sliding window being executed...\n",
      "3663.97323475\n",
      "717.804668665\n",
      "Sanity flag= 1\n",
      "Are lanes detected? True True\n"
     ]
    },
    {
     "name": "stderr",
     "output_type": "stream",
     "text": [
      "\u001b[A\n",
      " 77%|███████▋  | 927/1200 [06:17<01:45,  2.58it/s]"
     ]
    },
    {
     "name": "stdout",
     "output_type": "stream",
     "text": [
      "Sliding window being executed...\n",
      "8699.79163503\n",
      "771.25462789\n",
      "Sanity flag= 1\n",
      "Are lanes detected? True True\n"
     ]
    },
    {
     "name": "stderr",
     "output_type": "stream",
     "text": [
      "\u001b[A\n",
      " 77%|███████▋  | 928/1200 [06:17<01:45,  2.59it/s]"
     ]
    },
    {
     "name": "stdout",
     "output_type": "stream",
     "text": [
      "Sliding window being executed...\n",
      "1472.13380604\n",
      "8050.74150696\n",
      "Sanity flag= 1\n",
      "Are lanes detected? True True\n"
     ]
    },
    {
     "name": "stderr",
     "output_type": "stream",
     "text": [
      "\u001b[A\n",
      " 77%|███████▋  | 929/1200 [06:18<01:44,  2.59it/s]"
     ]
    },
    {
     "name": "stdout",
     "output_type": "stream",
     "text": [
      "Sliding window being executed...\n",
      "411.049503525\n",
      "1303.45531188\n",
      "Sanity flag= 1\n",
      "Are lanes detected? True True\n"
     ]
    },
    {
     "name": "stderr",
     "output_type": "stream",
     "text": [
      "\u001b[A\n",
      " 78%|███████▊  | 930/1200 [06:18<01:46,  2.53it/s]"
     ]
    },
    {
     "name": "stdout",
     "output_type": "stream",
     "text": [
      "Sliding window being executed...\n",
      "234.73600258\n",
      "3123.67542461\n",
      "Sanity flag= 1\n",
      "Are lanes detected? True True\n"
     ]
    },
    {
     "name": "stderr",
     "output_type": "stream",
     "text": [
      "\u001b[A\n",
      " 78%|███████▊  | 931/1200 [06:18<01:47,  2.50it/s]"
     ]
    },
    {
     "name": "stdout",
     "output_type": "stream",
     "text": [
      "Sliding window being executed...\n",
      "175.373396285\n",
      "1166.54678281\n",
      "Sanity flag= 1\n",
      "Are lanes detected? True True\n"
     ]
    },
    {
     "name": "stderr",
     "output_type": "stream",
     "text": [
      "\u001b[A\n",
      " 78%|███████▊  | 932/1200 [06:19<01:43,  2.59it/s]"
     ]
    },
    {
     "name": "stdout",
     "output_type": "stream",
     "text": [
      "Sliding window being executed...\n",
      "179.016717394\n",
      "1078.12686438\n",
      "Sanity flag= 1\n",
      "Are lanes detected? True True\n"
     ]
    },
    {
     "name": "stderr",
     "output_type": "stream",
     "text": [
      "\u001b[A\n",
      " 78%|███████▊  | 933/1200 [06:19<01:42,  2.61it/s]"
     ]
    },
    {
     "name": "stdout",
     "output_type": "stream",
     "text": [
      "Sliding window being executed...\n",
      "1029.95453288\n",
      "1189.01273428\n",
      "Sanity flag= 0\n",
      "Are lanes detected? True True\n"
     ]
    },
    {
     "name": "stderr",
     "output_type": "stream",
     "text": [
      "\u001b[A\n",
      " 78%|███████▊  | 934/1200 [06:20<01:43,  2.57it/s]"
     ]
    },
    {
     "name": "stdout",
     "output_type": "stream",
     "text": [
      "Sliding window being executed...\n",
      "517.876614745\n",
      "1072.70856916\n",
      "Sanity flag= 0\n",
      "Are lanes detected? True True\n"
     ]
    },
    {
     "name": "stderr",
     "output_type": "stream",
     "text": [
      "\u001b[A\n",
      " 78%|███████▊  | 935/1200 [06:20<01:42,  2.59it/s]"
     ]
    },
    {
     "name": "stdout",
     "output_type": "stream",
     "text": [
      "Sliding window being executed...\n",
      "377.108410159\n",
      "1021.94548155\n",
      "Sanity flag= 0\n",
      "Are lanes detected? True True\n"
     ]
    },
    {
     "name": "stderr",
     "output_type": "stream",
     "text": [
      "\u001b[A\n",
      " 78%|███████▊  | 936/1200 [06:20<01:41,  2.61it/s]"
     ]
    },
    {
     "name": "stdout",
     "output_type": "stream",
     "text": [
      "Sliding window being executed...\n",
      "322.692124596\n",
      "187.089171574\n",
      "Sanity flag= 0\n",
      "Are lanes detected? True True\n"
     ]
    },
    {
     "name": "stderr",
     "output_type": "stream",
     "text": [
      "\u001b[A\n",
      " 78%|███████▊  | 937/1200 [06:21<01:40,  2.62it/s]"
     ]
    },
    {
     "name": "stdout",
     "output_type": "stream",
     "text": [
      "Sliding window being executed...\n",
      "235.636191508\n",
      "1746.10408273\n",
      "Sanity flag= 1\n",
      "Are lanes detected? True True\n"
     ]
    },
    {
     "name": "stderr",
     "output_type": "stream",
     "text": [
      "\u001b[A\n",
      " 78%|███████▊  | 938/1200 [06:21<01:39,  2.64it/s]"
     ]
    },
    {
     "name": "stdout",
     "output_type": "stream",
     "text": [
      "Sliding window being executed...\n",
      "577.659170622\n",
      "1037.77544506\n",
      "Sanity flag= 0\n",
      "Are lanes detected? True True\n"
     ]
    },
    {
     "name": "stderr",
     "output_type": "stream",
     "text": [
      "\u001b[A\n",
      " 78%|███████▊  | 939/1200 [06:22<01:41,  2.58it/s]"
     ]
    },
    {
     "name": "stdout",
     "output_type": "stream",
     "text": [
      "Sliding window being executed...\n",
      "1322.23258241\n",
      "198.702316798\n",
      "Sanity flag= 1\n",
      "Are lanes detected? True True\n"
     ]
    },
    {
     "name": "stderr",
     "output_type": "stream",
     "text": [
      "\u001b[A\n",
      " 78%|███████▊  | 940/1200 [06:22<01:39,  2.62it/s]"
     ]
    },
    {
     "name": "stdout",
     "output_type": "stream",
     "text": [
      "Sliding window being executed...\n",
      "205.137569657\n",
      "42.3914825262\n",
      "Sanity flag= 1\n",
      "Are lanes detected? True True\n"
     ]
    },
    {
     "name": "stderr",
     "output_type": "stream",
     "text": [
      "\u001b[A\n",
      " 78%|███████▊  | 941/1200 [06:22<01:40,  2.58it/s]"
     ]
    },
    {
     "name": "stdout",
     "output_type": "stream",
     "text": [
      "Sliding window being executed...\n",
      "185.000455497\n",
      "533.074208346\n",
      "Sanity flag= 1\n",
      "Are lanes detected? True True\n"
     ]
    },
    {
     "name": "stderr",
     "output_type": "stream",
     "text": [
      "\u001b[A\n",
      " 78%|███████▊  | 942/1200 [06:23<01:38,  2.61it/s]"
     ]
    },
    {
     "name": "stdout",
     "output_type": "stream",
     "text": [
      "Sliding window being executed...\n",
      "171.084255387\n",
      "271.227251891\n",
      "Sanity flag= 0\n",
      "Are lanes detected? True True\n"
     ]
    },
    {
     "name": "stderr",
     "output_type": "stream",
     "text": [
      "\u001b[A\n",
      " 79%|███████▊  | 943/1200 [06:23<01:43,  2.49it/s]"
     ]
    },
    {
     "name": "stdout",
     "output_type": "stream",
     "text": [
      "Sliding window being executed...\n",
      "186.085968431\n",
      "229.653540063\n",
      "Sanity flag= 0\n",
      "Are lanes detected? True True\n"
     ]
    },
    {
     "name": "stderr",
     "output_type": "stream",
     "text": [
      "\u001b[A\n",
      " 79%|███████▊  | 944/1200 [06:23<01:39,  2.57it/s]"
     ]
    },
    {
     "name": "stdout",
     "output_type": "stream",
     "text": [
      "Sliding window being executed...\n",
      "163.85763936\n",
      "334.347913729\n",
      "Sanity flag= 1\n",
      "Are lanes detected? True True\n"
     ]
    },
    {
     "name": "stderr",
     "output_type": "stream",
     "text": [
      "\u001b[A\n",
      " 79%|███████▉  | 945/1200 [06:24<01:38,  2.58it/s]"
     ]
    },
    {
     "name": "stdout",
     "output_type": "stream",
     "text": [
      "Sliding window being executed...\n",
      "223.802468739\n",
      "316.363326075\n",
      "Sanity flag= 0\n",
      "Are lanes detected? True True\n"
     ]
    },
    {
     "name": "stderr",
     "output_type": "stream",
     "text": [
      "\u001b[A\n",
      " 79%|███████▉  | 946/1200 [06:24<01:38,  2.58it/s]"
     ]
    },
    {
     "name": "stdout",
     "output_type": "stream",
     "text": [
      "Sliding window being executed...\n",
      "367.182061997\n",
      "201.133004152\n",
      "Sanity flag= 0\n",
      "Are lanes detected? True True\n"
     ]
    },
    {
     "name": "stderr",
     "output_type": "stream",
     "text": [
      "\u001b[A\n",
      " 79%|███████▉  | 947/1200 [06:25<01:37,  2.59it/s]"
     ]
    },
    {
     "name": "stdout",
     "output_type": "stream",
     "text": [
      "Sliding window being executed...\n",
      "298.683900481\n",
      "554.220273305\n",
      "Sanity flag= 1\n",
      "Are lanes detected? True True\n"
     ]
    },
    {
     "name": "stderr",
     "output_type": "stream",
     "text": [
      "\u001b[A\n",
      " 79%|███████▉  | 948/1200 [06:25<01:35,  2.63it/s]"
     ]
    },
    {
     "name": "stdout",
     "output_type": "stream",
     "text": [
      "Sliding window being executed...\n",
      "229.327628701\n",
      "1971.75559294\n",
      "Sanity flag= 1\n",
      "Are lanes detected? True True\n"
     ]
    },
    {
     "name": "stderr",
     "output_type": "stream",
     "text": [
      "\u001b[A\n",
      " 79%|███████▉  | 949/1200 [06:25<01:35,  2.63it/s]"
     ]
    },
    {
     "name": "stdout",
     "output_type": "stream",
     "text": [
      "Sliding window being executed...\n",
      "106.511111159\n",
      "558.667083713\n",
      "Sanity flag= 1\n",
      "Are lanes detected? True True\n"
     ]
    },
    {
     "name": "stderr",
     "output_type": "stream",
     "text": [
      "\u001b[A\n",
      " 79%|███████▉  | 950/1200 [06:26<01:36,  2.60it/s]"
     ]
    },
    {
     "name": "stdout",
     "output_type": "stream",
     "text": [
      "Sliding window being executed...\n",
      "86.9254479536\n",
      "213.312159179\n",
      "Sanity flag= 1\n",
      "Are lanes detected? True True\n"
     ]
    },
    {
     "name": "stderr",
     "output_type": "stream",
     "text": [
      "\u001b[A\n",
      " 79%|███████▉  | 951/1200 [06:26<01:35,  2.60it/s]"
     ]
    },
    {
     "name": "stdout",
     "output_type": "stream",
     "text": [
      "Sliding window being executed...\n",
      "270.36932355\n",
      "878.373265815\n",
      "Sanity flag= 1\n",
      "Are lanes detected? True True\n"
     ]
    },
    {
     "name": "stderr",
     "output_type": "stream",
     "text": [
      "\u001b[A\n",
      " 79%|███████▉  | 952/1200 [06:27<01:35,  2.59it/s]"
     ]
    },
    {
     "name": "stdout",
     "output_type": "stream",
     "text": [
      "Sliding window being executed...\n",
      "29.4100274054\n",
      "221.505174668\n",
      "Sanity flag= 1\n",
      "Are lanes detected? True True\n"
     ]
    },
    {
     "name": "stderr",
     "output_type": "stream",
     "text": [
      "\u001b[A\n",
      " 79%|███████▉  | 953/1200 [06:27<01:34,  2.62it/s]"
     ]
    },
    {
     "name": "stdout",
     "output_type": "stream",
     "text": [
      "Sliding window being executed...\n",
      "29.5271119639\n",
      "753.480194559\n",
      "Sanity flag= 1\n",
      "Are lanes detected? True True\n"
     ]
    },
    {
     "name": "stderr",
     "output_type": "stream",
     "text": [
      "\u001b[A\n",
      " 80%|███████▉  | 954/1200 [06:27<01:34,  2.60it/s]"
     ]
    },
    {
     "name": "stdout",
     "output_type": "stream",
     "text": [
      "Sliding window being executed...\n",
      "747.843640207\n",
      "604.13650341\n",
      "Sanity flag= 0\n",
      "Are lanes detected? True True\n"
     ]
    },
    {
     "name": "stderr",
     "output_type": "stream",
     "text": [
      "\u001b[A\n",
      " 80%|███████▉  | 955/1200 [06:28<01:33,  2.63it/s]"
     ]
    },
    {
     "name": "stdout",
     "output_type": "stream",
     "text": [
      "Sliding window being executed...\n",
      "1217.14664527\n",
      "5040.54526959\n",
      "Sanity flag= 1\n",
      "Are lanes detected? True True\n"
     ]
    },
    {
     "name": "stderr",
     "output_type": "stream",
     "text": [
      "\u001b[A\n",
      " 80%|███████▉  | 956/1200 [06:28<01:31,  2.67it/s]"
     ]
    },
    {
     "name": "stdout",
     "output_type": "stream",
     "text": [
      "Sliding window being executed...\n",
      "486.058370261\n",
      "228.291222079\n",
      "Sanity flag= 1\n",
      "Are lanes detected? True True\n"
     ]
    },
    {
     "name": "stderr",
     "output_type": "stream",
     "text": [
      "\u001b[A\n",
      " 80%|███████▉  | 957/1200 [06:28<01:29,  2.71it/s]"
     ]
    },
    {
     "name": "stdout",
     "output_type": "stream",
     "text": [
      "Sliding window being executed...\n",
      "411.325900605\n",
      "28.9292139696\n",
      "Sanity flag= 1\n",
      "Are lanes detected? True True\n"
     ]
    },
    {
     "name": "stderr",
     "output_type": "stream",
     "text": [
      "\u001b[A\n",
      " 80%|███████▉  | 958/1200 [06:29<01:28,  2.74it/s]"
     ]
    },
    {
     "name": "stdout",
     "output_type": "stream",
     "text": [
      "Sliding window being executed...\n",
      "1170.90938565\n",
      "457.062732605\n",
      "Sanity flag= 0\n",
      "Are lanes detected? True True\n"
     ]
    },
    {
     "name": "stderr",
     "output_type": "stream",
     "text": [
      "\u001b[A\n",
      " 80%|███████▉  | 959/1200 [06:29<01:28,  2.73it/s]"
     ]
    },
    {
     "name": "stdout",
     "output_type": "stream",
     "text": [
      "Sliding window being executed...\n",
      "598.169788818\n",
      "20.7185562202\n",
      "Sanity flag= 1\n",
      "Are lanes detected? True True\n"
     ]
    },
    {
     "name": "stderr",
     "output_type": "stream",
     "text": [
      "\u001b[A\n",
      " 80%|████████  | 960/1200 [06:29<01:27,  2.75it/s]"
     ]
    },
    {
     "name": "stdout",
     "output_type": "stream",
     "text": [
      "Sliding window being executed...\n",
      "816.403937624\n",
      "48.4121842408\n",
      "Sanity flag= 1\n",
      "Are lanes detected? True True\n"
     ]
    },
    {
     "name": "stderr",
     "output_type": "stream",
     "text": [
      "\u001b[A\n",
      " 80%|████████  | 961/1200 [06:30<01:27,  2.73it/s]"
     ]
    },
    {
     "name": "stdout",
     "output_type": "stream",
     "text": [
      "Sliding window being executed...\n",
      "1595.79245377\n",
      "16.2554415327\n",
      "Sanity flag= 1\n",
      "Are lanes detected? True True\n"
     ]
    },
    {
     "name": "stderr",
     "output_type": "stream",
     "text": [
      "\u001b[A\n",
      " 80%|████████  | 962/1200 [06:30<01:24,  2.83it/s]"
     ]
    },
    {
     "name": "stdout",
     "output_type": "stream",
     "text": [
      "Sliding window being executed...\n",
      "499.865648137\n",
      "45.7765583494\n",
      "Sanity flag= 1\n",
      "Are lanes detected? True True\n"
     ]
    },
    {
     "name": "stderr",
     "output_type": "stream",
     "text": [
      "\u001b[A\n",
      " 80%|████████  | 963/1200 [06:31<01:24,  2.81it/s]"
     ]
    },
    {
     "name": "stdout",
     "output_type": "stream",
     "text": [
      "Sliding window being executed...\n",
      "184.414848028\n",
      "46.0091225239\n",
      "Sanity flag= 1\n",
      "Are lanes detected? True True\n"
     ]
    },
    {
     "name": "stderr",
     "output_type": "stream",
     "text": [
      "\u001b[A\n",
      " 80%|████████  | 964/1200 [06:31<01:31,  2.58it/s]"
     ]
    },
    {
     "name": "stdout",
     "output_type": "stream",
     "text": [
      "Sliding window being executed...\n",
      "892.228432191\n",
      "27.0663864993\n",
      "Sanity flag= 1\n",
      "Are lanes detected? True True\n"
     ]
    },
    {
     "name": "stderr",
     "output_type": "stream",
     "text": [
      "\u001b[A\n",
      " 80%|████████  | 965/1200 [06:31<01:25,  2.74it/s]"
     ]
    },
    {
     "name": "stdout",
     "output_type": "stream",
     "text": [
      "Sliding window being executed...\n",
      "413.676064429\n",
      "25.0580213945\n",
      "Sanity flag= 1\n",
      "Are lanes detected? True True\n"
     ]
    },
    {
     "name": "stderr",
     "output_type": "stream",
     "text": [
      "\u001b[A\n",
      " 80%|████████  | 966/1200 [06:32<01:24,  2.78it/s]"
     ]
    },
    {
     "name": "stdout",
     "output_type": "stream",
     "text": [
      "Sliding window being executed...\n",
      "717.01301957\n",
      "28.9214099397\n",
      "Sanity flag= 1\n",
      "Are lanes detected? True True\n"
     ]
    },
    {
     "name": "stderr",
     "output_type": "stream",
     "text": [
      "\u001b[A\n",
      " 81%|████████  | 967/1200 [06:32<01:22,  2.82it/s]"
     ]
    },
    {
     "name": "stdout",
     "output_type": "stream",
     "text": [
      "Sliding window being executed...\n",
      "643.48331509\n",
      "64.5170850741\n",
      "Sanity flag= 1\n",
      "Are lanes detected? True True\n"
     ]
    },
    {
     "name": "stderr",
     "output_type": "stream",
     "text": [
      "\u001b[A\n",
      " 81%|████████  | 968/1200 [06:32<01:28,  2.64it/s]"
     ]
    },
    {
     "name": "stdout",
     "output_type": "stream",
     "text": [
      "Sliding window being executed...\n",
      "431.424283544\n",
      "34.5832325958\n",
      "Sanity flag= 1\n",
      "Are lanes detected? True True\n"
     ]
    },
    {
     "name": "stderr",
     "output_type": "stream",
     "text": [
      "\u001b[A\n",
      " 81%|████████  | 969/1200 [06:33<01:31,  2.53it/s]"
     ]
    },
    {
     "name": "stdout",
     "output_type": "stream",
     "text": [
      "Sliding window being executed...\n",
      "85.5175967572\n",
      "32.9391965673\n",
      "Sanity flag= 1\n",
      "Are lanes detected? True True\n"
     ]
    },
    {
     "name": "stderr",
     "output_type": "stream",
     "text": [
      "\u001b[A\n",
      " 81%|████████  | 970/1200 [06:33<01:31,  2.52it/s]"
     ]
    },
    {
     "name": "stdout",
     "output_type": "stream",
     "text": [
      "Sliding window being executed...\n",
      "6.30926940798\n",
      "280.706932212\n",
      "Sanity flag= 1\n",
      "Are lanes detected? True True\n"
     ]
    },
    {
     "name": "stderr",
     "output_type": "stream",
     "text": [
      "\u001b[A\n",
      " 81%|████████  | 971/1200 [06:34<01:30,  2.54it/s]"
     ]
    },
    {
     "name": "stdout",
     "output_type": "stream",
     "text": [
      "Sliding window being executed...\n",
      "42.9428506997\n",
      "192.694228864\n",
      "Sanity flag= 1\n",
      "Are lanes detected? True True\n"
     ]
    },
    {
     "name": "stderr",
     "output_type": "stream",
     "text": [
      "\u001b[A\n",
      " 81%|████████  | 972/1200 [06:34<01:29,  2.53it/s]"
     ]
    },
    {
     "name": "stdout",
     "output_type": "stream",
     "text": [
      "Sliding window being executed...\n",
      "74.5467348327\n",
      "725.024167699\n",
      "Sanity flag= 1\n",
      "Are lanes detected? True True\n"
     ]
    },
    {
     "name": "stderr",
     "output_type": "stream",
     "text": [
      "\u001b[A\n",
      " 81%|████████  | 973/1200 [06:34<01:30,  2.50it/s]"
     ]
    },
    {
     "name": "stdout",
     "output_type": "stream",
     "text": [
      "Sliding window being executed...\n",
      "17.6587923731\n",
      "549.882908088\n",
      "Sanity flag= 1\n",
      "Are lanes detected? True True\n"
     ]
    },
    {
     "name": "stderr",
     "output_type": "stream",
     "text": [
      "\u001b[A\n",
      " 81%|████████  | 974/1200 [06:35<01:27,  2.59it/s]"
     ]
    },
    {
     "name": "stdout",
     "output_type": "stream",
     "text": [
      "Sliding window being executed...\n",
      "88.0270220012\n",
      "533.983918814\n",
      "Sanity flag= 1\n",
      "Are lanes detected? True True\n"
     ]
    },
    {
     "name": "stderr",
     "output_type": "stream",
     "text": [
      "\u001b[A\n",
      " 81%|████████▏ | 975/1200 [06:35<01:26,  2.60it/s]"
     ]
    },
    {
     "name": "stdout",
     "output_type": "stream",
     "text": [
      "Sliding window being executed...\n",
      "17.401760692\n",
      "939.505685471\n",
      "Sanity flag= 1\n",
      "Are lanes detected? True True\n"
     ]
    },
    {
     "name": "stderr",
     "output_type": "stream",
     "text": [
      "\u001b[A\n",
      " 81%|████████▏ | 976/1200 [06:36<01:25,  2.63it/s]"
     ]
    },
    {
     "name": "stdout",
     "output_type": "stream",
     "text": [
      "Sliding window being executed...\n",
      "4075.2806781\n",
      "18372.8014947\n",
      "Sanity flag= 1\n",
      "Are lanes detected? True True\n"
     ]
    },
    {
     "name": "stderr",
     "output_type": "stream",
     "text": [
      "\u001b[A\n",
      " 81%|████████▏ | 977/1200 [06:36<01:25,  2.60it/s]"
     ]
    },
    {
     "name": "stdout",
     "output_type": "stream",
     "text": [
      "Sliding window being executed...\n",
      "14224.9353774\n",
      "1483.33018486\n",
      "Sanity flag= 1\n",
      "Are lanes detected? True True\n"
     ]
    },
    {
     "name": "stderr",
     "output_type": "stream",
     "text": [
      "\u001b[A\n",
      " 82%|████████▏ | 978/1200 [06:36<01:28,  2.52it/s]"
     ]
    },
    {
     "name": "stdout",
     "output_type": "stream",
     "text": [
      "Sliding window being executed...\n",
      "755.190421148\n",
      "959.162124888\n",
      "Sanity flag= 0\n",
      "Are lanes detected? True True\n"
     ]
    },
    {
     "name": "stderr",
     "output_type": "stream",
     "text": [
      "\u001b[A\n",
      " 82%|████████▏ | 979/1200 [06:37<01:26,  2.56it/s]"
     ]
    },
    {
     "name": "stdout",
     "output_type": "stream",
     "text": [
      "Sliding window being executed...\n",
      "397.864030016\n",
      "24.3454495983\n",
      "Sanity flag= 1\n",
      "Are lanes detected? True True\n"
     ]
    },
    {
     "name": "stderr",
     "output_type": "stream",
     "text": [
      "\u001b[A\n",
      " 82%|████████▏ | 980/1200 [06:37<01:24,  2.60it/s]"
     ]
    },
    {
     "name": "stdout",
     "output_type": "stream",
     "text": [
      "Sliding window being executed...\n",
      "497.260483\n",
      "29.8783963418\n",
      "Sanity flag= 1\n",
      "Are lanes detected? True True\n"
     ]
    },
    {
     "name": "stderr",
     "output_type": "stream",
     "text": [
      "\u001b[A\n",
      " 82%|████████▏ | 981/1200 [06:38<01:23,  2.64it/s]"
     ]
    },
    {
     "name": "stdout",
     "output_type": "stream",
     "text": [
      "Sliding window being executed...\n",
      "23.0032498587\n",
      "20.2125008218\n",
      "Sanity flag= 1\n",
      "Are lanes detected? True True\n"
     ]
    },
    {
     "name": "stderr",
     "output_type": "stream",
     "text": [
      "\u001b[A\n",
      " 82%|████████▏ | 982/1200 [06:38<01:22,  2.65it/s]"
     ]
    },
    {
     "name": "stdout",
     "output_type": "stream",
     "text": [
      "Sliding window being executed...\n",
      "27.4662310093\n",
      "97.7522013055\n",
      "Sanity flag= 1\n",
      "Are lanes detected? True True\n"
     ]
    },
    {
     "name": "stderr",
     "output_type": "stream",
     "text": [
      "\u001b[A\n",
      " 82%|████████▏ | 983/1200 [06:38<01:22,  2.65it/s]"
     ]
    },
    {
     "name": "stdout",
     "output_type": "stream",
     "text": [
      "Sliding window being executed...\n",
      "21.9776516701\n",
      "213.66207456\n",
      "Sanity flag= 1\n",
      "Are lanes detected? True True\n"
     ]
    },
    {
     "name": "stderr",
     "output_type": "stream",
     "text": [
      "\u001b[A\n",
      " 82%|████████▏ | 984/1200 [06:39<01:23,  2.60it/s]"
     ]
    },
    {
     "name": "stdout",
     "output_type": "stream",
     "text": [
      "Sliding window being executed...\n",
      "173.822536564\n",
      "204.915942049\n",
      "Sanity flag= 0\n",
      "Are lanes detected? True True\n"
     ]
    },
    {
     "name": "stderr",
     "output_type": "stream",
     "text": [
      "\u001b[A\n",
      " 82%|████████▏ | 985/1200 [06:39<01:24,  2.55it/s]"
     ]
    },
    {
     "name": "stdout",
     "output_type": "stream",
     "text": [
      "Sliding window being executed...\n",
      "12.5960329891\n",
      "13.512079334\n",
      "Sanity flag= 1\n",
      "Are lanes detected? True True\n"
     ]
    },
    {
     "name": "stderr",
     "output_type": "stream",
     "text": [
      "\u001b[A\n",
      " 82%|████████▏ | 986/1200 [06:39<01:25,  2.49it/s]"
     ]
    },
    {
     "name": "stdout",
     "output_type": "stream",
     "text": [
      "Sliding window being executed...\n",
      "12.0870114291\n",
      "12.228618063\n",
      "Sanity flag= 1\n",
      "Are lanes detected? True True\n"
     ]
    },
    {
     "name": "stderr",
     "output_type": "stream",
     "text": [
      "\u001b[A\n",
      " 82%|████████▏ | 987/1200 [06:40<01:28,  2.41it/s]"
     ]
    },
    {
     "name": "stdout",
     "output_type": "stream",
     "text": [
      "Sliding window being executed...\n",
      "11.6212601918\n",
      "11.6560364622\n",
      "Sanity flag= 0\n",
      "Are lanes detected? True True\n"
     ]
    },
    {
     "name": "stderr",
     "output_type": "stream",
     "text": [
      "\u001b[A\n",
      " 82%|████████▏ | 988/1200 [06:40<01:23,  2.52it/s]"
     ]
    },
    {
     "name": "stdout",
     "output_type": "stream",
     "text": [
      "Sliding window being executed...\n",
      "11.1726562029\n",
      "10.928265983\n",
      "Sanity flag= 1\n",
      "Are lanes detected? True True\n"
     ]
    },
    {
     "name": "stderr",
     "output_type": "stream",
     "text": [
      "\u001b[A\n",
      " 82%|████████▏ | 989/1200 [06:41<01:25,  2.48it/s]"
     ]
    },
    {
     "name": "stdout",
     "output_type": "stream",
     "text": [
      "Sliding window being executed...\n",
      "9.97405357742\n",
      "16.5529340545\n",
      "Sanity flag= 1\n",
      "Are lanes detected? True True\n"
     ]
    },
    {
     "name": "stderr",
     "output_type": "stream",
     "text": [
      "\u001b[A\n",
      " 82%|████████▎ | 990/1200 [06:41<01:23,  2.52it/s]"
     ]
    },
    {
     "name": "stdout",
     "output_type": "stream",
     "text": [
      "Sliding window being executed...\n",
      "8.5455936745\n",
      "503.192492654\n",
      "Sanity flag= 1\n",
      "Are lanes detected? True True\n"
     ]
    },
    {
     "name": "stderr",
     "output_type": "stream",
     "text": [
      "\u001b[A\n",
      " 83%|████████▎ | 991/1200 [06:41<01:21,  2.55it/s]"
     ]
    },
    {
     "name": "stdout",
     "output_type": "stream",
     "text": [
      "Sliding window being executed...\n",
      "7.99499147765\n",
      "360.289214155\n",
      "Sanity flag= 1\n",
      "Are lanes detected? True True\n"
     ]
    },
    {
     "name": "stderr",
     "output_type": "stream",
     "text": [
      "\u001b[A\n",
      " 83%|████████▎ | 992/1200 [06:42<01:20,  2.58it/s]"
     ]
    },
    {
     "name": "stdout",
     "output_type": "stream",
     "text": [
      "Sliding window being executed...\n",
      "2978.72494462\n",
      "5489.2286737\n",
      "Sanity flag= 1\n",
      "Are lanes detected? True True\n"
     ]
    },
    {
     "name": "stderr",
     "output_type": "stream",
     "text": [
      "\u001b[A\n",
      " 83%|████████▎ | 993/1200 [06:42<01:19,  2.61it/s]"
     ]
    },
    {
     "name": "stdout",
     "output_type": "stream",
     "text": [
      "Sliding window being executed...\n",
      "3058.38943478\n",
      "1323.78163116\n",
      "Sanity flag= 1\n",
      "Are lanes detected? True True\n"
     ]
    },
    {
     "name": "stderr",
     "output_type": "stream",
     "text": [
      "\u001b[A\n",
      " 83%|████████▎ | 994/1200 [06:43<01:19,  2.60it/s]"
     ]
    },
    {
     "name": "stdout",
     "output_type": "stream",
     "text": [
      "Sliding window being executed...\n",
      "484.311415625\n",
      "649.128475757\n",
      "Sanity flag= 0\n",
      "Are lanes detected? True True\n"
     ]
    },
    {
     "name": "stderr",
     "output_type": "stream",
     "text": [
      "\u001b[A\n",
      " 83%|████████▎ | 995/1200 [06:43<01:18,  2.62it/s]"
     ]
    },
    {
     "name": "stdout",
     "output_type": "stream",
     "text": [
      "Sliding window being executed...\n",
      "453.192056765\n",
      "58.4828591823\n",
      "Sanity flag= 1\n",
      "Are lanes detected? True True\n"
     ]
    },
    {
     "name": "stderr",
     "output_type": "stream",
     "text": [
      "\u001b[A\n",
      " 83%|████████▎ | 996/1200 [06:43<01:17,  2.62it/s]"
     ]
    },
    {
     "name": "stdout",
     "output_type": "stream",
     "text": [
      "Sliding window being executed...\n",
      "579.647134979\n",
      "22.2582800052\n",
      "Sanity flag= 1\n",
      "Are lanes detected? True True\n"
     ]
    },
    {
     "name": "stderr",
     "output_type": "stream",
     "text": [
      "\u001b[A\n",
      " 83%|████████▎ | 997/1200 [06:44<01:17,  2.62it/s]"
     ]
    },
    {
     "name": "stdout",
     "output_type": "stream",
     "text": [
      "Sliding window being executed...\n",
      "2.68508967986\n",
      "19.2506723132\n",
      "Sanity flag= 1\n",
      "Are lanes detected? True True\n"
     ]
    },
    {
     "name": "stderr",
     "output_type": "stream",
     "text": [
      "\u001b[A\n",
      " 83%|████████▎ | 998/1200 [06:44<01:16,  2.63it/s]"
     ]
    },
    {
     "name": "stdout",
     "output_type": "stream",
     "text": [
      "Sliding window being executed...\n",
      "1.40531604273\n",
      "32.2651942246\n",
      "Sanity flag= 1\n",
      "Are lanes detected? True True\n"
     ]
    },
    {
     "name": "stderr",
     "output_type": "stream",
     "text": [
      "\u001b[A\n",
      " 83%|████████▎ | 999/1200 [06:45<01:16,  2.63it/s]"
     ]
    },
    {
     "name": "stdout",
     "output_type": "stream",
     "text": [
      "Sliding window being executed...\n",
      "14.0027550687\n",
      "1998.29157009\n",
      "Sanity flag= 1\n",
      "Are lanes detected? True True\n"
     ]
    },
    {
     "name": "stderr",
     "output_type": "stream",
     "text": [
      "\u001b[A\n",
      " 83%|████████▎ | 1000/1200 [06:45<01:15,  2.63it/s]"
     ]
    },
    {
     "name": "stdout",
     "output_type": "stream",
     "text": [
      "Sliding window being executed...\n",
      "5.63517480759\n",
      "46.5760471046\n",
      "Sanity flag= 1\n",
      "Are lanes detected? True True\n"
     ]
    },
    {
     "name": "stderr",
     "output_type": "stream",
     "text": [
      "\u001b[A\n",
      " 83%|████████▎ | 1001/1200 [06:45<01:16,  2.62it/s]"
     ]
    },
    {
     "name": "stdout",
     "output_type": "stream",
     "text": [
      "Sliding window being executed...\n",
      "5.25183106001\n",
      "192.645872509\n",
      "Sanity flag= 1\n",
      "Are lanes detected? True True\n"
     ]
    },
    {
     "name": "stderr",
     "output_type": "stream",
     "text": [
      "\u001b[A\n",
      " 84%|████████▎ | 1002/1200 [06:46<01:15,  2.62it/s]"
     ]
    },
    {
     "name": "stdout",
     "output_type": "stream",
     "text": [
      "Sliding window being executed...\n",
      "15.7001093647\n",
      "53.9790513736\n",
      "Sanity flag= 1\n",
      "Are lanes detected? True True\n"
     ]
    },
    {
     "name": "stderr",
     "output_type": "stream",
     "text": [
      "\u001b[A\n",
      " 84%|████████▎ | 1003/1200 [06:46<01:17,  2.55it/s]"
     ]
    },
    {
     "name": "stdout",
     "output_type": "stream",
     "text": [
      "Sliding window being executed...\n",
      "7.43723756034\n",
      "35.4857660396\n",
      "Sanity flag= 1\n",
      "Are lanes detected? True True\n"
     ]
    },
    {
     "name": "stderr",
     "output_type": "stream",
     "text": [
      "\u001b[A\n",
      " 84%|████████▎ | 1004/1200 [06:46<01:15,  2.60it/s]"
     ]
    },
    {
     "name": "stdout",
     "output_type": "stream",
     "text": [
      "Sliding window being executed...\n",
      "165.256742075\n",
      "37.7027272538\n",
      "Sanity flag= 1\n",
      "Are lanes detected? True True\n"
     ]
    },
    {
     "name": "stderr",
     "output_type": "stream",
     "text": [
      "\u001b[A\n",
      " 84%|████████▍ | 1005/1200 [06:47<01:14,  2.63it/s]"
     ]
    },
    {
     "name": "stdout",
     "output_type": "stream",
     "text": [
      "Sliding window being executed...\n",
      "102.217776906\n",
      "36.7298028007\n",
      "Sanity flag= 1\n",
      "Are lanes detected? True True\n"
     ]
    },
    {
     "name": "stderr",
     "output_type": "stream",
     "text": [
      "\u001b[A\n",
      " 84%|████████▍ | 1006/1200 [06:47<01:13,  2.64it/s]"
     ]
    },
    {
     "name": "stdout",
     "output_type": "stream",
     "text": [
      "Sliding window being executed...\n",
      "30.0462149103\n",
      "66.6425293311\n",
      "Sanity flag= 1\n",
      "Are lanes detected? True True\n"
     ]
    },
    {
     "name": "stderr",
     "output_type": "stream",
     "text": [
      "\u001b[A\n",
      " 84%|████████▍ | 1007/1200 [06:48<01:12,  2.65it/s]"
     ]
    },
    {
     "name": "stdout",
     "output_type": "stream",
     "text": [
      "Sliding window being executed...\n",
      "62.8512525605\n",
      "10.1947352528\n",
      "Sanity flag= 1\n",
      "Are lanes detected? True True\n"
     ]
    },
    {
     "name": "stderr",
     "output_type": "stream",
     "text": [
      "\u001b[A\n",
      " 84%|████████▍ | 1008/1200 [06:48<01:11,  2.67it/s]"
     ]
    },
    {
     "name": "stdout",
     "output_type": "stream",
     "text": [
      "Sliding window being executed...\n",
      "108.104511916\n",
      "35.6065319878\n",
      "Sanity flag= 1\n",
      "Are lanes detected? True True\n"
     ]
    },
    {
     "name": "stderr",
     "output_type": "stream",
     "text": [
      "\u001b[A\n",
      " 84%|████████▍ | 1009/1200 [06:48<01:11,  2.67it/s]"
     ]
    },
    {
     "name": "stdout",
     "output_type": "stream",
     "text": [
      "Sliding window being executed...\n",
      "254.620400667\n",
      "15.1481611644\n",
      "Sanity flag= 1\n",
      "Are lanes detected? True True\n"
     ]
    },
    {
     "name": "stderr",
     "output_type": "stream",
     "text": [
      "\u001b[A\n",
      " 84%|████████▍ | 1010/1200 [06:49<01:10,  2.68it/s]"
     ]
    },
    {
     "name": "stdout",
     "output_type": "stream",
     "text": [
      "Sliding window being executed...\n",
      "9305.78913669\n",
      "12.1838395785\n",
      "Sanity flag= 1\n",
      "Are lanes detected? True True\n"
     ]
    },
    {
     "name": "stderr",
     "output_type": "stream",
     "text": [
      "\u001b[A\n",
      " 84%|████████▍ | 1011/1200 [06:49<01:10,  2.66it/s]"
     ]
    },
    {
     "name": "stdout",
     "output_type": "stream",
     "text": [
      "Sliding window being executed...\n",
      "692.748105969\n",
      "9.5048431477\n",
      "Sanity flag= 1\n",
      "Are lanes detected? True True\n"
     ]
    },
    {
     "name": "stderr",
     "output_type": "stream",
     "text": [
      "\u001b[A\n",
      " 84%|████████▍ | 1012/1200 [06:49<01:10,  2.66it/s]"
     ]
    },
    {
     "name": "stdout",
     "output_type": "stream",
     "text": [
      "Sliding window being executed...\n",
      "12.3388522425\n",
      "42.3341897439\n",
      "Sanity flag= 1\n",
      "Are lanes detected? True True\n"
     ]
    },
    {
     "name": "stderr",
     "output_type": "stream",
     "text": [
      "\u001b[A\n",
      " 84%|████████▍ | 1013/1200 [06:50<01:10,  2.66it/s]"
     ]
    },
    {
     "name": "stdout",
     "output_type": "stream",
     "text": [
      "Sliding window being executed...\n",
      "634.924378048\n",
      "39.5366298878\n",
      "Sanity flag= 1\n",
      "Are lanes detected? True True\n"
     ]
    },
    {
     "name": "stderr",
     "output_type": "stream",
     "text": [
      "\u001b[A\n",
      " 84%|████████▍ | 1014/1200 [06:50<01:09,  2.67it/s]"
     ]
    },
    {
     "name": "stdout",
     "output_type": "stream",
     "text": [
      "Sliding window being executed...\n",
      "16.6475678597\n",
      "62.5239792981\n",
      "Sanity flag= 1\n",
      "Are lanes detected? True True\n"
     ]
    },
    {
     "name": "stderr",
     "output_type": "stream",
     "text": [
      "\u001b[A\n",
      " 85%|████████▍ | 1015/1200 [06:51<01:09,  2.66it/s]"
     ]
    },
    {
     "name": "stdout",
     "output_type": "stream",
     "text": [
      "Sliding window being executed...\n",
      "8.13649691056\n",
      "394.501877133\n",
      "Sanity flag= 1\n",
      "Are lanes detected? True True\n"
     ]
    },
    {
     "name": "stderr",
     "output_type": "stream",
     "text": [
      "\u001b[A\n",
      " 85%|████████▍ | 1016/1200 [06:51<01:08,  2.67it/s]"
     ]
    },
    {
     "name": "stdout",
     "output_type": "stream",
     "text": [
      "Sliding window being executed...\n",
      "182.904885093\n",
      "1447.50987072\n",
      "Sanity flag= 1\n",
      "Are lanes detected? True True\n"
     ]
    },
    {
     "name": "stderr",
     "output_type": "stream",
     "text": [
      "\u001b[A\n",
      " 85%|████████▍ | 1017/1200 [06:51<01:08,  2.66it/s]"
     ]
    },
    {
     "name": "stdout",
     "output_type": "stream",
     "text": [
      "Sliding window being executed...\n",
      "11.6216510084\n",
      "42.0469402424\n",
      "Sanity flag= 1\n",
      "Are lanes detected? True True\n"
     ]
    },
    {
     "name": "stderr",
     "output_type": "stream",
     "text": [
      "\u001b[A\n",
      " 85%|████████▍ | 1018/1200 [06:52<01:07,  2.68it/s]"
     ]
    },
    {
     "name": "stdout",
     "output_type": "stream",
     "text": [
      "Sliding window being executed...\n",
      "25.3027177461\n",
      "98.7159564818\n",
      "Sanity flag= 1\n",
      "Are lanes detected? True True\n"
     ]
    },
    {
     "name": "stderr",
     "output_type": "stream",
     "text": [
      "\u001b[A\n",
      " 85%|████████▍ | 1019/1200 [06:52<01:06,  2.70it/s]"
     ]
    },
    {
     "name": "stdout",
     "output_type": "stream",
     "text": [
      "Sliding window being executed...\n",
      "159.465081568\n",
      "25.3961481236\n",
      "Sanity flag= 1\n",
      "Are lanes detected? True True\n"
     ]
    },
    {
     "name": "stderr",
     "output_type": "stream",
     "text": [
      "\u001b[A\n",
      " 85%|████████▌ | 1020/1200 [06:52<01:07,  2.69it/s]"
     ]
    },
    {
     "name": "stdout",
     "output_type": "stream",
     "text": [
      "Sliding window being executed...\n",
      "13.1873691608\n",
      "14.4788444454\n",
      "Sanity flag= 1\n",
      "Are lanes detected? True True\n"
     ]
    },
    {
     "name": "stderr",
     "output_type": "stream",
     "text": [
      "\u001b[A\n",
      " 85%|████████▌ | 1021/1200 [06:53<01:06,  2.68it/s]"
     ]
    },
    {
     "name": "stdout",
     "output_type": "stream",
     "text": [
      "Sliding window being executed...\n",
      "16.9706574617\n",
      "225.934761077\n",
      "Sanity flag= 1\n",
      "Are lanes detected? True True\n"
     ]
    },
    {
     "name": "stderr",
     "output_type": "stream",
     "text": [
      "\u001b[A\n",
      " 85%|████████▌ | 1022/1200 [06:53<01:06,  2.69it/s]"
     ]
    },
    {
     "name": "stdout",
     "output_type": "stream",
     "text": [
      "Sliding window being executed...\n",
      "11.2751910969\n",
      "138.561638432\n",
      "Sanity flag= 1\n",
      "Are lanes detected? True True\n"
     ]
    },
    {
     "name": "stderr",
     "output_type": "stream",
     "text": [
      "\u001b[A\n",
      " 85%|████████▌ | 1023/1200 [06:54<01:05,  2.70it/s]"
     ]
    },
    {
     "name": "stdout",
     "output_type": "stream",
     "text": [
      "Sliding window being executed...\n",
      "9.92843526554\n",
      "193.824328797\n",
      "Sanity flag= 1\n",
      "Are lanes detected? True True\n"
     ]
    },
    {
     "name": "stderr",
     "output_type": "stream",
     "text": [
      "\u001b[A\n",
      " 85%|████████▌ | 1024/1200 [06:54<01:06,  2.66it/s]"
     ]
    },
    {
     "name": "stdout",
     "output_type": "stream",
     "text": [
      "Sliding window being executed...\n",
      "137.545300759\n",
      "207.856385445\n",
      "Sanity flag= 0\n",
      "Are lanes detected? True True\n"
     ]
    },
    {
     "name": "stderr",
     "output_type": "stream",
     "text": [
      "\u001b[A\n",
      " 85%|████████▌ | 1025/1200 [06:54<01:05,  2.67it/s]"
     ]
    },
    {
     "name": "stdout",
     "output_type": "stream",
     "text": [
      "Sliding window being executed...\n",
      "206.820525919\n",
      "189.712191259\n",
      "Sanity flag= 1\n",
      "Are lanes detected? True True\n"
     ]
    },
    {
     "name": "stderr",
     "output_type": "stream",
     "text": [
      "\u001b[A\n",
      " 86%|████████▌ | 1026/1200 [06:55<01:05,  2.66it/s]"
     ]
    },
    {
     "name": "stdout",
     "output_type": "stream",
     "text": [
      "Sliding window being executed...\n",
      "232.964882714\n",
      "609.533816938\n",
      "Sanity flag= 0\n",
      "Are lanes detected? True True\n"
     ]
    },
    {
     "name": "stderr",
     "output_type": "stream",
     "text": [
      "\u001b[A\n",
      " 86%|████████▌ | 1027/1200 [06:55<01:05,  2.64it/s]"
     ]
    },
    {
     "name": "stdout",
     "output_type": "stream",
     "text": [
      "Sliding window being executed...\n",
      "636.744818925\n",
      "379.408337\n",
      "Sanity flag= 0\n",
      "Are lanes detected? True True\n"
     ]
    },
    {
     "name": "stderr",
     "output_type": "stream",
     "text": [
      "\u001b[A\n",
      " 86%|████████▌ | 1028/1200 [06:55<01:05,  2.64it/s]"
     ]
    },
    {
     "name": "stdout",
     "output_type": "stream",
     "text": [
      "Sliding window being executed...\n",
      "520.46264793\n",
      "656.926763702\n",
      "Sanity flag= 0\n",
      "Are lanes detected? True True\n"
     ]
    },
    {
     "name": "stderr",
     "output_type": "stream",
     "text": [
      "\u001b[A\n",
      " 86%|████████▌ | 1029/1200 [06:56<01:04,  2.64it/s]"
     ]
    },
    {
     "name": "stdout",
     "output_type": "stream",
     "text": [
      "Sliding window being executed...\n",
      "138.41155439\n",
      "26825.863366\n",
      "Sanity flag= 1\n",
      "Are lanes detected? True True\n"
     ]
    },
    {
     "name": "stderr",
     "output_type": "stream",
     "text": [
      "\u001b[A\n",
      " 86%|████████▌ | 1030/1200 [06:56<01:04,  2.64it/s]"
     ]
    },
    {
     "name": "stdout",
     "output_type": "stream",
     "text": [
      "Sliding window being executed...\n",
      "203.885004255\n",
      "2145.00041363\n",
      "Sanity flag= 1\n",
      "Are lanes detected? True True\n"
     ]
    },
    {
     "name": "stderr",
     "output_type": "stream",
     "text": [
      "\u001b[A\n",
      " 86%|████████▌ | 1031/1200 [06:57<01:04,  2.63it/s]"
     ]
    },
    {
     "name": "stdout",
     "output_type": "stream",
     "text": [
      "Sliding window being executed...\n",
      "201278.415047\n",
      "4624.45149399\n",
      "Sanity flag= 1\n",
      "Are lanes detected? True True\n"
     ]
    },
    {
     "name": "stderr",
     "output_type": "stream",
     "text": [
      "\u001b[A\n",
      " 86%|████████▌ | 1032/1200 [06:57<01:04,  2.62it/s]"
     ]
    },
    {
     "name": "stdout",
     "output_type": "stream",
     "text": [
      "Sliding window being executed...\n",
      "714.475151489\n",
      "359.848075205\n",
      "Sanity flag= 0\n",
      "Are lanes detected? True True\n"
     ]
    },
    {
     "name": "stderr",
     "output_type": "stream",
     "text": [
      "\u001b[A\n",
      " 86%|████████▌ | 1033/1200 [06:57<01:05,  2.55it/s]"
     ]
    },
    {
     "name": "stdout",
     "output_type": "stream",
     "text": [
      "Sliding window being executed...\n",
      "812.360933079\n",
      "535.846421908\n",
      "Sanity flag= 0\n",
      "Are lanes detected? True True\n"
     ]
    },
    {
     "name": "stderr",
     "output_type": "stream",
     "text": [
      "\u001b[A\n",
      " 86%|████████▌ | 1034/1200 [06:58<01:03,  2.63it/s]"
     ]
    },
    {
     "name": "stdout",
     "output_type": "stream",
     "text": [
      "Sliding window being executed...\n",
      "315.208584576\n",
      "570.007791523\n",
      "Sanity flag= 1\n",
      "Are lanes detected? True True\n"
     ]
    },
    {
     "name": "stderr",
     "output_type": "stream",
     "text": [
      "\u001b[A\n",
      " 86%|████████▋ | 1035/1200 [06:58<01:02,  2.63it/s]"
     ]
    },
    {
     "name": "stdout",
     "output_type": "stream",
     "text": [
      "Sliding window being executed...\n",
      "211.355813438\n",
      "606.231817851\n",
      "Sanity flag= 1\n",
      "Are lanes detected? True True\n"
     ]
    },
    {
     "name": "stderr",
     "output_type": "stream",
     "text": [
      "\u001b[A\n",
      " 86%|████████▋ | 1036/1200 [06:58<01:02,  2.64it/s]"
     ]
    },
    {
     "name": "stdout",
     "output_type": "stream",
     "text": [
      "Sliding window being executed...\n",
      "115.858080148\n",
      "286.708493086\n",
      "Sanity flag= 1\n",
      "Are lanes detected? True True\n"
     ]
    },
    {
     "name": "stderr",
     "output_type": "stream",
     "text": [
      "\u001b[A\n",
      " 86%|████████▋ | 1037/1200 [06:59<01:02,  2.63it/s]"
     ]
    },
    {
     "name": "stdout",
     "output_type": "stream",
     "text": [
      "Sliding window being executed...\n",
      "344.878026727\n",
      "205.279621287\n",
      "Sanity flag= 1\n",
      "Are lanes detected? True True\n"
     ]
    },
    {
     "name": "stderr",
     "output_type": "stream",
     "text": [
      "\u001b[A\n",
      " 86%|████████▋ | 1038/1200 [06:59<01:01,  2.64it/s]"
     ]
    },
    {
     "name": "stdout",
     "output_type": "stream",
     "text": [
      "Sliding window being executed...\n",
      "90.9114761335\n",
      "1151.83072883\n",
      "Sanity flag= 1\n",
      "Are lanes detected? True True\n"
     ]
    },
    {
     "name": "stderr",
     "output_type": "stream",
     "text": [
      "\u001b[A\n",
      " 87%|████████▋ | 1039/1200 [07:00<01:00,  2.65it/s]"
     ]
    },
    {
     "name": "stdout",
     "output_type": "stream",
     "text": [
      "Sliding window being executed...\n",
      "207.52714828\n",
      "890.622664735\n",
      "Sanity flag= 1\n",
      "Are lanes detected? True True\n"
     ]
    },
    {
     "name": "stderr",
     "output_type": "stream",
     "text": [
      "\u001b[A\n",
      " 87%|████████▋ | 1040/1200 [07:00<01:00,  2.64it/s]"
     ]
    },
    {
     "name": "stdout",
     "output_type": "stream",
     "text": [
      "Sliding window being executed...\n",
      "1266.77313703\n",
      "111.502781832\n",
      "Sanity flag= 1\n",
      "Are lanes detected? True True\n"
     ]
    },
    {
     "name": "stderr",
     "output_type": "stream",
     "text": [
      "\u001b[A\n",
      " 87%|████████▋ | 1041/1200 [07:00<01:00,  2.64it/s]"
     ]
    },
    {
     "name": "stdout",
     "output_type": "stream",
     "text": [
      "Sliding window being executed...\n",
      "312.879032118\n",
      "1179.27121592\n",
      "Sanity flag= 1\n",
      "Are lanes detected? True True\n"
     ]
    },
    {
     "name": "stderr",
     "output_type": "stream",
     "text": [
      "\u001b[A\n",
      " 87%|████████▋ | 1042/1200 [07:01<00:59,  2.63it/s]"
     ]
    },
    {
     "name": "stdout",
     "output_type": "stream",
     "text": [
      "Sliding window being executed...\n",
      "822.987545968\n",
      "176.540790671\n",
      "Sanity flag= 1\n",
      "Are lanes detected? True True\n"
     ]
    },
    {
     "name": "stderr",
     "output_type": "stream",
     "text": [
      "\u001b[A\n",
      " 87%|████████▋ | 1043/1200 [07:01<00:59,  2.63it/s]"
     ]
    },
    {
     "name": "stdout",
     "output_type": "stream",
     "text": [
      "Sliding window being executed...\n",
      "959.046891118\n",
      "189.985292495\n",
      "Sanity flag= 1\n",
      "Are lanes detected? True True\n"
     ]
    },
    {
     "name": "stderr",
     "output_type": "stream",
     "text": [
      "\u001b[A\n",
      " 87%|████████▋ | 1044/1200 [07:02<00:59,  2.64it/s]"
     ]
    },
    {
     "name": "stdout",
     "output_type": "stream",
     "text": [
      "Sliding window being executed...\n",
      "131.794220695\n",
      "416.604516484\n",
      "Sanity flag= 1\n",
      "Are lanes detected? True True\n"
     ]
    },
    {
     "name": "stderr",
     "output_type": "stream",
     "text": [
      "\u001b[A\n",
      " 87%|████████▋ | 1045/1200 [07:02<00:58,  2.65it/s]"
     ]
    },
    {
     "name": "stdout",
     "output_type": "stream",
     "text": [
      "Sliding window being executed...\n",
      "310.529714668\n",
      "330.37423018\n",
      "Sanity flag= 1\n",
      "Are lanes detected? True True\n"
     ]
    },
    {
     "name": "stderr",
     "output_type": "stream",
     "text": [
      "\u001b[A\n",
      " 87%|████████▋ | 1046/1200 [07:02<00:58,  2.65it/s]"
     ]
    },
    {
     "name": "stdout",
     "output_type": "stream",
     "text": [
      "Sliding window being executed...\n",
      "184.44412156\n",
      "352.692680254\n",
      "Sanity flag= 1\n",
      "Are lanes detected? True True\n"
     ]
    },
    {
     "name": "stderr",
     "output_type": "stream",
     "text": [
      "\u001b[A\n",
      " 87%|████████▋ | 1047/1200 [07:03<00:58,  2.64it/s]"
     ]
    },
    {
     "name": "stdout",
     "output_type": "stream",
     "text": [
      "Sliding window being executed...\n",
      "148.410611442\n",
      "1311.55146824\n",
      "Sanity flag= 1\n",
      "Are lanes detected? True True\n"
     ]
    },
    {
     "name": "stderr",
     "output_type": "stream",
     "text": [
      "\u001b[A\n",
      " 87%|████████▋ | 1048/1200 [07:03<00:57,  2.65it/s]"
     ]
    },
    {
     "name": "stdout",
     "output_type": "stream",
     "text": [
      "Sliding window being executed...\n",
      "37.4120706568\n",
      "1212.49667112\n",
      "Sanity flag= 1\n",
      "Are lanes detected? True True\n"
     ]
    },
    {
     "name": "stderr",
     "output_type": "stream",
     "text": [
      "\u001b[A\n",
      " 87%|████████▋ | 1049/1200 [07:03<00:57,  2.65it/s]"
     ]
    },
    {
     "name": "stdout",
     "output_type": "stream",
     "text": [
      "Sliding window being executed...\n",
      "82.5103849877\n",
      "147.178614238\n",
      "Sanity flag= 1\n",
      "Are lanes detected? True True\n"
     ]
    },
    {
     "name": "stderr",
     "output_type": "stream",
     "text": [
      "\u001b[A\n",
      " 88%|████████▊ | 1050/1200 [07:04<00:57,  2.62it/s]"
     ]
    },
    {
     "name": "stdout",
     "output_type": "stream",
     "text": [
      "Sliding window being executed...\n",
      "488.735570477\n",
      "186.453466016\n",
      "Sanity flag= 1\n",
      "Are lanes detected? True True\n"
     ]
    },
    {
     "name": "stderr",
     "output_type": "stream",
     "text": [
      "\u001b[A\n",
      " 88%|████████▊ | 1051/1200 [07:04<00:56,  2.64it/s]"
     ]
    },
    {
     "name": "stdout",
     "output_type": "stream",
     "text": [
      "Sliding window being executed...\n",
      "584.946849471\n",
      "307.079206046\n",
      "Sanity flag= 0\n",
      "Are lanes detected? True True\n"
     ]
    },
    {
     "name": "stderr",
     "output_type": "stream",
     "text": [
      "\u001b[A\n",
      " 88%|████████▊ | 1052/1200 [07:05<00:55,  2.65it/s]"
     ]
    },
    {
     "name": "stdout",
     "output_type": "stream",
     "text": [
      "Sliding window being executed...\n",
      "477.974239196\n",
      "9232.01749107\n",
      "Sanity flag= 1\n",
      "Are lanes detected? True True\n"
     ]
    },
    {
     "name": "stderr",
     "output_type": "stream",
     "text": [
      "\u001b[A\n",
      " 88%|████████▊ | 1053/1200 [07:05<00:55,  2.65it/s]"
     ]
    },
    {
     "name": "stdout",
     "output_type": "stream",
     "text": [
      "Sliding window being executed...\n",
      "75.3946298813\n",
      "395.191744398\n",
      "Sanity flag= 1\n",
      "Are lanes detected? True True\n"
     ]
    },
    {
     "name": "stderr",
     "output_type": "stream",
     "text": [
      "\u001b[A\n",
      " 88%|████████▊ | 1054/1200 [07:05<00:54,  2.67it/s]"
     ]
    },
    {
     "name": "stdout",
     "output_type": "stream",
     "text": [
      "Sliding window being executed...\n",
      "43.4139251948\n",
      "1103.60653699\n",
      "Sanity flag= 1\n",
      "Are lanes detected? True True\n"
     ]
    },
    {
     "name": "stderr",
     "output_type": "stream",
     "text": [
      "\u001b[A\n",
      " 88%|████████▊ | 1055/1200 [07:06<01:02,  2.34it/s]"
     ]
    },
    {
     "name": "stdout",
     "output_type": "stream",
     "text": [
      "Sliding window being executed...\n",
      "41.9397686803\n",
      "1526.5606376\n",
      "Sanity flag= 1\n",
      "Are lanes detected? True True\n"
     ]
    },
    {
     "name": "stderr",
     "output_type": "stream",
     "text": [
      "\u001b[A\n",
      " 88%|████████▊ | 1056/1200 [07:06<01:10,  2.03it/s]"
     ]
    },
    {
     "name": "stdout",
     "output_type": "stream",
     "text": [
      "Sliding window being executed...\n",
      "39.2413617157\n",
      "494.366891633\n",
      "Sanity flag= 1\n",
      "Are lanes detected? True True\n"
     ]
    },
    {
     "name": "stderr",
     "output_type": "stream",
     "text": [
      "\u001b[A\n",
      " 88%|████████▊ | 1057/1200 [07:07<01:15,  1.88it/s]"
     ]
    },
    {
     "name": "stdout",
     "output_type": "stream",
     "text": [
      "Sliding window being executed...\n",
      "48.1872855903\n",
      "1097.68535419\n",
      "Sanity flag= 1\n",
      "Are lanes detected? True True\n"
     ]
    },
    {
     "name": "stderr",
     "output_type": "stream",
     "text": [
      "\u001b[A\n",
      " 88%|████████▊ | 1058/1200 [07:08<01:19,  1.79it/s]"
     ]
    },
    {
     "name": "stdout",
     "output_type": "stream",
     "text": [
      "Sliding window being executed...\n",
      "35.7296655867\n",
      "5138.7941015\n",
      "Sanity flag= 1\n",
      "Are lanes detected? True True\n"
     ]
    },
    {
     "name": "stderr",
     "output_type": "stream",
     "text": [
      "\u001b[A\n",
      " 88%|████████▊ | 1059/1200 [07:08<01:21,  1.73it/s]"
     ]
    },
    {
     "name": "stdout",
     "output_type": "stream",
     "text": [
      "Sliding window being executed...\n",
      "388.460125992\n",
      "348.652743191\n",
      "Sanity flag= 1\n",
      "Are lanes detected? True True\n"
     ]
    },
    {
     "name": "stderr",
     "output_type": "stream",
     "text": [
      "\u001b[A\n",
      " 88%|████████▊ | 1060/1200 [07:09<01:22,  1.71it/s]"
     ]
    },
    {
     "name": "stdout",
     "output_type": "stream",
     "text": [
      "Sliding window being executed...\n",
      "88.310332091\n",
      "183.068691844\n",
      "Sanity flag= 1\n",
      "Are lanes detected? True True\n"
     ]
    },
    {
     "name": "stderr",
     "output_type": "stream",
     "text": [
      "\u001b[A\n",
      " 88%|████████▊ | 1061/1200 [07:10<01:23,  1.67it/s]"
     ]
    },
    {
     "name": "stdout",
     "output_type": "stream",
     "text": [
      "Sliding window being executed...\n",
      "1183.08967655\n",
      "447.570729361\n",
      "Sanity flag= 0\n",
      "Are lanes detected? True True\n"
     ]
    },
    {
     "name": "stderr",
     "output_type": "stream",
     "text": [
      "\u001b[A\n",
      " 88%|████████▊ | 1062/1200 [07:10<01:23,  1.66it/s]"
     ]
    },
    {
     "name": "stdout",
     "output_type": "stream",
     "text": [
      "Sliding window being executed...\n",
      "277.074159779\n",
      "769.962345996\n",
      "Sanity flag= 1\n",
      "Are lanes detected? True True\n"
     ]
    },
    {
     "name": "stderr",
     "output_type": "stream",
     "text": [
      "\u001b[A\n",
      " 89%|████████▊ | 1063/1200 [07:11<01:24,  1.62it/s]"
     ]
    },
    {
     "name": "stdout",
     "output_type": "stream",
     "text": [
      "Sliding window being executed...\n",
      "458.97399772\n",
      "6003.20581415\n",
      "Sanity flag= 1\n",
      "Are lanes detected? True True\n"
     ]
    },
    {
     "name": "stderr",
     "output_type": "stream",
     "text": [
      "\u001b[A\n",
      " 89%|████████▊ | 1064/1200 [07:11<01:23,  1.62it/s]"
     ]
    },
    {
     "name": "stdout",
     "output_type": "stream",
     "text": [
      "Sliding window being executed...\n",
      "454.008398113\n",
      "110.987082348\n",
      "Sanity flag= 1\n",
      "Are lanes detected? True True\n"
     ]
    },
    {
     "name": "stderr",
     "output_type": "stream",
     "text": [
      "\u001b[A\n",
      " 89%|████████▉ | 1065/1200 [07:12<01:15,  1.79it/s]"
     ]
    },
    {
     "name": "stdout",
     "output_type": "stream",
     "text": [
      "Sliding window being executed...\n",
      "12814.0959098\n",
      "742.743278977\n",
      "Sanity flag= 1\n",
      "Are lanes detected? True True\n"
     ]
    },
    {
     "name": "stderr",
     "output_type": "stream",
     "text": [
      "\u001b[A\n",
      " 89%|████████▉ | 1066/1200 [07:12<01:07,  1.99it/s]"
     ]
    },
    {
     "name": "stdout",
     "output_type": "stream",
     "text": [
      "Sliding window being executed...\n",
      "151.207823838\n",
      "1202.82397127\n",
      "Sanity flag= 1\n",
      "Are lanes detected? True True\n"
     ]
    },
    {
     "name": "stderr",
     "output_type": "stream",
     "text": [
      "\u001b[A\n",
      " 89%|████████▉ | 1067/1200 [07:13<01:02,  2.14it/s]"
     ]
    },
    {
     "name": "stdout",
     "output_type": "stream",
     "text": [
      "Sliding window being executed...\n",
      "5452.03438404\n",
      "1611.82767916\n",
      "Sanity flag= 1\n",
      "Are lanes detected? True True\n"
     ]
    },
    {
     "name": "stderr",
     "output_type": "stream",
     "text": [
      "\u001b[A\n",
      " 89%|████████▉ | 1068/1200 [07:13<00:57,  2.28it/s]"
     ]
    },
    {
     "name": "stdout",
     "output_type": "stream",
     "text": [
      "Sliding window being executed...\n",
      "6414.10701938\n",
      "521.205989669\n",
      "Sanity flag= 1\n",
      "Are lanes detected? True True\n"
     ]
    },
    {
     "name": "stderr",
     "output_type": "stream",
     "text": [
      "\u001b[A\n",
      " 89%|████████▉ | 1069/1200 [07:13<00:55,  2.35it/s]"
     ]
    },
    {
     "name": "stdout",
     "output_type": "stream",
     "text": [
      "Sliding window being executed...\n",
      "859.657168222\n",
      "2283.35280081\n",
      "Sanity flag= 1\n",
      "Are lanes detected? True True\n"
     ]
    },
    {
     "name": "stderr",
     "output_type": "stream",
     "text": [
      "\u001b[A\n",
      " 89%|████████▉ | 1070/1200 [07:14<00:53,  2.43it/s]"
     ]
    },
    {
     "name": "stdout",
     "output_type": "stream",
     "text": [
      "Sliding window being executed...\n",
      "1226.71951851\n",
      "2069.76744634\n",
      "Sanity flag= 1\n",
      "Are lanes detected? True True\n"
     ]
    },
    {
     "name": "stderr",
     "output_type": "stream",
     "text": [
      "\u001b[A\n",
      " 89%|████████▉ | 1071/1200 [07:14<00:51,  2.49it/s]"
     ]
    },
    {
     "name": "stdout",
     "output_type": "stream",
     "text": [
      "Sliding window being executed...\n",
      "1953.26169818\n",
      "331.804307414\n",
      "Sanity flag= 1\n",
      "Are lanes detected? True True\n"
     ]
    },
    {
     "name": "stderr",
     "output_type": "stream",
     "text": [
      "\u001b[A\n",
      " 89%|████████▉ | 1072/1200 [07:15<00:50,  2.53it/s]"
     ]
    },
    {
     "name": "stdout",
     "output_type": "stream",
     "text": [
      "Sliding window being executed...\n",
      "2713.10985519\n",
      "6538.55893379\n",
      "Sanity flag= 1\n",
      "Are lanes detected? True True\n"
     ]
    },
    {
     "name": "stderr",
     "output_type": "stream",
     "text": [
      "\u001b[A\n",
      " 89%|████████▉ | 1073/1200 [07:15<00:49,  2.56it/s]"
     ]
    },
    {
     "name": "stdout",
     "output_type": "stream",
     "text": [
      "Sliding window being executed...\n",
      "393.870935876\n",
      "690.184502193\n",
      "Sanity flag= 0\n",
      "Are lanes detected? True True\n"
     ]
    },
    {
     "name": "stderr",
     "output_type": "stream",
     "text": [
      "\u001b[A\n",
      " 90%|████████▉ | 1074/1200 [07:15<00:48,  2.58it/s]"
     ]
    },
    {
     "name": "stdout",
     "output_type": "stream",
     "text": [
      "Sliding window being executed...\n",
      "5684.81372054\n",
      "2698.5240918\n",
      "Sanity flag= 1\n",
      "Are lanes detected? True True\n"
     ]
    },
    {
     "name": "stderr",
     "output_type": "stream",
     "text": [
      "\u001b[A\n",
      " 90%|████████▉ | 1075/1200 [07:16<00:48,  2.60it/s]"
     ]
    },
    {
     "name": "stdout",
     "output_type": "stream",
     "text": [
      "Sliding window being executed...\n",
      "150.949649868\n",
      "1125.13785695\n",
      "Sanity flag= 1\n",
      "Are lanes detected? True True\n"
     ]
    },
    {
     "name": "stderr",
     "output_type": "stream",
     "text": [
      "\u001b[A\n",
      " 90%|████████▉ | 1076/1200 [07:16<00:47,  2.61it/s]"
     ]
    },
    {
     "name": "stdout",
     "output_type": "stream",
     "text": [
      "Sliding window being executed...\n",
      "1185.29053901\n",
      "812.210987299\n",
      "Sanity flag= 0\n",
      "Are lanes detected? True True\n"
     ]
    },
    {
     "name": "stderr",
     "output_type": "stream",
     "text": [
      "\u001b[A\n",
      " 90%|████████▉ | 1077/1200 [07:16<00:47,  2.59it/s]"
     ]
    },
    {
     "name": "stdout",
     "output_type": "stream",
     "text": [
      "Sliding window being executed...\n",
      "737.875948593\n",
      "7971.61904719\n",
      "Sanity flag= 1\n",
      "Are lanes detected? True True\n"
     ]
    },
    {
     "name": "stderr",
     "output_type": "stream",
     "text": [
      "\u001b[A\n",
      " 90%|████████▉ | 1078/1200 [07:17<00:46,  2.60it/s]"
     ]
    },
    {
     "name": "stdout",
     "output_type": "stream",
     "text": [
      "Sliding window being executed...\n",
      "1037.18603513\n",
      "960.123056517\n",
      "Sanity flag= 0\n",
      "Are lanes detected? True True\n"
     ]
    },
    {
     "name": "stderr",
     "output_type": "stream",
     "text": [
      "\u001b[A\n",
      " 90%|████████▉ | 1079/1200 [07:17<00:46,  2.60it/s]"
     ]
    },
    {
     "name": "stdout",
     "output_type": "stream",
     "text": [
      "Sliding window being executed...\n",
      "19768.6630433\n",
      "1108.93928902\n",
      "Sanity flag= 1\n",
      "Are lanes detected? True True\n"
     ]
    },
    {
     "name": "stderr",
     "output_type": "stream",
     "text": [
      "\u001b[A\n",
      " 90%|█████████ | 1080/1200 [07:18<00:45,  2.61it/s]"
     ]
    },
    {
     "name": "stdout",
     "output_type": "stream",
     "text": [
      "Sliding window being executed...\n",
      "477.712613235\n",
      "904.943780113\n",
      "Sanity flag= 0\n",
      "Are lanes detected? True True\n"
     ]
    },
    {
     "name": "stderr",
     "output_type": "stream",
     "text": [
      "\u001b[A\n",
      " 90%|█████████ | 1081/1200 [07:18<00:46,  2.54it/s]"
     ]
    },
    {
     "name": "stdout",
     "output_type": "stream",
     "text": [
      "Sliding window being executed...\n",
      "1024.63793751\n",
      "1044.75313697\n",
      "Sanity flag= 0\n",
      "Are lanes detected? True True\n"
     ]
    },
    {
     "name": "stderr",
     "output_type": "stream",
     "text": [
      "\u001b[A\n",
      " 90%|█████████ | 1082/1200 [07:18<00:46,  2.56it/s]"
     ]
    },
    {
     "name": "stdout",
     "output_type": "stream",
     "text": [
      "Sliding window being executed...\n",
      "522.094869912\n",
      "3901.77477696\n",
      "Sanity flag= 1\n",
      "Are lanes detected? True True\n"
     ]
    },
    {
     "name": "stderr",
     "output_type": "stream",
     "text": [
      "\u001b[A\n",
      " 90%|█████████ | 1083/1200 [07:19<00:45,  2.59it/s]"
     ]
    },
    {
     "name": "stdout",
     "output_type": "stream",
     "text": [
      "Sliding window being executed...\n",
      "505.024749934\n",
      "6749.46465696\n",
      "Sanity flag= 1\n",
      "Are lanes detected? True True\n"
     ]
    },
    {
     "name": "stderr",
     "output_type": "stream",
     "text": [
      "\u001b[A\n",
      " 90%|█████████ | 1084/1200 [07:19<00:44,  2.61it/s]"
     ]
    },
    {
     "name": "stdout",
     "output_type": "stream",
     "text": [
      "Sliding window being executed...\n",
      "3906.04830786\n",
      "3524.42249962\n",
      "Sanity flag= 1\n",
      "Are lanes detected? True True\n"
     ]
    },
    {
     "name": "stderr",
     "output_type": "stream",
     "text": [
      "\u001b[A\n",
      " 90%|█████████ | 1085/1200 [07:20<00:43,  2.62it/s]"
     ]
    },
    {
     "name": "stdout",
     "output_type": "stream",
     "text": [
      "Sliding window being executed...\n",
      "244.054513789\n",
      "174810.500056\n",
      "Sanity flag= 1\n",
      "Are lanes detected? True True\n"
     ]
    },
    {
     "name": "stderr",
     "output_type": "stream",
     "text": [
      "\u001b[A\n",
      " 90%|█████████ | 1086/1200 [07:20<00:44,  2.57it/s]"
     ]
    },
    {
     "name": "stdout",
     "output_type": "stream",
     "text": [
      "Sliding window being executed...\n",
      "1325.29064092\n",
      "2439.14569758\n",
      "Sanity flag= 1\n",
      "Are lanes detected? True True\n"
     ]
    },
    {
     "name": "stderr",
     "output_type": "stream",
     "text": [
      "\u001b[A\n",
      " 91%|█████████ | 1087/1200 [07:20<00:43,  2.58it/s]"
     ]
    },
    {
     "name": "stdout",
     "output_type": "stream",
     "text": [
      "Sliding window being executed...\n",
      "546.11226821\n",
      "1923.69191341\n",
      "Sanity flag= 1\n",
      "Are lanes detected? True True\n"
     ]
    },
    {
     "name": "stderr",
     "output_type": "stream",
     "text": [
      "\u001b[A\n",
      " 91%|█████████ | 1088/1200 [07:21<00:43,  2.56it/s]"
     ]
    },
    {
     "name": "stdout",
     "output_type": "stream",
     "text": [
      "Sliding window being executed...\n",
      "881.616781634\n",
      "1776.62026133\n",
      "Sanity flag= 1\n",
      "Are lanes detected? True True\n"
     ]
    },
    {
     "name": "stderr",
     "output_type": "stream",
     "text": [
      "\u001b[A\n",
      " 91%|█████████ | 1089/1200 [07:21<00:43,  2.52it/s]"
     ]
    },
    {
     "name": "stdout",
     "output_type": "stream",
     "text": [
      "Sliding window being executed...\n",
      "653.40560476\n",
      "3742.44887961\n",
      "Sanity flag= 1\n",
      "Are lanes detected? True True\n"
     ]
    },
    {
     "name": "stderr",
     "output_type": "stream",
     "text": [
      "\u001b[A\n",
      " 91%|█████████ | 1090/1200 [07:22<00:43,  2.50it/s]"
     ]
    },
    {
     "name": "stdout",
     "output_type": "stream",
     "text": [
      "Sliding window being executed...\n",
      "36616.0524039\n",
      "1109.25760713\n",
      "Sanity flag= 1\n",
      "Are lanes detected? True True\n"
     ]
    },
    {
     "name": "stderr",
     "output_type": "stream",
     "text": [
      "\u001b[A\n",
      " 91%|█████████ | 1091/1200 [07:22<00:43,  2.49it/s]"
     ]
    },
    {
     "name": "stdout",
     "output_type": "stream",
     "text": [
      "Sliding window being executed...\n",
      "1738.48855176\n",
      "3359.79013479\n",
      "Sanity flag= 1\n",
      "Are lanes detected? True True\n"
     ]
    },
    {
     "name": "stderr",
     "output_type": "stream",
     "text": [
      "\u001b[A\n",
      " 91%|█████████ | 1092/1200 [07:22<00:43,  2.48it/s]"
     ]
    },
    {
     "name": "stdout",
     "output_type": "stream",
     "text": [
      "Sliding window being executed...\n",
      "8322.01486398\n",
      "4486.34757719\n",
      "Sanity flag= 1\n",
      "Are lanes detected? True True\n"
     ]
    },
    {
     "name": "stderr",
     "output_type": "stream",
     "text": [
      "\u001b[A\n",
      " 91%|█████████ | 1093/1200 [07:23<00:44,  2.41it/s]"
     ]
    },
    {
     "name": "stdout",
     "output_type": "stream",
     "text": [
      "Sliding window being executed...\n",
      "1973.02579008\n",
      "2442.24092946\n",
      "Sanity flag= 1\n",
      "Are lanes detected? True True\n"
     ]
    },
    {
     "name": "stderr",
     "output_type": "stream",
     "text": [
      "\u001b[A\n",
      " 91%|█████████ | 1094/1200 [07:23<00:42,  2.47it/s]"
     ]
    },
    {
     "name": "stdout",
     "output_type": "stream",
     "text": [
      "Sliding window being executed...\n",
      "5378.86790945\n",
      "5472.81622846\n",
      "Sanity flag= 1\n",
      "Are lanes detected? True True\n"
     ]
    },
    {
     "name": "stderr",
     "output_type": "stream",
     "text": [
      "\u001b[A\n",
      " 91%|█████████▏| 1095/1200 [07:24<00:41,  2.51it/s]"
     ]
    },
    {
     "name": "stdout",
     "output_type": "stream",
     "text": [
      "Sliding window being executed...\n",
      "1115.78944772\n",
      "2053.20120773\n",
      "Sanity flag= 1\n",
      "Are lanes detected? True True\n"
     ]
    },
    {
     "name": "stderr",
     "output_type": "stream",
     "text": [
      "\u001b[A\n",
      " 91%|█████████▏| 1096/1200 [07:24<00:40,  2.54it/s]"
     ]
    },
    {
     "name": "stdout",
     "output_type": "stream",
     "text": [
      "Sliding window being executed...\n",
      "3024.03651452\n",
      "4364.15055702\n",
      "Sanity flag= 1\n",
      "Are lanes detected? True True\n"
     ]
    },
    {
     "name": "stderr",
     "output_type": "stream",
     "text": [
      "\u001b[A\n",
      " 91%|█████████▏| 1097/1200 [07:24<00:40,  2.57it/s]"
     ]
    },
    {
     "name": "stdout",
     "output_type": "stream",
     "text": [
      "Sliding window being executed...\n",
      "10881.5423887\n",
      "21443.8880618\n",
      "Sanity flag= 1\n",
      "Are lanes detected? True True\n"
     ]
    },
    {
     "name": "stderr",
     "output_type": "stream",
     "text": [
      "\u001b[A\n",
      " 92%|█████████▏| 1098/1200 [07:25<00:41,  2.46it/s]"
     ]
    },
    {
     "name": "stdout",
     "output_type": "stream",
     "text": [
      "Sliding window being executed...\n",
      "1619.81039898\n",
      "5843.78512251\n",
      "Sanity flag= 1\n",
      "Are lanes detected? True True\n"
     ]
    },
    {
     "name": "stderr",
     "output_type": "stream",
     "text": [
      "\u001b[A\n",
      " 92%|█████████▏| 1099/1200 [07:25<00:41,  2.44it/s]"
     ]
    },
    {
     "name": "stdout",
     "output_type": "stream",
     "text": [
      "Sliding window being executed...\n",
      "1164.99530963\n",
      "1164.17222761\n",
      "Sanity flag= 0\n",
      "Are lanes detected? True True\n"
     ]
    },
    {
     "name": "stderr",
     "output_type": "stream",
     "text": [
      "\u001b[A\n",
      " 92%|█████████▏| 1100/1200 [07:26<00:42,  2.38it/s]"
     ]
    },
    {
     "name": "stdout",
     "output_type": "stream",
     "text": [
      "Sliding window being executed...\n",
      "668.48269361\n",
      "1157.12724132\n",
      "Sanity flag= 0\n",
      "Are lanes detected? True True\n"
     ]
    },
    {
     "name": "stderr",
     "output_type": "stream",
     "text": [
      "\u001b[A\n",
      " 92%|█████████▏| 1101/1200 [07:26<00:41,  2.40it/s]"
     ]
    },
    {
     "name": "stdout",
     "output_type": "stream",
     "text": [
      "Sliding window being executed...\n",
      "1707.35941855\n",
      "1848.85572413\n",
      "Sanity flag= 1\n",
      "Are lanes detected? True True\n"
     ]
    },
    {
     "name": "stderr",
     "output_type": "stream",
     "text": [
      "\u001b[A\n",
      " 92%|█████████▏| 1102/1200 [07:26<00:42,  2.33it/s]"
     ]
    },
    {
     "name": "stdout",
     "output_type": "stream",
     "text": [
      "Sliding window being executed...\n",
      "1359.87929132\n",
      "5083.53075507\n",
      "Sanity flag= 1\n",
      "Are lanes detected? True True\n"
     ]
    },
    {
     "name": "stderr",
     "output_type": "stream",
     "text": [
      "\u001b[A\n",
      " 92%|█████████▏| 1103/1200 [07:27<00:40,  2.37it/s]"
     ]
    },
    {
     "name": "stdout",
     "output_type": "stream",
     "text": [
      "Sliding window being executed...\n",
      "5624.75445124\n",
      "1893.24163169\n",
      "Sanity flag= 1\n",
      "Are lanes detected? True True\n"
     ]
    },
    {
     "name": "stderr",
     "output_type": "stream",
     "text": [
      "\u001b[A\n",
      " 92%|█████████▏| 1104/1200 [07:27<00:39,  2.40it/s]"
     ]
    },
    {
     "name": "stdout",
     "output_type": "stream",
     "text": [
      "Sliding window being executed...\n",
      "1214.66713279\n",
      "6550.92855376\n",
      "Sanity flag= 1\n",
      "Are lanes detected? True True\n"
     ]
    },
    {
     "name": "stderr",
     "output_type": "stream",
     "text": [
      "\u001b[A\n",
      " 92%|█████████▏| 1105/1200 [07:28<00:39,  2.42it/s]"
     ]
    },
    {
     "name": "stdout",
     "output_type": "stream",
     "text": [
      "Sliding window being executed...\n",
      "2050.36073859\n",
      "888.584420107\n",
      "Sanity flag= 1\n",
      "Are lanes detected? True True\n"
     ]
    },
    {
     "name": "stderr",
     "output_type": "stream",
     "text": [
      "\u001b[A\n",
      " 92%|█████████▏| 1106/1200 [07:28<00:38,  2.42it/s]"
     ]
    },
    {
     "name": "stdout",
     "output_type": "stream",
     "text": [
      "Sliding window being executed...\n",
      "4580.49197932\n",
      "6627.5245841\n",
      "Sanity flag= 1\n",
      "Are lanes detected? True True\n"
     ]
    },
    {
     "name": "stderr",
     "output_type": "stream",
     "text": [
      "\u001b[A\n",
      " 92%|█████████▏| 1107/1200 [07:29<00:38,  2.44it/s]"
     ]
    },
    {
     "name": "stdout",
     "output_type": "stream",
     "text": [
      "Sliding window being executed...\n",
      "6496.78028779\n",
      "3468.95369103\n",
      "Sanity flag= 1\n",
      "Are lanes detected? True True\n"
     ]
    },
    {
     "name": "stderr",
     "output_type": "stream",
     "text": [
      "\u001b[A\n",
      " 92%|█████████▏| 1108/1200 [07:29<00:37,  2.44it/s]"
     ]
    },
    {
     "name": "stdout",
     "output_type": "stream",
     "text": [
      "Sliding window being executed...\n",
      "4634.67764286\n",
      "604.074813372\n",
      "Sanity flag= 1\n",
      "Are lanes detected? True True\n"
     ]
    },
    {
     "name": "stderr",
     "output_type": "stream",
     "text": [
      "\u001b[A\n",
      " 92%|█████████▏| 1109/1200 [07:29<00:37,  2.44it/s]"
     ]
    },
    {
     "name": "stdout",
     "output_type": "stream",
     "text": [
      "Sliding window being executed...\n",
      "1034.14070145\n",
      "549.029113691\n",
      "Sanity flag= 0\n",
      "Are lanes detected? True True\n"
     ]
    },
    {
     "name": "stderr",
     "output_type": "stream",
     "text": [
      "\u001b[A\n",
      " 92%|█████████▎| 1110/1200 [07:30<00:36,  2.44it/s]"
     ]
    },
    {
     "name": "stdout",
     "output_type": "stream",
     "text": [
      "Sliding window being executed...\n",
      "1994.90702314\n",
      "408.020940297\n",
      "Sanity flag= 1\n",
      "Are lanes detected? True True\n"
     ]
    },
    {
     "name": "stderr",
     "output_type": "stream",
     "text": [
      "\u001b[A\n",
      " 93%|█████████▎| 1111/1200 [07:30<00:36,  2.44it/s]"
     ]
    },
    {
     "name": "stdout",
     "output_type": "stream",
     "text": [
      "Sliding window being executed...\n",
      "627.0249128\n",
      "295.29807706\n",
      "Sanity flag= 0\n",
      "Are lanes detected? True True\n"
     ]
    },
    {
     "name": "stderr",
     "output_type": "stream",
     "text": [
      "\u001b[A\n",
      " 93%|█████████▎| 1112/1200 [07:31<00:35,  2.46it/s]"
     ]
    },
    {
     "name": "stdout",
     "output_type": "stream",
     "text": [
      "Sliding window being executed...\n",
      "1967.57680965\n",
      "211.239276459\n",
      "Sanity flag= 1\n",
      "Are lanes detected? True True\n"
     ]
    },
    {
     "name": "stderr",
     "output_type": "stream",
     "text": [
      "\u001b[A\n",
      " 93%|█████████▎| 1113/1200 [07:31<00:35,  2.43it/s]"
     ]
    },
    {
     "name": "stdout",
     "output_type": "stream",
     "text": [
      "Sliding window being executed...\n",
      "915.669880917\n",
      "349.262580243\n",
      "Sanity flag= 0\n",
      "Are lanes detected? True True\n"
     ]
    },
    {
     "name": "stderr",
     "output_type": "stream",
     "text": [
      "\u001b[A\n",
      " 93%|█████████▎| 1114/1200 [07:31<00:35,  2.46it/s]"
     ]
    },
    {
     "name": "stdout",
     "output_type": "stream",
     "text": [
      "Sliding window being executed...\n",
      "474.67624941\n",
      "321.524286693\n",
      "Sanity flag= 1\n",
      "Are lanes detected? True True\n"
     ]
    },
    {
     "name": "stderr",
     "output_type": "stream",
     "text": [
      "\u001b[A\n",
      " 93%|█████████▎| 1115/1200 [07:32<00:34,  2.46it/s]"
     ]
    },
    {
     "name": "stdout",
     "output_type": "stream",
     "text": [
      "Sliding window being executed...\n",
      "2985.15174617\n",
      "287.497260809\n",
      "Sanity flag= 1\n",
      "Are lanes detected? True True\n"
     ]
    },
    {
     "name": "stderr",
     "output_type": "stream",
     "text": [
      "\u001b[A\n",
      " 93%|█████████▎| 1116/1200 [07:32<00:33,  2.47it/s]"
     ]
    },
    {
     "name": "stdout",
     "output_type": "stream",
     "text": [
      "Sliding window being executed...\n",
      "444.605542529\n",
      "359.942449833\n",
      "Sanity flag= 1\n",
      "Are lanes detected? True True\n"
     ]
    },
    {
     "name": "stderr",
     "output_type": "stream",
     "text": [
      "\u001b[A\n",
      " 93%|█████████▎| 1117/1200 [07:33<00:33,  2.47it/s]"
     ]
    },
    {
     "name": "stdout",
     "output_type": "stream",
     "text": [
      "Sliding window being executed...\n",
      "694.15695859\n",
      "13694.0991755\n",
      "Sanity flag= 1\n",
      "Are lanes detected? True True\n"
     ]
    },
    {
     "name": "stderr",
     "output_type": "stream",
     "text": [
      "\u001b[A\n",
      " 93%|█████████▎| 1118/1200 [07:33<00:33,  2.48it/s]"
     ]
    },
    {
     "name": "stdout",
     "output_type": "stream",
     "text": [
      "Sliding window being executed...\n",
      "180.936679711\n",
      "193.09839858\n",
      "Sanity flag= 0\n",
      "Are lanes detected? True True\n"
     ]
    },
    {
     "name": "stderr",
     "output_type": "stream",
     "text": [
      "\u001b[A\n",
      " 93%|█████████▎| 1119/1200 [07:33<00:32,  2.49it/s]"
     ]
    },
    {
     "name": "stdout",
     "output_type": "stream",
     "text": [
      "Sliding window being executed...\n",
      "224.714601675\n",
      "1500.22320884\n",
      "Sanity flag= 1\n",
      "Are lanes detected? True True\n"
     ]
    },
    {
     "name": "stderr",
     "output_type": "stream",
     "text": [
      "\u001b[A\n",
      " 93%|█████████▎| 1120/1200 [07:34<00:32,  2.50it/s]"
     ]
    },
    {
     "name": "stdout",
     "output_type": "stream",
     "text": [
      "Sliding window being executed...\n",
      "723.417648499\n",
      "7265.19893103\n",
      "Sanity flag= 1\n",
      "Are lanes detected? True True\n"
     ]
    },
    {
     "name": "stderr",
     "output_type": "stream",
     "text": [
      "\u001b[A\n",
      " 93%|█████████▎| 1121/1200 [07:34<00:31,  2.49it/s]"
     ]
    },
    {
     "name": "stdout",
     "output_type": "stream",
     "text": [
      "Sliding window being executed...\n",
      "352.523700806\n",
      "2742.01215371\n",
      "Sanity flag= 1\n",
      "Are lanes detected? True True\n"
     ]
    },
    {
     "name": "stderr",
     "output_type": "stream",
     "text": [
      "\u001b[A\n",
      " 94%|█████████▎| 1122/1200 [07:35<00:31,  2.51it/s]"
     ]
    },
    {
     "name": "stdout",
     "output_type": "stream",
     "text": [
      "Sliding window being executed...\n",
      "158.920673449\n",
      "753.029483359\n",
      "Sanity flag= 1\n",
      "Are lanes detected? True True\n"
     ]
    },
    {
     "name": "stderr",
     "output_type": "stream",
     "text": [
      "\u001b[A\n",
      " 94%|█████████▎| 1123/1200 [07:35<00:31,  2.45it/s]"
     ]
    },
    {
     "name": "stdout",
     "output_type": "stream",
     "text": [
      "Sliding window being executed...\n",
      "99.9276631087\n",
      "1261.52836078\n",
      "Sanity flag= 1\n",
      "Are lanes detected? True True\n"
     ]
    },
    {
     "name": "stderr",
     "output_type": "stream",
     "text": [
      "\u001b[A\n",
      " 94%|█████████▎| 1124/1200 [07:35<00:30,  2.53it/s]"
     ]
    },
    {
     "name": "stdout",
     "output_type": "stream",
     "text": [
      "Sliding window being executed...\n",
      "1603.92289061\n",
      "369.931611816\n",
      "Sanity flag= 1\n",
      "Are lanes detected? True True\n"
     ]
    },
    {
     "name": "stderr",
     "output_type": "stream",
     "text": [
      "\u001b[A\n",
      " 94%|█████████▍| 1125/1200 [07:36<00:30,  2.48it/s]"
     ]
    },
    {
     "name": "stdout",
     "output_type": "stream",
     "text": [
      "Sliding window being executed...\n",
      "7950.3678103\n",
      "1270.61846353\n",
      "Sanity flag= 1\n",
      "Are lanes detected? True True\n"
     ]
    },
    {
     "name": "stderr",
     "output_type": "stream",
     "text": [
      "\u001b[A\n",
      " 94%|█████████▍| 1126/1200 [07:36<00:30,  2.45it/s]"
     ]
    },
    {
     "name": "stdout",
     "output_type": "stream",
     "text": [
      "Sliding window being executed...\n",
      "548.276194631\n",
      "4114.11095868\n",
      "Sanity flag= 1\n",
      "Are lanes detected? True True\n"
     ]
    },
    {
     "name": "stderr",
     "output_type": "stream",
     "text": [
      "\u001b[A\n",
      " 94%|█████████▍| 1127/1200 [07:37<00:28,  2.53it/s]"
     ]
    },
    {
     "name": "stdout",
     "output_type": "stream",
     "text": [
      "Sliding window being executed...\n",
      "1488.87256045\n",
      "591.950044407\n",
      "Sanity flag= 1\n",
      "Are lanes detected? True True\n"
     ]
    },
    {
     "name": "stderr",
     "output_type": "stream",
     "text": [
      "\u001b[A\n",
      " 94%|█████████▍| 1128/1200 [07:37<00:28,  2.49it/s]"
     ]
    },
    {
     "name": "stdout",
     "output_type": "stream",
     "text": [
      "Sliding window being executed...\n",
      "1476.92898862\n",
      "3443.70570293\n",
      "Sanity flag= 1\n",
      "Are lanes detected? True True\n"
     ]
    },
    {
     "name": "stderr",
     "output_type": "stream",
     "text": [
      "\u001b[A\n",
      " 94%|█████████▍| 1129/1200 [07:37<00:28,  2.49it/s]"
     ]
    },
    {
     "name": "stdout",
     "output_type": "stream",
     "text": [
      "Sliding window being executed...\n",
      "5267.7367589\n",
      "1774.39375173\n",
      "Sanity flag= 1\n",
      "Are lanes detected? True True\n"
     ]
    },
    {
     "name": "stderr",
     "output_type": "stream",
     "text": [
      "\u001b[A\n",
      " 94%|█████████▍| 1130/1200 [07:38<00:28,  2.49it/s]"
     ]
    },
    {
     "name": "stdout",
     "output_type": "stream",
     "text": [
      "Sliding window being executed...\n",
      "316.546172255\n",
      "715.009279001\n",
      "Sanity flag= 0\n",
      "Are lanes detected? True True\n"
     ]
    },
    {
     "name": "stderr",
     "output_type": "stream",
     "text": [
      "\u001b[A\n",
      " 94%|█████████▍| 1131/1200 [07:38<00:27,  2.49it/s]"
     ]
    },
    {
     "name": "stdout",
     "output_type": "stream",
     "text": [
      "Sliding window being executed...\n",
      "2134.7118368\n",
      "139.808466608\n",
      "Sanity flag= 1\n",
      "Are lanes detected? True True\n"
     ]
    },
    {
     "name": "stderr",
     "output_type": "stream",
     "text": [
      "\u001b[A\n",
      " 94%|█████████▍| 1132/1200 [07:39<00:27,  2.49it/s]"
     ]
    },
    {
     "name": "stdout",
     "output_type": "stream",
     "text": [
      "Sliding window being executed...\n",
      "388.944690781\n",
      "156.875552321\n",
      "Sanity flag= 0\n",
      "Are lanes detected? True True\n"
     ]
    },
    {
     "name": "stderr",
     "output_type": "stream",
     "text": [
      "\u001b[A\n",
      " 94%|█████████▍| 1133/1200 [07:39<00:26,  2.50it/s]"
     ]
    },
    {
     "name": "stdout",
     "output_type": "stream",
     "text": [
      "Sliding window being executed...\n",
      "349.029613418\n",
      "134.946477137\n",
      "Sanity flag= 0\n",
      "Are lanes detected? True True\n"
     ]
    },
    {
     "name": "stderr",
     "output_type": "stream",
     "text": [
      "\u001b[A\n",
      " 94%|█████████▍| 1134/1200 [07:39<00:26,  2.50it/s]"
     ]
    },
    {
     "name": "stdout",
     "output_type": "stream",
     "text": [
      "Sliding window being executed...\n",
      "4506.18237768\n",
      "17676.9071543\n",
      "Sanity flag= 1\n",
      "Are lanes detected? True True\n"
     ]
    },
    {
     "name": "stderr",
     "output_type": "stream",
     "text": [
      "\u001b[A\n",
      " 95%|█████████▍| 1135/1200 [07:40<00:25,  2.51it/s]"
     ]
    },
    {
     "name": "stdout",
     "output_type": "stream",
     "text": [
      "Sliding window being executed...\n",
      "287.680941965\n",
      "13597.4143626\n",
      "Sanity flag= 1\n",
      "Are lanes detected? True True\n"
     ]
    },
    {
     "name": "stderr",
     "output_type": "stream",
     "text": [
      "\u001b[A\n",
      " 95%|█████████▍| 1136/1200 [07:40<00:25,  2.51it/s]"
     ]
    },
    {
     "name": "stdout",
     "output_type": "stream",
     "text": [
      "Sliding window being executed...\n",
      "315.191552724\n",
      "1983.07634765\n",
      "Sanity flag= 1\n",
      "Are lanes detected? True True\n"
     ]
    },
    {
     "name": "stderr",
     "output_type": "stream",
     "text": [
      "\u001b[A\n",
      " 95%|█████████▍| 1137/1200 [07:41<00:25,  2.51it/s]"
     ]
    },
    {
     "name": "stdout",
     "output_type": "stream",
     "text": [
      "Sliding window being executed...\n",
      "387.827263207\n",
      "378.082765043\n",
      "Sanity flag= 0\n",
      "Are lanes detected? True True\n"
     ]
    },
    {
     "name": "stderr",
     "output_type": "stream",
     "text": [
      "\u001b[A\n",
      " 95%|█████████▍| 1138/1200 [07:41<00:24,  2.51it/s]"
     ]
    },
    {
     "name": "stdout",
     "output_type": "stream",
     "text": [
      "Sliding window being executed...\n",
      "385.551567817\n",
      "668.730231617\n",
      "Sanity flag= 0\n",
      "Are lanes detected? True True\n"
     ]
    },
    {
     "name": "stderr",
     "output_type": "stream",
     "text": [
      "\u001b[A\n",
      " 95%|█████████▍| 1139/1200 [07:41<00:24,  2.51it/s]"
     ]
    },
    {
     "name": "stdout",
     "output_type": "stream",
     "text": [
      "Sliding window being executed...\n",
      "319.447256013\n",
      "643.64102338\n",
      "Sanity flag= 0\n",
      "Are lanes detected? True True\n"
     ]
    },
    {
     "name": "stderr",
     "output_type": "stream",
     "text": [
      "\u001b[A\n",
      " 95%|█████████▌| 1140/1200 [07:42<00:23,  2.51it/s]"
     ]
    },
    {
     "name": "stdout",
     "output_type": "stream",
     "text": [
      "Sliding window being executed...\n",
      "306.992718532\n",
      "617.235052003\n",
      "Sanity flag= 0\n",
      "Are lanes detected? True True\n"
     ]
    },
    {
     "name": "stderr",
     "output_type": "stream",
     "text": [
      "\u001b[A\n",
      " 95%|█████████▌| 1141/1200 [07:42<00:23,  2.51it/s]"
     ]
    },
    {
     "name": "stdout",
     "output_type": "stream",
     "text": [
      "Sliding window being executed...\n",
      "674.267959583\n",
      "1703.97663135\n",
      "Sanity flag= 1\n",
      "Are lanes detected? True True\n"
     ]
    },
    {
     "name": "stderr",
     "output_type": "stream",
     "text": [
      "\u001b[A\n",
      " 95%|█████████▌| 1142/1200 [07:43<00:23,  2.52it/s]"
     ]
    },
    {
     "name": "stdout",
     "output_type": "stream",
     "text": [
      "Sliding window being executed...\n",
      "550.621708472\n",
      "874.568441882\n",
      "Sanity flag= 0\n",
      "Are lanes detected? True True\n"
     ]
    },
    {
     "name": "stderr",
     "output_type": "stream",
     "text": [
      "\u001b[A\n",
      " 95%|█████████▌| 1143/1200 [07:43<00:22,  2.53it/s]"
     ]
    },
    {
     "name": "stdout",
     "output_type": "stream",
     "text": [
      "Sliding window being executed...\n",
      "1859.06769553\n",
      "241.219435313\n",
      "Sanity flag= 1\n",
      "Are lanes detected? True True\n"
     ]
    },
    {
     "name": "stderr",
     "output_type": "stream",
     "text": [
      "\u001b[A\n",
      " 95%|█████████▌| 1144/1200 [07:43<00:22,  2.53it/s]"
     ]
    },
    {
     "name": "stdout",
     "output_type": "stream",
     "text": [
      "Sliding window being executed...\n",
      "2156.17135158\n",
      "72.8693317566\n",
      "Sanity flag= 1\n",
      "Are lanes detected? True True\n"
     ]
    },
    {
     "name": "stderr",
     "output_type": "stream",
     "text": [
      "\u001b[A\n",
      " 95%|█████████▌| 1145/1200 [07:44<00:21,  2.53it/s]"
     ]
    },
    {
     "name": "stdout",
     "output_type": "stream",
     "text": [
      "Sliding window being executed...\n",
      "1971.35448051\n",
      "62.7430727781\n",
      "Sanity flag= 1\n",
      "Are lanes detected? True True\n"
     ]
    },
    {
     "name": "stderr",
     "output_type": "stream",
     "text": [
      "\u001b[A\n",
      " 96%|█████████▌| 1146/1200 [07:44<00:21,  2.50it/s]"
     ]
    },
    {
     "name": "stdout",
     "output_type": "stream",
     "text": [
      "Sliding window being executed...\n",
      "792.916302575\n",
      "78.1483503095\n",
      "Sanity flag= 1\n",
      "Are lanes detected? True True\n"
     ]
    },
    {
     "name": "stderr",
     "output_type": "stream",
     "text": [
      "\u001b[A\n",
      " 96%|█████████▌| 1147/1200 [07:45<00:21,  2.50it/s]"
     ]
    },
    {
     "name": "stdout",
     "output_type": "stream",
     "text": [
      "Sliding window being executed...\n",
      "1092.2580156\n",
      "102.309942432\n",
      "Sanity flag= 0\n",
      "Are lanes detected? True True\n"
     ]
    },
    {
     "name": "stderr",
     "output_type": "stream",
     "text": [
      "\u001b[A\n",
      " 96%|█████████▌| 1148/1200 [07:45<00:20,  2.49it/s]"
     ]
    },
    {
     "name": "stdout",
     "output_type": "stream",
     "text": [
      "Sliding window being executed...\n",
      "992.398518891\n",
      "138.84864092\n",
      "Sanity flag= 0\n",
      "Are lanes detected? True True\n"
     ]
    },
    {
     "name": "stderr",
     "output_type": "stream",
     "text": [
      "\u001b[A\n",
      " 96%|█████████▌| 1149/1200 [07:45<00:20,  2.49it/s]"
     ]
    },
    {
     "name": "stdout",
     "output_type": "stream",
     "text": [
      "Sliding window being executed...\n",
      "1217.28304596\n",
      "118.465886068\n",
      "Sanity flag= 1\n",
      "Are lanes detected? True True\n"
     ]
    },
    {
     "name": "stderr",
     "output_type": "stream",
     "text": [
      "\u001b[A\n",
      " 96%|█████████▌| 1150/1200 [07:46<00:20,  2.49it/s]"
     ]
    },
    {
     "name": "stdout",
     "output_type": "stream",
     "text": [
      "Sliding window being executed...\n",
      "6538.93922822\n",
      "114.35267614\n",
      "Sanity flag= 1\n",
      "Are lanes detected? True True\n"
     ]
    },
    {
     "name": "stderr",
     "output_type": "stream",
     "text": [
      "\u001b[A\n",
      " 96%|█████████▌| 1151/1200 [07:46<00:19,  2.52it/s]"
     ]
    },
    {
     "name": "stdout",
     "output_type": "stream",
     "text": [
      "Sliding window being executed...\n",
      "1363.24224898\n",
      "111.603073536\n",
      "Sanity flag= 1\n",
      "Are lanes detected? True True\n"
     ]
    },
    {
     "name": "stderr",
     "output_type": "stream",
     "text": [
      "\u001b[A\n",
      " 96%|█████████▌| 1152/1200 [07:47<00:18,  2.55it/s]"
     ]
    },
    {
     "name": "stdout",
     "output_type": "stream",
     "text": [
      "Sliding window being executed...\n",
      "674.810769457\n",
      "103.084528346\n",
      "Sanity flag= 0\n",
      "Are lanes detected? True True\n"
     ]
    },
    {
     "name": "stderr",
     "output_type": "stream",
     "text": [
      "\u001b[A\n",
      " 96%|█████████▌| 1153/1200 [07:47<00:19,  2.45it/s]"
     ]
    },
    {
     "name": "stdout",
     "output_type": "stream",
     "text": [
      "Sliding window being executed...\n",
      "364.884294697\n",
      "138.553057755\n",
      "Sanity flag= 0\n",
      "Are lanes detected? True True\n"
     ]
    },
    {
     "name": "stderr",
     "output_type": "stream",
     "text": [
      "\u001b[A\n",
      " 96%|█████████▌| 1154/1200 [07:47<00:18,  2.51it/s]"
     ]
    },
    {
     "name": "stdout",
     "output_type": "stream",
     "text": [
      "Sliding window being executed...\n",
      "356.202215348\n",
      "143.039276476\n",
      "Sanity flag= 0\n",
      "Are lanes detected? True True\n"
     ]
    },
    {
     "name": "stderr",
     "output_type": "stream",
     "text": [
      "\u001b[A\n",
      " 96%|█████████▋| 1155/1200 [07:48<00:17,  2.52it/s]"
     ]
    },
    {
     "name": "stdout",
     "output_type": "stream",
     "text": [
      "Sliding window being executed...\n",
      "243.438002657\n",
      "149.068299898\n",
      "Sanity flag= 0\n",
      "Are lanes detected? True True\n"
     ]
    },
    {
     "name": "stderr",
     "output_type": "stream",
     "text": [
      "\u001b[A\n",
      " 96%|█████████▋| 1156/1200 [07:48<00:17,  2.53it/s]"
     ]
    },
    {
     "name": "stdout",
     "output_type": "stream",
     "text": [
      "Sliding window being executed...\n",
      "197.539144003\n",
      "191.24077319\n",
      "Sanity flag= 0\n",
      "Are lanes detected? True True\n"
     ]
    },
    {
     "name": "stderr",
     "output_type": "stream",
     "text": [
      "\u001b[A\n",
      " 96%|█████████▋| 1157/1200 [07:49<00:16,  2.55it/s]"
     ]
    },
    {
     "name": "stdout",
     "output_type": "stream",
     "text": [
      "Sliding window being executed...\n",
      "166.667832769\n",
      "344.970075992\n",
      "Sanity flag= 1\n",
      "Are lanes detected? True True\n"
     ]
    },
    {
     "name": "stderr",
     "output_type": "stream",
     "text": [
      "\u001b[A\n",
      " 96%|█████████▋| 1158/1200 [07:49<00:16,  2.58it/s]"
     ]
    },
    {
     "name": "stdout",
     "output_type": "stream",
     "text": [
      "Sliding window being executed...\n",
      "608.581822714\n",
      "303.787836565\n",
      "Sanity flag= 0\n",
      "Are lanes detected? True True\n"
     ]
    },
    {
     "name": "stderr",
     "output_type": "stream",
     "text": [
      "\u001b[A\n",
      " 97%|█████████▋| 1159/1200 [07:49<00:15,  2.59it/s]"
     ]
    },
    {
     "name": "stdout",
     "output_type": "stream",
     "text": [
      "Sliding window being executed...\n",
      "324.553845809\n",
      "260.952710204\n",
      "Sanity flag= 0\n",
      "Are lanes detected? True True\n"
     ]
    },
    {
     "name": "stderr",
     "output_type": "stream",
     "text": [
      "\u001b[A\n",
      " 97%|█████████▋| 1160/1200 [07:50<00:15,  2.57it/s]"
     ]
    },
    {
     "name": "stdout",
     "output_type": "stream",
     "text": [
      "Sliding window being executed...\n",
      "281.925440595\n",
      "253.515065273\n",
      "Sanity flag= 0\n",
      "Are lanes detected? True True\n"
     ]
    },
    {
     "name": "stderr",
     "output_type": "stream",
     "text": [
      "\u001b[A\n",
      " 97%|█████████▋| 1161/1200 [07:50<00:15,  2.56it/s]"
     ]
    },
    {
     "name": "stdout",
     "output_type": "stream",
     "text": [
      "Sliding window being executed...\n",
      "611.422997049\n",
      "204.091100465\n",
      "Sanity flag= 0\n",
      "Are lanes detected? True True\n"
     ]
    },
    {
     "name": "stderr",
     "output_type": "stream",
     "text": [
      "\u001b[A\n",
      " 97%|█████████▋| 1162/1200 [07:50<00:14,  2.55it/s]"
     ]
    },
    {
     "name": "stdout",
     "output_type": "stream",
     "text": [
      "Sliding window being executed...\n",
      "273.872822439\n",
      "58.7636352284\n",
      "Sanity flag= 1\n",
      "Are lanes detected? True True\n"
     ]
    },
    {
     "name": "stderr",
     "output_type": "stream",
     "text": [
      "\u001b[A\n",
      " 97%|█████████▋| 1163/1200 [07:51<00:14,  2.55it/s]"
     ]
    },
    {
     "name": "stdout",
     "output_type": "stream",
     "text": [
      "Sliding window being executed...\n",
      "253.193368181\n",
      "80.1409555713\n",
      "Sanity flag= 1\n",
      "Are lanes detected? True True\n"
     ]
    },
    {
     "name": "stderr",
     "output_type": "stream",
     "text": [
      "\u001b[A\n",
      " 97%|█████████▋| 1164/1200 [07:51<00:14,  2.49it/s]"
     ]
    },
    {
     "name": "stdout",
     "output_type": "stream",
     "text": [
      "Sliding window being executed...\n",
      "829.481666227\n",
      "385.682447461\n",
      "Sanity flag= 0\n",
      "Are lanes detected? True True\n"
     ]
    },
    {
     "name": "stderr",
     "output_type": "stream",
     "text": [
      "\u001b[A\n",
      " 97%|█████████▋| 1165/1200 [07:52<00:14,  2.49it/s]"
     ]
    },
    {
     "name": "stdout",
     "output_type": "stream",
     "text": [
      "Sliding window being executed...\n",
      "768.011360113\n",
      "273.665162253\n",
      "Sanity flag= 0\n",
      "Are lanes detected? True True\n"
     ]
    },
    {
     "name": "stderr",
     "output_type": "stream",
     "text": [
      "\u001b[A\n",
      " 97%|█████████▋| 1166/1200 [07:52<00:13,  2.52it/s]"
     ]
    },
    {
     "name": "stdout",
     "output_type": "stream",
     "text": [
      "Sliding window being executed...\n",
      "1070.21967167\n",
      "436.111625492\n",
      "Sanity flag= 0\n",
      "Are lanes detected? True True\n"
     ]
    },
    {
     "name": "stderr",
     "output_type": "stream",
     "text": [
      "\u001b[A\n",
      " 97%|█████████▋| 1167/1200 [07:52<00:13,  2.53it/s]"
     ]
    },
    {
     "name": "stdout",
     "output_type": "stream",
     "text": [
      "Sliding window being executed...\n",
      "436.663239653\n",
      "368.405374361\n",
      "Sanity flag= 0\n",
      "Are lanes detected? True True\n"
     ]
    },
    {
     "name": "stderr",
     "output_type": "stream",
     "text": [
      "\u001b[A\n",
      " 97%|█████████▋| 1168/1200 [07:53<00:12,  2.54it/s]"
     ]
    },
    {
     "name": "stdout",
     "output_type": "stream",
     "text": [
      "Sliding window being executed...\n",
      "463.187764443\n",
      "855.458053212\n",
      "Sanity flag= 0\n",
      "Are lanes detected? True True\n"
     ]
    },
    {
     "name": "stderr",
     "output_type": "stream",
     "text": [
      "\u001b[A\n",
      " 97%|█████████▋| 1169/1200 [07:53<00:12,  2.56it/s]"
     ]
    },
    {
     "name": "stdout",
     "output_type": "stream",
     "text": [
      "Sliding window being executed...\n",
      "484.658108979\n",
      "310.134053583\n",
      "Sanity flag= 0\n",
      "Are lanes detected? True True\n"
     ]
    },
    {
     "name": "stderr",
     "output_type": "stream",
     "text": [
      "\u001b[A\n",
      " 98%|█████████▊| 1170/1200 [07:54<00:11,  2.56it/s]"
     ]
    },
    {
     "name": "stdout",
     "output_type": "stream",
     "text": [
      "Sliding window being executed...\n",
      "1473.85184461\n",
      "735.901004258\n",
      "Sanity flag= 1\n",
      "Are lanes detected? True True\n"
     ]
    },
    {
     "name": "stderr",
     "output_type": "stream",
     "text": [
      "\u001b[A\n",
      " 98%|█████████▊| 1171/1200 [07:54<00:11,  2.57it/s]"
     ]
    },
    {
     "name": "stdout",
     "output_type": "stream",
     "text": [
      "Sliding window being executed...\n",
      "445.722191182\n",
      "425.347417541\n",
      "Sanity flag= 0\n",
      "Are lanes detected? True True\n"
     ]
    },
    {
     "name": "stderr",
     "output_type": "stream",
     "text": [
      "\u001b[A\n",
      " 98%|█████████▊| 1172/1200 [07:54<00:10,  2.57it/s]"
     ]
    },
    {
     "name": "stdout",
     "output_type": "stream",
     "text": [
      "Sliding window being executed...\n",
      "472.870216697\n",
      "414.589586916\n",
      "Sanity flag= 0\n",
      "Are lanes detected? True True\n"
     ]
    },
    {
     "name": "stderr",
     "output_type": "stream",
     "text": [
      "\u001b[A\n",
      " 98%|█████████▊| 1173/1200 [07:55<00:10,  2.57it/s]"
     ]
    },
    {
     "name": "stdout",
     "output_type": "stream",
     "text": [
      "Sliding window being executed...\n",
      "526.049633665\n",
      "377.072035078\n",
      "Sanity flag= 0\n",
      "Are lanes detected? True True\n"
     ]
    },
    {
     "name": "stderr",
     "output_type": "stream",
     "text": [
      "\u001b[A\n",
      " 98%|█████████▊| 1174/1200 [07:55<00:10,  2.58it/s]"
     ]
    },
    {
     "name": "stdout",
     "output_type": "stream",
     "text": [
      "Sliding window being executed...\n",
      "498.683562493\n",
      "320.246739577\n",
      "Sanity flag= 0\n",
      "Are lanes detected? True True\n"
     ]
    },
    {
     "name": "stderr",
     "output_type": "stream",
     "text": [
      "\u001b[A\n",
      " 98%|█████████▊| 1175/1200 [07:56<00:09,  2.58it/s]"
     ]
    },
    {
     "name": "stdout",
     "output_type": "stream",
     "text": [
      "Sliding window being executed...\n",
      "767.109894713\n",
      "245.558063095\n",
      "Sanity flag= 1\n",
      "Are lanes detected? True True\n"
     ]
    },
    {
     "name": "stderr",
     "output_type": "stream",
     "text": [
      "\u001b[A\n",
      " 98%|█████████▊| 1176/1200 [07:56<00:09,  2.58it/s]"
     ]
    },
    {
     "name": "stdout",
     "output_type": "stream",
     "text": [
      "Sliding window being executed...\n",
      "828.593437746\n",
      "252.428490027\n",
      "Sanity flag= 0\n",
      "Are lanes detected? True True\n"
     ]
    },
    {
     "name": "stderr",
     "output_type": "stream",
     "text": [
      "\u001b[A\n",
      " 98%|█████████▊| 1177/1200 [07:56<00:08,  2.58it/s]"
     ]
    },
    {
     "name": "stdout",
     "output_type": "stream",
     "text": [
      "Sliding window being executed...\n",
      "935.162685254\n",
      "204.769390909\n",
      "Sanity flag= 1\n",
      "Are lanes detected? True True\n"
     ]
    },
    {
     "name": "stderr",
     "output_type": "stream",
     "text": [
      "\u001b[A\n",
      " 98%|█████████▊| 1178/1200 [07:57<00:08,  2.58it/s]"
     ]
    },
    {
     "name": "stdout",
     "output_type": "stream",
     "text": [
      "Sliding window being executed...\n",
      "844.273096691\n",
      "187.43930198\n",
      "Sanity flag= 1\n",
      "Are lanes detected? True True\n"
     ]
    },
    {
     "name": "stderr",
     "output_type": "stream",
     "text": [
      "\u001b[A\n",
      " 98%|█████████▊| 1179/1200 [07:57<00:08,  2.57it/s]"
     ]
    },
    {
     "name": "stdout",
     "output_type": "stream",
     "text": [
      "Sliding window being executed...\n",
      "1276.16680932\n",
      "183.815161107\n",
      "Sanity flag= 1\n",
      "Are lanes detected? True True\n"
     ]
    },
    {
     "name": "stderr",
     "output_type": "stream",
     "text": [
      "\u001b[A\n",
      " 98%|█████████▊| 1180/1200 [07:58<00:07,  2.55it/s]"
     ]
    },
    {
     "name": "stdout",
     "output_type": "stream",
     "text": [
      "Sliding window being executed...\n",
      "1399.52394327\n",
      "220.804851268\n",
      "Sanity flag= 1\n",
      "Are lanes detected? True True\n"
     ]
    },
    {
     "name": "stderr",
     "output_type": "stream",
     "text": [
      "\u001b[A\n",
      " 98%|█████████▊| 1181/1200 [07:58<00:07,  2.56it/s]"
     ]
    },
    {
     "name": "stdout",
     "output_type": "stream",
     "text": [
      "Sliding window being executed...\n",
      "1653.20306891\n",
      "346.995027011\n",
      "Sanity flag= 1\n",
      "Are lanes detected? True True\n"
     ]
    },
    {
     "name": "stderr",
     "output_type": "stream",
     "text": [
      "\u001b[A\n",
      " 98%|█████████▊| 1182/1200 [07:58<00:07,  2.57it/s]"
     ]
    },
    {
     "name": "stdout",
     "output_type": "stream",
     "text": [
      "Sliding window being executed...\n",
      "435.659325978\n",
      "337.25500641\n",
      "Sanity flag= 0\n",
      "Are lanes detected? True True\n"
     ]
    },
    {
     "name": "stderr",
     "output_type": "stream",
     "text": [
      "\u001b[A\n",
      " 99%|█████████▊| 1183/1200 [07:59<00:06,  2.47it/s]"
     ]
    },
    {
     "name": "stdout",
     "output_type": "stream",
     "text": [
      "Sliding window being executed...\n",
      "288.764296966\n",
      "724.049887573\n",
      "Sanity flag= 0\n",
      "Are lanes detected? True True\n"
     ]
    },
    {
     "name": "stderr",
     "output_type": "stream",
     "text": [
      "\u001b[A\n",
      " 99%|█████████▊| 1184/1200 [07:59<00:06,  2.53it/s]"
     ]
    },
    {
     "name": "stdout",
     "output_type": "stream",
     "text": [
      "Sliding window being executed...\n",
      "11527.5543539\n",
      "3119.74755072\n",
      "Sanity flag= 1\n",
      "Are lanes detected? True True\n"
     ]
    },
    {
     "name": "stderr",
     "output_type": "stream",
     "text": [
      "\u001b[A\n",
      " 99%|█████████▉| 1185/1200 [08:00<00:05,  2.55it/s]"
     ]
    },
    {
     "name": "stdout",
     "output_type": "stream",
     "text": [
      "Sliding window being executed...\n",
      "2671.78593474\n",
      "4142.8184092\n",
      "Sanity flag= 1\n",
      "Are lanes detected? True True\n"
     ]
    },
    {
     "name": "stderr",
     "output_type": "stream",
     "text": [
      "\u001b[A\n",
      " 99%|█████████▉| 1186/1200 [08:00<00:05,  2.54it/s]"
     ]
    },
    {
     "name": "stdout",
     "output_type": "stream",
     "text": [
      "Sliding window being executed...\n",
      "205.226167707\n",
      "655.175908537\n",
      "Sanity flag= 0\n",
      "Are lanes detected? True True\n"
     ]
    },
    {
     "name": "stderr",
     "output_type": "stream",
     "text": [
      "\u001b[A\n",
      " 99%|█████████▉| 1187/1200 [08:00<00:05,  2.57it/s]"
     ]
    },
    {
     "name": "stdout",
     "output_type": "stream",
     "text": [
      "Sliding window being executed...\n",
      "444.614914912\n",
      "667.914815421\n",
      "Sanity flag= 0\n",
      "Are lanes detected? True True\n"
     ]
    },
    {
     "name": "stderr",
     "output_type": "stream",
     "text": [
      "\u001b[A\n",
      " 99%|█████████▉| 1188/1200 [08:01<00:04,  2.59it/s]"
     ]
    },
    {
     "name": "stdout",
     "output_type": "stream",
     "text": [
      "Sliding window being executed...\n",
      "154.480409015\n",
      "650.185744712\n",
      "Sanity flag= 1\n",
      "Are lanes detected? True True\n"
     ]
    },
    {
     "name": "stderr",
     "output_type": "stream",
     "text": [
      "\u001b[A\n",
      " 99%|█████████▉| 1189/1200 [08:01<00:04,  2.59it/s]"
     ]
    },
    {
     "name": "stdout",
     "output_type": "stream",
     "text": [
      "Sliding window being executed...\n",
      "176.864615952\n",
      "1134.66411865\n",
      "Sanity flag= 1\n",
      "Are lanes detected? True True\n"
     ]
    },
    {
     "name": "stderr",
     "output_type": "stream",
     "text": [
      "\u001b[A\n",
      " 99%|█████████▉| 1190/1200 [08:01<00:03,  2.59it/s]"
     ]
    },
    {
     "name": "stdout",
     "output_type": "stream",
     "text": [
      "Sliding window being executed...\n",
      "101.810825932\n",
      "807.375121833\n",
      "Sanity flag= 1\n",
      "Are lanes detected? True True\n"
     ]
    },
    {
     "name": "stderr",
     "output_type": "stream",
     "text": [
      "\u001b[A\n",
      " 99%|█████████▉| 1191/1200 [08:02<00:03,  2.58it/s]"
     ]
    },
    {
     "name": "stdout",
     "output_type": "stream",
     "text": [
      "Sliding window being executed...\n",
      "63.4046849029\n",
      "844.705265829\n",
      "Sanity flag= 1\n",
      "Are lanes detected? True True\n"
     ]
    },
    {
     "name": "stderr",
     "output_type": "stream",
     "text": [
      "\u001b[A\n",
      " 99%|█████████▉| 1192/1200 [08:02<00:03,  2.59it/s]"
     ]
    },
    {
     "name": "stdout",
     "output_type": "stream",
     "text": [
      "Sliding window being executed...\n",
      "93.9367632346\n",
      "732.435101536\n",
      "Sanity flag= 1\n",
      "Are lanes detected? True True\n"
     ]
    },
    {
     "name": "stderr",
     "output_type": "stream",
     "text": [
      "\u001b[A\n",
      " 99%|█████████▉| 1193/1200 [08:03<00:02,  2.59it/s]"
     ]
    },
    {
     "name": "stdout",
     "output_type": "stream",
     "text": [
      "Sliding window being executed...\n",
      "74.7915937101\n",
      "645.601253096\n",
      "Sanity flag= 1\n",
      "Are lanes detected? True True\n"
     ]
    },
    {
     "name": "stderr",
     "output_type": "stream",
     "text": [
      "\u001b[A\n",
      "100%|█████████▉| 1194/1200 [08:03<00:02,  2.60it/s]"
     ]
    },
    {
     "name": "stdout",
     "output_type": "stream",
     "text": [
      "Sliding window being executed...\n",
      "65.2297755267\n",
      "576.557519706\n",
      "Sanity flag= 1\n",
      "Are lanes detected? True True\n"
     ]
    },
    {
     "name": "stderr",
     "output_type": "stream",
     "text": [
      "\u001b[A\n",
      "100%|█████████▉| 1195/1200 [08:03<00:01,  2.59it/s]"
     ]
    },
    {
     "name": "stdout",
     "output_type": "stream",
     "text": [
      "Sliding window being executed...\n",
      "58.5769530189\n",
      "609.069569746\n",
      "Sanity flag= 1\n",
      "Are lanes detected? True True\n"
     ]
    },
    {
     "name": "stderr",
     "output_type": "stream",
     "text": [
      "\u001b[A\n",
      "100%|█████████▉| 1196/1200 [08:04<00:01,  2.60it/s]"
     ]
    },
    {
     "name": "stdout",
     "output_type": "stream",
     "text": [
      "Sliding window being executed...\n",
      "52.5334031486\n",
      "674.469596646\n",
      "Sanity flag= 1\n",
      "Are lanes detected? True True\n"
     ]
    },
    {
     "name": "stderr",
     "output_type": "stream",
     "text": [
      "\u001b[A\n",
      "100%|█████████▉| 1197/1200 [08:04<00:01,  2.60it/s]"
     ]
    },
    {
     "name": "stdout",
     "output_type": "stream",
     "text": [
      "Sliding window being executed...\n",
      "477.845654557\n",
      "1014.11715539\n",
      "Sanity flag= 0\n",
      "Are lanes detected? True True\n"
     ]
    },
    {
     "name": "stderr",
     "output_type": "stream",
     "text": [
      "\u001b[A\n",
      "100%|█████████▉| 1198/1200 [08:05<00:00,  2.59it/s]"
     ]
    },
    {
     "name": "stdout",
     "output_type": "stream",
     "text": [
      "Sliding window being executed...\n",
      "511.869272211\n",
      "2124.89077468\n",
      "Sanity flag= 1\n",
      "Are lanes detected? True True\n"
     ]
    },
    {
     "name": "stderr",
     "output_type": "stream",
     "text": [
      "\u001b[A\n",
      "100%|█████████▉| 1199/1200 [08:05<00:00,  2.60it/s]"
     ]
    },
    {
     "name": "stdout",
     "output_type": "stream",
     "text": [
      "Sliding window being executed...\n",
      "556.613236875\n",
      "4385.20671066\n",
      "Sanity flag= 1\n",
      "Are lanes detected? True True\n"
     ]
    },
    {
     "name": "stderr",
     "output_type": "stream",
     "text": [
      "\u001b[A\n",
      "\u001b[A"
     ]
    },
    {
     "name": "stdout",
     "output_type": "stream",
     "text": [
      "[MoviePy] Done.\n",
      "[MoviePy] >>>> Video ready: Project_Output_Videos/harder_challenge_video.mp4 \n",
      "\n",
      "CPU times: user 4min 16s, sys: 54.7 s, total: 5min 11s\n",
      "Wall time: 8min 9s\n"
     ]
    }
   ],
   "source": [
    "harder_challenge_output = 'Project_Output_Videos/harder_challenge_video.mp4'\n",
    "## To speed up the testing process you may want to try your pipeline on a shorter subclip of the video\n",
    "## To do so add .subclip(start_second,end_second) to the end of the line below\n",
    "## Where start_second and end_second are integer values representing the start and end of the subclip\n",
    "## You may also uncomment the following line for a subclip of the first 5 seconds\n",
    "##clip1 = VideoFileClip(\"test_videos/solidWhiteRight.mp4\").subclip(0,5)\n",
    "clip3 = VideoFileClip(\"harder_challenge_video.mp4\")\n",
    "white_clip = clip3.fl_image(lane_detector) #NOTE: this function expects color images!!\n",
    "%time white_clip.write_videofile(harder_challenge_output, audio=False)"
   ]
  },
  {
   "cell_type": "code",
   "execution_count": 67,
   "metadata": {},
   "outputs": [
    {
     "data": {
      "text/html": [
       "\n",
       "<video width=\"960\" height=\"540\" controls>\n",
       "  <source src=\"Project_Output_Videos/harder_challenge_video.mp4\">\n",
       "</video>\n"
      ],
      "text/plain": [
       "<IPython.core.display.HTML object>"
      ]
     },
     "execution_count": 67,
     "metadata": {},
     "output_type": "execute_result"
    }
   ],
   "source": [
    "HTML(\"\"\"\n",
    "<video width=\"960\" height=\"540\" controls>\n",
    "  <source src=\"{0}\">\n",
    "</video>\n",
    "\"\"\".format(harder_challenge_output))"
   ]
  },
  {
   "cell_type": "code",
   "execution_count": null,
   "metadata": {},
   "outputs": [],
   "source": []
  }
 ],
 "metadata": {
  "kernelspec": {
   "display_name": "Python 3",
   "language": "python",
   "name": "python3"
  },
  "language_info": {
   "codemirror_mode": {
    "name": "ipython",
    "version": 3
   },
   "file_extension": ".py",
   "mimetype": "text/x-python",
   "name": "python",
   "nbconvert_exporter": "python",
   "pygments_lexer": "ipython3",
   "version": "3.6.3"
  }
 },
 "nbformat": 4,
 "nbformat_minor": 2
}
