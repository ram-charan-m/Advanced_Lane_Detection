{
 "cells": [
  {
   "cell_type": "markdown",
   "metadata": {},
   "source": [
    "## Import Packages"
   ]
  },
  {
   "cell_type": "code",
   "execution_count": 1,
   "metadata": {},
   "outputs": [],
   "source": [
    "import numpy as np\n",
    "import cv2\n",
    "import matplotlib.pyplot as plt\n",
    "import matplotlib.image as mpimg\n",
    "import glob\n",
    "import os\n",
    "%matplotlib inline"
   ]
  },
  {
   "cell_type": "markdown",
   "metadata": {},
   "source": [
    "## Misc"
   ]
  },
  {
   "cell_type": "code",
   "execution_count": 2,
   "metadata": {},
   "outputs": [],
   "source": [
    "# # Creating Frame Images from Project Video \n",
    "# # Read the video from specified path \n",
    "# cam = cv2.VideoCapture(\"project_video.mp4\") \n",
    "  \n",
    "# try:       \n",
    "#     # creating a folder named data \n",
    "#     if not os.path.exists('Video Frame Images'): \n",
    "#         os.makedirs('Video Frame Images') \n",
    "  \n",
    "# # if not created then raise error \n",
    "# except OSError: \n",
    "#     print ('Error: Creating directory of data') \n",
    "  \n",
    "# # frame \n",
    "# currentframe = 0\n",
    "  \n",
    "# while(True): \n",
    "      \n",
    "#     # reading from frame \n",
    "#     ret,frame = cam.read() \n",
    "  \n",
    "#     if ret: \n",
    "#         # if video is still left continue creating images \n",
    "#         name = './Video Frame Images/frame' + str(currentframe) + '.jpg'\n",
    "#         print ('Creating...' + name) \n",
    "  \n",
    "#         # writing the extracted images \n",
    "#         cv2.imwrite(name, frame) \n",
    "  \n",
    "#         # increasing counter so that it will \n",
    "#         # show how many frames are created \n",
    "#         currentframe += 1\n",
    "#     else: \n",
    "#         break\n",
    "\n",
    "\n",
    "# Straight lane images\n",
    "strt = []\n",
    "for image in glob.glob('test_images/straight_lines*.jpg'):\n",
    "    strt.append(cv2.imread(image))\n",
    "    \n",
    "# plt.imshow(cv2.imread('Video Frame Images/frame1050.jpg'))"
   ]
  },
  {
   "cell_type": "markdown",
   "metadata": {},
   "source": [
    "## Camera Calibration"
   ]
  },
  {
   "cell_type": "code",
   "execution_count": 3,
   "metadata": {},
   "outputs": [],
   "source": [
    "# Process: read in images and create imagepoints and objectpoints using which we can compute distortion coefficients and\n",
    "# tranformation matrix with the help of calibrateCamera OpenCV function and undistort image using OpenCV undistort function\n",
    "# calib_imgs = []\n",
    "objpts = []\n",
    "imgpts = []\n",
    "# img_cor = []\n",
    "objp = np.zeros((9*6, 3), np.float32)\n",
    "objp[:,:2] = np.mgrid[0:9,0:6].T.reshape(-1,2)\n",
    "\n",
    "for file in glob.glob('camera_cal/calibration*.jpg'):\n",
    "#     calib_imgs.append(cv2.imread(file))\n",
    "    img = cv2.imread(file)\n",
    "    gray = cv2.cvtColor(img,cv2.COLOR_BGR2GRAY)\n",
    "    ret, corners = cv2.findChessboardCorners(gray, (9, 6), None)\n",
    "    if ret == True:\n",
    "        imgpts.append(corners)\n",
    "        objpts.append(objp)        \n",
    "#         img_cor.append(cv2.drawChessboardCorners(img, (9, 6), corners, ret))\n",
    "        \n",
    "ret, mtx, dist, rvecs, tvecs = cv2.calibrateCamera(objpts, imgpts, gray.shape[::-1], None, None)\n",
    "\n",
    "# Test Images\n",
    "test = []\n",
    "for image in glob.glob('test_images/test*.jpg'):\n",
    "    test.append(cv2.imread(image))\n",
    "\n",
    "ctest = []\n",
    "for image in test:\n",
    "    ctest.append((image))\n",
    "\n",
    "# r_img = ctest[3][:,:,2]\n",
    "# s_img = (cv2.cvtColor(ctest[3],cv2.COLOR_RGB2HLS))[:,:,2]"
   ]
  },
  {
   "cell_type": "markdown",
   "metadata": {},
   "source": [
    "## Function Defnitions"
   ]
  },
  {
   "cell_type": "code",
   "execution_count": 4,
   "metadata": {},
   "outputs": [],
   "source": [
    "# Camera Calibrator\n",
    "def calibrator(img):\n",
    "    dist = np.array([[-0.24688507,-0.02373155,-0.00109831,0.00035107,-0.00259868]])\n",
    "    mtx = np.array([[1.15777818e+03, 0.00000000e+00, 6.67113857e+02],[0.00000000e+00, 1.15282217e+03, 3.86124583e+02],[0.00000000e+00,0.00000000e+00,1.00000000e+00]])\n",
    "    return cv2.undistort(img, mtx, dist, None, mtx)\n",
    "\n",
    "#==============================================================================================================================\n",
    "# Color and Gradient Threshold Function\n",
    "def sthresh(im):\n",
    "    xthresh = [30,80] # fine\n",
    "    ythresh = [0,100] # not useful\n",
    "    mthresh = [20,100] # not useful\n",
    "    dthresh = [0.3,1.3] # fine\n",
    "    rcthresh = [220,255] # fine\n",
    "    scthresh = [110,255] # fine\n",
    "    \n",
    "    r_img = im[:,:,2]\n",
    "    s_img = (cv2.cvtColor(im,cv2.COLOR_RGB2HLS))[:,:,2]\n",
    "    \n",
    "    gray = cv2.cvtColor(im,cv2.COLOR_BGR2GRAY)\n",
    "    \n",
    "    sobelx = cv2.Sobel(gray, cv2.CV_64F, 1, 0, ksize = 19)\n",
    "    sobely = cv2.Sobel(gray, cv2.CV_64F, 0, 1, ksize = 19)\n",
    "    abs_sobelx = (sobelx**2)**(0.5)\n",
    "    abs_sobely = (sobely**2)**(0.5)\n",
    "    dir_sobel = np.arctan2(abs_sobely,abs_sobelx)\n",
    "    abs_sobel = np.sqrt(sobelx**2 + sobely**2)\n",
    "    \n",
    "    scaled_sobel = np.uint8(255*abs_sobel/np.max(abs_sobel))\n",
    "    scaled_sobelx = np.uint8(255*abs_sobelx/np.max(abs_sobelx))\n",
    "    scaled_sobely = np.uint8(255*abs_sobely/np.max(abs_sobely))\n",
    "    \n",
    "    sxbin = np.zeros_like(scaled_sobel)\n",
    "    sybin = np.zeros_like(scaled_sobel)\n",
    "    dsbin = np.zeros_like(scaled_sobel)\n",
    "    msbin = np.zeros_like(scaled_sobel)\n",
    "    combin1 = np.zeros_like(scaled_sobel)\n",
    "    combin2 = np.zeros_like(scaled_sobel)\n",
    "    combin3 = np.zeros_like(scaled_sobel)\n",
    "    combin4 = np.zeros_like(scaled_sobel)\n",
    "    rbin = np.zeros_like(r_img)\n",
    "    sbin = np.zeros_like(s_img)    \n",
    "    \n",
    "    sxbin[(scaled_sobelx > xthresh[0]) & (scaled_sobelx < xthresh[1])] = 1 # peforms poorly only in lighter(whiter) roads\n",
    "    sybin[(scaled_sobely > ythresh[0]) & (scaled_sobely < ythresh[1])] = 1 # sybin is not very useful compared to sxbin\n",
    "    msbin[(scaled_sobel > mthresh[0]) & (scaled_sobel < mthresh[1])] = 1 # adds junk from ysobel\n",
    "    dsbin[(dir_sobel > dthresh[0]) & (dir_sobel < dthresh[1])] = 1 # lot of junk with lanes\n",
    "    rbin[(r_img >= rcthresh[0]) & (r_img <= rcthresh[1])] = 1 # best except shadows\n",
    "    sbin[(s_img >= scthresh[0]) & (s_img <= scthresh[1])] = 1 # decent every condition\n",
    "    \n",
    "    # Good combos\n",
    "    combin1[(((sbin==1) & (rbin==1)) | (sxbin==1))  & (dsbin==1)] = 1\n",
    "    combin2[(((sbin==1) | (rbin==1)) | (sxbin==1))] = 1\n",
    "    combin3[(sbin==1) | (rbin==1)] = 1\n",
    "    combin4[((sbin==1) & (rbin==1)) | ((sxbin==1) & (sybin==1))] = 1\n",
    "    \n",
    "    return combin4\n",
    "# # PLOT calibrated img vs threshold binary image\n",
    "# f, (ax1, ax2) = plt.subplots(1, 2, figsize=(24, 9))\n",
    "# f.tight_layout()\n",
    "# ax1.imshow(ctest[5])\n",
    "# ax1.set_title('Original Image', fontsize=50)\n",
    "# ax2.imshow(sthresh(ctest[5]))\n",
    "# ax2.set_title('Undistorted Image', fontsize=50)\n",
    "# plt.subplots_adjust(left=0., right=1, top=0.9, bottom=0.)\n",
    "\n",
    "# #============================================================================================================================\n",
    "# Perspective and Inverse Perspective Transform functions\n",
    "\n",
    "def inv_persp_trans(img):\n",
    "    img_size = (img.shape[1],img.shape[0])\n",
    "    src = np.float32([ [200,720], [1050,720], [678,447], [600,447]])\n",
    "    dst = np.float32([ [300,720], [900,720], [900,0], [300,0]])\n",
    "    M = cv2.getPerspectiveTransform(dst, src)\n",
    "    warp = cv2.warpPerspective(img, M, img_size, flags=cv2.INTER_LINEAR)\n",
    "    return warp\n",
    "\n",
    "def ninv_persp_trans(img):\n",
    "    img_size = (img.shape[1],img.shape[0])\n",
    "    src = np.float32([ [200,720], [1050,720], [720,480], [550,480]])\n",
    "    dst = np.float32([ [250,720], [900,720], [900,0], [250,0]])\n",
    "    M = cv2.getPerspectiveTransform(dst, src)\n",
    "    warp = cv2.warpPerspective(img, M, img_size, flags=cv2.INTER_LINEAR)\n",
    "    return warp\n",
    "\n",
    "def persp_trans(img):\n",
    "    img_size = (img.shape[1],img.shape[0])\n",
    "    src = np.float32([ [200,720], [1050,720], [678,447], [600,447]])\n",
    "    dst = np.float32([ [300,720], [900,720], [900,0], [300,0]])\n",
    "    M = cv2.getPerspectiveTransform(src,dst)\n",
    "    warp = cv2.warpPerspective(img, M, img_size, flags=cv2.INTER_LINEAR)\n",
    "    return warp\n",
    "#alternative\n",
    "def npersp_trans(img):\n",
    "    img_size = (img.shape[1],img.shape[0])\n",
    "    src = np.float32([ [200,720], [1050,720], [720,480], [550,480]])\n",
    "    dst = np.float32([ [250,720], [900,720], [900,0], [250,0]])\n",
    "    M = cv2.getPerspectiveTransform(src,dst)\n",
    "    warp = cv2.warpPerspective(img, M, img_size, flags=cv2.INTER_LINEAR)\n",
    "    return warp\n",
    "\n",
    "def region_of_interest(img):\n",
    "    #defining a blank mask to start with - whole image is zeros\n",
    "    mask = np.zeros_like(img) \n",
    "    \n",
    "    v1 = [100,img.shape[0]]\n",
    "    v2 = [img.shape[1]-50,img.shape[0]]\n",
    "    v3 = [img.shape[1]-50,0]\n",
    "    v4 = [100,0]\n",
    "    vertices=np.array([(v1,v2,v3,v4)])\n",
    "    \n",
    "    #defining a 3 channel or 1 channel color to fill the mask with depending on the input image - simply fills the color channel\n",
    "    # image is in; if its a full channel, then the original image, gray, then just gray, etc\n",
    "    if len(img.shape) > 2:\n",
    "        channel_count = img.shape[2]  # i.e. 3 or 4 depending on your image\n",
    "        ignore_mask_color = (255,) * channel_count\n",
    "    else:\n",
    "        ignore_mask_color = 255\n",
    "        \n",
    "    #filling pixels inside the polygon defined by \"vertices\" with the fill color    \n",
    "    cv2.fillPoly(mask, vertices, ignore_mask_color) # - vertices order is important to form the desired polygon shape\n",
    "    # creates the channel in expressed polygon with others as zero\n",
    "    \n",
    "    # need an automated method to detect vertices of interest\n",
    "    \n",
    "    #returning the image only where mask pixels are nonzero\n",
    "    masked_image = cv2.bitwise_and(img, mask) #gives masked img as bitwise func adds img elements in nonzero,i.e., in polygon \n",
    "    return masked_image\n",
    "\n",
    "# # PLOT calibrated img vs threshold binary image\n",
    "# f, (ax1, ax2) = plt.subplots(1, 2, figsize=(24, 9))\n",
    "# f.tight_layout()\n",
    "# ax1.imshow(persp_trans(sthresh(ctest[5])))\n",
    "# ax1.set_title('Warped Image', fontsize=50)\n",
    "# ax2.imshow(sthresh(ctest[5]))\n",
    "# ax2.set_title('Thresholded Image', fontsize=50)\n",
    "# plt.subplots_adjust(left=0., right=1, top=0.9, bottom=0.)\n",
    "\n",
    "#====================================================================================================================\n",
    "# # Video frame test images\n",
    "# test1 = persp_trans(sthresh(frame_test[0]))\n",
    "# test2 = persp_trans(sthresh(frame_test[1]))# test image for function validation\n",
    "#====================================================================================================================\n",
    "\n",
    "# Find Lane Lines initially functions\n",
    "def find_lane_pixels(binary_warped):\n",
    "\n",
    "    histogram = np.sum(binary_warped[binary_warped.shape[0]//2:,:], axis=0)\n",
    "    out_img = np.dstack((binary_warped*255, binary_warped*255, binary_warped*255))\n",
    "    midpoint = np.int(histogram.shape[0]//2)\n",
    "    leftx_base = np.argmax(histogram[:midpoint])\n",
    "    rightx_base = np.argmax(histogram[midpoint:]) + midpoint\n",
    "\n",
    "    # HYPERPARAMETERS\n",
    "    nwindows = 4\n",
    "    margin = 100\n",
    "    minpix = 100\n",
    "\n",
    "    window_height = np.int(binary_warped.shape[0]//nwindows)\n",
    "    nonzero = binary_warped.nonzero() # indices at which binar_warped has nonzero elements\n",
    "    nonzeroy = np.array(nonzero[0]) # indices of nonzero elements of \n",
    "    # rows of binary_warped \n",
    "    nonzerox = np.array(nonzero[1]) # indices of nonzero elements of colums\n",
    "    # of binary_warped\n",
    "    leftx_current = leftx_base\n",
    "    rightx_current = rightx_base\n",
    "\n",
    "    #Empty lists to receive left and right lane pixel indices\n",
    "    left_lane_inds = []\n",
    "    right_lane_inds = []\n",
    "\n",
    "    left_flag = 1\n",
    "    right_flag = 1\n",
    "\n",
    "    # Step through the left windows one by one\n",
    "    for window in range(nwindows):\n",
    "\n",
    "#         if left_flag == 0:\n",
    "#             break\n",
    "\n",
    "        win_y_low = binary_warped.shape[0] - (window+1)*window_height \n",
    "        win_y_high = binary_warped.shape[0] - window*window_height\n",
    "        win_xleft_low = leftx_current - (margin) \n",
    "        win_xleft_high = leftx_current + (margin)  \n",
    "\n",
    "        cv2.rectangle(out_img,(win_xleft_low,win_y_low),(win_xleft_high,win_y_high),(0,255,0), 7) \n",
    "\n",
    "        good_left_inds = ((nonzeroy >= win_y_low) & (nonzeroy < win_y_high) & (nonzerox >= win_xleft_low) &  (nonzerox < win_xleft_high)).nonzero()[0]\n",
    "\n",
    "        left_lane_inds.append(good_left_inds)\n",
    "\n",
    "        if len(good_left_inds) > minpix:\n",
    "            leftx_current = np.int(np.mean(nonzerox[good_left_inds]))\n",
    "        # Flag reset for high curvature lane ie lane out of frame    \n",
    "        if len(good_left_inds) == 0:\n",
    "            left_flag = 0\n",
    "\n",
    "    for window in range(nwindows):\n",
    "#         if right_flag == 0:\n",
    "#             break\n",
    "\n",
    "        win_y_low = binary_warped.shape[0] - (window+1)*window_height\n",
    "        win_y_high = binary_warped.shape[0] - window*window_height\n",
    "        win_xright_low = rightx_current - (margin) \n",
    "        win_xright_high = rightx_current + (margin) \n",
    "\n",
    "        cv2.rectangle(out_img,(win_xright_low,win_y_low), (win_xright_high,win_y_high),(0,255,0), 7) \n",
    "\n",
    "        good_right_inds = ((nonzeroy >= win_y_low) & (nonzeroy < win_y_high) & (nonzerox >= win_xright_low) &  (nonzerox < win_xright_high)).nonzero()[0]\n",
    "\n",
    "        right_lane_inds.append(good_right_inds)\n",
    "\n",
    "        if len(good_right_inds) > minpix:\n",
    "            rightx_current = np.int(np.mean(nonzerox[good_right_inds]))\n",
    "        # Flag reset for large curvature lane ie lane out of frame\n",
    "        if len(good_right_inds) == 0:\n",
    "            right_flag = 0   \n",
    "\n",
    "    # Concatenate the arrays of indices (previously was a list of lists of pixels)\n",
    "    try:\n",
    "        left_lane_inds = np.concatenate(left_lane_inds)\n",
    "        right_lane_inds = np.concatenate(right_lane_inds)\n",
    "    except ValueError:\n",
    "        pass\n",
    "\n",
    "    leftx = nonzerox[left_lane_inds]\n",
    "    lefty = nonzeroy[left_lane_inds] \n",
    "    rightx = nonzerox[right_lane_inds]\n",
    "    righty = nonzeroy[right_lane_inds]\n",
    "\n",
    "    return leftx, lefty, rightx, righty\n",
    "\n",
    "def fit_polynomial(binary_warped):\n",
    "    fit_flag = 0\n",
    "    # Find our lane pixels first\n",
    "    leftx, lefty, rightx, righty = find_lane_pixels(binary_warped)\n",
    "\n",
    "    ### TO-DO: Fit a second order polynomial to each using `np.polyfit` ###\n",
    "    left_fit = np.polyfit(lefty,leftx,2)\n",
    "    right_fit = np.polyfit(righty,rightx,2)\n",
    "\n",
    "    # Generate x and y values for plotting\n",
    "    ploty = np.linspace(0, binary_warped.shape[0]-1, binary_warped.shape[0] )\n",
    "    try:\n",
    "        left_fitx = left_fit[0]*ploty**2 + left_fit[1]*ploty + left_fit[2]\n",
    "        right_fitx = right_fit[0]*ploty**2 + right_fit[1]*ploty + right_fit[2]\n",
    "        fit_flag = 0\n",
    "    except TypeError:\n",
    "        # Avoids an error if `left` and `right_fit` are still none or incorrect\n",
    "        print('The function failed to fit a line!')\n",
    "        fit_flag = 1\n",
    "        left_fitx = 1*ploty**2 + 1*ploty\n",
    "        right_fitx = 1*ploty**2 + 1*ploty\n",
    "\n",
    "#     ## Visualization ##\n",
    "#     # Colors in the left and right lane regions\n",
    "#     out_img[lefty, leftx] = [255, 0, 0]\n",
    "#     out_img[righty, rightx] = [0, 0, 255]\n",
    "\n",
    "#     # Plots the left and right polynomials on the lane lines\n",
    "#     plt.plot(left_fitx,ploty, color='white')\n",
    "#     plt.plot(right_fitx,ploty, color='white')\n",
    "\n",
    "    return left_fit, right_fit, ploty, fit_flag\n",
    "#============================================================================================================================\n",
    "\n",
    "# After first frame lane line detection\n",
    "def fit_poly(img_shape, leftx, lefty, rightx, righty):\n",
    "    fit_flag = 0\n",
    "    ### TO-DO: Fit a second order polynomial to each with np.polyfit() ###\n",
    "    left_fit = np.polyfit(lefty, leftx, 2)\n",
    "    right_fit = np.polyfit(righty, rightx, 2)\n",
    "    # Generate x and y values for plotting\n",
    "    ploty = np.linspace(0, img_shape[0]-1, img_shape[0])\n",
    "    ### TO-DO: Calc both polynomials using ploty, left_fit and right_fit ###\n",
    "    try:\n",
    "        left_fitx = left_fit[0]*ploty**2 + left_fit[1]*ploty + left_fit[2] \n",
    "        right_fitx = right_fit[0]*ploty**2 + right_fit[1]*ploty + right_fit[2] \n",
    "        fit_flag = 0\n",
    "    except TypeError:\n",
    "    # Avoids an error if `left` and `right_fit` are still none or incorrect\n",
    "        print('The function failed to fit a line!')\n",
    "        fit_flag = 1\n",
    "        left_fitx = 1*ploty**2 + 1*ploty\n",
    "        right_fitx = 1*ploty**2 + 1*ploty\n",
    "    \n",
    "    \n",
    "    return left_fit, right_fit, ploty, fit_flag\n",
    "\n",
    "def targeted_lane_search(img, left_fit, right_fit):\n",
    "#     left_fit, right_fit, ploty = fit_polynomial(img) # First frame fit coefficients\n",
    "\n",
    "# #     For testing\n",
    "#     left_fit = np.array([ -1.82904696e-05, 7.34004683e-02, 1.53926681e+02])\n",
    "#     right_fit = np.array([  1.39554306e-04, -1.62273165e-01, 1.15337075e+03])\n",
    "    margin = 100\n",
    "    nonzero = img.nonzero()\n",
    "    nonzeroy = np.array(nonzero[0])\n",
    "    nonzerox = np.array(nonzero[1])\n",
    "    \n",
    "    left_lane_inds = ((nonzerox >= left_fit[0]*nonzeroy**2 + left_fit[1]*nonzeroy \\\n",
    "                    + left_fit[2] - margin) & (nonzerox <= left_fit[0]*nonzeroy**2 \\\n",
    "                    + left_fit[1]*nonzeroy + left_fit[2] + margin))\n",
    "    \n",
    "    right_lane_inds = ((nonzerox >= right_fit[0]*nonzeroy**2 + right_fit[1]*nonzeroy \\\n",
    "                    + right_fit[2] - margin) & (nonzerox <= right_fit[0]*nonzeroy**2 \\\n",
    "                    + right_fit[1]*nonzeroy + right_fit[2] + margin))\n",
    "\n",
    "    leftx = nonzerox[left_lane_inds]\n",
    "    lefty = nonzeroy[left_lane_inds] \n",
    "    rightx = nonzerox[right_lane_inds]\n",
    "    righty = nonzeroy[right_lane_inds]\n",
    "\n",
    "    left_fit, right_fit, ploty, fit_flag = fit_poly(img.shape, leftx, lefty, rightx, righty)\n",
    "    \n",
    "#     xm_per_pix = 3.7/900# meters per pixel in x\n",
    "#     ym_per_pix = 30/720# meters per pixel in y\n",
    "    \n",
    "#     left_fit_cr = np.polyfit(ym_per_pix*lefty, xm_per_pix*leftx, 2)\n",
    "#     right_fit_cr = np.polyfit(ym_per_pix*righty, xm_per_pix*rightx, 2)    \n",
    "   \n",
    "#     ## Visualization ##\n",
    "#     # Create an image to draw on and an image to show the selection window\n",
    "#     out_img = np.dstack((img, img, img))*255\n",
    "#     window_img = np.zeros_like(out_img)\n",
    "#     # Color in left and right line pixels\n",
    "#     out_img[nonzeroy[left_lane_inds], nonzerox[left_lane_inds]] = [255, 0, 0]\n",
    "#     out_img[nonzeroy[right_lane_inds], nonzerox[right_lane_inds]] = [0, 0, 255]\n",
    "\n",
    "#     # Generate a polygon to illustrate the search window area\n",
    "#     # And recast the x and y points into usable format for cv2.fillPoly()    \n",
    "#     left_line_window1 = np.array([np.transpose(np.vstack([left_fitx - margin, ploty]))])\n",
    "#     left_line_window2 = np.array([np.flipud(np.transpose(np.vstack([left_fitx + margin, \n",
    "#                               ploty])))])\n",
    "#     left_line_pts = np.hstack((left_line_window1, left_line_window2))\n",
    "#     right_line_window1 = np.array([np.transpose(np.vstack([right_fitx - margin, ploty]))])\n",
    "#     right_line_window2 = np.array([np.flipud(np.transpose(np.vstack([right_fitx + margin, \n",
    "#                               ploty])))])\n",
    "#     right_line_pts = np.hstack((right_line_window1, right_line_window2))\n",
    "    \n",
    "#     # Draw the lane onto the warped blank image\n",
    "#     cv2.fillPoly(window_img, np.int_([left_line_pts]), (0,255, 0))\n",
    "#     cv2.fillPoly(window_img, np.int_([right_line_pts]), (0,255, 0))\n",
    "#     result = cv2.addWeighted(out_img, 1, window_img, 0.3, 0)\n",
    "    \n",
    "    # Plot the polynomial lines onto the image\n",
    "#     plt.plot(left_fitx, ploty, color='yellow')\n",
    "#     plt.plot(right_fitx, ploty, color='yellow')\n",
    "    # End visualization steps ##\n",
    "    \n",
    "    return left_fit, right_fit, ploty, fit_flag\n",
    "#============================================================================================================================\n",
    "# Curvature and vehicle lane position Function\n",
    "\n",
    "def curvature(lfit, rfit, ploty):\n",
    "\n",
    "    xm = 3.7/900# meters per pixel in x\n",
    "    ym = 30/720# meters per pixel in y\n",
    "\n",
    "    y_eval_m = np.max(ploty)*ym\n",
    "\n",
    "    #converting fit coefficients from pixels to meters\n",
    "    left_fit_cr = [lfit[0]*((xm)/(ym**2)), lfit[1]*((xm)/ym), lfit[2]]\n",
    "    right_fit_cr = [rfit[0]*((xm)/(ym**2)), rfit[1]*((xm)/ym), rfit[2]]\n",
    "\n",
    "    left_curverad = (( 1+ ((( 2*left_fit_cr[0]*y_eval_m) + left_fit_cr[1])**2))**(1.5)) / np.absolute(2*left_fit_cr[0])  ## Implement the calculation of the left line here\n",
    "    right_curverad = (( 1+ ((( 2*right_fit_cr[0]*y_eval_m) + right_fit_cr[1])**2))**(1.5)) / np.absolute(2*right_fit_cr[0])  ## Implement the calculation of the right line here\n",
    "    \n",
    "    veh_xpos = (1280/2)*xm\n",
    "    ylane_high = 720\n",
    "    xleft = (lfit[0]*(ylane_high**2) + lfit[1]*(ylane_high) + lfit[2])*xm\n",
    "    xright = (rfit[0]*(ylane_high**2) + rfit[1]*(ylane_high) + rfit[2])*xm\n",
    "    lane_mid = xleft + ((xright - xleft)/2)\n",
    "    veh_ln_pos = veh_xpos - lane_mid # in meters\n",
    "    \n",
    "    return left_curverad, right_curverad, veh_ln_pos, xleft, xright\n",
    "#=============================================================================================================================="
   ]
  },
  {
   "cell_type": "markdown",
   "metadata": {},
   "source": [
    "## LANE DETECTION\n"
   ]
  },
  {
   "cell_type": "code",
   "execution_count": 5,
   "metadata": {},
   "outputs": [],
   "source": [
    "from moviepy.editor import VideoFileClip\n",
    "from IPython.display import HTML"
   ]
  },
  {
   "cell_type": "code",
   "execution_count": 6,
   "metadata": {},
   "outputs": [],
   "source": [
    "# Define a class to receive the characteristics of each line detection\n",
    "        \n",
    "class left_lane():\n",
    "    # was the line detected in the last iteration\n",
    "    detected = False  \n",
    "    #polynomial coefficients for the most recent fit\n",
    "    current_fit_coeff = []\n",
    "    #radius of curvature of the line in some units\n",
    "    radius_of_curvature = None \n",
    "    #x values for detected line pixels\n",
    "    allx = None\n",
    "    # lane start x location in meters\n",
    "    xcoord = None\n",
    "    def reset():\n",
    "        # was the line detected in the last iteration\n",
    "        left_lane.detected = False  \n",
    "        #polynomial coefficients for the most recent fit\n",
    "        left_lane.current_fit_coeff = []\n",
    "        #radius of curvature of the line in some units\n",
    "        left_lane.radius_of_curvature = None \n",
    "        #x values for detected line pixels\n",
    "        left_lane.allx = None\n",
    "        # lane start x location in meters\n",
    "        left_lane.xcoord = None\n",
    "        \n",
    "    \n",
    "class right_lane():\n",
    "    # was the line detected in the last iteration\n",
    "    detected = False  \n",
    "    #polynomial coefficients for the most recent fit\n",
    "    current_fit_coeff = []\n",
    "    #radius of curvature of the line in some units\n",
    "    radius_of_curvature = None \n",
    "    #x values for detected line pixels\n",
    "    allx = None\n",
    "    # lane start x location in meters\n",
    "    xcoord = None\n",
    "    def reset():\n",
    "        # was the line detected in the last iteration\n",
    "        right_lane.detected = False  \n",
    "        #polynomial coefficients for the most recent fit\n",
    "        right_lane.current_fit_coeff = []\n",
    "        #radius of curvature of the line in some units\n",
    "        right_lane.radius_of_curvature = None \n",
    "        #x values for detected line pixels\n",
    "        right_lane.allx = None\n",
    "        # lane start x location in meters\n",
    "        right_lane.xcoord = None\n",
    "\n",
    "class Sanity():\n",
    "    sanity_flag = None # 0 is good, 1 is bad\n",
    "    def reset():\n",
    "        Sanity.sanity_flag = None\n",
    "        \n",
    "def lane_detector(img):         \n",
    "    \n",
    "    # step1: apply camera calibration to current frame\n",
    "    calibrated_img = calibrator(img)    \n",
    "    \n",
    "    # step2: apply thresholds and convert image to binary\n",
    "    thresh_bin_img = sthresh(calibrated_img)  \n",
    "    \n",
    "    # step3: perspective transform and masking unwanted borders\n",
    "    persp_bin_img = npersp_trans(thresh_bin_img)\n",
    "    persp_bin_img = region_of_interest(persp_bin_img)       \n",
    "    \n",
    "    # Option A:\n",
    "    # if left and right lines == (empty) OR (not empty & unacceptable based on sanity checks) - initial lane line detection\n",
    "    # will return y coords and left and right fit coefficents\n",
    "    if (((left_lane.detected == False) & (right_lane.detected == False)) | (Sanity.sanity_flag == 1)):\n",
    "        left_lane.current_fit_coeff, right_lane.current_fit_coeff, ploty, fit_flag = fit_polynomial(persp_bin_img)\n",
    "        print('Sliding window being executed...')\n",
    "        # setting fit attributes of lane class objects to fit coefficients calculated\n",
    "        \n",
    "        #step6: lane curvature and vehicle position within the lane calculation\n",
    "        left_lane.radius_of_curvature, right_lane.radius_of_curvature, veh_ln_pos,left_lane.xcoord,right_lane.xcoord  = curvature(left_lane.current_fit_coeff, right_lane.current_fit_coeff, ploty)           \n",
    "        \n",
    "        # Line detection check\n",
    "        if fit_flag == 0:\n",
    "            left_lane.detected = True\n",
    "            right_lane.detected = True\n",
    "        if fit_flag == 1:\n",
    "            left_lane.detected = False\n",
    "            right_lane.detected = False\n",
    "            \n",
    "#         print((left_lane.radius_of_curvature - right_lane.radius_of_curvature))\n",
    "#         print(left_lane.current_fit_coeff[0]-right_lane.current_fit_coeff[0])\n",
    "#         print(left_lane.current_fit_coeff[1]-right_lane.current_fit_coeff[1])\n",
    "#         print(left_lane.radius_of_curvature)\n",
    "#         print(right_lane.radius_of_curvature)\n",
    "#         print(left_lane.xcoord - right_lane.xcoord)        \n",
    "        \n",
    "        #Sanity check        \n",
    "        if ( ((left_lane.current_fit_coeff[0]-right_lane.current_fit_coeff[0]) <= 1) & \\\n",
    "             ((left_lane.current_fit_coeff[0]-right_lane.current_fit_coeff[0]) >= -1) & \\\n",
    "             ((left_lane.current_fit_coeff[1]-right_lane.current_fit_coeff[1]) <= 1) & \\\n",
    "             ((left_lane.current_fit_coeff[1]-right_lane.current_fit_coeff[1]) >= -1) & \\\n",
    "             (left_lane.radius_of_curvature <= 5000) & (right_lane.radius_of_curvature <= 5000) & \\\n",
    "             ((left_lane.xcoord - right_lane.xcoord) <= 4) & ((left_lane.xcoord - right_lane.xcoord) >= -4) ):\n",
    "            Sanity.sanity_flag = 0\n",
    "        else:\n",
    "            Sanity.sanity_flag = 1       \n",
    "    \n",
    "#         print('Sanity flag=', Sanity.sanity_flag)\n",
    "#         print('Are lanes detected?',left_lane.detected,right_lane.detected)\n",
    "    # Option B: \n",
    "    # if left and right lines == (not empty) & (accepetable based on sanity checks) - Targeted lane detection\n",
    "    # use returned y coords and left and right fit coefficents for a targeted search \n",
    "    elif ((((left_lane.detected == True) & (right_lane.detected == True)) & (Sanity.sanity_flag == 0))):\n",
    "        left_lane.current_fit_coeff, right_lane.current_fit_coeff, ploty, fit_flag = targeted_lane_search(persp_bin_img, left_lane.current_fit_coeff, right_lane.current_fit_coeff)\n",
    "        print('Targeted Search being executed...')\n",
    "        # Line detection check\n",
    "        if fit_flag == 0:\n",
    "            left_lane.detected = True\n",
    "            right_lane.detected = True\n",
    "        if fit_flag == 1:\n",
    "            left_lane.detected = False\n",
    "            right_lane.detected = False\n",
    "\n",
    "        #Sanity check        \n",
    "        if ( ((left_lane.current_fit_coeff[0]-right_lane.current_fit_coeff[0]) <= 1) & \\\n",
    "             ((left_lane.current_fit_coeff[0]-right_lane.current_fit_coeff[0]) >= -1) & \\\n",
    "             ((left_lane.current_fit_coeff[1]-right_lane.current_fit_coeff[1]) <= 1) & \\\n",
    "             ((left_lane.current_fit_coeff[1]-right_lane.current_fit_coeff[1]) >= -1) & \\\n",
    "             (left_lane.radius_of_curvature <= 5000) & (right_lane.radius_of_curvature <= 5000) & \\\n",
    "             ((left_lane.xcoord - right_lane.xcoord) <= 4) & ((left_lane.xcoord - right_lane.xcoord) >= -4) ):\n",
    "            Sanity.sanity_flag = 0\n",
    "        else:\n",
    "            Sanity.sanity_flag = 1\n",
    "            \n",
    "        #step6: lane curvature and vehicle position within the lane calculation\n",
    "        left_lane.radius_of_curvature, right_lane.radius_of_curvature, veh_ln_pos,left_lane.xcoord,right_lane.xcoord  = curvature(left_lane.current_fit_coeff, right_lane.current_fit_coeff, ploty)           \n",
    "          \n",
    "            \n",
    "    #step7: Return frame with lane shaded, displaying lane curvature and vehicle postion within the lane\n",
    "    left_lane.allx = left_lane.current_fit_coeff[0]*(ploty**2) + left_lane.current_fit_coeff[1]*ploty + left_lane.current_fit_coeff[2]\n",
    "    right_lane.allx = right_lane.current_fit_coeff[0]*(ploty**2) + right_lane.current_fit_coeff[1]*ploty + right_lane.current_fit_coeff[2]\n",
    "    left_lane.ally = ploty\n",
    "    right_lane.ally = ploty\n",
    "    \n",
    "        ## Visualization ##\n",
    "    # Create an image to draw on and an image to show the selection window\n",
    "    window_img = np.zeros_like(img)\n",
    "    # Generate a polygon to illustrate the lane\n",
    "    # And recast the x and y points into usable format for cv2.fillPoly()    \n",
    "    left_line = np.array([np.transpose(np.vstack([left_lane.allx, left_lane.ally]))])\n",
    "    right_line = np.array([np.flipud(np.transpose(np.vstack([right_lane.allx, right_lane.ally])))])\n",
    "    lane_line_pts = np.hstack((left_line, right_line))\n",
    "\n",
    "    # Draw the lane onto the warped blank image\n",
    "    cv2.fillPoly(window_img, np.int_([lane_line_pts]), (0,255, 0))\n",
    "    result = cv2.addWeighted(img, 1, ninv_persp_trans(window_img), 0.3, 0)\n",
    "    return result   "
   ]
  },
  {
   "cell_type": "code",
   "execution_count": 7,
   "metadata": {},
   "outputs": [],
   "source": [
    "# plt.imshow(npersp_trans(sthresh(calibrator(cv2.imread('Video Frame Images/frame90.jpg')))))"
   ]
  },
  {
   "cell_type": "markdown",
   "metadata": {},
   "source": [
    "## Lane Detection Testing Problem\n",
    "\n",
    "The lane_detector function is tested using frame560 of the project_video.mp4 file. Below image shows acceptable result.  The same does not yield good result on the video only on two stretches, where the road color seem to change. When verified on these frames, results are good (Stretch1: frames 540 to 620). Run the below cell by varying the frame number ('Video Frame Images/frame<frame_num>.jpg') to verify. The below video processing is subclipped to denote stretch 1. A video is saved in the Project_Output_Videos folder of the repo called \"project_video_subclip_bad_stretch1\"."
   ]
  },
  {
   "cell_type": "code",
   "execution_count": 8,
   "metadata": {},
   "outputs": [
    {
     "name": "stdout",
     "output_type": "stream",
     "text": [
      "Sliding window being executed...\n"
     ]
    },
    {
     "data": {
      "text/plain": [
       "<matplotlib.image.AxesImage at 0x7f14dcc71c18>"
      ]
     },
     "execution_count": 8,
     "metadata": {},
     "output_type": "execute_result"
    },
    {
     "data": {
      "image/png": "[encoded data removed]",
      "text/plain": [
       "<matplotlib.figure.Figure at 0x7f14dcce9b00>"
      ]
     },
     "metadata": {
      "needs_background": "light"
     },
     "output_type": "display_data"
    }
   ],
   "source": [
    "# Resetting class attributes\n",
    "left_lane.reset()\n",
    "right_lane.reset()\n",
    "Sanity.reset()\n",
    "\n",
    "plt.imshow(lane_detector(cv2.imread('Video Frame Images/frame560.jpg')))"
   ]
  },
  {
   "cell_type": "markdown",
   "metadata": {},
   "source": [
    "## Project Video"
   ]
  },
  {
   "cell_type": "code",
   "execution_count": 9,
   "metadata": {
    "scrolled": true
   },
   "outputs": [
    {
     "name": "stdout",
     "output_type": "stream",
     "text": [
      "Sliding window being executed...\n",
      "[MoviePy] >>>> Building video Project_Output_Videos/project_video_subclip_bad_stretch1.mp4\n",
      "[MoviePy] Writing video Project_Output_Videos/project_video_subclip_bad_stretch1.mp4\n"
     ]
    },
    {
     "name": "stderr",
     "output_type": "stream",
     "text": [
      "  1%|          | 1/126 [00:00<00:28,  4.41it/s]"
     ]
    },
    {
     "name": "stdout",
     "output_type": "stream",
     "text": [
      "Sliding window being executed...\n"
     ]
    },
    {
     "name": "stderr",
     "output_type": "stream",
     "text": [
      "\r",
      "  2%|▏         | 2/126 [00:00<00:30,  4.13it/s]"
     ]
    },
    {
     "name": "stdout",
     "output_type": "stream",
     "text": [
      "Sliding window being executed...\n"
     ]
    },
    {
     "name": "stderr",
     "output_type": "stream",
     "text": [
      "\r",
      "  2%|▏         | 3/126 [00:00<00:30,  4.08it/s]"
     ]
    },
    {
     "name": "stdout",
     "output_type": "stream",
     "text": [
      "Sliding window being executed...\n"
     ]
    },
    {
     "name": "stderr",
     "output_type": "stream",
     "text": [
      "\r",
      "  3%|▎         | 4/126 [00:01<00:30,  4.01it/s]"
     ]
    },
    {
     "name": "stdout",
     "output_type": "stream",
     "text": [
      "Sliding window being executed...\n"
     ]
    },
    {
     "name": "stderr",
     "output_type": "stream",
     "text": [
      "\r",
      "  4%|▍         | 5/126 [00:01<00:30,  4.01it/s]"
     ]
    },
    {
     "name": "stdout",
     "output_type": "stream",
     "text": [
      "Sliding window being executed...\n"
     ]
    },
    {
     "name": "stderr",
     "output_type": "stream",
     "text": [
      "\r",
      "  5%|▍         | 6/126 [00:01<00:30,  3.93it/s]"
     ]
    },
    {
     "name": "stdout",
     "output_type": "stream",
     "text": [
      "Sliding window being executed...\n"
     ]
    },
    {
     "name": "stderr",
     "output_type": "stream",
     "text": [
      "\r",
      "  6%|▌         | 7/126 [00:01<00:30,  3.96it/s]"
     ]
    },
    {
     "name": "stdout",
     "output_type": "stream",
     "text": [
      "Sliding window being executed...\n"
     ]
    },
    {
     "name": "stderr",
     "output_type": "stream",
     "text": [
      "\r",
      "  6%|▋         | 8/126 [00:02<00:30,  3.90it/s]"
     ]
    },
    {
     "name": "stdout",
     "output_type": "stream",
     "text": [
      "Sliding window being executed...\n"
     ]
    },
    {
     "name": "stderr",
     "output_type": "stream",
     "text": [
      "\r",
      "  7%|▋         | 9/126 [00:02<00:29,  3.94it/s]"
     ]
    },
    {
     "name": "stdout",
     "output_type": "stream",
     "text": [
      "Sliding window being executed...\n"
     ]
    },
    {
     "name": "stderr",
     "output_type": "stream",
     "text": [
      "\r",
      "  8%|▊         | 10/126 [00:02<00:30,  3.84it/s]"
     ]
    },
    {
     "name": "stdout",
     "output_type": "stream",
     "text": [
      "Sliding window being executed...\n"
     ]
    },
    {
     "name": "stderr",
     "output_type": "stream",
     "text": [
      "\r",
      "  9%|▊         | 11/126 [00:02<00:29,  3.90it/s]"
     ]
    },
    {
     "name": "stdout",
     "output_type": "stream",
     "text": [
      "Sliding window being executed...\n"
     ]
    },
    {
     "name": "stderr",
     "output_type": "stream",
     "text": [
      "\r",
      " 10%|▉         | 12/126 [00:03<00:29,  3.86it/s]"
     ]
    },
    {
     "name": "stdout",
     "output_type": "stream",
     "text": [
      "Sliding window being executed...\n"
     ]
    },
    {
     "name": "stderr",
     "output_type": "stream",
     "text": [
      "\r",
      " 10%|█         | 13/126 [00:03<00:28,  3.91it/s]"
     ]
    },
    {
     "name": "stdout",
     "output_type": "stream",
     "text": [
      "Sliding window being executed...\n"
     ]
    },
    {
     "name": "stderr",
     "output_type": "stream",
     "text": [
      "\r",
      " 11%|█         | 14/126 [00:03<00:28,  3.87it/s]"
     ]
    },
    {
     "name": "stdout",
     "output_type": "stream",
     "text": [
      "Sliding window being executed...\n"
     ]
    },
    {
     "name": "stderr",
     "output_type": "stream",
     "text": [
      "\r",
      " 12%|█▏        | 15/126 [00:03<00:28,  3.88it/s]"
     ]
    },
    {
     "name": "stdout",
     "output_type": "stream",
     "text": [
      "Sliding window being executed...\n"
     ]
    },
    {
     "name": "stderr",
     "output_type": "stream",
     "text": [
      "\r",
      " 13%|█▎        | 16/126 [00:04<00:28,  3.84it/s]"
     ]
    },
    {
     "name": "stdout",
     "output_type": "stream",
     "text": [
      "Sliding window being executed...\n"
     ]
    },
    {
     "name": "stderr",
     "output_type": "stream",
     "text": [
      "\r",
      " 13%|█▎        | 17/126 [00:04<00:28,  3.88it/s]"
     ]
    },
    {
     "name": "stdout",
     "output_type": "stream",
     "text": [
      "Sliding window being executed...\n"
     ]
    },
    {
     "name": "stderr",
     "output_type": "stream",
     "text": [
      "\r",
      " 14%|█▍        | 18/126 [00:04<00:28,  3.85it/s]"
     ]
    },
    {
     "name": "stdout",
     "output_type": "stream",
     "text": [
      "Sliding window being executed...\n"
     ]
    },
    {
     "name": "stderr",
     "output_type": "stream",
     "text": [
      "\r",
      " 15%|█▌        | 19/126 [00:04<00:27,  3.88it/s]"
     ]
    },
    {
     "name": "stdout",
     "output_type": "stream",
     "text": [
      "Sliding window being executed...\n"
     ]
    },
    {
     "name": "stderr",
     "output_type": "stream",
     "text": [
      "\r",
      " 16%|█▌        | 20/126 [00:05<00:27,  3.85it/s]"
     ]
    },
    {
     "name": "stdout",
     "output_type": "stream",
     "text": [
      "Sliding window being executed...\n"
     ]
    },
    {
     "name": "stderr",
     "output_type": "stream",
     "text": [
      "\r",
      " 17%|█▋        | 21/126 [00:05<00:26,  3.91it/s]"
     ]
    },
    {
     "name": "stdout",
     "output_type": "stream",
     "text": [
      "Sliding window being executed...\n"
     ]
    },
    {
     "name": "stderr",
     "output_type": "stream",
     "text": [
      "\r",
      " 17%|█▋        | 22/126 [00:05<00:26,  3.85it/s]"
     ]
    },
    {
     "name": "stdout",
     "output_type": "stream",
     "text": [
      "Sliding window being executed...\n"
     ]
    },
    {
     "name": "stderr",
     "output_type": "stream",
     "text": [
      "\r",
      " 18%|█▊        | 23/126 [00:05<00:26,  3.92it/s]"
     ]
    },
    {
     "name": "stdout",
     "output_type": "stream",
     "text": [
      "Targeted Search being executed...\n"
     ]
    },
    {
     "name": "stderr",
     "output_type": "stream",
     "text": [
      "\r",
      " 19%|█▉        | 24/126 [00:06<00:26,  3.90it/s]"
     ]
    },
    {
     "name": "stdout",
     "output_type": "stream",
     "text": [
      "Targeted Search being executed...\n"
     ]
    },
    {
     "name": "stderr",
     "output_type": "stream",
     "text": [
      "\r",
      " 20%|█▉        | 25/126 [00:06<00:25,  3.94it/s]"
     ]
    },
    {
     "name": "stdout",
     "output_type": "stream",
     "text": [
      "Targeted Search being executed...\n"
     ]
    },
    {
     "name": "stderr",
     "output_type": "stream",
     "text": [
      "\r",
      " 21%|██        | 26/126 [00:06<00:25,  3.89it/s]"
     ]
    },
    {
     "name": "stdout",
     "output_type": "stream",
     "text": [
      "Sliding window being executed...\n"
     ]
    },
    {
     "name": "stderr",
     "output_type": "stream",
     "text": [
      "\r",
      " 21%|██▏       | 27/126 [00:06<00:25,  3.93it/s]"
     ]
    },
    {
     "name": "stdout",
     "output_type": "stream",
     "text": [
      "Sliding window being executed...\n"
     ]
    },
    {
     "name": "stderr",
     "output_type": "stream",
     "text": [
      "\r",
      " 22%|██▏       | 28/126 [00:07<00:25,  3.89it/s]"
     ]
    },
    {
     "name": "stdout",
     "output_type": "stream",
     "text": [
      "Sliding window being executed...\n"
     ]
    },
    {
     "name": "stderr",
     "output_type": "stream",
     "text": [
      "\r",
      " 23%|██▎       | 29/126 [00:07<00:24,  3.93it/s]"
     ]
    },
    {
     "name": "stdout",
     "output_type": "stream",
     "text": [
      "Sliding window being executed...\n"
     ]
    },
    {
     "name": "stderr",
     "output_type": "stream",
     "text": [
      "\r",
      " 24%|██▍       | 30/126 [00:07<00:24,  3.89it/s]"
     ]
    },
    {
     "name": "stdout",
     "output_type": "stream",
     "text": [
      "Targeted Search being executed...\n"
     ]
    },
    {
     "name": "stderr",
     "output_type": "stream",
     "text": [
      "\r",
      " 25%|██▍       | 31/126 [00:07<00:24,  3.93it/s]"
     ]
    },
    {
     "name": "stdout",
     "output_type": "stream",
     "text": [
      "Targeted Search being executed...\n"
     ]
    },
    {
     "name": "stderr",
     "output_type": "stream",
     "text": [
      "\r",
      " 25%|██▌       | 32/126 [00:08<00:24,  3.90it/s]"
     ]
    },
    {
     "name": "stdout",
     "output_type": "stream",
     "text": [
      "Sliding window being executed...\n"
     ]
    },
    {
     "name": "stderr",
     "output_type": "stream",
     "text": [
      "\r",
      " 26%|██▌       | 33/126 [00:08<00:23,  3.94it/s]"
     ]
    },
    {
     "name": "stdout",
     "output_type": "stream",
     "text": [
      "Sliding window being executed...\n"
     ]
    },
    {
     "name": "stderr",
     "output_type": "stream",
     "text": [
      "\r",
      " 27%|██▋       | 34/126 [00:08<00:23,  3.89it/s]"
     ]
    },
    {
     "name": "stdout",
     "output_type": "stream",
     "text": [
      "Sliding window being executed...\n"
     ]
    },
    {
     "name": "stderr",
     "output_type": "stream",
     "text": [
      "\r",
      " 28%|██▊       | 35/126 [00:08<00:23,  3.93it/s]"
     ]
    },
    {
     "name": "stdout",
     "output_type": "stream",
     "text": [
      "Sliding window being executed...\n"
     ]
    },
    {
     "name": "stderr",
     "output_type": "stream",
     "text": [
      "\r",
      " 29%|██▊       | 36/126 [00:09<00:23,  3.91it/s]"
     ]
    },
    {
     "name": "stdout",
     "output_type": "stream",
     "text": [
      "Sliding window being executed...\n"
     ]
    },
    {
     "name": "stderr",
     "output_type": "stream",
     "text": [
      "\r",
      " 29%|██▉       | 37/126 [00:09<00:22,  3.95it/s]"
     ]
    },
    {
     "name": "stdout",
     "output_type": "stream",
     "text": [
      "Sliding window being executed...\n"
     ]
    },
    {
     "name": "stderr",
     "output_type": "stream",
     "text": [
      "\r",
      " 30%|███       | 38/126 [00:09<00:22,  3.86it/s]"
     ]
    },
    {
     "name": "stdout",
     "output_type": "stream",
     "text": [
      "Sliding window being executed...\n"
     ]
    },
    {
     "name": "stderr",
     "output_type": "stream",
     "text": [
      "\r",
      " 31%|███       | 39/126 [00:10<00:22,  3.91it/s]"
     ]
    },
    {
     "name": "stdout",
     "output_type": "stream",
     "text": [
      "Targeted Search being executed...\n"
     ]
    },
    {
     "name": "stderr",
     "output_type": "stream",
     "text": [
      "\r",
      " 32%|███▏      | 40/126 [00:10<00:22,  3.87it/s]"
     ]
    },
    {
     "name": "stdout",
     "output_type": "stream",
     "text": [
      "Targeted Search being executed...\n"
     ]
    },
    {
     "name": "stderr",
     "output_type": "stream",
     "text": [
      "\r",
      " 33%|███▎      | 41/126 [00:10<00:21,  3.94it/s]"
     ]
    },
    {
     "name": "stdout",
     "output_type": "stream",
     "text": [
      "Sliding window being executed...\n"
     ]
    },
    {
     "name": "stderr",
     "output_type": "stream",
     "text": [
      "\r",
      " 33%|███▎      | 42/126 [00:10<00:21,  3.85it/s]"
     ]
    },
    {
     "name": "stdout",
     "output_type": "stream",
     "text": [
      "Sliding window being executed...\n"
     ]
    },
    {
     "name": "stderr",
     "output_type": "stream",
     "text": [
      "\r",
      " 34%|███▍      | 43/126 [00:11<00:28,  2.89it/s]"
     ]
    },
    {
     "name": "stdout",
     "output_type": "stream",
     "text": [
      "Sliding window being executed...\n"
     ]
    },
    {
     "name": "stderr",
     "output_type": "stream",
     "text": [
      "\r",
      " 35%|███▍      | 44/126 [00:11<00:28,  2.92it/s]"
     ]
    },
    {
     "name": "stdout",
     "output_type": "stream",
     "text": [
      "Targeted Search being executed...\n"
     ]
    },
    {
     "name": "stderr",
     "output_type": "stream",
     "text": [
      "\r",
      " 36%|███▌      | 45/126 [00:11<00:27,  2.96it/s]"
     ]
    },
    {
     "name": "stdout",
     "output_type": "stream",
     "text": [
      "Targeted Search being executed...\n"
     ]
    },
    {
     "name": "stderr",
     "output_type": "stream",
     "text": [
      "\r",
      " 37%|███▋      | 46/126 [00:12<00:27,  2.90it/s]"
     ]
    },
    {
     "name": "stdout",
     "output_type": "stream",
     "text": [
      "Sliding window being executed...\n"
     ]
    },
    {
     "name": "stderr",
     "output_type": "stream",
     "text": [
      "\r",
      " 37%|███▋      | 47/126 [00:12<00:26,  2.94it/s]"
     ]
    },
    {
     "name": "stdout",
     "output_type": "stream",
     "text": [
      "Sliding window being executed...\n"
     ]
    },
    {
     "name": "stderr",
     "output_type": "stream",
     "text": [
      "\r",
      " 38%|███▊      | 48/126 [00:13<00:26,  2.92it/s]"
     ]
    },
    {
     "name": "stdout",
     "output_type": "stream",
     "text": [
      "Targeted Search being executed...\n"
     ]
    },
    {
     "name": "stderr",
     "output_type": "stream",
     "text": [
      "\r",
      " 39%|███▉      | 49/126 [00:13<00:26,  2.93it/s]"
     ]
    },
    {
     "name": "stdout",
     "output_type": "stream",
     "text": [
      "Targeted Search being executed...\n"
     ]
    },
    {
     "name": "stderr",
     "output_type": "stream",
     "text": [
      "\r",
      " 40%|███▉      | 50/126 [00:13<00:25,  2.95it/s]"
     ]
    },
    {
     "name": "stdout",
     "output_type": "stream",
     "text": [
      "Targeted Search being executed...\n"
     ]
    },
    {
     "name": "stderr",
     "output_type": "stream",
     "text": [
      "\r",
      " 40%|████      | 51/126 [00:14<00:25,  2.98it/s]"
     ]
    },
    {
     "name": "stdout",
     "output_type": "stream",
     "text": [
      "Targeted Search being executed...\n"
     ]
    },
    {
     "name": "stderr",
     "output_type": "stream",
     "text": [
      "\r",
      " 41%|████▏     | 52/126 [00:14<00:24,  2.98it/s]"
     ]
    },
    {
     "name": "stdout",
     "output_type": "stream",
     "text": [
      "Targeted Search being executed...\n"
     ]
    },
    {
     "name": "stderr",
     "output_type": "stream",
     "text": [
      "\r",
      " 42%|████▏     | 53/126 [00:14<00:25,  2.90it/s]"
     ]
    },
    {
     "name": "stdout",
     "output_type": "stream",
     "text": [
      "Targeted Search being executed...\n"
     ]
    },
    {
     "name": "stderr",
     "output_type": "stream",
     "text": [
      "\r",
      " 43%|████▎     | 54/126 [00:15<00:24,  2.90it/s]"
     ]
    },
    {
     "name": "stdout",
     "output_type": "stream",
     "text": [
      "Targeted Search being executed...\n"
     ]
    },
    {
     "name": "stderr",
     "output_type": "stream",
     "text": [
      "\r",
      " 44%|████▎     | 55/126 [00:15<00:24,  2.93it/s]"
     ]
    },
    {
     "name": "stdout",
     "output_type": "stream",
     "text": [
      "Targeted Search being executed...\n"
     ]
    },
    {
     "name": "stderr",
     "output_type": "stream",
     "text": [
      "\r",
      " 44%|████▍     | 56/126 [00:15<00:24,  2.88it/s]"
     ]
    },
    {
     "name": "stdout",
     "output_type": "stream",
     "text": [
      "Sliding window being executed...\n"
     ]
    },
    {
     "name": "stderr",
     "output_type": "stream",
     "text": [
      "\r",
      " 45%|████▌     | 57/126 [00:16<00:23,  2.91it/s]"
     ]
    },
    {
     "name": "stdout",
     "output_type": "stream",
     "text": [
      "Sliding window being executed...\n"
     ]
    },
    {
     "name": "stderr",
     "output_type": "stream",
     "text": [
      "\r",
      " 46%|████▌     | 58/126 [00:16<00:23,  2.89it/s]"
     ]
    },
    {
     "name": "stdout",
     "output_type": "stream",
     "text": [
      "Sliding window being executed...\n"
     ]
    },
    {
     "name": "stderr",
     "output_type": "stream",
     "text": [
      "\r",
      " 47%|████▋     | 59/126 [00:16<00:23,  2.85it/s]"
     ]
    },
    {
     "name": "stdout",
     "output_type": "stream",
     "text": [
      "Sliding window being executed...\n"
     ]
    },
    {
     "name": "stderr",
     "output_type": "stream",
     "text": [
      "\r",
      " 48%|████▊     | 60/126 [00:17<00:22,  2.91it/s]"
     ]
    },
    {
     "name": "stdout",
     "output_type": "stream",
     "text": [
      "Sliding window being executed...\n"
     ]
    },
    {
     "name": "stderr",
     "output_type": "stream",
     "text": [
      "\r",
      " 48%|████▊     | 61/126 [00:17<00:24,  2.61it/s]"
     ]
    },
    {
     "name": "stdout",
     "output_type": "stream",
     "text": [
      "Targeted Search being executed...\n"
     ]
    },
    {
     "name": "stderr",
     "output_type": "stream",
     "text": [
      "\r",
      " 49%|████▉     | 62/126 [00:17<00:24,  2.67it/s]"
     ]
    },
    {
     "name": "stdout",
     "output_type": "stream",
     "text": [
      "Targeted Search being executed...\n"
     ]
    },
    {
     "name": "stderr",
     "output_type": "stream",
     "text": [
      "\r",
      " 50%|█████     | 63/126 [00:18<00:23,  2.71it/s]"
     ]
    },
    {
     "name": "stdout",
     "output_type": "stream",
     "text": [
      "Targeted Search being executed...\n"
     ]
    },
    {
     "name": "stderr",
     "output_type": "stream",
     "text": [
      "\r",
      " 51%|█████     | 64/126 [00:18<00:22,  2.79it/s]"
     ]
    },
    {
     "name": "stdout",
     "output_type": "stream",
     "text": [
      "Sliding window being executed...\n"
     ]
    },
    {
     "name": "stderr",
     "output_type": "stream",
     "text": [
      "\r",
      " 52%|█████▏    | 65/126 [00:19<00:21,  2.78it/s]"
     ]
    },
    {
     "name": "stdout",
     "output_type": "stream",
     "text": [
      "Sliding window being executed...\n"
     ]
    },
    {
     "name": "stderr",
     "output_type": "stream",
     "text": [
      "\r",
      " 52%|█████▏    | 66/126 [00:19<00:21,  2.84it/s]"
     ]
    },
    {
     "name": "stdout",
     "output_type": "stream",
     "text": [
      "Sliding window being executed...\n"
     ]
    },
    {
     "name": "stderr",
     "output_type": "stream",
     "text": [
      "\r",
      " 53%|█████▎    | 67/126 [00:19<00:20,  2.81it/s]"
     ]
    },
    {
     "name": "stdout",
     "output_type": "stream",
     "text": [
      "Sliding window being executed...\n"
     ]
    },
    {
     "name": "stderr",
     "output_type": "stream",
     "text": [
      "\r",
      " 54%|█████▍    | 68/126 [00:20<00:20,  2.88it/s]"
     ]
    },
    {
     "name": "stdout",
     "output_type": "stream",
     "text": [
      "Targeted Search being executed...\n"
     ]
    },
    {
     "name": "stderr",
     "output_type": "stream",
     "text": [
      "\r",
      " 55%|█████▍    | 69/126 [00:20<00:20,  2.85it/s]"
     ]
    },
    {
     "name": "stdout",
     "output_type": "stream",
     "text": [
      "Targeted Search being executed...\n"
     ]
    },
    {
     "name": "stderr",
     "output_type": "stream",
     "text": [
      "\r",
      " 56%|█████▌    | 70/126 [00:20<00:19,  2.88it/s]"
     ]
    },
    {
     "name": "stdout",
     "output_type": "stream",
     "text": [
      "Sliding window being executed...\n"
     ]
    },
    {
     "name": "stderr",
     "output_type": "stream",
     "text": [
      "\r",
      " 56%|█████▋    | 71/126 [00:21<00:19,  2.83it/s]"
     ]
    },
    {
     "name": "stdout",
     "output_type": "stream",
     "text": [
      "Sliding window being executed...\n"
     ]
    },
    {
     "name": "stderr",
     "output_type": "stream",
     "text": [
      "\r",
      " 57%|█████▋    | 72/126 [00:21<00:18,  2.88it/s]"
     ]
    },
    {
     "name": "stdout",
     "output_type": "stream",
     "text": [
      "Targeted Search being executed...\n"
     ]
    },
    {
     "name": "stderr",
     "output_type": "stream",
     "text": [
      "\r",
      " 58%|█████▊    | 73/126 [00:21<00:18,  2.83it/s]"
     ]
    },
    {
     "name": "stdout",
     "output_type": "stream",
     "text": [
      "Sliding window being executed...\n"
     ]
    },
    {
     "name": "stderr",
     "output_type": "stream",
     "text": [
      "\r",
      " 59%|█████▊    | 74/126 [00:22<00:18,  2.87it/s]"
     ]
    },
    {
     "name": "stdout",
     "output_type": "stream",
     "text": [
      "Sliding window being executed...\n"
     ]
    },
    {
     "name": "stderr",
     "output_type": "stream",
     "text": [
      "\r",
      " 60%|█████▉    | 75/126 [00:22<00:17,  2.84it/s]"
     ]
    },
    {
     "name": "stdout",
     "output_type": "stream",
     "text": [
      "Sliding window being executed...\n"
     ]
    },
    {
     "name": "stderr",
     "output_type": "stream",
     "text": [
      "\r",
      " 60%|██████    | 76/126 [00:22<00:17,  2.90it/s]"
     ]
    },
    {
     "name": "stdout",
     "output_type": "stream",
     "text": [
      "Sliding window being executed...\n"
     ]
    },
    {
     "name": "stderr",
     "output_type": "stream",
     "text": [
      "\r",
      " 61%|██████    | 77/126 [00:23<00:16,  2.91it/s]"
     ]
    },
    {
     "name": "stdout",
     "output_type": "stream",
     "text": [
      "Targeted Search being executed...\n"
     ]
    },
    {
     "name": "stderr",
     "output_type": "stream",
     "text": [
      "\r",
      " 62%|██████▏   | 78/126 [00:23<00:16,  2.91it/s]"
     ]
    },
    {
     "name": "stdout",
     "output_type": "stream",
     "text": [
      "Sliding window being executed...\n"
     ]
    },
    {
     "name": "stderr",
     "output_type": "stream",
     "text": [
      "\r",
      " 63%|██████▎   | 79/126 [00:23<00:15,  2.94it/s]"
     ]
    },
    {
     "name": "stdout",
     "output_type": "stream",
     "text": [
      "Targeted Search being executed...\n"
     ]
    },
    {
     "name": "stderr",
     "output_type": "stream",
     "text": [
      "\r",
      " 63%|██████▎   | 80/126 [00:24<00:15,  2.92it/s]"
     ]
    },
    {
     "name": "stdout",
     "output_type": "stream",
     "text": [
      "Targeted Search being executed...\n"
     ]
    },
    {
     "name": "stderr",
     "output_type": "stream",
     "text": [
      "\r",
      " 64%|██████▍   | 81/126 [00:24<00:15,  2.95it/s]"
     ]
    },
    {
     "name": "stdout",
     "output_type": "stream",
     "text": [
      "Targeted Search being executed...\n"
     ]
    },
    {
     "name": "stderr",
     "output_type": "stream",
     "text": [
      "\r",
      " 65%|██████▌   | 82/126 [00:24<00:15,  2.92it/s]"
     ]
    },
    {
     "name": "stdout",
     "output_type": "stream",
     "text": [
      "Targeted Search being executed...\n"
     ]
    },
    {
     "name": "stderr",
     "output_type": "stream",
     "text": [
      "\r",
      " 66%|██████▌   | 83/126 [00:25<00:15,  2.86it/s]"
     ]
    },
    {
     "name": "stdout",
     "output_type": "stream",
     "text": [
      "Targeted Search being executed...\n"
     ]
    },
    {
     "name": "stderr",
     "output_type": "stream",
     "text": [
      "\r",
      " 67%|██████▋   | 84/126 [00:25<00:14,  2.88it/s]"
     ]
    },
    {
     "name": "stdout",
     "output_type": "stream",
     "text": [
      "Targeted Search being executed...\n"
     ]
    },
    {
     "name": "stderr",
     "output_type": "stream",
     "text": [
      "\r",
      " 67%|██████▋   | 85/126 [00:25<00:14,  2.92it/s]"
     ]
    },
    {
     "name": "stdout",
     "output_type": "stream",
     "text": [
      "Targeted Search being executed...\n"
     ]
    },
    {
     "name": "stderr",
     "output_type": "stream",
     "text": [
      "\r",
      " 68%|██████▊   | 86/126 [00:26<00:13,  2.92it/s]"
     ]
    },
    {
     "name": "stdout",
     "output_type": "stream",
     "text": [
      "Targeted Search being executed...\n"
     ]
    },
    {
     "name": "stderr",
     "output_type": "stream",
     "text": [
      "\r",
      " 69%|██████▉   | 87/126 [00:26<00:13,  2.97it/s]"
     ]
    },
    {
     "name": "stdout",
     "output_type": "stream",
     "text": [
      "Targeted Search being executed...\n"
     ]
    },
    {
     "name": "stderr",
     "output_type": "stream",
     "text": [
      "\r",
      " 70%|██████▉   | 88/126 [00:26<00:12,  2.97it/s]"
     ]
    },
    {
     "name": "stdout",
     "output_type": "stream",
     "text": [
      "Targeted Search being executed...\n"
     ]
    },
    {
     "name": "stderr",
     "output_type": "stream",
     "text": [
      "\r",
      " 71%|███████   | 89/126 [00:27<00:12,  3.00it/s]"
     ]
    },
    {
     "name": "stdout",
     "output_type": "stream",
     "text": [
      "Targeted Search being executed...\n"
     ]
    },
    {
     "name": "stderr",
     "output_type": "stream",
     "text": [
      "\r",
      " 71%|███████▏  | 90/126 [00:27<00:11,  3.01it/s]"
     ]
    },
    {
     "name": "stdout",
     "output_type": "stream",
     "text": [
      "Targeted Search being executed...\n"
     ]
    },
    {
     "name": "stderr",
     "output_type": "stream",
     "text": [
      "\r",
      " 72%|███████▏  | 91/126 [00:27<00:11,  3.03it/s]"
     ]
    },
    {
     "name": "stdout",
     "output_type": "stream",
     "text": [
      "Targeted Search being executed...\n"
     ]
    },
    {
     "name": "stderr",
     "output_type": "stream",
     "text": [
      "\r",
      " 73%|███████▎  | 92/126 [00:28<00:11,  3.02it/s]"
     ]
    },
    {
     "name": "stdout",
     "output_type": "stream",
     "text": [
      "Targeted Search being executed...\n"
     ]
    },
    {
     "name": "stderr",
     "output_type": "stream",
     "text": [
      "\r",
      " 74%|███████▍  | 93/126 [00:28<00:10,  3.02it/s]"
     ]
    },
    {
     "name": "stdout",
     "output_type": "stream",
     "text": [
      "Targeted Search being executed...\n"
     ]
    },
    {
     "name": "stderr",
     "output_type": "stream",
     "text": [
      "\r",
      " 75%|███████▍  | 94/126 [00:28<00:10,  2.99it/s]"
     ]
    },
    {
     "name": "stdout",
     "output_type": "stream",
     "text": [
      "Targeted Search being executed...\n"
     ]
    },
    {
     "name": "stderr",
     "output_type": "stream",
     "text": [
      "\r",
      " 75%|███████▌  | 95/126 [00:29<00:10,  2.99it/s]"
     ]
    },
    {
     "name": "stdout",
     "output_type": "stream",
     "text": [
      "Targeted Search being executed...\n"
     ]
    },
    {
     "name": "stderr",
     "output_type": "stream",
     "text": [
      "\r",
      " 76%|███████▌  | 96/126 [00:29<00:10,  2.98it/s]"
     ]
    },
    {
     "name": "stdout",
     "output_type": "stream",
     "text": [
      "Targeted Search being executed...\n"
     ]
    },
    {
     "name": "stderr",
     "output_type": "stream",
     "text": [
      "\r",
      " 77%|███████▋  | 97/126 [00:29<00:09,  2.98it/s]"
     ]
    },
    {
     "name": "stdout",
     "output_type": "stream",
     "text": [
      "Targeted Search being executed...\n"
     ]
    },
    {
     "name": "stderr",
     "output_type": "stream",
     "text": [
      "\r",
      " 78%|███████▊  | 98/126 [00:30<00:09,  2.96it/s]"
     ]
    },
    {
     "name": "stdout",
     "output_type": "stream",
     "text": [
      "Targeted Search being executed...\n"
     ]
    },
    {
     "name": "stderr",
     "output_type": "stream",
     "text": [
      "\r",
      " 79%|███████▊  | 99/126 [00:30<00:09,  2.97it/s]"
     ]
    },
    {
     "name": "stdout",
     "output_type": "stream",
     "text": [
      "Targeted Search being executed...\n"
     ]
    },
    {
     "name": "stderr",
     "output_type": "stream",
     "text": [
      "\r",
      " 79%|███████▉  | 100/126 [00:30<00:08,  2.92it/s]"
     ]
    },
    {
     "name": "stdout",
     "output_type": "stream",
     "text": [
      "Targeted Search being executed...\n"
     ]
    },
    {
     "name": "stderr",
     "output_type": "stream",
     "text": [
      "\r",
      " 80%|████████  | 101/126 [00:31<00:08,  2.96it/s]"
     ]
    },
    {
     "name": "stdout",
     "output_type": "stream",
     "text": [
      "Targeted Search being executed...\n"
     ]
    },
    {
     "name": "stderr",
     "output_type": "stream",
     "text": [
      "\r",
      " 81%|████████  | 102/126 [00:31<00:08,  2.91it/s]"
     ]
    },
    {
     "name": "stdout",
     "output_type": "stream",
     "text": [
      "Targeted Search being executed...\n"
     ]
    },
    {
     "name": "stderr",
     "output_type": "stream",
     "text": [
      "\r",
      " 82%|████████▏ | 103/126 [00:31<00:07,  2.95it/s]"
     ]
    },
    {
     "name": "stdout",
     "output_type": "stream",
     "text": [
      "Targeted Search being executed...\n"
     ]
    },
    {
     "name": "stderr",
     "output_type": "stream",
     "text": [
      "\r",
      " 83%|████████▎ | 104/126 [00:32<00:07,  2.95it/s]"
     ]
    },
    {
     "name": "stdout",
     "output_type": "stream",
     "text": [
      "Targeted Search being executed...\n"
     ]
    },
    {
     "name": "stderr",
     "output_type": "stream",
     "text": [
      "\r",
      " 83%|████████▎ | 105/126 [00:32<00:07,  2.95it/s]"
     ]
    },
    {
     "name": "stdout",
     "output_type": "stream",
     "text": [
      "Targeted Search being executed...\n"
     ]
    },
    {
     "name": "stderr",
     "output_type": "stream",
     "text": [
      "\r",
      " 84%|████████▍ | 106/126 [00:33<00:06,  2.92it/s]"
     ]
    },
    {
     "name": "stdout",
     "output_type": "stream",
     "text": [
      "Targeted Search being executed...\n"
     ]
    },
    {
     "name": "stderr",
     "output_type": "stream",
     "text": [
      "\r",
      " 85%|████████▍ | 107/126 [00:33<00:06,  2.93it/s]"
     ]
    },
    {
     "name": "stdout",
     "output_type": "stream",
     "text": [
      "Targeted Search being executed...\n"
     ]
    },
    {
     "name": "stderr",
     "output_type": "stream",
     "text": [
      "\r",
      " 86%|████████▌ | 108/126 [00:33<00:06,  2.89it/s]"
     ]
    },
    {
     "name": "stdout",
     "output_type": "stream",
     "text": [
      "Targeted Search being executed...\n"
     ]
    },
    {
     "name": "stderr",
     "output_type": "stream",
     "text": [
      "\r",
      " 87%|████████▋ | 109/126 [00:34<00:05,  2.93it/s]"
     ]
    },
    {
     "name": "stdout",
     "output_type": "stream",
     "text": [
      "Targeted Search being executed...\n"
     ]
    },
    {
     "name": "stderr",
     "output_type": "stream",
     "text": [
      "\r",
      " 87%|████████▋ | 110/126 [00:34<00:05,  2.85it/s]"
     ]
    },
    {
     "name": "stdout",
     "output_type": "stream",
     "text": [
      "Targeted Search being executed...\n"
     ]
    },
    {
     "name": "stderr",
     "output_type": "stream",
     "text": [
      "\r",
      " 88%|████████▊ | 111/126 [00:34<00:05,  2.95it/s]"
     ]
    },
    {
     "name": "stdout",
     "output_type": "stream",
     "text": [
      "Targeted Search being executed...\n"
     ]
    },
    {
     "name": "stderr",
     "output_type": "stream",
     "text": [
      "\r",
      " 89%|████████▉ | 112/126 [00:35<00:04,  2.91it/s]"
     ]
    },
    {
     "name": "stdout",
     "output_type": "stream",
     "text": [
      "Targeted Search being executed...\n"
     ]
    },
    {
     "name": "stderr",
     "output_type": "stream",
     "text": [
      "\r",
      " 90%|████████▉ | 113/126 [00:35<00:04,  2.83it/s]"
     ]
    },
    {
     "name": "stdout",
     "output_type": "stream",
     "text": [
      "Targeted Search being executed...\n"
     ]
    },
    {
     "name": "stderr",
     "output_type": "stream",
     "text": [
      "\r",
      " 90%|█████████ | 114/126 [00:35<00:04,  2.81it/s]"
     ]
    },
    {
     "name": "stdout",
     "output_type": "stream",
     "text": [
      "Targeted Search being executed...\n"
     ]
    },
    {
     "name": "stderr",
     "output_type": "stream",
     "text": [
      "\r",
      " 91%|█████████▏| 115/126 [00:36<00:03,  2.93it/s]"
     ]
    },
    {
     "name": "stdout",
     "output_type": "stream",
     "text": [
      "Targeted Search being executed...\n"
     ]
    },
    {
     "name": "stderr",
     "output_type": "stream",
     "text": [
      "\r",
      " 92%|█████████▏| 116/126 [00:36<00:03,  2.88it/s]"
     ]
    },
    {
     "name": "stdout",
     "output_type": "stream",
     "text": [
      "Targeted Search being executed...\n"
     ]
    },
    {
     "name": "stderr",
     "output_type": "stream",
     "text": [
      "\r",
      " 93%|█████████▎| 117/126 [00:36<00:03,  2.93it/s]"
     ]
    },
    {
     "name": "stdout",
     "output_type": "stream",
     "text": [
      "Targeted Search being executed...\n"
     ]
    },
    {
     "name": "stderr",
     "output_type": "stream",
     "text": [
      "\r",
      " 94%|█████████▎| 118/126 [00:37<00:02,  2.87it/s]"
     ]
    },
    {
     "name": "stdout",
     "output_type": "stream",
     "text": [
      "Targeted Search being executed...\n"
     ]
    },
    {
     "name": "stderr",
     "output_type": "stream",
     "text": [
      "\r",
      " 94%|█████████▍| 119/126 [00:37<00:02,  2.56it/s]"
     ]
    },
    {
     "name": "stdout",
     "output_type": "stream",
     "text": [
      "Targeted Search being executed...\n"
     ]
    },
    {
     "name": "stderr",
     "output_type": "stream",
     "text": [
      "\r",
      " 95%|█████████▌| 120/126 [00:38<00:02,  2.52it/s]"
     ]
    },
    {
     "name": "stdout",
     "output_type": "stream",
     "text": [
      "Targeted Search being executed...\n"
     ]
    },
    {
     "name": "stderr",
     "output_type": "stream",
     "text": [
      "\r",
      " 96%|█████████▌| 121/126 [00:38<00:01,  2.58it/s]"
     ]
    },
    {
     "name": "stdout",
     "output_type": "stream",
     "text": [
      "Targeted Search being executed...\n"
     ]
    },
    {
     "name": "stderr",
     "output_type": "stream",
     "text": [
      "\r",
      " 97%|█████████▋| 122/126 [00:38<00:01,  2.71it/s]"
     ]
    },
    {
     "name": "stdout",
     "output_type": "stream",
     "text": [
      "Targeted Search being executed...\n"
     ]
    },
    {
     "name": "stderr",
     "output_type": "stream",
     "text": [
      "\r",
      " 98%|█████████▊| 123/126 [00:39<00:01,  2.74it/s]"
     ]
    },
    {
     "name": "stdout",
     "output_type": "stream",
     "text": [
      "Targeted Search being executed...\n"
     ]
    },
    {
     "name": "stderr",
     "output_type": "stream",
     "text": [
      "\r",
      " 98%|█████████▊| 124/126 [00:39<00:00,  2.76it/s]"
     ]
    },
    {
     "name": "stdout",
     "output_type": "stream",
     "text": [
      "Targeted Search being executed...\n"
     ]
    },
    {
     "name": "stderr",
     "output_type": "stream",
     "text": [
      "\r",
      " 99%|█████████▉| 125/126 [00:39<00:00,  2.75it/s]"
     ]
    },
    {
     "name": "stdout",
     "output_type": "stream",
     "text": [
      "Targeted Search being executed...\n"
     ]
    },
    {
     "name": "stderr",
     "output_type": "stream",
     "text": [
      "\n"
     ]
    },
    {
     "name": "stdout",
     "output_type": "stream",
     "text": [
      "[MoviePy] Done.\n",
      "[MoviePy] >>>> Video ready: Project_Output_Videos/project_video_subclip_bad_stretch1.mp4 \n",
      "\n",
      "CPU times: user 23.7 s, sys: 5.48 s, total: 29.2 s\n",
      "Wall time: 43.1 s\n"
     ]
    }
   ],
   "source": [
    "# Resetting class attributes\n",
    "left_lane.reset()\n",
    "right_lane.reset()\n",
    "Sanity.reset()\n",
    "\n",
    "project_output = 'Project_Output_Videos/project_video_subclip_bad_stretch1.mp4'\n",
    "## To speed up the testing process you may want to try your pipeline on a shorter subclip of the video\n",
    "## To do so add .subclip(start_second,end_second) to the end of the line below\n",
    "## Where start_second and end_second are integer values representing the start and end of the subclip\n",
    "## You may also uncomment the following line for a subclip of the first 5 seconds\n",
    "##clip1 = VideoFileClip(\"test_videos/solidWhiteRight.mp4\").subclip(0,5)\n",
    "clip1 = VideoFileClip(\"project_video.mp4\").subclip(20,25)\n",
    "white_clip = clip1.fl_image(lane_detector) #NOTE: this function expects color images!!\n",
    "%time white_clip.write_videofile(project_output, audio=False)"
   ]
  },
  {
   "cell_type": "code",
   "execution_count": 10,
   "metadata": {},
   "outputs": [],
   "source": [
    "# Resetting class attributes\n",
    "left_lane.reset()\n",
    "right_lane.reset()\n",
    "Sanity.reset()"
   ]
  },
  {
   "cell_type": "code",
   "execution_count": 11,
   "metadata": {
    "scrolled": false
   },
   "outputs": [
    {
     "data": {
      "text/html": [
       "\n",
       "<video width=\"960\" height=\"540\" controls>\n",
       "  <source src=\"Project_Output_Videos/project_video_subclip_bad_stretch1.mp4\">\n",
       "</video>\n"
      ],
      "text/plain": [
       "<IPython.core.display.HTML object>"
      ]
     },
     "execution_count": 11,
     "metadata": {},
     "output_type": "execute_result"
    }
   ],
   "source": [
    "HTML(\"\"\"\n",
    "<video width=\"960\" height=\"540\" controls>\n",
    "  <source src=\"{0}\">\n",
    "</video>\n",
    "\"\"\".format(project_output))"
   ]
  },
  {
   "cell_type": "markdown",
   "metadata": {},
   "source": [
    "## Challenge Video"
   ]
  },
  {
   "cell_type": "code",
   "execution_count": null,
   "metadata": {},
   "outputs": [],
   "source": [
    "challenge_output = 'Project_Output_Videos/challenge_video.mp4'\n",
    "## To speed up the testing process you may want to try your pipeline on a shorter subclip of the video\n",
    "## To do so add .subclip(start_second,end_second) to the end of the line below\n",
    "## Where start_second and end_second are integer values representing the start and end of the subclip\n",
    "## You may also uncomment the following line for a subclip of the first 5 seconds\n",
    "##clip1 = VideoFileClip(\"test_videos/solidWhiteRight.mp4\").subclip(0,5)\n",
    "clip2 = VideoFileClip(\"challenge_video.mp4\")\n",
    "white_clip = clip2.fl_image(lane_detector) #NOTE: this function expects color images!!\n",
    "%time white_clip.write_videofile(challenge_output, audio=False)"
   ]
  },
  {
   "cell_type": "code",
   "execution_count": null,
   "metadata": {},
   "outputs": [],
   "source": [
    "HTML(\"\"\"\n",
    "<video width=\"960\" height=\"540\" controls>\n",
    "  <source src=\"{0}\">\n",
    "</video>\n",
    "\"\"\".format(challenge_output))"
   ]
  },
  {
   "cell_type": "markdown",
   "metadata": {},
   "source": [
    "## HARDER CHALLENGE"
   ]
  },
  {
   "cell_type": "code",
   "execution_count": null,
   "metadata": {},
   "outputs": [],
   "source": [
    "harder_challenge_output = 'Project_Output_Videos/harder_challenge_video.mp4'\n",
    "## To speed up the testing process you may want to try your pipeline on a shorter subclip of the video\n",
    "## To do so add .subclip(start_second,end_second) to the end of the line below\n",
    "## Where start_second and end_second are integer values representing the start and end of the subclip\n",
    "## You may also uncomment the following line for a subclip of the first 5 seconds\n",
    "##clip1 = VideoFileClip(\"test_videos/solidWhiteRight.mp4\").subclip(0,5)\n",
    "clip3 = VideoFileClip(\"harder_challenge_video.mp4\")\n",
    "white_clip = clip3.fl_image(lane_detector) #NOTE: this function expects color images!!\n",
    "%time white_clip.write_videofile(harder_challenge_output, audio=False)"
   ]
  },
  {
   "cell_type": "code",
   "execution_count": null,
   "metadata": {},
   "outputs": [],
   "source": [
    "HTML(\"\"\"\n",
    "<video width=\"960\" height=\"540\" controls>\n",
    "  <source src=\"{0}\">\n",
    "</video>\n",
    "\"\"\".format(harder_challenge_output))"
   ]
  },
  {
   "cell_type": "markdown",
   "metadata": {},
   "source": [
    "## MISC"
   ]
  },
  {
   "cell_type": "code",
   "execution_count": null,
   "metadata": {},
   "outputs": [],
   "source": [
    "# def find_lane_pixels(binary_warped):\n",
    "\n",
    "#     histogram = np.sum(binary_warped[binary_warped.shape[0]//2:,:], axis=0)\n",
    "#     out_img = np.dstack((binary_warped*255, binary_warped*255, binary_warped*255))\n",
    "#     midpoint = np.int(histogram.shape[0]//2)\n",
    "#     leftx_base = np.argmax((histogram[:midpoint]))\n",
    "#     print(leftx_base)\n",
    "#     rightx_base = np.argmax((histogram[midpoint:])) + midpoint\n",
    "#     print(rightx_base)\n",
    "\n",
    "#     # HYPERPARAMETERS\n",
    "#     nwindows = 4\n",
    "#     margin = 100\n",
    "#     minpix = 100\n",
    "\n",
    "#     window_height = np.int(binary_warped.shape[0]//nwindows)\n",
    "#     nonzero = binary_warped.nonzero() # indices at which binar_warped has nonzero elements\n",
    "#     nonzeroy = np.array(nonzero[0]) # indices of nonzero elements of \n",
    "#     # rows of binary_warped \n",
    "#     nonzerox = np.array(nonzero[1]) # indices of nonzero elements of colums\n",
    "#     # of binary_warped\n",
    "#     leftx_current = leftx_base\n",
    "#     rightx_current = rightx_base\n",
    "\n",
    "#     #Empty lists to receive left and right lane pixel indices\n",
    "#     left_lane_inds = []\n",
    "#     right_lane_inds = []\n",
    "\n",
    "#     left_flag = 1\n",
    "#     right_flag = 1\n",
    "\n",
    "#     # Step through the left windows one by one\n",
    "#     for window in range(nwindows):\n",
    "\n",
    "#         if left_flag == 0:\n",
    "#             break\n",
    "\n",
    "#         win_y_low = binary_warped.shape[0] - (window+1)*window_height \n",
    "#         win_y_high = binary_warped.shape[0] - window*window_height\n",
    "#         win_xleft_low = leftx_current - (margin) \n",
    "#         win_xleft_high = leftx_current + (margin)  \n",
    "\n",
    "# #         cv2.rectangle(out_img,(win_xleft_low,win_y_low),(win_xleft_high,win_y_high),(0,255,0), 7) \n",
    "\n",
    "#         good_left_inds = ((nonzeroy >= win_y_low) & (nonzeroy < win_y_high) & (nonzerox >= win_xleft_low) &  (nonzerox < win_xleft_high)).nonzero()[0]\n",
    "\n",
    "#         left_lane_inds.append(good_left_inds)\n",
    "\n",
    "#         if len(good_left_inds) > minpix:\n",
    "#             leftx_current = np.int(np.mean(nonzerox[good_left_inds]))\n",
    "#         # Flag reset for high curvature lane ie lane out of frame    \n",
    "#         if len(good_left_inds) == 0:\n",
    "#             left_flag = 0\n",
    "\n",
    "#     for window in range(nwindows):\n",
    "#         if right_flag == 0:\n",
    "#             break\n",
    "\n",
    "#         win_y_low = binary_warped.shape[0] - (window+1)*window_height\n",
    "#         win_y_high = binary_warped.shape[0] - window*window_height\n",
    "#         win_xright_low = rightx_current - (margin) \n",
    "#         win_xright_high = rightx_current + (margin) \n",
    "\n",
    "# #         cv2.rectangle(out_img,(win_xright_low,win_y_low), (win_xright_high,win_y_high),(0,255,0), 7) \n",
    "\n",
    "#         good_right_inds = ((nonzeroy >= win_y_low) & (nonzeroy < win_y_high) & (nonzerox >= win_xright_low) &  (nonzerox < win_xright_high)).nonzero()[0]\n",
    "\n",
    "#         right_lane_inds.append(good_right_inds)\n",
    "\n",
    "#         if len(good_right_inds) > minpix:\n",
    "#             rightx_current = np.int(np.mean(nonzerox[good_right_inds]))\n",
    "#         # Flag reset for large curvature lane ie lane out of frame\n",
    "#         if len(good_right_inds) == 0:\n",
    "#             right_flag = 0   \n",
    "\n",
    "#     # Concatenate the arrays of indices (previously was a list of lists of pixels)\n",
    "#     try:\n",
    "#         left_lane_inds = np.concatenate(left_lane_inds)\n",
    "#         right_lane_inds = np.concatenate(right_lane_inds)\n",
    "#     except ValueError:\n",
    "#         pass\n",
    "\n",
    "#     leftx = nonzerox[left_lane_inds]\n",
    "#     lefty = nonzeroy[left_lane_inds] \n",
    "#     rightx = nonzerox[right_lane_inds]\n",
    "#     righty = nonzeroy[right_lane_inds]\n",
    "\n",
    "#     return leftx, lefty, rightx, righty, out_img\n",
    "\n",
    "# def fit_polynomial(binary_warped):\n",
    "#     # Find our lane pixels first\n",
    "#     leftx, lefty, rightx, righty, out_img = find_lane_pixels(binary_warped)\n",
    "\n",
    "#     ### TO-DO: Fit a second order polynomial to each using `np.polyfit` ###\n",
    "#     left_fit = np.polyfit(lefty,leftx,2)\n",
    "#     right_fit = np.polyfit(righty,rightx,2)\n",
    "\n",
    "#     # Generate x and y values for plotting\n",
    "#     ploty = np.linspace(0, binary_warped.shape[0]-1, binary_warped.shape[0] )\n",
    "#     try:\n",
    "#         left_fitx = left_fit[0]*ploty**2 + left_fit[1]*ploty + left_fit[2]\n",
    "#         right_fitx = right_fit[0]*ploty**2 + right_fit[1]*ploty + right_fit[2]\n",
    "#         fit_flag = 0\n",
    "#     except TypeError:\n",
    "#         # Avoids an error if `left` and `right_fit` are still none or incorrect\n",
    "#         print('The function failed to fit a line!')\n",
    "#         fit_flag = 1\n",
    "#         left_fitx = 1*ploty**2 + 1*ploty\n",
    "#         right_fitx = 1*ploty**2 + 1*ploty\n",
    "\n",
    "# #         ## Visualization ##\n",
    "# #     # Create an image to draw on and an image to show the selection window\n",
    "# #     window_img = np.zeros_like(out_img)\n",
    "# #     # Color in left and right line pixels\n",
    "# #     out_img[lefty, leftx] = [255, 0, 0]\n",
    "# #     out_img[righty, rightx] = [0, 0, 255]\n",
    "    \n",
    "# #     # Generate a polygon to illustrate the search window area\n",
    "# #     # And recast the x and y points into usable format for cv2.fillPoly()    \n",
    "# #     left_line = np.array([np.transpose(np.vstack([left_fitx, ploty]))])\n",
    "# #     right_line = np.array([np.flipud(np.transpose(np.vstack([right_fitx, \n",
    "# #                               ploty])))])\n",
    "# #     lane_line_pts = np.hstack((left_line, right_line))\n",
    "    \n",
    "# #     # Draw the lane onto the warped blank image\n",
    "# #     cv2.fillPoly(window_img, np.int_([lane_line_pts]), (0,255, 0))\n",
    "# #     result = cv2.addWeighted(out_img, 1, window_img, 0.3, 0)\n",
    "\n",
    "#     return left_fitx, right_fitx, ploty, leftx, lefty, rightx, righty\n",
    "\n",
    "# left_fitx, right_fitx, ploty, leftx, lefty, rightx, righty = fit_polynomial(npersp_trans(sthresh(calibrator(cv2.imread('Video Frame Images/frame577.jpg')))))\n",
    "\n",
    "#     ## Visualization ##\n",
    "# # Create an image to draw on and an image to show the selection window\n",
    "# window_img = np.zeros_like(ctest[3])\n",
    "# # Generate a polygon to illustrate the lane\n",
    "# # And recast the x and y points into usable format for cv2.fillPoly()    \n",
    "# left_line = np.array([np.transpose(np.vstack([left_fitx, ploty]))])\n",
    "# right_line = np.array([np.flipud(np.transpose(np.vstack([right_fitx, \n",
    "#                           ploty])))])\n",
    "# lane_line_pts = np.hstack((left_line, right_line))\n",
    "\n",
    "# # Draw the lane onto the warped blank image\n",
    "# cv2.fillPoly(window_img, np.int_([lane_line_pts]), (0,255, 0))\n",
    "# # Color lane line pixels\n",
    "# # window_img[lefty, leftx] = [255, 0, 0]\n",
    "# # window_img[righty, rightx] = [0, 0, 255]\n",
    "\n",
    "\n",
    "# result = cv2.addWeighted(ctest[3], 1, ninv_persp_trans(window_img), 0.3, 0)\n",
    "# plt.imshow(result)\n",
    "\n",
    "# # plt.imshow(fit_polynomial(persp_trans(sthresh(calibrator(ctest[3])))))\n",
    "\n",
    "# #         ## Visualization ##\n",
    "# #     # Create an image to draw on and an image to show the selection window\n",
    "# #     out_img = np.dstack((img, img, img))*255\n",
    "# #     window_img = np.zeros_like(out_img)\n",
    "# #     # Color in left and right line pixels\n",
    "# #     out_img[lefty, leftx] = [255, 0, 0]\n",
    "# #     out_img[righty, rightx] = [0, 0, 255]\n",
    "    \n",
    "# #     # Generate a polygon to illustrate the search window area\n",
    "# #     # And recast the x and y points into usable format for cv2.fillPoly()    \n",
    "# #     left_line = np.array([np.transpose(np.vstack([left_fitx, ploty]))])\n",
    "# #     right_line = np.array([np.flipud(np.transpose(np.vstack([right_fitx, \n",
    "# #                               ploty])))])\n",
    "# #     lane_line_pts = np.hstack((left_line, right_line))\n",
    "    \n",
    "# #     # Draw the lane onto the warped blank image\n",
    "# #     cv2.fillPoly(window_img, np.int_([lane_line_pts]), (0,255, 0))\n",
    "# #     result = cv2.addWeighted(out_img, 1, window_img, 0.3, 0)\n",
    "        "
   ]
  }
 ],
 "metadata": {
  "kernelspec": {
   "display_name": "Python 3",
   "language": "python",
   "name": "python3"
  },
  "language_info": {
   "codemirror_mode": {
    "name": "ipython",
    "version": 3
   },
   "file_extension": ".py",
   "mimetype": "text/x-python",
   "name": "python",
   "nbconvert_exporter": "python",
   "pygments_lexer": "ipython3",
   "version": "3.6.3"
  }
 },
 "nbformat": 4,
 "nbformat_minor": 2
}
